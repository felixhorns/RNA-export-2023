{
 "cells": [
  {
   "cell_type": "markdown",
   "metadata": {
    "Collapsed": "false"
   },
   "source": [
    "# Count particles of EPN24-MCP with varying numbers of MS2 tags using Big-FISH"
   ]
  },
  {
   "cell_type": "code",
   "execution_count": 1,
   "metadata": {
    "Collapsed": "false"
   },
   "outputs": [],
   "source": [
    "# Note that this uses the \"bigfish\" conda environment"
   ]
  },
  {
   "cell_type": "markdown",
   "metadata": {
    "Collapsed": "false",
    "toc-hr-collapsed": false
   },
   "source": [
    "# Introduction"
   ]
  },
  {
   "cell_type": "markdown",
   "metadata": {
    "Collapsed": "false"
   },
   "source": [
    "## Imports"
   ]
  },
  {
   "cell_type": "code",
   "execution_count": 2,
   "metadata": {
    "Collapsed": "false"
   },
   "outputs": [],
   "source": [
    "import sys\n",
    "import os\n",
    "import time\n",
    "\n",
    "import numpy as np\n",
    "import scipy\n",
    "import pandas as pd\n",
    "\n",
    "%matplotlib inline\n",
    "from matplotlib import pyplot as plt\n",
    "import matplotlib as mpl\n",
    "import seaborn as sns"
   ]
  },
  {
   "cell_type": "code",
   "execution_count": 3,
   "metadata": {
    "Collapsed": "false"
   },
   "outputs": [],
   "source": [
    "import skimage\n",
    "import nd2\n",
    "import bigfish\n",
    "import bigfish.stack as stack\n",
    "import bigfish.detection as detection\n",
    "import bigfish.multistack as multistack\n",
    "import bigfish.plot as plot\n",
    "from skimage import morphology"
   ]
  },
  {
   "cell_type": "markdown",
   "metadata": {
    "Collapsed": "false"
   },
   "source": [
    "## Set output parameters"
   ]
  },
  {
   "cell_type": "code",
   "execution_count": 4,
   "metadata": {
    "Collapsed": "false"
   },
   "outputs": [],
   "source": [
    "# Set pandas display options\n",
    "pd.set_option('display.max_rows', 30)\n",
    "pd.set_option('display.max_columns', 100)\n",
    "pd.set_option('display.width', 1000)\n",
    "\n",
    "# Set plot display options\n",
    "FONTSIZE = 8  # universal fontsize\n",
    "params = {\n",
    "    'font.size': FONTSIZE,\n",
    "    'axes.titlesize': FONTSIZE,\n",
    "    'axes.labelsize': FONTSIZE,\n",
    "    'legend.fontsize': FONTSIZE,\n",
    "    'xtick.labelsize': FONTSIZE,\n",
    "    'ytick.labelsize': FONTSIZE,\n",
    "    'font.family': \"Helvetica\",\n",
    "    'mathtext.fontset': 'custom',\n",
    "    'pdf.fonttype': 42,\n",
    "    'ps.fonttype': 42,\n",
    "    'figure.dpi': 300\n",
    "   }\n",
    "mpl.rcParams.update(params)\n",
    "sns.set_style(\"ticks\", {'axes.grid' : False})\n",
    "\n",
    "# Set plot output options\n",
    "output_dir = \"outs/imaging_EPN24MCP_particles\"\n",
    "output_suffix = \"\"\n",
    "output_formats = [\".png\", \".pdf\"]\n",
    "\n",
    "mpl.rc('savefig', dpi=300)\n",
    "\n",
    "# Define convenience function for saving figures\n",
    "\n",
    "savefig = True\n",
    "savefig_args = {\"dpi\": 300, \"bbox_inches\": \"tight\", \"pad_inches\": 0.1}\n",
    "\n",
    "def save_figure(fig, name, output_dir=output_dir, output_suffix=output_suffix, output_formats=output_formats, savefig_args=savefig_args):\n",
    "    if savefig:\n",
    "        for output_format in output_formats:\n",
    "            fig.savefig(output_dir + \"/\" + name + output_suffix + output_format, **savefig_args)\n",
    "    return None"
   ]
  },
  {
   "cell_type": "code",
   "execution_count": 5,
   "metadata": {
    "Collapsed": "false"
   },
   "outputs": [
    {
     "data": {
      "text/plain": [
       "{'font.size': 8.0,\n",
       " 'axes.labelsize': 8.0,\n",
       " 'axes.titlesize': 8.0,\n",
       " 'xtick.labelsize': 8.0,\n",
       " 'ytick.labelsize': 8.0,\n",
       " 'legend.fontsize': 8.0,\n",
       " 'legend.title_fontsize': None,\n",
       " 'axes.linewidth': 0.8,\n",
       " 'grid.linewidth': 0.8,\n",
       " 'lines.linewidth': 1.5,\n",
       " 'lines.markersize': 6.0,\n",
       " 'patch.linewidth': 1.0,\n",
       " 'xtick.major.width': 0.8,\n",
       " 'ytick.major.width': 0.8,\n",
       " 'xtick.minor.width': 0.6,\n",
       " 'ytick.minor.width': 0.6,\n",
       " 'xtick.major.size': 3.5,\n",
       " 'ytick.major.size': 3.5,\n",
       " 'xtick.minor.size': 2.0,\n",
       " 'ytick.minor.size': 2.0}"
      ]
     },
     "execution_count": 5,
     "metadata": {},
     "output_type": "execute_result"
    }
   ],
   "source": [
    "# Report plot parameters\n",
    "sns.plotting_context()"
   ]
  },
  {
   "cell_type": "markdown",
   "metadata": {
    "Collapsed": "false"
   },
   "source": [
    "# Define pipeline"
   ]
  },
  {
   "cell_type": "code",
   "execution_count": 6,
   "metadata": {
    "Collapsed": "false"
   },
   "outputs": [],
   "source": [
    "def load_filter_detect_spots(infile, threshold=None, title=None, do_plot=False):\n",
    "    \n",
    "    # Load image\n",
    "    im = nd2.imread(infile)\n",
    "\n",
    "    # Filter to remove large objects\n",
    "    footprint = morphology.disk(5)\n",
    "    im_tophat = morphology.white_tophat(im, footprint)\n",
    "\n",
    "    # Detect spots\n",
    "    spots, threshold = detection.detect_spots(\n",
    "    images=im_tophat, \n",
    "    threshold=threshold,\n",
    "    return_threshold=True, \n",
    "    voxel_size=(107.6, 107.6),  # in nanometer (one value per dimension yx)\n",
    "    spot_radius=(100, 100))  # in nanometer (one value per dimension yx)\n",
    "\n",
    "    # Plot detection\n",
    "    if do_plot:\n",
    "        plot.plot_detection(im_tophat, spots, rescale=True, contrast=True, color=\"g\", title=title)\n",
    "        \n",
    "    n_spots = spots.shape[0]\n",
    "    \n",
    "    # Cleanup\n",
    "    del im\n",
    "    del im_tophat\n",
    "    del spots\n",
    "    \n",
    "    return n_spots, threshold"
   ]
  },
  {
   "cell_type": "markdown",
   "metadata": {
    "Collapsed": "false"
   },
   "source": [
    "# Load sample metadata"
   ]
  },
  {
   "cell_type": "code",
   "execution_count": 7,
   "metadata": {
    "Collapsed": "false"
   },
   "outputs": [
    {
     "name": "stdout",
     "output_type": "stream",
     "text": [
      "(16, 6)\n"
     ]
    },
    {
     "data": {
      "text/html": [
       "<div>\n",
       "<style scoped>\n",
       "    .dataframe tbody tr th:only-of-type {\n",
       "        vertical-align: middle;\n",
       "    }\n",
       "\n",
       "    .dataframe tbody tr th {\n",
       "        vertical-align: top;\n",
       "    }\n",
       "\n",
       "    .dataframe thead th {\n",
       "        text-align: right;\n",
       "    }\n",
       "</style>\n",
       "<table border=\"1\" class=\"dataframe\">\n",
       "  <thead>\n",
       "    <tr style=\"text-align: right;\">\n",
       "      <th></th>\n",
       "      <th>Sample</th>\n",
       "      <th>Reporter</th>\n",
       "      <th>n_MS2</th>\n",
       "      <th>n_MS2_pos</th>\n",
       "      <th>fov</th>\n",
       "      <th>path_to_infile</th>\n",
       "    </tr>\n",
       "  </thead>\n",
       "  <tbody>\n",
       "    <tr>\n",
       "      <th>0</th>\n",
       "      <td>EPN24-MCP + mCh-MS2x12</td>\n",
       "      <td>mCh-MS2x12</td>\n",
       "      <td>12</td>\n",
       "      <td>12</td>\n",
       "      <td>1</td>\n",
       "      <td>../imaging_data/imaging_EPN24MCP_particles/Sam...</td>\n",
       "    </tr>\n",
       "    <tr>\n",
       "      <th>1</th>\n",
       "      <td>EPN24-MCP + mCh-MS2x12</td>\n",
       "      <td>mCh-MS2x12</td>\n",
       "      <td>12</td>\n",
       "      <td>12</td>\n",
       "      <td>2</td>\n",
       "      <td>../imaging_data/imaging_EPN24MCP_particles/Sam...</td>\n",
       "    </tr>\n",
       "    <tr>\n",
       "      <th>2</th>\n",
       "      <td>EPN24-MCP + mCh-MS2x12</td>\n",
       "      <td>mCh-MS2x12</td>\n",
       "      <td>12</td>\n",
       "      <td>12</td>\n",
       "      <td>3</td>\n",
       "      <td>../imaging_data/imaging_EPN24MCP_particles/Sam...</td>\n",
       "    </tr>\n",
       "    <tr>\n",
       "      <th>3</th>\n",
       "      <td>EPN24-MCP + mCh-MS2x4</td>\n",
       "      <td>mCh-MS2x4</td>\n",
       "      <td>4</td>\n",
       "      <td>4</td>\n",
       "      <td>1</td>\n",
       "      <td>../imaging_data/imaging_EPN24MCP_particles/Sam...</td>\n",
       "    </tr>\n",
       "    <tr>\n",
       "      <th>4</th>\n",
       "      <td>EPN24-MCP + mCh-MS2x4</td>\n",
       "      <td>mCh-MS2x4</td>\n",
       "      <td>4</td>\n",
       "      <td>4</td>\n",
       "      <td>2</td>\n",
       "      <td>../imaging_data/imaging_EPN24MCP_particles/Sam...</td>\n",
       "    </tr>\n",
       "  </tbody>\n",
       "</table>\n",
       "</div>"
      ],
      "text/plain": [
       "                   Sample    Reporter  n_MS2  n_MS2_pos  fov                                     path_to_infile\n",
       "0  EPN24-MCP + mCh-MS2x12  mCh-MS2x12     12         12    1  ../imaging_data/imaging_EPN24MCP_particles/Sam...\n",
       "1  EPN24-MCP + mCh-MS2x12  mCh-MS2x12     12         12    2  ../imaging_data/imaging_EPN24MCP_particles/Sam...\n",
       "2  EPN24-MCP + mCh-MS2x12  mCh-MS2x12     12         12    3  ../imaging_data/imaging_EPN24MCP_particles/Sam...\n",
       "3   EPN24-MCP + mCh-MS2x4   mCh-MS2x4      4          4    1  ../imaging_data/imaging_EPN24MCP_particles/Sam...\n",
       "4   EPN24-MCP + mCh-MS2x4   mCh-MS2x4      4          4    2  ../imaging_data/imaging_EPN24MCP_particles/Sam..."
      ]
     },
     "execution_count": 7,
     "metadata": {},
     "output_type": "execute_result"
    }
   ],
   "source": [
    "infile = \"../imaging_data/imaging_EPN24MCP_particles/imaging_EPN24MCP_particles_metadata.csv\"\n",
    "\n",
    "obs = pd.read_csv(infile)\n",
    "\n",
    "print(obs.shape)\n",
    "obs.head()"
   ]
  },
  {
   "cell_type": "code",
   "execution_count": 8,
   "metadata": {
    "Collapsed": "false"
   },
   "outputs": [],
   "source": [
    "# Define columns for data to enter\n",
    "obs[\"threshold\"] = np.nan\n",
    "obs[\"n_spots\"] = np.nan"
   ]
  },
  {
   "cell_type": "markdown",
   "metadata": {
    "Collapsed": "false"
   },
   "source": [
    "# Set threshold"
   ]
  },
  {
   "cell_type": "code",
   "execution_count": 9,
   "metadata": {
    "Collapsed": "false"
   },
   "outputs": [],
   "source": [
    "# Set global threshold to minimize background in negative controls (chosen empirically by varying threshold and examining number of spots detected)\n",
    "THRESHOLD = 100"
   ]
  },
  {
   "cell_type": "markdown",
   "metadata": {
    "Collapsed": "false"
   },
   "source": [
    "## Count spots in each image"
   ]
  },
  {
   "cell_type": "code",
   "execution_count": 10,
   "metadata": {
    "Collapsed": "false"
   },
   "outputs": [
    {
     "name": "stdout",
     "output_type": "stream",
     "text": [
      "Spots: 183\n",
      "\n",
      "Spots: 119\n",
      "\n",
      "Spots: 242\n",
      "\n",
      "Spots: 96\n",
      "\n",
      "Spots: 34\n",
      "\n",
      "Spots: 42\n",
      "\n",
      "Spots: 61\n",
      "\n",
      "Spots: 77\n",
      "\n",
      "Spots: 131\n",
      "\n",
      "Spots: 132\n",
      "\n",
      "Spots: 128\n",
      "\n",
      "Spots: 142\n",
      "\n",
      "Spots: 204\n",
      "\n",
      "Spots: 11\n",
      "\n",
      "Spots: 7\n",
      "\n",
      "Spots: 7\n",
      "\n",
      "CPU times: user 35.6 s, sys: 2.73 s, total: 38.3 s\n",
      "Wall time: 38.3 s\n"
     ]
    }
   ],
   "source": [
    "%%time\n",
    "\n",
    "for i, row in obs.iterrows():\n",
    "    \n",
    "    infile = row[\"path_to_infile\"]\n",
    "    title = infile\n",
    "    \n",
    "    spots, threshold = load_filter_detect_spots(infile, threshold=THRESHOLD, do_plot=False)\n",
    "    \n",
    "    obs.loc[i, \"n_spots\"] = spots\n",
    "    \n",
    "    print(\"Spots:\", spots)\n",
    "    print()"
   ]
  },
  {
   "cell_type": "markdown",
   "metadata": {
    "Collapsed": "false"
   },
   "source": [
    "# Summarize replicates"
   ]
  },
  {
   "cell_type": "code",
   "execution_count": 11,
   "metadata": {
    "Collapsed": "false"
   },
   "outputs": [
    {
     "data": {
      "text/html": [
       "<div>\n",
       "<style scoped>\n",
       "    .dataframe tbody tr th:only-of-type {\n",
       "        vertical-align: middle;\n",
       "    }\n",
       "\n",
       "    .dataframe tbody tr th {\n",
       "        vertical-align: top;\n",
       "    }\n",
       "\n",
       "    .dataframe thead th {\n",
       "        text-align: right;\n",
       "    }\n",
       "</style>\n",
       "<table border=\"1\" class=\"dataframe\">\n",
       "  <thead>\n",
       "    <tr style=\"text-align: right;\">\n",
       "      <th></th>\n",
       "      <th>Sample</th>\n",
       "      <th>n_spots Mean</th>\n",
       "      <th>n_spots STD</th>\n",
       "    </tr>\n",
       "  </thead>\n",
       "  <tbody>\n",
       "    <tr>\n",
       "      <th>0</th>\n",
       "      <td>EPN24-MCP + mCh-MS2x12</td>\n",
       "      <td>181.333333</td>\n",
       "      <td>61.516935</td>\n",
       "    </tr>\n",
       "    <tr>\n",
       "      <th>1</th>\n",
       "      <td>EPN24-MCP + mCh-MS2x4</td>\n",
       "      <td>58.250000</td>\n",
       "      <td>27.596799</td>\n",
       "    </tr>\n",
       "    <tr>\n",
       "      <th>2</th>\n",
       "      <td>EPN24-MCP + mCh</td>\n",
       "      <td>113.333333</td>\n",
       "      <td>31.469562</td>\n",
       "    </tr>\n",
       "    <tr>\n",
       "      <th>3</th>\n",
       "      <td>EPN24-MCP</td>\n",
       "      <td>158.000000</td>\n",
       "      <td>40.447497</td>\n",
       "    </tr>\n",
       "    <tr>\n",
       "      <th>4</th>\n",
       "      <td>WT</td>\n",
       "      <td>8.333333</td>\n",
       "      <td>2.309401</td>\n",
       "    </tr>\n",
       "  </tbody>\n",
       "</table>\n",
       "</div>"
      ],
      "text/plain": [
       "                   Sample  n_spots Mean  n_spots STD\n",
       "0  EPN24-MCP + mCh-MS2x12    181.333333    61.516935\n",
       "1   EPN24-MCP + mCh-MS2x4     58.250000    27.596799\n",
       "2         EPN24-MCP + mCh    113.333333    31.469562\n",
       "3               EPN24-MCP    158.000000    40.447497\n",
       "4                      WT      8.333333     2.309401"
      ]
     },
     "execution_count": 11,
     "metadata": {},
     "output_type": "execute_result"
    }
   ],
   "source": [
    "# Calculate mean and standard deviation across replicates\n",
    "\n",
    "summary = pd.DataFrame()\n",
    "\n",
    "summary[\"n_spots Mean\"] = obs.groupby(\"Sample\")[\"n_spots\"].mean()\n",
    "summary[\"n_spots STD\"] = obs.groupby(\"Sample\")[\"n_spots\"].std()\n",
    "\n",
    "index_ordered = [\"EPN24-MCP + mCh-MS2x12\",\n",
    "                 \"EPN24-MCP + mCh-MS2x4\",\n",
    "                 \"EPN24-MCP + mCh\",\n",
    "                 \"EPN24-MCP\",\n",
    "                 \"WT\"]\n",
    "summary = summary.loc[index_ordered]\n",
    "\n",
    "summary = summary.reset_index()\n",
    "\n",
    "summary"
   ]
  },
  {
   "cell_type": "code",
   "execution_count": 12,
   "metadata": {
    "Collapsed": "false"
   },
   "outputs": [
    {
     "data": {
      "text/html": [
       "<div>\n",
       "<style scoped>\n",
       "    .dataframe tbody tr th:only-of-type {\n",
       "        vertical-align: middle;\n",
       "    }\n",
       "\n",
       "    .dataframe tbody tr th {\n",
       "        vertical-align: top;\n",
       "    }\n",
       "\n",
       "    .dataframe thead th {\n",
       "        text-align: right;\n",
       "    }\n",
       "</style>\n",
       "<table border=\"1\" class=\"dataframe\">\n",
       "  <thead>\n",
       "    <tr style=\"text-align: right;\">\n",
       "      <th></th>\n",
       "      <th>Sample</th>\n",
       "      <th>n_spots Mean</th>\n",
       "      <th>n_spots STD</th>\n",
       "      <th>n_spots relative to ref</th>\n",
       "      <th>n_spots STD relative to ref</th>\n",
       "    </tr>\n",
       "  </thead>\n",
       "  <tbody>\n",
       "    <tr>\n",
       "      <th>0</th>\n",
       "      <td>EPN24-MCP + mCh-MS2x12</td>\n",
       "      <td>181.333333</td>\n",
       "      <td>61.516935</td>\n",
       "      <td>1.000000</td>\n",
       "      <td>0.339248</td>\n",
       "    </tr>\n",
       "    <tr>\n",
       "      <th>1</th>\n",
       "      <td>EPN24-MCP + mCh-MS2x4</td>\n",
       "      <td>58.250000</td>\n",
       "      <td>27.596799</td>\n",
       "      <td>0.321232</td>\n",
       "      <td>0.152188</td>\n",
       "    </tr>\n",
       "    <tr>\n",
       "      <th>2</th>\n",
       "      <td>EPN24-MCP + mCh</td>\n",
       "      <td>113.333333</td>\n",
       "      <td>31.469562</td>\n",
       "      <td>0.625000</td>\n",
       "      <td>0.173545</td>\n",
       "    </tr>\n",
       "    <tr>\n",
       "      <th>3</th>\n",
       "      <td>EPN24-MCP</td>\n",
       "      <td>158.000000</td>\n",
       "      <td>40.447497</td>\n",
       "      <td>0.871324</td>\n",
       "      <td>0.223056</td>\n",
       "    </tr>\n",
       "    <tr>\n",
       "      <th>4</th>\n",
       "      <td>WT</td>\n",
       "      <td>8.333333</td>\n",
       "      <td>2.309401</td>\n",
       "      <td>0.045956</td>\n",
       "      <td>0.012736</td>\n",
       "    </tr>\n",
       "  </tbody>\n",
       "</table>\n",
       "</div>"
      ],
      "text/plain": [
       "                   Sample  n_spots Mean  n_spots STD  n_spots relative to ref  n_spots STD relative to ref\n",
       "0  EPN24-MCP + mCh-MS2x12    181.333333    61.516935                 1.000000                     0.339248\n",
       "1   EPN24-MCP + mCh-MS2x4     58.250000    27.596799                 0.321232                     0.152188\n",
       "2         EPN24-MCP + mCh    113.333333    31.469562                 0.625000                     0.173545\n",
       "3               EPN24-MCP    158.000000    40.447497                 0.871324                     0.223056\n",
       "4                      WT      8.333333     2.309401                 0.045956                     0.012736"
      ]
     },
     "execution_count": 12,
     "metadata": {},
     "output_type": "execute_result"
    }
   ],
   "source": [
    "# Calculate abundance relative to reference (EPN24-MCP)\n",
    "summary = summary.set_index(\"Sample\")\n",
    "\n",
    "n_spots_ref = summary.loc[\"EPN24-MCP + mCh-MS2x12\", \"n_spots Mean\"]\n",
    "summary[\"n_spots relative to ref\"] = summary[\"n_spots Mean\"] / n_spots_ref\n",
    "summary[\"n_spots STD relative to ref\"] = summary[\"n_spots STD\"] / n_spots_ref\n",
    "\n",
    "summary = summary.reset_index()\n",
    "\n",
    "summary"
   ]
  },
  {
   "cell_type": "markdown",
   "metadata": {
    "Collapsed": "false"
   },
   "source": [
    "# Plot relative particle abundance with varying MS2"
   ]
  },
  {
   "cell_type": "code",
   "execution_count": 13,
   "metadata": {
    "Collapsed": "false"
   },
   "outputs": [
    {
     "data": {
      "image/png": "[encoded data removed]",
      "text/plain": [
       "<Figure size 300x300 with 1 Axes>"
      ]
     },
     "metadata": {},
     "output_type": "display_data"
    }
   ],
   "source": [
    "fig, ax = plt.subplots(1, 1, figsize=(1,1))\n",
    "\n",
    "ax.errorbar(x=summary[\"n_spots relative to ref\"],\n",
    "            y=range(summary.shape[0])[::-1],\n",
    "            xerr=summary[\"n_spots STD relative to ref\"],\n",
    "            ls=\"\",\n",
    "            marker=\"o\",\n",
    "            color=\"#d0dade\",\n",
    "            markersize=3,\n",
    "            markeredgecolor=\"#101010\",\n",
    "            markeredgewidth=1,\n",
    "            ecolor=\"#101010\",\n",
    "            elinewidth=1,\n",
    "            capsize=3,\n",
    "            )\n",
    "\n",
    "ax.xaxis.tick_top()\n",
    "ax.xaxis.set_label_position('top') \n",
    "\n",
    "ax.set_xlim(0, 1.5)\n",
    "ax.set_ylim(-0.75, 4.75)\n",
    "\n",
    "ax.set_xlabel(\"Relative abundance\\nof particles\")\n",
    "ax.set_ylabel(\"\")\n",
    "\n",
    "ax.set_xticks([0, 0.5, 1, 1.5])\n",
    "ax.set_xticklabels([\"0X\", \"0.5X\", \"1X\", \"1.5X\"])\n",
    "\n",
    "ax.set_yticks([0, 1, 2, 3, 4])\n",
    "yticklabels = summary[\"Sample\"][::-1]\n",
    "ax.set_yticklabels(yticklabels)\n",
    "\n",
    "ax.axvline(1, ls=\"--\", lw=0.5, color=\"k\", zorder=-1)\n",
    "\n",
    "save_figure(fig, \"scatterplot_relative_abundance_of_particles_with_varying_MS2\")"
   ]
  },
  {
   "cell_type": "code",
   "execution_count": null,
   "metadata": {
    "Collapsed": "false"
   },
   "outputs": [],
   "source": []
  }
 ],
 "metadata": {
  "kernelspec": {
   "display_name": "bigfish",
   "language": "python",
   "name": "bigfish"
  },
  "language_info": {
   "codemirror_mode": {
    "name": "ipython",
    "version": 3
   },
   "file_extension": ".py",
   "mimetype": "text/x-python",
   "name": "python",
   "nbconvert_exporter": "python",
   "pygments_lexer": "ipython3",
   "version": "3.11.0"
  }
 },
 "nbformat": 4,
 "nbformat_minor": 4
}
