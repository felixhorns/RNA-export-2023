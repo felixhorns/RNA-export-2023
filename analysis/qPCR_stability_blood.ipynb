{
 "cells": [
  {
   "cell_type": "markdown",
   "metadata": {
    "Collapsed": "false"
   },
   "source": [
    "# Plot qPCR of stability of exported RNA in blood"
   ]
  },
  {
   "cell_type": "markdown",
   "metadata": {
    "Collapsed": "false",
    "toc-hr-collapsed": false
   },
   "source": [
    "# Introduction"
   ]
  },
  {
   "cell_type": "markdown",
   "metadata": {
    "Collapsed": "false"
   },
   "source": [
    "## Imports"
   ]
  },
  {
   "cell_type": "code",
   "execution_count": 1,
   "metadata": {
    "Collapsed": "false"
   },
   "outputs": [],
   "source": [
    "import sys\n",
    "import os\n",
    "import time\n",
    "\n",
    "import numpy as np\n",
    "import scipy\n",
    "import pandas as pd\n",
    "\n",
    "%matplotlib inline\n",
    "from matplotlib import pyplot as plt\n",
    "import matplotlib as mpl\n",
    "import seaborn as sns"
   ]
  },
  {
   "cell_type": "markdown",
   "metadata": {
    "Collapsed": "false"
   },
   "source": [
    "## Set output parameters"
   ]
  },
  {
   "cell_type": "code",
   "execution_count": 2,
   "metadata": {
    "Collapsed": "false"
   },
   "outputs": [],
   "source": [
    "# Set pandas display options\n",
    "pd.set_option('display.max_rows', 30)\n",
    "pd.set_option('display.max_columns', 100)\n",
    "pd.set_option('display.width', 1000)\n",
    "\n",
    "# Set plot display options\n",
    "FONTSIZE = 8  # universal fontsize\n",
    "params = {\n",
    "    'font.size': FONTSIZE,\n",
    "    'axes.titlesize': FONTSIZE,\n",
    "    'axes.labelsize': FONTSIZE,\n",
    "    'legend.fontsize': FONTSIZE,\n",
    "    'xtick.labelsize': FONTSIZE,\n",
    "    'ytick.labelsize': FONTSIZE,\n",
    "    'font.family': \"Helvetica\",\n",
    "    'mathtext.fontset': 'custom',\n",
    "    'pdf.fonttype': 42,\n",
    "    'ps.fonttype': 42,\n",
    "    'figure.dpi': 300\n",
    "   }\n",
    "mpl.rcParams.update(params)\n",
    "sns.set_style(\"ticks\", {'axes.grid' : False})\n",
    "\n",
    "# Set plot output options\n",
    "output_dir = \"outs/qPCR_stability_blood\"\n",
    "output_suffix = \"\"\n",
    "output_formats = [\".png\", \".pdf\"]\n",
    "\n",
    "mpl.rc('savefig', dpi=300)\n",
    "\n",
    "# Define convenience function for saving figures\n",
    "\n",
    "savefig = True\n",
    "savefig_args = {\"dpi\": 300, \"bbox_inches\": \"tight\", \"pad_inches\": 0.1}\n",
    "\n",
    "def save_figure(fig, name, output_dir=output_dir, output_suffix=output_suffix, output_formats=output_formats, savefig_args=savefig_args):\n",
    "    if savefig:\n",
    "        for output_format in output_formats:\n",
    "            fig.savefig(output_dir + \"/\" + name + output_suffix + output_format, **savefig_args)\n",
    "    return None"
   ]
  },
  {
   "cell_type": "code",
   "execution_count": 3,
   "metadata": {
    "Collapsed": "false"
   },
   "outputs": [
    {
     "data": {
      "text/plain": [
       "{'font.size': 8.0,\n",
       " 'axes.labelsize': 8.0,\n",
       " 'axes.titlesize': 8.0,\n",
       " 'xtick.labelsize': 8.0,\n",
       " 'ytick.labelsize': 8.0,\n",
       " 'legend.fontsize': 8.0,\n",
       " 'legend.title_fontsize': None,\n",
       " 'axes.linewidth': 0.8,\n",
       " 'grid.linewidth': 0.8,\n",
       " 'lines.linewidth': 1.5,\n",
       " 'lines.markersize': 6.0,\n",
       " 'patch.linewidth': 1.0,\n",
       " 'xtick.major.width': 0.8,\n",
       " 'ytick.major.width': 0.8,\n",
       " 'xtick.minor.width': 0.6,\n",
       " 'ytick.minor.width': 0.6,\n",
       " 'xtick.major.size': 3.5,\n",
       " 'ytick.major.size': 3.5,\n",
       " 'xtick.minor.size': 2.0,\n",
       " 'ytick.minor.size': 2.0}"
      ]
     },
     "execution_count": 3,
     "metadata": {},
     "output_type": "execute_result"
    }
   ],
   "source": [
    "# Report plot parameters\n",
    "sns.plotting_context()"
   ]
  },
  {
   "cell_type": "markdown",
   "metadata": {
    "Collapsed": "false"
   },
   "source": [
    "# Load data"
   ]
  },
  {
   "cell_type": "markdown",
   "metadata": {
    "Collapsed": "false"
   },
   "source": [
    "## Load qPCR data"
   ]
  },
  {
   "cell_type": "code",
   "execution_count": 4,
   "metadata": {
    "Collapsed": "false"
   },
   "outputs": [
    {
     "name": "stdout",
     "output_type": "stream",
     "text": [
      "(56, 11)\n"
     ]
    },
    {
     "data": {
      "text/html": [
       "<div>\n",
       "<style scoped>\n",
       "    .dataframe tbody tr th:only-of-type {\n",
       "        vertical-align: middle;\n",
       "    }\n",
       "\n",
       "    .dataframe tbody tr th {\n",
       "        vertical-align: top;\n",
       "    }\n",
       "\n",
       "    .dataframe thead th {\n",
       "        text-align: right;\n",
       "    }\n",
       "</style>\n",
       "<table border=\"1\" class=\"dataframe\">\n",
       "  <thead>\n",
       "    <tr style=\"text-align: right;\">\n",
       "      <th></th>\n",
       "      <th>Well</th>\n",
       "      <th>Fluor</th>\n",
       "      <th>Target</th>\n",
       "      <th>Content</th>\n",
       "      <th>Cq</th>\n",
       "      <th>Cq Mean</th>\n",
       "      <th>Cq Std. Dev</th>\n",
       "      <th>Starting Quantity (SQ)</th>\n",
       "      <th>Log Starting Quantity</th>\n",
       "      <th>SQ Mean</th>\n",
       "      <th>SQ Std. Dev</th>\n",
       "    </tr>\n",
       "    <tr>\n",
       "      <th>Sample</th>\n",
       "      <th></th>\n",
       "      <th></th>\n",
       "      <th></th>\n",
       "      <th></th>\n",
       "      <th></th>\n",
       "      <th></th>\n",
       "      <th></th>\n",
       "      <th></th>\n",
       "      <th></th>\n",
       "      <th></th>\n",
       "      <th></th>\n",
       "    </tr>\n",
       "  </thead>\n",
       "  <tbody>\n",
       "    <tr>\n",
       "      <th>24-1</th>\n",
       "      <td>A01</td>\n",
       "      <td>SYBR</td>\n",
       "      <td>mCherry</td>\n",
       "      <td>Unkn-01</td>\n",
       "      <td>24.397387</td>\n",
       "      <td>24.180357</td>\n",
       "      <td>0.191847</td>\n",
       "      <td>2072.255424</td>\n",
       "      <td>3.316443</td>\n",
       "      <td>2423.762559</td>\n",
       "      <td>312.243040</td>\n",
       "    </tr>\n",
       "    <tr>\n",
       "      <th>24-2</th>\n",
       "      <td>A02</td>\n",
       "      <td>SYBR</td>\n",
       "      <td>mCherry</td>\n",
       "      <td>Unkn-02</td>\n",
       "      <td>23.995189</td>\n",
       "      <td>23.628177</td>\n",
       "      <td>0.317984</td>\n",
       "      <td>2740.825831</td>\n",
       "      <td>3.437881</td>\n",
       "      <td>3592.909938</td>\n",
       "      <td>738.401493</td>\n",
       "    </tr>\n",
       "    <tr>\n",
       "      <th>24-3</th>\n",
       "      <td>A03</td>\n",
       "      <td>SYBR</td>\n",
       "      <td>mCherry</td>\n",
       "      <td>Unkn-03</td>\n",
       "      <td>23.076364</td>\n",
       "      <td>23.045294</td>\n",
       "      <td>0.076593</td>\n",
       "      <td>5191.688355</td>\n",
       "      <td>3.715309</td>\n",
       "      <td>5310.114831</td>\n",
       "      <td>286.461565</td>\n",
       "    </tr>\n",
       "    <tr>\n",
       "      <th>24-4</th>\n",
       "      <td>A04</td>\n",
       "      <td>SYBR</td>\n",
       "      <td>mCherry</td>\n",
       "      <td>Unkn-04</td>\n",
       "      <td>23.122449</td>\n",
       "      <td>22.824029</td>\n",
       "      <td>0.300629</td>\n",
       "      <td>5027.983197</td>\n",
       "      <td>3.701394</td>\n",
       "      <td>6277.814385</td>\n",
       "      <td>1307.927210</td>\n",
       "    </tr>\n",
       "    <tr>\n",
       "      <th>24-5</th>\n",
       "      <td>A05</td>\n",
       "      <td>SYBR</td>\n",
       "      <td>mCherry</td>\n",
       "      <td>Unkn-05</td>\n",
       "      <td>22.950310</td>\n",
       "      <td>22.992649</td>\n",
       "      <td>0.041029</td>\n",
       "      <td>5667.206630</td>\n",
       "      <td>3.753369</td>\n",
       "      <td>5504.314857</td>\n",
       "      <td>157.219101</td>\n",
       "    </tr>\n",
       "  </tbody>\n",
       "</table>\n",
       "</div>"
      ],
      "text/plain": [
       "       Well Fluor   Target  Content         Cq    Cq Mean  Cq Std. Dev  Starting Quantity (SQ)  Log Starting Quantity      SQ Mean  SQ Std. Dev\n",
       "Sample                                                                                                                                         \n",
       "24-1    A01  SYBR  mCherry  Unkn-01  24.397387  24.180357     0.191847             2072.255424               3.316443  2423.762559   312.243040\n",
       "24-2    A02  SYBR  mCherry  Unkn-02  23.995189  23.628177     0.317984             2740.825831               3.437881  3592.909938   738.401493\n",
       "24-3    A03  SYBR  mCherry  Unkn-03  23.076364  23.045294     0.076593             5191.688355               3.715309  5310.114831   286.461565\n",
       "24-4    A04  SYBR  mCherry  Unkn-04  23.122449  22.824029     0.300629             5027.983197               3.701394  6277.814385  1307.927210\n",
       "24-5    A05  SYBR  mCherry  Unkn-05  22.950310  22.992649     0.041029             5667.206630               3.753369  5504.314857   157.219101"
      ]
     },
     "execution_count": 4,
     "metadata": {},
     "output_type": "execute_result"
    }
   ],
   "source": [
    "infile = \"../preprocessed_data/qPCR_data/qPCR_stability_blood_Cq.csv\"\n",
    "\n",
    "cq_raw = pd.read_csv(infile, header=0)\n",
    "\n",
    "cq_raw = cq_raw.set_index(\"Sample\")\n",
    "\n",
    "print(cq_raw.shape)\n",
    "cq_raw.head()"
   ]
  },
  {
   "cell_type": "code",
   "execution_count": 5,
   "metadata": {
    "Collapsed": "false"
   },
   "outputs": [
    {
     "name": "stdout",
     "output_type": "stream",
     "text": [
      "(16, 4)\n"
     ]
    },
    {
     "data": {
      "text/html": [
       "<div>\n",
       "<style scoped>\n",
       "    .dataframe tbody tr th:only-of-type {\n",
       "        vertical-align: middle;\n",
       "    }\n",
       "\n",
       "    .dataframe tbody tr th {\n",
       "        vertical-align: top;\n",
       "    }\n",
       "\n",
       "    .dataframe thead th {\n",
       "        text-align: right;\n",
       "    }\n",
       "</style>\n",
       "<table border=\"1\" class=\"dataframe\">\n",
       "  <thead>\n",
       "    <tr style=\"text-align: right;\">\n",
       "      <th></th>\n",
       "      <th>Sample</th>\n",
       "      <th>Media</th>\n",
       "      <th>Spike-in</th>\n",
       "      <th>Time (h)</th>\n",
       "    </tr>\n",
       "  </thead>\n",
       "  <tbody>\n",
       "    <tr>\n",
       "      <th>0</th>\n",
       "      <td>24-1</td>\n",
       "      <td>Blood</td>\n",
       "      <td>EPN24-MCP</td>\n",
       "      <td>0.00</td>\n",
       "    </tr>\n",
       "    <tr>\n",
       "      <th>1</th>\n",
       "      <td>24-2</td>\n",
       "      <td>Blood</td>\n",
       "      <td>EPN24-MCP</td>\n",
       "      <td>0.25</td>\n",
       "    </tr>\n",
       "    <tr>\n",
       "      <th>2</th>\n",
       "      <td>24-3</td>\n",
       "      <td>Blood</td>\n",
       "      <td>EPN24-MCP</td>\n",
       "      <td>1.00</td>\n",
       "    </tr>\n",
       "    <tr>\n",
       "      <th>3</th>\n",
       "      <td>24-4</td>\n",
       "      <td>Blood</td>\n",
       "      <td>EPN24-MCP</td>\n",
       "      <td>4.00</td>\n",
       "    </tr>\n",
       "    <tr>\n",
       "      <th>4</th>\n",
       "      <td>24-5</td>\n",
       "      <td>Blood</td>\n",
       "      <td>EPN24-MCP</td>\n",
       "      <td>24.00</td>\n",
       "    </tr>\n",
       "  </tbody>\n",
       "</table>\n",
       "</div>"
      ],
      "text/plain": [
       "  Sample  Media   Spike-in  Time (h)\n",
       "0   24-1  Blood  EPN24-MCP      0.00\n",
       "1   24-2  Blood  EPN24-MCP      0.25\n",
       "2   24-3  Blood  EPN24-MCP      1.00\n",
       "3   24-4  Blood  EPN24-MCP      4.00\n",
       "4   24-5  Blood  EPN24-MCP     24.00"
      ]
     },
     "execution_count": 5,
     "metadata": {},
     "output_type": "execute_result"
    }
   ],
   "source": [
    "# Load metadata (includes sample names)\n",
    "infile = \"../preprocessed_data/qPCR_data/qPCR_stability_blood_metadata.csv\"\n",
    "metadata = pd.read_csv(infile, index_col=0, header=0)\n",
    "metadata = metadata.reset_index()\n",
    "print(metadata.shape)\n",
    "metadata.head()"
   ]
  },
  {
   "cell_type": "markdown",
   "metadata": {
    "Collapsed": "false"
   },
   "source": [
    "# Preprocess data"
   ]
  },
  {
   "cell_type": "markdown",
   "metadata": {
    "Collapsed": "false"
   },
   "source": [
    "## Calculate total starting molecules"
   ]
  },
  {
   "cell_type": "code",
   "execution_count": 6,
   "metadata": {
    "Collapsed": "false"
   },
   "outputs": [],
   "source": [
    "# Calculate normalization for input volume\n",
    "DILUTION_FACTORS = (15/5) * (61/10) * (20/1)"
   ]
  },
  {
   "cell_type": "code",
   "execution_count": 7,
   "metadata": {
    "Collapsed": "false"
   },
   "outputs": [],
   "source": [
    "# Back-calculate input RNA molecules, given <100% efficiency of extraction, DNase, RT, as measured based on RNA standard\n",
    "\n",
    "PROTOCOL_EFFICIENCY = 0.005957820738  # Efficiency of extraction, DNase, RT"
   ]
  },
  {
   "cell_type": "code",
   "execution_count": 8,
   "metadata": {
    "Collapsed": "false"
   },
   "outputs": [],
   "source": [
    "# Calculate total RNA molecules in supernatant\n",
    "cq_raw[\"RNA molecules\"] = cq_raw[\"Starting Quantity (SQ)\"] * DILUTION_FACTORS * (1/PROTOCOL_EFFICIENCY)\n",
    "cq_raw[\"RNA molecules Mean\"] = cq_raw[\"SQ Mean\"] * DILUTION_FACTORS * (1/PROTOCOL_EFFICIENCY)\n",
    "cq_raw[\"RNA molecules STD\"] = cq_raw[\"SQ Std. Dev\"] * DILUTION_FACTORS * (1/PROTOCOL_EFFICIENCY)"
   ]
  },
  {
   "cell_type": "markdown",
   "metadata": {
    "Collapsed": "false"
   },
   "source": [
    "## Summarize replicates"
   ]
  },
  {
   "cell_type": "code",
   "execution_count": 9,
   "metadata": {
    "Collapsed": "false"
   },
   "outputs": [
    {
     "data": {
      "text/html": [
       "<div>\n",
       "<style scoped>\n",
       "    .dataframe tbody tr th:only-of-type {\n",
       "        vertical-align: middle;\n",
       "    }\n",
       "\n",
       "    .dataframe tbody tr th {\n",
       "        vertical-align: top;\n",
       "    }\n",
       "\n",
       "    .dataframe thead th {\n",
       "        text-align: right;\n",
       "    }\n",
       "</style>\n",
       "<table border=\"1\" class=\"dataframe\">\n",
       "  <thead>\n",
       "    <tr style=\"text-align: right;\">\n",
       "      <th></th>\n",
       "      <th>mean SQ</th>\n",
       "      <th>std SQ</th>\n",
       "      <th>RNA molecules</th>\n",
       "      <th>RNA molecules STD</th>\n",
       "    </tr>\n",
       "    <tr>\n",
       "      <th>Sample</th>\n",
       "      <th></th>\n",
       "      <th></th>\n",
       "      <th></th>\n",
       "      <th></th>\n",
       "    </tr>\n",
       "  </thead>\n",
       "  <tbody>\n",
       "    <tr>\n",
       "      <th>24-1</th>\n",
       "      <td>2423.762559</td>\n",
       "      <td>312.243040</td>\n",
       "      <td>1.488962e+08</td>\n",
       "      <td>1.918167e+07</td>\n",
       "    </tr>\n",
       "    <tr>\n",
       "      <th>24-10</th>\n",
       "      <td>41531.152937</td>\n",
       "      <td>334.458094</td>\n",
       "      <td>2.551336e+09</td>\n",
       "      <td>2.054638e+07</td>\n",
       "    </tr>\n",
       "    <tr>\n",
       "      <th>24-11</th>\n",
       "      <td>485473.867367</td>\n",
       "      <td>157943.954536</td>\n",
       "      <td>2.982356e+10</td>\n",
       "      <td>9.702791e+09</td>\n",
       "    </tr>\n",
       "    <tr>\n",
       "      <th>24-12</th>\n",
       "      <td>515.464440</td>\n",
       "      <td>115.913100</td>\n",
       "      <td>3.166594e+07</td>\n",
       "      <td>7.120757e+06</td>\n",
       "    </tr>\n",
       "    <tr>\n",
       "      <th>24-13</th>\n",
       "      <td>748.581317</td>\n",
       "      <td>114.975313</td>\n",
       "      <td>4.598674e+07</td>\n",
       "      <td>7.063147e+06</td>\n",
       "    </tr>\n",
       "    <tr>\n",
       "      <th>24-14</th>\n",
       "      <td>161.476761</td>\n",
       "      <td>10.262550</td>\n",
       "      <td>9.919817e+06</td>\n",
       "      <td>6.304475e+05</td>\n",
       "    </tr>\n",
       "    <tr>\n",
       "      <th>24-15</th>\n",
       "      <td>122.516771</td>\n",
       "      <td>12.196818</td>\n",
       "      <td>7.526433e+06</td>\n",
       "      <td>7.492732e+05</td>\n",
       "    </tr>\n",
       "    <tr>\n",
       "      <th>24-2</th>\n",
       "      <td>3592.909938</td>\n",
       "      <td>738.401493</td>\n",
       "      <td>2.207191e+08</td>\n",
       "      <td>4.536138e+07</td>\n",
       "    </tr>\n",
       "    <tr>\n",
       "      <th>24-3</th>\n",
       "      <td>5310.114831</td>\n",
       "      <td>286.461565</td>\n",
       "      <td>3.262102e+08</td>\n",
       "      <td>1.759787e+07</td>\n",
       "    </tr>\n",
       "    <tr>\n",
       "      <th>24-31</th>\n",
       "      <td>11.366480</td>\n",
       "      <td>5.493674</td>\n",
       "      <td>6.982640e+05</td>\n",
       "      <td>3.374866e+05</td>\n",
       "    </tr>\n",
       "    <tr>\n",
       "      <th>24-4</th>\n",
       "      <td>6277.814385</td>\n",
       "      <td>1307.927210</td>\n",
       "      <td>3.856578e+08</td>\n",
       "      <td>8.034840e+07</td>\n",
       "    </tr>\n",
       "    <tr>\n",
       "      <th>24-5</th>\n",
       "      <td>5504.314857</td>\n",
       "      <td>157.219101</td>\n",
       "      <td>3.381403e+08</td>\n",
       "      <td>9.658262e+06</td>\n",
       "    </tr>\n",
       "    <tr>\n",
       "      <th>24-6</th>\n",
       "      <td>34002.762407</td>\n",
       "      <td>5580.451878</td>\n",
       "      <td>2.088853e+09</td>\n",
       "      <td>3.428175e+08</td>\n",
       "    </tr>\n",
       "    <tr>\n",
       "      <th>24-7</th>\n",
       "      <td>28887.393500</td>\n",
       "      <td>2123.510265</td>\n",
       "      <td>1.774606e+09</td>\n",
       "      <td>1.304512e+08</td>\n",
       "    </tr>\n",
       "    <tr>\n",
       "      <th>24-8</th>\n",
       "      <td>47412.834883</td>\n",
       "      <td>7782.848300</td>\n",
       "      <td>2.912659e+09</td>\n",
       "      <td>4.781148e+08</td>\n",
       "    </tr>\n",
       "    <tr>\n",
       "      <th>24-9</th>\n",
       "      <td>47678.283057</td>\n",
       "      <td>1851.068402</td>\n",
       "      <td>2.928966e+09</td>\n",
       "      <td>1.137146e+08</td>\n",
       "    </tr>\n",
       "    <tr>\n",
       "      <th>NTC</th>\n",
       "      <td>NaN</td>\n",
       "      <td>NaN</td>\n",
       "      <td>NaN</td>\n",
       "      <td>0.000000e+00</td>\n",
       "    </tr>\n",
       "  </tbody>\n",
       "</table>\n",
       "</div>"
      ],
      "text/plain": [
       "              mean SQ         std SQ  RNA molecules  RNA molecules STD\n",
       "Sample                                                                \n",
       "24-1      2423.762559     312.243040   1.488962e+08       1.918167e+07\n",
       "24-10    41531.152937     334.458094   2.551336e+09       2.054638e+07\n",
       "24-11   485473.867367  157943.954536   2.982356e+10       9.702791e+09\n",
       "24-12      515.464440     115.913100   3.166594e+07       7.120757e+06\n",
       "24-13      748.581317     114.975313   4.598674e+07       7.063147e+06\n",
       "24-14      161.476761      10.262550   9.919817e+06       6.304475e+05\n",
       "24-15      122.516771      12.196818   7.526433e+06       7.492732e+05\n",
       "24-2      3592.909938     738.401493   2.207191e+08       4.536138e+07\n",
       "24-3      5310.114831     286.461565   3.262102e+08       1.759787e+07\n",
       "24-31       11.366480       5.493674   6.982640e+05       3.374866e+05\n",
       "24-4      6277.814385    1307.927210   3.856578e+08       8.034840e+07\n",
       "24-5      5504.314857     157.219101   3.381403e+08       9.658262e+06\n",
       "24-6     34002.762407    5580.451878   2.088853e+09       3.428175e+08\n",
       "24-7     28887.393500    2123.510265   1.774606e+09       1.304512e+08\n",
       "24-8     47412.834883    7782.848300   2.912659e+09       4.781148e+08\n",
       "24-9     47678.283057    1851.068402   2.928966e+09       1.137146e+08\n",
       "NTC               NaN            NaN            NaN       0.000000e+00"
      ]
     },
     "execution_count": 9,
     "metadata": {},
     "output_type": "execute_result"
    }
   ],
   "source": [
    "groups = cq_raw.groupby([\"Sample\"])  # group samples by origin\n",
    "\n",
    "summary = pd.DataFrame()\n",
    "\n",
    "summary[\"mean SQ\"] = groups[\"Starting Quantity (SQ)\"].mean()  # Calculate mean over replicates\n",
    "summary[\"std SQ\"] = groups[\"Starting Quantity (SQ)\"].std()  # Calculate mean over replicates\n",
    "\n",
    "summary[\"RNA molecules\"] = groups[\"RNA molecules\"].mean()\n",
    "summary[\"RNA molecules STD\"] = groups[\"RNA molecules STD\"].mean()\n",
    "\n",
    "summary"
   ]
  },
  {
   "cell_type": "markdown",
   "metadata": {
    "Collapsed": "false"
   },
   "source": [
    "## Calculate relative abundance (compared with appropriate references)"
   ]
  },
  {
   "cell_type": "code",
   "execution_count": 10,
   "metadata": {
    "Collapsed": "false"
   },
   "outputs": [],
   "source": [
    "# Initialize columns\n",
    "\n",
    "summary[\"RNA molecules relative to reference\"] = np.nan\n",
    "summary[\"RNA molecules relative to reference STD\"] = np.nan\n",
    "\n",
    "cq_raw[\"RNA molecules relative to reference\"] = np.nan\n",
    "cq_raw[\"RNA molecules relative to reference STD\"] = np.nan"
   ]
  },
  {
   "cell_type": "code",
   "execution_count": 11,
   "metadata": {
    "Collapsed": "false"
   },
   "outputs": [],
   "source": [
    "# Calculate RNA molecules relative to reference\n",
    "\n",
    "# EPN24-MCP in blood\n",
    "\n",
    "ref = summary.loc[\"24-1\", \"RNA molecules\"]  # set reference value\n",
    "samples = [\"24-1\", \"24-2\", \"24-3\", \"24-4\", \"24-5\"]  # samples that use this reference value\n",
    "\n",
    "summary.loc[samples, \"RNA molecules relative to reference\"] = summary.loc[samples, \"RNA molecules\"] / ref\n",
    "summary.loc[samples, \"RNA molecules relative to reference STD\"] = summary.loc[samples, \"RNA molecules STD\"] / ref\n",
    "\n",
    "# Gag-MCP in blood\n",
    "\n",
    "ref = summary.loc[\"24-6\", \"RNA molecules\"]  # set reference value\n",
    "samples = [\"24-6\", \"24-7\", \"24-8\", \"24-9\", \"24-10\"]  # samples that use this reference value\n",
    "\n",
    "summary.loc[samples, \"RNA molecules relative to reference\"] = summary.loc[samples, \"RNA molecules\"] / ref\n",
    "summary.loc[samples, \"RNA molecules relative to reference STD\"] = summary.loc[samples, \"RNA molecules STD\"] / ref\n",
    "\n",
    "# Free mRNA in blood\n",
    "\n",
    "ref = summary.loc[\"24-11\", \"RNA molecules\"]  # set reference value\n",
    "samples = [\"24-11\", \"24-12\", \"24-13\", \"24-14\", \"24-15\"]  # samples that use this reference value\n",
    "\n",
    "summary.loc[samples, \"RNA molecules relative to reference\"] = summary.loc[samples, \"RNA molecules\"] / ref\n",
    "summary.loc[samples, \"RNA molecules relative to reference STD\"] = summary.loc[samples, \"RNA molecules STD\"] / ref"
   ]
  },
  {
   "cell_type": "code",
   "execution_count": 12,
   "metadata": {
    "Collapsed": "false"
   },
   "outputs": [],
   "source": [
    "# Repeat for raw Cq values\n",
    "\n",
    "# Calculate RNA molecules relative to reference\n",
    "\n",
    "# EPN24-MCP in blood\n",
    "\n",
    "ref = summary.loc[\"24-1\", \"RNA molecules\"]  # set reference value\n",
    "samples = [\"24-1\", \"24-2\", \"24-3\", \"24-4\", \"24-5\"]  # samples that use this reference value\n",
    "\n",
    "cq_raw.loc[samples, \"RNA molecules relative to reference\"] = cq_raw.loc[samples, \"RNA molecules\"] / ref\n",
    "cq_raw.loc[samples, \"RNA molecules relative to reference STD\"] = cq_raw.loc[samples, \"RNA molecules STD\"] / ref\n",
    "\n",
    "# Gag-MCP in blood\n",
    "\n",
    "ref = summary.loc[\"24-6\", \"RNA molecules\"]  # set reference value\n",
    "samples = [\"24-6\", \"24-7\", \"24-8\", \"24-9\", \"24-10\"]  # samples that use this reference value\n",
    "\n",
    "cq_raw.loc[samples, \"RNA molecules relative to reference\"] = cq_raw.loc[samples, \"RNA molecules\"] / ref\n",
    "cq_raw.loc[samples, \"RNA molecules relative to reference STD\"] = cq_raw.loc[samples, \"RNA molecules STD\"] / ref\n",
    "\n",
    "# Free mRNA in blood\n",
    "\n",
    "ref = summary.loc[\"24-11\", \"RNA molecules\"]  # set reference value\n",
    "samples = [\"24-11\", \"24-12\", \"24-13\", \"24-14\", \"24-15\"]  # samples that use this reference value\n",
    "\n",
    "cq_raw.loc[samples, \"RNA molecules relative to reference\"] = cq_raw.loc[samples, \"RNA molecules\"] / ref\n",
    "cq_raw.loc[samples, \"RNA molecules relative to reference STD\"] = cq_raw.loc[samples, \"RNA molecules STD\"] / ref\n",
    "\n",
    "cq_raw = cq_raw.reset_index()"
   ]
  },
  {
   "cell_type": "code",
   "execution_count": 13,
   "metadata": {
    "Collapsed": "false"
   },
   "outputs": [],
   "source": [
    "# Convert to percentage\n",
    "\n",
    "summary[\"RNA molecules relative to reference %\"] = summary[\"RNA molecules relative to reference\"] * 100\n",
    "summary[\"RNA molecules relative to reference STD %\"] = summary[\"RNA molecules relative to reference STD\"] * 100\n",
    "\n",
    "cq_raw[\"RNA molecules relative to reference %\"] = cq_raw[\"RNA molecules relative to reference\"] * 100\n",
    "cq_raw[\"RNA molecules relative to reference STD %\"] = cq_raw[\"RNA molecules relative to reference STD\"] * 100"
   ]
  },
  {
   "cell_type": "markdown",
   "metadata": {
    "Collapsed": "false"
   },
   "source": [
    "## Censor by lower limit of quantification"
   ]
  },
  {
   "cell_type": "code",
   "execution_count": 14,
   "metadata": {
    "Collapsed": "false"
   },
   "outputs": [
    {
     "name": "stdout",
     "output_type": "stream",
     "text": [
      "Lower limit of quantification: 1075175.0400651277\n"
     ]
    }
   ],
   "source": [
    "# Lower limit of quantification is set based on maximum signal from blank sample (blood without spike-in RNA).\n",
    "\n",
    "LOD = cq_raw.set_index(\"Sample\").loc[\"24-31\", \"RNA molecules\"].max()\n",
    "\n",
    "print(\"Lower limit of quantification:\", LOD)"
   ]
  },
  {
   "cell_type": "code",
   "execution_count": 15,
   "metadata": {
    "Collapsed": "false"
   },
   "outputs": [],
   "source": [
    "# Substitute LOD for values below LOD\n",
    "\n",
    "cq_raw[\"RNA molecules censored\"] = cq_raw[\"RNA molecules\"]\n",
    "cq_raw.loc[cq_raw[\"RNA molecules\"] < LOD, \"RNA molecules censored\"] = LOD\n",
    "\n",
    "summary[\"RNA molecules censored\"] = summary[\"RNA molecules\"]\n",
    "summary.loc[summary[\"RNA molecules\"] < LOD, \"RNA molecules censored\"] = LOD"
   ]
  },
  {
   "cell_type": "markdown",
   "metadata": {
    "Collapsed": "false"
   },
   "source": [
    "## Calculate relative abundance after censoring"
   ]
  },
  {
   "cell_type": "code",
   "execution_count": 16,
   "metadata": {
    "Collapsed": "false"
   },
   "outputs": [],
   "source": [
    "# Initialize columns\n",
    "\n",
    "summary[\"RNA molecules censored relative to reference\"] = np.nan\n",
    "\n",
    "cq_raw[\"RNA molecules censored relative to reference\"] = np.nan"
   ]
  },
  {
   "cell_type": "code",
   "execution_count": 17,
   "metadata": {
    "Collapsed": "false"
   },
   "outputs": [],
   "source": [
    "# Calculate RNA molecules censored relative to reference\n",
    "\n",
    "# EPN24-MCP in blood\n",
    "\n",
    "ref = summary.loc[\"24-1\", \"RNA molecules censored\"]  # set reference value\n",
    "samples = [\"24-1\", \"24-2\", \"24-3\", \"24-4\", \"24-5\"]  # samples that use this reference value\n",
    "\n",
    "summary.loc[samples, \"RNA molecules censored relative to reference\"] = summary.loc[samples, \"RNA molecules censored\"] / ref\n",
    "\n",
    "# Gag-MCP in blood\n",
    "\n",
    "ref = summary.loc[\"24-6\", \"RNA molecules censored\"]  # set reference value\n",
    "samples = [\"24-6\", \"24-7\", \"24-8\", \"24-9\", \"24-10\"]  # samples that use this reference value\n",
    "\n",
    "summary.loc[samples, \"RNA molecules censored relative to reference\"] = summary.loc[samples, \"RNA molecules censored\"] / ref\n",
    "\n",
    "# Free mRNA in blood\n",
    "\n",
    "ref = summary.loc[\"24-11\", \"RNA molecules censored\"]  # set reference value\n",
    "samples = [\"24-11\", \"24-12\", \"24-13\", \"24-14\", \"24-15\"]  # samples that use this reference value\n",
    "\n",
    "summary.loc[samples, \"RNA molecules censored relative to reference\"] = summary.loc[samples, \"RNA molecules censored\"] / ref"
   ]
  },
  {
   "cell_type": "code",
   "execution_count": 18,
   "metadata": {
    "Collapsed": "false"
   },
   "outputs": [],
   "source": [
    "# Repeat for raw Cq values\n",
    "\n",
    "cq_raw = cq_raw.set_index(\"Sample\")\n",
    "\n",
    "# Calculate RNA molecules censored relative to reference\n",
    "\n",
    "# EPN24-MCP in blood\n",
    "\n",
    "ref = summary.loc[\"24-1\", \"RNA molecules censored\"]  # set reference value\n",
    "samples = [\"24-1\", \"24-2\", \"24-3\", \"24-4\", \"24-5\"]  # samples that use this reference value\n",
    "\n",
    "cq_raw.loc[samples, \"RNA molecules censored relative to reference\"] = cq_raw.loc[samples, \"RNA molecules censored\"] / ref\n",
    "\n",
    "# Gag-MCP in blood\n",
    "\n",
    "ref = summary.loc[\"24-6\", \"RNA molecules censored\"]  # set reference value\n",
    "samples = [\"24-6\", \"24-7\", \"24-8\", \"24-9\", \"24-10\"]  # samples that use this reference value\n",
    "\n",
    "cq_raw.loc[samples, \"RNA molecules censored relative to reference\"] = cq_raw.loc[samples, \"RNA molecules censored\"] / ref\n",
    "\n",
    "# Free mRNA in blood\n",
    "\n",
    "ref = summary.loc[\"24-11\", \"RNA molecules censored\"]  # set reference value\n",
    "samples = [\"24-11\", \"24-12\", \"24-13\", \"24-14\", \"24-15\"]  # samples that use this reference value\n",
    "\n",
    "cq_raw.loc[samples, \"RNA molecules censored relative to reference\"] = cq_raw.loc[samples, \"RNA molecules censored\"] / ref\n",
    "\n",
    "cq_raw = cq_raw.reset_index()"
   ]
  },
  {
   "cell_type": "code",
   "execution_count": 19,
   "metadata": {
    "Collapsed": "false"
   },
   "outputs": [],
   "source": [
    "# Convert to percentage\n",
    "\n",
    "summary[\"RNA molecules censored relative to reference %\"] = summary[\"RNA molecules censored relative to reference\"] * 100\n",
    "\n",
    "cq_raw[\"RNA molecules censored relative to reference %\"] = cq_raw[\"RNA molecules censored relative to reference\"] * 100"
   ]
  },
  {
   "cell_type": "markdown",
   "metadata": {
    "Collapsed": "false"
   },
   "source": [
    "# Visualize RNA stability in blood"
   ]
  },
  {
   "cell_type": "markdown",
   "metadata": {
    "Collapsed": "false"
   },
   "source": [
    "## EPN24-MCP "
   ]
  },
  {
   "cell_type": "code",
   "execution_count": 20,
   "metadata": {
    "Collapsed": "false"
   },
   "outputs": [
    {
     "data": {
      "image/png": "[encoded data removed]",
      "text/plain": [
       "<Figure size 525x300 with 1 Axes>"
      ]
     },
     "metadata": {},
     "output_type": "display_data"
    }
   ],
   "source": [
    "fig, ax = plt.subplots(1, 1, figsize=(1.75, 1))\n",
    "\n",
    "ax.set_yscale(\"log\")\n",
    "ax.set_xscale(\"log\")\n",
    "\n",
    "# EPN24-MCP\n",
    "\n",
    "index_ordered = [\"24-1\", \"24-2\", \"24-3\", \"24-4\", \"24-5\"]\n",
    "summary_subset = summary.loc[index_ordered]\n",
    "summary_subset[\"Time\"] = [0.1, 0.25, 1, 4, 24]\n",
    "\n",
    "x = summary_subset[\"Time\"]\n",
    "y = summary_subset[\"RNA molecules censored relative to reference %\"]\n",
    "yerr = summary_subset[\"RNA molecules relative to reference STD %\"]\n",
    "\n",
    "ax.errorbar(x=x,\n",
    "            y=y,\n",
    "            yerr=yerr,\n",
    "            color=\"#44adbf\",\n",
    "            marker=\".\",\n",
    "            capsize=3,\n",
    "            capthick=0.5,\n",
    "            lw=1,\n",
    "            label=\"EPN24-MCP\",\n",
    "            zorder=3)\n",
    "\n",
    "# Free mRNA\n",
    "\n",
    "index_ordered = [\"24-11\", \"24-12\", \"24-13\", \"24-14\", \"24-15\"]\n",
    "summary_subset = summary.loc[index_ordered]\n",
    "summary_subset[\"Time\"] = [0.1, 0.25, 1, 4, 24]\n",
    "\n",
    "x = summary_subset[\"Time\"]\n",
    "y = summary_subset[\"RNA molecules censored relative to reference %\"]\n",
    "yerr = summary_subset[\"RNA molecules relative to reference STD %\"]\n",
    "\n",
    "ax.errorbar(x=x,\n",
    "            y=y,\n",
    "            yerr=yerr,\n",
    "            color=\"#83888a\",\n",
    "            marker=\"s\",\n",
    "            markersize=3,\n",
    "            capsize=3,\n",
    "            capthick=0.5,\n",
    "            lw=1,\n",
    "            label=\"None (not packaged)\",\n",
    "            zorder=1)\n",
    "\n",
    "ax.set_xlim(0.07, 32)\n",
    "ax.set_ylim(0.01, 400)\n",
    "\n",
    "locmaj = mpl.ticker.LogLocator(base=10,numticks=12) \n",
    "ax.yaxis.set_major_locator(locmaj)\n",
    "\n",
    "locmin = mpl.ticker.LogLocator(base=10.0,subs=(0.2,0.4,0.6,0.8),numticks=12)\n",
    "ax.yaxis.set_minor_locator(locmin)\n",
    "ax.yaxis.set_minor_formatter(mpl.ticker.NullFormatter())\n",
    "\n",
    "ax.set_xticks([0.1, 0.25, 1, 4, 24])\n",
    "ax.tick_params(which=\"minor\", axis=\"x\", size=0)\n",
    "ax.set_xticklabels([0, 0.25, 1, 4, 24])\n",
    "\n",
    "ax.set_xlabel(\"Time (hours)\")\n",
    "ax.set_ylabel(\"RNA remaining (%)\")\n",
    "ax.set_yticklabels([\"\", \"0.01\", \"0.1\", \"1\", \"10\", \"100\"])\n",
    "\n",
    "fig.legend(loc=\"center left\", bbox_to_anchor=(0.95, 0.5), title=\"Exporter\")\n",
    "\n",
    "LOD = summary.loc[\"24-31\", \"RNA molecules censored relative to reference %\"].max()\n",
    "ax.axhline(LOD, ls=\"--\", color=\"k\", lw=0.5, zorder=-1)\n",
    "\n",
    "ax.axhline(100, ls=\"--\", color=\"k\", lw=0.5, zorder=-1)\n",
    "\n",
    "sns.despine()\n",
    "\n",
    "save_figure(fig, \"stability_blood_EPN24MCP_37C_censored\")"
   ]
  },
  {
   "cell_type": "markdown",
   "metadata": {
    "Collapsed": "false"
   },
   "source": [
    "## Gag-MCP"
   ]
  },
  {
   "cell_type": "code",
   "execution_count": 21,
   "metadata": {
    "Collapsed": "false"
   },
   "outputs": [
    {
     "data": {
      "image/png": "[encoded data removed]",
      "text/plain": [
       "<Figure size 525x300 with 1 Axes>"
      ]
     },
     "metadata": {},
     "output_type": "display_data"
    }
   ],
   "source": [
    "fig, ax = plt.subplots(1, 1, figsize=(1.75, 1))\n",
    "\n",
    "ax.set_yscale(\"log\")\n",
    "ax.set_xscale(\"log\")\n",
    "\n",
    "# Gag-MCP\n",
    "\n",
    "index_ordered = [\"24-6\", \"24-7\", \"24-8\", \"24-9\", \"24-10\"]\n",
    "summary_subset = summary.loc[index_ordered]\n",
    "summary_subset[\"Time\"] = [0.1, 0.25, 1, 4, 24]\n",
    "\n",
    "x = summary_subset[\"Time\"]\n",
    "y = summary_subset[\"RNA molecules censored relative to reference %\"]\n",
    "yerr = summary_subset[\"RNA molecules relative to reference STD %\"]\n",
    "\n",
    "ax.errorbar(x=x,\n",
    "            y=y,\n",
    "            yerr=yerr,\n",
    "            color=\"#b1accc\",\n",
    "            marker=\"^\",\n",
    "            markersize=3,\n",
    "            capsize=3,\n",
    "            capthick=0.5,\n",
    "            lw=1,\n",
    "            label=\"Gag-MCP\",\n",
    "            zorder=2)\n",
    "\n",
    "# Free mRNA\n",
    "\n",
    "index_ordered = [\"24-11\", \"24-12\", \"24-13\", \"24-14\", \"24-15\"]\n",
    "summary_subset = summary.loc[index_ordered]\n",
    "summary_subset[\"Time\"] = [0.1, 0.25, 1, 4, 24]\n",
    "\n",
    "x = summary_subset[\"Time\"]\n",
    "y = summary_subset[\"RNA molecules censored relative to reference %\"]\n",
    "yerr = summary_subset[\"RNA molecules relative to reference STD %\"]\n",
    "\n",
    "ax.errorbar(x=x,\n",
    "            y=y,\n",
    "            yerr=yerr,\n",
    "            color=\"#83888a\",\n",
    "            marker=\"s\",\n",
    "            markersize=3,\n",
    "            capsize=3,\n",
    "            capthick=0.5,\n",
    "            lw=1,\n",
    "            label=\"None (not packaged)\",\n",
    "            zorder=1)\n",
    "\n",
    "ax.set_xlim(0.07, 32)\n",
    "ax.set_ylim(0.01, 400)\n",
    "\n",
    "locmaj = mpl.ticker.LogLocator(base=10,numticks=12) \n",
    "ax.yaxis.set_major_locator(locmaj)\n",
    "\n",
    "locmin = mpl.ticker.LogLocator(base=10.0,subs=(0.2,0.4,0.6,0.8),numticks=12)\n",
    "ax.yaxis.set_minor_locator(locmin)\n",
    "ax.yaxis.set_minor_formatter(mpl.ticker.NullFormatter())\n",
    "\n",
    "ax.set_xticks([0.1, 0.25, 1, 4, 24])\n",
    "ax.tick_params(which=\"minor\", axis=\"x\", size=0)\n",
    "ax.set_xticklabels([0, 0.25, 1, 4, 24])\n",
    "\n",
    "ax.set_xlabel(\"Time (hours)\")\n",
    "ax.set_ylabel(\"RNA remaining (%)\")\n",
    "ax.set_yticklabels([\"\", \"0.01\", \"0.1\", \"1\", \"10\", \"100\"])\n",
    "\n",
    "fig.legend(loc=\"center left\", bbox_to_anchor=(0.95, 0.5), title=\"Exporter\")\n",
    "\n",
    "LOD = summary.loc[\"24-31\", \"RNA molecules censored relative to reference %\"].max()\n",
    "ax.axhline(LOD, ls=\"--\", color=\"k\", lw=0.5, zorder=-1)\n",
    "\n",
    "ax.axhline(100, ls=\"--\", color=\"k\", lw=0.5, zorder=-1)\n",
    "\n",
    "sns.despine()\n",
    "\n",
    "save_figure(fig, \"stability_blood_GagMCP_37C_censored\")"
   ]
  },
  {
   "cell_type": "markdown",
   "metadata": {
    "Collapsed": "false"
   },
   "source": [
    "## Report values"
   ]
  },
  {
   "cell_type": "code",
   "execution_count": 22,
   "metadata": {
    "Collapsed": "false"
   },
   "outputs": [
    {
     "data": {
      "text/html": [
       "<div>\n",
       "<style scoped>\n",
       "    .dataframe tbody tr th:only-of-type {\n",
       "        vertical-align: middle;\n",
       "    }\n",
       "\n",
       "    .dataframe tbody tr th {\n",
       "        vertical-align: top;\n",
       "    }\n",
       "\n",
       "    .dataframe thead th {\n",
       "        text-align: right;\n",
       "    }\n",
       "</style>\n",
       "<table border=\"1\" class=\"dataframe\">\n",
       "  <thead>\n",
       "    <tr style=\"text-align: right;\">\n",
       "      <th></th>\n",
       "      <th>mean SQ</th>\n",
       "      <th>std SQ</th>\n",
       "      <th>RNA molecules</th>\n",
       "      <th>RNA molecules STD</th>\n",
       "      <th>RNA molecules relative to reference</th>\n",
       "      <th>RNA molecules relative to reference STD</th>\n",
       "      <th>RNA molecules relative to reference %</th>\n",
       "      <th>RNA molecules relative to reference STD %</th>\n",
       "      <th>RNA molecules censored</th>\n",
       "      <th>RNA molecules censored relative to reference</th>\n",
       "      <th>RNA molecules censored relative to reference %</th>\n",
       "      <th>Time</th>\n",
       "    </tr>\n",
       "    <tr>\n",
       "      <th>Sample</th>\n",
       "      <th></th>\n",
       "      <th></th>\n",
       "      <th></th>\n",
       "      <th></th>\n",
       "      <th></th>\n",
       "      <th></th>\n",
       "      <th></th>\n",
       "      <th></th>\n",
       "      <th></th>\n",
       "      <th></th>\n",
       "      <th></th>\n",
       "      <th></th>\n",
       "    </tr>\n",
       "  </thead>\n",
       "  <tbody>\n",
       "    <tr>\n",
       "      <th>24-1</th>\n",
       "      <td>2423.762559</td>\n",
       "      <td>312.243040</td>\n",
       "      <td>1.488962e+08</td>\n",
       "      <td>1.918167e+07</td>\n",
       "      <td>1.000000</td>\n",
       "      <td>0.128826</td>\n",
       "      <td>100.000000</td>\n",
       "      <td>12.882575</td>\n",
       "      <td>1.488962e+08</td>\n",
       "      <td>1.000000</td>\n",
       "      <td>100.000000</td>\n",
       "      <td>0.10</td>\n",
       "    </tr>\n",
       "    <tr>\n",
       "      <th>24-2</th>\n",
       "      <td>3592.909938</td>\n",
       "      <td>738.401493</td>\n",
       "      <td>2.207191e+08</td>\n",
       "      <td>4.536138e+07</td>\n",
       "      <td>1.482369</td>\n",
       "      <td>0.304651</td>\n",
       "      <td>148.236878</td>\n",
       "      <td>30.465092</td>\n",
       "      <td>2.207191e+08</td>\n",
       "      <td>1.482369</td>\n",
       "      <td>148.236878</td>\n",
       "      <td>0.25</td>\n",
       "    </tr>\n",
       "    <tr>\n",
       "      <th>24-3</th>\n",
       "      <td>5310.114831</td>\n",
       "      <td>286.461565</td>\n",
       "      <td>3.262102e+08</td>\n",
       "      <td>1.759787e+07</td>\n",
       "      <td>2.190856</td>\n",
       "      <td>0.118189</td>\n",
       "      <td>219.085604</td>\n",
       "      <td>11.818879</td>\n",
       "      <td>3.262102e+08</td>\n",
       "      <td>2.190856</td>\n",
       "      <td>219.085604</td>\n",
       "      <td>1.00</td>\n",
       "    </tr>\n",
       "    <tr>\n",
       "      <th>24-4</th>\n",
       "      <td>6277.814385</td>\n",
       "      <td>1307.927210</td>\n",
       "      <td>3.856578e+08</td>\n",
       "      <td>8.034840e+07</td>\n",
       "      <td>2.590111</td>\n",
       "      <td>0.539627</td>\n",
       "      <td>259.011113</td>\n",
       "      <td>53.962679</td>\n",
       "      <td>3.856578e+08</td>\n",
       "      <td>2.590111</td>\n",
       "      <td>259.011113</td>\n",
       "      <td>4.00</td>\n",
       "    </tr>\n",
       "    <tr>\n",
       "      <th>24-5</th>\n",
       "      <td>5504.314857</td>\n",
       "      <td>157.219101</td>\n",
       "      <td>3.381403e+08</td>\n",
       "      <td>9.658262e+06</td>\n",
       "      <td>2.270979</td>\n",
       "      <td>0.064866</td>\n",
       "      <td>227.097941</td>\n",
       "      <td>6.486572</td>\n",
       "      <td>3.381403e+08</td>\n",
       "      <td>2.270979</td>\n",
       "      <td>227.097941</td>\n",
       "      <td>24.00</td>\n",
       "    </tr>\n",
       "  </tbody>\n",
       "</table>\n",
       "</div>"
      ],
      "text/plain": [
       "            mean SQ       std SQ  RNA molecules  RNA molecules STD  RNA molecules relative to reference  RNA molecules relative to reference STD  RNA molecules relative to reference %  RNA molecules relative to reference STD %  RNA molecules censored  RNA molecules censored relative to reference  RNA molecules censored relative to reference %   Time\n",
       "Sample                                                                                                                                                                                                                                                                                                                                                         \n",
       "24-1    2423.762559   312.243040   1.488962e+08       1.918167e+07                             1.000000                                 0.128826                             100.000000                                  12.882575            1.488962e+08                                      1.000000                                      100.000000   0.10\n",
       "24-2    3592.909938   738.401493   2.207191e+08       4.536138e+07                             1.482369                                 0.304651                             148.236878                                  30.465092            2.207191e+08                                      1.482369                                      148.236878   0.25\n",
       "24-3    5310.114831   286.461565   3.262102e+08       1.759787e+07                             2.190856                                 0.118189                             219.085604                                  11.818879            3.262102e+08                                      2.190856                                      219.085604   1.00\n",
       "24-4    6277.814385  1307.927210   3.856578e+08       8.034840e+07                             2.590111                                 0.539627                             259.011113                                  53.962679            3.856578e+08                                      2.590111                                      259.011113   4.00\n",
       "24-5    5504.314857   157.219101   3.381403e+08       9.658262e+06                             2.270979                                 0.064866                             227.097941                                   6.486572            3.381403e+08                                      2.270979                                      227.097941  24.00"
      ]
     },
     "execution_count": 22,
     "metadata": {},
     "output_type": "execute_result"
    }
   ],
   "source": [
    "# EPN24-MCP\n",
    "index_ordered = [\"24-1\", \"24-2\", \"24-3\", \"24-4\", \"24-5\"]\n",
    "summary_subset = summary.loc[index_ordered]\n",
    "summary_subset[\"Time\"] = [0.1, 0.25, 1, 4, 24]\n",
    "summary_subset"
   ]
  },
  {
   "cell_type": "code",
   "execution_count": 23,
   "metadata": {
    "Collapsed": "false"
   },
   "outputs": [
    {
     "data": {
      "text/html": [
       "<div>\n",
       "<style scoped>\n",
       "    .dataframe tbody tr th:only-of-type {\n",
       "        vertical-align: middle;\n",
       "    }\n",
       "\n",
       "    .dataframe tbody tr th {\n",
       "        vertical-align: top;\n",
       "    }\n",
       "\n",
       "    .dataframe thead th {\n",
       "        text-align: right;\n",
       "    }\n",
       "</style>\n",
       "<table border=\"1\" class=\"dataframe\">\n",
       "  <thead>\n",
       "    <tr style=\"text-align: right;\">\n",
       "      <th></th>\n",
       "      <th>mean SQ</th>\n",
       "      <th>std SQ</th>\n",
       "      <th>RNA molecules</th>\n",
       "      <th>RNA molecules STD</th>\n",
       "      <th>RNA molecules relative to reference</th>\n",
       "      <th>RNA molecules relative to reference STD</th>\n",
       "      <th>RNA molecules relative to reference %</th>\n",
       "      <th>RNA molecules relative to reference STD %</th>\n",
       "      <th>RNA molecules censored</th>\n",
       "      <th>RNA molecules censored relative to reference</th>\n",
       "      <th>RNA molecules censored relative to reference %</th>\n",
       "      <th>Time</th>\n",
       "    </tr>\n",
       "    <tr>\n",
       "      <th>Sample</th>\n",
       "      <th></th>\n",
       "      <th></th>\n",
       "      <th></th>\n",
       "      <th></th>\n",
       "      <th></th>\n",
       "      <th></th>\n",
       "      <th></th>\n",
       "      <th></th>\n",
       "      <th></th>\n",
       "      <th></th>\n",
       "      <th></th>\n",
       "      <th></th>\n",
       "    </tr>\n",
       "  </thead>\n",
       "  <tbody>\n",
       "    <tr>\n",
       "      <th>24-6</th>\n",
       "      <td>34002.762407</td>\n",
       "      <td>5580.451878</td>\n",
       "      <td>2.088853e+09</td>\n",
       "      <td>3.428175e+08</td>\n",
       "      <td>1.000000</td>\n",
       "      <td>0.164118</td>\n",
       "      <td>100.000000</td>\n",
       "      <td>16.411760</td>\n",
       "      <td>2.088853e+09</td>\n",
       "      <td>1.000000</td>\n",
       "      <td>100.000000</td>\n",
       "      <td>0.10</td>\n",
       "    </tr>\n",
       "    <tr>\n",
       "      <th>24-7</th>\n",
       "      <td>28887.393500</td>\n",
       "      <td>2123.510265</td>\n",
       "      <td>1.774606e+09</td>\n",
       "      <td>1.304512e+08</td>\n",
       "      <td>0.849560</td>\n",
       "      <td>0.062451</td>\n",
       "      <td>84.956020</td>\n",
       "      <td>6.245111</td>\n",
       "      <td>1.774606e+09</td>\n",
       "      <td>0.849560</td>\n",
       "      <td>84.956020</td>\n",
       "      <td>0.25</td>\n",
       "    </tr>\n",
       "    <tr>\n",
       "      <th>24-8</th>\n",
       "      <td>47412.834883</td>\n",
       "      <td>7782.848300</td>\n",
       "      <td>2.912659e+09</td>\n",
       "      <td>4.781148e+08</td>\n",
       "      <td>1.394382</td>\n",
       "      <td>0.228889</td>\n",
       "      <td>139.438185</td>\n",
       "      <td>22.888871</td>\n",
       "      <td>2.912659e+09</td>\n",
       "      <td>1.394382</td>\n",
       "      <td>139.438185</td>\n",
       "      <td>1.00</td>\n",
       "    </tr>\n",
       "    <tr>\n",
       "      <th>24-9</th>\n",
       "      <td>47678.283057</td>\n",
       "      <td>1851.068402</td>\n",
       "      <td>2.928966e+09</td>\n",
       "      <td>1.137146e+08</td>\n",
       "      <td>1.402189</td>\n",
       "      <td>0.054439</td>\n",
       "      <td>140.218852</td>\n",
       "      <td>5.443877</td>\n",
       "      <td>2.928966e+09</td>\n",
       "      <td>1.402189</td>\n",
       "      <td>140.218852</td>\n",
       "      <td>4.00</td>\n",
       "    </tr>\n",
       "    <tr>\n",
       "      <th>24-10</th>\n",
       "      <td>41531.152937</td>\n",
       "      <td>334.458094</td>\n",
       "      <td>2.551336e+09</td>\n",
       "      <td>2.054638e+07</td>\n",
       "      <td>1.221405</td>\n",
       "      <td>0.009836</td>\n",
       "      <td>122.140526</td>\n",
       "      <td>0.983620</td>\n",
       "      <td>2.551336e+09</td>\n",
       "      <td>1.221405</td>\n",
       "      <td>122.140526</td>\n",
       "      <td>24.00</td>\n",
       "    </tr>\n",
       "  </tbody>\n",
       "</table>\n",
       "</div>"
      ],
      "text/plain": [
       "             mean SQ       std SQ  RNA molecules  RNA molecules STD  RNA molecules relative to reference  RNA molecules relative to reference STD  RNA molecules relative to reference %  RNA molecules relative to reference STD %  RNA molecules censored  RNA molecules censored relative to reference  RNA molecules censored relative to reference %   Time\n",
       "Sample                                                                                                                                                                                                                                                                                                                                                          \n",
       "24-6    34002.762407  5580.451878   2.088853e+09       3.428175e+08                             1.000000                                 0.164118                             100.000000                                  16.411760            2.088853e+09                                      1.000000                                      100.000000   0.10\n",
       "24-7    28887.393500  2123.510265   1.774606e+09       1.304512e+08                             0.849560                                 0.062451                              84.956020                                   6.245111            1.774606e+09                                      0.849560                                       84.956020   0.25\n",
       "24-8    47412.834883  7782.848300   2.912659e+09       4.781148e+08                             1.394382                                 0.228889                             139.438185                                  22.888871            2.912659e+09                                      1.394382                                      139.438185   1.00\n",
       "24-9    47678.283057  1851.068402   2.928966e+09       1.137146e+08                             1.402189                                 0.054439                             140.218852                                   5.443877            2.928966e+09                                      1.402189                                      140.218852   4.00\n",
       "24-10   41531.152937   334.458094   2.551336e+09       2.054638e+07                             1.221405                                 0.009836                             122.140526                                   0.983620            2.551336e+09                                      1.221405                                      122.140526  24.00"
      ]
     },
     "execution_count": 23,
     "metadata": {},
     "output_type": "execute_result"
    }
   ],
   "source": [
    "# Gag-MCP\n",
    "\n",
    "index_ordered = [\"24-6\", \"24-7\", \"24-8\", \"24-9\", \"24-10\"]\n",
    "summary_subset = summary.loc[index_ordered]\n",
    "summary_subset[\"Time\"] = [0.1, 0.25, 1, 4, 24]\n",
    "summary_subset"
   ]
  },
  {
   "cell_type": "code",
   "execution_count": 24,
   "metadata": {
    "Collapsed": "false"
   },
   "outputs": [
    {
     "data": {
      "text/html": [
       "<div>\n",
       "<style scoped>\n",
       "    .dataframe tbody tr th:only-of-type {\n",
       "        vertical-align: middle;\n",
       "    }\n",
       "\n",
       "    .dataframe tbody tr th {\n",
       "        vertical-align: top;\n",
       "    }\n",
       "\n",
       "    .dataframe thead th {\n",
       "        text-align: right;\n",
       "    }\n",
       "</style>\n",
       "<table border=\"1\" class=\"dataframe\">\n",
       "  <thead>\n",
       "    <tr style=\"text-align: right;\">\n",
       "      <th></th>\n",
       "      <th>mean SQ</th>\n",
       "      <th>std SQ</th>\n",
       "      <th>RNA molecules</th>\n",
       "      <th>RNA molecules STD</th>\n",
       "      <th>RNA molecules relative to reference</th>\n",
       "      <th>RNA molecules relative to reference STD</th>\n",
       "      <th>RNA molecules relative to reference %</th>\n",
       "      <th>RNA molecules relative to reference STD %</th>\n",
       "      <th>RNA molecules censored</th>\n",
       "      <th>RNA molecules censored relative to reference</th>\n",
       "      <th>RNA molecules censored relative to reference %</th>\n",
       "      <th>Time</th>\n",
       "    </tr>\n",
       "    <tr>\n",
       "      <th>Sample</th>\n",
       "      <th></th>\n",
       "      <th></th>\n",
       "      <th></th>\n",
       "      <th></th>\n",
       "      <th></th>\n",
       "      <th></th>\n",
       "      <th></th>\n",
       "      <th></th>\n",
       "      <th></th>\n",
       "      <th></th>\n",
       "      <th></th>\n",
       "      <th></th>\n",
       "    </tr>\n",
       "  </thead>\n",
       "  <tbody>\n",
       "    <tr>\n",
       "      <th>24-11</th>\n",
       "      <td>485473.867367</td>\n",
       "      <td>157943.954536</td>\n",
       "      <td>2.982356e+10</td>\n",
       "      <td>9.702791e+09</td>\n",
       "      <td>1.000000</td>\n",
       "      <td>0.325340</td>\n",
       "      <td>100.000000</td>\n",
       "      <td>32.533977</td>\n",
       "      <td>2.982356e+10</td>\n",
       "      <td>1.000000</td>\n",
       "      <td>100.000000</td>\n",
       "      <td>0.10</td>\n",
       "    </tr>\n",
       "    <tr>\n",
       "      <th>24-12</th>\n",
       "      <td>515.464440</td>\n",
       "      <td>115.913100</td>\n",
       "      <td>3.166594e+07</td>\n",
       "      <td>7.120757e+06</td>\n",
       "      <td>0.001062</td>\n",
       "      <td>0.000239</td>\n",
       "      <td>0.106178</td>\n",
       "      <td>0.023876</td>\n",
       "      <td>3.166594e+07</td>\n",
       "      <td>0.001062</td>\n",
       "      <td>0.106178</td>\n",
       "      <td>0.25</td>\n",
       "    </tr>\n",
       "    <tr>\n",
       "      <th>24-13</th>\n",
       "      <td>748.581317</td>\n",
       "      <td>114.975313</td>\n",
       "      <td>4.598674e+07</td>\n",
       "      <td>7.063147e+06</td>\n",
       "      <td>0.001542</td>\n",
       "      <td>0.000237</td>\n",
       "      <td>0.154196</td>\n",
       "      <td>0.023683</td>\n",
       "      <td>4.598674e+07</td>\n",
       "      <td>0.001542</td>\n",
       "      <td>0.154196</td>\n",
       "      <td>1.00</td>\n",
       "    </tr>\n",
       "    <tr>\n",
       "      <th>24-14</th>\n",
       "      <td>161.476761</td>\n",
       "      <td>10.262550</td>\n",
       "      <td>9.919817e+06</td>\n",
       "      <td>6.304475e+05</td>\n",
       "      <td>0.000333</td>\n",
       "      <td>0.000021</td>\n",
       "      <td>0.033262</td>\n",
       "      <td>0.002114</td>\n",
       "      <td>9.919817e+06</td>\n",
       "      <td>0.000333</td>\n",
       "      <td>0.033262</td>\n",
       "      <td>4.00</td>\n",
       "    </tr>\n",
       "    <tr>\n",
       "      <th>24-15</th>\n",
       "      <td>122.516771</td>\n",
       "      <td>12.196818</td>\n",
       "      <td>7.526433e+06</td>\n",
       "      <td>7.492732e+05</td>\n",
       "      <td>0.000252</td>\n",
       "      <td>0.000025</td>\n",
       "      <td>0.025237</td>\n",
       "      <td>0.002512</td>\n",
       "      <td>7.526433e+06</td>\n",
       "      <td>0.000252</td>\n",
       "      <td>0.025237</td>\n",
       "      <td>24.00</td>\n",
       "    </tr>\n",
       "  </tbody>\n",
       "</table>\n",
       "</div>"
      ],
      "text/plain": [
       "              mean SQ         std SQ  RNA molecules  RNA molecules STD  RNA molecules relative to reference  RNA molecules relative to reference STD  RNA molecules relative to reference %  RNA molecules relative to reference STD %  RNA molecules censored  RNA molecules censored relative to reference  RNA molecules censored relative to reference %   Time\n",
       "Sample                                                                                                                                                                                                                                                                                                                                                             \n",
       "24-11   485473.867367  157943.954536   2.982356e+10       9.702791e+09                             1.000000                                 0.325340                             100.000000                                  32.533977            2.982356e+10                                      1.000000                                      100.000000   0.10\n",
       "24-12      515.464440     115.913100   3.166594e+07       7.120757e+06                             0.001062                                 0.000239                               0.106178                                   0.023876            3.166594e+07                                      0.001062                                        0.106178   0.25\n",
       "24-13      748.581317     114.975313   4.598674e+07       7.063147e+06                             0.001542                                 0.000237                               0.154196                                   0.023683            4.598674e+07                                      0.001542                                        0.154196   1.00\n",
       "24-14      161.476761      10.262550   9.919817e+06       6.304475e+05                             0.000333                                 0.000021                               0.033262                                   0.002114            9.919817e+06                                      0.000333                                        0.033262   4.00\n",
       "24-15      122.516771      12.196818   7.526433e+06       7.492732e+05                             0.000252                                 0.000025                               0.025237                                   0.002512            7.526433e+06                                      0.000252                                        0.025237  24.00"
      ]
     },
     "execution_count": 24,
     "metadata": {},
     "output_type": "execute_result"
    }
   ],
   "source": [
    "# Free mRNA\n",
    "\n",
    "index_ordered = [\"24-11\", \"24-12\", \"24-13\", \"24-14\", \"24-15\"]\n",
    "summary_subset = summary.loc[index_ordered]\n",
    "summary_subset[\"Time\"] = [0.1, 0.25, 1, 4, 24]\n",
    "summary_subset"
   ]
  },
  {
   "cell_type": "code",
   "execution_count": null,
   "metadata": {
    "Collapsed": "false"
   },
   "outputs": [],
   "source": []
  }
 ],
 "metadata": {
  "kernelspec": {
   "display_name": "RNA_export_magic",
   "language": "python",
   "name": "rna_export_magic"
  },
  "language_info": {
   "codemirror_mode": {
    "name": "ipython",
    "version": 3
   },
   "file_extension": ".py",
   "mimetype": "text/x-python",
   "name": "python",
   "nbconvert_exporter": "python",
   "pygments_lexer": "ipython3",
   "version": "3.7.7"
  }
 },
 "nbformat": 4,
 "nbformat_minor": 4
}
