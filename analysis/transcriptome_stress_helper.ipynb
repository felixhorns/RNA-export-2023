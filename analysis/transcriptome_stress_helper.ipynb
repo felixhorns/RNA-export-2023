{
 "cells": [
  {
   "cell_type": "markdown",
   "id": "00c695c5",
   "metadata": {
    "Collapsed": "false"
   },
   "source": [
    "# Characterizing perturbation of cellular transcriptomes due to RNA exporter expression"
   ]
  },
  {
   "cell_type": "markdown",
   "id": "e28da8c9",
   "metadata": {
    "Collapsed": "false"
   },
   "source": [
    "Helper notebook for `transcriptome_stress.ipynb`. Here we run differential expression analysis using DESeq2 in R.\n",
    "\n",
    "Note that running kernel must be an R kernel with DESeq2 installed."
   ]
  },
  {
   "cell_type": "markdown",
   "id": "08211eb2",
   "metadata": {
    "Collapsed": "false"
   },
   "source": [
    "# Imports"
   ]
  },
  {
   "cell_type": "code",
   "execution_count": 1,
   "id": "0f77ca11",
   "metadata": {
    "Collapsed": "false"
   },
   "outputs": [
    {
     "name": "stderr",
     "output_type": "stream",
     "text": [
      "Loading required package: S4Vectors\n",
      "\n",
      "Loading required package: stats4\n",
      "\n",
      "Loading required package: BiocGenerics\n",
      "\n",
      "Loading required package: parallel\n",
      "\n",
      "\n",
      "Attaching package: ‘BiocGenerics’\n",
      "\n",
      "\n",
      "The following objects are masked from ‘package:parallel’:\n",
      "\n",
      "    clusterApply, clusterApplyLB, clusterCall, clusterEvalQ,\n",
      "    clusterExport, clusterMap, parApply, parCapply, parLapply,\n",
      "    parLapplyLB, parRapply, parSapply, parSapplyLB\n",
      "\n",
      "\n",
      "The following objects are masked from ‘package:stats’:\n",
      "\n",
      "    IQR, mad, sd, var, xtabs\n",
      "\n",
      "\n",
      "The following objects are masked from ‘package:base’:\n",
      "\n",
      "    anyDuplicated, append, as.data.frame, basename, cbind, colnames,\n",
      "    dirname, do.call, duplicated, eval, evalq, Filter, Find, get, grep,\n",
      "    grepl, intersect, is.unsorted, lapply, Map, mapply, match, mget,\n",
      "    order, paste, pmax, pmax.int, pmin, pmin.int, Position, rank,\n",
      "    rbind, Reduce, rownames, sapply, setdiff, sort, table, tapply,\n",
      "    union, unique, unsplit, which.max, which.min\n",
      "\n",
      "\n",
      "\n",
      "Attaching package: ‘S4Vectors’\n",
      "\n",
      "\n",
      "The following object is masked from ‘package:base’:\n",
      "\n",
      "    expand.grid\n",
      "\n",
      "\n",
      "Loading required package: IRanges\n",
      "\n",
      "Loading required package: GenomicRanges\n",
      "\n",
      "Loading required package: GenomeInfoDb\n",
      "\n",
      "Loading required package: SummarizedExperiment\n",
      "\n",
      "Loading required package: MatrixGenerics\n",
      "\n",
      "Loading required package: matrixStats\n",
      "\n",
      "\n",
      "Attaching package: ‘MatrixGenerics’\n",
      "\n",
      "\n",
      "The following objects are masked from ‘package:matrixStats’:\n",
      "\n",
      "    colAlls, colAnyNAs, colAnys, colAvgsPerRowSet, colCollapse,\n",
      "    colCounts, colCummaxs, colCummins, colCumprods, colCumsums,\n",
      "    colDiffs, colIQRDiffs, colIQRs, colLogSumExps, colMadDiffs,\n",
      "    colMads, colMaxs, colMeans2, colMedians, colMins, colOrderStats,\n",
      "    colProds, colQuantiles, colRanges, colRanks, colSdDiffs, colSds,\n",
      "    colSums2, colTabulates, colVarDiffs, colVars, colWeightedMads,\n",
      "    colWeightedMeans, colWeightedMedians, colWeightedSds,\n",
      "    colWeightedVars, rowAlls, rowAnyNAs, rowAnys, rowAvgsPerColSet,\n",
      "    rowCollapse, rowCounts, rowCummaxs, rowCummins, rowCumprods,\n",
      "    rowCumsums, rowDiffs, rowIQRDiffs, rowIQRs, rowLogSumExps,\n",
      "    rowMadDiffs, rowMads, rowMaxs, rowMeans2, rowMedians, rowMins,\n",
      "    rowOrderStats, rowProds, rowQuantiles, rowRanges, rowRanks,\n",
      "    rowSdDiffs, rowSds, rowSums2, rowTabulates, rowVarDiffs, rowVars,\n",
      "    rowWeightedMads, rowWeightedMeans, rowWeightedMedians,\n",
      "    rowWeightedSds, rowWeightedVars\n",
      "\n",
      "\n",
      "Loading required package: Biobase\n",
      "\n",
      "Welcome to Bioconductor\n",
      "\n",
      "    Vignettes contain introductory material; view with\n",
      "    'browseVignettes()'. To cite Bioconductor, see\n",
      "    'citation(\"Biobase\")', and for packages 'citation(\"pkgname\")'.\n",
      "\n",
      "\n",
      "\n",
      "Attaching package: ‘Biobase’\n",
      "\n",
      "\n",
      "The following object is masked from ‘package:MatrixGenerics’:\n",
      "\n",
      "    rowMedians\n",
      "\n",
      "\n",
      "The following objects are masked from ‘package:matrixStats’:\n",
      "\n",
      "    anyMissing, rowMedians\n",
      "\n",
      "\n"
     ]
    }
   ],
   "source": [
    "library(\"DESeq2\")"
   ]
  },
  {
   "cell_type": "markdown",
   "id": "83a303df",
   "metadata": {
    "Collapsed": "false"
   },
   "source": [
    "# Load data"
   ]
  },
  {
   "cell_type": "code",
   "execution_count": 2,
   "id": "069227a0",
   "metadata": {
    "Collapsed": "false"
   },
   "outputs": [
    {
     "data": {
      "text/html": [
       "<style>\n",
       ".list-inline {list-style: none; margin:0; padding: 0}\n",
       ".list-inline>li {display: inline-block}\n",
       ".list-inline>li:not(:last-child)::after {content: \"\\00b7\"; padding: 0 .5ex}\n",
       "</style>\n",
       "<ol class=list-inline><li>30877</li><li>8</li></ol>\n"
      ],
      "text/latex": [
       "\\begin{enumerate*}\n",
       "\\item 30877\n",
       "\\item 8\n",
       "\\end{enumerate*}\n"
      ],
      "text/markdown": [
       "1. 30877\n",
       "2. 8\n",
       "\n",
       "\n"
      ],
      "text/plain": [
       "[1] 30877     8"
      ]
     },
     "metadata": {},
     "output_type": "display_data"
    },
    {
     "data": {
      "text/html": [
       "<table class=\"dataframe\">\n",
       "<caption>A data.frame: 6 × 8</caption>\n",
       "<thead>\n",
       "\t<tr><th></th><th scope=col>Gag</th><th scope=col>GagMCP</th><th scope=col>GagZipMCP</th><th scope=col>EPN24MCP</th><th scope=col>No_Exporter_Psi</th><th scope=col>No_Exporter_MS2x8</th><th scope=col>NoDNA</th><th scope=col>Wildtype</th></tr>\n",
       "\t<tr><th></th><th scope=col>&lt;int&gt;</th><th scope=col>&lt;int&gt;</th><th scope=col>&lt;int&gt;</th><th scope=col>&lt;int&gt;</th><th scope=col>&lt;int&gt;</th><th scope=col>&lt;int&gt;</th><th scope=col>&lt;int&gt;</th><th scope=col>&lt;int&gt;</th></tr>\n",
       "</thead>\n",
       "<tbody>\n",
       "\t<tr><th scope=row>EGFP</th><td>198592</td><td>98788</td><td>93438</td><td>62364</td><td>   0</td><td>   0</td><td>   0</td><td>   0</td></tr>\n",
       "\t<tr><th scope=row>TSPAN6_ENSG00000000003</th><td>  2691</td><td> 2615</td><td> 2802</td><td> 2800</td><td>2464</td><td>3358</td><td>3184</td><td>2991</td></tr>\n",
       "\t<tr><th scope=row>TNMD_ENSG00000000005</th><td>     7</td><td>    2</td><td>    8</td><td>    7</td><td>   5</td><td>   8</td><td>  10</td><td>  11</td></tr>\n",
       "\t<tr><th scope=row>DPM1_ENSG00000000419</th><td>  1514</td><td> 1543</td><td> 1533</td><td> 1536</td><td>1263</td><td>1936</td><td>1291</td><td>1139</td></tr>\n",
       "\t<tr><th scope=row>SCYL3_ENSG00000000457</th><td>   535</td><td>  614</td><td>  653</td><td>  625</td><td> 522</td><td> 686</td><td> 614</td><td> 557</td></tr>\n",
       "\t<tr><th scope=row>C1orf112_ENSG00000000460</th><td>  1251</td><td> 1429</td><td> 1486</td><td> 1350</td><td>1005</td><td>1786</td><td>1077</td><td>1056</td></tr>\n",
       "</tbody>\n",
       "</table>\n"
      ],
      "text/latex": [
       "A data.frame: 6 × 8\n",
       "\\begin{tabular}{r|llllllll}\n",
       "  & Gag & GagMCP & GagZipMCP & EPN24MCP & No\\_Exporter\\_Psi & No\\_Exporter\\_MS2x8 & NoDNA & Wildtype\\\\\n",
       "  & <int> & <int> & <int> & <int> & <int> & <int> & <int> & <int>\\\\\n",
       "\\hline\n",
       "\tEGFP & 198592 & 98788 & 93438 & 62364 &    0 &    0 &    0 &    0\\\\\n",
       "\tTSPAN6\\_ENSG00000000003 &   2691 &  2615 &  2802 &  2800 & 2464 & 3358 & 3184 & 2991\\\\\n",
       "\tTNMD\\_ENSG00000000005 &      7 &     2 &     8 &     7 &    5 &    8 &   10 &   11\\\\\n",
       "\tDPM1\\_ENSG00000000419 &   1514 &  1543 &  1533 &  1536 & 1263 & 1936 & 1291 & 1139\\\\\n",
       "\tSCYL3\\_ENSG00000000457 &    535 &   614 &   653 &   625 &  522 &  686 &  614 &  557\\\\\n",
       "\tC1orf112\\_ENSG00000000460 &   1251 &  1429 &  1486 &  1350 & 1005 & 1786 & 1077 & 1056\\\\\n",
       "\\end{tabular}\n"
      ],
      "text/markdown": [
       "\n",
       "A data.frame: 6 × 8\n",
       "\n",
       "| <!--/--> | Gag &lt;int&gt; | GagMCP &lt;int&gt; | GagZipMCP &lt;int&gt; | EPN24MCP &lt;int&gt; | No_Exporter_Psi &lt;int&gt; | No_Exporter_MS2x8 &lt;int&gt; | NoDNA &lt;int&gt; | Wildtype &lt;int&gt; |\n",
       "|---|---|---|---|---|---|---|---|---|\n",
       "| EGFP | 198592 | 98788 | 93438 | 62364 |    0 |    0 |    0 |    0 |\n",
       "| TSPAN6_ENSG00000000003 |   2691 |  2615 |  2802 |  2800 | 2464 | 3358 | 3184 | 2991 |\n",
       "| TNMD_ENSG00000000005 |      7 |     2 |     8 |     7 |    5 |    8 |   10 |   11 |\n",
       "| DPM1_ENSG00000000419 |   1514 |  1543 |  1533 |  1536 | 1263 | 1936 | 1291 | 1139 |\n",
       "| SCYL3_ENSG00000000457 |    535 |   614 |   653 |   625 |  522 |  686 |  614 |  557 |\n",
       "| C1orf112_ENSG00000000460 |   1251 |  1429 |  1486 |  1350 | 1005 | 1786 | 1077 | 1056 |\n",
       "\n"
      ],
      "text/plain": [
       "                         Gag    GagMCP GagZipMCP EPN24MCP No_Exporter_Psi\n",
       "EGFP                     198592 98788  93438     62364       0           \n",
       "TSPAN6_ENSG00000000003     2691  2615   2802      2800    2464           \n",
       "TNMD_ENSG00000000005          7     2      8         7       5           \n",
       "DPM1_ENSG00000000419       1514  1543   1533      1536    1263           \n",
       "SCYL3_ENSG00000000457       535   614    653       625     522           \n",
       "C1orf112_ENSG00000000460   1251  1429   1486      1350    1005           \n",
       "                         No_Exporter_MS2x8 NoDNA Wildtype\n",
       "EGFP                        0                 0     0    \n",
       "TSPAN6_ENSG00000000003   3358              3184  2991    \n",
       "TNMD_ENSG00000000005        8                10    11    \n",
       "DPM1_ENSG00000000419     1936              1291  1139    \n",
       "SCYL3_ENSG00000000457     686               614   557    \n",
       "C1orf112_ENSG00000000460 1786              1077  1056    "
      ]
     },
     "metadata": {},
     "output_type": "display_data"
    }
   ],
   "source": [
    "# Load counts\n",
    "\n",
    "infile <- \"outs/transcriptome_stress/counts_clean_for_differential_expression.tsv\"\n",
    "counts <- read.csv(infile, sep=\"\\t\")\n",
    "\n",
    "# Set row names\n",
    "rownames(counts) <- counts$symbol_ensembl\n",
    "counts$symbol_ensembl <- NULL\n",
    "\n",
    "dim(counts)\n",
    "head(counts)"
   ]
  },
  {
   "cell_type": "code",
   "execution_count": 3,
   "id": "015262b4",
   "metadata": {
    "Collapsed": "false"
   },
   "outputs": [
    {
     "data": {
      "text/html": [
       "<style>\n",
       ".list-inline {list-style: none; margin:0; padding: 0}\n",
       ".list-inline>li {display: inline-block}\n",
       ".list-inline>li:not(:last-child)::after {content: \"\\00b7\"; padding: 0 .5ex}\n",
       "</style>\n",
       "<ol class=list-inline><li>8</li><li>7</li></ol>\n"
      ],
      "text/latex": [
       "\\begin{enumerate*}\n",
       "\\item 8\n",
       "\\item 7\n",
       "\\end{enumerate*}\n"
      ],
      "text/markdown": [
       "1. 8\n",
       "2. 7\n",
       "\n",
       "\n"
      ],
      "text/plain": [
       "[1] 8 7"
      ]
     },
     "metadata": {},
     "output_type": "display_data"
    },
    {
     "data": {
      "text/html": [
       "<table class=\"dataframe\">\n",
       "<caption>A data.frame: 8 × 7</caption>\n",
       "<thead>\n",
       "\t<tr><th></th><th scope=col>label</th><th scope=col>condition_transfected</th><th scope=col>condition_exporter_indiv_no_exporter_pool</th><th scope=col>condition_exporter_indiv_no_exporter_indiv</th><th scope=col>condition_null</th><th scope=col>condition_exporter</th><th scope=col>label_clean</th></tr>\n",
       "\t<tr><th></th><th scope=col>&lt;fct&gt;</th><th scope=col>&lt;fct&gt;</th><th scope=col>&lt;fct&gt;</th><th scope=col>&lt;fct&gt;</th><th scope=col>&lt;fct&gt;</th><th scope=col>&lt;fct&gt;</th><th scope=col>&lt;fct&gt;</th></tr>\n",
       "</thead>\n",
       "<tbody>\n",
       "\t<tr><th scope=row>Gag</th><td>MMLV_Gag         </td><td>transfected  </td><td>exporter_Gag      </td><td>exporter_Gag      </td><td>exporter_Gag      </td><td>exporter   </td><td>Gag              </td></tr>\n",
       "\t<tr><th scope=row>GagMCP</th><td>Gag-MCP          </td><td>transfected  </td><td>exporter_GagMCP   </td><td>exporter_GagMCP   </td><td>exporter_GagMCP   </td><td>exporter   </td><td>GagMCP           </td></tr>\n",
       "\t<tr><th scope=row>GagZipMCP</th><td>GagZip-MCP       </td><td>transfected  </td><td>exporter_GagZipMCP</td><td>exporter_GagZipMCP</td><td>exporter_GagZipMCP</td><td>exporter   </td><td>GagZipMCP        </td></tr>\n",
       "\t<tr><th scope=row>EPN24MCP</th><td>EPN24-MCP        </td><td>transfected  </td><td>exporter_EPN24MCP </td><td>exporter_EPN24MCP </td><td>exporter_EPN24MCP </td><td>exporter   </td><td>EPN24MCP         </td></tr>\n",
       "\t<tr><th scope=row>No_Exporter_Psi</th><td>No_Exporter_Psi  </td><td>transfected  </td><td>no_exporter       </td><td>no_exporter_Psi   </td><td>no_exporter_Psi   </td><td>no_exporter</td><td>No_Exporter_Psi  </td></tr>\n",
       "\t<tr><th scope=row>No_Exporter_MS2x8</th><td>No_Exporter_MS2x8</td><td>transfected  </td><td>no_exporter       </td><td>no_exporter_MS2   </td><td>no_exporter_MS2   </td><td>no_exporter</td><td>No_Exporter_MS2x8</td></tr>\n",
       "\t<tr><th scope=row>NoDNA</th><td>No_DNA           </td><td>untransfected</td><td>untransfected     </td><td>untransfected     </td><td>no_DNA            </td><td>no_exporter</td><td>NoDNA            </td></tr>\n",
       "\t<tr><th scope=row>Wildtype</th><td>No_Transfection  </td><td>untransfected</td><td>untransfected     </td><td>untransfected     </td><td>no_transfection   </td><td>no_exporter</td><td>Wildtype         </td></tr>\n",
       "</tbody>\n",
       "</table>\n"
      ],
      "text/latex": [
       "A data.frame: 8 × 7\n",
       "\\begin{tabular}{r|lllllll}\n",
       "  & label & condition\\_transfected & condition\\_exporter\\_indiv\\_no\\_exporter\\_pool & condition\\_exporter\\_indiv\\_no\\_exporter\\_indiv & condition\\_null & condition\\_exporter & label\\_clean\\\\\n",
       "  & <fct> & <fct> & <fct> & <fct> & <fct> & <fct> & <fct>\\\\\n",
       "\\hline\n",
       "\tGag & MMLV\\_Gag          & transfected   & exporter\\_Gag       & exporter\\_Gag       & exporter\\_Gag       & exporter    & Gag              \\\\\n",
       "\tGagMCP & Gag-MCP           & transfected   & exporter\\_GagMCP    & exporter\\_GagMCP    & exporter\\_GagMCP    & exporter    & GagMCP           \\\\\n",
       "\tGagZipMCP & GagZip-MCP        & transfected   & exporter\\_GagZipMCP & exporter\\_GagZipMCP & exporter\\_GagZipMCP & exporter    & GagZipMCP        \\\\\n",
       "\tEPN24MCP & EPN24-MCP         & transfected   & exporter\\_EPN24MCP  & exporter\\_EPN24MCP  & exporter\\_EPN24MCP  & exporter    & EPN24MCP         \\\\\n",
       "\tNo\\_Exporter\\_Psi & No\\_Exporter\\_Psi   & transfected   & no\\_exporter        & no\\_exporter\\_Psi    & no\\_exporter\\_Psi    & no\\_exporter & No\\_Exporter\\_Psi  \\\\\n",
       "\tNo\\_Exporter\\_MS2x8 & No\\_Exporter\\_MS2x8 & transfected   & no\\_exporter        & no\\_exporter\\_MS2    & no\\_exporter\\_MS2    & no\\_exporter & No\\_Exporter\\_MS2x8\\\\\n",
       "\tNoDNA & No\\_DNA            & untransfected & untransfected      & untransfected      & no\\_DNA             & no\\_exporter & NoDNA            \\\\\n",
       "\tWildtype & No\\_Transfection   & untransfected & untransfected      & untransfected      & no\\_transfection    & no\\_exporter & Wildtype         \\\\\n",
       "\\end{tabular}\n"
      ],
      "text/markdown": [
       "\n",
       "A data.frame: 8 × 7\n",
       "\n",
       "| <!--/--> | label &lt;fct&gt; | condition_transfected &lt;fct&gt; | condition_exporter_indiv_no_exporter_pool &lt;fct&gt; | condition_exporter_indiv_no_exporter_indiv &lt;fct&gt; | condition_null &lt;fct&gt; | condition_exporter &lt;fct&gt; | label_clean &lt;fct&gt; |\n",
       "|---|---|---|---|---|---|---|---|\n",
       "| Gag | MMLV_Gag          | transfected   | exporter_Gag       | exporter_Gag       | exporter_Gag       | exporter    | Gag               |\n",
       "| GagMCP | Gag-MCP           | transfected   | exporter_GagMCP    | exporter_GagMCP    | exporter_GagMCP    | exporter    | GagMCP            |\n",
       "| GagZipMCP | GagZip-MCP        | transfected   | exporter_GagZipMCP | exporter_GagZipMCP | exporter_GagZipMCP | exporter    | GagZipMCP         |\n",
       "| EPN24MCP | EPN24-MCP         | transfected   | exporter_EPN24MCP  | exporter_EPN24MCP  | exporter_EPN24MCP  | exporter    | EPN24MCP          |\n",
       "| No_Exporter_Psi | No_Exporter_Psi   | transfected   | no_exporter        | no_exporter_Psi    | no_exporter_Psi    | no_exporter | No_Exporter_Psi   |\n",
       "| No_Exporter_MS2x8 | No_Exporter_MS2x8 | transfected   | no_exporter        | no_exporter_MS2    | no_exporter_MS2    | no_exporter | No_Exporter_MS2x8 |\n",
       "| NoDNA | No_DNA            | untransfected | untransfected      | untransfected      | no_DNA             | no_exporter | NoDNA             |\n",
       "| Wildtype | No_Transfection   | untransfected | untransfected      | untransfected      | no_transfection    | no_exporter | Wildtype          |\n",
       "\n"
      ],
      "text/plain": [
       "                  label             condition_transfected\n",
       "Gag               MMLV_Gag          transfected          \n",
       "GagMCP            Gag-MCP           transfected          \n",
       "GagZipMCP         GagZip-MCP        transfected          \n",
       "EPN24MCP          EPN24-MCP         transfected          \n",
       "No_Exporter_Psi   No_Exporter_Psi   transfected          \n",
       "No_Exporter_MS2x8 No_Exporter_MS2x8 transfected          \n",
       "NoDNA             No_DNA            untransfected        \n",
       "Wildtype          No_Transfection   untransfected        \n",
       "                  condition_exporter_indiv_no_exporter_pool\n",
       "Gag               exporter_Gag                             \n",
       "GagMCP            exporter_GagMCP                          \n",
       "GagZipMCP         exporter_GagZipMCP                       \n",
       "EPN24MCP          exporter_EPN24MCP                        \n",
       "No_Exporter_Psi   no_exporter                              \n",
       "No_Exporter_MS2x8 no_exporter                              \n",
       "NoDNA             untransfected                            \n",
       "Wildtype          untransfected                            \n",
       "                  condition_exporter_indiv_no_exporter_indiv condition_null    \n",
       "Gag               exporter_Gag                               exporter_Gag      \n",
       "GagMCP            exporter_GagMCP                            exporter_GagMCP   \n",
       "GagZipMCP         exporter_GagZipMCP                         exporter_GagZipMCP\n",
       "EPN24MCP          exporter_EPN24MCP                          exporter_EPN24MCP \n",
       "No_Exporter_Psi   no_exporter_Psi                            no_exporter_Psi   \n",
       "No_Exporter_MS2x8 no_exporter_MS2                            no_exporter_MS2   \n",
       "NoDNA             untransfected                              no_DNA            \n",
       "Wildtype          untransfected                              no_transfection   \n",
       "                  condition_exporter label_clean      \n",
       "Gag               exporter           Gag              \n",
       "GagMCP            exporter           GagMCP           \n",
       "GagZipMCP         exporter           GagZipMCP        \n",
       "EPN24MCP          exporter           EPN24MCP         \n",
       "No_Exporter_Psi   no_exporter        No_Exporter_Psi  \n",
       "No_Exporter_MS2x8 no_exporter        No_Exporter_MS2x8\n",
       "NoDNA             no_exporter        NoDNA            \n",
       "Wildtype          no_exporter        Wildtype         "
      ]
     },
     "metadata": {},
     "output_type": "display_data"
    }
   ],
   "source": [
    "# Load metadata\n",
    "\n",
    "infile <- \"outs/transcriptome_stress/metadata_clean_for_differential_expression.tsv\"\n",
    "metadata <- read.csv(infile, sep=\"\\t\")\n",
    "\n",
    "# Set row names\n",
    "rownames(metadata) <- metadata$X\n",
    "metadata$X <- NULL\n",
    "\n",
    "# Convert columns to factors\n",
    "metadata$label <- as.factor(metadata$label)\n",
    "metadata$label_clean <- as.factor(metadata$label_clean)\n",
    "metadata$condition_transfected <- as.factor(metadata$condition_transfected)\n",
    "metadata$condition_exporter_indiv_no_exporter_pool <- as.factor(metadata$condition_exporter_indiv_no_exporter_pool)\n",
    "metadata$condition_exporter_indiv_no_exporter_indiv <- as.factor(metadata$condition_exporter_indiv_no_exporter_indiv)\n",
    "metadata$condition_exporter <- as.factor(metadata$condition_exporter)\n",
    "metadata$condition_null <- as.factor(metadata$condition_null)\n",
    "\n",
    "dim(metadata)\n",
    "metadata"
   ]
  },
  {
   "cell_type": "code",
   "execution_count": 4,
   "id": "df33cd77",
   "metadata": {
    "Collapsed": "false"
   },
   "outputs": [
    {
     "data": {
      "text/html": [
       "TRUE"
      ],
      "text/latex": [
       "TRUE"
      ],
      "text/markdown": [
       "TRUE"
      ],
      "text/plain": [
       "[1] TRUE"
      ]
     },
     "metadata": {},
     "output_type": "display_data"
    }
   ],
   "source": [
    "# It is absolutely critical that columns of count matrix and rows of metadata are in the same order.\n",
    "# Confirm this is true.\n",
    "all(rownames(metadata) == colnames(counts))"
   ]
  },
  {
   "cell_type": "markdown",
   "id": "87beb077",
   "metadata": {
    "Collapsed": "false"
   },
   "source": [
    "# Perform differential expression analysis"
   ]
  },
  {
   "cell_type": "markdown",
   "id": "64fa4ac4",
   "metadata": {
    "Collapsed": "false"
   },
   "source": [
    "## Analysis for MMLV Gag (Gag + mCh-Psi versus mCh-Psi)"
   ]
  },
  {
   "cell_type": "code",
   "execution_count": 5,
   "id": "29f9d9aa",
   "metadata": {
    "Collapsed": "false"
   },
   "outputs": [],
   "source": [
    "dds_no_exporter_indiv_Psi <- DESeqDataSetFromMatrix(countData = counts,\n",
    "                                           colData = metadata,\n",
    "                                           design = ~ condition_exporter_indiv_no_exporter_indiv)\n",
    "\n",
    "dds_no_exporter_indiv_Psi$condition_exporter_indiv_no_exporter_indiv <- relevel(dds_no_exporter_indiv_Psi$condition_exporter_indiv_no_exporter_indiv, ref = \"no_exporter_Psi\")"
   ]
  },
  {
   "cell_type": "code",
   "execution_count": 6,
   "id": "7dd228b2",
   "metadata": {
    "Collapsed": "false"
   },
   "outputs": [
    {
     "name": "stderr",
     "output_type": "stream",
     "text": [
      "estimating size factors\n",
      "\n",
      "estimating dispersions\n",
      "\n",
      "gene-wise dispersion estimates\n",
      "\n",
      "mean-dispersion relationship\n",
      "\n",
      "final dispersion estimates\n",
      "\n",
      "fitting model and testing\n",
      "\n"
     ]
    }
   ],
   "source": [
    "dds_no_exporter_indiv_Psi <- DESeq(dds_no_exporter_indiv_Psi)  # perform analysis"
   ]
  },
  {
   "cell_type": "code",
   "execution_count": 7,
   "id": "19711aae",
   "metadata": {
    "Collapsed": "false"
   },
   "outputs": [
    {
     "data": {
      "text/html": [
       "<style>\n",
       ".list-inline {list-style: none; margin:0; padding: 0}\n",
       ".list-inline>li {display: inline-block}\n",
       ".list-inline>li:not(:last-child)::after {content: \"\\00b7\"; padding: 0 .5ex}\n",
       "</style>\n",
       "<ol class=list-inline><li>'Intercept'</li><li>'condition_exporter_indiv_no_exporter_indiv_exporter_EPN24MCP_vs_no_exporter_Psi'</li><li>'condition_exporter_indiv_no_exporter_indiv_exporter_Gag_vs_no_exporter_Psi'</li><li>'condition_exporter_indiv_no_exporter_indiv_exporter_GagMCP_vs_no_exporter_Psi'</li><li>'condition_exporter_indiv_no_exporter_indiv_exporter_GagZipMCP_vs_no_exporter_Psi'</li><li>'condition_exporter_indiv_no_exporter_indiv_no_exporter_MS2_vs_no_exporter_Psi'</li><li>'condition_exporter_indiv_no_exporter_indiv_untransfected_vs_no_exporter_Psi'</li></ol>\n"
      ],
      "text/latex": [
       "\\begin{enumerate*}\n",
       "\\item 'Intercept'\n",
       "\\item 'condition\\_exporter\\_indiv\\_no\\_exporter\\_indiv\\_exporter\\_EPN24MCP\\_vs\\_no\\_exporter\\_Psi'\n",
       "\\item 'condition\\_exporter\\_indiv\\_no\\_exporter\\_indiv\\_exporter\\_Gag\\_vs\\_no\\_exporter\\_Psi'\n",
       "\\item 'condition\\_exporter\\_indiv\\_no\\_exporter\\_indiv\\_exporter\\_GagMCP\\_vs\\_no\\_exporter\\_Psi'\n",
       "\\item 'condition\\_exporter\\_indiv\\_no\\_exporter\\_indiv\\_exporter\\_GagZipMCP\\_vs\\_no\\_exporter\\_Psi'\n",
       "\\item 'condition\\_exporter\\_indiv\\_no\\_exporter\\_indiv\\_no\\_exporter\\_MS2\\_vs\\_no\\_exporter\\_Psi'\n",
       "\\item 'condition\\_exporter\\_indiv\\_no\\_exporter\\_indiv\\_untransfected\\_vs\\_no\\_exporter\\_Psi'\n",
       "\\end{enumerate*}\n"
      ],
      "text/markdown": [
       "1. 'Intercept'\n",
       "2. 'condition_exporter_indiv_no_exporter_indiv_exporter_EPN24MCP_vs_no_exporter_Psi'\n",
       "3. 'condition_exporter_indiv_no_exporter_indiv_exporter_Gag_vs_no_exporter_Psi'\n",
       "4. 'condition_exporter_indiv_no_exporter_indiv_exporter_GagMCP_vs_no_exporter_Psi'\n",
       "5. 'condition_exporter_indiv_no_exporter_indiv_exporter_GagZipMCP_vs_no_exporter_Psi'\n",
       "6. 'condition_exporter_indiv_no_exporter_indiv_no_exporter_MS2_vs_no_exporter_Psi'\n",
       "7. 'condition_exporter_indiv_no_exporter_indiv_untransfected_vs_no_exporter_Psi'\n",
       "\n",
       "\n"
      ],
      "text/plain": [
       "[1] \"Intercept\"                                                                       \n",
       "[2] \"condition_exporter_indiv_no_exporter_indiv_exporter_EPN24MCP_vs_no_exporter_Psi\" \n",
       "[3] \"condition_exporter_indiv_no_exporter_indiv_exporter_Gag_vs_no_exporter_Psi\"      \n",
       "[4] \"condition_exporter_indiv_no_exporter_indiv_exporter_GagMCP_vs_no_exporter_Psi\"   \n",
       "[5] \"condition_exporter_indiv_no_exporter_indiv_exporter_GagZipMCP_vs_no_exporter_Psi\"\n",
       "[6] \"condition_exporter_indiv_no_exporter_indiv_no_exporter_MS2_vs_no_exporter_Psi\"   \n",
       "[7] \"condition_exporter_indiv_no_exporter_indiv_untransfected_vs_no_exporter_Psi\"     "
      ]
     },
     "metadata": {},
     "output_type": "display_data"
    }
   ],
   "source": [
    "resultsNames(dds_no_exporter_indiv_Psi)"
   ]
  },
  {
   "cell_type": "code",
   "execution_count": 8,
   "id": "38b41273",
   "metadata": {
    "Collapsed": "false"
   },
   "outputs": [
    {
     "name": "stdout",
     "output_type": "stream",
     "text": [
      "\n",
      "out of 30785 with nonzero total read count\n",
      "adjusted p-value < 0.05\n",
      "LFC > 0 (up)       : 1, 0.0032%\n",
      "LFC < 0 (down)     : 1, 0.0032%\n",
      "outliers [1]       : 0, 0%\n",
      "low counts [2]     : 0, 0%\n",
      "(mean count < 0)\n",
      "[1] see 'cooksCutoff' argument of ?results\n",
      "[2] see 'independentFiltering' argument of ?results\n",
      "\n"
     ]
    },
    {
     "data": {
      "text/plain": [
       "log2 fold change (MLE): condition_exporter_indiv_no_exporter_indiv exporter_Gag vs no_exporter_Psi \n",
       "Wald test p-value: condition exporter indiv no exporter indiv exporter Gag vs no exporter Psi \n",
       "DataFrame with 30877 rows and 6 columns\n",
       "                         baseMean log2FoldChange     lfcSE      stat\n",
       "                        <numeric>      <numeric> <numeric> <numeric>\n",
       "EGFP                    56992.422      19.788085  2.048624  9.659206\n",
       "HSPA6_ENSG00000173110     158.544      -3.261385  0.673296 -4.843909\n",
       "mTagBFP2               334092.593      -0.767034  0.182738 -4.197443\n",
       "MT-ND2_ENSG00000198763  23767.429       0.855777  0.212239  4.032138\n",
       "TSPAN6_ENSG00000000003   2843.732      -0.126597  0.222562 -0.568818\n",
       "...                           ...            ...       ...       ...\n",
       "ERCC-00164                      0             NA        NA        NA\n",
       "ERCC-00165                      0             NA        NA        NA\n",
       "ERCC-00168                      0             NA        NA        NA\n",
       "ERCC-00170                      0             NA        NA        NA\n",
       "ERCC-00171                      0             NA        NA        NA\n",
       "                            pvalue        padj\n",
       "                         <numeric>   <numeric>\n",
       "EGFP                   4.49334e-22 1.38327e-17\n",
       "HSPA6_ENSG00000173110  1.27309e-06 1.95960e-02\n",
       "mTagBFP2               2.69945e-05 2.77009e-01\n",
       "MT-ND2_ENSG00000198763 5.52717e-05 4.25385e-01\n",
       "TSPAN6_ENSG00000000003 5.69479e-01 1.00000e+00\n",
       "...                            ...         ...\n",
       "ERCC-00164                      NA          NA\n",
       "ERCC-00165                      NA          NA\n",
       "ERCC-00168                      NA          NA\n",
       "ERCC-00170                      NA          NA\n",
       "ERCC-00171                      NA          NA"
      ]
     },
     "metadata": {},
     "output_type": "display_data"
    }
   ],
   "source": [
    "# Gag vs no exporter (mCh-Psi)\n",
    "res_no_exporter_indiv_Gag_vs_no_exporter <- results(dds_no_exporter_indiv_Psi, alpha=0.05, contrast=c(\"condition_exporter_indiv_no_exporter_indiv\", \"exporter_Gag\", \"no_exporter_Psi\"))  # get results\n",
    "res_no_exporter_indiv_Gag_vs_no_exporter <- res_no_exporter_indiv_Gag_vs_no_exporter[order(res_no_exporter_indiv_Gag_vs_no_exporter$padj),]  # sort by p value\n",
    "summary(res_no_exporter_indiv_Gag_vs_no_exporter)\n",
    "res_no_exporter_indiv_Gag_vs_no_exporter"
   ]
  },
  {
   "cell_type": "markdown",
   "id": "50621ab7",
   "metadata": {
    "Collapsed": "false"
   },
   "source": [
    "## Analysis for Gag-MCP, GagZip-MCP, and EPN24-MCP (exporter + mCh-MS2x8 versus mCh-MS2x8)"
   ]
  },
  {
   "cell_type": "code",
   "execution_count": 9,
   "id": "a2ffc635",
   "metadata": {
    "Collapsed": "false"
   },
   "outputs": [],
   "source": [
    "dds_no_exporter_indiv_MS2 <- DESeqDataSetFromMatrix(countData = counts,\n",
    "                                           colData = metadata,\n",
    "                                           design = ~ condition_exporter_indiv_no_exporter_indiv)\n",
    "\n",
    "dds_no_exporter_indiv_MS2$condition_exporter_indiv_no_exporter_indiv <- relevel(dds_no_exporter_indiv_MS2$condition_exporter_indiv_no_exporter_indiv, ref = \"no_exporter_MS2\")"
   ]
  },
  {
   "cell_type": "code",
   "execution_count": 10,
   "id": "04108c5a",
   "metadata": {
    "Collapsed": "false"
   },
   "outputs": [
    {
     "name": "stderr",
     "output_type": "stream",
     "text": [
      "estimating size factors\n",
      "\n",
      "estimating dispersions\n",
      "\n",
      "gene-wise dispersion estimates\n",
      "\n",
      "mean-dispersion relationship\n",
      "\n",
      "final dispersion estimates\n",
      "\n",
      "fitting model and testing\n",
      "\n"
     ]
    }
   ],
   "source": [
    "dds_no_exporter_indiv_MS2 <- DESeq(dds_no_exporter_indiv_MS2)  # perform analysis"
   ]
  },
  {
   "cell_type": "code",
   "execution_count": 11,
   "id": "e8f6397a",
   "metadata": {
    "Collapsed": "false"
   },
   "outputs": [
    {
     "data": {
      "text/html": [
       "<style>\n",
       ".list-inline {list-style: none; margin:0; padding: 0}\n",
       ".list-inline>li {display: inline-block}\n",
       ".list-inline>li:not(:last-child)::after {content: \"\\00b7\"; padding: 0 .5ex}\n",
       "</style>\n",
       "<ol class=list-inline><li>'Intercept'</li><li>'condition_exporter_indiv_no_exporter_indiv_exporter_EPN24MCP_vs_no_exporter_MS2'</li><li>'condition_exporter_indiv_no_exporter_indiv_exporter_Gag_vs_no_exporter_MS2'</li><li>'condition_exporter_indiv_no_exporter_indiv_exporter_GagMCP_vs_no_exporter_MS2'</li><li>'condition_exporter_indiv_no_exporter_indiv_exporter_GagZipMCP_vs_no_exporter_MS2'</li><li>'condition_exporter_indiv_no_exporter_indiv_no_exporter_Psi_vs_no_exporter_MS2'</li><li>'condition_exporter_indiv_no_exporter_indiv_untransfected_vs_no_exporter_MS2'</li></ol>\n"
      ],
      "text/latex": [
       "\\begin{enumerate*}\n",
       "\\item 'Intercept'\n",
       "\\item 'condition\\_exporter\\_indiv\\_no\\_exporter\\_indiv\\_exporter\\_EPN24MCP\\_vs\\_no\\_exporter\\_MS2'\n",
       "\\item 'condition\\_exporter\\_indiv\\_no\\_exporter\\_indiv\\_exporter\\_Gag\\_vs\\_no\\_exporter\\_MS2'\n",
       "\\item 'condition\\_exporter\\_indiv\\_no\\_exporter\\_indiv\\_exporter\\_GagMCP\\_vs\\_no\\_exporter\\_MS2'\n",
       "\\item 'condition\\_exporter\\_indiv\\_no\\_exporter\\_indiv\\_exporter\\_GagZipMCP\\_vs\\_no\\_exporter\\_MS2'\n",
       "\\item 'condition\\_exporter\\_indiv\\_no\\_exporter\\_indiv\\_no\\_exporter\\_Psi\\_vs\\_no\\_exporter\\_MS2'\n",
       "\\item 'condition\\_exporter\\_indiv\\_no\\_exporter\\_indiv\\_untransfected\\_vs\\_no\\_exporter\\_MS2'\n",
       "\\end{enumerate*}\n"
      ],
      "text/markdown": [
       "1. 'Intercept'\n",
       "2. 'condition_exporter_indiv_no_exporter_indiv_exporter_EPN24MCP_vs_no_exporter_MS2'\n",
       "3. 'condition_exporter_indiv_no_exporter_indiv_exporter_Gag_vs_no_exporter_MS2'\n",
       "4. 'condition_exporter_indiv_no_exporter_indiv_exporter_GagMCP_vs_no_exporter_MS2'\n",
       "5. 'condition_exporter_indiv_no_exporter_indiv_exporter_GagZipMCP_vs_no_exporter_MS2'\n",
       "6. 'condition_exporter_indiv_no_exporter_indiv_no_exporter_Psi_vs_no_exporter_MS2'\n",
       "7. 'condition_exporter_indiv_no_exporter_indiv_untransfected_vs_no_exporter_MS2'\n",
       "\n",
       "\n"
      ],
      "text/plain": [
       "[1] \"Intercept\"                                                                       \n",
       "[2] \"condition_exporter_indiv_no_exporter_indiv_exporter_EPN24MCP_vs_no_exporter_MS2\" \n",
       "[3] \"condition_exporter_indiv_no_exporter_indiv_exporter_Gag_vs_no_exporter_MS2\"      \n",
       "[4] \"condition_exporter_indiv_no_exporter_indiv_exporter_GagMCP_vs_no_exporter_MS2\"   \n",
       "[5] \"condition_exporter_indiv_no_exporter_indiv_exporter_GagZipMCP_vs_no_exporter_MS2\"\n",
       "[6] \"condition_exporter_indiv_no_exporter_indiv_no_exporter_Psi_vs_no_exporter_MS2\"   \n",
       "[7] \"condition_exporter_indiv_no_exporter_indiv_untransfected_vs_no_exporter_MS2\"     "
      ]
     },
     "metadata": {},
     "output_type": "display_data"
    }
   ],
   "source": [
    "resultsNames(dds_no_exporter_indiv_MS2)"
   ]
  },
  {
   "cell_type": "code",
   "execution_count": 12,
   "id": "cd3243ea",
   "metadata": {
    "Collapsed": "false"
   },
   "outputs": [
    {
     "name": "stdout",
     "output_type": "stream",
     "text": [
      "\n",
      "out of 30785 with nonzero total read count\n",
      "adjusted p-value < 0.05\n",
      "LFC > 0 (up)       : 1, 0.0032%\n",
      "LFC < 0 (down)     : 0, 0%\n",
      "outliers [1]       : 0, 0%\n",
      "low counts [2]     : 0, 0%\n",
      "(mean count < 0)\n",
      "[1] see 'cooksCutoff' argument of ?results\n",
      "[2] see 'independentFiltering' argument of ?results\n",
      "\n"
     ]
    },
    {
     "data": {
      "text/plain": [
       "log2 fold change (MLE): condition_exporter_indiv_no_exporter_indiv exporter_GagMCP vs no_exporter_MS2 \n",
       "Wald test p-value: condition exporter indiv no exporter indiv exporter GagMCP vs no exporter MS2 \n",
       "DataFrame with 30877 rows and 6 columns\n",
       "                          baseMean log2FoldChange     lfcSE      stat\n",
       "                         <numeric>      <numeric> <numeric> <numeric>\n",
       "EGFP                   56992.42223     19.3051201  2.048627  9.423443\n",
       "TSPAN6_ENSG00000000003  2843.73150     -0.0900759  0.222107 -0.405552\n",
       "TNMD_ENSG00000000005       7.14874     -1.7292661  2.689037 -0.643080\n",
       "DPM1_ENSG00000000419    1457.65253     -0.0566254  0.264254 -0.214284\n",
       "SCYL3_ENSG00000000457    597.22304      0.1107457  0.351383  0.315171\n",
       "...                            ...            ...       ...       ...\n",
       "ERCC-00164                       0             NA        NA        NA\n",
       "ERCC-00165                       0             NA        NA        NA\n",
       "ERCC-00168                       0             NA        NA        NA\n",
       "ERCC-00170                       0             NA        NA        NA\n",
       "ERCC-00171                       0             NA        NA        NA\n",
       "                            pvalue        padj\n",
       "                         <numeric>   <numeric>\n",
       "EGFP                   4.36533e-21 1.34387e-16\n",
       "TSPAN6_ENSG00000000003 6.85072e-01 1.00000e+00\n",
       "TNMD_ENSG00000000005   5.20172e-01 1.00000e+00\n",
       "DPM1_ENSG00000000419   8.30326e-01 1.00000e+00\n",
       "SCYL3_ENSG00000000457  7.52632e-01 1.00000e+00\n",
       "...                            ...         ...\n",
       "ERCC-00164                      NA          NA\n",
       "ERCC-00165                      NA          NA\n",
       "ERCC-00168                      NA          NA\n",
       "ERCC-00170                      NA          NA\n",
       "ERCC-00171                      NA          NA"
      ]
     },
     "metadata": {},
     "output_type": "display_data"
    }
   ],
   "source": [
    "# GagMCP vs no exporter (mCh-MS2x8)\n",
    "res_no_exporter_indiv_GagMCP_vs_no_exporter <- results(dds_no_exporter_indiv_MS2, alpha=0.05, contrast=c(\"condition_exporter_indiv_no_exporter_indiv\", \"exporter_GagMCP\", \"no_exporter_MS2\"))  # get results\n",
    "res_no_exporter_indiv_GagMCP_vs_no_exporter <- res_no_exporter_indiv_GagMCP_vs_no_exporter[order(res_no_exporter_indiv_GagMCP_vs_no_exporter$padj),]  # sort by p value\n",
    "summary(res_no_exporter_indiv_GagMCP_vs_no_exporter)\n",
    "res_no_exporter_indiv_GagMCP_vs_no_exporter"
   ]
  },
  {
   "cell_type": "code",
   "execution_count": 13,
   "id": "b53c25f7",
   "metadata": {
    "Collapsed": "false"
   },
   "outputs": [
    {
     "name": "stdout",
     "output_type": "stream",
     "text": [
      "\n",
      "out of 30785 with nonzero total read count\n",
      "adjusted p-value < 0.05\n",
      "LFC > 0 (up)       : 2, 0.0065%\n",
      "LFC < 0 (down)     : 0, 0%\n",
      "outliers [1]       : 0, 0%\n",
      "low counts [2]     : 0, 0%\n",
      "(mean count < 0)\n",
      "[1] see 'cooksCutoff' argument of ?results\n",
      "[2] see 'independentFiltering' argument of ?results\n",
      "\n"
     ]
    },
    {
     "data": {
      "text/plain": [
       "log2 fold change (MLE): condition_exporter_indiv_no_exporter_indiv exporter_GagZipMCP vs no_exporter_MS2 \n",
       "Wald test p-value: condition exporter indiv no exporter indiv exporter GagZipMCP vs no exporter MS2 \n",
       "DataFrame with 30877 rows and 6 columns\n",
       "                          baseMean log2FoldChange     lfcSE       stat\n",
       "                         <numeric>      <numeric> <numeric>  <numeric>\n",
       "EGFP                   56992.42223     19.1483277  2.048627  9.3469064\n",
       "IGHG1_ENSG00000211896    387.99351      2.9032525  0.436372  6.6531617\n",
       "TSPAN6_ENSG00000000003  2843.73150     -0.0668959  0.221987 -0.3013504\n",
       "TNMD_ENSG00000000005       7.14874      0.1942603  2.539770  0.0764874\n",
       "DPM1_ENSG00000000419    1457.65253     -0.1424718  0.264270 -0.5391137\n",
       "...                            ...            ...       ...        ...\n",
       "ERCC-00164                       0             NA        NA         NA\n",
       "ERCC-00165                       0             NA        NA         NA\n",
       "ERCC-00168                       0             NA        NA         NA\n",
       "ERCC-00170                       0             NA        NA         NA\n",
       "ERCC-00171                       0             NA        NA         NA\n",
       "                            pvalue        padj\n",
       "                         <numeric>   <numeric>\n",
       "EGFP                   9.02488e-21 2.77831e-16\n",
       "IGHG1_ENSG00000211896  2.86863e-11 4.41553e-07\n",
       "TSPAN6_ENSG00000000003 7.63147e-01 1.00000e+00\n",
       "TNMD_ENSG00000000005   9.39031e-01 1.00000e+00\n",
       "DPM1_ENSG00000000419   5.89808e-01 1.00000e+00\n",
       "...                            ...         ...\n",
       "ERCC-00164                      NA          NA\n",
       "ERCC-00165                      NA          NA\n",
       "ERCC-00168                      NA          NA\n",
       "ERCC-00170                      NA          NA\n",
       "ERCC-00171                      NA          NA"
      ]
     },
     "metadata": {},
     "output_type": "display_data"
    }
   ],
   "source": [
    "# GagZipMCP vs no exporter (mCh-MS2x8)\n",
    "res_no_exporter_indiv_GagZipMCP_vs_no_exporter <- results(dds_no_exporter_indiv_MS2, alpha=0.05, contrast=c(\"condition_exporter_indiv_no_exporter_indiv\", \"exporter_GagZipMCP\", \"no_exporter_MS2\"))  # get results\n",
    "res_no_exporter_indiv_GagZipMCP_vs_no_exporter <- res_no_exporter_indiv_GagZipMCP_vs_no_exporter[order(res_no_exporter_indiv_GagZipMCP_vs_no_exporter$padj),]  # sort by p value\n",
    "summary(res_no_exporter_indiv_GagZipMCP_vs_no_exporter)\n",
    "res_no_exporter_indiv_GagZipMCP_vs_no_exporter"
   ]
  },
  {
   "cell_type": "code",
   "execution_count": 14,
   "id": "049121d8",
   "metadata": {
    "Collapsed": "false"
   },
   "outputs": [
    {
     "name": "stdout",
     "output_type": "stream",
     "text": [
      "\n",
      "out of 30785 with nonzero total read count\n",
      "adjusted p-value < 0.05\n",
      "LFC > 0 (up)       : 1, 0.0032%\n",
      "LFC < 0 (down)     : 0, 0%\n",
      "outliers [1]       : 0, 0%\n",
      "low counts [2]     : 0, 0%\n",
      "(mean count < 0)\n",
      "[1] see 'cooksCutoff' argument of ?results\n",
      "[2] see 'independentFiltering' argument of ?results\n",
      "\n"
     ]
    },
    {
     "data": {
      "text/plain": [
       "log2 fold change (MLE): condition_exporter_indiv_no_exporter_indiv exporter_EPN24MCP vs no_exporter_MS2 \n",
       "Wald test p-value: condition exporter indiv no exporter indiv exporter EPN24MCP vs no exporter MS2 \n",
       "DataFrame with 30877 rows and 6 columns\n",
       "                          baseMean log2FoldChange     lfcSE       stat\n",
       "                         <numeric>      <numeric> <numeric>  <numeric>\n",
       "EGFP                   56992.42223     18.6015824  2.048630  9.0800107\n",
       "TSPAN6_ENSG00000000003  2843.73150     -0.0313754  0.221988 -0.1413380\n",
       "TNMD_ENSG00000000005       7.14874      0.0381664  2.547077  0.0149844\n",
       "DPM1_ENSG00000000419    1457.65253     -0.1031006  0.264265 -0.3901404\n",
       "SCYL3_ENSG00000000457    597.22304      0.0964479  0.351298  0.2745471\n",
       "...                            ...            ...       ...        ...\n",
       "ERCC-00164                       0             NA        NA         NA\n",
       "ERCC-00165                       0             NA        NA         NA\n",
       "ERCC-00168                       0             NA        NA         NA\n",
       "ERCC-00170                       0             NA        NA         NA\n",
       "ERCC-00171                       0             NA        NA         NA\n",
       "                            pvalue        padj\n",
       "                         <numeric>   <numeric>\n",
       "EGFP                   1.08564e-19 3.34215e-15\n",
       "TSPAN6_ENSG00000000003 8.87603e-01 1.00000e+00\n",
       "TNMD_ENSG00000000005   9.88045e-01 1.00000e+00\n",
       "DPM1_ENSG00000000419   6.96433e-01 1.00000e+00\n",
       "SCYL3_ENSG00000000457  7.83664e-01 1.00000e+00\n",
       "...                            ...         ...\n",
       "ERCC-00164                      NA          NA\n",
       "ERCC-00165                      NA          NA\n",
       "ERCC-00168                      NA          NA\n",
       "ERCC-00170                      NA          NA\n",
       "ERCC-00171                      NA          NA"
      ]
     },
     "metadata": {},
     "output_type": "display_data"
    }
   ],
   "source": [
    "# EPN24MCP vs no exporter (mCh-MS2x8)\n",
    "res_no_exporter_indiv_EPN24MCP_vs_no_exporter <- results(dds_no_exporter_indiv_MS2, alpha=0.05, contrast=c(\"condition_exporter_indiv_no_exporter_indiv\", \"exporter_EPN24MCP\", \"no_exporter_MS2\"))  # get results\n",
    "res_no_exporter_indiv_EPN24MCP_vs_no_exporter <- res_no_exporter_indiv_EPN24MCP_vs_no_exporter[order(res_no_exporter_indiv_EPN24MCP_vs_no_exporter$padj),]  # sort by p value\n",
    "summary(res_no_exporter_indiv_EPN24MCP_vs_no_exporter)\n",
    "res_no_exporter_indiv_EPN24MCP_vs_no_exporter"
   ]
  },
  {
   "cell_type": "markdown",
   "id": "48c62d8f",
   "metadata": {
    "Collapsed": "false"
   },
   "source": [
    "# Export results"
   ]
  },
  {
   "cell_type": "code",
   "execution_count": 15,
   "id": "52095481",
   "metadata": {
    "Collapsed": "false"
   },
   "outputs": [],
   "source": [
    "output_dir <- \"outs/transcriptome_stress/\""
   ]
  },
  {
   "cell_type": "code",
   "execution_count": 16,
   "id": "1f665235",
   "metadata": {
    "Collapsed": "false"
   },
   "outputs": [],
   "source": [
    "res_objects <- list(res_no_exporter_indiv_Gag_vs_no_exporter,\n",
    "                    res_no_exporter_indiv_GagMCP_vs_no_exporter,\n",
    "                    res_no_exporter_indiv_GagZipMCP_vs_no_exporter,\n",
    "                    res_no_exporter_indiv_EPN24MCP_vs_no_exporter)\n",
    "\n",
    "outfiles <- list(\"differential_expression_result_Gag_vs_no_exporter.csv\",\n",
    "                 \"differential_expression_result_GagMCP_vs_no_exporter.csv\",\n",
    "                 \"differential_expression_result_GagZipMCP_vs_no_exporter.csv\",\n",
    "                 \"differential_expression_result_EPN24MCP_vs_no_exporter.csv\")"
   ]
  },
  {
   "cell_type": "code",
   "execution_count": 17,
   "id": "0bd38ba9",
   "metadata": {
    "Collapsed": "false"
   },
   "outputs": [],
   "source": [
    "for (i in 1:length(res_objects)) {\n",
    "    res <- res_objects[i]\n",
    "    outfile <- outfiles[i]\n",
    "    outpath <- paste(output_dir, outfile, sep=\"\")\n",
    "    write.csv(as.data.frame(res), file=outpath)\n",
    "}"
   ]
  },
  {
   "cell_type": "code",
   "execution_count": null,
   "id": "a6c6b972",
   "metadata": {
    "Collapsed": "false"
   },
   "outputs": [],
   "source": []
  }
 ],
 "metadata": {
  "kernelspec": {
   "display_name": "R",
   "language": "R",
   "name": "ir"
  },
  "language_info": {
   "codemirror_mode": "r",
   "file_extension": ".r",
   "mimetype": "text/x-r-source",
   "name": "R",
   "pygments_lexer": "r",
   "version": "4.0.5"
  }
 },
 "nbformat": 4,
 "nbformat_minor": 5
}
