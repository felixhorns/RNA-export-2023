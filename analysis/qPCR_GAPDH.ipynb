{
 "cells": [
  {
   "cell_type": "markdown",
   "metadata": {
    "Collapsed": "false"
   },
   "source": [
    "# Plot qPCR to analyze export of GAPDH transcripts (in various export system configurations)"
   ]
  },
  {
   "cell_type": "markdown",
   "metadata": {
    "Collapsed": "false",
    "toc-hr-collapsed": false
   },
   "source": [
    "# Introduction"
   ]
  },
  {
   "cell_type": "markdown",
   "metadata": {
    "Collapsed": "false"
   },
   "source": [
    "## Imports"
   ]
  },
  {
   "cell_type": "code",
   "execution_count": 1,
   "metadata": {
    "Collapsed": "false"
   },
   "outputs": [],
   "source": [
    "import sys\n",
    "import os\n",
    "import time\n",
    "\n",
    "import numpy as np\n",
    "import scipy\n",
    "import pandas as pd\n",
    "\n",
    "%matplotlib inline\n",
    "from matplotlib import pyplot as plt\n",
    "import matplotlib as mpl\n",
    "import seaborn as sns"
   ]
  },
  {
   "cell_type": "markdown",
   "metadata": {
    "Collapsed": "false"
   },
   "source": [
    "## Set output parameters"
   ]
  },
  {
   "cell_type": "code",
   "execution_count": 2,
   "metadata": {
    "Collapsed": "false"
   },
   "outputs": [],
   "source": [
    "# Set pandas display options\n",
    "pd.set_option('display.max_rows', 30)\n",
    "pd.set_option('display.max_columns', 100)\n",
    "pd.set_option('display.width', 1000)\n",
    "\n",
    "# Set plot display options\n",
    "FONTSIZE = 8  # universal fontsize\n",
    "params = {\n",
    "    'font.size': FONTSIZE,\n",
    "    'axes.titlesize': FONTSIZE,\n",
    "    'axes.labelsize': FONTSIZE,\n",
    "    'legend.fontsize': FONTSIZE,\n",
    "    'xtick.labelsize': FONTSIZE,\n",
    "    'ytick.labelsize': FONTSIZE,\n",
    "    'font.family': \"Helvetica\",\n",
    "    'mathtext.fontset': 'custom',\n",
    "    'pdf.fonttype': 42,\n",
    "    'ps.fonttype': 42,\n",
    "    'figure.dpi': 300\n",
    "   }\n",
    "mpl.rcParams.update(params)\n",
    "sns.set_style(\"ticks\", {'axes.grid' : False})\n",
    "\n",
    "# Set plot output options\n",
    "output_dir = \"outs/qPCR_GAPDH\"\n",
    "output_suffix = \"\"\n",
    "output_formats = [\".png\", \".pdf\"]\n",
    "\n",
    "mpl.rc('savefig', dpi=300)\n",
    "\n",
    "# Define convenience function for saving figures\n",
    "\n",
    "savefig = True\n",
    "savefig_args = {\"dpi\": 300, \"bbox_inches\": \"tight\", \"pad_inches\": 0.1}\n",
    "\n",
    "def save_figure(fig, name, output_dir=output_dir, output_suffix=output_suffix, output_formats=output_formats, savefig_args=savefig_args):\n",
    "    if savefig:\n",
    "        for output_format in output_formats:\n",
    "            fig.savefig(output_dir + \"/\" + name + output_suffix + output_format, **savefig_args)\n",
    "    return None"
   ]
  },
  {
   "cell_type": "code",
   "execution_count": 3,
   "metadata": {
    "Collapsed": "false"
   },
   "outputs": [
    {
     "data": {
      "text/plain": [
       "{'font.size': 8.0,\n",
       " 'axes.labelsize': 8.0,\n",
       " 'axes.titlesize': 8.0,\n",
       " 'xtick.labelsize': 8.0,\n",
       " 'ytick.labelsize': 8.0,\n",
       " 'legend.fontsize': 8.0,\n",
       " 'legend.title_fontsize': None,\n",
       " 'axes.linewidth': 0.8,\n",
       " 'grid.linewidth': 0.8,\n",
       " 'lines.linewidth': 1.5,\n",
       " 'lines.markersize': 6.0,\n",
       " 'patch.linewidth': 1.0,\n",
       " 'xtick.major.width': 0.8,\n",
       " 'ytick.major.width': 0.8,\n",
       " 'xtick.minor.width': 0.6,\n",
       " 'ytick.minor.width': 0.6,\n",
       " 'xtick.major.size': 3.5,\n",
       " 'ytick.major.size': 3.5,\n",
       " 'xtick.minor.size': 2.0,\n",
       " 'ytick.minor.size': 2.0}"
      ]
     },
     "execution_count": 3,
     "metadata": {},
     "output_type": "execute_result"
    }
   ],
   "source": [
    "# Report plot parameters\n",
    "sns.plotting_context()"
   ]
  },
  {
   "cell_type": "markdown",
   "metadata": {
    "Collapsed": "false"
   },
   "source": [
    "# Load data"
   ]
  },
  {
   "cell_type": "markdown",
   "metadata": {
    "Collapsed": "false"
   },
   "source": [
    "## Load qPCR data"
   ]
  },
  {
   "cell_type": "code",
   "execution_count": 4,
   "metadata": {
    "Collapsed": "false"
   },
   "outputs": [
    {
     "name": "stdout",
     "output_type": "stream",
     "text": [
      "(17, 7)\n"
     ]
    },
    {
     "data": {
      "text/html": [
       "<div>\n",
       "<style scoped>\n",
       "    .dataframe tbody tr th:only-of-type {\n",
       "        vertical-align: middle;\n",
       "    }\n",
       "\n",
       "    .dataframe tbody tr th {\n",
       "        vertical-align: top;\n",
       "    }\n",
       "\n",
       "    .dataframe thead th {\n",
       "        text-align: right;\n",
       "    }\n",
       "</style>\n",
       "<table border=\"1\" class=\"dataframe\">\n",
       "  <thead>\n",
       "    <tr style=\"text-align: right;\">\n",
       "      <th></th>\n",
       "      <th>Fluor</th>\n",
       "      <th>Target</th>\n",
       "      <th>Content</th>\n",
       "      <th>Sample</th>\n",
       "      <th>Cq</th>\n",
       "      <th>Cq Mean</th>\n",
       "      <th>Cq Std. Dev</th>\n",
       "    </tr>\n",
       "    <tr>\n",
       "      <th>Well</th>\n",
       "      <th></th>\n",
       "      <th></th>\n",
       "      <th></th>\n",
       "      <th></th>\n",
       "      <th></th>\n",
       "      <th></th>\n",
       "      <th></th>\n",
       "    </tr>\n",
       "  </thead>\n",
       "  <tbody>\n",
       "    <tr>\n",
       "      <th>A01</th>\n",
       "      <td>SYBR</td>\n",
       "      <td>GAPDH</td>\n",
       "      <td>Unkn-01</td>\n",
       "      <td>RE18-9</td>\n",
       "      <td>NaN</td>\n",
       "      <td>0.000000</td>\n",
       "      <td>0.000000</td>\n",
       "    </tr>\n",
       "    <tr>\n",
       "      <th>A04</th>\n",
       "      <td>SYBR</td>\n",
       "      <td>GAPDH</td>\n",
       "      <td>Unkn-04</td>\n",
       "      <td>RE18-12</td>\n",
       "      <td>NaN</td>\n",
       "      <td>0.000000</td>\n",
       "      <td>0.000000</td>\n",
       "    </tr>\n",
       "    <tr>\n",
       "      <th>B01</th>\n",
       "      <td>SYBR</td>\n",
       "      <td>GAPDH</td>\n",
       "      <td>Unkn-01</td>\n",
       "      <td>RE18-9</td>\n",
       "      <td>NaN</td>\n",
       "      <td>0.000000</td>\n",
       "      <td>0.000000</td>\n",
       "    </tr>\n",
       "    <tr>\n",
       "      <th>B04</th>\n",
       "      <td>SYBR</td>\n",
       "      <td>GAPDH</td>\n",
       "      <td>Unkn-04</td>\n",
       "      <td>RE18-12</td>\n",
       "      <td>34.241842</td>\n",
       "      <td>33.813331</td>\n",
       "      <td>0.606005</td>\n",
       "    </tr>\n",
       "    <tr>\n",
       "      <th>B05</th>\n",
       "      <td>SYBR</td>\n",
       "      <td>GAPDH</td>\n",
       "      <td>Unkn-05</td>\n",
       "      <td>RE18-13</td>\n",
       "      <td>34.091791</td>\n",
       "      <td>33.436873</td>\n",
       "      <td>0.926194</td>\n",
       "    </tr>\n",
       "  </tbody>\n",
       "</table>\n",
       "</div>"
      ],
      "text/plain": [
       "     Fluor Target  Content   Sample         Cq    Cq Mean  Cq Std. Dev\n",
       "Well                                                                  \n",
       "A01   SYBR  GAPDH  Unkn-01   RE18-9        NaN   0.000000     0.000000\n",
       "A04   SYBR  GAPDH  Unkn-04  RE18-12        NaN   0.000000     0.000000\n",
       "B01   SYBR  GAPDH  Unkn-01   RE18-9        NaN   0.000000     0.000000\n",
       "B04   SYBR  GAPDH  Unkn-04  RE18-12  34.241842  33.813331     0.606005\n",
       "B05   SYBR  GAPDH  Unkn-05  RE18-13  34.091791  33.436873     0.926194"
      ]
     },
     "execution_count": 4,
     "metadata": {},
     "output_type": "execute_result"
    }
   ],
   "source": [
    "infile = \"../preprocessed_data/qPCR_data/qPCR_GAPDH_Cq.csv\"\n",
    "\n",
    "cq_raw = pd.read_csv(infile, header=0)\n",
    "\n",
    "columns_to_drop = [\"Unnamed: 0\", \"Well Note\", \"Set Point\", \"Biological Set Name\", \"Starting Quantity (SQ)\", \"Log Starting Quantity\", \"SQ Mean\", \"SQ Std. Dev\"]\n",
    "cq_raw.drop(columns_to_drop, axis=1, inplace=True)\n",
    "cq_raw.set_index(\"Well\", inplace=True)\n",
    "\n",
    "print(cq_raw.shape)\n",
    "cq_raw.head()"
   ]
  },
  {
   "cell_type": "code",
   "execution_count": 5,
   "metadata": {
    "Collapsed": "false"
   },
   "outputs": [
    {
     "name": "stdout",
     "output_type": "stream",
     "text": [
      "(6, 3)\n"
     ]
    },
    {
     "data": {
      "text/html": [
       "<div>\n",
       "<style scoped>\n",
       "    .dataframe tbody tr th:only-of-type {\n",
       "        vertical-align: middle;\n",
       "    }\n",
       "\n",
       "    .dataframe tbody tr th {\n",
       "        vertical-align: top;\n",
       "    }\n",
       "\n",
       "    .dataframe thead th {\n",
       "        text-align: right;\n",
       "    }\n",
       "</style>\n",
       "<table border=\"1\" class=\"dataframe\">\n",
       "  <thead>\n",
       "    <tr style=\"text-align: right;\">\n",
       "      <th></th>\n",
       "      <th>Sample</th>\n",
       "      <th>Condition</th>\n",
       "      <th>Replicate</th>\n",
       "    </tr>\n",
       "  </thead>\n",
       "  <tbody>\n",
       "    <tr>\n",
       "      <th>0</th>\n",
       "      <td>RE18-9</td>\n",
       "      <td>Gag-MCP + mCh-MS2x12</td>\n",
       "      <td>1</td>\n",
       "    </tr>\n",
       "    <tr>\n",
       "      <th>1</th>\n",
       "      <td>RE18-12</td>\n",
       "      <td>Gag-MCP + mCh-MS2x12 0.3X</td>\n",
       "      <td>1</td>\n",
       "    </tr>\n",
       "    <tr>\n",
       "      <th>2</th>\n",
       "      <td>RE18-13</td>\n",
       "      <td>Gag-MCP + mCh-MS2x12 0.1X</td>\n",
       "      <td>1</td>\n",
       "    </tr>\n",
       "    <tr>\n",
       "      <th>3</th>\n",
       "      <td>cfR60-1</td>\n",
       "      <td>MMLV Gag + mCh-Psi</td>\n",
       "      <td>1</td>\n",
       "    </tr>\n",
       "    <tr>\n",
       "      <th>4</th>\n",
       "      <td>cfR60-2</td>\n",
       "      <td>MMLV Gag + mCh</td>\n",
       "      <td>1</td>\n",
       "    </tr>\n",
       "  </tbody>\n",
       "</table>\n",
       "</div>"
      ],
      "text/plain": [
       "    Sample                  Condition  Replicate\n",
       "0   RE18-9       Gag-MCP + mCh-MS2x12          1\n",
       "1  RE18-12  Gag-MCP + mCh-MS2x12 0.3X          1\n",
       "2  RE18-13  Gag-MCP + mCh-MS2x12 0.1X          1\n",
       "3  cfR60-1         MMLV Gag + mCh-Psi          1\n",
       "4  cfR60-2             MMLV Gag + mCh          1"
      ]
     },
     "execution_count": 5,
     "metadata": {},
     "output_type": "execute_result"
    }
   ],
   "source": [
    "# Load metadata (includes sample names)\n",
    "infile = \"../preprocessed_data/qPCR_data/qPCR_GAPDH_metadata.csv\"\n",
    "metadata = pd.read_csv(infile, index_col=0, header=0)\n",
    "metadata = metadata.reset_index()\n",
    "print(metadata.shape)\n",
    "metadata.head()"
   ]
  },
  {
   "cell_type": "markdown",
   "metadata": {
    "Collapsed": "false"
   },
   "source": [
    "# Preprocess data"
   ]
  },
  {
   "cell_type": "markdown",
   "metadata": {
    "Collapsed": "false"
   },
   "source": [
    "## Censor values below lower limit of quantification (LLoQ)"
   ]
  },
  {
   "cell_type": "code",
   "execution_count": 6,
   "metadata": {
    "Collapsed": "false"
   },
   "outputs": [],
   "source": [
    "# NTC has no signal. Therefore there is no background in the qPCR itself.\n",
    "# Set limit of detection to the maximum cycle count (40)\n",
    "LOD = 40  # maximum cycle count"
   ]
  },
  {
   "cell_type": "code",
   "execution_count": 7,
   "metadata": {
    "Collapsed": "false"
   },
   "outputs": [],
   "source": [
    "# Set missing values in cq_raw to 40\n",
    "cq_raw[\"Cq censored\"] = cq_raw[\"Cq\"]\n",
    "\n",
    "cq_raw.loc[cq_raw[\"Cq censored\"].isna(), \"Cq censored\"] = LOD"
   ]
  },
  {
   "cell_type": "markdown",
   "metadata": {
    "Collapsed": "false"
   },
   "source": [
    "## Summarize technical replicates"
   ]
  },
  {
   "cell_type": "code",
   "execution_count": 8,
   "metadata": {
    "Collapsed": "false"
   },
   "outputs": [
    {
     "data": {
      "text/html": [
       "<div>\n",
       "<style scoped>\n",
       "    .dataframe tbody tr th:only-of-type {\n",
       "        vertical-align: middle;\n",
       "    }\n",
       "\n",
       "    .dataframe tbody tr th {\n",
       "        vertical-align: top;\n",
       "    }\n",
       "\n",
       "    .dataframe thead th {\n",
       "        text-align: right;\n",
       "    }\n",
       "</style>\n",
       "<table border=\"1\" class=\"dataframe\">\n",
       "  <thead>\n",
       "    <tr style=\"text-align: right;\">\n",
       "      <th></th>\n",
       "      <th>Cq Mean</th>\n",
       "      <th>Cq STD</th>\n",
       "      <th>Cq censored Mean</th>\n",
       "      <th>Cq censored STD</th>\n",
       "    </tr>\n",
       "    <tr>\n",
       "      <th>Sample</th>\n",
       "      <th></th>\n",
       "      <th></th>\n",
       "      <th></th>\n",
       "      <th></th>\n",
       "    </tr>\n",
       "  </thead>\n",
       "  <tbody>\n",
       "    <tr>\n",
       "      <th>RE18-12</th>\n",
       "      <td>33.813331</td>\n",
       "      <td>0.606005</td>\n",
       "      <td>35.875554</td>\n",
       "      <td>3.597487</td>\n",
       "    </tr>\n",
       "    <tr>\n",
       "      <th>RE18-13</th>\n",
       "      <td>33.436873</td>\n",
       "      <td>0.926194</td>\n",
       "      <td>33.436873</td>\n",
       "      <td>0.926194</td>\n",
       "    </tr>\n",
       "    <tr>\n",
       "      <th>RE18-9</th>\n",
       "      <td>NaN</td>\n",
       "      <td>NaN</td>\n",
       "      <td>40.000000</td>\n",
       "      <td>0.000000</td>\n",
       "    </tr>\n",
       "    <tr>\n",
       "      <th>cfR60-1</th>\n",
       "      <td>28.377079</td>\n",
       "      <td>0.245977</td>\n",
       "      <td>28.377079</td>\n",
       "      <td>0.245977</td>\n",
       "    </tr>\n",
       "    <tr>\n",
       "      <th>cfR60-12</th>\n",
       "      <td>34.033417</td>\n",
       "      <td>NaN</td>\n",
       "      <td>38.011139</td>\n",
       "      <td>3.444808</td>\n",
       "    </tr>\n",
       "    <tr>\n",
       "      <th>cfR60-2</th>\n",
       "      <td>27.502351</td>\n",
       "      <td>0.083599</td>\n",
       "      <td>27.502351</td>\n",
       "      <td>0.083599</td>\n",
       "    </tr>\n",
       "  </tbody>\n",
       "</table>\n",
       "</div>"
      ],
      "text/plain": [
       "            Cq Mean    Cq STD  Cq censored Mean  Cq censored STD\n",
       "Sample                                                          \n",
       "RE18-12   33.813331  0.606005         35.875554         3.597487\n",
       "RE18-13   33.436873  0.926194         33.436873         0.926194\n",
       "RE18-9          NaN       NaN         40.000000         0.000000\n",
       "cfR60-1   28.377079  0.245977         28.377079         0.245977\n",
       "cfR60-12  34.033417       NaN         38.011139         3.444808\n",
       "cfR60-2   27.502351  0.083599         27.502351         0.083599"
      ]
     },
     "execution_count": 8,
     "metadata": {},
     "output_type": "execute_result"
    }
   ],
   "source": [
    "groups = cq_raw.groupby([\"Sample\"])  # group samples by origin\n",
    "\n",
    "summary_tech = pd.DataFrame()\n",
    "\n",
    "summary_tech[\"Cq Mean\"] = groups[\"Cq\"].mean()  # Calculate mean over technical replicates\n",
    "summary_tech[\"Cq STD\"] = groups[\"Cq\"].std()  # Calculate std over technical replicates\n",
    "\n",
    "summary_tech[\"Cq censored Mean\"] = groups[\"Cq censored\"].mean()  # Calculate mean over technical replicates\n",
    "summary_tech[\"Cq censored STD\"] = groups[\"Cq censored\"].std()  # Calculate std over technical replicates\n",
    "\n",
    "summary_tech"
   ]
  },
  {
   "cell_type": "markdown",
   "metadata": {
    "Collapsed": "false"
   },
   "source": [
    "## Map metadata to individual replicates and summary of technical replicates"
   ]
  },
  {
   "cell_type": "code",
   "execution_count": 9,
   "metadata": {
    "Collapsed": "false"
   },
   "outputs": [
    {
     "data": {
      "text/html": [
       "<div>\n",
       "<style scoped>\n",
       "    .dataframe tbody tr th:only-of-type {\n",
       "        vertical-align: middle;\n",
       "    }\n",
       "\n",
       "    .dataframe tbody tr th {\n",
       "        vertical-align: top;\n",
       "    }\n",
       "\n",
       "    .dataframe thead th {\n",
       "        text-align: right;\n",
       "    }\n",
       "</style>\n",
       "<table border=\"1\" class=\"dataframe\">\n",
       "  <thead>\n",
       "    <tr style=\"text-align: right;\">\n",
       "      <th></th>\n",
       "      <th>Sample</th>\n",
       "      <th>Fluor</th>\n",
       "      <th>Target</th>\n",
       "      <th>Content</th>\n",
       "      <th>Cq</th>\n",
       "      <th>Cq Mean</th>\n",
       "      <th>Cq Std. Dev</th>\n",
       "      <th>Cq censored</th>\n",
       "      <th>Condition</th>\n",
       "      <th>Replicate</th>\n",
       "    </tr>\n",
       "    <tr>\n",
       "      <th>Well</th>\n",
       "      <th></th>\n",
       "      <th></th>\n",
       "      <th></th>\n",
       "      <th></th>\n",
       "      <th></th>\n",
       "      <th></th>\n",
       "      <th></th>\n",
       "      <th></th>\n",
       "      <th></th>\n",
       "      <th></th>\n",
       "    </tr>\n",
       "  </thead>\n",
       "  <tbody>\n",
       "    <tr>\n",
       "      <th>A04</th>\n",
       "      <td>RE18-12</td>\n",
       "      <td>SYBR</td>\n",
       "      <td>GAPDH</td>\n",
       "      <td>Unkn-04</td>\n",
       "      <td>NaN</td>\n",
       "      <td>0.000000</td>\n",
       "      <td>0.000000</td>\n",
       "      <td>40.000000</td>\n",
       "      <td>Gag-MCP + mCh-MS2x12 0.3X</td>\n",
       "      <td>1</td>\n",
       "    </tr>\n",
       "    <tr>\n",
       "      <th>B04</th>\n",
       "      <td>RE18-12</td>\n",
       "      <td>SYBR</td>\n",
       "      <td>GAPDH</td>\n",
       "      <td>Unkn-04</td>\n",
       "      <td>34.241842</td>\n",
       "      <td>33.813331</td>\n",
       "      <td>0.606005</td>\n",
       "      <td>34.241842</td>\n",
       "      <td>Gag-MCP + mCh-MS2x12 0.3X</td>\n",
       "      <td>1</td>\n",
       "    </tr>\n",
       "    <tr>\n",
       "      <th>C04</th>\n",
       "      <td>RE18-12</td>\n",
       "      <td>SYBR</td>\n",
       "      <td>GAPDH</td>\n",
       "      <td>Unkn-04</td>\n",
       "      <td>33.384821</td>\n",
       "      <td>33.813331</td>\n",
       "      <td>0.606005</td>\n",
       "      <td>33.384821</td>\n",
       "      <td>Gag-MCP + mCh-MS2x12 0.3X</td>\n",
       "      <td>1</td>\n",
       "    </tr>\n",
       "    <tr>\n",
       "      <th>B05</th>\n",
       "      <td>RE18-13</td>\n",
       "      <td>SYBR</td>\n",
       "      <td>GAPDH</td>\n",
       "      <td>Unkn-05</td>\n",
       "      <td>34.091791</td>\n",
       "      <td>33.436873</td>\n",
       "      <td>0.926194</td>\n",
       "      <td>34.091791</td>\n",
       "      <td>Gag-MCP + mCh-MS2x12 0.1X</td>\n",
       "      <td>1</td>\n",
       "    </tr>\n",
       "    <tr>\n",
       "      <th>C05</th>\n",
       "      <td>RE18-13</td>\n",
       "      <td>SYBR</td>\n",
       "      <td>GAPDH</td>\n",
       "      <td>Unkn-05</td>\n",
       "      <td>32.781955</td>\n",
       "      <td>33.436873</td>\n",
       "      <td>0.926194</td>\n",
       "      <td>32.781955</td>\n",
       "      <td>Gag-MCP + mCh-MS2x12 0.1X</td>\n",
       "      <td>1</td>\n",
       "    </tr>\n",
       "  </tbody>\n",
       "</table>\n",
       "</div>"
      ],
      "text/plain": [
       "       Sample Fluor Target  Content         Cq    Cq Mean  Cq Std. Dev  Cq censored                  Condition  Replicate\n",
       "Well                                                                                                                     \n",
       "A04   RE18-12  SYBR  GAPDH  Unkn-04        NaN   0.000000     0.000000    40.000000  Gag-MCP + mCh-MS2x12 0.3X          1\n",
       "B04   RE18-12  SYBR  GAPDH  Unkn-04  34.241842  33.813331     0.606005    34.241842  Gag-MCP + mCh-MS2x12 0.3X          1\n",
       "C04   RE18-12  SYBR  GAPDH  Unkn-04  33.384821  33.813331     0.606005    33.384821  Gag-MCP + mCh-MS2x12 0.3X          1\n",
       "B05   RE18-13  SYBR  GAPDH  Unkn-05  34.091791  33.436873     0.926194    34.091791  Gag-MCP + mCh-MS2x12 0.1X          1\n",
       "C05   RE18-13  SYBR  GAPDH  Unkn-05  32.781955  33.436873     0.926194    32.781955  Gag-MCP + mCh-MS2x12 0.1X          1"
      ]
     },
     "execution_count": 9,
     "metadata": {},
     "output_type": "execute_result"
    }
   ],
   "source": [
    "cq_raw = cq_raw.reset_index().set_index(\"Sample\")\n",
    "cq_raw = cq_raw.join(metadata.set_index(\"Sample\"))\n",
    "cq_raw = cq_raw.reset_index().set_index(\"Well\")\n",
    "\n",
    "cq_raw.head()"
   ]
  },
  {
   "cell_type": "code",
   "execution_count": 10,
   "metadata": {
    "Collapsed": "false"
   },
   "outputs": [
    {
     "data": {
      "text/html": [
       "<div>\n",
       "<style scoped>\n",
       "    .dataframe tbody tr th:only-of-type {\n",
       "        vertical-align: middle;\n",
       "    }\n",
       "\n",
       "    .dataframe tbody tr th {\n",
       "        vertical-align: top;\n",
       "    }\n",
       "\n",
       "    .dataframe thead th {\n",
       "        text-align: right;\n",
       "    }\n",
       "</style>\n",
       "<table border=\"1\" class=\"dataframe\">\n",
       "  <thead>\n",
       "    <tr style=\"text-align: right;\">\n",
       "      <th></th>\n",
       "      <th>Cq Mean</th>\n",
       "      <th>Cq STD</th>\n",
       "      <th>Cq censored Mean</th>\n",
       "      <th>Cq censored STD</th>\n",
       "      <th>Condition</th>\n",
       "      <th>Replicate</th>\n",
       "    </tr>\n",
       "    <tr>\n",
       "      <th>Sample</th>\n",
       "      <th></th>\n",
       "      <th></th>\n",
       "      <th></th>\n",
       "      <th></th>\n",
       "      <th></th>\n",
       "      <th></th>\n",
       "    </tr>\n",
       "  </thead>\n",
       "  <tbody>\n",
       "    <tr>\n",
       "      <th>RE18-12</th>\n",
       "      <td>33.813331</td>\n",
       "      <td>0.606005</td>\n",
       "      <td>35.875554</td>\n",
       "      <td>3.597487</td>\n",
       "      <td>Gag-MCP + mCh-MS2x12 0.3X</td>\n",
       "      <td>1</td>\n",
       "    </tr>\n",
       "    <tr>\n",
       "      <th>RE18-13</th>\n",
       "      <td>33.436873</td>\n",
       "      <td>0.926194</td>\n",
       "      <td>33.436873</td>\n",
       "      <td>0.926194</td>\n",
       "      <td>Gag-MCP + mCh-MS2x12 0.1X</td>\n",
       "      <td>1</td>\n",
       "    </tr>\n",
       "    <tr>\n",
       "      <th>RE18-9</th>\n",
       "      <td>NaN</td>\n",
       "      <td>NaN</td>\n",
       "      <td>40.000000</td>\n",
       "      <td>0.000000</td>\n",
       "      <td>Gag-MCP + mCh-MS2x12</td>\n",
       "      <td>1</td>\n",
       "    </tr>\n",
       "    <tr>\n",
       "      <th>cfR60-1</th>\n",
       "      <td>28.377079</td>\n",
       "      <td>0.245977</td>\n",
       "      <td>28.377079</td>\n",
       "      <td>0.245977</td>\n",
       "      <td>MMLV Gag + mCh-Psi</td>\n",
       "      <td>1</td>\n",
       "    </tr>\n",
       "    <tr>\n",
       "      <th>cfR60-12</th>\n",
       "      <td>34.033417</td>\n",
       "      <td>NaN</td>\n",
       "      <td>38.011139</td>\n",
       "      <td>3.444808</td>\n",
       "      <td>No DNA 2</td>\n",
       "      <td>1</td>\n",
       "    </tr>\n",
       "  </tbody>\n",
       "</table>\n",
       "</div>"
      ],
      "text/plain": [
       "            Cq Mean    Cq STD  Cq censored Mean  Cq censored STD                  Condition  Replicate\n",
       "Sample                                                                                                \n",
       "RE18-12   33.813331  0.606005         35.875554         3.597487  Gag-MCP + mCh-MS2x12 0.3X          1\n",
       "RE18-13   33.436873  0.926194         33.436873         0.926194  Gag-MCP + mCh-MS2x12 0.1X          1\n",
       "RE18-9          NaN       NaN         40.000000         0.000000       Gag-MCP + mCh-MS2x12          1\n",
       "cfR60-1   28.377079  0.245977         28.377079         0.245977         MMLV Gag + mCh-Psi          1\n",
       "cfR60-12  34.033417       NaN         38.011139         3.444808                   No DNA 2          1"
      ]
     },
     "execution_count": 10,
     "metadata": {},
     "output_type": "execute_result"
    }
   ],
   "source": [
    "summary_tech = summary_tech.join(metadata.set_index(\"Sample\"))\n",
    "\n",
    "summary_tech.head()"
   ]
  },
  {
   "cell_type": "markdown",
   "metadata": {
    "Collapsed": "false"
   },
   "source": [
    "## Summarize biological replicates"
   ]
  },
  {
   "cell_type": "code",
   "execution_count": 11,
   "metadata": {
    "Collapsed": "false"
   },
   "outputs": [
    {
     "data": {
      "text/html": [
       "<div>\n",
       "<style scoped>\n",
       "    .dataframe tbody tr th:only-of-type {\n",
       "        vertical-align: middle;\n",
       "    }\n",
       "\n",
       "    .dataframe tbody tr th {\n",
       "        vertical-align: top;\n",
       "    }\n",
       "\n",
       "    .dataframe thead th {\n",
       "        text-align: right;\n",
       "    }\n",
       "</style>\n",
       "<table border=\"1\" class=\"dataframe\">\n",
       "  <thead>\n",
       "    <tr style=\"text-align: right;\">\n",
       "      <th></th>\n",
       "      <th>Cq Mean</th>\n",
       "      <th>Cq STD</th>\n",
       "      <th>Cq censored Mean</th>\n",
       "      <th>Cq censored STD</th>\n",
       "    </tr>\n",
       "    <tr>\n",
       "      <th>Condition</th>\n",
       "      <th></th>\n",
       "      <th></th>\n",
       "      <th></th>\n",
       "      <th></th>\n",
       "    </tr>\n",
       "  </thead>\n",
       "  <tbody>\n",
       "    <tr>\n",
       "      <th>Gag-MCP + mCh-MS2x12</th>\n",
       "      <td>NaN</td>\n",
       "      <td>NaN</td>\n",
       "      <td>40.000000</td>\n",
       "      <td>0.000000</td>\n",
       "    </tr>\n",
       "    <tr>\n",
       "      <th>Gag-MCP + mCh-MS2x12 0.1X</th>\n",
       "      <td>33.436873</td>\n",
       "      <td>0.926194</td>\n",
       "      <td>33.436873</td>\n",
       "      <td>0.926194</td>\n",
       "    </tr>\n",
       "    <tr>\n",
       "      <th>Gag-MCP + mCh-MS2x12 0.3X</th>\n",
       "      <td>33.813331</td>\n",
       "      <td>0.606005</td>\n",
       "      <td>35.875554</td>\n",
       "      <td>3.597487</td>\n",
       "    </tr>\n",
       "    <tr>\n",
       "      <th>MMLV Gag + mCh</th>\n",
       "      <td>27.502351</td>\n",
       "      <td>0.083599</td>\n",
       "      <td>27.502351</td>\n",
       "      <td>0.083599</td>\n",
       "    </tr>\n",
       "    <tr>\n",
       "      <th>MMLV Gag + mCh-Psi</th>\n",
       "      <td>28.377079</td>\n",
       "      <td>0.245977</td>\n",
       "      <td>28.377079</td>\n",
       "      <td>0.245977</td>\n",
       "    </tr>\n",
       "    <tr>\n",
       "      <th>No DNA 2</th>\n",
       "      <td>34.033417</td>\n",
       "      <td>NaN</td>\n",
       "      <td>38.011139</td>\n",
       "      <td>3.444808</td>\n",
       "    </tr>\n",
       "  </tbody>\n",
       "</table>\n",
       "</div>"
      ],
      "text/plain": [
       "                             Cq Mean    Cq STD  Cq censored Mean  Cq censored STD\n",
       "Condition                                                                        \n",
       "Gag-MCP + mCh-MS2x12             NaN       NaN         40.000000         0.000000\n",
       "Gag-MCP + mCh-MS2x12 0.1X  33.436873  0.926194         33.436873         0.926194\n",
       "Gag-MCP + mCh-MS2x12 0.3X  33.813331  0.606005         35.875554         3.597487\n",
       "MMLV Gag + mCh             27.502351  0.083599         27.502351         0.083599\n",
       "MMLV Gag + mCh-Psi         28.377079  0.245977         28.377079         0.245977\n",
       "No DNA 2                   34.033417       NaN         38.011139         3.444808"
      ]
     },
     "execution_count": 11,
     "metadata": {},
     "output_type": "execute_result"
    }
   ],
   "source": [
    "groups = summary_tech.groupby([\"Condition\"])  # group samples by origin\n",
    "\n",
    "summary = pd.DataFrame()\n",
    "\n",
    "summary[\"Cq Mean\"] = groups[\"Cq Mean\"].mean()  # Calculate mean over biological replicates\n",
    "summary[\"Cq STD\"] = groups[\"Cq STD\"].mean()  # Calculate std over biological replicates\n",
    "\n",
    "summary[\"Cq censored Mean\"] = groups[\"Cq censored Mean\"].mean()  # Calculate mean over biological replicates\n",
    "summary[\"Cq censored STD\"] = groups[\"Cq censored STD\"].mean()  # Calculate std over biological replicates\n",
    "\n",
    "summary"
   ]
  },
  {
   "cell_type": "markdown",
   "metadata": {
    "Collapsed": "false"
   },
   "source": [
    "# Plot GAPDH exported by MMLV Gag with and without the target RNA"
   ]
  },
  {
   "cell_type": "code",
   "execution_count": 12,
   "metadata": {
    "Collapsed": "false"
   },
   "outputs": [
    {
     "data": {
      "text/html": [
       "<div>\n",
       "<style scoped>\n",
       "    .dataframe tbody tr th:only-of-type {\n",
       "        vertical-align: middle;\n",
       "    }\n",
       "\n",
       "    .dataframe tbody tr th {\n",
       "        vertical-align: top;\n",
       "    }\n",
       "\n",
       "    .dataframe thead th {\n",
       "        text-align: right;\n",
       "    }\n",
       "</style>\n",
       "<table border=\"1\" class=\"dataframe\">\n",
       "  <thead>\n",
       "    <tr style=\"text-align: right;\">\n",
       "      <th></th>\n",
       "      <th>Condition</th>\n",
       "      <th>Cq Mean</th>\n",
       "      <th>Cq STD</th>\n",
       "      <th>Cq censored Mean</th>\n",
       "      <th>Cq censored STD</th>\n",
       "    </tr>\n",
       "  </thead>\n",
       "  <tbody>\n",
       "    <tr>\n",
       "      <th>0</th>\n",
       "      <td>MMLV Gag + mCh-Psi</td>\n",
       "      <td>28.377079</td>\n",
       "      <td>0.245977</td>\n",
       "      <td>28.377079</td>\n",
       "      <td>0.245977</td>\n",
       "    </tr>\n",
       "    <tr>\n",
       "      <th>1</th>\n",
       "      <td>MMLV Gag + mCh</td>\n",
       "      <td>27.502351</td>\n",
       "      <td>0.083599</td>\n",
       "      <td>27.502351</td>\n",
       "      <td>0.083599</td>\n",
       "    </tr>\n",
       "    <tr>\n",
       "      <th>2</th>\n",
       "      <td>No DNA 2</td>\n",
       "      <td>34.033417</td>\n",
       "      <td>NaN</td>\n",
       "      <td>38.011139</td>\n",
       "      <td>3.444808</td>\n",
       "    </tr>\n",
       "  </tbody>\n",
       "</table>\n",
       "</div>"
      ],
      "text/plain": [
       "            Condition    Cq Mean    Cq STD  Cq censored Mean  Cq censored STD\n",
       "0  MMLV Gag + mCh-Psi  28.377079  0.245977         28.377079         0.245977\n",
       "1      MMLV Gag + mCh  27.502351  0.083599         27.502351         0.083599\n",
       "2            No DNA 2  34.033417       NaN         38.011139         3.444808"
      ]
     },
     "execution_count": 12,
     "metadata": {},
     "output_type": "execute_result"
    }
   ],
   "source": [
    "index_ordered = [\"MMLV Gag + mCh-Psi\", \n",
    "                 \"MMLV Gag + mCh\", \n",
    "                 \"No DNA 2\"]\n",
    "\n",
    "data = summary.loc[index_ordered]\n",
    "\n",
    "data = data.reset_index()\n",
    "\n",
    "data.head()"
   ]
  },
  {
   "cell_type": "code",
   "execution_count": 13,
   "metadata": {
    "Collapsed": "false"
   },
   "outputs": [
    {
     "data": {
      "text/html": [
       "<div>\n",
       "<style scoped>\n",
       "    .dataframe tbody tr th:only-of-type {\n",
       "        vertical-align: middle;\n",
       "    }\n",
       "\n",
       "    .dataframe tbody tr th {\n",
       "        vertical-align: top;\n",
       "    }\n",
       "\n",
       "    .dataframe thead th {\n",
       "        text-align: right;\n",
       "    }\n",
       "</style>\n",
       "<table border=\"1\" class=\"dataframe\">\n",
       "  <thead>\n",
       "    <tr style=\"text-align: right;\">\n",
       "      <th></th>\n",
       "      <th>Condition</th>\n",
       "      <th>Well</th>\n",
       "      <th>Sample</th>\n",
       "      <th>Fluor</th>\n",
       "      <th>Target</th>\n",
       "      <th>Content</th>\n",
       "      <th>Cq</th>\n",
       "      <th>Cq Mean</th>\n",
       "      <th>Cq Std. Dev</th>\n",
       "      <th>Cq censored</th>\n",
       "      <th>Replicate</th>\n",
       "    </tr>\n",
       "  </thead>\n",
       "  <tbody>\n",
       "    <tr>\n",
       "      <th>0</th>\n",
       "      <td>MMLV Gag + mCh-Psi</td>\n",
       "      <td>G01</td>\n",
       "      <td>cfR60-1</td>\n",
       "      <td>SYBR</td>\n",
       "      <td>GAPDH</td>\n",
       "      <td>Unkn-25</td>\n",
       "      <td>28.584559</td>\n",
       "      <td>28.377079</td>\n",
       "      <td>0.245977</td>\n",
       "      <td>28.584559</td>\n",
       "      <td>1</td>\n",
       "    </tr>\n",
       "    <tr>\n",
       "      <th>1</th>\n",
       "      <td>MMLV Gag + mCh-Psi</td>\n",
       "      <td>G02</td>\n",
       "      <td>cfR60-1</td>\n",
       "      <td>SYBR</td>\n",
       "      <td>GAPDH</td>\n",
       "      <td>Unkn-25</td>\n",
       "      <td>28.105354</td>\n",
       "      <td>28.377079</td>\n",
       "      <td>0.245977</td>\n",
       "      <td>28.105354</td>\n",
       "      <td>1</td>\n",
       "    </tr>\n",
       "    <tr>\n",
       "      <th>2</th>\n",
       "      <td>MMLV Gag + mCh-Psi</td>\n",
       "      <td>G03</td>\n",
       "      <td>cfR60-1</td>\n",
       "      <td>SYBR</td>\n",
       "      <td>GAPDH</td>\n",
       "      <td>Unkn-25</td>\n",
       "      <td>28.441323</td>\n",
       "      <td>28.377079</td>\n",
       "      <td>0.245977</td>\n",
       "      <td>28.441323</td>\n",
       "      <td>1</td>\n",
       "    </tr>\n",
       "    <tr>\n",
       "      <th>3</th>\n",
       "      <td>MMLV Gag + mCh</td>\n",
       "      <td>G04</td>\n",
       "      <td>cfR60-2</td>\n",
       "      <td>SYBR</td>\n",
       "      <td>GAPDH</td>\n",
       "      <td>Unkn-26</td>\n",
       "      <td>27.519552</td>\n",
       "      <td>27.502351</td>\n",
       "      <td>0.083599</td>\n",
       "      <td>27.519552</td>\n",
       "      <td>1</td>\n",
       "    </tr>\n",
       "    <tr>\n",
       "      <th>4</th>\n",
       "      <td>MMLV Gag + mCh</td>\n",
       "      <td>G05</td>\n",
       "      <td>cfR60-2</td>\n",
       "      <td>SYBR</td>\n",
       "      <td>GAPDH</td>\n",
       "      <td>Unkn-26</td>\n",
       "      <td>27.411489</td>\n",
       "      <td>27.502351</td>\n",
       "      <td>0.083599</td>\n",
       "      <td>27.411489</td>\n",
       "      <td>1</td>\n",
       "    </tr>\n",
       "  </tbody>\n",
       "</table>\n",
       "</div>"
      ],
      "text/plain": [
       "            Condition Well   Sample Fluor Target  Content         Cq    Cq Mean  Cq Std. Dev  Cq censored  Replicate\n",
       "0  MMLV Gag + mCh-Psi  G01  cfR60-1  SYBR  GAPDH  Unkn-25  28.584559  28.377079     0.245977    28.584559          1\n",
       "1  MMLV Gag + mCh-Psi  G02  cfR60-1  SYBR  GAPDH  Unkn-25  28.105354  28.377079     0.245977    28.105354          1\n",
       "2  MMLV Gag + mCh-Psi  G03  cfR60-1  SYBR  GAPDH  Unkn-25  28.441323  28.377079     0.245977    28.441323          1\n",
       "3      MMLV Gag + mCh  G04  cfR60-2  SYBR  GAPDH  Unkn-26  27.519552  27.502351     0.083599    27.519552          1\n",
       "4      MMLV Gag + mCh  G05  cfR60-2  SYBR  GAPDH  Unkn-26  27.411489  27.502351     0.083599    27.411489          1"
      ]
     },
     "execution_count": 13,
     "metadata": {},
     "output_type": "execute_result"
    }
   ],
   "source": [
    "data_indiv = cq_raw.reset_index().set_index(\"Condition\").loc[index_ordered]\n",
    "data_indiv = data_indiv.reset_index()\n",
    "\n",
    "data_indiv.head()"
   ]
  },
  {
   "cell_type": "code",
   "execution_count": 14,
   "metadata": {
    "Collapsed": "false"
   },
   "outputs": [
    {
     "data": {
      "text/html": [
       "<div>\n",
       "<style scoped>\n",
       "    .dataframe tbody tr th:only-of-type {\n",
       "        vertical-align: middle;\n",
       "    }\n",
       "\n",
       "    .dataframe tbody tr th {\n",
       "        vertical-align: top;\n",
       "    }\n",
       "\n",
       "    .dataframe thead th {\n",
       "        text-align: right;\n",
       "    }\n",
       "</style>\n",
       "<table border=\"1\" class=\"dataframe\">\n",
       "  <thead>\n",
       "    <tr style=\"text-align: right;\">\n",
       "      <th></th>\n",
       "      <th>Condition</th>\n",
       "      <th>Cq Mean</th>\n",
       "      <th>Cq STD</th>\n",
       "      <th>Cq censored Mean</th>\n",
       "      <th>Cq censored STD</th>\n",
       "      <th>delta Cq</th>\n",
       "    </tr>\n",
       "  </thead>\n",
       "  <tbody>\n",
       "    <tr>\n",
       "      <th>0</th>\n",
       "      <td>MMLV Gag + mCh-Psi</td>\n",
       "      <td>28.377079</td>\n",
       "      <td>0.245977</td>\n",
       "      <td>28.377079</td>\n",
       "      <td>0.245977</td>\n",
       "      <td>9.634060</td>\n",
       "    </tr>\n",
       "    <tr>\n",
       "      <th>1</th>\n",
       "      <td>MMLV Gag + mCh</td>\n",
       "      <td>27.502351</td>\n",
       "      <td>0.083599</td>\n",
       "      <td>27.502351</td>\n",
       "      <td>0.083599</td>\n",
       "      <td>10.508788</td>\n",
       "    </tr>\n",
       "    <tr>\n",
       "      <th>2</th>\n",
       "      <td>No DNA 2</td>\n",
       "      <td>34.033417</td>\n",
       "      <td>NaN</td>\n",
       "      <td>38.011139</td>\n",
       "      <td>3.444808</td>\n",
       "      <td>0.000000</td>\n",
       "    </tr>\n",
       "  </tbody>\n",
       "</table>\n",
       "</div>"
      ],
      "text/plain": [
       "            Condition    Cq Mean    Cq STD  Cq censored Mean  Cq censored STD   delta Cq\n",
       "0  MMLV Gag + mCh-Psi  28.377079  0.245977         28.377079         0.245977   9.634060\n",
       "1      MMLV Gag + mCh  27.502351  0.083599         27.502351         0.083599  10.508788\n",
       "2            No DNA 2  34.033417       NaN         38.011139         3.444808   0.000000"
      ]
     },
     "execution_count": 14,
     "metadata": {},
     "output_type": "execute_result"
    }
   ],
   "source": [
    "# Calculate enrichment relative to \"No DNA\"\n",
    "\n",
    "Cq_ref = data.set_index(\"Condition\").loc[\"No DNA 2\", \"Cq censored Mean\"]  # set reference Cq to \"No DNA\"\n",
    "\n",
    "data[\"delta Cq\"] = Cq_ref - data[\"Cq censored Mean\"]\n",
    "data_indiv[\"delta Cq\"] = Cq_ref - data_indiv[\"Cq censored\"]\n",
    "\n",
    "data"
   ]
  },
  {
   "cell_type": "code",
   "execution_count": 15,
   "metadata": {
    "Collapsed": "false"
   },
   "outputs": [
    {
     "data": {
      "image/png": "[encoded data removed]",
      "text/plain": [
       "<Figure size 450x180 with 1 Axes>"
      ]
     },
     "metadata": {},
     "output_type": "display_data"
    }
   ],
   "source": [
    "# Plot as Cq\n",
    "\n",
    "fig, ax = plt.subplots(1, 1, figsize=(1.5,0.6))\n",
    "\n",
    "sns.scatterplot(ax=ax,\n",
    "                data=data,\n",
    "                y=\"Condition\",\n",
    "                x=\"delta Cq\",\n",
    "                marker=\"|\",\n",
    "                s=80,\n",
    "                color=\"#e082b5\"\n",
    "            )\n",
    "\n",
    "sns.swarmplot(ax=ax,\n",
    "              data=data_indiv,\n",
    "              y=\"Condition\",\n",
    "              x=\"delta Cq\",\n",
    "              size=3,\n",
    "              color=\"#252525\"\n",
    "            )\n",
    "\n",
    "ax.xaxis.tick_top()\n",
    "ax.xaxis.set_label_position('top') \n",
    "\n",
    "ax.set_ylabel(\"\")\n",
    "ax.set_xlabel(\"Enrichment of GAPDH\\nmRNA in supernatant (ΔCq)\")\n",
    "\n",
    "ax.set_xticks([-2, 0, 5, 10])\n",
    "ax.set_xticklabels([\"ND\", 0, 5, 10])\n",
    "\n",
    "ax.axvline(0, ls=\"--\", lw=0.5, color=\"k\", zorder=-1)\n",
    "\n",
    "save_figure(fig, \"swarmplot_GAPDH_MMLVGag\")"
   ]
  },
  {
   "cell_type": "code",
   "execution_count": 16,
   "metadata": {
    "Collapsed": "false"
   },
   "outputs": [
    {
     "name": "stdout",
     "output_type": "stream",
     "text": [
      "Mean MMLV Gag + mCh-Psi 28.3770788508894\n",
      "Mean MMLV Gag + mCh 27.5023511709641\n",
      "STD MMLV Gag + mCh-Psi 0.2459772823350045\n",
      "STD MMLV Gag + mCh 0.08359946470464301\n",
      "Median MMLV Gag + mCh-Psi 28.4413227876374\n",
      "Median MMLV Gag + mCh 27.5195518894807\n",
      "MannwhitneyuResult(statistic=9.0, pvalue=0.1)\n"
     ]
    }
   ],
   "source": [
    "# Report values and significance\n",
    "\n",
    "condition1 = \"MMLV Gag + mCh-Psi\"\n",
    "condition2 = \"MMLV Gag + mCh\"\n",
    "\n",
    "x1 = data_indiv.set_index(\"Condition\").loc[condition1, \"Cq censored\"]\n",
    "x2 = data_indiv.set_index(\"Condition\").loc[condition2, \"Cq censored\"]\n",
    "\n",
    "print(\"Mean\", condition1, x1.mean())\n",
    "print(\"Mean\", condition2, x2.mean())\n",
    "\n",
    "print(\"STD\", condition1, x1.std())\n",
    "print(\"STD\", condition2, x2.std())\n",
    "\n",
    "print(\"Median\", condition1, x1.median())\n",
    "print(\"Median\", condition2, x2.median())\n",
    "\n",
    "print(scipy.stats.mannwhitneyu(x1, x2))"
   ]
  },
  {
   "cell_type": "markdown",
   "metadata": {
    "Collapsed": "false"
   },
   "source": [
    "# Plot GAPDH exported with varying target RNA expression levels"
   ]
  },
  {
   "cell_type": "code",
   "execution_count": 17,
   "metadata": {
    "Collapsed": "false"
   },
   "outputs": [
    {
     "data": {
      "text/html": [
       "<div>\n",
       "<style scoped>\n",
       "    .dataframe tbody tr th:only-of-type {\n",
       "        vertical-align: middle;\n",
       "    }\n",
       "\n",
       "    .dataframe tbody tr th {\n",
       "        vertical-align: top;\n",
       "    }\n",
       "\n",
       "    .dataframe thead th {\n",
       "        text-align: right;\n",
       "    }\n",
       "</style>\n",
       "<table border=\"1\" class=\"dataframe\">\n",
       "  <thead>\n",
       "    <tr style=\"text-align: right;\">\n",
       "      <th></th>\n",
       "      <th>Condition</th>\n",
       "      <th>Cq Mean</th>\n",
       "      <th>Cq STD</th>\n",
       "      <th>Cq censored Mean</th>\n",
       "      <th>Cq censored STD</th>\n",
       "    </tr>\n",
       "  </thead>\n",
       "  <tbody>\n",
       "    <tr>\n",
       "      <th>0</th>\n",
       "      <td>Gag-MCP + mCh-MS2x12</td>\n",
       "      <td>NaN</td>\n",
       "      <td>NaN</td>\n",
       "      <td>40.000000</td>\n",
       "      <td>0.000000</td>\n",
       "    </tr>\n",
       "    <tr>\n",
       "      <th>1</th>\n",
       "      <td>Gag-MCP + mCh-MS2x12 0.3X</td>\n",
       "      <td>33.813331</td>\n",
       "      <td>0.606005</td>\n",
       "      <td>35.875554</td>\n",
       "      <td>3.597487</td>\n",
       "    </tr>\n",
       "    <tr>\n",
       "      <th>2</th>\n",
       "      <td>Gag-MCP + mCh-MS2x12 0.1X</td>\n",
       "      <td>33.436873</td>\n",
       "      <td>0.926194</td>\n",
       "      <td>33.436873</td>\n",
       "      <td>0.926194</td>\n",
       "    </tr>\n",
       "  </tbody>\n",
       "</table>\n",
       "</div>"
      ],
      "text/plain": [
       "                   Condition    Cq Mean    Cq STD  Cq censored Mean  Cq censored STD\n",
       "0       Gag-MCP + mCh-MS2x12        NaN       NaN         40.000000         0.000000\n",
       "1  Gag-MCP + mCh-MS2x12 0.3X  33.813331  0.606005         35.875554         3.597487\n",
       "2  Gag-MCP + mCh-MS2x12 0.1X  33.436873  0.926194         33.436873         0.926194"
      ]
     },
     "execution_count": 17,
     "metadata": {},
     "output_type": "execute_result"
    }
   ],
   "source": [
    "index_ordered = [\"Gag-MCP + mCh-MS2x12\", \n",
    "                 \"Gag-MCP + mCh-MS2x12 0.3X\",\n",
    "                 \"Gag-MCP + mCh-MS2x12 0.1X\"]\n",
    "\n",
    "data = summary.loc[index_ordered]\n",
    "\n",
    "data = data.reset_index()\n",
    "\n",
    "data.head()"
   ]
  },
  {
   "cell_type": "code",
   "execution_count": 18,
   "metadata": {
    "Collapsed": "false"
   },
   "outputs": [
    {
     "data": {
      "text/html": [
       "<div>\n",
       "<style scoped>\n",
       "    .dataframe tbody tr th:only-of-type {\n",
       "        vertical-align: middle;\n",
       "    }\n",
       "\n",
       "    .dataframe tbody tr th {\n",
       "        vertical-align: top;\n",
       "    }\n",
       "\n",
       "    .dataframe thead th {\n",
       "        text-align: right;\n",
       "    }\n",
       "</style>\n",
       "<table border=\"1\" class=\"dataframe\">\n",
       "  <thead>\n",
       "    <tr style=\"text-align: right;\">\n",
       "      <th></th>\n",
       "      <th>Condition</th>\n",
       "      <th>Well</th>\n",
       "      <th>Sample</th>\n",
       "      <th>Fluor</th>\n",
       "      <th>Target</th>\n",
       "      <th>Content</th>\n",
       "      <th>Cq</th>\n",
       "      <th>Cq Mean</th>\n",
       "      <th>Cq Std. Dev</th>\n",
       "      <th>Cq censored</th>\n",
       "      <th>Replicate</th>\n",
       "    </tr>\n",
       "  </thead>\n",
       "  <tbody>\n",
       "    <tr>\n",
       "      <th>0</th>\n",
       "      <td>Gag-MCP + mCh-MS2x12</td>\n",
       "      <td>A01</td>\n",
       "      <td>RE18-9</td>\n",
       "      <td>SYBR</td>\n",
       "      <td>GAPDH</td>\n",
       "      <td>Unkn-01</td>\n",
       "      <td>NaN</td>\n",
       "      <td>0.000000</td>\n",
       "      <td>0.000000</td>\n",
       "      <td>40.000000</td>\n",
       "      <td>1</td>\n",
       "    </tr>\n",
       "    <tr>\n",
       "      <th>1</th>\n",
       "      <td>Gag-MCP + mCh-MS2x12</td>\n",
       "      <td>B01</td>\n",
       "      <td>RE18-9</td>\n",
       "      <td>SYBR</td>\n",
       "      <td>GAPDH</td>\n",
       "      <td>Unkn-01</td>\n",
       "      <td>NaN</td>\n",
       "      <td>0.000000</td>\n",
       "      <td>0.000000</td>\n",
       "      <td>40.000000</td>\n",
       "      <td>1</td>\n",
       "    </tr>\n",
       "    <tr>\n",
       "      <th>2</th>\n",
       "      <td>Gag-MCP + mCh-MS2x12</td>\n",
       "      <td>C01</td>\n",
       "      <td>RE18-9</td>\n",
       "      <td>SYBR</td>\n",
       "      <td>GAPDH</td>\n",
       "      <td>Unkn-01</td>\n",
       "      <td>NaN</td>\n",
       "      <td>0.000000</td>\n",
       "      <td>0.000000</td>\n",
       "      <td>40.000000</td>\n",
       "      <td>1</td>\n",
       "    </tr>\n",
       "    <tr>\n",
       "      <th>3</th>\n",
       "      <td>Gag-MCP + mCh-MS2x12 0.3X</td>\n",
       "      <td>A04</td>\n",
       "      <td>RE18-12</td>\n",
       "      <td>SYBR</td>\n",
       "      <td>GAPDH</td>\n",
       "      <td>Unkn-04</td>\n",
       "      <td>NaN</td>\n",
       "      <td>0.000000</td>\n",
       "      <td>0.000000</td>\n",
       "      <td>40.000000</td>\n",
       "      <td>1</td>\n",
       "    </tr>\n",
       "    <tr>\n",
       "      <th>4</th>\n",
       "      <td>Gag-MCP + mCh-MS2x12 0.3X</td>\n",
       "      <td>B04</td>\n",
       "      <td>RE18-12</td>\n",
       "      <td>SYBR</td>\n",
       "      <td>GAPDH</td>\n",
       "      <td>Unkn-04</td>\n",
       "      <td>34.241842</td>\n",
       "      <td>33.813331</td>\n",
       "      <td>0.606005</td>\n",
       "      <td>34.241842</td>\n",
       "      <td>1</td>\n",
       "    </tr>\n",
       "  </tbody>\n",
       "</table>\n",
       "</div>"
      ],
      "text/plain": [
       "                   Condition Well   Sample Fluor Target  Content         Cq    Cq Mean  Cq Std. Dev  Cq censored  Replicate\n",
       "0       Gag-MCP + mCh-MS2x12  A01   RE18-9  SYBR  GAPDH  Unkn-01        NaN   0.000000     0.000000    40.000000          1\n",
       "1       Gag-MCP + mCh-MS2x12  B01   RE18-9  SYBR  GAPDH  Unkn-01        NaN   0.000000     0.000000    40.000000          1\n",
       "2       Gag-MCP + mCh-MS2x12  C01   RE18-9  SYBR  GAPDH  Unkn-01        NaN   0.000000     0.000000    40.000000          1\n",
       "3  Gag-MCP + mCh-MS2x12 0.3X  A04  RE18-12  SYBR  GAPDH  Unkn-04        NaN   0.000000     0.000000    40.000000          1\n",
       "4  Gag-MCP + mCh-MS2x12 0.3X  B04  RE18-12  SYBR  GAPDH  Unkn-04  34.241842  33.813331     0.606005    34.241842          1"
      ]
     },
     "execution_count": 18,
     "metadata": {},
     "output_type": "execute_result"
    }
   ],
   "source": [
    "data_indiv = cq_raw.reset_index().set_index(\"Condition\").loc[index_ordered]\n",
    "data_indiv = data_indiv.reset_index()\n",
    "\n",
    "data_indiv.head()"
   ]
  },
  {
   "cell_type": "code",
   "execution_count": 19,
   "metadata": {
    "Collapsed": "false"
   },
   "outputs": [
    {
     "data": {
      "text/html": [
       "<div>\n",
       "<style scoped>\n",
       "    .dataframe tbody tr th:only-of-type {\n",
       "        vertical-align: middle;\n",
       "    }\n",
       "\n",
       "    .dataframe tbody tr th {\n",
       "        vertical-align: top;\n",
       "    }\n",
       "\n",
       "    .dataframe thead th {\n",
       "        text-align: right;\n",
       "    }\n",
       "</style>\n",
       "<table border=\"1\" class=\"dataframe\">\n",
       "  <thead>\n",
       "    <tr style=\"text-align: right;\">\n",
       "      <th></th>\n",
       "      <th>Condition</th>\n",
       "      <th>Cq Mean</th>\n",
       "      <th>Cq STD</th>\n",
       "      <th>Cq censored Mean</th>\n",
       "      <th>Cq censored STD</th>\n",
       "      <th>delta Cq</th>\n",
       "    </tr>\n",
       "  </thead>\n",
       "  <tbody>\n",
       "    <tr>\n",
       "      <th>0</th>\n",
       "      <td>Gag-MCP + mCh-MS2x12</td>\n",
       "      <td>NaN</td>\n",
       "      <td>NaN</td>\n",
       "      <td>40.000000</td>\n",
       "      <td>0.000000</td>\n",
       "      <td>0.000000</td>\n",
       "    </tr>\n",
       "    <tr>\n",
       "      <th>1</th>\n",
       "      <td>Gag-MCP + mCh-MS2x12 0.3X</td>\n",
       "      <td>33.813331</td>\n",
       "      <td>0.606005</td>\n",
       "      <td>35.875554</td>\n",
       "      <td>3.597487</td>\n",
       "      <td>4.124446</td>\n",
       "    </tr>\n",
       "    <tr>\n",
       "      <th>2</th>\n",
       "      <td>Gag-MCP + mCh-MS2x12 0.1X</td>\n",
       "      <td>33.436873</td>\n",
       "      <td>0.926194</td>\n",
       "      <td>33.436873</td>\n",
       "      <td>0.926194</td>\n",
       "      <td>6.563127</td>\n",
       "    </tr>\n",
       "  </tbody>\n",
       "</table>\n",
       "</div>"
      ],
      "text/plain": [
       "                   Condition    Cq Mean    Cq STD  Cq censored Mean  Cq censored STD  delta Cq\n",
       "0       Gag-MCP + mCh-MS2x12        NaN       NaN         40.000000         0.000000  0.000000\n",
       "1  Gag-MCP + mCh-MS2x12 0.3X  33.813331  0.606005         35.875554         3.597487  4.124446\n",
       "2  Gag-MCP + mCh-MS2x12 0.1X  33.436873  0.926194         33.436873         0.926194  6.563127"
      ]
     },
     "execution_count": 19,
     "metadata": {},
     "output_type": "execute_result"
    }
   ],
   "source": [
    "# Calculate enrichment relative to smallest cargo\n",
    "\n",
    "Cq_ref = data.set_index(\"Condition\").loc[\"Gag-MCP + mCh-MS2x12\", \"Cq censored Mean\"]  # set reference Cq to \"No DNA\"\n",
    "\n",
    "data[\"delta Cq\"] = Cq_ref - data[\"Cq censored Mean\"]\n",
    "data_indiv[\"delta Cq\"] = Cq_ref - data_indiv[\"Cq censored\"]\n",
    "\n",
    "data"
   ]
  },
  {
   "cell_type": "code",
   "execution_count": 20,
   "metadata": {
    "Collapsed": "false"
   },
   "outputs": [
    {
     "data": {
      "text/html": [
       "<div>\n",
       "<style scoped>\n",
       "    .dataframe tbody tr th:only-of-type {\n",
       "        vertical-align: middle;\n",
       "    }\n",
       "\n",
       "    .dataframe tbody tr th {\n",
       "        vertical-align: top;\n",
       "    }\n",
       "\n",
       "    .dataframe thead th {\n",
       "        text-align: right;\n",
       "    }\n",
       "</style>\n",
       "<table border=\"1\" class=\"dataframe\">\n",
       "  <thead>\n",
       "    <tr style=\"text-align: right;\">\n",
       "      <th></th>\n",
       "      <th>Condition</th>\n",
       "      <th>Cq Mean</th>\n",
       "      <th>Cq STD</th>\n",
       "      <th>Cq censored Mean</th>\n",
       "      <th>Cq censored STD</th>\n",
       "      <th>delta Cq</th>\n",
       "      <th>Cq censored Mean inverted</th>\n",
       "    </tr>\n",
       "  </thead>\n",
       "  <tbody>\n",
       "    <tr>\n",
       "      <th>0</th>\n",
       "      <td>Gag-MCP + mCh-MS2x12</td>\n",
       "      <td>NaN</td>\n",
       "      <td>NaN</td>\n",
       "      <td>40.000000</td>\n",
       "      <td>0.000000</td>\n",
       "      <td>0.000000</td>\n",
       "      <td>0.000000</td>\n",
       "    </tr>\n",
       "    <tr>\n",
       "      <th>1</th>\n",
       "      <td>Gag-MCP + mCh-MS2x12 0.3X</td>\n",
       "      <td>33.813331</td>\n",
       "      <td>0.606005</td>\n",
       "      <td>35.875554</td>\n",
       "      <td>3.597487</td>\n",
       "      <td>4.124446</td>\n",
       "      <td>4.124446</td>\n",
       "    </tr>\n",
       "    <tr>\n",
       "      <th>2</th>\n",
       "      <td>Gag-MCP + mCh-MS2x12 0.1X</td>\n",
       "      <td>33.436873</td>\n",
       "      <td>0.926194</td>\n",
       "      <td>33.436873</td>\n",
       "      <td>0.926194</td>\n",
       "      <td>6.563127</td>\n",
       "      <td>6.563127</td>\n",
       "    </tr>\n",
       "  </tbody>\n",
       "</table>\n",
       "</div>"
      ],
      "text/plain": [
       "                   Condition    Cq Mean    Cq STD  Cq censored Mean  Cq censored STD  delta Cq  Cq censored Mean inverted\n",
       "0       Gag-MCP + mCh-MS2x12        NaN       NaN         40.000000         0.000000  0.000000                   0.000000\n",
       "1  Gag-MCP + mCh-MS2x12 0.3X  33.813331  0.606005         35.875554         3.597487  4.124446                   4.124446\n",
       "2  Gag-MCP + mCh-MS2x12 0.1X  33.436873  0.926194         33.436873         0.926194  6.563127                   6.563127"
      ]
     },
     "execution_count": 20,
     "metadata": {},
     "output_type": "execute_result"
    }
   ],
   "source": [
    "# Calculate inverted values so that barplot will be oriented more intuitively\n",
    "\n",
    "data[\"Cq censored Mean inverted\"] = 40 - data[\"Cq censored Mean\"]\n",
    "data_indiv[\"Cq censored inverted\"] = 40 - data_indiv[\"Cq censored\"]\n",
    "\n",
    "data"
   ]
  },
  {
   "cell_type": "code",
   "execution_count": 21,
   "metadata": {
    "Collapsed": "false"
   },
   "outputs": [
    {
     "data": {
      "image/png": "[encoded data removed]",
      "text/plain": [
       "<Figure size 300x180 with 1 Axes>"
      ]
     },
     "metadata": {},
     "output_type": "display_data"
    }
   ],
   "source": [
    "# Plot as Cq without mCh (without tag) and \"No DNA\"\n",
    "\n",
    "data_subset = data.iloc[[0, 1, 2]]\n",
    "data_indiv_subset = data_indiv.iloc[range(0,8)]\n",
    "\n",
    "palette = [\"#b7ade3\", \"#b7ade3\", \"#b7ade3\"]\n",
    "\n",
    "fig, ax = plt.subplots(1, 1, figsize=(1,0.6))\n",
    "\n",
    "sns.barplot(ax=ax,\n",
    "            data=data,\n",
    "            y=\"Condition\",\n",
    "            x=\"Cq censored Mean inverted\",\n",
    "            errorbar=None,\n",
    "            palette=palette,\n",
    "            edgecolor=\"#010101\",\n",
    "            linewidth=0.2,\n",
    "            )\n",
    "\n",
    "sns.swarmplot(ax=ax,\n",
    "              data=data_indiv,\n",
    "              y=\"Condition\",\n",
    "              x=\"Cq censored inverted\",\n",
    "              edgecolor=\"#010101\",\n",
    "              linewidth=0.1,\n",
    "              size=3,\n",
    "              color=\"#252525\"\n",
    "            )\n",
    "\n",
    "ax.set_xlim(-0.5, 10)\n",
    "ax.set_ylabel(\"\")\n",
    "ax.set_xticks([0, 5, 10])\n",
    "ax.set_xticklabels([\"ND\", 35, 30])\n",
    "\n",
    "ax.xaxis.tick_top()\n",
    "ax.xaxis.set_label_position('top') \n",
    "\n",
    "ax.set_xlabel(\"Abundance of GAPDH\\nmRNA in supernatant (Cq)\")\n",
    "\n",
    "ax.axvline(0, ls=\"--\", lw=0.5, color=\"k\", zorder=-1)\n",
    "\n",
    "save_figure(fig, \"barplot_GAPDH_vary_reporter\")"
   ]
  },
  {
   "cell_type": "code",
   "execution_count": null,
   "metadata": {
    "Collapsed": "false"
   },
   "outputs": [],
   "source": []
  }
 ],
 "metadata": {
  "kernelspec": {
   "display_name": "RNA_export_magic",
   "language": "python",
   "name": "rna_export_magic"
  },
  "language_info": {
   "codemirror_mode": {
    "name": "ipython",
    "version": 3
   },
   "file_extension": ".py",
   "mimetype": "text/x-python",
   "name": "python",
   "nbconvert_exporter": "python",
   "pygments_lexer": "ipython3",
   "version": "3.7.7"
  }
 },
 "nbformat": 4,
 "nbformat_minor": 4
}
