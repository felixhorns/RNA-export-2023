{
 "cells": [
  {
   "cell_type": "markdown",
   "metadata": {
    "Collapsed": "false"
   },
   "source": [
    "# Gag-MCP becomes partially silenced over 7 days of induction"
   ]
  },
  {
   "cell_type": "markdown",
   "metadata": {
    "Collapsed": "false",
    "toc-hr-collapsed": false
   },
   "source": [
    "# Introduction"
   ]
  },
  {
   "cell_type": "markdown",
   "metadata": {
    "Collapsed": "false"
   },
   "source": [
    "## Imports"
   ]
  },
  {
   "cell_type": "code",
   "execution_count": 1,
   "metadata": {
    "Collapsed": "false"
   },
   "outputs": [],
   "source": [
    "import sys\n",
    "import os\n",
    "import time\n",
    "\n",
    "import numpy as np\n",
    "import scipy\n",
    "import pandas as pd\n",
    "\n",
    "%matplotlib inline\n",
    "from matplotlib import pyplot as plt\n",
    "import matplotlib as mpl\n",
    "import seaborn as sns"
   ]
  },
  {
   "cell_type": "markdown",
   "metadata": {
    "Collapsed": "false"
   },
   "source": [
    "## Set output parameters"
   ]
  },
  {
   "cell_type": "code",
   "execution_count": 2,
   "metadata": {
    "Collapsed": "false"
   },
   "outputs": [],
   "source": [
    "# Set pandas display options\n",
    "pd.set_option('display.max_rows', 30)\n",
    "pd.set_option('display.max_columns', 100)\n",
    "pd.set_option('display.width', 1000)\n",
    "\n",
    "# Set plot display options\n",
    "FONTSIZE = 8  # universal fontsize\n",
    "params = {\n",
    "    'font.size': FONTSIZE,\n",
    "    'axes.titlesize': FONTSIZE,\n",
    "    'axes.labelsize': FONTSIZE,\n",
    "    'legend.fontsize': FONTSIZE,\n",
    "    'xtick.labelsize': FONTSIZE,\n",
    "    'ytick.labelsize': FONTSIZE,\n",
    "    'font.family': \"Helvetica\",\n",
    "    'mathtext.fontset': 'custom',\n",
    "    'pdf.fonttype': 42,\n",
    "    'ps.fonttype': 42,\n",
    "    'figure.dpi': 300\n",
    "   }\n",
    "mpl.rcParams.update(params)\n",
    "sns.set_style(\"ticks\", {'axes.grid' : False})\n",
    "\n",
    "# Set plot output options\n",
    "output_dir = \"outs/flow_silencing\"\n",
    "output_suffix = \"\"\n",
    "output_formats = [\".png\", \".pdf\"]\n",
    "\n",
    "mpl.rc('savefig', dpi=300)\n",
    "\n",
    "# Define convenience function for saving figures\n",
    "\n",
    "savefig = True\n",
    "savefig_args = {\"dpi\": 300, \"bbox_inches\": \"tight\", \"pad_inches\": 0.1}\n",
    "\n",
    "def save_figure(fig, name, output_dir=output_dir, output_suffix=output_suffix, output_formats=output_formats, savefig_args=savefig_args):\n",
    "    if savefig:\n",
    "        for output_format in output_formats:\n",
    "            fig.savefig(output_dir + \"/\" + name + output_suffix + output_format, **savefig_args)\n",
    "    return None"
   ]
  },
  {
   "cell_type": "code",
   "execution_count": 3,
   "metadata": {
    "Collapsed": "false"
   },
   "outputs": [
    {
     "data": {
      "text/plain": [
       "{'font.size': 8.0,\n",
       " 'axes.labelsize': 8.0,\n",
       " 'axes.titlesize': 8.0,\n",
       " 'xtick.labelsize': 8.0,\n",
       " 'ytick.labelsize': 8.0,\n",
       " 'legend.fontsize': 8.0,\n",
       " 'legend.title_fontsize': None,\n",
       " 'axes.linewidth': 0.8,\n",
       " 'grid.linewidth': 0.8,\n",
       " 'lines.linewidth': 1.5,\n",
       " 'lines.markersize': 6.0,\n",
       " 'patch.linewidth': 1.0,\n",
       " 'xtick.major.width': 0.8,\n",
       " 'ytick.major.width': 0.8,\n",
       " 'xtick.minor.width': 0.6,\n",
       " 'ytick.minor.width': 0.6,\n",
       " 'xtick.major.size': 3.5,\n",
       " 'ytick.major.size': 3.5,\n",
       " 'xtick.minor.size': 2.0,\n",
       " 'ytick.minor.size': 2.0}"
      ]
     },
     "execution_count": 3,
     "metadata": {},
     "output_type": "execute_result"
    }
   ],
   "source": [
    "# Report plot parameters\n",
    "sns.plotting_context()"
   ]
  },
  {
   "cell_type": "markdown",
   "metadata": {
    "Collapsed": "false"
   },
   "source": [
    "# Load data"
   ]
  },
  {
   "cell_type": "code",
   "execution_count": 4,
   "metadata": {
    "Collapsed": "false"
   },
   "outputs": [
    {
     "name": "stdout",
     "output_type": "stream",
     "text": [
      "(16, 6)\n"
     ]
    },
    {
     "data": {
      "text/html": [
       "<div>\n",
       "<style scoped>\n",
       "    .dataframe tbody tr th:only-of-type {\n",
       "        vertical-align: middle;\n",
       "    }\n",
       "\n",
       "    .dataframe tbody tr th {\n",
       "        vertical-align: top;\n",
       "    }\n",
       "\n",
       "    .dataframe thead th {\n",
       "        text-align: right;\n",
       "    }\n",
       "</style>\n",
       "<table border=\"1\" class=\"dataframe\">\n",
       "  <thead>\n",
       "    <tr style=\"text-align: right;\">\n",
       "      <th></th>\n",
       "      <th>Sample</th>\n",
       "      <th>Time_days</th>\n",
       "      <th>Replicate</th>\n",
       "      <th>GFP+</th>\n",
       "      <th>Cells</th>\n",
       "      <th>Label</th>\n",
       "    </tr>\n",
       "  </thead>\n",
       "  <tbody>\n",
       "    <tr>\n",
       "      <th>0</th>\n",
       "      <td>dox</td>\n",
       "      <td>0</td>\n",
       "      <td>1</td>\n",
       "      <td>98.20000</td>\n",
       "      <td>17886</td>\n",
       "      <td>induced (+dox)</td>\n",
       "    </tr>\n",
       "    <tr>\n",
       "      <th>1</th>\n",
       "      <td>dox</td>\n",
       "      <td>0</td>\n",
       "      <td>2</td>\n",
       "      <td>98.20000</td>\n",
       "      <td>18870</td>\n",
       "      <td>induced (+dox)</td>\n",
       "    </tr>\n",
       "    <tr>\n",
       "      <th>2</th>\n",
       "      <td>dox</td>\n",
       "      <td>3</td>\n",
       "      <td>1</td>\n",
       "      <td>89.10000</td>\n",
       "      <td>4483</td>\n",
       "      <td>induced (+dox)</td>\n",
       "    </tr>\n",
       "    <tr>\n",
       "      <th>3</th>\n",
       "      <td>dox</td>\n",
       "      <td>3</td>\n",
       "      <td>2</td>\n",
       "      <td>90.10000</td>\n",
       "      <td>6398</td>\n",
       "      <td>induced (+dox)</td>\n",
       "    </tr>\n",
       "    <tr>\n",
       "      <th>4</th>\n",
       "      <td>dox</td>\n",
       "      <td>5</td>\n",
       "      <td>1</td>\n",
       "      <td>95.80000</td>\n",
       "      <td>12509</td>\n",
       "      <td>induced (+dox)</td>\n",
       "    </tr>\n",
       "    <tr>\n",
       "      <th>5</th>\n",
       "      <td>dox</td>\n",
       "      <td>5</td>\n",
       "      <td>2</td>\n",
       "      <td>93.70000</td>\n",
       "      <td>10292</td>\n",
       "      <td>induced (+dox)</td>\n",
       "    </tr>\n",
       "    <tr>\n",
       "      <th>6</th>\n",
       "      <td>dox</td>\n",
       "      <td>7</td>\n",
       "      <td>1</td>\n",
       "      <td>91.60000</td>\n",
       "      <td>15961</td>\n",
       "      <td>induced (+dox)</td>\n",
       "    </tr>\n",
       "    <tr>\n",
       "      <th>7</th>\n",
       "      <td>dox</td>\n",
       "      <td>7</td>\n",
       "      <td>2</td>\n",
       "      <td>89.40000</td>\n",
       "      <td>11110</td>\n",
       "      <td>induced (+dox)</td>\n",
       "    </tr>\n",
       "    <tr>\n",
       "      <th>8</th>\n",
       "      <td>no_dox</td>\n",
       "      <td>0</td>\n",
       "      <td>1</td>\n",
       "      <td>0.00519</td>\n",
       "      <td>1</td>\n",
       "      <td>not induced (-dox)</td>\n",
       "    </tr>\n",
       "    <tr>\n",
       "      <th>9</th>\n",
       "      <td>no_dox</td>\n",
       "      <td>0</td>\n",
       "      <td>2</td>\n",
       "      <td>0.00510</td>\n",
       "      <td>1</td>\n",
       "      <td>not induced (-dox)</td>\n",
       "    </tr>\n",
       "    <tr>\n",
       "      <th>10</th>\n",
       "      <td>no_dox</td>\n",
       "      <td>3</td>\n",
       "      <td>1</td>\n",
       "      <td>0.02200</td>\n",
       "      <td>1</td>\n",
       "      <td>not induced (-dox)</td>\n",
       "    </tr>\n",
       "    <tr>\n",
       "      <th>11</th>\n",
       "      <td>no_dox</td>\n",
       "      <td>3</td>\n",
       "      <td>2</td>\n",
       "      <td>0.00000</td>\n",
       "      <td>0</td>\n",
       "      <td>not induced (-dox)</td>\n",
       "    </tr>\n",
       "    <tr>\n",
       "      <th>12</th>\n",
       "      <td>no_dox</td>\n",
       "      <td>5</td>\n",
       "      <td>1</td>\n",
       "      <td>0.03500</td>\n",
       "      <td>3</td>\n",
       "      <td>not induced (-dox)</td>\n",
       "    </tr>\n",
       "    <tr>\n",
       "      <th>13</th>\n",
       "      <td>no_dox</td>\n",
       "      <td>5</td>\n",
       "      <td>2</td>\n",
       "      <td>0.00000</td>\n",
       "      <td>0</td>\n",
       "      <td>not induced (-dox)</td>\n",
       "    </tr>\n",
       "    <tr>\n",
       "      <th>14</th>\n",
       "      <td>no_dox</td>\n",
       "      <td>7</td>\n",
       "      <td>1</td>\n",
       "      <td>0.01900</td>\n",
       "      <td>1</td>\n",
       "      <td>not induced (-dox)</td>\n",
       "    </tr>\n",
       "    <tr>\n",
       "      <th>15</th>\n",
       "      <td>no_dox</td>\n",
       "      <td>7</td>\n",
       "      <td>2</td>\n",
       "      <td>0.00000</td>\n",
       "      <td>0</td>\n",
       "      <td>not induced (-dox)</td>\n",
       "    </tr>\n",
       "  </tbody>\n",
       "</table>\n",
       "</div>"
      ],
      "text/plain": [
       "    Sample  Time_days  Replicate      GFP+  Cells               Label\n",
       "0      dox          0          1  98.20000  17886      induced (+dox)\n",
       "1      dox          0          2  98.20000  18870      induced (+dox)\n",
       "2      dox          3          1  89.10000   4483      induced (+dox)\n",
       "3      dox          3          2  90.10000   6398      induced (+dox)\n",
       "4      dox          5          1  95.80000  12509      induced (+dox)\n",
       "5      dox          5          2  93.70000  10292      induced (+dox)\n",
       "6      dox          7          1  91.60000  15961      induced (+dox)\n",
       "7      dox          7          2  89.40000  11110      induced (+dox)\n",
       "8   no_dox          0          1   0.00519      1  not induced (-dox)\n",
       "9   no_dox          0          2   0.00510      1  not induced (-dox)\n",
       "10  no_dox          3          1   0.02200      1  not induced (-dox)\n",
       "11  no_dox          3          2   0.00000      0  not induced (-dox)\n",
       "12  no_dox          5          1   0.03500      3  not induced (-dox)\n",
       "13  no_dox          5          2   0.00000      0  not induced (-dox)\n",
       "14  no_dox          7          1   0.01900      1  not induced (-dox)\n",
       "15  no_dox          7          2   0.00000      0  not induced (-dox)"
      ]
     },
     "execution_count": 4,
     "metadata": {},
     "output_type": "execute_result"
    }
   ],
   "source": [
    "infile = \"../preprocessed_data/flow_data/flow_silencing_summary.csv\"\n",
    "\n",
    "df_raw = pd.read_csv(infile, index_col=None)\n",
    "\n",
    "print(df_raw.shape)\n",
    "df_raw"
   ]
  },
  {
   "cell_type": "markdown",
   "metadata": {
    "Collapsed": "false"
   },
   "source": [
    "# Preprocess data"
   ]
  },
  {
   "cell_type": "code",
   "execution_count": 5,
   "metadata": {
    "Collapsed": "false"
   },
   "outputs": [
    {
     "data": {
      "text/html": [
       "<div>\n",
       "<style scoped>\n",
       "    .dataframe tbody tr th:only-of-type {\n",
       "        vertical-align: middle;\n",
       "    }\n",
       "\n",
       "    .dataframe tbody tr th {\n",
       "        vertical-align: top;\n",
       "    }\n",
       "\n",
       "    .dataframe thead th {\n",
       "        text-align: right;\n",
       "    }\n",
       "</style>\n",
       "<table border=\"1\" class=\"dataframe\">\n",
       "  <thead>\n",
       "    <tr style=\"text-align: right;\">\n",
       "      <th></th>\n",
       "      <th></th>\n",
       "      <th>mean</th>\n",
       "      <th>std</th>\n",
       "      <th>Label</th>\n",
       "    </tr>\n",
       "    <tr>\n",
       "      <th>Sample</th>\n",
       "      <th>Time_days</th>\n",
       "      <th></th>\n",
       "      <th></th>\n",
       "      <th></th>\n",
       "    </tr>\n",
       "  </thead>\n",
       "  <tbody>\n",
       "    <tr>\n",
       "      <th rowspan=\"4\" valign=\"top\">dox</th>\n",
       "      <th>0</th>\n",
       "      <td>98.200000</td>\n",
       "      <td>0.000000</td>\n",
       "      <td>induced (+dox)</td>\n",
       "    </tr>\n",
       "    <tr>\n",
       "      <th>3</th>\n",
       "      <td>89.600000</td>\n",
       "      <td>0.707107</td>\n",
       "      <td>induced (+dox)</td>\n",
       "    </tr>\n",
       "    <tr>\n",
       "      <th>5</th>\n",
       "      <td>94.750000</td>\n",
       "      <td>1.484924</td>\n",
       "      <td>induced (+dox)</td>\n",
       "    </tr>\n",
       "    <tr>\n",
       "      <th>7</th>\n",
       "      <td>90.500000</td>\n",
       "      <td>1.555635</td>\n",
       "      <td>induced (+dox)</td>\n",
       "    </tr>\n",
       "    <tr>\n",
       "      <th rowspan=\"4\" valign=\"top\">no_dox</th>\n",
       "      <th>0</th>\n",
       "      <td>0.005145</td>\n",
       "      <td>0.000064</td>\n",
       "      <td>not induced (-dox)</td>\n",
       "    </tr>\n",
       "    <tr>\n",
       "      <th>3</th>\n",
       "      <td>0.011000</td>\n",
       "      <td>0.015556</td>\n",
       "      <td>not induced (-dox)</td>\n",
       "    </tr>\n",
       "    <tr>\n",
       "      <th>5</th>\n",
       "      <td>0.017500</td>\n",
       "      <td>0.024749</td>\n",
       "      <td>not induced (-dox)</td>\n",
       "    </tr>\n",
       "    <tr>\n",
       "      <th>7</th>\n",
       "      <td>0.009500</td>\n",
       "      <td>0.013435</td>\n",
       "      <td>not induced (-dox)</td>\n",
       "    </tr>\n",
       "  </tbody>\n",
       "</table>\n",
       "</div>"
      ],
      "text/plain": [
       "                       mean       std               Label\n",
       "Sample Time_days                                         \n",
       "dox    0          98.200000  0.000000      induced (+dox)\n",
       "       3          89.600000  0.707107      induced (+dox)\n",
       "       5          94.750000  1.484924      induced (+dox)\n",
       "       7          90.500000  1.555635      induced (+dox)\n",
       "no_dox 0           0.005145  0.000064  not induced (-dox)\n",
       "       3           0.011000  0.015556  not induced (-dox)\n",
       "       5           0.017500  0.024749  not induced (-dox)\n",
       "       7           0.009500  0.013435  not induced (-dox)"
      ]
     },
     "execution_count": 5,
     "metadata": {},
     "output_type": "execute_result"
    }
   ],
   "source": [
    "# Summarize replicates\n",
    "summary = df_raw.groupby([\"Sample\", \"Time_days\"]).describe()[\"GFP+\"][[\"mean\", \"std\"]]\n",
    "\n",
    "# Transfer label column to summary dataframe\n",
    "col = df_raw.set_index([\"Sample\", \"Time_days\"]).loc[summary.index][\"Label\"].reset_index().drop_duplicates().set_index([\"Sample\", \"Time_days\"])\n",
    "summary[\"Label\"] = col\n",
    "\n",
    "summary"
   ]
  },
  {
   "cell_type": "markdown",
   "metadata": {
    "Collapsed": "false"
   },
   "source": [
    "# Plot exporter expression across time (% GFP+ cells)"
   ]
  },
  {
   "cell_type": "code",
   "execution_count": 6,
   "metadata": {
    "Collapsed": "false"
   },
   "outputs": [
    {
     "data": {
      "image/png": "[encoded data removed]",
      "text/plain": [
       "<Figure size 300x300 with 1 Axes>"
      ]
     },
     "metadata": {},
     "output_type": "display_data"
    }
   ],
   "source": [
    "palette = [\"r\", \"#666666\"]\n",
    "\n",
    "data = summary.reset_index()\n",
    "\n",
    "fig, ax = plt.subplots(1, 1, figsize=(1, 1))\n",
    "\n",
    "data_subset = data.loc[data[\"Sample\"] == \"dox\"]\n",
    "ax.errorbar(x=data_subset[\"Time_days\"],\n",
    "            y=data_subset[\"mean\"],\n",
    "            yerr=data_subset[\"std\"],\n",
    "            color=palette[0],\n",
    "            marker=\".\",\n",
    "            capsize=3,\n",
    "            capthick=0.5,\n",
    "            lw=1,\n",
    "            label=\"induced (+dox)\")\n",
    "\n",
    "\n",
    "data_subset = data.loc[data[\"Sample\"] == \"no_dox\"]\n",
    "ax.errorbar(x=data_subset[\"Time_days\"],\n",
    "            y=data_subset[\"mean\"],\n",
    "            yerr=data_subset[\"std\"],\n",
    "            color=palette[1],\n",
    "            marker=\".\",\n",
    "            capsize=3,\n",
    "            capthick=0.5,\n",
    "            lw=1,\n",
    "            label=\"not induced (-dox)\")\n",
    "\n",
    "ax.set_xlabel(\"Time (days)\")\n",
    "ax.set_ylabel(\"Cells expressing\\nexporter (% GFP+)\")\n",
    "\n",
    "ax.set_xticks([0, 3, 5, 7])\n",
    "ax.set_yticks([0, 25, 50, 75, 100])\n",
    "\n",
    "plt.legend(loc=\"center\", bbox_to_anchor=(2, 0.5), markerscale=1, handletextpad=0.5)\n",
    "\n",
    "save_figure(fig, \"exporter_expression_over_time\")"
   ]
  },
  {
   "cell_type": "code",
   "execution_count": 7,
   "metadata": {
    "Collapsed": "false"
   },
   "outputs": [
    {
     "data": {
      "text/html": [
       "<div>\n",
       "<style scoped>\n",
       "    .dataframe tbody tr th:only-of-type {\n",
       "        vertical-align: middle;\n",
       "    }\n",
       "\n",
       "    .dataframe tbody tr th {\n",
       "        vertical-align: top;\n",
       "    }\n",
       "\n",
       "    .dataframe thead th {\n",
       "        text-align: right;\n",
       "    }\n",
       "</style>\n",
       "<table border=\"1\" class=\"dataframe\">\n",
       "  <thead>\n",
       "    <tr style=\"text-align: right;\">\n",
       "      <th></th>\n",
       "      <th>Sample</th>\n",
       "      <th>Time_days</th>\n",
       "      <th>mean</th>\n",
       "      <th>std</th>\n",
       "      <th>Label</th>\n",
       "    </tr>\n",
       "  </thead>\n",
       "  <tbody>\n",
       "    <tr>\n",
       "      <th>0</th>\n",
       "      <td>dox</td>\n",
       "      <td>0</td>\n",
       "      <td>98.200000</td>\n",
       "      <td>0.000000</td>\n",
       "      <td>induced (+dox)</td>\n",
       "    </tr>\n",
       "    <tr>\n",
       "      <th>1</th>\n",
       "      <td>dox</td>\n",
       "      <td>3</td>\n",
       "      <td>89.600000</td>\n",
       "      <td>0.707107</td>\n",
       "      <td>induced (+dox)</td>\n",
       "    </tr>\n",
       "    <tr>\n",
       "      <th>2</th>\n",
       "      <td>dox</td>\n",
       "      <td>5</td>\n",
       "      <td>94.750000</td>\n",
       "      <td>1.484924</td>\n",
       "      <td>induced (+dox)</td>\n",
       "    </tr>\n",
       "    <tr>\n",
       "      <th>3</th>\n",
       "      <td>dox</td>\n",
       "      <td>7</td>\n",
       "      <td>90.500000</td>\n",
       "      <td>1.555635</td>\n",
       "      <td>induced (+dox)</td>\n",
       "    </tr>\n",
       "    <tr>\n",
       "      <th>4</th>\n",
       "      <td>no_dox</td>\n",
       "      <td>0</td>\n",
       "      <td>0.005145</td>\n",
       "      <td>0.000064</td>\n",
       "      <td>not induced (-dox)</td>\n",
       "    </tr>\n",
       "    <tr>\n",
       "      <th>5</th>\n",
       "      <td>no_dox</td>\n",
       "      <td>3</td>\n",
       "      <td>0.011000</td>\n",
       "      <td>0.015556</td>\n",
       "      <td>not induced (-dox)</td>\n",
       "    </tr>\n",
       "    <tr>\n",
       "      <th>6</th>\n",
       "      <td>no_dox</td>\n",
       "      <td>5</td>\n",
       "      <td>0.017500</td>\n",
       "      <td>0.024749</td>\n",
       "      <td>not induced (-dox)</td>\n",
       "    </tr>\n",
       "    <tr>\n",
       "      <th>7</th>\n",
       "      <td>no_dox</td>\n",
       "      <td>7</td>\n",
       "      <td>0.009500</td>\n",
       "      <td>0.013435</td>\n",
       "      <td>not induced (-dox)</td>\n",
       "    </tr>\n",
       "  </tbody>\n",
       "</table>\n",
       "</div>"
      ],
      "text/plain": [
       "   Sample  Time_days       mean       std               Label\n",
       "0     dox          0  98.200000  0.000000      induced (+dox)\n",
       "1     dox          3  89.600000  0.707107      induced (+dox)\n",
       "2     dox          5  94.750000  1.484924      induced (+dox)\n",
       "3     dox          7  90.500000  1.555635      induced (+dox)\n",
       "4  no_dox          0   0.005145  0.000064  not induced (-dox)\n",
       "5  no_dox          3   0.011000  0.015556  not induced (-dox)\n",
       "6  no_dox          5   0.017500  0.024749  not induced (-dox)\n",
       "7  no_dox          7   0.009500  0.013435  not induced (-dox)"
      ]
     },
     "execution_count": 7,
     "metadata": {},
     "output_type": "execute_result"
    }
   ],
   "source": [
    "# Report values\n",
    "data"
   ]
  },
  {
   "cell_type": "code",
   "execution_count": null,
   "metadata": {
    "Collapsed": "false"
   },
   "outputs": [],
   "source": []
  }
 ],
 "metadata": {
  "kernelspec": {
   "display_name": "RNA_export_magic",
   "language": "python",
   "name": "rna_export_magic"
  },
  "language_info": {
   "codemirror_mode": {
    "name": "ipython",
    "version": 3
   },
   "file_extension": ".py",
   "mimetype": "text/x-python",
   "name": "python",
   "nbconvert_exporter": "python",
   "pygments_lexer": "ipython3",
   "version": "3.7.7"
  }
 },
 "nbformat": 4,
 "nbformat_minor": 4
}
