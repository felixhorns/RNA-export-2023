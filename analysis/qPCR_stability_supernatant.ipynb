{
 "cells": [
  {
   "cell_type": "markdown",
   "metadata": {
    "Collapsed": "false"
   },
   "source": [
    "# Plot qPCR of stability of exported RNA in supernatant"
   ]
  },
  {
   "cell_type": "markdown",
   "metadata": {
    "Collapsed": "false",
    "toc-hr-collapsed": false
   },
   "source": [
    "# Introduction"
   ]
  },
  {
   "cell_type": "markdown",
   "metadata": {
    "Collapsed": "false"
   },
   "source": [
    "## Imports"
   ]
  },
  {
   "cell_type": "code",
   "execution_count": 1,
   "metadata": {
    "Collapsed": "false"
   },
   "outputs": [],
   "source": [
    "import sys\n",
    "import os\n",
    "import time\n",
    "\n",
    "import numpy as np\n",
    "import scipy\n",
    "import pandas as pd\n",
    "\n",
    "%matplotlib inline\n",
    "from matplotlib import pyplot as plt\n",
    "import matplotlib as mpl\n",
    "import seaborn as sns"
   ]
  },
  {
   "cell_type": "markdown",
   "metadata": {
    "Collapsed": "false"
   },
   "source": [
    "## Set output parameters"
   ]
  },
  {
   "cell_type": "code",
   "execution_count": 2,
   "metadata": {
    "Collapsed": "false"
   },
   "outputs": [],
   "source": [
    "# Set pandas display options\n",
    "pd.set_option('display.max_rows', 30)\n",
    "pd.set_option('display.max_columns', 100)\n",
    "pd.set_option('display.width', 1000)\n",
    "\n",
    "# Set plot display options\n",
    "FONTSIZE = 8  # universal fontsize\n",
    "params = {\n",
    "    'font.size': FONTSIZE,\n",
    "    'axes.titlesize': FONTSIZE,\n",
    "    'axes.labelsize': FONTSIZE,\n",
    "    'legend.fontsize': FONTSIZE,\n",
    "    'xtick.labelsize': FONTSIZE,\n",
    "    'ytick.labelsize': FONTSIZE,\n",
    "    'font.family': \"Helvetica\",\n",
    "    'mathtext.fontset': 'custom',\n",
    "    'pdf.fonttype': 42,\n",
    "    'ps.fonttype': 42,\n",
    "    'figure.dpi': 300\n",
    "   }\n",
    "mpl.rcParams.update(params)\n",
    "sns.set_style(\"ticks\", {'axes.grid' : False})\n",
    "\n",
    "# Set plot output options\n",
    "output_dir = \"outs/qPCR_stability_supernatant\"\n",
    "output_suffix = \"\"\n",
    "output_formats = [\".png\", \".pdf\"]\n",
    "\n",
    "mpl.rc('savefig', dpi=300)\n",
    "\n",
    "# Define convenience function for saving figures\n",
    "\n",
    "savefig = True\n",
    "savefig_args = {\"dpi\": 300, \"bbox_inches\": \"tight\", \"pad_inches\": 0.1}\n",
    "\n",
    "def save_figure(fig, name, output_dir=output_dir, output_suffix=output_suffix, output_formats=output_formats, savefig_args=savefig_args):\n",
    "    if savefig:\n",
    "        for output_format in output_formats:\n",
    "            fig.savefig(output_dir + \"/\" + name + output_suffix + output_format, **savefig_args)\n",
    "    return None"
   ]
  },
  {
   "cell_type": "code",
   "execution_count": 3,
   "metadata": {
    "Collapsed": "false"
   },
   "outputs": [
    {
     "data": {
      "text/plain": [
       "{'font.size': 8.0,\n",
       " 'axes.labelsize': 8.0,\n",
       " 'axes.titlesize': 8.0,\n",
       " 'xtick.labelsize': 8.0,\n",
       " 'ytick.labelsize': 8.0,\n",
       " 'legend.fontsize': 8.0,\n",
       " 'legend.title_fontsize': None,\n",
       " 'axes.linewidth': 0.8,\n",
       " 'grid.linewidth': 0.8,\n",
       " 'lines.linewidth': 1.5,\n",
       " 'lines.markersize': 6.0,\n",
       " 'patch.linewidth': 1.0,\n",
       " 'xtick.major.width': 0.8,\n",
       " 'ytick.major.width': 0.8,\n",
       " 'xtick.minor.width': 0.6,\n",
       " 'ytick.minor.width': 0.6,\n",
       " 'xtick.major.size': 3.5,\n",
       " 'ytick.major.size': 3.5,\n",
       " 'xtick.minor.size': 2.0,\n",
       " 'ytick.minor.size': 2.0}"
      ]
     },
     "execution_count": 3,
     "metadata": {},
     "output_type": "execute_result"
    }
   ],
   "source": [
    "# Report plot parameters\n",
    "sns.plotting_context()"
   ]
  },
  {
   "cell_type": "markdown",
   "metadata": {
    "Collapsed": "false"
   },
   "source": [
    "# Load data"
   ]
  },
  {
   "cell_type": "markdown",
   "metadata": {
    "Collapsed": "false"
   },
   "source": [
    "## Load qPCR data"
   ]
  },
  {
   "cell_type": "code",
   "execution_count": 4,
   "metadata": {
    "Collapsed": "false"
   },
   "outputs": [
    {
     "name": "stdout",
     "output_type": "stream",
     "text": [
      "(38, 13)\n"
     ]
    },
    {
     "data": {
      "text/html": [
       "<div>\n",
       "<style scoped>\n",
       "    .dataframe tbody tr th:only-of-type {\n",
       "        vertical-align: middle;\n",
       "    }\n",
       "\n",
       "    .dataframe tbody tr th {\n",
       "        vertical-align: top;\n",
       "    }\n",
       "\n",
       "    .dataframe thead th {\n",
       "        text-align: right;\n",
       "    }\n",
       "</style>\n",
       "<table border=\"1\" class=\"dataframe\">\n",
       "  <thead>\n",
       "    <tr style=\"text-align: right;\">\n",
       "      <th></th>\n",
       "      <th>Well</th>\n",
       "      <th>Fluor</th>\n",
       "      <th>Target</th>\n",
       "      <th>Content</th>\n",
       "      <th>Sample</th>\n",
       "      <th>Biological Set Name</th>\n",
       "      <th>Cq</th>\n",
       "      <th>Cq Mean</th>\n",
       "      <th>Cq Std. Dev</th>\n",
       "      <th>Starting Quantity (SQ)</th>\n",
       "      <th>Log Starting Quantity</th>\n",
       "      <th>SQ Mean</th>\n",
       "      <th>SQ Std. Dev</th>\n",
       "    </tr>\n",
       "  </thead>\n",
       "  <tbody>\n",
       "    <tr>\n",
       "      <th>0</th>\n",
       "      <td>A01</td>\n",
       "      <td>SYBR</td>\n",
       "      <td>mCherry</td>\n",
       "      <td>Unkn-01</td>\n",
       "      <td>95B-1</td>\n",
       "      <td>NaN</td>\n",
       "      <td>19.668777</td>\n",
       "      <td>19.841279</td>\n",
       "      <td>0.177076</td>\n",
       "      <td>59300.928305</td>\n",
       "      <td>4.773061</td>\n",
       "      <td>52941.774474</td>\n",
       "      <td>6389.888117</td>\n",
       "    </tr>\n",
       "    <tr>\n",
       "      <th>1</th>\n",
       "      <td>A02</td>\n",
       "      <td>SYBR</td>\n",
       "      <td>mCherry</td>\n",
       "      <td>Unkn-02</td>\n",
       "      <td>95B-2</td>\n",
       "      <td>NaN</td>\n",
       "      <td>18.994219</td>\n",
       "      <td>19.132174</td>\n",
       "      <td>0.120362</td>\n",
       "      <td>94192.961120</td>\n",
       "      <td>4.974018</td>\n",
       "      <td>85885.791159</td>\n",
       "      <td>7240.685850</td>\n",
       "    </tr>\n",
       "    <tr>\n",
       "      <th>2</th>\n",
       "      <td>A03</td>\n",
       "      <td>SYBR</td>\n",
       "      <td>mCherry</td>\n",
       "      <td>Unkn-03</td>\n",
       "      <td>95B-3</td>\n",
       "      <td>NaN</td>\n",
       "      <td>19.687712</td>\n",
       "      <td>19.077021</td>\n",
       "      <td>0.535270</td>\n",
       "      <td>58535.684629</td>\n",
       "      <td>4.767421</td>\n",
       "      <td>92780.809524</td>\n",
       "      <td>30301.015601</td>\n",
       "    </tr>\n",
       "    <tr>\n",
       "      <th>3</th>\n",
       "      <td>A04</td>\n",
       "      <td>SYBR</td>\n",
       "      <td>mCherry</td>\n",
       "      <td>Unkn-04</td>\n",
       "      <td>95B-4</td>\n",
       "      <td>NaN</td>\n",
       "      <td>20.463358</td>\n",
       "      <td>19.628986</td>\n",
       "      <td>0.754684</td>\n",
       "      <td>34383.390661</td>\n",
       "      <td>4.536349</td>\n",
       "      <td>66154.495461</td>\n",
       "      <td>30083.449489</td>\n",
       "    </tr>\n",
       "    <tr>\n",
       "      <th>4</th>\n",
       "      <td>A05</td>\n",
       "      <td>SYBR</td>\n",
       "      <td>mCherry</td>\n",
       "      <td>Unkn-05</td>\n",
       "      <td>95B-5</td>\n",
       "      <td>NaN</td>\n",
       "      <td>20.248376</td>\n",
       "      <td>19.924798</td>\n",
       "      <td>0.282833</td>\n",
       "      <td>39846.820138</td>\n",
       "      <td>4.600394</td>\n",
       "      <td>50354.414834</td>\n",
       "      <td>9216.376298</td>\n",
       "    </tr>\n",
       "  </tbody>\n",
       "</table>\n",
       "</div>"
      ],
      "text/plain": [
       "  Well Fluor   Target  Content Sample  Biological Set Name         Cq    Cq Mean  Cq Std. Dev  Starting Quantity (SQ)  Log Starting Quantity       SQ Mean   SQ Std. Dev\n",
       "0  A01  SYBR  mCherry  Unkn-01  95B-1                  NaN  19.668777  19.841279     0.177076            59300.928305               4.773061  52941.774474   6389.888117\n",
       "1  A02  SYBR  mCherry  Unkn-02  95B-2                  NaN  18.994219  19.132174     0.120362            94192.961120               4.974018  85885.791159   7240.685850\n",
       "2  A03  SYBR  mCherry  Unkn-03  95B-3                  NaN  19.687712  19.077021     0.535270            58535.684629               4.767421  92780.809524  30301.015601\n",
       "3  A04  SYBR  mCherry  Unkn-04  95B-4                  NaN  20.463358  19.628986     0.754684            34383.390661               4.536349  66154.495461  30083.449489\n",
       "4  A05  SYBR  mCherry  Unkn-05  95B-5                  NaN  20.248376  19.924798     0.282833            39846.820138               4.600394  50354.414834   9216.376298"
      ]
     },
     "execution_count": 4,
     "metadata": {},
     "output_type": "execute_result"
    }
   ],
   "source": [
    "infile = \"../preprocessed_data/qPCR_data/qPCR_stability_supernatant_Cq.csv\"\n",
    "\n",
    "cq_raw = pd.read_csv(infile, header=0)\n",
    "\n",
    "columns_to_drop = [\"Unnamed: 0\", \"Well Note\", \"Set Point\"]\n",
    "cq_raw.drop(columns_to_drop, axis=1, inplace=True)\n",
    "\n",
    "print(cq_raw.shape)\n",
    "cq_raw.head()"
   ]
  },
  {
   "cell_type": "markdown",
   "metadata": {
    "Collapsed": "false"
   },
   "source": [
    "# Preprocess data"
   ]
  },
  {
   "cell_type": "markdown",
   "metadata": {
    "Collapsed": "false"
   },
   "source": [
    "## Calculate total starting molecules"
   ]
  },
  {
   "cell_type": "code",
   "execution_count": 5,
   "metadata": {
    "Collapsed": "false"
   },
   "outputs": [],
   "source": [
    "# Calculate normalization for input volume\n",
    "DILUTION_FACTORS = (350/140) * (42/20) * (61/10) * (20/1)"
   ]
  },
  {
   "cell_type": "code",
   "execution_count": 6,
   "metadata": {
    "Collapsed": "false"
   },
   "outputs": [],
   "source": [
    "# Back-calculate input RNA molecules, given <100% efficiency of extraction, DNase, RT, as measured based on RNA standard\n",
    "\n",
    "PROTOCOL_EFFICIENCY = 0.005957820738  # Efficiency of extraction, DNase, RT"
   ]
  },
  {
   "cell_type": "code",
   "execution_count": 7,
   "metadata": {
    "Collapsed": "false"
   },
   "outputs": [],
   "source": [
    "# Calculate total RNA molecules in supernatant\n",
    "cq_raw[\"RNA molecules\"] = cq_raw[\"Starting Quantity (SQ)\"] * DILUTION_FACTORS * (1/PROTOCOL_EFFICIENCY)\n",
    "cq_raw[\"RNA molecules Mean\"] = cq_raw[\"SQ Mean\"] * DILUTION_FACTORS * (1/PROTOCOL_EFFICIENCY)\n",
    "cq_raw[\"RNA molecules STD\"] = cq_raw[\"SQ Std. Dev\"] * DILUTION_FACTORS * (1/PROTOCOL_EFFICIENCY)"
   ]
  },
  {
   "cell_type": "markdown",
   "metadata": {
    "Collapsed": "false"
   },
   "source": [
    "## Summarize replicates"
   ]
  },
  {
   "cell_type": "code",
   "execution_count": 8,
   "metadata": {
    "Collapsed": "false"
   },
   "outputs": [
    {
     "data": {
      "text/html": [
       "<div>\n",
       "<style scoped>\n",
       "    .dataframe tbody tr th:only-of-type {\n",
       "        vertical-align: middle;\n",
       "    }\n",
       "\n",
       "    .dataframe tbody tr th {\n",
       "        vertical-align: top;\n",
       "    }\n",
       "\n",
       "    .dataframe thead th {\n",
       "        text-align: right;\n",
       "    }\n",
       "</style>\n",
       "<table border=\"1\" class=\"dataframe\">\n",
       "  <thead>\n",
       "    <tr style=\"text-align: right;\">\n",
       "      <th></th>\n",
       "      <th>mean SQ</th>\n",
       "      <th>std SQ</th>\n",
       "      <th>RNA molecules</th>\n",
       "      <th>RNA molecules STD</th>\n",
       "    </tr>\n",
       "    <tr>\n",
       "      <th>Sample</th>\n",
       "      <th></th>\n",
       "      <th></th>\n",
       "      <th></th>\n",
       "      <th></th>\n",
       "    </tr>\n",
       "  </thead>\n",
       "  <tbody>\n",
       "    <tr>\n",
       "      <th>95B-1</th>\n",
       "      <td>52941.774474</td>\n",
       "      <td>6389.888117</td>\n",
       "      <td>5.691545e+09</td>\n",
       "      <td>6.869497e+08</td>\n",
       "    </tr>\n",
       "    <tr>\n",
       "      <th>95B-11</th>\n",
       "      <td>26362.018096</td>\n",
       "      <td>4289.716597</td>\n",
       "      <td>2.834069e+09</td>\n",
       "      <td>4.611692e+08</td>\n",
       "    </tr>\n",
       "    <tr>\n",
       "      <th>95B-12</th>\n",
       "      <td>6148.800443</td>\n",
       "      <td>1767.903533</td>\n",
       "      <td>6.610314e+08</td>\n",
       "      <td>1.900598e+08</td>\n",
       "    </tr>\n",
       "    <tr>\n",
       "      <th>95B-13</th>\n",
       "      <td>14250.596970</td>\n",
       "      <td>5368.561282</td>\n",
       "      <td>1.532021e+09</td>\n",
       "      <td>5.771512e+08</td>\n",
       "    </tr>\n",
       "    <tr>\n",
       "      <th>95B-14</th>\n",
       "      <td>6230.162577</td>\n",
       "      <td>1943.132621</td>\n",
       "      <td>6.697783e+08</td>\n",
       "      <td>2.088979e+08</td>\n",
       "    </tr>\n",
       "    <tr>\n",
       "      <th>95B-15</th>\n",
       "      <td>9374.066932</td>\n",
       "      <td>1862.061109</td>\n",
       "      <td>1.007766e+09</td>\n",
       "      <td>2.001823e+08</td>\n",
       "    </tr>\n",
       "    <tr>\n",
       "      <th>95B-2</th>\n",
       "      <td>85885.791159</td>\n",
       "      <td>7240.685850</td>\n",
       "      <td>9.233217e+09</td>\n",
       "      <td>7.784154e+08</td>\n",
       "    </tr>\n",
       "    <tr>\n",
       "      <th>95B-3</th>\n",
       "      <td>92780.809524</td>\n",
       "      <td>30301.015601</td>\n",
       "      <td>9.974471e+09</td>\n",
       "      <td>3.257533e+09</td>\n",
       "    </tr>\n",
       "    <tr>\n",
       "      <th>95B-4</th>\n",
       "      <td>66154.495461</td>\n",
       "      <td>30083.449489</td>\n",
       "      <td>7.111989e+09</td>\n",
       "      <td>3.234144e+09</td>\n",
       "    </tr>\n",
       "    <tr>\n",
       "      <th>95B-5</th>\n",
       "      <td>50354.414834</td>\n",
       "      <td>9216.376298</td>\n",
       "      <td>5.413389e+09</td>\n",
       "      <td>9.908135e+08</td>\n",
       "    </tr>\n",
       "    <tr>\n",
       "      <th>NTC</th>\n",
       "      <td>56.121410</td>\n",
       "      <td>41.539967</td>\n",
       "      <td>6.033374e+06</td>\n",
       "      <td>4.465785e+06</td>\n",
       "    </tr>\n",
       "  </tbody>\n",
       "</table>\n",
       "</div>"
      ],
      "text/plain": [
       "             mean SQ        std SQ  RNA molecules  RNA molecules STD\n",
       "Sample                                                              \n",
       "95B-1   52941.774474   6389.888117   5.691545e+09       6.869497e+08\n",
       "95B-11  26362.018096   4289.716597   2.834069e+09       4.611692e+08\n",
       "95B-12   6148.800443   1767.903533   6.610314e+08       1.900598e+08\n",
       "95B-13  14250.596970   5368.561282   1.532021e+09       5.771512e+08\n",
       "95B-14   6230.162577   1943.132621   6.697783e+08       2.088979e+08\n",
       "95B-15   9374.066932   1862.061109   1.007766e+09       2.001823e+08\n",
       "95B-2   85885.791159   7240.685850   9.233217e+09       7.784154e+08\n",
       "95B-3   92780.809524  30301.015601   9.974471e+09       3.257533e+09\n",
       "95B-4   66154.495461  30083.449489   7.111989e+09       3.234144e+09\n",
       "95B-5   50354.414834   9216.376298   5.413389e+09       9.908135e+08\n",
       "NTC        56.121410     41.539967   6.033374e+06       4.465785e+06"
      ]
     },
     "execution_count": 8,
     "metadata": {},
     "output_type": "execute_result"
    }
   ],
   "source": [
    "groups = cq_raw.groupby([\"Sample\"])  # group samples by origin\n",
    "\n",
    "summary = pd.DataFrame()\n",
    "\n",
    "summary[\"mean SQ\"] = groups[\"Starting Quantity (SQ)\"].mean()  # Calculate mean over replicates\n",
    "summary[\"std SQ\"] = groups[\"Starting Quantity (SQ)\"].std()  # Calculate mean over replicates\n",
    "\n",
    "summary[\"RNA molecules\"] = groups[\"RNA molecules\"].mean()\n",
    "summary[\"RNA molecules STD\"] = groups[\"RNA molecules STD\"].mean()\n",
    "\n",
    "summary"
   ]
  },
  {
   "cell_type": "markdown",
   "metadata": {
    "Collapsed": "false"
   },
   "source": [
    "## Calculate relative abundance (compared with appropriate references)"
   ]
  },
  {
   "cell_type": "code",
   "execution_count": 9,
   "metadata": {
    "Collapsed": "false"
   },
   "outputs": [],
   "source": [
    "# Initialize columns\n",
    "\n",
    "summary[\"RNA molecules relative to reference\"] = np.nan\n",
    "summary[\"RNA molecules relative to reference STD\"] = np.nan\n",
    "\n",
    "cq_raw[\"RNA molecules relative to reference\"] = np.nan\n",
    "cq_raw[\"RNA molecules relative to reference STD\"] = np.nan"
   ]
  },
  {
   "cell_type": "code",
   "execution_count": 10,
   "metadata": {
    "Collapsed": "false"
   },
   "outputs": [],
   "source": [
    "# Calculate RNA molecules relative to reference\n",
    "\n",
    "# Gag-MCP, 37 C\n",
    "\n",
    "ref = summary.loc[\"95B-1\", \"RNA molecules\"]  # set reference value\n",
    "samples = [\"95B-1\", \"95B-2\", \"95B-3\", \"95B-4\", \"95B-5\"]  # samples that use this reference value\n",
    "\n",
    "summary.loc[samples, \"RNA molecules relative to reference\"] = summary.loc[samples, \"RNA molecules\"] / ref\n",
    "summary.loc[samples, \"RNA molecules relative to reference STD\"] = summary.loc[samples, \"RNA molecules STD\"] / ref\n",
    "\n",
    "# EPN24-MCP, 37 C\n",
    "\n",
    "ref = summary.loc[\"95B-11\", \"RNA molecules\"]  # set reference value\n",
    "samples = [\"95B-11\", \"95B-12\", \"95B-13\", \"95B-14\", \"95B-15\"]  # samples that use this reference value\n",
    "\n",
    "summary.loc[samples, \"RNA molecules relative to reference\"] = summary.loc[samples, \"RNA molecules\"] / ref\n",
    "summary.loc[samples, \"RNA molecules relative to reference STD\"] = summary.loc[samples, \"RNA molecules STD\"] / ref\n"
   ]
  },
  {
   "cell_type": "code",
   "execution_count": 11,
   "metadata": {
    "Collapsed": "false"
   },
   "outputs": [],
   "source": [
    "# Repeat for raw Cq values\n",
    "\n",
    "cq_raw = cq_raw.set_index(\"Sample\")\n",
    "\n",
    "# Gag-MCP, 37 C\n",
    "\n",
    "ref = summary.loc[\"95B-1\", \"RNA molecules\"]  # set reference value\n",
    "samples = [\"95B-1\", \"95B-2\", \"95B-3\", \"95B-4\", \"95B-5\"]  # samples that use this reference value\n",
    "\n",
    "cq_raw.loc[samples, \"RNA molecules relative to reference\"] = cq_raw.loc[samples, \"RNA molecules\"] / ref\n",
    "cq_raw.loc[samples, \"RNA molecules relative to reference STD\"] = cq_raw.loc[samples, \"RNA molecules STD\"] / ref\n",
    "\n",
    "# EPN24-MCP, 37 C\n",
    "\n",
    "ref = summary.loc[\"95B-11\", \"RNA molecules\"]  # set reference value\n",
    "samples = [\"95B-11\", \"95B-12\", \"95B-13\", \"95B-14\", \"95B-15\"]  # samples that use this reference value\n",
    "\n",
    "cq_raw.loc[samples, \"RNA molecules relative to reference\"] = cq_raw.loc[samples, \"RNA molecules\"] / ref\n",
    "cq_raw.loc[samples, \"RNA molecules relative to reference STD\"] = cq_raw.loc[samples, \"RNA molecules STD\"] / ref\n",
    "\n",
    "cq_raw = cq_raw.reset_index()"
   ]
  },
  {
   "cell_type": "code",
   "execution_count": 12,
   "metadata": {
    "Collapsed": "false"
   },
   "outputs": [],
   "source": [
    "# Convert to percentage\n",
    "\n",
    "summary[\"RNA molecules relative to reference %\"] = summary[\"RNA molecules relative to reference\"] * 100\n",
    "summary[\"RNA molecules relative to reference STD %\"] = summary[\"RNA molecules relative to reference STD\"] * 100\n",
    "\n",
    "cq_raw[\"RNA molecules relative to reference %\"] = cq_raw[\"RNA molecules relative to reference\"] * 100\n",
    "cq_raw[\"RNA molecules relative to reference STD %\"] = cq_raw[\"RNA molecules relative to reference STD\"] * 100"
   ]
  },
  {
   "cell_type": "code",
   "execution_count": 13,
   "metadata": {
    "Collapsed": "false"
   },
   "outputs": [
    {
     "data": {
      "text/html": [
       "<div>\n",
       "<style scoped>\n",
       "    .dataframe tbody tr th:only-of-type {\n",
       "        vertical-align: middle;\n",
       "    }\n",
       "\n",
       "    .dataframe tbody tr th {\n",
       "        vertical-align: top;\n",
       "    }\n",
       "\n",
       "    .dataframe thead th {\n",
       "        text-align: right;\n",
       "    }\n",
       "</style>\n",
       "<table border=\"1\" class=\"dataframe\">\n",
       "  <thead>\n",
       "    <tr style=\"text-align: right;\">\n",
       "      <th></th>\n",
       "      <th>mean SQ</th>\n",
       "      <th>std SQ</th>\n",
       "      <th>RNA molecules</th>\n",
       "      <th>RNA molecules STD</th>\n",
       "      <th>RNA molecules relative to reference</th>\n",
       "      <th>RNA molecules relative to reference STD</th>\n",
       "      <th>RNA molecules relative to reference %</th>\n",
       "      <th>RNA molecules relative to reference STD %</th>\n",
       "    </tr>\n",
       "    <tr>\n",
       "      <th>Sample</th>\n",
       "      <th></th>\n",
       "      <th></th>\n",
       "      <th></th>\n",
       "      <th></th>\n",
       "      <th></th>\n",
       "      <th></th>\n",
       "      <th></th>\n",
       "      <th></th>\n",
       "    </tr>\n",
       "  </thead>\n",
       "  <tbody>\n",
       "    <tr>\n",
       "      <th>95B-1</th>\n",
       "      <td>52941.774474</td>\n",
       "      <td>6389.888117</td>\n",
       "      <td>5.691545e+09</td>\n",
       "      <td>6.869497e+08</td>\n",
       "      <td>1.000000</td>\n",
       "      <td>0.120697</td>\n",
       "      <td>100.000000</td>\n",
       "      <td>12.069652</td>\n",
       "    </tr>\n",
       "    <tr>\n",
       "      <th>95B-11</th>\n",
       "      <td>26362.018096</td>\n",
       "      <td>4289.716597</td>\n",
       "      <td>2.834069e+09</td>\n",
       "      <td>4.611692e+08</td>\n",
       "      <td>1.000000</td>\n",
       "      <td>0.162723</td>\n",
       "      <td>100.000000</td>\n",
       "      <td>16.272338</td>\n",
       "    </tr>\n",
       "    <tr>\n",
       "      <th>95B-12</th>\n",
       "      <td>6148.800443</td>\n",
       "      <td>1767.903533</td>\n",
       "      <td>6.610314e+08</td>\n",
       "      <td>1.900598e+08</td>\n",
       "      <td>0.233245</td>\n",
       "      <td>0.067063</td>\n",
       "      <td>23.324468</td>\n",
       "      <td>6.706253</td>\n",
       "    </tr>\n",
       "    <tr>\n",
       "      <th>95B-13</th>\n",
       "      <td>14250.596970</td>\n",
       "      <td>5368.561282</td>\n",
       "      <td>1.532021e+09</td>\n",
       "      <td>5.771512e+08</td>\n",
       "      <td>0.540573</td>\n",
       "      <td>0.203648</td>\n",
       "      <td>54.057307</td>\n",
       "      <td>20.364758</td>\n",
       "    </tr>\n",
       "    <tr>\n",
       "      <th>95B-14</th>\n",
       "      <td>6230.162577</td>\n",
       "      <td>1943.132621</td>\n",
       "      <td>6.697783e+08</td>\n",
       "      <td>2.088979e+08</td>\n",
       "      <td>0.236331</td>\n",
       "      <td>0.073710</td>\n",
       "      <td>23.633102</td>\n",
       "      <td>7.370955</td>\n",
       "    </tr>\n",
       "    <tr>\n",
       "      <th>95B-15</th>\n",
       "      <td>9374.066932</td>\n",
       "      <td>1862.061109</td>\n",
       "      <td>1.007766e+09</td>\n",
       "      <td>2.001823e+08</td>\n",
       "      <td>0.355590</td>\n",
       "      <td>0.070634</td>\n",
       "      <td>35.558988</td>\n",
       "      <td>7.063424</td>\n",
       "    </tr>\n",
       "    <tr>\n",
       "      <th>95B-2</th>\n",
       "      <td>85885.791159</td>\n",
       "      <td>7240.685850</td>\n",
       "      <td>9.233217e+09</td>\n",
       "      <td>7.784154e+08</td>\n",
       "      <td>1.622269</td>\n",
       "      <td>0.136767</td>\n",
       "      <td>162.226884</td>\n",
       "      <td>13.676697</td>\n",
       "    </tr>\n",
       "    <tr>\n",
       "      <th>95B-3</th>\n",
       "      <td>92780.809524</td>\n",
       "      <td>30301.015601</td>\n",
       "      <td>9.974471e+09</td>\n",
       "      <td>3.257533e+09</td>\n",
       "      <td>1.752507</td>\n",
       "      <td>0.572346</td>\n",
       "      <td>175.250661</td>\n",
       "      <td>57.234605</td>\n",
       "    </tr>\n",
       "    <tr>\n",
       "      <th>95B-4</th>\n",
       "      <td>66154.495461</td>\n",
       "      <td>30083.449489</td>\n",
       "      <td>7.111989e+09</td>\n",
       "      <td>3.234144e+09</td>\n",
       "      <td>1.249571</td>\n",
       "      <td>0.568237</td>\n",
       "      <td>124.957080</td>\n",
       "      <td>56.823652</td>\n",
       "    </tr>\n",
       "    <tr>\n",
       "      <th>95B-5</th>\n",
       "      <td>50354.414834</td>\n",
       "      <td>9216.376298</td>\n",
       "      <td>5.413389e+09</td>\n",
       "      <td>9.908135e+08</td>\n",
       "      <td>0.951128</td>\n",
       "      <td>0.174085</td>\n",
       "      <td>95.112820</td>\n",
       "      <td>17.408514</td>\n",
       "    </tr>\n",
       "    <tr>\n",
       "      <th>NTC</th>\n",
       "      <td>56.121410</td>\n",
       "      <td>41.539967</td>\n",
       "      <td>6.033374e+06</td>\n",
       "      <td>4.465785e+06</td>\n",
       "      <td>NaN</td>\n",
       "      <td>NaN</td>\n",
       "      <td>NaN</td>\n",
       "      <td>NaN</td>\n",
       "    </tr>\n",
       "  </tbody>\n",
       "</table>\n",
       "</div>"
      ],
      "text/plain": [
       "             mean SQ        std SQ  RNA molecules  RNA molecules STD  RNA molecules relative to reference  RNA molecules relative to reference STD  RNA molecules relative to reference %  RNA molecules relative to reference STD %\n",
       "Sample                                                                                                                                                                                                                              \n",
       "95B-1   52941.774474   6389.888117   5.691545e+09       6.869497e+08                             1.000000                                 0.120697                             100.000000                                  12.069652\n",
       "95B-11  26362.018096   4289.716597   2.834069e+09       4.611692e+08                             1.000000                                 0.162723                             100.000000                                  16.272338\n",
       "95B-12   6148.800443   1767.903533   6.610314e+08       1.900598e+08                             0.233245                                 0.067063                              23.324468                                   6.706253\n",
       "95B-13  14250.596970   5368.561282   1.532021e+09       5.771512e+08                             0.540573                                 0.203648                              54.057307                                  20.364758\n",
       "95B-14   6230.162577   1943.132621   6.697783e+08       2.088979e+08                             0.236331                                 0.073710                              23.633102                                   7.370955\n",
       "95B-15   9374.066932   1862.061109   1.007766e+09       2.001823e+08                             0.355590                                 0.070634                              35.558988                                   7.063424\n",
       "95B-2   85885.791159   7240.685850   9.233217e+09       7.784154e+08                             1.622269                                 0.136767                             162.226884                                  13.676697\n",
       "95B-3   92780.809524  30301.015601   9.974471e+09       3.257533e+09                             1.752507                                 0.572346                             175.250661                                  57.234605\n",
       "95B-4   66154.495461  30083.449489   7.111989e+09       3.234144e+09                             1.249571                                 0.568237                             124.957080                                  56.823652\n",
       "95B-5   50354.414834   9216.376298   5.413389e+09       9.908135e+08                             0.951128                                 0.174085                              95.112820                                  17.408514\n",
       "NTC        56.121410     41.539967   6.033374e+06       4.465785e+06                                  NaN                                      NaN                                    NaN                                        NaN"
      ]
     },
     "execution_count": 13,
     "metadata": {},
     "output_type": "execute_result"
    }
   ],
   "source": [
    "summary"
   ]
  },
  {
   "cell_type": "markdown",
   "metadata": {
    "Collapsed": "false"
   },
   "source": [
    "## Censor by lower limit of quantification"
   ]
  },
  {
   "cell_type": "code",
   "execution_count": 14,
   "metadata": {
    "Collapsed": "false"
   },
   "outputs": [
    {
     "name": "stdout",
     "output_type": "stream",
     "text": [
      "Lower limit of quantification: 14345897.366753474\n"
     ]
    }
   ],
   "source": [
    "# Lower limit of quantification is set based on maximum signal from no template control (NTC) wells.\n",
    "\n",
    "LOD = cq_raw.set_index(\"Sample\").loc[\"NTC\", \"RNA molecules\"].max()\n",
    "\n",
    "print(\"Lower limit of quantification:\", LOD)"
   ]
  },
  {
   "cell_type": "code",
   "execution_count": 15,
   "metadata": {
    "Collapsed": "false"
   },
   "outputs": [],
   "source": [
    "# Substitute LOD for values below LOD\n",
    "\n",
    "cq_raw[\"RNA molecules censored\"] = cq_raw[\"RNA molecules\"]\n",
    "cq_raw.loc[cq_raw[\"RNA molecules\"] < LOD, \"RNA molecules censored\"] = LOD\n",
    "\n",
    "summary[\"RNA molecules censored\"] = summary[\"RNA molecules\"]\n",
    "summary.loc[summary[\"RNA molecules\"] < LOD, \"RNA molecules censored\"] = LOD"
   ]
  },
  {
   "cell_type": "markdown",
   "metadata": {
    "Collapsed": "false"
   },
   "source": [
    "# Define function for fitting exponential decay"
   ]
  },
  {
   "cell_type": "code",
   "execution_count": 16,
   "metadata": {
    "Collapsed": "false"
   },
   "outputs": [],
   "source": [
    "from scipy.optimize import curve_fit\n",
    "\n",
    "def fit_exponential(x, y, a_guess=100, k_guess=0):\n",
    "    \n",
    "    # Fit the function a * np.exp(k * t) + b to x and y\n",
    "    \n",
    "    try:\n",
    "        popt, pcov = curve_fit(lambda t, a, k: a * np.exp(k * x), x, y, p0=(a_guess, k_guess))\n",
    "    except RuntimeError:\n",
    "        popt = None\n",
    "        pcov = None\n",
    "\n",
    "    return popt, pcov"
   ]
  },
  {
   "cell_type": "markdown",
   "metadata": {
    "Collapsed": "false"
   },
   "source": [
    "# Visualize RNA stability in supernatant"
   ]
  },
  {
   "cell_type": "markdown",
   "metadata": {
    "Collapsed": "false"
   },
   "source": [
    "## Gag-MCP"
   ]
  },
  {
   "cell_type": "code",
   "execution_count": 17,
   "metadata": {
    "Collapsed": "false"
   },
   "outputs": [
    {
     "data": {
      "image/png": "[encoded data removed]",
      "text/plain": [
       "<Figure size 300x300 with 1 Axes>"
      ]
     },
     "metadata": {},
     "output_type": "display_data"
    }
   ],
   "source": [
    "fig, ax = plt.subplots(1, 1, figsize=(1,1))\n",
    "\n",
    "ax.set_yscale(\"log\")\n",
    "\n",
    "index_ordered = [\"95B-1\", \"95B-2\", \"95B-3\", \"95B-4\", \"95B-5\"]\n",
    "summary_subset = summary.loc[index_ordered]\n",
    "summary_subset[\"Time\"] = [0, 1, 2, 4, 6]\n",
    "\n",
    "x = summary_subset[\"Time\"]\n",
    "y = summary_subset[\"RNA molecules relative to reference %\"]\n",
    "yerr = summary_subset[\"RNA molecules relative to reference STD %\"]\n",
    "\n",
    "ax.errorbar(x=x,\n",
    "            y=y,\n",
    "            yerr=yerr,\n",
    "            color=\"#b1accc\",\n",
    "            marker=\".\",\n",
    "            capsize=3,\n",
    "            capthick=0.5,\n",
    "            lw=1,\n",
    "            label=\"37 C\")\n",
    "\n",
    "ax.set_ylim(1, 300)\n",
    "\n",
    "ax.set_xticks([0, 1, 2, 4, 6])\n",
    "\n",
    "ax.set_xlabel(\"Time (days)\")\n",
    "ax.set_ylabel(\"RNA remaining (%)\")\n",
    "ax.set_yticklabels([\"\", \"1\", \"10\", \"100\"])\n",
    "\n",
    "locmaj = mpl.ticker.LogLocator(base=10,numticks=12) \n",
    "ax.yaxis.set_major_locator(locmaj)\n",
    "\n",
    "locmin = mpl.ticker.LogLocator(base=10.0,subs=(0.1, 0.2, 0.3, 0.4, 0.5, 0.6, 0.7, 0.8, 0.9),numticks=12)\n",
    "ax.yaxis.set_minor_locator(locmin)\n",
    "ax.yaxis.set_minor_formatter(mpl.ticker.NullFormatter())\n",
    "\n",
    "ax.axhline(100, lw=0.5, c=\"k\", ls=\"--\", zorder=-1)\n",
    "\n",
    "sns.despine()\n",
    "\n",
    "save_figure(fig, \"stability_supernatant_GagMCP_37C\")"
   ]
  },
  {
   "cell_type": "code",
   "execution_count": 18,
   "metadata": {
    "Collapsed": "false"
   },
   "outputs": [
    {
     "name": "stdout",
     "output_type": "stream",
     "text": [
      "Half-life (days): 18.990605625720942\n",
      "Half-life STD (days): 10.78786466957782\n",
      "\n"
     ]
    }
   ],
   "source": [
    "popt, pcov = fit_exponential(x, y)\n",
    "\n",
    "tao = np.log(2)/-popt[1]  # calculate half-life\n",
    "tao_std = np.log(2)/np.sqrt(pcov[1,1])  # calculate standard deviation of fitted half-life\n",
    "\n",
    "print(\"Half-life (days):\", tao)\n",
    "print(\"Half-life STD (days):\", tao_std)\n",
    "print()"
   ]
  },
  {
   "cell_type": "markdown",
   "metadata": {
    "Collapsed": "false"
   },
   "source": [
    "## EPN24-MCP"
   ]
  },
  {
   "cell_type": "code",
   "execution_count": 19,
   "metadata": {
    "Collapsed": "false"
   },
   "outputs": [
    {
     "data": {
      "image/png": "[encoded data removed]",
      "text/plain": [
       "<Figure size 300x300 with 1 Axes>"
      ]
     },
     "metadata": {},
     "output_type": "display_data"
    }
   ],
   "source": [
    "fig, ax = plt.subplots(1, 1, figsize=(1,1))\n",
    "\n",
    "ax.set_yscale(\"log\")\n",
    "\n",
    "index_ordered = [\"95B-11\", \"95B-12\", \"95B-13\", \"95B-14\", \"95B-15\"]\n",
    "summary_subset = summary.loc[index_ordered]\n",
    "summary_subset[\"Time\"] = [0, 1, 2, 4, 6]\n",
    "\n",
    "x = summary_subset[\"Time\"]\n",
    "y = summary_subset[\"RNA molecules relative to reference %\"]\n",
    "yerr = summary_subset[\"RNA molecules relative to reference STD %\"]\n",
    "\n",
    "ax.errorbar(x=x,\n",
    "            y=y,\n",
    "            yerr=yerr,\n",
    "            color=\"#44adbf\",\n",
    "            marker=\".\",\n",
    "            capsize=3,\n",
    "            capthick=0.5,\n",
    "            lw=1,\n",
    "            label=\"37 C\")\n",
    "\n",
    "ax.set_ylim(1, 120)\n",
    "\n",
    "ax.set_xticks([0, 1, 2, 4, 6])\n",
    "\n",
    "ax.set_xlabel(\"Time (days)\")\n",
    "ax.set_ylabel(\"RNA remaining (%)\")\n",
    "ax.set_yticklabels([\"\", \"1\", \"10\", \"100\"])\n",
    "\n",
    "locmaj = mpl.ticker.LogLocator(base=10,numticks=12) \n",
    "ax.yaxis.set_major_locator(locmaj)\n",
    "\n",
    "locmin = mpl.ticker.LogLocator(base=10.0,subs=(0.1, 0.2, 0.3, 0.4, 0.5, 0.6, 0.7, 0.8, 0.9),numticks=12)\n",
    "ax.yaxis.set_minor_locator(locmin)\n",
    "ax.yaxis.set_minor_formatter(mpl.ticker.NullFormatter())\n",
    "\n",
    "ax.axhline(100, lw=0.5, c=\"k\", ls=\"--\", zorder=-1)\n",
    "\n",
    "sns.despine()\n",
    "\n",
    "save_figure(fig, \"stability_supernatant_EPN24MCP_37C\")"
   ]
  },
  {
   "cell_type": "code",
   "execution_count": 20,
   "metadata": {
    "Collapsed": "false"
   },
   "outputs": [
    {
     "name": "stdout",
     "output_type": "stream",
     "text": [
      "Half-life (days): 2.5769361017926347\n",
      "Half-life STD (days): 3.6509788689560048\n",
      "\n"
     ]
    }
   ],
   "source": [
    "popt, pcov = fit_exponential(x, y)\n",
    "\n",
    "tao = np.log(2)/-popt[1]  # calculate half-life\n",
    "tao_std = np.log(2)/np.sqrt(pcov[1,1])  # calculate standard deviation of fitted half-life\n",
    "\n",
    "print(\"Half-life (days):\", tao)\n",
    "print(\"Half-life STD (days):\", tao_std)\n",
    "print()"
   ]
  },
  {
   "cell_type": "code",
   "execution_count": null,
   "metadata": {
    "Collapsed": "false"
   },
   "outputs": [],
   "source": []
  }
 ],
 "metadata": {
  "kernelspec": {
   "display_name": "RNA_export_magic",
   "language": "python",
   "name": "rna_export_magic"
  },
  "language_info": {
   "codemirror_mode": {
    "name": "ipython",
    "version": 3
   },
   "file_extension": ".py",
   "mimetype": "text/x-python",
   "name": "python",
   "nbconvert_exporter": "python",
   "pygments_lexer": "ipython3",
   "version": "3.7.7"
  }
 },
 "nbformat": 4,
 "nbformat_minor": 4
}
