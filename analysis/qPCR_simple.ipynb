{
 "cells": [
  {
   "cell_type": "markdown",
   "metadata": {
    "Collapsed": "false"
   },
   "source": [
    "# Plot qPCR of RNA export in simple format"
   ]
  },
  {
   "cell_type": "markdown",
   "metadata": {
    "Collapsed": "false",
    "toc-hr-collapsed": false
   },
   "source": [
    "# Introduction"
   ]
  },
  {
   "cell_type": "markdown",
   "metadata": {
    "Collapsed": "false"
   },
   "source": [
    "## Imports"
   ]
  },
  {
   "cell_type": "code",
   "execution_count": 1,
   "metadata": {
    "Collapsed": "false"
   },
   "outputs": [],
   "source": [
    "import sys\n",
    "import os\n",
    "import time\n",
    "\n",
    "import numpy as np\n",
    "import scipy\n",
    "import pandas as pd\n",
    "\n",
    "%matplotlib inline\n",
    "from matplotlib import pyplot as plt\n",
    "import matplotlib as mpl\n",
    "import seaborn as sns"
   ]
  },
  {
   "cell_type": "markdown",
   "metadata": {
    "Collapsed": "false"
   },
   "source": [
    "## Set output parameters"
   ]
  },
  {
   "cell_type": "code",
   "execution_count": 2,
   "metadata": {
    "Collapsed": "false"
   },
   "outputs": [],
   "source": [
    "# Set pandas display options\n",
    "pd.set_option('display.max_rows', 30)\n",
    "pd.set_option('display.max_columns', 100)\n",
    "pd.set_option('display.width', 1000)\n",
    "\n",
    "# Set plot display options\n",
    "FONTSIZE = 8  # universal fontsize\n",
    "params = {\n",
    "    'font.size': FONTSIZE,\n",
    "    'axes.titlesize': FONTSIZE,\n",
    "    'axes.labelsize': FONTSIZE,\n",
    "    'legend.fontsize': FONTSIZE,\n",
    "    'xtick.labelsize': FONTSIZE,\n",
    "    'ytick.labelsize': FONTSIZE,\n",
    "    'font.family': \"Helvetica\",\n",
    "    'mathtext.fontset': 'custom',\n",
    "    'pdf.fonttype': 42,\n",
    "    'ps.fonttype': 42,\n",
    "    'figure.dpi': 300\n",
    "   }\n",
    "mpl.rcParams.update(params)\n",
    "sns.set_style(\"ticks\", {'axes.grid' : False})\n",
    "\n",
    "# Set plot output options\n",
    "output_dir = \"outs/qPCR_simple\"\n",
    "output_suffix = \"\"\n",
    "output_formats = [\".png\", \".pdf\"]\n",
    "\n",
    "mpl.rc('savefig', dpi=300)\n",
    "\n",
    "# Define convenience function for saving figures\n",
    "\n",
    "savefig = True\n",
    "savefig_args = {\"dpi\": 300, \"bbox_inches\": \"tight\", \"pad_inches\": 0.1}\n",
    "\n",
    "def save_figure(fig, name, output_dir=output_dir, output_suffix=output_suffix, output_formats=output_formats, savefig_args=savefig_args):\n",
    "    if savefig:\n",
    "        for output_format in output_formats:\n",
    "            fig.savefig(output_dir + \"/\" + name + output_suffix + output_format, **savefig_args)\n",
    "    return None"
   ]
  },
  {
   "cell_type": "code",
   "execution_count": 3,
   "metadata": {
    "Collapsed": "false"
   },
   "outputs": [
    {
     "data": {
      "text/plain": [
       "{'font.size': 8.0,\n",
       " 'axes.labelsize': 8.0,\n",
       " 'axes.titlesize': 8.0,\n",
       " 'xtick.labelsize': 8.0,\n",
       " 'ytick.labelsize': 8.0,\n",
       " 'legend.fontsize': 8.0,\n",
       " 'legend.title_fontsize': None,\n",
       " 'axes.linewidth': 0.8,\n",
       " 'grid.linewidth': 0.8,\n",
       " 'lines.linewidth': 1.5,\n",
       " 'lines.markersize': 6.0,\n",
       " 'patch.linewidth': 1.0,\n",
       " 'xtick.major.width': 0.8,\n",
       " 'ytick.major.width': 0.8,\n",
       " 'xtick.minor.width': 0.6,\n",
       " 'ytick.minor.width': 0.6,\n",
       " 'xtick.major.size': 3.5,\n",
       " 'ytick.major.size': 3.5,\n",
       " 'xtick.minor.size': 2.0,\n",
       " 'ytick.minor.size': 2.0}"
      ]
     },
     "execution_count": 3,
     "metadata": {},
     "output_type": "execute_result"
    }
   ],
   "source": [
    "# Report plot parameters\n",
    "sns.plotting_context()"
   ]
  },
  {
   "cell_type": "markdown",
   "metadata": {
    "Collapsed": "false"
   },
   "source": [
    "# Load data"
   ]
  },
  {
   "cell_type": "markdown",
   "metadata": {
    "Collapsed": "false"
   },
   "source": [
    "## Load qPCR data"
   ]
  },
  {
   "cell_type": "code",
   "execution_count": 4,
   "metadata": {
    "Collapsed": "false"
   },
   "outputs": [
    {
     "name": "stdout",
     "output_type": "stream",
     "text": [
      "(60, 14)\n"
     ]
    },
    {
     "data": {
      "text/html": [
       "<div>\n",
       "<style scoped>\n",
       "    .dataframe tbody tr th:only-of-type {\n",
       "        vertical-align: middle;\n",
       "    }\n",
       "\n",
       "    .dataframe tbody tr th {\n",
       "        vertical-align: top;\n",
       "    }\n",
       "\n",
       "    .dataframe thead th {\n",
       "        text-align: right;\n",
       "    }\n",
       "</style>\n",
       "<table border=\"1\" class=\"dataframe\">\n",
       "  <thead>\n",
       "    <tr style=\"text-align: right;\">\n",
       "      <th></th>\n",
       "      <th>Fluor</th>\n",
       "      <th>Target</th>\n",
       "      <th>Content</th>\n",
       "      <th>Sample</th>\n",
       "      <th>Biological Set Name</th>\n",
       "      <th>Cq</th>\n",
       "      <th>Cq Mean</th>\n",
       "      <th>Cq Std. Dev</th>\n",
       "      <th>Starting Quantity (SQ)</th>\n",
       "      <th>Log Starting Quantity</th>\n",
       "      <th>SQ Mean</th>\n",
       "      <th>SQ Std. Dev</th>\n",
       "      <th>Set Point</th>\n",
       "      <th>Well Note</th>\n",
       "    </tr>\n",
       "    <tr>\n",
       "      <th>Well</th>\n",
       "      <th></th>\n",
       "      <th></th>\n",
       "      <th></th>\n",
       "      <th></th>\n",
       "      <th></th>\n",
       "      <th></th>\n",
       "      <th></th>\n",
       "      <th></th>\n",
       "      <th></th>\n",
       "      <th></th>\n",
       "      <th></th>\n",
       "      <th></th>\n",
       "      <th></th>\n",
       "      <th></th>\n",
       "    </tr>\n",
       "  </thead>\n",
       "  <tbody>\n",
       "    <tr>\n",
       "      <th>A01</th>\n",
       "      <td>SYBR</td>\n",
       "      <td>mCherry</td>\n",
       "      <td>Unkn-01</td>\n",
       "      <td>Well1</td>\n",
       "      <td>NaN</td>\n",
       "      <td>24.090542</td>\n",
       "      <td>23.753076</td>\n",
       "      <td>0.330928</td>\n",
       "      <td>23481.371310</td>\n",
       "      <td>4.370723</td>\n",
       "      <td>29245.117340</td>\n",
       "      <td>5842.094058</td>\n",
       "      <td>67</td>\n",
       "      <td>NaN</td>\n",
       "    </tr>\n",
       "    <tr>\n",
       "      <th>A02</th>\n",
       "      <td>SYBR</td>\n",
       "      <td>mCherry</td>\n",
       "      <td>Unkn-02</td>\n",
       "      <td>Well2</td>\n",
       "      <td>NaN</td>\n",
       "      <td>26.551036</td>\n",
       "      <td>26.282249</td>\n",
       "      <td>0.232778</td>\n",
       "      <td>5228.978486</td>\n",
       "      <td>3.718417</td>\n",
       "      <td>6201.748443</td>\n",
       "      <td>842.449381</td>\n",
       "      <td>67</td>\n",
       "      <td>NaN</td>\n",
       "    </tr>\n",
       "    <tr>\n",
       "      <th>A03</th>\n",
       "      <td>SYBR</td>\n",
       "      <td>mCherry</td>\n",
       "      <td>Unkn-03</td>\n",
       "      <td>Well3</td>\n",
       "      <td>NaN</td>\n",
       "      <td>23.255805</td>\n",
       "      <td>23.179284</td>\n",
       "      <td>0.161340</td>\n",
       "      <td>39086.082320</td>\n",
       "      <td>4.592022</td>\n",
       "      <td>41090.092920</td>\n",
       "      <td>4149.966455</td>\n",
       "      <td>67</td>\n",
       "      <td>NaN</td>\n",
       "    </tr>\n",
       "    <tr>\n",
       "      <th>A04</th>\n",
       "      <td>SYBR</td>\n",
       "      <td>mCherry</td>\n",
       "      <td>Unkn-04</td>\n",
       "      <td>Well4</td>\n",
       "      <td>NaN</td>\n",
       "      <td>32.914710</td>\n",
       "      <td>33.127782</td>\n",
       "      <td>0.229934</td>\n",
       "      <td>107.480635</td>\n",
       "      <td>2.031330</td>\n",
       "      <td>94.986912</td>\n",
       "      <td>13.116390</td>\n",
       "      <td>67</td>\n",
       "      <td>NaN</td>\n",
       "    </tr>\n",
       "    <tr>\n",
       "      <th>A05</th>\n",
       "      <td>SYBR</td>\n",
       "      <td>mCherry</td>\n",
       "      <td>Unkn-05</td>\n",
       "      <td>Well5</td>\n",
       "      <td>NaN</td>\n",
       "      <td>25.644092</td>\n",
       "      <td>25.320378</td>\n",
       "      <td>0.316085</td>\n",
       "      <td>9096.169304</td>\n",
       "      <td>3.958859</td>\n",
       "      <td>11220.859620</td>\n",
       "      <td>2139.601335</td>\n",
       "      <td>67</td>\n",
       "      <td>NaN</td>\n",
       "    </tr>\n",
       "  </tbody>\n",
       "</table>\n",
       "</div>"
      ],
      "text/plain": [
       "     Fluor   Target  Content Sample Biological Set Name         Cq    Cq Mean  Cq Std. Dev  Starting Quantity (SQ)  Log Starting Quantity       SQ Mean  SQ Std. Dev  Set Point  Well Note\n",
       "Well                                                                                                                                                                                      \n",
       "A01   SYBR  mCherry  Unkn-01  Well1                 NaN  24.090542  23.753076     0.330928            23481.371310               4.370723  29245.117340  5842.094058         67        NaN\n",
       "A02   SYBR  mCherry  Unkn-02  Well2                 NaN  26.551036  26.282249     0.232778             5228.978486               3.718417   6201.748443   842.449381         67        NaN\n",
       "A03   SYBR  mCherry  Unkn-03  Well3                 NaN  23.255805  23.179284     0.161340            39086.082320               4.592022  41090.092920  4149.966455         67        NaN\n",
       "A04   SYBR  mCherry  Unkn-04  Well4                 NaN  32.914710  33.127782     0.229934              107.480635               2.031330     94.986912    13.116390         67        NaN\n",
       "A05   SYBR  mCherry  Unkn-05  Well5                 NaN  25.644092  25.320378     0.316085             9096.169304               3.958859  11220.859620  2139.601335         67        NaN"
      ]
     },
     "execution_count": 4,
     "metadata": {},
     "output_type": "execute_result"
    }
   ],
   "source": [
    "infile = \"../preprocessed_data/qPCR_data/qPCR_simple_Cq.csv\"\n",
    "\n",
    "cq_raw = pd.read_csv(infile, header=0, index_col=0)\n",
    "\n",
    "print(cq_raw.shape)\n",
    "cq_raw.head()"
   ]
  },
  {
   "cell_type": "markdown",
   "metadata": {
    "Collapsed": "false"
   },
   "source": [
    "## Set sample labels and colors"
   ]
  },
  {
   "cell_type": "code",
   "execution_count": 5,
   "metadata": {
    "Collapsed": "false"
   },
   "outputs": [],
   "source": [
    "# Set well labels\n",
    "column_to_xticklabel = {\"Well1\": \"Gag + mCherry-Psi\", \n",
    "                        \"Well2\": \"Gag + mCherry\",\n",
    "                        \"Well3\": \"Gag-MCP + mCherry-MS2x12\", \n",
    "                        \"Well4\": \"Gag-MCP + mCherry\", \n",
    "                        \"Well5\": \"GagZip-MCP + mCherry-MS2x12\", \n",
    "                        \"Well6\": \"GagZip-MCP + mCherry\", \n",
    "                        \"Well7\": \"EPN24-MCP + mCherry-MS2x12\", \n",
    "                        \"Well8\": \"EPN24-MCP + mCherry\",\n",
    "                        \"Well9\": \"mCherry-MS2x12\",\n",
    "                        \"Well10\": \"mCherry-Psi\",\n",
    "                        \"Well11\": \"mCherry\",\n",
    "                        \"Well12\": \"No DNA\",\n",
    "                        \"H2O\": \"No template control\"}"
   ]
  },
  {
   "cell_type": "code",
   "execution_count": 6,
   "metadata": {
    "Collapsed": "false"
   },
   "outputs": [],
   "source": [
    "# Set exporters\n",
    "column_to_exporter =   {\"Well1\": \"Gag\", \n",
    "                        \"Well2\": \"Gag\",\n",
    "                        \"Well3\": \"Gag-MCP\", \n",
    "                        \"Well4\": \"Gag-MCP\", \n",
    "                        \"Well5\": \"GagZip-MCP\", \n",
    "                        \"Well6\": \"GagZip-MCP\", \n",
    "                        \"Well7\": \"EPN24-MCP\", \n",
    "                        \"Well8\": \"EPN24-MCP\",\n",
    "                        \"Well9\": \"None\",\n",
    "                        \"Well10\": \"None\",\n",
    "                        \"Well11\": \"None\",\n",
    "                        \"Well12\": \"No DNA\",\n",
    "                        \"H2O\": \"No template control\"}"
   ]
  },
  {
   "cell_type": "code",
   "execution_count": 7,
   "metadata": {
    "Collapsed": "false"
   },
   "outputs": [],
   "source": [
    "# Set well labels\n",
    "column_to_reporter = {\"Well1\": \"mCherry-Psi\", \n",
    "                        \"Well2\": \"mCherry\",\n",
    "                        \"Well3\": \"mCherry-MS2x12\", \n",
    "                        \"Well4\": \"mCherry\", \n",
    "                        \"Well5\": \"mCherry-MS2x12\", \n",
    "                        \"Well6\": \"mCherry\", \n",
    "                        \"Well7\": \"mCherry-MS2x12\", \n",
    "                        \"Well8\": \"mCherry\",\n",
    "                        \"Well9\": \"mCherry-MS2x12\",\n",
    "                        \"Well10\": \"mCherry-Psi\",\n",
    "                        \"Well11\": \"mCherry\",\n",
    "                        \"Well12\": \"No DNA\",\n",
    "                        \"H2O\": \"No template control\"}"
   ]
  },
  {
   "cell_type": "code",
   "execution_count": 8,
   "metadata": {
    "Collapsed": "false"
   },
   "outputs": [],
   "source": [
    "# Set well colors\n",
    "\n",
    "color_exporter_Gag = \"#31a354\"\n",
    "color_exporter_engineered = \"#756bb1\"\n",
    "color_no_packaging_signal = \"#737373\"\n",
    "color_no_exporter = \"#bdbdbd\"\n",
    "\n",
    "column_to_color = {\"Well1\": color_exporter_Gag,\n",
    "                   \"Well2\": color_no_packaging_signal,\n",
    "                   \"Well3\": color_exporter_engineered,\n",
    "                   \"Well4\": color_no_packaging_signal,\n",
    "                   \"Well5\": color_exporter_engineered,\n",
    "                   \"Well6\": color_no_packaging_signal,\n",
    "                   \"Well7\": color_exporter_engineered,\n",
    "                   \"Well8\": color_no_packaging_signal,\n",
    "                   \"Well9\": color_no_exporter,\n",
    "                   \"Well10\": color_no_exporter,\n",
    "                   \"Well11\": color_no_exporter,\n",
    "                   \"Well12\": color_no_exporter,\n",
    "                   \"H2O\": color_no_packaging_signal}"
   ]
  },
  {
   "cell_type": "code",
   "execution_count": 9,
   "metadata": {
    "Collapsed": "false"
   },
   "outputs": [],
   "source": [
    "# Set legend labels\n",
    "column_to_label = {\"Well1\": \"Both exporter and packaging signal\", \n",
    "                        \"Well2\": \"No packaging signal\",\n",
    "                        \"Well3\": \"Both exporter and packaging signal\", \n",
    "                        \"Well4\": \"No packaging signal\",\n",
    "                        \"Well5\": \"Both exporter and packaging signal\", \n",
    "                        \"Well6\": \"No packaging signal\",\n",
    "                        \"Well7\": \"Both exporter and packaging signal\", \n",
    "                        \"Well8\": \"No packaging signal\",\n",
    "                        \"Well9\": \"No exporter\",\n",
    "                        \"Well10\": \"No exporter\",\n",
    "                        \"Well11\": \"No exporter\",\n",
    "                        \"Well12\": \"No DNA\",\n",
    "                        \"H2O\": \"No template control\"}"
   ]
  },
  {
   "cell_type": "markdown",
   "metadata": {
    "Collapsed": "false"
   },
   "source": [
    "# Preprocess data"
   ]
  },
  {
   "cell_type": "code",
   "execution_count": 10,
   "metadata": {
    "Collapsed": "false"
   },
   "outputs": [],
   "source": [
    "# Reset index so that well becomes a column\n",
    "cq_raw.reset_index(inplace=True)"
   ]
  },
  {
   "cell_type": "markdown",
   "metadata": {
    "Collapsed": "false"
   },
   "source": [
    "## Calculate total starting molecules"
   ]
  },
  {
   "cell_type": "code",
   "execution_count": 11,
   "metadata": {
    "Collapsed": "false"
   },
   "outputs": [
    {
     "name": "stdout",
     "output_type": "stream",
     "text": [
      "Fraction of supernatant sampled: 0.0005464480874316939\n"
     ]
    }
   ],
   "source": [
    "# Calculate normalization for input volume\n",
    "\n",
    "FRACTION_OF_SUPERNATANT_SAMPLED = (140/1000) * (20/42) * (10/61) * (1/20)  # Fraction of total supernatant volume that was input to qPCR\n",
    "\n",
    "print(\"Fraction of supernatant sampled:\", FRACTION_OF_SUPERNATANT_SAMPLED)"
   ]
  },
  {
   "cell_type": "code",
   "execution_count": 12,
   "metadata": {
    "Collapsed": "false"
   },
   "outputs": [],
   "source": [
    "# Back-calculate input RNA molecules, given <100% efficiency of extraction, DNase, RT, as measured based on RNA standard\n",
    "\n",
    "PROTOCOL_EFFICIENCY = 0.005957820738  # Efficiency of extraction, DNase, RT"
   ]
  },
  {
   "cell_type": "code",
   "execution_count": 13,
   "metadata": {
    "Collapsed": "false"
   },
   "outputs": [],
   "source": [
    "# Calculate input RNA molecules\n",
    "cq_raw[\"RNA molecules\"] = cq_raw[\"Starting Quantity (SQ)\"] * (1/FRACTION_OF_SUPERNATANT_SAMPLED) * (1/PROTOCOL_EFFICIENCY)\n",
    "cq_raw[\"RNA molecules Mean\"] = cq_raw[\"SQ Mean\"] * (1/FRACTION_OF_SUPERNATANT_SAMPLED) * (1/PROTOCOL_EFFICIENCY)\n",
    "cq_raw[\"RNA molecules STD\"] = cq_raw[\"SQ Std. Dev\"] * (1/FRACTION_OF_SUPERNATANT_SAMPLED) * (1/PROTOCOL_EFFICIENCY)"
   ]
  },
  {
   "cell_type": "markdown",
   "metadata": {
    "Collapsed": "false"
   },
   "source": [
    "## Summarize replicates"
   ]
  },
  {
   "cell_type": "code",
   "execution_count": 14,
   "metadata": {
    "Collapsed": "false"
   },
   "outputs": [
    {
     "data": {
      "text/html": [
       "<div>\n",
       "<style scoped>\n",
       "    .dataframe tbody tr th:only-of-type {\n",
       "        vertical-align: middle;\n",
       "    }\n",
       "\n",
       "    .dataframe tbody tr th {\n",
       "        vertical-align: top;\n",
       "    }\n",
       "\n",
       "    .dataframe thead th {\n",
       "        text-align: right;\n",
       "    }\n",
       "</style>\n",
       "<table border=\"1\" class=\"dataframe\">\n",
       "  <thead>\n",
       "    <tr style=\"text-align: right;\">\n",
       "      <th></th>\n",
       "      <th>mean SQ</th>\n",
       "      <th>std SQ</th>\n",
       "      <th>RNA molecules</th>\n",
       "      <th>RNA molecules STD</th>\n",
       "    </tr>\n",
       "    <tr>\n",
       "      <th>Sample</th>\n",
       "      <th></th>\n",
       "      <th></th>\n",
       "      <th></th>\n",
       "      <th></th>\n",
       "    </tr>\n",
       "  </thead>\n",
       "  <tbody>\n",
       "    <tr>\n",
       "      <th>H2O</th>\n",
       "      <td>48.288100</td>\n",
       "      <td>NaN</td>\n",
       "      <td>1.483214e+07</td>\n",
       "      <td>0.000000e+00</td>\n",
       "    </tr>\n",
       "    <tr>\n",
       "      <th>Well1</th>\n",
       "      <td>29245.117337</td>\n",
       "      <td>5842.094061</td>\n",
       "      <td>8.982910e+09</td>\n",
       "      <td>1.794453e+09</td>\n",
       "    </tr>\n",
       "    <tr>\n",
       "      <th>Well10</th>\n",
       "      <td>88.708070</td>\n",
       "      <td>50.578201</td>\n",
       "      <td>2.724751e+07</td>\n",
       "      <td>1.553556e+07</td>\n",
       "    </tr>\n",
       "    <tr>\n",
       "      <th>Well11</th>\n",
       "      <td>52.597185</td>\n",
       "      <td>6.720080</td>\n",
       "      <td>1.615571e+07</td>\n",
       "      <td>2.064135e+06</td>\n",
       "    </tr>\n",
       "    <tr>\n",
       "      <th>Well12</th>\n",
       "      <td>NaN</td>\n",
       "      <td>NaN</td>\n",
       "      <td>NaN</td>\n",
       "      <td>0.000000e+00</td>\n",
       "    </tr>\n",
       "    <tr>\n",
       "      <th>Well2</th>\n",
       "      <td>6201.748443</td>\n",
       "      <td>842.449381</td>\n",
       "      <td>1.904925e+09</td>\n",
       "      <td>2.587662e+08</td>\n",
       "    </tr>\n",
       "    <tr>\n",
       "      <th>Well3</th>\n",
       "      <td>41090.092920</td>\n",
       "      <td>4149.966458</td>\n",
       "      <td>1.262120e+10</td>\n",
       "      <td>1.274701e+09</td>\n",
       "    </tr>\n",
       "    <tr>\n",
       "      <th>Well4</th>\n",
       "      <td>94.986912</td>\n",
       "      <td>13.116390</td>\n",
       "      <td>2.917611e+07</td>\n",
       "      <td>4.028821e+06</td>\n",
       "    </tr>\n",
       "    <tr>\n",
       "      <th>Well5</th>\n",
       "      <td>11220.859618</td>\n",
       "      <td>2139.601336</td>\n",
       "      <td>3.446591e+09</td>\n",
       "      <td>6.571984e+08</td>\n",
       "    </tr>\n",
       "    <tr>\n",
       "      <th>Well6</th>\n",
       "      <td>38.934776</td>\n",
       "      <td>14.524585</td>\n",
       "      <td>1.195918e+07</td>\n",
       "      <td>4.461361e+06</td>\n",
       "    </tr>\n",
       "    <tr>\n",
       "      <th>Well7</th>\n",
       "      <td>75178.828547</td>\n",
       "      <td>10298.581381</td>\n",
       "      <td>2.309188e+10</td>\n",
       "      <td>3.163305e+09</td>\n",
       "    </tr>\n",
       "    <tr>\n",
       "      <th>Well8</th>\n",
       "      <td>774.738379</td>\n",
       "      <td>31.992493</td>\n",
       "      <td>2.379681e+08</td>\n",
       "      <td>9.826791e+06</td>\n",
       "    </tr>\n",
       "    <tr>\n",
       "      <th>Well9</th>\n",
       "      <td>31.159003</td>\n",
       "      <td>15.035318</td>\n",
       "      <td>9.570777e+06</td>\n",
       "      <td>4.618238e+06</td>\n",
       "    </tr>\n",
       "  </tbody>\n",
       "</table>\n",
       "</div>"
      ],
      "text/plain": [
       "             mean SQ        std SQ  RNA molecules  RNA molecules STD\n",
       "Sample                                                              \n",
       "H2O        48.288100           NaN   1.483214e+07       0.000000e+00\n",
       "Well1   29245.117337   5842.094061   8.982910e+09       1.794453e+09\n",
       "Well10     88.708070     50.578201   2.724751e+07       1.553556e+07\n",
       "Well11     52.597185      6.720080   1.615571e+07       2.064135e+06\n",
       "Well12           NaN           NaN            NaN       0.000000e+00\n",
       "Well2    6201.748443    842.449381   1.904925e+09       2.587662e+08\n",
       "Well3   41090.092920   4149.966458   1.262120e+10       1.274701e+09\n",
       "Well4      94.986912     13.116390   2.917611e+07       4.028821e+06\n",
       "Well5   11220.859618   2139.601336   3.446591e+09       6.571984e+08\n",
       "Well6      38.934776     14.524585   1.195918e+07       4.461361e+06\n",
       "Well7   75178.828547  10298.581381   2.309188e+10       3.163305e+09\n",
       "Well8     774.738379     31.992493   2.379681e+08       9.826791e+06\n",
       "Well9      31.159003     15.035318   9.570777e+06       4.618238e+06"
      ]
     },
     "execution_count": 14,
     "metadata": {},
     "output_type": "execute_result"
    }
   ],
   "source": [
    "groups = cq_raw.groupby([\"Sample\"])  # group samples by origin\n",
    "\n",
    "summary = pd.DataFrame()\n",
    "\n",
    "summary[\"mean SQ\"] = groups[\"Starting Quantity (SQ)\"].mean()  # Calculate mean over replicates\n",
    "summary[\"std SQ\"] = groups[\"Starting Quantity (SQ)\"].std()  # Calculate mean over replicates\n",
    "\n",
    "summary[\"RNA molecules\"] = groups[\"RNA molecules\"].mean()\n",
    "summary[\"RNA molecules STD\"] = groups[\"RNA molecules STD\"].mean()\n",
    "\n",
    "summary"
   ]
  },
  {
   "cell_type": "markdown",
   "metadata": {
    "Collapsed": "false"
   },
   "source": [
    "## Censor results by limit of detection"
   ]
  },
  {
   "cell_type": "markdown",
   "metadata": {
    "Collapsed": "false"
   },
   "source": [
    "To calculate lower limit of quantification (signal in the absence of template), we note that 5/6 NTC wells and 3/3 No DNA wells were below threshold, leaving 1/6 NTC well that surpassed the threshold. To obtain a conservative limit of detection, we use the positive NTC well's threshold value."
   ]
  },
  {
   "cell_type": "code",
   "execution_count": 15,
   "metadata": {
    "Collapsed": "false"
   },
   "outputs": [
    {
     "name": "stdout",
     "output_type": "stream",
     "text": [
      "Limit of detection: 14832138.490283666\n"
     ]
    }
   ],
   "source": [
    "# Conservative limit of detection (1/6 H2O well came up above threshold and we use that value)\n",
    "\n",
    "# Report limit of detection (background in no template control)\n",
    "LOD = summary.loc[\"H2O\", \"RNA molecules\"]\n",
    "print(\"Limit of detection:\", LOD)"
   ]
  },
  {
   "cell_type": "code",
   "execution_count": 16,
   "metadata": {
    "Collapsed": "false"
   },
   "outputs": [],
   "source": [
    "# Substitute LOD for values below LOD\n",
    "cq_raw[\"RNA molecules censored\"] = cq_raw[\"RNA molecules\"]\n",
    "cq_raw.loc[cq_raw[\"RNA molecules\"] < LOD, \"RNA molecules censored\"] = LOD"
   ]
  },
  {
   "cell_type": "code",
   "execution_count": 17,
   "metadata": {
    "Collapsed": "false"
   },
   "outputs": [],
   "source": [
    "# Substitute LOD for values below LOD\n",
    "summary[\"RNA molecules censored\"] = summary[\"RNA molecules\"]\n",
    "summary.loc[summary[\"RNA molecules\"] < LOD, \"RNA molecules censored\"] = LOD"
   ]
  },
  {
   "cell_type": "markdown",
   "metadata": {
    "Collapsed": "false"
   },
   "source": [
    "# Visualize RNA export as simple line and swarm plots"
   ]
  },
  {
   "cell_type": "markdown",
   "metadata": {
    "Collapsed": "false"
   },
   "source": [
    "## Set plot parameters"
   ]
  },
  {
   "cell_type": "code",
   "execution_count": 18,
   "metadata": {
    "Collapsed": "false"
   },
   "outputs": [],
   "source": [
    "# Set plot parameters\n",
    "figsize = (1.25, 0.8)\n",
    "\n",
    "ypos_text_exporter = -0.15\n",
    "ypos_text_export_tag = -0.35"
   ]
  },
  {
   "cell_type": "markdown",
   "metadata": {
    "Collapsed": "false"
   },
   "source": [
    "## Gag"
   ]
  },
  {
   "cell_type": "code",
   "execution_count": 19,
   "metadata": {
    "Collapsed": "false"
   },
   "outputs": [],
   "source": [
    "# Choose samples\n",
    "columns_ordered = [\"Well1\", \"Well2\", \"Well10\", \"Well11\"]"
   ]
  },
  {
   "cell_type": "code",
   "execution_count": 20,
   "metadata": {
    "Collapsed": "false"
   },
   "outputs": [
    {
     "name": "stdout",
     "output_type": "stream",
     "text": [
      "(4, 6)\n"
     ]
    },
    {
     "data": {
      "text/html": [
       "<div>\n",
       "<style scoped>\n",
       "    .dataframe tbody tr th:only-of-type {\n",
       "        vertical-align: middle;\n",
       "    }\n",
       "\n",
       "    .dataframe tbody tr th {\n",
       "        vertical-align: top;\n",
       "    }\n",
       "\n",
       "    .dataframe thead th {\n",
       "        text-align: right;\n",
       "    }\n",
       "</style>\n",
       "<table border=\"1\" class=\"dataframe\">\n",
       "  <thead>\n",
       "    <tr style=\"text-align: right;\">\n",
       "      <th></th>\n",
       "      <th>mean SQ</th>\n",
       "      <th>std SQ</th>\n",
       "      <th>RNA molecules</th>\n",
       "      <th>RNA molecules STD</th>\n",
       "      <th>RNA molecules censored</th>\n",
       "      <th>label</th>\n",
       "    </tr>\n",
       "    <tr>\n",
       "      <th>Sample</th>\n",
       "      <th></th>\n",
       "      <th></th>\n",
       "      <th></th>\n",
       "      <th></th>\n",
       "      <th></th>\n",
       "      <th></th>\n",
       "    </tr>\n",
       "  </thead>\n",
       "  <tbody>\n",
       "    <tr>\n",
       "      <th>Well1</th>\n",
       "      <td>29245.117337</td>\n",
       "      <td>5842.094061</td>\n",
       "      <td>8.982910e+09</td>\n",
       "      <td>1.794453e+09</td>\n",
       "      <td>8.982910e+09</td>\n",
       "      <td>Both exporter and packaging signal</td>\n",
       "    </tr>\n",
       "    <tr>\n",
       "      <th>Well2</th>\n",
       "      <td>6201.748443</td>\n",
       "      <td>842.449381</td>\n",
       "      <td>1.904925e+09</td>\n",
       "      <td>2.587662e+08</td>\n",
       "      <td>1.904925e+09</td>\n",
       "      <td>No packaging signal</td>\n",
       "    </tr>\n",
       "    <tr>\n",
       "      <th>Well10</th>\n",
       "      <td>88.708070</td>\n",
       "      <td>50.578201</td>\n",
       "      <td>2.724751e+07</td>\n",
       "      <td>1.553556e+07</td>\n",
       "      <td>2.724751e+07</td>\n",
       "      <td>No exporter</td>\n",
       "    </tr>\n",
       "    <tr>\n",
       "      <th>Well11</th>\n",
       "      <td>52.597185</td>\n",
       "      <td>6.720080</td>\n",
       "      <td>1.615571e+07</td>\n",
       "      <td>2.064135e+06</td>\n",
       "      <td>1.615571e+07</td>\n",
       "      <td>No exporter</td>\n",
       "    </tr>\n",
       "  </tbody>\n",
       "</table>\n",
       "</div>"
      ],
      "text/plain": [
       "             mean SQ       std SQ  RNA molecules  RNA molecules STD  RNA molecules censored                               label\n",
       "Sample                                                                                                                         \n",
       "Well1   29245.117337  5842.094061   8.982910e+09       1.794453e+09            8.982910e+09  Both exporter and packaging signal\n",
       "Well2    6201.748443   842.449381   1.904925e+09       2.587662e+08            1.904925e+09                 No packaging signal\n",
       "Well10     88.708070    50.578201   2.724751e+07       1.553556e+07            2.724751e+07                         No exporter\n",
       "Well11     52.597185     6.720080   1.615571e+07       2.064135e+06            1.615571e+07                         No exporter"
      ]
     },
     "execution_count": 20,
     "metadata": {},
     "output_type": "execute_result"
    }
   ],
   "source": [
    "# Get data of summary across replicates of selected wells\n",
    "summary_subset = summary.loc[columns_ordered]\n",
    "\n",
    "# Set label\n",
    "summary_subset[\"label\"] = [column_to_label[col] for col in columns_ordered]\n",
    "\n",
    "print(summary_subset.shape)\n",
    "summary_subset"
   ]
  },
  {
   "cell_type": "code",
   "execution_count": 21,
   "metadata": {
    "Collapsed": "false"
   },
   "outputs": [
    {
     "name": "stdout",
     "output_type": "stream",
     "text": [
      "(12, 19)\n"
     ]
    },
    {
     "data": {
      "text/html": [
       "<div>\n",
       "<style scoped>\n",
       "    .dataframe tbody tr th:only-of-type {\n",
       "        vertical-align: middle;\n",
       "    }\n",
       "\n",
       "    .dataframe tbody tr th {\n",
       "        vertical-align: top;\n",
       "    }\n",
       "\n",
       "    .dataframe thead th {\n",
       "        text-align: right;\n",
       "    }\n",
       "</style>\n",
       "<table border=\"1\" class=\"dataframe\">\n",
       "  <thead>\n",
       "    <tr style=\"text-align: right;\">\n",
       "      <th></th>\n",
       "      <th>Well</th>\n",
       "      <th>Fluor</th>\n",
       "      <th>Target</th>\n",
       "      <th>Content</th>\n",
       "      <th>Sample</th>\n",
       "      <th>Biological Set Name</th>\n",
       "      <th>Cq</th>\n",
       "      <th>Cq Mean</th>\n",
       "      <th>Cq Std. Dev</th>\n",
       "      <th>Starting Quantity (SQ)</th>\n",
       "      <th>Log Starting Quantity</th>\n",
       "      <th>SQ Mean</th>\n",
       "      <th>SQ Std. Dev</th>\n",
       "      <th>Set Point</th>\n",
       "      <th>Well Note</th>\n",
       "      <th>RNA molecules</th>\n",
       "      <th>RNA molecules Mean</th>\n",
       "      <th>RNA molecules STD</th>\n",
       "      <th>RNA molecules censored</th>\n",
       "    </tr>\n",
       "  </thead>\n",
       "  <tbody>\n",
       "    <tr>\n",
       "      <th>0</th>\n",
       "      <td>A01</td>\n",
       "      <td>SYBR</td>\n",
       "      <td>mCherry</td>\n",
       "      <td>Unkn-01</td>\n",
       "      <td>Well1</td>\n",
       "      <td>NaN</td>\n",
       "      <td>24.090542</td>\n",
       "      <td>23.753076</td>\n",
       "      <td>0.330928</td>\n",
       "      <td>23481.371310</td>\n",
       "      <td>4.370723</td>\n",
       "      <td>29245.117340</td>\n",
       "      <td>5842.094058</td>\n",
       "      <td>67</td>\n",
       "      <td>NaN</td>\n",
       "      <td>7.212521e+09</td>\n",
       "      <td>8.982910e+09</td>\n",
       "      <td>1.794453e+09</td>\n",
       "      <td>7.212521e+09</td>\n",
       "    </tr>\n",
       "    <tr>\n",
       "      <th>1</th>\n",
       "      <td>A02</td>\n",
       "      <td>SYBR</td>\n",
       "      <td>mCherry</td>\n",
       "      <td>Unkn-02</td>\n",
       "      <td>Well2</td>\n",
       "      <td>NaN</td>\n",
       "      <td>26.551036</td>\n",
       "      <td>26.282249</td>\n",
       "      <td>0.232778</td>\n",
       "      <td>5228.978486</td>\n",
       "      <td>3.718417</td>\n",
       "      <td>6201.748443</td>\n",
       "      <td>842.449381</td>\n",
       "      <td>67</td>\n",
       "      <td>NaN</td>\n",
       "      <td>1.606129e+09</td>\n",
       "      <td>1.904925e+09</td>\n",
       "      <td>2.587662e+08</td>\n",
       "      <td>1.606129e+09</td>\n",
       "    </tr>\n",
       "    <tr>\n",
       "      <th>9</th>\n",
       "      <td>A10</td>\n",
       "      <td>SYBR</td>\n",
       "      <td>mCherry</td>\n",
       "      <td>Unkn-10</td>\n",
       "      <td>Well10</td>\n",
       "      <td>NaN</td>\n",
       "      <td>34.121737</td>\n",
       "      <td>33.395551</td>\n",
       "      <td>0.885023</td>\n",
       "      <td>51.443781</td>\n",
       "      <td>1.711333</td>\n",
       "      <td>88.708070</td>\n",
       "      <td>50.578201</td>\n",
       "      <td>67</td>\n",
       "      <td>NaN</td>\n",
       "      <td>1.580144e+07</td>\n",
       "      <td>2.724751e+07</td>\n",
       "      <td>1.553556e+07</td>\n",
       "      <td>1.580144e+07</td>\n",
       "    </tr>\n",
       "    <tr>\n",
       "      <th>10</th>\n",
       "      <td>A11</td>\n",
       "      <td>SYBR</td>\n",
       "      <td>mCherry</td>\n",
       "      <td>Unkn-11</td>\n",
       "      <td>Well11</td>\n",
       "      <td>NaN</td>\n",
       "      <td>34.133922</td>\n",
       "      <td>34.094151</td>\n",
       "      <td>0.206149</td>\n",
       "      <td>51.062558</td>\n",
       "      <td>1.708103</td>\n",
       "      <td>52.597185</td>\n",
       "      <td>6.720080</td>\n",
       "      <td>67</td>\n",
       "      <td>NaN</td>\n",
       "      <td>1.568434e+07</td>\n",
       "      <td>1.615571e+07</td>\n",
       "      <td>2.064135e+06</td>\n",
       "      <td>1.568434e+07</td>\n",
       "    </tr>\n",
       "    <tr>\n",
       "      <th>12</th>\n",
       "      <td>B01</td>\n",
       "      <td>SYBR</td>\n",
       "      <td>mCherry</td>\n",
       "      <td>Unkn-01</td>\n",
       "      <td>Well1</td>\n",
       "      <td>NaN</td>\n",
       "      <td>23.739588</td>\n",
       "      <td>23.753076</td>\n",
       "      <td>0.330928</td>\n",
       "      <td>29091.453030</td>\n",
       "      <td>4.463765</td>\n",
       "      <td>29245.117340</td>\n",
       "      <td>5842.094058</td>\n",
       "      <td>67</td>\n",
       "      <td>NaN</td>\n",
       "      <td>8.935710e+09</td>\n",
       "      <td>8.982910e+09</td>\n",
       "      <td>1.794453e+09</td>\n",
       "      <td>8.935710e+09</td>\n",
       "    </tr>\n",
       "  </tbody>\n",
       "</table>\n",
       "</div>"
      ],
      "text/plain": [
       "   Well Fluor   Target  Content  Sample Biological Set Name         Cq    Cq Mean  Cq Std. Dev  Starting Quantity (SQ)  Log Starting Quantity       SQ Mean  SQ Std. Dev  Set Point  Well Note  RNA molecules  RNA molecules Mean  RNA molecules STD  RNA molecules censored\n",
       "0   A01  SYBR  mCherry  Unkn-01   Well1                 NaN  24.090542  23.753076     0.330928            23481.371310               4.370723  29245.117340  5842.094058         67        NaN   7.212521e+09        8.982910e+09       1.794453e+09            7.212521e+09\n",
       "1   A02  SYBR  mCherry  Unkn-02   Well2                 NaN  26.551036  26.282249     0.232778             5228.978486               3.718417   6201.748443   842.449381         67        NaN   1.606129e+09        1.904925e+09       2.587662e+08            1.606129e+09\n",
       "9   A10  SYBR  mCherry  Unkn-10  Well10                 NaN  34.121737  33.395551     0.885023               51.443781               1.711333     88.708070    50.578201         67        NaN   1.580144e+07        2.724751e+07       1.553556e+07            1.580144e+07\n",
       "10  A11  SYBR  mCherry  Unkn-11  Well11                 NaN  34.133922  34.094151     0.206149               51.062558               1.708103     52.597185     6.720080         67        NaN   1.568434e+07        1.615571e+07       2.064135e+06            1.568434e+07\n",
       "12  B01  SYBR  mCherry  Unkn-01   Well1                 NaN  23.739588  23.753076     0.330928            29091.453030               4.463765  29245.117340  5842.094058         67        NaN   8.935710e+09        8.982910e+09       1.794453e+09            8.935710e+09"
      ]
     },
     "execution_count": 21,
     "metadata": {},
     "output_type": "execute_result"
    }
   ],
   "source": [
    "# Get data of replicates of selected wells\n",
    "selector = cq_raw[\"Sample\"].isin(columns_ordered)\n",
    "data = cq_raw.loc[selector]\n",
    "\n",
    "print(data.shape)\n",
    "data.head()"
   ]
  },
  {
   "cell_type": "code",
   "execution_count": 22,
   "metadata": {
    "Collapsed": "false"
   },
   "outputs": [
    {
     "name": "stderr",
     "output_type": "stream",
     "text": [
      "/scratch/resources/anaconda3/envs/RNA_export_magic/lib/python3.7/site-packages/ipykernel_launcher.py:21: SettingWithCopyWarning: \n",
      "A value is trying to be set on a copy of a slice from a DataFrame.\n",
      "Try using .loc[row_indexer,col_indexer] = value instead\n",
      "\n",
      "See the caveats in the documentation: https://pandas.pydata.org/pandas-docs/stable/user_guide/indexing.html#returning-a-view-versus-a-copy\n",
      "findfont: Font family ['cursive'] not found. Falling back to DejaVu Sans.\n"
     ]
    },
    {
     "data": {
      "image/png": "[encoded data removed]",
      "text/plain": [
       "<Figure size 375x240 with 1 Axes>"
      ]
     },
     "metadata": {},
     "output_type": "display_data"
    }
   ],
   "source": [
    "# Make simple swarm plot\n",
    "\n",
    "field = \"RNA molecules censored\"\n",
    "\n",
    "fig, ax = plt.subplots(1, 1, figsize=figsize)\n",
    "\n",
    "# Set axis scaling - must be done first so swarm plot dots do not overlap\n",
    "ax.set_yscale(\"log\")\n",
    "ax.set_ylim(1e7, 1e11)\n",
    "\n",
    "# Plot summary\n",
    "\n",
    "y = summary_subset[field]\n",
    "x = np.arange(len(y))\n",
    "\n",
    "sns.scatterplot(x=x, y=y, ax=ax, marker=\"_\", s=150, color=\"r\")\n",
    "\n",
    "# Plot individual points as swarm (sort columns appropriately)\n",
    "\n",
    "sample_to_rank = dict(zip(columns_ordered, range(len(columns_ordered))))\n",
    "data[\"rank\"] = [sample_to_rank[s] for s in data[\"Sample\"]]\n",
    "data = data.sort_values(by=\"rank\")\n",
    "\n",
    "y_swarm = data[field]\n",
    "x_swarm = np.array([x[rank] for rank in data[\"rank\"]])\n",
    "\n",
    "x_offset = np.array([-0.15, 0, 0.15])  # jitter offsets to avoid operlaps\n",
    "x_swarm_offset = x_swarm + np.tile(x_offset, int(len(x_swarm)/len(x_offset)))\n",
    "\n",
    "ax.scatter(x_swarm_offset, y_swarm, color=\"#252525\", s=2, zorder=10)\n",
    "\n",
    "ax.set_xlim(min(x)-0.5, max(x)+0.5)\n",
    "\n",
    "ax.set_ylabel(\"Reporter RNA\\nmolecules in\\nsupernatant\", labelpad=6)\n",
    "\n",
    "locmaj = mpl.ticker.LogLocator(base=10,numticks=12) \n",
    "ax.yaxis.set_major_locator(locmaj)\n",
    "\n",
    "locmin = mpl.ticker.LogLocator(base=10.0,subs=(0.2,0.4,0.6,0.8),numticks=12)\n",
    "ax.yaxis.set_minor_locator(locmin)\n",
    "ax.yaxis.set_minor_formatter(mpl.ticker.NullFormatter())\n",
    "\n",
    "ax.set_xticks([0, 1, 2, 3])\n",
    "xticklabels = [\"+\\n+\", \"+\\n-\", \"-\\n+\", \"-\\n-\"]\n",
    "ax.set_xticklabels(xticklabels)\n",
    "\n",
    "ax.text(0, ypos_text_exporter, \"Exporter\", transform=ax.transAxes, ha=\"right\", va=\"top\", size=FONTSIZE)\n",
    "ax.text(0, ypos_text_export_tag, \"Export tag (Psi)\", transform=ax.transAxes, ha=\"right\", va=\"top\", size=FONTSIZE)\n",
    "\n",
    "# Draw line indicating limit of detection\n",
    "ax.axhline(LOD, ls=\"--\", color=\"k\", lw=1)\n",
    "\n",
    "ax.tick_params(axis='x', which='both', bottom=False)  # remove xticks\n",
    "sns.despine()\n",
    "\n",
    "save_figure(fig, \"line_swarm_Gag\")"
   ]
  },
  {
   "cell_type": "code",
   "execution_count": 23,
   "metadata": {
    "Collapsed": "false"
   },
   "outputs": [
    {
     "name": "stdout",
     "output_type": "stream",
     "text": [
      "Export efficiency for target RNA: 329.67820488288913\n",
      "Export efficiency for non-target RNA: 117.91027375267502\n",
      "Export specificity ratio: 4.715624570559277\n"
     ]
    }
   ],
   "source": [
    "# Report statistics\n",
    "print(\"Export efficiency for target RNA:\", summary_subset.loc[\"Well1\", \"RNA molecules censored\"] / summary_subset.loc[\"Well10\", \"RNA molecules censored\"])\n",
    "print(\"Export efficiency for non-target RNA:\", summary_subset.loc[\"Well2\", \"RNA molecules censored\"] / summary_subset.loc[\"Well11\", \"RNA molecules censored\"])\n",
    "print(\"Export specificity ratio:\", summary_subset.loc[\"Well1\", \"RNA molecules censored\"] / summary_subset.loc[\"Well2\", \"RNA molecules censored\"])"
   ]
  },
  {
   "cell_type": "markdown",
   "metadata": {
    "Collapsed": "false"
   },
   "source": [
    "## Gag-MCP"
   ]
  },
  {
   "cell_type": "code",
   "execution_count": 24,
   "metadata": {
    "Collapsed": "false"
   },
   "outputs": [],
   "source": [
    "# Choose samples\n",
    "columns_ordered = [\"Well3\", \"Well4\", \"Well9\", \"Well11\"]"
   ]
  },
  {
   "cell_type": "code",
   "execution_count": 25,
   "metadata": {
    "Collapsed": "false"
   },
   "outputs": [
    {
     "name": "stdout",
     "output_type": "stream",
     "text": [
      "(4, 6)\n"
     ]
    },
    {
     "data": {
      "text/html": [
       "<div>\n",
       "<style scoped>\n",
       "    .dataframe tbody tr th:only-of-type {\n",
       "        vertical-align: middle;\n",
       "    }\n",
       "\n",
       "    .dataframe tbody tr th {\n",
       "        vertical-align: top;\n",
       "    }\n",
       "\n",
       "    .dataframe thead th {\n",
       "        text-align: right;\n",
       "    }\n",
       "</style>\n",
       "<table border=\"1\" class=\"dataframe\">\n",
       "  <thead>\n",
       "    <tr style=\"text-align: right;\">\n",
       "      <th></th>\n",
       "      <th>mean SQ</th>\n",
       "      <th>std SQ</th>\n",
       "      <th>RNA molecules</th>\n",
       "      <th>RNA molecules STD</th>\n",
       "      <th>RNA molecules censored</th>\n",
       "      <th>label</th>\n",
       "    </tr>\n",
       "    <tr>\n",
       "      <th>Sample</th>\n",
       "      <th></th>\n",
       "      <th></th>\n",
       "      <th></th>\n",
       "      <th></th>\n",
       "      <th></th>\n",
       "      <th></th>\n",
       "    </tr>\n",
       "  </thead>\n",
       "  <tbody>\n",
       "    <tr>\n",
       "      <th>Well3</th>\n",
       "      <td>41090.092920</td>\n",
       "      <td>4149.966458</td>\n",
       "      <td>1.262120e+10</td>\n",
       "      <td>1.274701e+09</td>\n",
       "      <td>1.262120e+10</td>\n",
       "      <td>Both exporter and packaging signal</td>\n",
       "    </tr>\n",
       "    <tr>\n",
       "      <th>Well4</th>\n",
       "      <td>94.986912</td>\n",
       "      <td>13.116390</td>\n",
       "      <td>2.917611e+07</td>\n",
       "      <td>4.028821e+06</td>\n",
       "      <td>2.917611e+07</td>\n",
       "      <td>No packaging signal</td>\n",
       "    </tr>\n",
       "    <tr>\n",
       "      <th>Well9</th>\n",
       "      <td>31.159003</td>\n",
       "      <td>15.035318</td>\n",
       "      <td>9.570777e+06</td>\n",
       "      <td>4.618238e+06</td>\n",
       "      <td>1.483214e+07</td>\n",
       "      <td>No exporter</td>\n",
       "    </tr>\n",
       "    <tr>\n",
       "      <th>Well11</th>\n",
       "      <td>52.597185</td>\n",
       "      <td>6.720080</td>\n",
       "      <td>1.615571e+07</td>\n",
       "      <td>2.064135e+06</td>\n",
       "      <td>1.615571e+07</td>\n",
       "      <td>No exporter</td>\n",
       "    </tr>\n",
       "  </tbody>\n",
       "</table>\n",
       "</div>"
      ],
      "text/plain": [
       "             mean SQ       std SQ  RNA molecules  RNA molecules STD  RNA molecules censored                               label\n",
       "Sample                                                                                                                         \n",
       "Well3   41090.092920  4149.966458   1.262120e+10       1.274701e+09            1.262120e+10  Both exporter and packaging signal\n",
       "Well4      94.986912    13.116390   2.917611e+07       4.028821e+06            2.917611e+07                 No packaging signal\n",
       "Well9      31.159003    15.035318   9.570777e+06       4.618238e+06            1.483214e+07                         No exporter\n",
       "Well11     52.597185     6.720080   1.615571e+07       2.064135e+06            1.615571e+07                         No exporter"
      ]
     },
     "execution_count": 25,
     "metadata": {},
     "output_type": "execute_result"
    }
   ],
   "source": [
    "# Get data of summary across replicates of selected wells\n",
    "summary_subset = summary.loc[columns_ordered]\n",
    "\n",
    "# Set label\n",
    "summary_subset[\"label\"] = [column_to_label[col] for col in columns_ordered]\n",
    "\n",
    "print(summary_subset.shape)\n",
    "summary_subset"
   ]
  },
  {
   "cell_type": "code",
   "execution_count": 26,
   "metadata": {
    "Collapsed": "false"
   },
   "outputs": [
    {
     "name": "stdout",
     "output_type": "stream",
     "text": [
      "(12, 19)\n"
     ]
    },
    {
     "data": {
      "text/html": [
       "<div>\n",
       "<style scoped>\n",
       "    .dataframe tbody tr th:only-of-type {\n",
       "        vertical-align: middle;\n",
       "    }\n",
       "\n",
       "    .dataframe tbody tr th {\n",
       "        vertical-align: top;\n",
       "    }\n",
       "\n",
       "    .dataframe thead th {\n",
       "        text-align: right;\n",
       "    }\n",
       "</style>\n",
       "<table border=\"1\" class=\"dataframe\">\n",
       "  <thead>\n",
       "    <tr style=\"text-align: right;\">\n",
       "      <th></th>\n",
       "      <th>Well</th>\n",
       "      <th>Fluor</th>\n",
       "      <th>Target</th>\n",
       "      <th>Content</th>\n",
       "      <th>Sample</th>\n",
       "      <th>Biological Set Name</th>\n",
       "      <th>Cq</th>\n",
       "      <th>Cq Mean</th>\n",
       "      <th>Cq Std. Dev</th>\n",
       "      <th>Starting Quantity (SQ)</th>\n",
       "      <th>Log Starting Quantity</th>\n",
       "      <th>SQ Mean</th>\n",
       "      <th>SQ Std. Dev</th>\n",
       "      <th>Set Point</th>\n",
       "      <th>Well Note</th>\n",
       "      <th>RNA molecules</th>\n",
       "      <th>RNA molecules Mean</th>\n",
       "      <th>RNA molecules STD</th>\n",
       "      <th>RNA molecules censored</th>\n",
       "    </tr>\n",
       "  </thead>\n",
       "  <tbody>\n",
       "    <tr>\n",
       "      <th>2</th>\n",
       "      <td>A03</td>\n",
       "      <td>SYBR</td>\n",
       "      <td>mCherry</td>\n",
       "      <td>Unkn-03</td>\n",
       "      <td>Well3</td>\n",
       "      <td>NaN</td>\n",
       "      <td>23.255805</td>\n",
       "      <td>23.179284</td>\n",
       "      <td>0.161340</td>\n",
       "      <td>39086.082320</td>\n",
       "      <td>4.592022</td>\n",
       "      <td>41090.092920</td>\n",
       "      <td>4149.966455</td>\n",
       "      <td>67</td>\n",
       "      <td>NaN</td>\n",
       "      <td>1.200565e+10</td>\n",
       "      <td>1.262120e+10</td>\n",
       "      <td>1.274701e+09</td>\n",
       "      <td>1.200565e+10</td>\n",
       "    </tr>\n",
       "    <tr>\n",
       "      <th>3</th>\n",
       "      <td>A04</td>\n",
       "      <td>SYBR</td>\n",
       "      <td>mCherry</td>\n",
       "      <td>Unkn-04</td>\n",
       "      <td>Well4</td>\n",
       "      <td>NaN</td>\n",
       "      <td>32.914710</td>\n",
       "      <td>33.127782</td>\n",
       "      <td>0.229934</td>\n",
       "      <td>107.480635</td>\n",
       "      <td>2.031330</td>\n",
       "      <td>94.986912</td>\n",
       "      <td>13.116390</td>\n",
       "      <td>67</td>\n",
       "      <td>NaN</td>\n",
       "      <td>3.301368e+07</td>\n",
       "      <td>2.917611e+07</td>\n",
       "      <td>4.028821e+06</td>\n",
       "      <td>3.301368e+07</td>\n",
       "    </tr>\n",
       "    <tr>\n",
       "      <th>8</th>\n",
       "      <td>A09</td>\n",
       "      <td>SYBR</td>\n",
       "      <td>mCherry</td>\n",
       "      <td>Unkn-09</td>\n",
       "      <td>Well9</td>\n",
       "      <td>NaN</td>\n",
       "      <td>34.545439</td>\n",
       "      <td>35.119495</td>\n",
       "      <td>1.002840</td>\n",
       "      <td>39.719561</td>\n",
       "      <td>1.599004</td>\n",
       "      <td>31.159003</td>\n",
       "      <td>15.035318</td>\n",
       "      <td>67</td>\n",
       "      <td>NaN</td>\n",
       "      <td>1.220023e+07</td>\n",
       "      <td>9.570777e+06</td>\n",
       "      <td>4.618238e+06</td>\n",
       "      <td>1.483214e+07</td>\n",
       "    </tr>\n",
       "    <tr>\n",
       "      <th>10</th>\n",
       "      <td>A11</td>\n",
       "      <td>SYBR</td>\n",
       "      <td>mCherry</td>\n",
       "      <td>Unkn-11</td>\n",
       "      <td>Well11</td>\n",
       "      <td>NaN</td>\n",
       "      <td>34.133922</td>\n",
       "      <td>34.094151</td>\n",
       "      <td>0.206149</td>\n",
       "      <td>51.062558</td>\n",
       "      <td>1.708103</td>\n",
       "      <td>52.597185</td>\n",
       "      <td>6.720080</td>\n",
       "      <td>67</td>\n",
       "      <td>NaN</td>\n",
       "      <td>1.568434e+07</td>\n",
       "      <td>1.615571e+07</td>\n",
       "      <td>2.064135e+06</td>\n",
       "      <td>1.568434e+07</td>\n",
       "    </tr>\n",
       "    <tr>\n",
       "      <th>14</th>\n",
       "      <td>B03</td>\n",
       "      <td>SYBR</td>\n",
       "      <td>mCherry</td>\n",
       "      <td>Unkn-03</td>\n",
       "      <td>Well3</td>\n",
       "      <td>NaN</td>\n",
       "      <td>22.993922</td>\n",
       "      <td>23.179284</td>\n",
       "      <td>0.161340</td>\n",
       "      <td>45861.737160</td>\n",
       "      <td>4.661451</td>\n",
       "      <td>41090.092920</td>\n",
       "      <td>4149.966455</td>\n",
       "      <td>67</td>\n",
       "      <td>NaN</td>\n",
       "      <td>1.408686e+10</td>\n",
       "      <td>1.262120e+10</td>\n",
       "      <td>1.274701e+09</td>\n",
       "      <td>1.408686e+10</td>\n",
       "    </tr>\n",
       "  </tbody>\n",
       "</table>\n",
       "</div>"
      ],
      "text/plain": [
       "   Well Fluor   Target  Content  Sample Biological Set Name         Cq    Cq Mean  Cq Std. Dev  Starting Quantity (SQ)  Log Starting Quantity       SQ Mean  SQ Std. Dev  Set Point  Well Note  RNA molecules  RNA molecules Mean  RNA molecules STD  RNA molecules censored\n",
       "2   A03  SYBR  mCherry  Unkn-03   Well3                 NaN  23.255805  23.179284     0.161340            39086.082320               4.592022  41090.092920  4149.966455         67        NaN   1.200565e+10        1.262120e+10       1.274701e+09            1.200565e+10\n",
       "3   A04  SYBR  mCherry  Unkn-04   Well4                 NaN  32.914710  33.127782     0.229934              107.480635               2.031330     94.986912    13.116390         67        NaN   3.301368e+07        2.917611e+07       4.028821e+06            3.301368e+07\n",
       "8   A09  SYBR  mCherry  Unkn-09   Well9                 NaN  34.545439  35.119495     1.002840               39.719561               1.599004     31.159003    15.035318         67        NaN   1.220023e+07        9.570777e+06       4.618238e+06            1.483214e+07\n",
       "10  A11  SYBR  mCherry  Unkn-11  Well11                 NaN  34.133922  34.094151     0.206149               51.062558               1.708103     52.597185     6.720080         67        NaN   1.568434e+07        1.615571e+07       2.064135e+06            1.568434e+07\n",
       "14  B03  SYBR  mCherry  Unkn-03   Well3                 NaN  22.993922  23.179284     0.161340            45861.737160               4.661451  41090.092920  4149.966455         67        NaN   1.408686e+10        1.262120e+10       1.274701e+09            1.408686e+10"
      ]
     },
     "execution_count": 26,
     "metadata": {},
     "output_type": "execute_result"
    }
   ],
   "source": [
    "# Get data of replicates of selected wells\n",
    "selector = cq_raw[\"Sample\"].isin(columns_ordered)\n",
    "data = cq_raw.loc[selector]\n",
    "\n",
    "print(data.shape)\n",
    "data.head()"
   ]
  },
  {
   "cell_type": "code",
   "execution_count": 27,
   "metadata": {
    "Collapsed": "false"
   },
   "outputs": [
    {
     "name": "stderr",
     "output_type": "stream",
     "text": [
      "/scratch/resources/anaconda3/envs/RNA_export_magic/lib/python3.7/site-packages/ipykernel_launcher.py:21: SettingWithCopyWarning: \n",
      "A value is trying to be set on a copy of a slice from a DataFrame.\n",
      "Try using .loc[row_indexer,col_indexer] = value instead\n",
      "\n",
      "See the caveats in the documentation: https://pandas.pydata.org/pandas-docs/stable/user_guide/indexing.html#returning-a-view-versus-a-copy\n"
     ]
    },
    {
     "data": {
      "image/png": "[encoded data removed]",
      "text/plain": [
       "<Figure size 375x240 with 1 Axes>"
      ]
     },
     "metadata": {},
     "output_type": "display_data"
    }
   ],
   "source": [
    "# Make simple swarm plot\n",
    "\n",
    "field = \"RNA molecules censored\"\n",
    "\n",
    "fig, ax = plt.subplots(1, 1, figsize=figsize)\n",
    "\n",
    "# Set axis scaling - must be done first so swarm plot dots do not overlap\n",
    "ax.set_yscale(\"log\")\n",
    "ax.set_ylim(1e7, 1e11)\n",
    "\n",
    "# Plot summary\n",
    "\n",
    "y = summary_subset[field]\n",
    "x = np.arange(len(y))\n",
    "\n",
    "sns.scatterplot(x=x, y=y, ax=ax, marker=\"_\", s=150, color=\"r\")\n",
    "\n",
    "# Plot individual points as swarm (sort columns appropriately)\n",
    "\n",
    "sample_to_rank = dict(zip(columns_ordered, range(len(columns_ordered))))\n",
    "data[\"rank\"] = [sample_to_rank[s] for s in data[\"Sample\"]]\n",
    "data = data.sort_values(by=\"rank\")\n",
    "\n",
    "y_swarm = data[field]\n",
    "x_swarm = np.array([x[rank] for rank in data[\"rank\"]])\n",
    "\n",
    "x_offset = np.array([-0.15, 0, 0.15])  # jitter offsets to avoid operlaps\n",
    "x_swarm_offset = x_swarm + np.tile(x_offset, int(len(x_swarm)/len(x_offset)))\n",
    "\n",
    "ax.scatter(x_swarm_offset, y_swarm, color=\"#252525\", s=2, zorder=10)\n",
    "\n",
    "ax.set_xlim(min(x)-0.5, max(x)+0.5)\n",
    "\n",
    "ax.set_ylabel(\"Reporter RNA\\nmolecules in\\nsupernatant\", labelpad=6)\n",
    "\n",
    "locmaj = mpl.ticker.LogLocator(base=10,numticks=12) \n",
    "ax.yaxis.set_major_locator(locmaj)\n",
    "\n",
    "locmin = mpl.ticker.LogLocator(base=10.0,subs=(0.2,0.4,0.6,0.8),numticks=12)\n",
    "ax.yaxis.set_minor_locator(locmin)\n",
    "ax.yaxis.set_minor_formatter(mpl.ticker.NullFormatter())\n",
    "\n",
    "ax.set_xticks([0, 1, 2, 3])\n",
    "xticklabels = [\"+\\n+\", \"+\\n-\", \"-\\n+\", \"-\\n-\"]\n",
    "ax.set_xticklabels(xticklabels)\n",
    "\n",
    "ax.text(0, ypos_text_exporter, \"Exporter\", transform=ax.transAxes, ha=\"right\", va=\"top\", size=FONTSIZE)\n",
    "ax.text(0, ypos_text_export_tag, \"Export tag (MS2)\", transform=ax.transAxes, ha=\"right\", va=\"top\", size=FONTSIZE)\n",
    "\n",
    "# Draw line indicating limit of detection\n",
    "ax.axhline(LOD, ls=\"--\", color=\"k\", lw=1)\n",
    "\n",
    "ax.tick_params(axis='x', which='both', bottom=False)  # remove xticks\n",
    "sns.despine()\n",
    "\n",
    "save_figure(fig, \"line_swarm_GagMCP\")"
   ]
  },
  {
   "cell_type": "code",
   "execution_count": 28,
   "metadata": {
    "Collapsed": "false"
   },
   "outputs": [
    {
     "name": "stdout",
     "output_type": "stream",
     "text": [
      "Export efficiency for target RNA: 850.9362193141814\n",
      "Export efficiency for non-target RNA: 1.8059314805911602\n",
      "Export specificity ratio: 432.5868926203907\n"
     ]
    }
   ],
   "source": [
    "# Report statistics\n",
    "print(\"Export efficiency for target RNA:\", summary_subset.loc[\"Well3\", \"RNA molecules censored\"] / summary_subset.loc[\"Well9\", \"RNA molecules censored\"])\n",
    "print(\"Export efficiency for non-target RNA:\", summary_subset.loc[\"Well4\", \"RNA molecules censored\"] / summary_subset.loc[\"Well11\", \"RNA molecules censored\"])\n",
    "print(\"Export specificity ratio:\", summary_subset.loc[\"Well3\", \"RNA molecules censored\"] / summary_subset.loc[\"Well4\", \"RNA molecules censored\"])"
   ]
  },
  {
   "cell_type": "markdown",
   "metadata": {
    "Collapsed": "false"
   },
   "source": [
    "## GagZip-MCP"
   ]
  },
  {
   "cell_type": "code",
   "execution_count": 29,
   "metadata": {
    "Collapsed": "false"
   },
   "outputs": [],
   "source": [
    "# Choose samples\n",
    "columns_ordered = [\"Well5\", \"Well6\", \"Well9\", \"Well11\"]"
   ]
  },
  {
   "cell_type": "code",
   "execution_count": 30,
   "metadata": {
    "Collapsed": "false"
   },
   "outputs": [
    {
     "name": "stdout",
     "output_type": "stream",
     "text": [
      "(4, 6)\n"
     ]
    },
    {
     "data": {
      "text/html": [
       "<div>\n",
       "<style scoped>\n",
       "    .dataframe tbody tr th:only-of-type {\n",
       "        vertical-align: middle;\n",
       "    }\n",
       "\n",
       "    .dataframe tbody tr th {\n",
       "        vertical-align: top;\n",
       "    }\n",
       "\n",
       "    .dataframe thead th {\n",
       "        text-align: right;\n",
       "    }\n",
       "</style>\n",
       "<table border=\"1\" class=\"dataframe\">\n",
       "  <thead>\n",
       "    <tr style=\"text-align: right;\">\n",
       "      <th></th>\n",
       "      <th>mean SQ</th>\n",
       "      <th>std SQ</th>\n",
       "      <th>RNA molecules</th>\n",
       "      <th>RNA molecules STD</th>\n",
       "      <th>RNA molecules censored</th>\n",
       "      <th>label</th>\n",
       "    </tr>\n",
       "    <tr>\n",
       "      <th>Sample</th>\n",
       "      <th></th>\n",
       "      <th></th>\n",
       "      <th></th>\n",
       "      <th></th>\n",
       "      <th></th>\n",
       "      <th></th>\n",
       "    </tr>\n",
       "  </thead>\n",
       "  <tbody>\n",
       "    <tr>\n",
       "      <th>Well5</th>\n",
       "      <td>11220.859618</td>\n",
       "      <td>2139.601336</td>\n",
       "      <td>3.446591e+09</td>\n",
       "      <td>6.571984e+08</td>\n",
       "      <td>3.446591e+09</td>\n",
       "      <td>Both exporter and packaging signal</td>\n",
       "    </tr>\n",
       "    <tr>\n",
       "      <th>Well6</th>\n",
       "      <td>38.934776</td>\n",
       "      <td>14.524585</td>\n",
       "      <td>1.195918e+07</td>\n",
       "      <td>4.461361e+06</td>\n",
       "      <td>1.483214e+07</td>\n",
       "      <td>No packaging signal</td>\n",
       "    </tr>\n",
       "    <tr>\n",
       "      <th>Well9</th>\n",
       "      <td>31.159003</td>\n",
       "      <td>15.035318</td>\n",
       "      <td>9.570777e+06</td>\n",
       "      <td>4.618238e+06</td>\n",
       "      <td>1.483214e+07</td>\n",
       "      <td>No exporter</td>\n",
       "    </tr>\n",
       "    <tr>\n",
       "      <th>Well11</th>\n",
       "      <td>52.597185</td>\n",
       "      <td>6.720080</td>\n",
       "      <td>1.615571e+07</td>\n",
       "      <td>2.064135e+06</td>\n",
       "      <td>1.615571e+07</td>\n",
       "      <td>No exporter</td>\n",
       "    </tr>\n",
       "  </tbody>\n",
       "</table>\n",
       "</div>"
      ],
      "text/plain": [
       "             mean SQ       std SQ  RNA molecules  RNA molecules STD  RNA molecules censored                               label\n",
       "Sample                                                                                                                         \n",
       "Well5   11220.859618  2139.601336   3.446591e+09       6.571984e+08            3.446591e+09  Both exporter and packaging signal\n",
       "Well6      38.934776    14.524585   1.195918e+07       4.461361e+06            1.483214e+07                 No packaging signal\n",
       "Well9      31.159003    15.035318   9.570777e+06       4.618238e+06            1.483214e+07                         No exporter\n",
       "Well11     52.597185     6.720080   1.615571e+07       2.064135e+06            1.615571e+07                         No exporter"
      ]
     },
     "execution_count": 30,
     "metadata": {},
     "output_type": "execute_result"
    }
   ],
   "source": [
    "# Get data of summary across replicates of selected wells\n",
    "summary_subset = summary.loc[columns_ordered]\n",
    "\n",
    "# Set label\n",
    "summary_subset[\"label\"] = [column_to_label[col] for col in columns_ordered]\n",
    "\n",
    "print(summary_subset.shape)\n",
    "summary_subset"
   ]
  },
  {
   "cell_type": "code",
   "execution_count": 31,
   "metadata": {
    "Collapsed": "false"
   },
   "outputs": [
    {
     "name": "stdout",
     "output_type": "stream",
     "text": [
      "(12, 19)\n"
     ]
    },
    {
     "data": {
      "text/html": [
       "<div>\n",
       "<style scoped>\n",
       "    .dataframe tbody tr th:only-of-type {\n",
       "        vertical-align: middle;\n",
       "    }\n",
       "\n",
       "    .dataframe tbody tr th {\n",
       "        vertical-align: top;\n",
       "    }\n",
       "\n",
       "    .dataframe thead th {\n",
       "        text-align: right;\n",
       "    }\n",
       "</style>\n",
       "<table border=\"1\" class=\"dataframe\">\n",
       "  <thead>\n",
       "    <tr style=\"text-align: right;\">\n",
       "      <th></th>\n",
       "      <th>Well</th>\n",
       "      <th>Fluor</th>\n",
       "      <th>Target</th>\n",
       "      <th>Content</th>\n",
       "      <th>Sample</th>\n",
       "      <th>Biological Set Name</th>\n",
       "      <th>Cq</th>\n",
       "      <th>Cq Mean</th>\n",
       "      <th>Cq Std. Dev</th>\n",
       "      <th>Starting Quantity (SQ)</th>\n",
       "      <th>Log Starting Quantity</th>\n",
       "      <th>SQ Mean</th>\n",
       "      <th>SQ Std. Dev</th>\n",
       "      <th>Set Point</th>\n",
       "      <th>Well Note</th>\n",
       "      <th>RNA molecules</th>\n",
       "      <th>RNA molecules Mean</th>\n",
       "      <th>RNA molecules STD</th>\n",
       "      <th>RNA molecules censored</th>\n",
       "    </tr>\n",
       "  </thead>\n",
       "  <tbody>\n",
       "    <tr>\n",
       "      <th>4</th>\n",
       "      <td>A05</td>\n",
       "      <td>SYBR</td>\n",
       "      <td>mCherry</td>\n",
       "      <td>Unkn-05</td>\n",
       "      <td>Well5</td>\n",
       "      <td>NaN</td>\n",
       "      <td>25.644092</td>\n",
       "      <td>25.320378</td>\n",
       "      <td>0.316085</td>\n",
       "      <td>9096.169304</td>\n",
       "      <td>3.958859</td>\n",
       "      <td>11220.859620</td>\n",
       "      <td>2139.601335</td>\n",
       "      <td>67</td>\n",
       "      <td>NaN</td>\n",
       "      <td>2.793973e+09</td>\n",
       "      <td>3.446591e+09</td>\n",
       "      <td>6.571984e+08</td>\n",
       "      <td>2.793973e+09</td>\n",
       "    </tr>\n",
       "    <tr>\n",
       "      <th>5</th>\n",
       "      <td>A06</td>\n",
       "      <td>SYBR</td>\n",
       "      <td>mCherry</td>\n",
       "      <td>Unkn-06</td>\n",
       "      <td>Well6</td>\n",
       "      <td>NaN</td>\n",
       "      <td>35.428327</td>\n",
       "      <td>34.666355</td>\n",
       "      <td>0.682480</td>\n",
       "      <td>23.170757</td>\n",
       "      <td>1.364940</td>\n",
       "      <td>38.934776</td>\n",
       "      <td>14.524585</td>\n",
       "      <td>67</td>\n",
       "      <td>NaN</td>\n",
       "      <td>7.117113e+06</td>\n",
       "      <td>1.195918e+07</td>\n",
       "      <td>4.461361e+06</td>\n",
       "      <td>1.483214e+07</td>\n",
       "    </tr>\n",
       "    <tr>\n",
       "      <th>8</th>\n",
       "      <td>A09</td>\n",
       "      <td>SYBR</td>\n",
       "      <td>mCherry</td>\n",
       "      <td>Unkn-09</td>\n",
       "      <td>Well9</td>\n",
       "      <td>NaN</td>\n",
       "      <td>34.545439</td>\n",
       "      <td>35.119495</td>\n",
       "      <td>1.002840</td>\n",
       "      <td>39.719561</td>\n",
       "      <td>1.599004</td>\n",
       "      <td>31.159003</td>\n",
       "      <td>15.035318</td>\n",
       "      <td>67</td>\n",
       "      <td>NaN</td>\n",
       "      <td>1.220023e+07</td>\n",
       "      <td>9.570777e+06</td>\n",
       "      <td>4.618238e+06</td>\n",
       "      <td>1.483214e+07</td>\n",
       "    </tr>\n",
       "    <tr>\n",
       "      <th>10</th>\n",
       "      <td>A11</td>\n",
       "      <td>SYBR</td>\n",
       "      <td>mCherry</td>\n",
       "      <td>Unkn-11</td>\n",
       "      <td>Well11</td>\n",
       "      <td>NaN</td>\n",
       "      <td>34.133922</td>\n",
       "      <td>34.094151</td>\n",
       "      <td>0.206149</td>\n",
       "      <td>51.062558</td>\n",
       "      <td>1.708103</td>\n",
       "      <td>52.597185</td>\n",
       "      <td>6.720080</td>\n",
       "      <td>67</td>\n",
       "      <td>NaN</td>\n",
       "      <td>1.568434e+07</td>\n",
       "      <td>1.615571e+07</td>\n",
       "      <td>2.064135e+06</td>\n",
       "      <td>1.568434e+07</td>\n",
       "    </tr>\n",
       "    <tr>\n",
       "      <th>16</th>\n",
       "      <td>B05</td>\n",
       "      <td>SYBR</td>\n",
       "      <td>mCherry</td>\n",
       "      <td>Unkn-05</td>\n",
       "      <td>Well5</td>\n",
       "      <td>NaN</td>\n",
       "      <td>25.304524</td>\n",
       "      <td>25.320378</td>\n",
       "      <td>0.316085</td>\n",
       "      <td>11191.342980</td>\n",
       "      <td>4.048882</td>\n",
       "      <td>11220.859620</td>\n",
       "      <td>2139.601335</td>\n",
       "      <td>67</td>\n",
       "      <td>NaN</td>\n",
       "      <td>3.437525e+09</td>\n",
       "      <td>3.446591e+09</td>\n",
       "      <td>6.571984e+08</td>\n",
       "      <td>3.437525e+09</td>\n",
       "    </tr>\n",
       "  </tbody>\n",
       "</table>\n",
       "</div>"
      ],
      "text/plain": [
       "   Well Fluor   Target  Content  Sample Biological Set Name         Cq    Cq Mean  Cq Std. Dev  Starting Quantity (SQ)  Log Starting Quantity       SQ Mean  SQ Std. Dev  Set Point  Well Note  RNA molecules  RNA molecules Mean  RNA molecules STD  RNA molecules censored\n",
       "4   A05  SYBR  mCherry  Unkn-05   Well5                 NaN  25.644092  25.320378     0.316085             9096.169304               3.958859  11220.859620  2139.601335         67        NaN   2.793973e+09        3.446591e+09       6.571984e+08            2.793973e+09\n",
       "5   A06  SYBR  mCherry  Unkn-06   Well6                 NaN  35.428327  34.666355     0.682480               23.170757               1.364940     38.934776    14.524585         67        NaN   7.117113e+06        1.195918e+07       4.461361e+06            1.483214e+07\n",
       "8   A09  SYBR  mCherry  Unkn-09   Well9                 NaN  34.545439  35.119495     1.002840               39.719561               1.599004     31.159003    15.035318         67        NaN   1.220023e+07        9.570777e+06       4.618238e+06            1.483214e+07\n",
       "10  A11  SYBR  mCherry  Unkn-11  Well11                 NaN  34.133922  34.094151     0.206149               51.062558               1.708103     52.597185     6.720080         67        NaN   1.568434e+07        1.615571e+07       2.064135e+06            1.568434e+07\n",
       "16  B05  SYBR  mCherry  Unkn-05   Well5                 NaN  25.304524  25.320378     0.316085            11191.342980               4.048882  11220.859620  2139.601335         67        NaN   3.437525e+09        3.446591e+09       6.571984e+08            3.437525e+09"
      ]
     },
     "execution_count": 31,
     "metadata": {},
     "output_type": "execute_result"
    }
   ],
   "source": [
    "# Get data of replicates of selected wells\n",
    "selector = cq_raw[\"Sample\"].isin(columns_ordered)\n",
    "data = cq_raw.loc[selector]\n",
    "\n",
    "print(data.shape)\n",
    "data.head()"
   ]
  },
  {
   "cell_type": "code",
   "execution_count": 32,
   "metadata": {
    "Collapsed": "false"
   },
   "outputs": [
    {
     "name": "stderr",
     "output_type": "stream",
     "text": [
      "/scratch/resources/anaconda3/envs/RNA_export_magic/lib/python3.7/site-packages/ipykernel_launcher.py:21: SettingWithCopyWarning: \n",
      "A value is trying to be set on a copy of a slice from a DataFrame.\n",
      "Try using .loc[row_indexer,col_indexer] = value instead\n",
      "\n",
      "See the caveats in the documentation: https://pandas.pydata.org/pandas-docs/stable/user_guide/indexing.html#returning-a-view-versus-a-copy\n"
     ]
    },
    {
     "data": {
      "image/png": "[encoded data removed]",
      "text/plain": [
       "<Figure size 375x240 with 1 Axes>"
      ]
     },
     "metadata": {},
     "output_type": "display_data"
    }
   ],
   "source": [
    "# Make simple swarm plot\n",
    "\n",
    "field = \"RNA molecules censored\"\n",
    "\n",
    "fig, ax = plt.subplots(1, 1, figsize=figsize)\n",
    "\n",
    "# Set axis scaling - must be done first so swarm plot dots do not overlap\n",
    "ax.set_yscale(\"log\")\n",
    "ax.set_ylim(1e7, 1e11)\n",
    "\n",
    "# Plot summary\n",
    "\n",
    "y = summary_subset[field]\n",
    "x = np.arange(len(y))\n",
    "\n",
    "sns.scatterplot(x=x, y=y, ax=ax, marker=\"_\", s=150, color=\"r\")\n",
    "\n",
    "# Plot individual points as swarm (sort columns appropriately)\n",
    "\n",
    "sample_to_rank = dict(zip(columns_ordered, range(len(columns_ordered))))\n",
    "data[\"rank\"] = [sample_to_rank[s] for s in data[\"Sample\"]]\n",
    "data = data.sort_values(by=\"rank\")\n",
    "\n",
    "y_swarm = data[field]\n",
    "x_swarm = np.array([x[rank] for rank in data[\"rank\"]])\n",
    "\n",
    "x_offset = np.array([-0.15, 0, 0.15])  # jitter offsets to avoid operlaps\n",
    "x_swarm_offset = x_swarm + np.tile(x_offset, int(len(x_swarm)/len(x_offset)))\n",
    "\n",
    "ax.scatter(x_swarm_offset, y_swarm, color=\"#252525\", s=2, zorder=10)\n",
    "\n",
    "ax.set_xlim(min(x)-0.5, max(x)+0.5)\n",
    "\n",
    "ax.set_ylabel(\"Reporter RNA\\nmolecules in\\nsupernatant\", labelpad=6)\n",
    "\n",
    "locmaj = mpl.ticker.LogLocator(base=10,numticks=12) \n",
    "ax.yaxis.set_major_locator(locmaj)\n",
    "\n",
    "locmin = mpl.ticker.LogLocator(base=10.0,subs=(0.2,0.4,0.6,0.8),numticks=12)\n",
    "ax.yaxis.set_minor_locator(locmin)\n",
    "ax.yaxis.set_minor_formatter(mpl.ticker.NullFormatter())\n",
    "\n",
    "ax.set_xticks([0, 1, 2, 3])\n",
    "xticklabels = [\"+\\n+\", \"+\\n-\", \"-\\n+\", \"-\\n-\"]\n",
    "ax.set_xticklabels(xticklabels)\n",
    "\n",
    "ax.text(0, ypos_text_exporter, \"Exporter\", transform=ax.transAxes, ha=\"right\", va=\"top\", size=FONTSIZE)\n",
    "ax.text(0, ypos_text_export_tag, \"Export tag (MS2)\", transform=ax.transAxes, ha=\"right\", va=\"top\", size=FONTSIZE)\n",
    "\n",
    "# Draw line indicating limit of detection\n",
    "ax.axhline(LOD, ls=\"--\", color=\"k\", lw=1)\n",
    "\n",
    "ax.tick_params(axis='x', which='both', bottom=False)  # remove xticks\n",
    "sns.despine()\n",
    "\n",
    "save_figure(fig, \"line_swarm_GagZipMCP\")"
   ]
  },
  {
   "cell_type": "code",
   "execution_count": 33,
   "metadata": {
    "Collapsed": "false"
   },
   "outputs": [
    {
     "name": "stdout",
     "output_type": "stream",
     "text": [
      "Export efficiency for target RNA: 232.3731873613901\n",
      "Export efficiency for non-target RNA: 0.9180738458916504\n",
      "Export specificity ratio: 232.3731873613901\n"
     ]
    }
   ],
   "source": [
    "# Report statistics\n",
    "print(\"Export efficiency for target RNA:\", summary_subset.loc[\"Well5\", \"RNA molecules censored\"] / summary_subset.loc[\"Well9\", \"RNA molecules censored\"])\n",
    "print(\"Export efficiency for non-target RNA:\", summary_subset.loc[\"Well6\", \"RNA molecules censored\"] / summary_subset.loc[\"Well11\", \"RNA molecules censored\"])\n",
    "print(\"Export specificity ratio:\", summary_subset.loc[\"Well5\", \"RNA molecules censored\"] / summary_subset.loc[\"Well6\", \"RNA molecules censored\"])"
   ]
  },
  {
   "cell_type": "markdown",
   "metadata": {
    "Collapsed": "false"
   },
   "source": [
    "## EPN24-MCP"
   ]
  },
  {
   "cell_type": "code",
   "execution_count": 34,
   "metadata": {
    "Collapsed": "false"
   },
   "outputs": [],
   "source": [
    "# Choose samples\n",
    "columns_ordered = [\"Well7\", \"Well8\", \"Well9\", \"Well11\"]"
   ]
  },
  {
   "cell_type": "code",
   "execution_count": 35,
   "metadata": {
    "Collapsed": "false"
   },
   "outputs": [
    {
     "name": "stdout",
     "output_type": "stream",
     "text": [
      "(4, 6)\n"
     ]
    },
    {
     "data": {
      "text/html": [
       "<div>\n",
       "<style scoped>\n",
       "    .dataframe tbody tr th:only-of-type {\n",
       "        vertical-align: middle;\n",
       "    }\n",
       "\n",
       "    .dataframe tbody tr th {\n",
       "        vertical-align: top;\n",
       "    }\n",
       "\n",
       "    .dataframe thead th {\n",
       "        text-align: right;\n",
       "    }\n",
       "</style>\n",
       "<table border=\"1\" class=\"dataframe\">\n",
       "  <thead>\n",
       "    <tr style=\"text-align: right;\">\n",
       "      <th></th>\n",
       "      <th>mean SQ</th>\n",
       "      <th>std SQ</th>\n",
       "      <th>RNA molecules</th>\n",
       "      <th>RNA molecules STD</th>\n",
       "      <th>RNA molecules censored</th>\n",
       "      <th>label</th>\n",
       "    </tr>\n",
       "    <tr>\n",
       "      <th>Sample</th>\n",
       "      <th></th>\n",
       "      <th></th>\n",
       "      <th></th>\n",
       "      <th></th>\n",
       "      <th></th>\n",
       "      <th></th>\n",
       "    </tr>\n",
       "  </thead>\n",
       "  <tbody>\n",
       "    <tr>\n",
       "      <th>Well7</th>\n",
       "      <td>75178.828547</td>\n",
       "      <td>10298.581381</td>\n",
       "      <td>2.309188e+10</td>\n",
       "      <td>3.163305e+09</td>\n",
       "      <td>2.309188e+10</td>\n",
       "      <td>Both exporter and packaging signal</td>\n",
       "    </tr>\n",
       "    <tr>\n",
       "      <th>Well8</th>\n",
       "      <td>774.738379</td>\n",
       "      <td>31.992493</td>\n",
       "      <td>2.379681e+08</td>\n",
       "      <td>9.826791e+06</td>\n",
       "      <td>2.379681e+08</td>\n",
       "      <td>No packaging signal</td>\n",
       "    </tr>\n",
       "    <tr>\n",
       "      <th>Well9</th>\n",
       "      <td>31.159003</td>\n",
       "      <td>15.035318</td>\n",
       "      <td>9.570777e+06</td>\n",
       "      <td>4.618238e+06</td>\n",
       "      <td>1.483214e+07</td>\n",
       "      <td>No exporter</td>\n",
       "    </tr>\n",
       "    <tr>\n",
       "      <th>Well11</th>\n",
       "      <td>52.597185</td>\n",
       "      <td>6.720080</td>\n",
       "      <td>1.615571e+07</td>\n",
       "      <td>2.064135e+06</td>\n",
       "      <td>1.615571e+07</td>\n",
       "      <td>No exporter</td>\n",
       "    </tr>\n",
       "  </tbody>\n",
       "</table>\n",
       "</div>"
      ],
      "text/plain": [
       "             mean SQ        std SQ  RNA molecules  RNA molecules STD  RNA molecules censored                               label\n",
       "Sample                                                                                                                          \n",
       "Well7   75178.828547  10298.581381   2.309188e+10       3.163305e+09            2.309188e+10  Both exporter and packaging signal\n",
       "Well8     774.738379     31.992493   2.379681e+08       9.826791e+06            2.379681e+08                 No packaging signal\n",
       "Well9      31.159003     15.035318   9.570777e+06       4.618238e+06            1.483214e+07                         No exporter\n",
       "Well11     52.597185      6.720080   1.615571e+07       2.064135e+06            1.615571e+07                         No exporter"
      ]
     },
     "execution_count": 35,
     "metadata": {},
     "output_type": "execute_result"
    }
   ],
   "source": [
    "# Get data of summary across replicates of selected wells\n",
    "summary_subset = summary.loc[columns_ordered]\n",
    "\n",
    "# Set label\n",
    "summary_subset[\"label\"] = [column_to_label[col] for col in columns_ordered]\n",
    "\n",
    "print(summary_subset.shape)\n",
    "summary_subset"
   ]
  },
  {
   "cell_type": "code",
   "execution_count": 36,
   "metadata": {
    "Collapsed": "false"
   },
   "outputs": [
    {
     "name": "stdout",
     "output_type": "stream",
     "text": [
      "(12, 19)\n"
     ]
    },
    {
     "data": {
      "text/html": [
       "<div>\n",
       "<style scoped>\n",
       "    .dataframe tbody tr th:only-of-type {\n",
       "        vertical-align: middle;\n",
       "    }\n",
       "\n",
       "    .dataframe tbody tr th {\n",
       "        vertical-align: top;\n",
       "    }\n",
       "\n",
       "    .dataframe thead th {\n",
       "        text-align: right;\n",
       "    }\n",
       "</style>\n",
       "<table border=\"1\" class=\"dataframe\">\n",
       "  <thead>\n",
       "    <tr style=\"text-align: right;\">\n",
       "      <th></th>\n",
       "      <th>Well</th>\n",
       "      <th>Fluor</th>\n",
       "      <th>Target</th>\n",
       "      <th>Content</th>\n",
       "      <th>Sample</th>\n",
       "      <th>Biological Set Name</th>\n",
       "      <th>Cq</th>\n",
       "      <th>Cq Mean</th>\n",
       "      <th>Cq Std. Dev</th>\n",
       "      <th>Starting Quantity (SQ)</th>\n",
       "      <th>Log Starting Quantity</th>\n",
       "      <th>SQ Mean</th>\n",
       "      <th>SQ Std. Dev</th>\n",
       "      <th>Set Point</th>\n",
       "      <th>Well Note</th>\n",
       "      <th>RNA molecules</th>\n",
       "      <th>RNA molecules Mean</th>\n",
       "      <th>RNA molecules STD</th>\n",
       "      <th>RNA molecules censored</th>\n",
       "    </tr>\n",
       "  </thead>\n",
       "  <tbody>\n",
       "    <tr>\n",
       "      <th>6</th>\n",
       "      <td>A07</td>\n",
       "      <td>SYBR</td>\n",
       "      <td>mCherry</td>\n",
       "      <td>Unkn-07</td>\n",
       "      <td>Well7</td>\n",
       "      <td>NaN</td>\n",
       "      <td>22.465453</td>\n",
       "      <td>22.195164</td>\n",
       "      <td>0.234618</td>\n",
       "      <td>63321.895610</td>\n",
       "      <td>4.801554</td>\n",
       "      <td>75178.828550</td>\n",
       "      <td>10298.581380</td>\n",
       "      <td>67</td>\n",
       "      <td>NaN</td>\n",
       "      <td>1.944991e+10</td>\n",
       "      <td>2.309188e+10</td>\n",
       "      <td>3.163305e+09</td>\n",
       "      <td>1.944991e+10</td>\n",
       "    </tr>\n",
       "    <tr>\n",
       "      <th>7</th>\n",
       "      <td>A08</td>\n",
       "      <td>SYBR</td>\n",
       "      <td>mCherry</td>\n",
       "      <td>Unkn-08</td>\n",
       "      <td>Well8</td>\n",
       "      <td>NaN</td>\n",
       "      <td>29.723983</td>\n",
       "      <td>29.679921</td>\n",
       "      <td>0.066902</td>\n",
       "      <td>753.755273</td>\n",
       "      <td>2.877230</td>\n",
       "      <td>774.738379</td>\n",
       "      <td>31.992492</td>\n",
       "      <td>67</td>\n",
       "      <td>NaN</td>\n",
       "      <td>2.315229e+08</td>\n",
       "      <td>2.379681e+08</td>\n",
       "      <td>9.826791e+06</td>\n",
       "      <td>2.315229e+08</td>\n",
       "    </tr>\n",
       "    <tr>\n",
       "      <th>8</th>\n",
       "      <td>A09</td>\n",
       "      <td>SYBR</td>\n",
       "      <td>mCherry</td>\n",
       "      <td>Unkn-09</td>\n",
       "      <td>Well9</td>\n",
       "      <td>NaN</td>\n",
       "      <td>34.545439</td>\n",
       "      <td>35.119495</td>\n",
       "      <td>1.002840</td>\n",
       "      <td>39.719561</td>\n",
       "      <td>1.599004</td>\n",
       "      <td>31.159003</td>\n",
       "      <td>15.035318</td>\n",
       "      <td>67</td>\n",
       "      <td>NaN</td>\n",
       "      <td>1.220023e+07</td>\n",
       "      <td>9.570777e+06</td>\n",
       "      <td>4.618238e+06</td>\n",
       "      <td>1.483214e+07</td>\n",
       "    </tr>\n",
       "    <tr>\n",
       "      <th>10</th>\n",
       "      <td>A11</td>\n",
       "      <td>SYBR</td>\n",
       "      <td>mCherry</td>\n",
       "      <td>Unkn-11</td>\n",
       "      <td>Well11</td>\n",
       "      <td>NaN</td>\n",
       "      <td>34.133922</td>\n",
       "      <td>34.094151</td>\n",
       "      <td>0.206149</td>\n",
       "      <td>51.062558</td>\n",
       "      <td>1.708103</td>\n",
       "      <td>52.597185</td>\n",
       "      <td>6.720080</td>\n",
       "      <td>67</td>\n",
       "      <td>NaN</td>\n",
       "      <td>1.568434e+07</td>\n",
       "      <td>1.615571e+07</td>\n",
       "      <td>2.064135e+06</td>\n",
       "      <td>1.568434e+07</td>\n",
       "    </tr>\n",
       "    <tr>\n",
       "      <th>18</th>\n",
       "      <td>B07</td>\n",
       "      <td>SYBR</td>\n",
       "      <td>mCherry</td>\n",
       "      <td>Unkn-07</td>\n",
       "      <td>Well7</td>\n",
       "      <td>NaN</td>\n",
       "      <td>22.044107</td>\n",
       "      <td>22.195164</td>\n",
       "      <td>0.234618</td>\n",
       "      <td>81895.098590</td>\n",
       "      <td>4.913258</td>\n",
       "      <td>75178.828550</td>\n",
       "      <td>10298.581380</td>\n",
       "      <td>67</td>\n",
       "      <td>NaN</td>\n",
       "      <td>2.515484e+10</td>\n",
       "      <td>2.309188e+10</td>\n",
       "      <td>3.163305e+09</td>\n",
       "      <td>2.515484e+10</td>\n",
       "    </tr>\n",
       "  </tbody>\n",
       "</table>\n",
       "</div>"
      ],
      "text/plain": [
       "   Well Fluor   Target  Content  Sample Biological Set Name         Cq    Cq Mean  Cq Std. Dev  Starting Quantity (SQ)  Log Starting Quantity       SQ Mean   SQ Std. Dev  Set Point  Well Note  RNA molecules  RNA molecules Mean  RNA molecules STD  RNA molecules censored\n",
       "6   A07  SYBR  mCherry  Unkn-07   Well7                 NaN  22.465453  22.195164     0.234618            63321.895610               4.801554  75178.828550  10298.581380         67        NaN   1.944991e+10        2.309188e+10       3.163305e+09            1.944991e+10\n",
       "7   A08  SYBR  mCherry  Unkn-08   Well8                 NaN  29.723983  29.679921     0.066902              753.755273               2.877230    774.738379     31.992492         67        NaN   2.315229e+08        2.379681e+08       9.826791e+06            2.315229e+08\n",
       "8   A09  SYBR  mCherry  Unkn-09   Well9                 NaN  34.545439  35.119495     1.002840               39.719561               1.599004     31.159003     15.035318         67        NaN   1.220023e+07        9.570777e+06       4.618238e+06            1.483214e+07\n",
       "10  A11  SYBR  mCherry  Unkn-11  Well11                 NaN  34.133922  34.094151     0.206149               51.062558               1.708103     52.597185      6.720080         67        NaN   1.568434e+07        1.615571e+07       2.064135e+06            1.568434e+07\n",
       "18  B07  SYBR  mCherry  Unkn-07   Well7                 NaN  22.044107  22.195164     0.234618            81895.098590               4.913258  75178.828550  10298.581380         67        NaN   2.515484e+10        2.309188e+10       3.163305e+09            2.515484e+10"
      ]
     },
     "execution_count": 36,
     "metadata": {},
     "output_type": "execute_result"
    }
   ],
   "source": [
    "# Get data of replicates of selected wells\n",
    "selector = cq_raw[\"Sample\"].isin(columns_ordered)\n",
    "data = cq_raw.loc[selector]\n",
    "\n",
    "print(data.shape)\n",
    "data.head()"
   ]
  },
  {
   "cell_type": "code",
   "execution_count": 37,
   "metadata": {
    "Collapsed": "false"
   },
   "outputs": [
    {
     "name": "stderr",
     "output_type": "stream",
     "text": [
      "/scratch/resources/anaconda3/envs/RNA_export_magic/lib/python3.7/site-packages/ipykernel_launcher.py:21: SettingWithCopyWarning: \n",
      "A value is trying to be set on a copy of a slice from a DataFrame.\n",
      "Try using .loc[row_indexer,col_indexer] = value instead\n",
      "\n",
      "See the caveats in the documentation: https://pandas.pydata.org/pandas-docs/stable/user_guide/indexing.html#returning-a-view-versus-a-copy\n"
     ]
    },
    {
     "data": {
      "image/png": "[encoded data removed]",
      "text/plain": [
       "<Figure size 375x240 with 1 Axes>"
      ]
     },
     "metadata": {},
     "output_type": "display_data"
    }
   ],
   "source": [
    "# Make simple swarm plot\n",
    "\n",
    "field = \"RNA molecules censored\"\n",
    "\n",
    "fig, ax = plt.subplots(1, 1, figsize=figsize)\n",
    "\n",
    "# Set axis scaling - must be done first so swarm plot dots do not overlap\n",
    "ax.set_yscale(\"log\")\n",
    "ax.set_ylim(1e7, 1e11)\n",
    "\n",
    "# Plot summary\n",
    "\n",
    "y = summary_subset[field]\n",
    "x = np.arange(len(y))\n",
    "\n",
    "sns.scatterplot(x=x, y=y, ax=ax, marker=\"_\", s=150, color=\"r\")\n",
    "\n",
    "# Plot individual points as swarm (sort columns appropriately)\n",
    "\n",
    "sample_to_rank = dict(zip(columns_ordered, range(len(columns_ordered))))\n",
    "data[\"rank\"] = [sample_to_rank[s] for s in data[\"Sample\"]]\n",
    "data = data.sort_values(by=\"rank\")\n",
    "\n",
    "y_swarm = data[field]\n",
    "x_swarm = np.array([x[rank] for rank in data[\"rank\"]])\n",
    "\n",
    "x_offset = np.array([-0.15, 0, 0.15])  # jitter offsets to avoid operlaps\n",
    "x_swarm_offset = x_swarm + np.tile(x_offset, int(len(x_swarm)/len(x_offset)))\n",
    "\n",
    "ax.scatter(x_swarm_offset, y_swarm, color=\"#252525\", s=2, zorder=10)\n",
    "\n",
    "ax.set_xlim(min(x)-0.5, max(x)+0.5)\n",
    "\n",
    "ax.set_ylabel(\"Reporter RNA\\nmolecules in\\nsupernatant\", labelpad=6)\n",
    "\n",
    "locmaj = mpl.ticker.LogLocator(base=10,numticks=12) \n",
    "ax.yaxis.set_major_locator(locmaj)\n",
    "\n",
    "locmin = mpl.ticker.LogLocator(base=10.0,subs=(0.2,0.4,0.6,0.8),numticks=12)\n",
    "ax.yaxis.set_minor_locator(locmin)\n",
    "ax.yaxis.set_minor_formatter(mpl.ticker.NullFormatter())\n",
    "\n",
    "ax.set_xticks([0, 1, 2, 3])\n",
    "xticklabels = [\"+\\n+\", \"+\\n-\", \"-\\n+\", \"-\\n-\"]\n",
    "ax.set_xticklabels(xticklabels)\n",
    "\n",
    "ax.text(0, ypos_text_exporter, \"Exporter\", transform=ax.transAxes, ha=\"right\", va=\"top\", size=FONTSIZE)\n",
    "ax.text(0, ypos_text_export_tag, \"Export tag (MS2)\", transform=ax.transAxes, ha=\"right\", va=\"top\", size=FONTSIZE)\n",
    "\n",
    "# Draw line indicating limit of detection\n",
    "ax.axhline(LOD, ls=\"--\", color=\"k\", lw=1)\n",
    "\n",
    "ax.tick_params(axis='x', which='both', bottom=False)  # remove xticks\n",
    "sns.despine()\n",
    "\n",
    "save_figure(fig, \"line_swarm_EPN24MCP\")"
   ]
  },
  {
   "cell_type": "code",
   "execution_count": 38,
   "metadata": {
    "Collapsed": "false"
   },
   "outputs": [
    {
     "name": "stdout",
     "output_type": "stream",
     "text": [
      "Export efficiency for target RNA: 1556.881077405205\n",
      "Export efficiency for non-target RNA: 14.729654904089479\n",
      "Export specificity ratio: 97.03769759958865\n"
     ]
    }
   ],
   "source": [
    "# Report statistics\n",
    "print(\"Export efficiency for target RNA:\", summary_subset.loc[\"Well7\", \"RNA molecules censored\"] / summary_subset.loc[\"Well9\", \"RNA molecules censored\"])\n",
    "print(\"Export efficiency for non-target RNA:\", summary_subset.loc[\"Well8\", \"RNA molecules censored\"] / summary_subset.loc[\"Well11\", \"RNA molecules censored\"])\n",
    "print(\"Export specificity ratio:\", summary_subset.loc[\"Well7\", \"RNA molecules censored\"] / summary_subset.loc[\"Well8\", \"RNA molecules censored\"])"
   ]
  },
  {
   "cell_type": "code",
   "execution_count": null,
   "metadata": {
    "Collapsed": "false"
   },
   "outputs": [],
   "source": []
  }
 ],
 "metadata": {
  "kernelspec": {
   "display_name": "RNA_export_magic",
   "language": "python",
   "name": "rna_export_magic"
  },
  "language_info": {
   "codemirror_mode": {
    "name": "ipython",
    "version": 3
   },
   "file_extension": ".py",
   "mimetype": "text/x-python",
   "name": "python",
   "nbconvert_exporter": "python",
   "pygments_lexer": "ipython3",
   "version": "3.7.7"
  }
 },
 "nbformat": 4,
 "nbformat_minor": 4
}
