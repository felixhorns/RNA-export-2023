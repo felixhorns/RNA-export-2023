{
 "cells": [
  {
   "cell_type": "markdown",
   "metadata": {
    "Collapsed": "false"
   },
   "source": [
    "# Determine rate of RNA export by Gag-MCP"
   ]
  },
  {
   "cell_type": "markdown",
   "metadata": {
    "Collapsed": "false",
    "toc-hr-collapsed": true
   },
   "source": [
    "# Introduction"
   ]
  },
  {
   "cell_type": "markdown",
   "metadata": {
    "Collapsed": "false"
   },
   "source": [
    "## Imports"
   ]
  },
  {
   "cell_type": "code",
   "execution_count": 1,
   "metadata": {
    "Collapsed": "false"
   },
   "outputs": [],
   "source": [
    "import sys\n",
    "import os\n",
    "import time\n",
    "\n",
    "import numpy as np\n",
    "import scipy\n",
    "import pandas as pd\n",
    "\n",
    "%matplotlib inline\n",
    "from matplotlib import pyplot as plt\n",
    "import matplotlib as mpl\n",
    "import seaborn as sns"
   ]
  },
  {
   "cell_type": "markdown",
   "metadata": {
    "Collapsed": "false"
   },
   "source": [
    "## Set output parameters"
   ]
  },
  {
   "cell_type": "code",
   "execution_count": 2,
   "metadata": {
    "Collapsed": "false"
   },
   "outputs": [],
   "source": [
    "# Set pandas display options\n",
    "pd.set_option('display.max_rows', 30)\n",
    "pd.set_option('display.max_columns', 100)\n",
    "pd.set_option('display.width', 1000)\n",
    "\n",
    "# Set plot display options\n",
    "FONTSIZE = 8  # universal fontsize\n",
    "params = {\n",
    "    'font.size': FONTSIZE,\n",
    "    'axes.titlesize': FONTSIZE,\n",
    "    'axes.labelsize': FONTSIZE,\n",
    "    'legend.fontsize': FONTSIZE,\n",
    "    'xtick.labelsize': FONTSIZE,\n",
    "    'ytick.labelsize': FONTSIZE,\n",
    "    'font.family': \"Helvetica\",\n",
    "    'mathtext.fontset': 'custom',\n",
    "    'pdf.fonttype': 42,\n",
    "    'ps.fonttype': 42,\n",
    "    'figure.dpi': 300\n",
    "   }\n",
    "mpl.rcParams.update(params)\n",
    "sns.set_style(\"ticks\", {'axes.grid' : False})\n",
    "\n",
    "# Set plot output options\n",
    "output_dir = \"outs/qPCR_export_rate\"\n",
    "output_suffix = \"\"\n",
    "output_formats = [\".png\", \".pdf\"]\n",
    "\n",
    "mpl.rc('savefig', dpi=300)\n",
    "\n",
    "# Define convenience function for saving figures\n",
    "\n",
    "savefig = True\n",
    "savefig_args = {\"dpi\": 300, \"bbox_inches\": \"tight\", \"pad_inches\": 0.1}\n",
    "\n",
    "def save_figure(fig, name, output_dir=output_dir, output_suffix=output_suffix, output_formats=output_formats, savefig_args=savefig_args):\n",
    "    if savefig:\n",
    "        for output_format in output_formats:\n",
    "            fig.savefig(output_dir + \"/\" + name + output_suffix + output_format, **savefig_args)\n",
    "    return None"
   ]
  },
  {
   "cell_type": "code",
   "execution_count": 3,
   "metadata": {
    "Collapsed": "false"
   },
   "outputs": [
    {
     "data": {
      "text/plain": [
       "{'font.size': 8.0,\n",
       " 'axes.labelsize': 8.0,\n",
       " 'axes.titlesize': 8.0,\n",
       " 'xtick.labelsize': 8.0,\n",
       " 'ytick.labelsize': 8.0,\n",
       " 'legend.fontsize': 8.0,\n",
       " 'legend.title_fontsize': None,\n",
       " 'axes.linewidth': 0.8,\n",
       " 'grid.linewidth': 0.8,\n",
       " 'lines.linewidth': 1.5,\n",
       " 'lines.markersize': 6.0,\n",
       " 'patch.linewidth': 1.0,\n",
       " 'xtick.major.width': 0.8,\n",
       " 'ytick.major.width': 0.8,\n",
       " 'xtick.minor.width': 0.6,\n",
       " 'ytick.minor.width': 0.6,\n",
       " 'xtick.major.size': 3.5,\n",
       " 'ytick.major.size': 3.5,\n",
       " 'xtick.minor.size': 2.0,\n",
       " 'ytick.minor.size': 2.0}"
      ]
     },
     "execution_count": 3,
     "metadata": {},
     "output_type": "execute_result"
    }
   ],
   "source": [
    "# Report plot parameters\n",
    "sns.plotting_context()"
   ]
  },
  {
   "cell_type": "markdown",
   "metadata": {
    "Collapsed": "false",
    "toc-hr-collapsed": true
   },
   "source": [
    "# Load data"
   ]
  },
  {
   "cell_type": "markdown",
   "metadata": {
    "Collapsed": "false"
   },
   "source": [
    "## Load qPCR data"
   ]
  },
  {
   "cell_type": "code",
   "execution_count": 4,
   "metadata": {
    "Collapsed": "false"
   },
   "outputs": [
    {
     "name": "stdout",
     "output_type": "stream",
     "text": [
      "(7, 20)\n"
     ]
    },
    {
     "data": {
      "text/html": [
       "<div>\n",
       "<style scoped>\n",
       "    .dataframe tbody tr th:only-of-type {\n",
       "        vertical-align: middle;\n",
       "    }\n",
       "\n",
       "    .dataframe tbody tr th {\n",
       "        vertical-align: top;\n",
       "    }\n",
       "\n",
       "    .dataframe thead th {\n",
       "        text-align: right;\n",
       "    }\n",
       "</style>\n",
       "<table border=\"1\" class=\"dataframe\">\n",
       "  <thead>\n",
       "    <tr style=\"text-align: right;\">\n",
       "      <th></th>\n",
       "      <th>Well</th>\n",
       "      <th>Content</th>\n",
       "      <th>Sample</th>\n",
       "      <th>Transfected</th>\n",
       "      <th>Time</th>\n",
       "      <th>color</th>\n",
       "      <th>Cq</th>\n",
       "      <th>Cq Mean</th>\n",
       "      <th>Cq Std. Dev</th>\n",
       "      <th>Starting Quantity (SQ)</th>\n",
       "      <th>Log Starting Quantity</th>\n",
       "      <th>SQ Mean</th>\n",
       "      <th>SQ Std. Dev</th>\n",
       "      <th>num_live_cells</th>\n",
       "      <th>cells_per_mL</th>\n",
       "      <th>percent_live</th>\n",
       "      <th>live_cells_per_mL</th>\n",
       "      <th>time_actual</th>\n",
       "      <th>legend_label</th>\n",
       "      <th>SQ_Mean_censored</th>\n",
       "    </tr>\n",
       "    <tr>\n",
       "      <th>id</th>\n",
       "      <th></th>\n",
       "      <th></th>\n",
       "      <th></th>\n",
       "      <th></th>\n",
       "      <th></th>\n",
       "      <th></th>\n",
       "      <th></th>\n",
       "      <th></th>\n",
       "      <th></th>\n",
       "      <th></th>\n",
       "      <th></th>\n",
       "      <th></th>\n",
       "      <th></th>\n",
       "      <th></th>\n",
       "      <th></th>\n",
       "      <th></th>\n",
       "      <th></th>\n",
       "      <th></th>\n",
       "      <th></th>\n",
       "      <th></th>\n",
       "    </tr>\n",
       "  </thead>\n",
       "  <tbody>\n",
       "    <tr>\n",
       "      <th>GagMCP_mCh-MSx8_0h</th>\n",
       "      <td>A01</td>\n",
       "      <td>Unkn-01</td>\n",
       "      <td>Well 1</td>\n",
       "      <td>GagMCP_mCh-MS2x8</td>\n",
       "      <td>0</td>\n",
       "      <td>#756bb1</td>\n",
       "      <td>29.326022</td>\n",
       "      <td>29.264014</td>\n",
       "      <td>0.167171</td>\n",
       "      <td>1.278475e+04</td>\n",
       "      <td>4.106692</td>\n",
       "      <td>1.340740e+04</td>\n",
       "      <td>1593.949590</td>\n",
       "      <td>924000</td>\n",
       "      <td>4770000.0</td>\n",
       "      <td>97.0</td>\n",
       "      <td>4620000.0</td>\n",
       "      <td>0.00</td>\n",
       "      <td>Gag-MCP</td>\n",
       "      <td>1.891543e+04</td>\n",
       "    </tr>\n",
       "    <tr>\n",
       "      <th>GagMCP_mCh-MSx8_18h</th>\n",
       "      <td>A02</td>\n",
       "      <td>Unkn-02</td>\n",
       "      <td>Well 2</td>\n",
       "      <td>GagMCP_mCh-MS2x8</td>\n",
       "      <td>18</td>\n",
       "      <td>#756bb1</td>\n",
       "      <td>21.052686</td>\n",
       "      <td>21.051167</td>\n",
       "      <td>0.122507</td>\n",
       "      <td>3.964571e+06</td>\n",
       "      <td>6.598196</td>\n",
       "      <td>3.978308e+06</td>\n",
       "      <td>337914.409200</td>\n",
       "      <td>1100000</td>\n",
       "      <td>5670000.0</td>\n",
       "      <td>97.0</td>\n",
       "      <td>5500000.0</td>\n",
       "      <td>18.16</td>\n",
       "      <td>Gag-MCP</td>\n",
       "      <td>3.978308e+06</td>\n",
       "    </tr>\n",
       "    <tr>\n",
       "      <th>GagMCP_mCh-MSx8_24h</th>\n",
       "      <td>A03</td>\n",
       "      <td>Unkn-03</td>\n",
       "      <td>Well 3</td>\n",
       "      <td>GagMCP_mCh-MS2x8</td>\n",
       "      <td>24</td>\n",
       "      <td>#756bb1</td>\n",
       "      <td>20.654939</td>\n",
       "      <td>20.538907</td>\n",
       "      <td>0.131136</td>\n",
       "      <td>5.223690e+06</td>\n",
       "      <td>6.717977</td>\n",
       "      <td>5.677105e+06</td>\n",
       "      <td>522393.330200</td>\n",
       "      <td>1340000</td>\n",
       "      <td>6920000.0</td>\n",
       "      <td>97.0</td>\n",
       "      <td>6700000.0</td>\n",
       "      <td>24.00</td>\n",
       "      <td>Gag-MCP</td>\n",
       "      <td>5.677105e+06</td>\n",
       "    </tr>\n",
       "    <tr>\n",
       "      <th>mCh-MSx8_0h</th>\n",
       "      <td>A05</td>\n",
       "      <td>Unkn-05</td>\n",
       "      <td>Well 5</td>\n",
       "      <td>mCh-MS2x8</td>\n",
       "      <td>0</td>\n",
       "      <td>#969696</td>\n",
       "      <td>33.900609</td>\n",
       "      <td>34.941332</td>\n",
       "      <td>1.210660</td>\n",
       "      <td>5.358723e+02</td>\n",
       "      <td>2.729061</td>\n",
       "      <td>3.191550e+02</td>\n",
       "      <td>216.119517</td>\n",
       "      <td>1032000</td>\n",
       "      <td>5270000.0</td>\n",
       "      <td>98.0</td>\n",
       "      <td>5160000.0</td>\n",
       "      <td>0.00</td>\n",
       "      <td>No Exporter</td>\n",
       "      <td>1.891543e+04</td>\n",
       "    </tr>\n",
       "    <tr>\n",
       "      <th>mCh-MSx8_18h</th>\n",
       "      <td>A06</td>\n",
       "      <td>Unkn-06</td>\n",
       "      <td>Well 6</td>\n",
       "      <td>mCh-MS2x8</td>\n",
       "      <td>18</td>\n",
       "      <td>#969696</td>\n",
       "      <td>28.480392</td>\n",
       "      <td>30.711770</td>\n",
       "      <td>2.188982</td>\n",
       "      <td>2.298013e+04</td>\n",
       "      <td>4.361352</td>\n",
       "      <td>9.563056e+03</td>\n",
       "      <td>11750.362920</td>\n",
       "      <td>1300000</td>\n",
       "      <td>6710000.0</td>\n",
       "      <td>97.0</td>\n",
       "      <td>6500000.0</td>\n",
       "      <td>18.16</td>\n",
       "      <td>No Exporter</td>\n",
       "      <td>1.891543e+04</td>\n",
       "    </tr>\n",
       "  </tbody>\n",
       "</table>\n",
       "</div>"
      ],
      "text/plain": [
       "                    Well  Content  Sample       Transfected  Time    color         Cq    Cq Mean  Cq Std. Dev  Starting Quantity (SQ)  Log Starting Quantity       SQ Mean    SQ Std. Dev  num_live_cells  cells_per_mL  percent_live  live_cells_per_mL  time_actual legend_label  SQ_Mean_censored\n",
       "id                                                                                                                                                                                                                                                                                                  \n",
       "GagMCP_mCh-MSx8_0h   A01  Unkn-01  Well 1  GagMCP_mCh-MS2x8     0  #756bb1  29.326022  29.264014     0.167171            1.278475e+04               4.106692  1.340740e+04    1593.949590          924000     4770000.0          97.0          4620000.0         0.00      Gag-MCP      1.891543e+04\n",
       "GagMCP_mCh-MSx8_18h  A02  Unkn-02  Well 2  GagMCP_mCh-MS2x8    18  #756bb1  21.052686  21.051167     0.122507            3.964571e+06               6.598196  3.978308e+06  337914.409200         1100000     5670000.0          97.0          5500000.0        18.16      Gag-MCP      3.978308e+06\n",
       "GagMCP_mCh-MSx8_24h  A03  Unkn-03  Well 3  GagMCP_mCh-MS2x8    24  #756bb1  20.654939  20.538907     0.131136            5.223690e+06               6.717977  5.677105e+06  522393.330200         1340000     6920000.0          97.0          6700000.0        24.00      Gag-MCP      5.677105e+06\n",
       "mCh-MSx8_0h          A05  Unkn-05  Well 5         mCh-MS2x8     0  #969696  33.900609  34.941332     1.210660            5.358723e+02               2.729061  3.191550e+02     216.119517         1032000     5270000.0          98.0          5160000.0         0.00  No Exporter      1.891543e+04\n",
       "mCh-MSx8_18h         A06  Unkn-06  Well 6         mCh-MS2x8    18  #969696  28.480392  30.711770     2.188982            2.298013e+04               4.361352  9.563056e+03   11750.362920         1300000     6710000.0          97.0          6500000.0        18.16  No Exporter      1.891543e+04"
      ]
     },
     "execution_count": 4,
     "metadata": {},
     "output_type": "execute_result"
    }
   ],
   "source": [
    "# Summary of replicates\n",
    "\n",
    "infile = \"../preprocessed_data/qPCR_data/qPCR_export_rate_Cq_summary.csv\"\n",
    "\n",
    "cq_summary = pd.read_csv(infile, index_col=\"id\")\n",
    "\n",
    "print(cq_summary.shape)\n",
    "cq_summary.head()"
   ]
  },
  {
   "cell_type": "code",
   "execution_count": 5,
   "metadata": {
    "Collapsed": "false"
   },
   "outputs": [
    {
     "name": "stdout",
     "output_type": "stream",
     "text": [
      "(45, 13)\n"
     ]
    },
    {
     "data": {
      "text/html": [
       "<div>\n",
       "<style scoped>\n",
       "    .dataframe tbody tr th:only-of-type {\n",
       "        vertical-align: middle;\n",
       "    }\n",
       "\n",
       "    .dataframe tbody tr th {\n",
       "        vertical-align: top;\n",
       "    }\n",
       "\n",
       "    .dataframe thead th {\n",
       "        text-align: right;\n",
       "    }\n",
       "</style>\n",
       "<table border=\"1\" class=\"dataframe\">\n",
       "  <thead>\n",
       "    <tr style=\"text-align: right;\">\n",
       "      <th></th>\n",
       "      <th>Well</th>\n",
       "      <th>Content</th>\n",
       "      <th>Sample</th>\n",
       "      <th>Transfected</th>\n",
       "      <th>Time</th>\n",
       "      <th>color</th>\n",
       "      <th>Cq</th>\n",
       "      <th>Cq Mean</th>\n",
       "      <th>Cq Std. Dev</th>\n",
       "      <th>Starting Quantity (SQ)</th>\n",
       "      <th>Log Starting Quantity</th>\n",
       "      <th>SQ Mean</th>\n",
       "      <th>SQ Std. Dev</th>\n",
       "    </tr>\n",
       "    <tr>\n",
       "      <th>id</th>\n",
       "      <th></th>\n",
       "      <th></th>\n",
       "      <th></th>\n",
       "      <th></th>\n",
       "      <th></th>\n",
       "      <th></th>\n",
       "      <th></th>\n",
       "      <th></th>\n",
       "      <th></th>\n",
       "      <th></th>\n",
       "      <th></th>\n",
       "      <th></th>\n",
       "      <th></th>\n",
       "    </tr>\n",
       "  </thead>\n",
       "  <tbody>\n",
       "    <tr>\n",
       "      <th>GagMCP_mCh-MSx8_0h</th>\n",
       "      <td>A01</td>\n",
       "      <td>Unkn-01</td>\n",
       "      <td>Well 1</td>\n",
       "      <td>GagMCP_mCh-MS2x8</td>\n",
       "      <td>0.0</td>\n",
       "      <td>#756bb1</td>\n",
       "      <td>29.326022</td>\n",
       "      <td>29.264014</td>\n",
       "      <td>0.167171</td>\n",
       "      <td>1.278475e+04</td>\n",
       "      <td>4.106692</td>\n",
       "      <td>1.340740e+04</td>\n",
       "      <td>1593.949590</td>\n",
       "    </tr>\n",
       "    <tr>\n",
       "      <th>GagMCP_mCh-MSx8_18h</th>\n",
       "      <td>A02</td>\n",
       "      <td>Unkn-02</td>\n",
       "      <td>Well 2</td>\n",
       "      <td>GagMCP_mCh-MS2x8</td>\n",
       "      <td>18.0</td>\n",
       "      <td>#756bb1</td>\n",
       "      <td>21.052686</td>\n",
       "      <td>21.051167</td>\n",
       "      <td>0.122507</td>\n",
       "      <td>3.964571e+06</td>\n",
       "      <td>6.598196</td>\n",
       "      <td>3.978308e+06</td>\n",
       "      <td>337914.409200</td>\n",
       "    </tr>\n",
       "    <tr>\n",
       "      <th>GagMCP_mCh-MSx8_24h</th>\n",
       "      <td>A03</td>\n",
       "      <td>Unkn-03</td>\n",
       "      <td>Well 3</td>\n",
       "      <td>GagMCP_mCh-MS2x8</td>\n",
       "      <td>24.0</td>\n",
       "      <td>#756bb1</td>\n",
       "      <td>20.654939</td>\n",
       "      <td>20.538907</td>\n",
       "      <td>0.131136</td>\n",
       "      <td>5.223690e+06</td>\n",
       "      <td>6.717977</td>\n",
       "      <td>5.677105e+06</td>\n",
       "      <td>522393.330200</td>\n",
       "    </tr>\n",
       "    <tr>\n",
       "      <th>mCh-MSx8_0h</th>\n",
       "      <td>A05</td>\n",
       "      <td>Unkn-05</td>\n",
       "      <td>Well 5</td>\n",
       "      <td>mCh-MS2x8</td>\n",
       "      <td>0.0</td>\n",
       "      <td>#969696</td>\n",
       "      <td>33.900609</td>\n",
       "      <td>34.941332</td>\n",
       "      <td>1.210660</td>\n",
       "      <td>5.358723e+02</td>\n",
       "      <td>2.729061</td>\n",
       "      <td>3.191550e+02</td>\n",
       "      <td>216.119517</td>\n",
       "    </tr>\n",
       "    <tr>\n",
       "      <th>mCh-MSx8_18h</th>\n",
       "      <td>A06</td>\n",
       "      <td>Unkn-06</td>\n",
       "      <td>Well 6</td>\n",
       "      <td>mCh-MS2x8</td>\n",
       "      <td>18.0</td>\n",
       "      <td>#969696</td>\n",
       "      <td>28.480392</td>\n",
       "      <td>30.711770</td>\n",
       "      <td>2.188982</td>\n",
       "      <td>2.298013e+04</td>\n",
       "      <td>4.361352</td>\n",
       "      <td>9.563056e+03</td>\n",
       "      <td>11750.362920</td>\n",
       "    </tr>\n",
       "  </tbody>\n",
       "</table>\n",
       "</div>"
      ],
      "text/plain": [
       "                    Well  Content  Sample       Transfected  Time    color         Cq    Cq Mean  Cq Std. Dev  Starting Quantity (SQ)  Log Starting Quantity       SQ Mean    SQ Std. Dev\n",
       "id                                                                                                                                                                                       \n",
       "GagMCP_mCh-MSx8_0h   A01  Unkn-01  Well 1  GagMCP_mCh-MS2x8   0.0  #756bb1  29.326022  29.264014     0.167171            1.278475e+04               4.106692  1.340740e+04    1593.949590\n",
       "GagMCP_mCh-MSx8_18h  A02  Unkn-02  Well 2  GagMCP_mCh-MS2x8  18.0  #756bb1  21.052686  21.051167     0.122507            3.964571e+06               6.598196  3.978308e+06  337914.409200\n",
       "GagMCP_mCh-MSx8_24h  A03  Unkn-03  Well 3  GagMCP_mCh-MS2x8  24.0  #756bb1  20.654939  20.538907     0.131136            5.223690e+06               6.717977  5.677105e+06  522393.330200\n",
       "mCh-MSx8_0h          A05  Unkn-05  Well 5         mCh-MS2x8   0.0  #969696  33.900609  34.941332     1.210660            5.358723e+02               2.729061  3.191550e+02     216.119517\n",
       "mCh-MSx8_18h         A06  Unkn-06  Well 6         mCh-MS2x8  18.0  #969696  28.480392  30.711770     2.188982            2.298013e+04               4.361352  9.563056e+03   11750.362920"
      ]
     },
     "execution_count": 5,
     "metadata": {},
     "output_type": "execute_result"
    }
   ],
   "source": [
    "# Replicates\n",
    "\n",
    "infile = \"../preprocessed_data/qPCR_data/qPCR_export_rate_Cq.csv\"\n",
    "\n",
    "cq_raw = pd.read_csv(infile)\n",
    "\n",
    "cq_raw = cq_raw.set_index(\"id\")\n",
    "\n",
    "print(cq_raw.shape)\n",
    "cq_raw.head()"
   ]
  },
  {
   "cell_type": "markdown",
   "metadata": {
    "Collapsed": "false"
   },
   "source": [
    "# Preprocess data"
   ]
  },
  {
   "cell_type": "markdown",
   "metadata": {
    "Collapsed": "false"
   },
   "source": [
    "## Calculate total starting molecules"
   ]
  },
  {
   "cell_type": "markdown",
   "metadata": {
    "Collapsed": "false"
   },
   "source": [
    "Note that an mRNA standard curve was used here.\n",
    "\n",
    "To explain further, to create the standard curve, we produced mRNA of mCherry by in vitro transcription, then processed it through the standard RT-qPCR pipeline, which consists of RNA extraction, DNase treatment, reverse transcription, and qPCR. Thus, the quantification of samples by qPCR against this standard curve is already\n",
    "calibrated to number of RNA molecules.\n",
    "\n",
    "Therefore, to calculate total starting molecules, we only need to calculate the dilution factors associated with processing."
   ]
  },
  {
   "cell_type": "code",
   "execution_count": 6,
   "metadata": {
    "Collapsed": "false"
   },
   "outputs": [
    {
     "name": "stdout",
     "output_type": "stream",
     "text": [
      "Fraction of supernatant sampled: 0.0003825136612021858\n"
     ]
    }
   ],
   "source": [
    "# Calculate normalization for input volume\n",
    "\n",
    "FRACTION_OF_SUPERNATANT_SAMPLED = (140/1000) * (20/60) * (10/61) * (1/20)  # Fraction of total supernatant volume that was input to qPCR\n",
    "\n",
    "print(\"Fraction of supernatant sampled:\", FRACTION_OF_SUPERNATANT_SAMPLED)"
   ]
  },
  {
   "cell_type": "code",
   "execution_count": 7,
   "metadata": {
    "Collapsed": "false"
   },
   "outputs": [],
   "source": [
    "cq_summary[\"num_molecules\"] = cq_summary[\"SQ Mean\"] * (1/FRACTION_OF_SUPERNATANT_SAMPLED)\n",
    "cq_summary[\"num_molecules_std\"] = cq_summary[\"SQ Std. Dev\"] * (1/FRACTION_OF_SUPERNATANT_SAMPLED)\n",
    "# cq_summary[\"num_molecules_censored\"] = cq_summary[\"SQ_Mean_censored\"] * (1/FRACTION_OF_SUPERNATANT_SAMPLED)\n",
    "\n",
    "cq_raw[\"num_molecules\"] = cq_raw[\"Starting Quantity (SQ)\"] * (1/FRACTION_OF_SUPERNATANT_SAMPLED)\n",
    "# cq_raw[\"num_molecules_std\"] = cq_raw[\"SQ Std. Dev\"] * (1/FRACTION_OF_SUPERNATANT_SAMPLED)"
   ]
  },
  {
   "cell_type": "markdown",
   "metadata": {
    "Collapsed": "false"
   },
   "source": [
    "## Determine lower limit of quantification (using blank)"
   ]
  },
  {
   "cell_type": "code",
   "execution_count": 8,
   "metadata": {
    "Collapsed": "false"
   },
   "outputs": [
    {
     "name": "stdout",
     "output_type": "stream",
     "text": [
      "49450345.12114286 molecules\n"
     ]
    }
   ],
   "source": [
    "DETECTION_LIMIT = cq_summary.loc[\"Blank\", \"num_molecules\"]\n",
    "\n",
    "print(DETECTION_LIMIT, \"molecules\")"
   ]
  },
  {
   "cell_type": "markdown",
   "metadata": {
    "Collapsed": "false"
   },
   "source": [
    "## Censor by lower limit of quantification"
   ]
  },
  {
   "cell_type": "code",
   "execution_count": 9,
   "metadata": {
    "Collapsed": "false"
   },
   "outputs": [],
   "source": [
    "cq_summary[\"num_molecules_censored\"] = cq_summary[\"num_molecules\"]\n",
    "cq_summary.loc[cq_summary[\"num_molecules\"] < DETECTION_LIMIT, \"num_molecules_censored\"] = DETECTION_LIMIT\n",
    "\n",
    "cq_raw[\"num_molecules_censored\"] = cq_raw[\"num_molecules\"]\n",
    "cq_raw.loc[cq_raw[\"num_molecules\"] < DETECTION_LIMIT, \"num_molecules_censored\"] = DETECTION_LIMIT"
   ]
  },
  {
   "cell_type": "markdown",
   "metadata": {
    "Collapsed": "false"
   },
   "source": [
    "## Calculate number of transfected cells"
   ]
  },
  {
   "cell_type": "code",
   "execution_count": 10,
   "metadata": {
    "Collapsed": "false"
   },
   "outputs": [],
   "source": [
    "FRACTION_CELLS_GFP_MCH_POSITIVE = 0.53  # fraction of GFP+ mCh+ cells assessed by flow cytometry\n",
    "cq_summary[\"num_live_cells_transfected\"] = cq_summary[\"num_live_cells\"] * FRACTION_CELLS_GFP_MCH_POSITIVE"
   ]
  },
  {
   "cell_type": "markdown",
   "metadata": {
    "Collapsed": "false"
   },
   "source": [
    "# Fit model to extract rate"
   ]
  },
  {
   "cell_type": "code",
   "execution_count": 11,
   "metadata": {
    "Collapsed": "false"
   },
   "outputs": [
    {
     "name": "stdout",
     "output_type": "stream",
     "text": [
      "Slope: 606811418.2462124\n",
      "Intercept: -64874142.578022\n",
      "Slope STD: 31034435.666818313\n"
     ]
    }
   ],
   "source": [
    "# Fit model to accumulation of molecules over time\n",
    "selector = (cq_raw[\"Time\"].isin([0, 18, 24])) & (cq_raw[\"Transfected\"] == \"GagMCP_mCh-MS2x8\")\n",
    "data_subset = cq_raw.loc[selector]\n",
    "\n",
    "x = data_subset[\"Time\"]\n",
    "y = data_subset[\"num_molecules_censored\"]\n",
    "\n",
    "coef, cov = np.polyfit(x, y, 1, cov=True)\n",
    "\n",
    "print(\"Slope:\", coef[0])\n",
    "print(\"Intercept:\", coef[1])\n",
    "print(\"Slope STD:\", np.sqrt(cov[0,0]))"
   ]
  },
  {
   "cell_type": "code",
   "execution_count": 12,
   "metadata": {
    "Collapsed": "false"
   },
   "outputs": [
    {
     "name": "stdout",
     "output_type": "stream",
     "text": [
      "Cells initial 489720.0\n",
      "Cells final 710200.0\n",
      "Cells mean 599960.0\n"
     ]
    }
   ],
   "source": [
    "# To get number of cells, use actual cell count to calculate mean number of cells over window\n",
    "id_initial = \"GagMCP_mCh-MSx8_0h\"\n",
    "id_final = \"GagMCP_mCh-MSx8_24h\"\n",
    "n_cells_initial = cq_summary.loc[id_initial, \"num_live_cells_transfected\"]\n",
    "n_cells_final = cq_summary.loc[id_final, \"num_live_cells_transfected\"]\n",
    "n_cells_mean = (n_cells_final + n_cells_initial)/2\n",
    "\n",
    "print(\"Cells initial\", n_cells_initial)\n",
    "print(\"Cells final\", n_cells_final)\n",
    "print(\"Cells mean\", n_cells_mean)"
   ]
  },
  {
   "cell_type": "code",
   "execution_count": 13,
   "metadata": {
    "Collapsed": "false"
   },
   "outputs": [
    {
     "name": "stdout",
     "output_type": "stream",
     "text": [
      "Export rate: 1011.4197917298026 molecules/cell-hr\n",
      "Export rate STD: 51.72750794522687 molecules/cell-hr\n"
     ]
    }
   ],
   "source": [
    "# Calculate export rate per cell\n",
    "k_export = coef[0] / n_cells_mean\n",
    "k_export_std = np.sqrt(cov[0,0]) / n_cells_mean  # standard deviation based on variance of fit\n",
    "\n",
    "print(\"Export rate:\", k_export, \"molecules/cell-hr\")\n",
    "print(\"Export rate STD:\", k_export_std, \"molecules/cell-hr\")"
   ]
  },
  {
   "cell_type": "markdown",
   "metadata": {
    "Collapsed": "false"
   },
   "source": [
    "# Plot accumulated molecules against time with fitted model"
   ]
  },
  {
   "cell_type": "code",
   "execution_count": 14,
   "metadata": {
    "Collapsed": "false"
   },
   "outputs": [],
   "source": [
    "palette = [\"#756bb1\", \"#969696\"]"
   ]
  },
  {
   "cell_type": "code",
   "execution_count": 15,
   "metadata": {
    "Collapsed": "false"
   },
   "outputs": [
    {
     "name": "stderr",
     "output_type": "stream",
     "text": [
      "findfont: Font family ['cursive'] not found. Falling back to DejaVu Sans.\n"
     ]
    },
    {
     "data": {
      "image/png": "[encoded data removed]",
      "text/plain": [
       "<Figure size 300x300 with 1 Axes>"
      ]
     },
     "metadata": {},
     "output_type": "display_data"
    }
   ],
   "source": [
    "selector = (cq_summary[\"Time\"].isin([0, 18, 24]))\n",
    "data = cq_summary.loc[selector]\n",
    "\n",
    "fig, ax = plt.subplots(1, 1, figsize=(1, 1))\n",
    "\n",
    "data_subset = data.loc[data[\"Transfected\"] == \"GagMCP_mCh-MS2x8\"]\n",
    "ax.errorbar(x=data_subset[\"Time\"], y=data_subset[\"num_molecules_censored\"],\n",
    "            yerr=data_subset[\"num_molecules_std\"],\n",
    "            color=palette[0],\n",
    "            marker=\"o\", markersize=3,\n",
    "            capsize=2, ls=\"\", zorder=3,\n",
    "            label=\"Gag-MCP\")\n",
    "\n",
    "# Plot fit\n",
    "x = data_subset[\"Time\"]\n",
    "y = data_subset[\"num_molecules_censored\"]\n",
    "coef = np.polyfit(x, y, 1)\n",
    "fit = np.poly1d(coef)\n",
    "x_fitted = np.arange(0, 30)\n",
    "y_fitted = fit(x_fitted)\n",
    "ax.plot(x_fitted,\n",
    "        y_fitted,\n",
    "        marker=None,\n",
    "        color=\"k\",\n",
    "        zorder=1,\n",
    "        label=\"Fit\")\n",
    "\n",
    "data_subset = data.loc[data[\"Transfected\"] == \"mCh-MS2x8\"]\n",
    "ax.errorbar(x=data_subset[\"Time\"], y=data_subset[\"num_molecules_censored\"],\n",
    "            yerr=data_subset[\"num_molecules_std\"],\n",
    "            color=palette[1],\n",
    "            marker=\"o\", markersize=3,\n",
    "            capsize=2, ls=\"\", zorder=2,\n",
    "            label=\"No exporter\")\n",
    "\n",
    "ax.set_xlim(-1, 25)\n",
    "\n",
    "ax.set_xticks([0, 6, 12, 18, 24])\n",
    "ax.set_yticks([0, 1e10, 2e10])\n",
    "\n",
    "yticklabels = [\"0\", r\"$10^{10}$\", r\"$2 \\times 10^{10}$\"]\n",
    "ax.set_yticklabels(yticklabels)\n",
    "\n",
    "ax.set_xlabel(\"Time (h)\")\n",
    "ax.set_ylabel(\"Reporter RNA\\nmolecules in\\nsupernatant\")\n",
    "\n",
    "ax.axhline(y=DETECTION_LIMIT, linestyle=\"--\", color=\"k\", lw=1, zorder=0)\n",
    "\n",
    "# adjust legend order\n",
    "order = [1, 2, 0]\n",
    "handles, labels = ax.get_legend_handles_labels()\n",
    "handles_ordered = [handles[idx] for idx in order]\n",
    "labels_ordered = [labels[idx] for idx in order]\n",
    "plt.legend(handles_ordered, labels_ordered, loc=\"center left\", bbox_to_anchor=(1.1, 0.5))\n",
    "\n",
    "save_figure(fig, \"scatter_fit\")"
   ]
  },
  {
   "cell_type": "code",
   "execution_count": null,
   "metadata": {
    "Collapsed": "false"
   },
   "outputs": [],
   "source": []
  }
 ],
 "metadata": {
  "kernelspec": {
   "display_name": "RNA_export_magic",
   "language": "python",
   "name": "rna_export_magic"
  },
  "language_info": {
   "codemirror_mode": {
    "name": "ipython",
    "version": 3
   },
   "file_extension": ".py",
   "mimetype": "text/x-python",
   "name": "python",
   "nbconvert_exporter": "python",
   "pygments_lexer": "ipython3",
   "version": "3.7.7"
  }
 },
 "nbformat": 4,
 "nbformat_minor": 4
}
