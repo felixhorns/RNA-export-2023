{
 "cells": [
  {
   "cell_type": "markdown",
   "metadata": {
    "Collapsed": "false"
   },
   "source": [
    "# Plot qPCR of RNA export by EPN24-MCP with harvest at 48h and 72h"
   ]
  },
  {
   "cell_type": "markdown",
   "metadata": {
    "Collapsed": "false",
    "toc-hr-collapsed": false
   },
   "source": [
    "# Introduction"
   ]
  },
  {
   "cell_type": "markdown",
   "metadata": {
    "Collapsed": "false"
   },
   "source": [
    "## Imports"
   ]
  },
  {
   "cell_type": "code",
   "execution_count": 1,
   "metadata": {
    "Collapsed": "false"
   },
   "outputs": [],
   "source": [
    "import sys\n",
    "import os\n",
    "import time\n",
    "\n",
    "import numpy as np\n",
    "import scipy\n",
    "import pandas as pd\n",
    "\n",
    "%matplotlib inline\n",
    "from matplotlib import pyplot as plt\n",
    "import matplotlib as mpl\n",
    "import seaborn as sns"
   ]
  },
  {
   "cell_type": "markdown",
   "metadata": {
    "Collapsed": "false"
   },
   "source": [
    "## Set output parameters"
   ]
  },
  {
   "cell_type": "code",
   "execution_count": 2,
   "metadata": {
    "Collapsed": "false"
   },
   "outputs": [],
   "source": [
    "# Set pandas display options\n",
    "pd.set_option('display.max_rows', 30)\n",
    "pd.set_option('display.max_columns', 100)\n",
    "pd.set_option('display.width', 1000)\n",
    "\n",
    "# Set plot display options\n",
    "FONTSIZE = 8  # universal fontsize\n",
    "params = {\n",
    "    'font.size': FONTSIZE,\n",
    "    'axes.titlesize': FONTSIZE,\n",
    "    'axes.labelsize': FONTSIZE,\n",
    "    'legend.fontsize': FONTSIZE,\n",
    "    'xtick.labelsize': FONTSIZE,\n",
    "    'ytick.labelsize': FONTSIZE,\n",
    "    'font.family': \"Helvetica\",\n",
    "    'mathtext.fontset': 'custom',\n",
    "    'pdf.fonttype': 42,\n",
    "    'ps.fonttype': 42,\n",
    "    'figure.dpi': 300\n",
    "   }\n",
    "mpl.rcParams.update(params)\n",
    "sns.set_style(\"ticks\", {'axes.grid' : False})\n",
    "\n",
    "# Set plot output options\n",
    "output_dir = \"outs/qPCR_export_rate_EPN24MCP\"\n",
    "output_suffix = \"\"\n",
    "output_formats = [\".png\", \".pdf\"]\n",
    "\n",
    "mpl.rc('savefig', dpi=300)\n",
    "\n",
    "# Define convenience function for saving figures\n",
    "\n",
    "savefig = True\n",
    "savefig_args = {\"dpi\": 300, \"bbox_inches\": \"tight\", \"pad_inches\": 0.1}\n",
    "\n",
    "def save_figure(fig, name, output_dir=output_dir, output_suffix=output_suffix, output_formats=output_formats, savefig_args=savefig_args):\n",
    "    if savefig:\n",
    "        for output_format in output_formats:\n",
    "            fig.savefig(output_dir + \"/\" + name + output_suffix + output_format, **savefig_args)\n",
    "    return None"
   ]
  },
  {
   "cell_type": "code",
   "execution_count": 3,
   "metadata": {
    "Collapsed": "false"
   },
   "outputs": [
    {
     "data": {
      "text/plain": [
       "{'font.size': 8.0,\n",
       " 'axes.labelsize': 8.0,\n",
       " 'axes.titlesize': 8.0,\n",
       " 'xtick.labelsize': 8.0,\n",
       " 'ytick.labelsize': 8.0,\n",
       " 'legend.fontsize': 8.0,\n",
       " 'legend.title_fontsize': None,\n",
       " 'axes.linewidth': 0.8,\n",
       " 'grid.linewidth': 0.8,\n",
       " 'lines.linewidth': 1.5,\n",
       " 'lines.markersize': 6.0,\n",
       " 'patch.linewidth': 1.0,\n",
       " 'xtick.major.width': 0.8,\n",
       " 'ytick.major.width': 0.8,\n",
       " 'xtick.minor.width': 0.6,\n",
       " 'ytick.minor.width': 0.6,\n",
       " 'xtick.major.size': 3.5,\n",
       " 'ytick.major.size': 3.5,\n",
       " 'xtick.minor.size': 2.0,\n",
       " 'ytick.minor.size': 2.0}"
      ]
     },
     "execution_count": 3,
     "metadata": {},
     "output_type": "execute_result"
    }
   ],
   "source": [
    "# Report plot parameters\n",
    "sns.plotting_context()"
   ]
  },
  {
   "cell_type": "markdown",
   "metadata": {
    "Collapsed": "false"
   },
   "source": [
    "# Load data"
   ]
  },
  {
   "cell_type": "markdown",
   "metadata": {
    "Collapsed": "false"
   },
   "source": [
    "## Load qPCR data"
   ]
  },
  {
   "cell_type": "code",
   "execution_count": 4,
   "metadata": {
    "Collapsed": "false"
   },
   "outputs": [
    {
     "name": "stdout",
     "output_type": "stream",
     "text": [
      "(18, 16)\n"
     ]
    },
    {
     "data": {
      "text/html": [
       "<div>\n",
       "<style scoped>\n",
       "    .dataframe tbody tr th:only-of-type {\n",
       "        vertical-align: middle;\n",
       "    }\n",
       "\n",
       "    .dataframe tbody tr th {\n",
       "        vertical-align: top;\n",
       "    }\n",
       "\n",
       "    .dataframe thead th {\n",
       "        text-align: right;\n",
       "    }\n",
       "</style>\n",
       "<table border=\"1\" class=\"dataframe\">\n",
       "  <thead>\n",
       "    <tr style=\"text-align: right;\">\n",
       "      <th></th>\n",
       "      <th>Sample</th>\n",
       "      <th>Condition</th>\n",
       "      <th>Harvest time (h)</th>\n",
       "      <th>Replicate</th>\n",
       "      <th>Cq</th>\n",
       "      <th>Cq Mean</th>\n",
       "      <th>Cq Std. Dev</th>\n",
       "      <th>Starting Quantity (SQ)</th>\n",
       "      <th>SQ Mean</th>\n",
       "      <th>SQ Std. Dev</th>\n",
       "      <th>LOD</th>\n",
       "      <th>SQ censored</th>\n",
       "      <th>Scale factor</th>\n",
       "      <th>RNA molecules</th>\n",
       "      <th>RNA molecules censored</th>\n",
       "      <th>RNA molecules LOD</th>\n",
       "    </tr>\n",
       "  </thead>\n",
       "  <tbody>\n",
       "    <tr>\n",
       "      <th>0</th>\n",
       "      <td>95C-1</td>\n",
       "      <td>Gag-MCP</td>\n",
       "      <td>48</td>\n",
       "      <td>1</td>\n",
       "      <td>21.40085</td>\n",
       "      <td>21.34241</td>\n",
       "      <td>0.05795</td>\n",
       "      <td>32298.66675</td>\n",
       "      <td>33606.84367</td>\n",
       "      <td>1305.25710</td>\n",
       "      <td>31.88781</td>\n",
       "      <td>32298.66675</td>\n",
       "      <td>0.00001</td>\n",
       "      <td>2.976251e+09</td>\n",
       "      <td>2.976251e+09</td>\n",
       "      <td>2.938391e+06</td>\n",
       "    </tr>\n",
       "    <tr>\n",
       "      <th>1</th>\n",
       "      <td>95C-1</td>\n",
       "      <td>Gag-MCP</td>\n",
       "      <td>48</td>\n",
       "      <td>2</td>\n",
       "      <td>21.28497</td>\n",
       "      <td>21.34241</td>\n",
       "      <td>0.05795</td>\n",
       "      <td>34909.16123</td>\n",
       "      <td>33606.84367</td>\n",
       "      <td>1305.25710</td>\n",
       "      <td>31.88781</td>\n",
       "      <td>34909.16123</td>\n",
       "      <td>0.00001</td>\n",
       "      <td>3.216802e+09</td>\n",
       "      <td>3.216802e+09</td>\n",
       "      <td>2.938391e+06</td>\n",
       "    </tr>\n",
       "    <tr>\n",
       "      <th>2</th>\n",
       "      <td>95C-1</td>\n",
       "      <td>Gag-MCP</td>\n",
       "      <td>48</td>\n",
       "      <td>3</td>\n",
       "      <td>21.34140</td>\n",
       "      <td>21.34241</td>\n",
       "      <td>0.05795</td>\n",
       "      <td>33612.70302</td>\n",
       "      <td>33606.84367</td>\n",
       "      <td>1305.25710</td>\n",
       "      <td>31.88781</td>\n",
       "      <td>33612.70302</td>\n",
       "      <td>0.00001</td>\n",
       "      <td>3.097336e+09</td>\n",
       "      <td>3.097336e+09</td>\n",
       "      <td>2.938391e+06</td>\n",
       "    </tr>\n",
       "    <tr>\n",
       "      <th>3</th>\n",
       "      <td>95C-6</td>\n",
       "      <td>EPN24-MCP</td>\n",
       "      <td>48</td>\n",
       "      <td>1</td>\n",
       "      <td>20.27116</td>\n",
       "      <td>20.28262</td>\n",
       "      <td>0.40108</td>\n",
       "      <td>68906.46103</td>\n",
       "      <td>70031.69046</td>\n",
       "      <td>18566.01813</td>\n",
       "      <td>31.88781</td>\n",
       "      <td>68906.46103</td>\n",
       "      <td>0.00001</td>\n",
       "      <td>6.349578e+09</td>\n",
       "      <td>6.349578e+09</td>\n",
       "      <td>2.938391e+06</td>\n",
       "    </tr>\n",
       "    <tr>\n",
       "      <th>4</th>\n",
       "      <td>95C-6</td>\n",
       "      <td>EPN24-MCP</td>\n",
       "      <td>48</td>\n",
       "      <td>2</td>\n",
       "      <td>19.88740</td>\n",
       "      <td>20.28262</td>\n",
       "      <td>0.40108</td>\n",
       "      <td>89134.73191</td>\n",
       "      <td>70031.69046</td>\n",
       "      <td>18566.01813</td>\n",
       "      <td>31.88781</td>\n",
       "      <td>89134.73191</td>\n",
       "      <td>0.00001</td>\n",
       "      <td>8.213568e+09</td>\n",
       "      <td>8.213568e+09</td>\n",
       "      <td>2.938391e+06</td>\n",
       "    </tr>\n",
       "  </tbody>\n",
       "</table>\n",
       "</div>"
      ],
      "text/plain": [
       "  Sample  Condition  Harvest time (h)  Replicate        Cq   Cq Mean  Cq Std. Dev  Starting Quantity (SQ)      SQ Mean  SQ Std. Dev       LOD  SQ censored  Scale factor  RNA molecules  RNA molecules censored  RNA molecules LOD\n",
       "0  95C-1    Gag-MCP                48          1  21.40085  21.34241      0.05795             32298.66675  33606.84367   1305.25710  31.88781  32298.66675       0.00001   2.976251e+09            2.976251e+09       2.938391e+06\n",
       "1  95C-1    Gag-MCP                48          2  21.28497  21.34241      0.05795             34909.16123  33606.84367   1305.25710  31.88781  34909.16123       0.00001   3.216802e+09            3.216802e+09       2.938391e+06\n",
       "2  95C-1    Gag-MCP                48          3  21.34140  21.34241      0.05795             33612.70302  33606.84367   1305.25710  31.88781  33612.70302       0.00001   3.097336e+09            3.097336e+09       2.938391e+06\n",
       "3  95C-6  EPN24-MCP                48          1  20.27116  20.28262      0.40108             68906.46103  70031.69046  18566.01813  31.88781  68906.46103       0.00001   6.349578e+09            6.349578e+09       2.938391e+06\n",
       "4  95C-6  EPN24-MCP                48          2  19.88740  20.28262      0.40108             89134.73191  70031.69046  18566.01813  31.88781  89134.73191       0.00001   8.213568e+09            8.213568e+09       2.938391e+06"
      ]
     },
     "execution_count": 4,
     "metadata": {},
     "output_type": "execute_result"
    }
   ],
   "source": [
    "infile = \"../preprocessed_data/qPCR_data/qPCR_export_rate_EPN24MCP_Cq.csv\"\n",
    "\n",
    "cq_raw = pd.read_csv(infile, header=0)\n",
    "\n",
    "print(cq_raw.shape)\n",
    "cq_raw.head()"
   ]
  },
  {
   "cell_type": "markdown",
   "metadata": {
    "Collapsed": "false"
   },
   "source": [
    "# Preprocess data"
   ]
  },
  {
   "cell_type": "markdown",
   "metadata": {
    "Collapsed": "false"
   },
   "source": [
    "## Summarize replicates"
   ]
  },
  {
   "cell_type": "code",
   "execution_count": 5,
   "metadata": {
    "Collapsed": "false"
   },
   "outputs": [
    {
     "data": {
      "text/html": [
       "<div>\n",
       "<style scoped>\n",
       "    .dataframe tbody tr th:only-of-type {\n",
       "        vertical-align: middle;\n",
       "    }\n",
       "\n",
       "    .dataframe tbody tr th {\n",
       "        vertical-align: top;\n",
       "    }\n",
       "\n",
       "    .dataframe thead th {\n",
       "        text-align: right;\n",
       "    }\n",
       "</style>\n",
       "<table border=\"1\" class=\"dataframe\">\n",
       "  <thead>\n",
       "    <tr style=\"text-align: right;\">\n",
       "      <th></th>\n",
       "      <th>mean SQ</th>\n",
       "      <th>std SQ</th>\n",
       "      <th>RNA molecules</th>\n",
       "      <th>RNA molecules STD</th>\n",
       "      <th>RNA molecules censored</th>\n",
       "      <th>RNA molecules censored STD</th>\n",
       "      <th>RNA molecules LOD</th>\n",
       "    </tr>\n",
       "    <tr>\n",
       "      <th>Sample</th>\n",
       "      <th></th>\n",
       "      <th></th>\n",
       "      <th></th>\n",
       "      <th></th>\n",
       "      <th></th>\n",
       "      <th></th>\n",
       "      <th></th>\n",
       "    </tr>\n",
       "  </thead>\n",
       "  <tbody>\n",
       "    <tr>\n",
       "      <th>95C-1</th>\n",
       "      <td>33606.843667</td>\n",
       "      <td>1305.257104</td>\n",
       "      <td>3.096796e+09</td>\n",
       "      <td>1.202766e+08</td>\n",
       "      <td>3.096796e+09</td>\n",
       "      <td>1.202766e+08</td>\n",
       "      <td>2.938391e+06</td>\n",
       "    </tr>\n",
       "    <tr>\n",
       "      <th>95C-11</th>\n",
       "      <td>77.704080</td>\n",
       "      <td>41.305558</td>\n",
       "      <td>7.160259e+06</td>\n",
       "      <td>3.806216e+06</td>\n",
       "      <td>7.160259e+06</td>\n",
       "      <td>3.806216e+06</td>\n",
       "      <td>2.938391e+06</td>\n",
       "    </tr>\n",
       "    <tr>\n",
       "      <th>95C-6</th>\n",
       "      <td>70031.690463</td>\n",
       "      <td>18566.018132</td>\n",
       "      <td>6.453265e+09</td>\n",
       "      <td>1.710817e+09</td>\n",
       "      <td>6.453265e+09</td>\n",
       "      <td>1.710817e+09</td>\n",
       "      <td>2.938391e+06</td>\n",
       "    </tr>\n",
       "    <tr>\n",
       "      <th>Well3</th>\n",
       "      <td>6818.729010</td>\n",
       "      <td>327.742291</td>\n",
       "      <td>3.141654e+09</td>\n",
       "      <td>1.510036e+08</td>\n",
       "      <td>3.141654e+09</td>\n",
       "      <td>1.510036e+08</td>\n",
       "      <td>1.659378e+07</td>\n",
       "    </tr>\n",
       "    <tr>\n",
       "      <th>Well7</th>\n",
       "      <td>11421.545533</td>\n",
       "      <td>946.007533</td>\n",
       "      <td>5.262351e+09</td>\n",
       "      <td>4.358625e+08</td>\n",
       "      <td>5.262351e+09</td>\n",
       "      <td>4.358625e+08</td>\n",
       "      <td>1.659378e+07</td>\n",
       "    </tr>\n",
       "    <tr>\n",
       "      <th>Well9</th>\n",
       "      <td>8.269033</td>\n",
       "      <td>0.538132</td>\n",
       "      <td>3.809865e+06</td>\n",
       "      <td>2.479388e+05</td>\n",
       "      <td>1.659378e+07</td>\n",
       "      <td>0.000000e+00</td>\n",
       "      <td>1.659378e+07</td>\n",
       "    </tr>\n",
       "  </tbody>\n",
       "</table>\n",
       "</div>"
      ],
      "text/plain": [
       "             mean SQ        std SQ  RNA molecules  RNA molecules STD  RNA molecules censored  RNA molecules censored STD  RNA molecules LOD\n",
       "Sample                                                                                                                                     \n",
       "95C-1   33606.843667   1305.257104   3.096796e+09       1.202766e+08            3.096796e+09                1.202766e+08       2.938391e+06\n",
       "95C-11     77.704080     41.305558   7.160259e+06       3.806216e+06            7.160259e+06                3.806216e+06       2.938391e+06\n",
       "95C-6   70031.690463  18566.018132   6.453265e+09       1.710817e+09            6.453265e+09                1.710817e+09       2.938391e+06\n",
       "Well3    6818.729010    327.742291   3.141654e+09       1.510036e+08            3.141654e+09                1.510036e+08       1.659378e+07\n",
       "Well7   11421.545533    946.007533   5.262351e+09       4.358625e+08            5.262351e+09                4.358625e+08       1.659378e+07\n",
       "Well9       8.269033      0.538132   3.809865e+06       2.479388e+05            1.659378e+07                0.000000e+00       1.659378e+07"
      ]
     },
     "execution_count": 5,
     "metadata": {},
     "output_type": "execute_result"
    }
   ],
   "source": [
    "groups = cq_raw.groupby([\"Sample\"])  # group samples by origin\n",
    "\n",
    "summary = pd.DataFrame()\n",
    "\n",
    "summary[\"mean SQ\"] = groups[\"Starting Quantity (SQ)\"].mean()  # Calculate mean over replicates\n",
    "summary[\"std SQ\"] = groups[\"Starting Quantity (SQ)\"].std()  # Calculate mean over replicates\n",
    "\n",
    "summary[\"RNA molecules\"] = groups[\"RNA molecules\"].mean()\n",
    "summary[\"RNA molecules STD\"] = groups[\"RNA molecules\"].std()\n",
    "\n",
    "summary[\"RNA molecules censored\"] = groups[\"RNA molecules censored\"].mean()\n",
    "summary[\"RNA molecules censored STD\"] = groups[\"RNA molecules censored\"].std()\n",
    "\n",
    "summary[\"RNA molecules LOD\"] = groups[\"RNA molecules LOD\"].mean()\n",
    "\n",
    "summary"
   ]
  },
  {
   "cell_type": "markdown",
   "metadata": {
    "Collapsed": "false"
   },
   "source": [
    "# Visualize RNA accumulated at 48h and 72h (in separate experiments)"
   ]
  },
  {
   "cell_type": "code",
   "execution_count": 6,
   "metadata": {
    "Collapsed": "false"
   },
   "outputs": [],
   "source": [
    "# Choose samples\n",
    "index_ordered = [\"95C-1\", \"95C-6\", \"95C-11\", \"Well3\", \"Well7\", \"Well9\"]"
   ]
  },
  {
   "cell_type": "code",
   "execution_count": 7,
   "metadata": {
    "Collapsed": "false"
   },
   "outputs": [
    {
     "name": "stdout",
     "output_type": "stream",
     "text": [
      "(6, 7)\n"
     ]
    },
    {
     "data": {
      "text/html": [
       "<div>\n",
       "<style scoped>\n",
       "    .dataframe tbody tr th:only-of-type {\n",
       "        vertical-align: middle;\n",
       "    }\n",
       "\n",
       "    .dataframe tbody tr th {\n",
       "        vertical-align: top;\n",
       "    }\n",
       "\n",
       "    .dataframe thead th {\n",
       "        text-align: right;\n",
       "    }\n",
       "</style>\n",
       "<table border=\"1\" class=\"dataframe\">\n",
       "  <thead>\n",
       "    <tr style=\"text-align: right;\">\n",
       "      <th></th>\n",
       "      <th>mean SQ</th>\n",
       "      <th>std SQ</th>\n",
       "      <th>RNA molecules</th>\n",
       "      <th>RNA molecules STD</th>\n",
       "      <th>RNA molecules censored</th>\n",
       "      <th>RNA molecules censored STD</th>\n",
       "      <th>RNA molecules LOD</th>\n",
       "    </tr>\n",
       "    <tr>\n",
       "      <th>Sample</th>\n",
       "      <th></th>\n",
       "      <th></th>\n",
       "      <th></th>\n",
       "      <th></th>\n",
       "      <th></th>\n",
       "      <th></th>\n",
       "      <th></th>\n",
       "    </tr>\n",
       "  </thead>\n",
       "  <tbody>\n",
       "    <tr>\n",
       "      <th>95C-1</th>\n",
       "      <td>33606.843667</td>\n",
       "      <td>1305.257104</td>\n",
       "      <td>3.096796e+09</td>\n",
       "      <td>1.202766e+08</td>\n",
       "      <td>3.096796e+09</td>\n",
       "      <td>1.202766e+08</td>\n",
       "      <td>2.938391e+06</td>\n",
       "    </tr>\n",
       "    <tr>\n",
       "      <th>95C-6</th>\n",
       "      <td>70031.690463</td>\n",
       "      <td>18566.018132</td>\n",
       "      <td>6.453265e+09</td>\n",
       "      <td>1.710817e+09</td>\n",
       "      <td>6.453265e+09</td>\n",
       "      <td>1.710817e+09</td>\n",
       "      <td>2.938391e+06</td>\n",
       "    </tr>\n",
       "    <tr>\n",
       "      <th>95C-11</th>\n",
       "      <td>77.704080</td>\n",
       "      <td>41.305558</td>\n",
       "      <td>7.160259e+06</td>\n",
       "      <td>3.806216e+06</td>\n",
       "      <td>7.160259e+06</td>\n",
       "      <td>3.806216e+06</td>\n",
       "      <td>2.938391e+06</td>\n",
       "    </tr>\n",
       "    <tr>\n",
       "      <th>Well3</th>\n",
       "      <td>6818.729010</td>\n",
       "      <td>327.742291</td>\n",
       "      <td>3.141654e+09</td>\n",
       "      <td>1.510036e+08</td>\n",
       "      <td>3.141654e+09</td>\n",
       "      <td>1.510036e+08</td>\n",
       "      <td>1.659378e+07</td>\n",
       "    </tr>\n",
       "    <tr>\n",
       "      <th>Well7</th>\n",
       "      <td>11421.545533</td>\n",
       "      <td>946.007533</td>\n",
       "      <td>5.262351e+09</td>\n",
       "      <td>4.358625e+08</td>\n",
       "      <td>5.262351e+09</td>\n",
       "      <td>4.358625e+08</td>\n",
       "      <td>1.659378e+07</td>\n",
       "    </tr>\n",
       "    <tr>\n",
       "      <th>Well9</th>\n",
       "      <td>8.269033</td>\n",
       "      <td>0.538132</td>\n",
       "      <td>3.809865e+06</td>\n",
       "      <td>2.479388e+05</td>\n",
       "      <td>1.659378e+07</td>\n",
       "      <td>0.000000e+00</td>\n",
       "      <td>1.659378e+07</td>\n",
       "    </tr>\n",
       "  </tbody>\n",
       "</table>\n",
       "</div>"
      ],
      "text/plain": [
       "             mean SQ        std SQ  RNA molecules  RNA molecules STD  RNA molecules censored  RNA molecules censored STD  RNA molecules LOD\n",
       "Sample                                                                                                                                     \n",
       "95C-1   33606.843667   1305.257104   3.096796e+09       1.202766e+08            3.096796e+09                1.202766e+08       2.938391e+06\n",
       "95C-6   70031.690463  18566.018132   6.453265e+09       1.710817e+09            6.453265e+09                1.710817e+09       2.938391e+06\n",
       "95C-11     77.704080     41.305558   7.160259e+06       3.806216e+06            7.160259e+06                3.806216e+06       2.938391e+06\n",
       "Well3    6818.729010    327.742291   3.141654e+09       1.510036e+08            3.141654e+09                1.510036e+08       1.659378e+07\n",
       "Well7   11421.545533    946.007533   5.262351e+09       4.358625e+08            5.262351e+09                4.358625e+08       1.659378e+07\n",
       "Well9       8.269033      0.538132   3.809865e+06       2.479388e+05            1.659378e+07                0.000000e+00       1.659378e+07"
      ]
     },
     "execution_count": 7,
     "metadata": {},
     "output_type": "execute_result"
    }
   ],
   "source": [
    "# Get data of summary across replicates of selected wells\n",
    "summary_subset = summary.loc[index_ordered]\n",
    "\n",
    "print(summary_subset.shape)\n",
    "summary_subset"
   ]
  },
  {
   "cell_type": "code",
   "execution_count": 8,
   "metadata": {
    "Collapsed": "false"
   },
   "outputs": [
    {
     "name": "stdout",
     "output_type": "stream",
     "text": [
      "(18, 16)\n"
     ]
    },
    {
     "data": {
      "text/html": [
       "<div>\n",
       "<style scoped>\n",
       "    .dataframe tbody tr th:only-of-type {\n",
       "        vertical-align: middle;\n",
       "    }\n",
       "\n",
       "    .dataframe tbody tr th {\n",
       "        vertical-align: top;\n",
       "    }\n",
       "\n",
       "    .dataframe thead th {\n",
       "        text-align: right;\n",
       "    }\n",
       "</style>\n",
       "<table border=\"1\" class=\"dataframe\">\n",
       "  <thead>\n",
       "    <tr style=\"text-align: right;\">\n",
       "      <th></th>\n",
       "      <th>Sample</th>\n",
       "      <th>Condition</th>\n",
       "      <th>Harvest time (h)</th>\n",
       "      <th>Replicate</th>\n",
       "      <th>Cq</th>\n",
       "      <th>Cq Mean</th>\n",
       "      <th>Cq Std. Dev</th>\n",
       "      <th>Starting Quantity (SQ)</th>\n",
       "      <th>SQ Mean</th>\n",
       "      <th>SQ Std. Dev</th>\n",
       "      <th>LOD</th>\n",
       "      <th>SQ censored</th>\n",
       "      <th>Scale factor</th>\n",
       "      <th>RNA molecules</th>\n",
       "      <th>RNA molecules censored</th>\n",
       "      <th>RNA molecules LOD</th>\n",
       "    </tr>\n",
       "  </thead>\n",
       "  <tbody>\n",
       "    <tr>\n",
       "      <th>0</th>\n",
       "      <td>95C-1</td>\n",
       "      <td>Gag-MCP</td>\n",
       "      <td>48</td>\n",
       "      <td>1</td>\n",
       "      <td>21.40085</td>\n",
       "      <td>21.34241</td>\n",
       "      <td>0.05795</td>\n",
       "      <td>32298.66675</td>\n",
       "      <td>33606.84367</td>\n",
       "      <td>1305.25710</td>\n",
       "      <td>31.88781</td>\n",
       "      <td>32298.66675</td>\n",
       "      <td>0.00001</td>\n",
       "      <td>2.976251e+09</td>\n",
       "      <td>2.976251e+09</td>\n",
       "      <td>2.938391e+06</td>\n",
       "    </tr>\n",
       "    <tr>\n",
       "      <th>1</th>\n",
       "      <td>95C-1</td>\n",
       "      <td>Gag-MCP</td>\n",
       "      <td>48</td>\n",
       "      <td>2</td>\n",
       "      <td>21.28497</td>\n",
       "      <td>21.34241</td>\n",
       "      <td>0.05795</td>\n",
       "      <td>34909.16123</td>\n",
       "      <td>33606.84367</td>\n",
       "      <td>1305.25710</td>\n",
       "      <td>31.88781</td>\n",
       "      <td>34909.16123</td>\n",
       "      <td>0.00001</td>\n",
       "      <td>3.216802e+09</td>\n",
       "      <td>3.216802e+09</td>\n",
       "      <td>2.938391e+06</td>\n",
       "    </tr>\n",
       "    <tr>\n",
       "      <th>2</th>\n",
       "      <td>95C-1</td>\n",
       "      <td>Gag-MCP</td>\n",
       "      <td>48</td>\n",
       "      <td>3</td>\n",
       "      <td>21.34140</td>\n",
       "      <td>21.34241</td>\n",
       "      <td>0.05795</td>\n",
       "      <td>33612.70302</td>\n",
       "      <td>33606.84367</td>\n",
       "      <td>1305.25710</td>\n",
       "      <td>31.88781</td>\n",
       "      <td>33612.70302</td>\n",
       "      <td>0.00001</td>\n",
       "      <td>3.097336e+09</td>\n",
       "      <td>3.097336e+09</td>\n",
       "      <td>2.938391e+06</td>\n",
       "    </tr>\n",
       "    <tr>\n",
       "      <th>3</th>\n",
       "      <td>95C-6</td>\n",
       "      <td>EPN24-MCP</td>\n",
       "      <td>48</td>\n",
       "      <td>1</td>\n",
       "      <td>20.27116</td>\n",
       "      <td>20.28262</td>\n",
       "      <td>0.40108</td>\n",
       "      <td>68906.46103</td>\n",
       "      <td>70031.69046</td>\n",
       "      <td>18566.01813</td>\n",
       "      <td>31.88781</td>\n",
       "      <td>68906.46103</td>\n",
       "      <td>0.00001</td>\n",
       "      <td>6.349578e+09</td>\n",
       "      <td>6.349578e+09</td>\n",
       "      <td>2.938391e+06</td>\n",
       "    </tr>\n",
       "    <tr>\n",
       "      <th>4</th>\n",
       "      <td>95C-6</td>\n",
       "      <td>EPN24-MCP</td>\n",
       "      <td>48</td>\n",
       "      <td>2</td>\n",
       "      <td>19.88740</td>\n",
       "      <td>20.28262</td>\n",
       "      <td>0.40108</td>\n",
       "      <td>89134.73191</td>\n",
       "      <td>70031.69046</td>\n",
       "      <td>18566.01813</td>\n",
       "      <td>31.88781</td>\n",
       "      <td>89134.73191</td>\n",
       "      <td>0.00001</td>\n",
       "      <td>8.213568e+09</td>\n",
       "      <td>8.213568e+09</td>\n",
       "      <td>2.938391e+06</td>\n",
       "    </tr>\n",
       "  </tbody>\n",
       "</table>\n",
       "</div>"
      ],
      "text/plain": [
       "  Sample  Condition  Harvest time (h)  Replicate        Cq   Cq Mean  Cq Std. Dev  Starting Quantity (SQ)      SQ Mean  SQ Std. Dev       LOD  SQ censored  Scale factor  RNA molecules  RNA molecules censored  RNA molecules LOD\n",
       "0  95C-1    Gag-MCP                48          1  21.40085  21.34241      0.05795             32298.66675  33606.84367   1305.25710  31.88781  32298.66675       0.00001   2.976251e+09            2.976251e+09       2.938391e+06\n",
       "1  95C-1    Gag-MCP                48          2  21.28497  21.34241      0.05795             34909.16123  33606.84367   1305.25710  31.88781  34909.16123       0.00001   3.216802e+09            3.216802e+09       2.938391e+06\n",
       "2  95C-1    Gag-MCP                48          3  21.34140  21.34241      0.05795             33612.70302  33606.84367   1305.25710  31.88781  33612.70302       0.00001   3.097336e+09            3.097336e+09       2.938391e+06\n",
       "3  95C-6  EPN24-MCP                48          1  20.27116  20.28262      0.40108             68906.46103  70031.69046  18566.01813  31.88781  68906.46103       0.00001   6.349578e+09            6.349578e+09       2.938391e+06\n",
       "4  95C-6  EPN24-MCP                48          2  19.88740  20.28262      0.40108             89134.73191  70031.69046  18566.01813  31.88781  89134.73191       0.00001   8.213568e+09            8.213568e+09       2.938391e+06"
      ]
     },
     "execution_count": 8,
     "metadata": {},
     "output_type": "execute_result"
    }
   ],
   "source": [
    "# Get data of replicates of selected wells\n",
    "selector = cq_raw[\"Sample\"].isin(index_ordered)\n",
    "data = cq_raw.loc[selector]\n",
    "\n",
    "print(data.shape)\n",
    "data.head()"
   ]
  },
  {
   "cell_type": "code",
   "execution_count": 9,
   "metadata": {
    "Collapsed": "false"
   },
   "outputs": [
    {
     "name": "stderr",
     "output_type": "stream",
     "text": [
      "findfont: Font family ['cursive'] not found. Falling back to DejaVu Sans.\n"
     ]
    },
    {
     "data": {
      "image/png": "[encoded data removed]",
      "text/plain": [
       "<Figure size 375x360 with 1 Axes>"
      ]
     },
     "metadata": {},
     "output_type": "display_data"
    }
   ],
   "source": [
    "# Make simple bar plot, horizontal\n",
    "\n",
    "field = \"RNA molecules censored\"\n",
    "\n",
    "palette = [\"#b1accc\", \"#44adbf\", \"#83888a\"]  # set color of bars\n",
    "\n",
    "fig, ax = plt.subplots(1, 1, figsize=(1.25, 1.2))\n",
    "\n",
    "# Set axis scaling - must be done first so swarm plot dots do not overlap\n",
    "ax.set_yscale(\"log\")\n",
    "ax.set_ylim(1e6, 1e10)\n",
    "\n",
    "# Plot summary\n",
    "\n",
    "y = summary_subset[field]\n",
    "x = np.arange(len(y))\n",
    "\n",
    "sns.barplot(ax=ax, x=x, y=y, palette=palette, lw=0.5, edgecolor=\"#010101\")\n",
    "\n",
    "# Plot individual points as swarm (sort columns appropriately)\n",
    "sample_to_rank = dict(zip(index_ordered, range(len(index_ordered))))\n",
    "data[\"rank\"] = [sample_to_rank[s] for s in data[\"Sample\"]]\n",
    "data = data.sort_values(by=\"rank\")\n",
    "\n",
    "y_swarm = data[field]\n",
    "x_swarm = np.array([x[rank] for rank in data[\"rank\"]])\n",
    "\n",
    "x_offset = np.array([-0.3, 0, 0.3])  # jitter offsets to avoid operlaps\n",
    "x_swarm_offset = x_swarm + np.tile(x_offset, int(len(x_swarm)/len(x_offset)))\n",
    "\n",
    "# Color by replicate well\n",
    "ax.scatter(x_swarm_offset, y_swarm, color=\"#474a4b\", edgecolor=\"#010101\", linewidths=0.25, s=10, zorder=10)\n",
    "\n",
    "ax.set_xlim(min(x)-0.5, max(x)+0.5)\n",
    "\n",
    "ax.set_xlabel(\"\")\n",
    "ax.set_ylabel(\"Reporter RNA\\nmolecules in\\nsupernatant\", labelpad=6)\n",
    "\n",
    "ax.set_xticks([0, 1, 2, 3, 4, 5])\n",
    "xticklabels = [\"Gag-MCP\", \"EPN24-MCP\", \"-\",\n",
    "               \"Gag-MCP\", \"EPN24-MCP\", \"-\"]\n",
    "ax.set_xticklabels(xticklabels, rotation=90, ha=\"center\", va=\"center\")\n",
    "ax.tick_params(axis='x', which='major', pad=28)\n",
    "\n",
    "ax.tick_params(axis='y', which='major', rotation=90)\n",
    "\n",
    "locmaj = mpl.ticker.LogLocator(base=10,numticks=12) \n",
    "ax.yaxis.set_major_locator(locmaj)\n",
    "\n",
    "locmin = mpl.ticker.LogLocator(base=10.0,subs=(0.2,0.4,0.6,0.8),numticks=12)\n",
    "ax.yaxis.set_minor_locator(locmin)\n",
    "ax.yaxis.set_minor_formatter(mpl.ticker.NullFormatter())\n",
    "\n",
    "# ax.axhline(LOD, ls=\"--\", color=\"k\", lw=1)\n",
    "\n",
    "# sns.despine()\n",
    "\n",
    "save_figure(fig, \"barplot_export_48h_72h\")"
   ]
  },
  {
   "cell_type": "code",
   "execution_count": null,
   "metadata": {
    "Collapsed": "false"
   },
   "outputs": [],
   "source": []
  }
 ],
 "metadata": {
  "kernelspec": {
   "display_name": "RNA_export_magic",
   "language": "python",
   "name": "rna_export_magic"
  },
  "language_info": {
   "codemirror_mode": {
    "name": "ipython",
    "version": 3
   },
   "file_extension": ".py",
   "mimetype": "text/x-python",
   "name": "python",
   "nbconvert_exporter": "python",
   "pygments_lexer": "ipython3",
   "version": "3.7.7"
  }
 },
 "nbformat": 4,
 "nbformat_minor": 4
}
