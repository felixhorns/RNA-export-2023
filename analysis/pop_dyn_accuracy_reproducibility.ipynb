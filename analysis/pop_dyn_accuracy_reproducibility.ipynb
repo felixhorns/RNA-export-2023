{
 "cells": [
  {
   "cell_type": "markdown",
   "metadata": {
    "Collapsed": "false"
   },
   "source": [
    "# Analyze accuracy and reproducibility of population dynamics reporter assay"
   ]
  },
  {
   "cell_type": "markdown",
   "metadata": {
    "Collapsed": "false",
    "toc-hr-collapsed": false
   },
   "source": [
    "# Introduction"
   ]
  },
  {
   "cell_type": "markdown",
   "metadata": {
    "Collapsed": "false"
   },
   "source": [
    "## Imports"
   ]
  },
  {
   "cell_type": "code",
   "execution_count": 1,
   "metadata": {
    "Collapsed": "false"
   },
   "outputs": [],
   "source": [
    "import sys\n",
    "import os\n",
    "import time\n",
    "\n",
    "import numpy as np\n",
    "import scipy\n",
    "import pandas as pd\n",
    "\n",
    "%matplotlib inline\n",
    "from matplotlib import pyplot as plt\n",
    "import matplotlib as mpl\n",
    "import seaborn as sns"
   ]
  },
  {
   "cell_type": "markdown",
   "metadata": {
    "Collapsed": "false"
   },
   "source": [
    "## Set output parameters"
   ]
  },
  {
   "cell_type": "code",
   "execution_count": 2,
   "metadata": {
    "Collapsed": "false"
   },
   "outputs": [],
   "source": [
    "# Set pandas display options\n",
    "pd.set_option('display.max_rows', 30)\n",
    "pd.set_option('display.max_columns', 100)\n",
    "pd.set_option('display.width', 1000)\n",
    "\n",
    "# Set plot display options\n",
    "FONTSIZE = 8  # universal fontsize\n",
    "params = {\n",
    "    'font.size': FONTSIZE,\n",
    "    'axes.titlesize': FONTSIZE,\n",
    "    'axes.labelsize': FONTSIZE,\n",
    "    'legend.fontsize': FONTSIZE,\n",
    "    'xtick.labelsize': FONTSIZE,\n",
    "    'ytick.labelsize': FONTSIZE,\n",
    "    'font.family': \"Helvetica\",\n",
    "    'mathtext.fontset': 'custom',\n",
    "    'pdf.fonttype': 42,\n",
    "    'ps.fonttype': 42,\n",
    "    'figure.dpi': 300\n",
    "   }\n",
    "mpl.rcParams.update(params)\n",
    "sns.set_style(\"ticks\", {'axes.grid' : False})\n",
    "\n",
    "# Set plot output options\n",
    "output_dir = \"outs/pop_dyn_accuracy_reproducibility\"\n",
    "output_suffix = \"\"\n",
    "output_formats = [\".png\", \".pdf\"]\n",
    "\n",
    "mpl.rc('savefig', dpi=300)\n",
    "\n",
    "# Define convenience function for saving figures\n",
    "\n",
    "savefig = True\n",
    "savefig_args = {\"dpi\": 300, \"bbox_inches\": \"tight\", \"pad_inches\": 0.1}\n",
    "\n",
    "def save_figure(fig, name, output_dir=output_dir, output_suffix=output_suffix, output_formats=output_formats, savefig_args=savefig_args):\n",
    "    if savefig:\n",
    "        for output_format in output_formats:\n",
    "            fig.savefig(output_dir + \"/\" + name + output_suffix + output_format, **savefig_args)\n",
    "    return None"
   ]
  },
  {
   "cell_type": "code",
   "execution_count": 3,
   "metadata": {
    "Collapsed": "false"
   },
   "outputs": [
    {
     "data": {
      "text/plain": [
       "{'font.size': 8.0,\n",
       " 'axes.labelsize': 8.0,\n",
       " 'axes.titlesize': 8.0,\n",
       " 'xtick.labelsize': 8.0,\n",
       " 'ytick.labelsize': 8.0,\n",
       " 'legend.fontsize': 8.0,\n",
       " 'legend.title_fontsize': None,\n",
       " 'axes.linewidth': 0.8,\n",
       " 'grid.linewidth': 0.8,\n",
       " 'lines.linewidth': 1.5,\n",
       " 'lines.markersize': 6.0,\n",
       " 'patch.linewidth': 1.0,\n",
       " 'xtick.major.width': 0.8,\n",
       " 'ytick.major.width': 0.8,\n",
       " 'xtick.minor.width': 0.6,\n",
       " 'ytick.minor.width': 0.6,\n",
       " 'xtick.major.size': 3.5,\n",
       " 'ytick.major.size': 3.5,\n",
       " 'xtick.minor.size': 2.0,\n",
       " 'ytick.minor.size': 2.0}"
      ]
     },
     "execution_count": 3,
     "metadata": {},
     "output_type": "execute_result"
    }
   ],
   "source": [
    "# Report plot parameters\n",
    "sns.plotting_context()"
   ]
  },
  {
   "cell_type": "markdown",
   "metadata": {
    "Collapsed": "false"
   },
   "source": [
    "# Load data"
   ]
  },
  {
   "cell_type": "markdown",
   "metadata": {
    "Collapsed": "false"
   },
   "source": [
    "## Counts of clone barcodes"
   ]
  },
  {
   "cell_type": "markdown",
   "metadata": {
    "Collapsed": "false"
   },
   "source": [
    "Load preprocessed data.\n",
    "\n",
    "Preprocessing steps (previously done) consist of:\n",
    "- Call library barcode.\n",
    "- Error correction of clone barcode by consensus.\n",
    "- Sum counts for error corrected clone barcode cluster.\n",
    "- Call genuine barcodes (filtering to remove errors due to PCR and sequencing noise)."
   ]
  },
  {
   "cell_type": "code",
   "execution_count": 4,
   "metadata": {
    "Collapsed": "false"
   },
   "outputs": [
    {
     "name": "stdout",
     "output_type": "stream",
     "text": [
      "(4229949, 11)\n"
     ]
    },
    {
     "data": {
      "text/html": [
       "<div>\n",
       "<style scoped>\n",
       "    .dataframe tbody tr th:only-of-type {\n",
       "        vertical-align: middle;\n",
       "    }\n",
       "\n",
       "    .dataframe tbody tr th {\n",
       "        vertical-align: top;\n",
       "    }\n",
       "\n",
       "    .dataframe thead th {\n",
       "        text-align: right;\n",
       "    }\n",
       "</style>\n",
       "<table border=\"1\" class=\"dataframe\">\n",
       "  <thead>\n",
       "    <tr style=\"text-align: right;\">\n",
       "      <th></th>\n",
       "      <th>well</th>\n",
       "      <th>library_barcode_call</th>\n",
       "      <th>clone_barcode_consensus</th>\n",
       "      <th>lib</th>\n",
       "      <th>count</th>\n",
       "      <th>time</th>\n",
       "      <th>supernatant_or_cells</th>\n",
       "      <th>call_genuine_clone_barcode_raw</th>\n",
       "      <th>call_genuine_clone_barcode_dynamics</th>\n",
       "      <th>call_genuine_clone_barcode_fidelity</th>\n",
       "      <th>n_timepoints_seen</th>\n",
       "    </tr>\n",
       "  </thead>\n",
       "  <tbody>\n",
       "    <tr>\n",
       "      <th>0</th>\n",
       "      <td>puro</td>\n",
       "      <td>LB1</td>\n",
       "      <td>AGACAGTGTGACAGTGTGTGACTCTGA</td>\n",
       "      <td>sFH11-1</td>\n",
       "      <td>565</td>\n",
       "      <td>0</td>\n",
       "      <td>supernatant</td>\n",
       "      <td>True</td>\n",
       "      <td>True</td>\n",
       "      <td>False</td>\n",
       "      <td>6</td>\n",
       "    </tr>\n",
       "    <tr>\n",
       "      <th>1</th>\n",
       "      <td>puro</td>\n",
       "      <td>LB1</td>\n",
       "      <td>TGAGAGTGTCTGACTCAGTCTCTGTGT</td>\n",
       "      <td>sFH11-1</td>\n",
       "      <td>540</td>\n",
       "      <td>0</td>\n",
       "      <td>supernatant</td>\n",
       "      <td>True</td>\n",
       "      <td>True</td>\n",
       "      <td>False</td>\n",
       "      <td>2</td>\n",
       "    </tr>\n",
       "    <tr>\n",
       "      <th>2</th>\n",
       "      <td>puro</td>\n",
       "      <td>LB1</td>\n",
       "      <td>TGTCTGAGTCTGTCTGTGTCACTGTCT</td>\n",
       "      <td>sFH11-1</td>\n",
       "      <td>491</td>\n",
       "      <td>0</td>\n",
       "      <td>supernatant</td>\n",
       "      <td>True</td>\n",
       "      <td>True</td>\n",
       "      <td>False</td>\n",
       "      <td>5</td>\n",
       "    </tr>\n",
       "    <tr>\n",
       "      <th>3</th>\n",
       "      <td>puro</td>\n",
       "      <td>LB1</td>\n",
       "      <td>AGAGTCTGACTCACTCAGTGTCTGTCT</td>\n",
       "      <td>sFH11-1</td>\n",
       "      <td>478</td>\n",
       "      <td>0</td>\n",
       "      <td>supernatant</td>\n",
       "      <td>True</td>\n",
       "      <td>True</td>\n",
       "      <td>False</td>\n",
       "      <td>6</td>\n",
       "    </tr>\n",
       "    <tr>\n",
       "      <th>4</th>\n",
       "      <td>puro</td>\n",
       "      <td>LB1</td>\n",
       "      <td>ACTGTCTGTCAGACACTCTGTCACTCT</td>\n",
       "      <td>sFH11-1</td>\n",
       "      <td>461</td>\n",
       "      <td>0</td>\n",
       "      <td>supernatant</td>\n",
       "      <td>True</td>\n",
       "      <td>True</td>\n",
       "      <td>False</td>\n",
       "      <td>2</td>\n",
       "    </tr>\n",
       "  </tbody>\n",
       "</table>\n",
       "</div>"
      ],
      "text/plain": [
       "   well library_barcode_call      clone_barcode_consensus      lib  count  time supernatant_or_cells  call_genuine_clone_barcode_raw  call_genuine_clone_barcode_dynamics  call_genuine_clone_barcode_fidelity  n_timepoints_seen\n",
       "0  puro                  LB1  AGACAGTGTGACAGTGTGTGACTCTGA  sFH11-1    565     0          supernatant                            True                                 True                                False                  6\n",
       "1  puro                  LB1  TGAGAGTGTCTGACTCAGTCTCTGTGT  sFH11-1    540     0          supernatant                            True                                 True                                False                  2\n",
       "2  puro                  LB1  TGTCTGAGTCTGTCTGTGTCACTGTCT  sFH11-1    491     0          supernatant                            True                                 True                                False                  5\n",
       "3  puro                  LB1  AGAGTCTGACTCACTCAGTGTCTGTCT  sFH11-1    478     0          supernatant                            True                                 True                                False                  6\n",
       "4  puro                  LB1  ACTGTCTGTCAGACACTCTGTCACTCT  sFH11-1    461     0          supernatant                            True                                 True                                False                  2"
      ]
     },
     "execution_count": 4,
     "metadata": {},
     "output_type": "execute_result"
    }
   ],
   "source": [
    "infile = \"../preprocessed_data/pop_dyn_data/clone_barcodes.tsv.gz\"\n",
    "\n",
    "obs_raw = pd.read_csv(infile, sep=\"\\t\", header=0, index_col=None)\n",
    "\n",
    "print(obs_raw.shape)\n",
    "obs_raw.head()"
   ]
  },
  {
   "cell_type": "markdown",
   "metadata": {
    "Collapsed": "false",
    "toc-hr-collapsed": false
   },
   "source": [
    "# Preprocess data"
   ]
  },
  {
   "cell_type": "markdown",
   "metadata": {
    "Collapsed": "false"
   },
   "source": [
    "## Select data used for this analysis"
   ]
  },
  {
   "cell_type": "code",
   "execution_count": 5,
   "metadata": {
    "Collapsed": "false"
   },
   "outputs": [
    {
     "name": "stdout",
     "output_type": "stream",
     "text": [
      "(37729, 11)\n"
     ]
    },
    {
     "data": {
      "text/html": [
       "<div>\n",
       "<style scoped>\n",
       "    .dataframe tbody tr th:only-of-type {\n",
       "        vertical-align: middle;\n",
       "    }\n",
       "\n",
       "    .dataframe tbody tr th {\n",
       "        vertical-align: top;\n",
       "    }\n",
       "\n",
       "    .dataframe thead th {\n",
       "        text-align: right;\n",
       "    }\n",
       "</style>\n",
       "<table border=\"1\" class=\"dataframe\">\n",
       "  <thead>\n",
       "    <tr style=\"text-align: right;\">\n",
       "      <th></th>\n",
       "      <th>well</th>\n",
       "      <th>library_barcode_call</th>\n",
       "      <th>clone_barcode_consensus</th>\n",
       "      <th>lib</th>\n",
       "      <th>count</th>\n",
       "      <th>time</th>\n",
       "      <th>supernatant_or_cells</th>\n",
       "      <th>call_genuine_clone_barcode_raw</th>\n",
       "      <th>call_genuine_clone_barcode_dynamics</th>\n",
       "      <th>call_genuine_clone_barcode_fidelity</th>\n",
       "      <th>n_timepoints_seen</th>\n",
       "    </tr>\n",
       "  </thead>\n",
       "  <tbody>\n",
       "    <tr>\n",
       "      <th>155606</th>\n",
       "      <td>puro</td>\n",
       "      <td>LB1</td>\n",
       "      <td>TCTGACTCTCTCACACAGTGTCTGACA</td>\n",
       "      <td>sFH11-6</td>\n",
       "      <td>11666</td>\n",
       "      <td>5</td>\n",
       "      <td>supernatant</td>\n",
       "      <td>True</td>\n",
       "      <td>True</td>\n",
       "      <td>True</td>\n",
       "      <td>6</td>\n",
       "    </tr>\n",
       "    <tr>\n",
       "      <th>155607</th>\n",
       "      <td>puro</td>\n",
       "      <td>LB1</td>\n",
       "      <td>ACAGACAGTGTGTCTGTGACACAGTGA</td>\n",
       "      <td>sFH11-6</td>\n",
       "      <td>5750</td>\n",
       "      <td>5</td>\n",
       "      <td>supernatant</td>\n",
       "      <td>True</td>\n",
       "      <td>True</td>\n",
       "      <td>True</td>\n",
       "      <td>6</td>\n",
       "    </tr>\n",
       "    <tr>\n",
       "      <th>155608</th>\n",
       "      <td>puro</td>\n",
       "      <td>LB1</td>\n",
       "      <td>AGACTGAGACACACTGTCTCTGTGACA</td>\n",
       "      <td>sFH11-6</td>\n",
       "      <td>4081</td>\n",
       "      <td>5</td>\n",
       "      <td>supernatant</td>\n",
       "      <td>True</td>\n",
       "      <td>True</td>\n",
       "      <td>True</td>\n",
       "      <td>6</td>\n",
       "    </tr>\n",
       "    <tr>\n",
       "      <th>155609</th>\n",
       "      <td>puro</td>\n",
       "      <td>LB1</td>\n",
       "      <td>AGTCTGAGAGTCAGTCAGTCTCTCAGT</td>\n",
       "      <td>sFH11-6</td>\n",
       "      <td>3720</td>\n",
       "      <td>5</td>\n",
       "      <td>supernatant</td>\n",
       "      <td>True</td>\n",
       "      <td>True</td>\n",
       "      <td>True</td>\n",
       "      <td>6</td>\n",
       "    </tr>\n",
       "    <tr>\n",
       "      <th>155610</th>\n",
       "      <td>puro</td>\n",
       "      <td>LB1</td>\n",
       "      <td>AGACTCAGTGACTCTCAGTCTGTCACA</td>\n",
       "      <td>sFH11-6</td>\n",
       "      <td>3403</td>\n",
       "      <td>5</td>\n",
       "      <td>supernatant</td>\n",
       "      <td>True</td>\n",
       "      <td>True</td>\n",
       "      <td>True</td>\n",
       "      <td>6</td>\n",
       "    </tr>\n",
       "  </tbody>\n",
       "</table>\n",
       "</div>"
      ],
      "text/plain": [
       "        well library_barcode_call      clone_barcode_consensus      lib  count  time supernatant_or_cells  call_genuine_clone_barcode_raw  call_genuine_clone_barcode_dynamics  call_genuine_clone_barcode_fidelity  n_timepoints_seen\n",
       "155606  puro                  LB1  TCTGACTCTCTCACACAGTGTCTGACA  sFH11-6  11666     5          supernatant                            True                                 True                                 True                  6\n",
       "155607  puro                  LB1  ACAGACAGTGTGTCTGTGACACAGTGA  sFH11-6   5750     5          supernatant                            True                                 True                                 True                  6\n",
       "155608  puro                  LB1  AGACTGAGACACACTGTCTCTGTGACA  sFH11-6   4081     5          supernatant                            True                                 True                                 True                  6\n",
       "155609  puro                  LB1  AGTCTGAGAGTCAGTCAGTCTCTCAGT  sFH11-6   3720     5          supernatant                            True                                 True                                 True                  6\n",
       "155610  puro                  LB1  AGACTCAGTGACTCTCAGTCTGTCACA  sFH11-6   3403     5          supernatant                            True                                 True                                 True                  6"
      ]
     },
     "execution_count": 5,
     "metadata": {},
     "output_type": "execute_result"
    }
   ],
   "source": [
    "# Select libraries used in this analysis based on pre-defined flag (fidelity)\n",
    "\n",
    "obs = obs_raw.loc[obs_raw[\"call_genuine_clone_barcode_fidelity\"] == True]\n",
    "\n",
    "print(obs.shape)\n",
    "obs.head()"
   ]
  },
  {
   "cell_type": "markdown",
   "metadata": {
    "Collapsed": "false"
   },
   "source": [
    "## Normalize abundances by total read count (yielding counts per million, CPM)"
   ]
  },
  {
   "cell_type": "code",
   "execution_count": 6,
   "metadata": {
    "Collapsed": "false"
   },
   "outputs": [
    {
     "name": "stdout",
     "output_type": "stream",
     "text": [
      "Total read counts:\n"
     ]
    },
    {
     "data": {
      "text/plain": [
       "lib\n",
       "sFH11-13     321177\n",
       "sFH11-14    1486115\n",
       "sFH11-20    1003848\n",
       "sFH11-21    1555343\n",
       "sFH11-6      451273\n",
       "sFH11-7      539349\n",
       "sFH12-10    1657830\n",
       "sFH12-11    1266773\n",
       "sFH12-12     769446\n",
       "sFH12-13    2167143\n",
       "sFH12-14    2837319\n",
       "sFH12-9     2532291\n",
       "Name: count, dtype: int64"
      ]
     },
     "execution_count": 6,
     "metadata": {},
     "output_type": "execute_result"
    }
   ],
   "source": [
    "total_count = obs.groupby(\"lib\")[\"count\"].sum()\n",
    "\n",
    "print(\"Total read counts:\")\n",
    "\n",
    "total_count"
   ]
  },
  {
   "cell_type": "code",
   "execution_count": 7,
   "metadata": {
    "Collapsed": "false"
   },
   "outputs": [
    {
     "name": "stderr",
     "output_type": "stream",
     "text": [
      "/scratch/resources/anaconda3/envs/RNA_export_magic/lib/python3.7/site-packages/ipykernel_launcher.py:2: SettingWithCopyWarning: \n",
      "A value is trying to be set on a copy of a slice from a DataFrame.\n",
      "Try using .loc[row_indexer,col_indexer] = value instead\n",
      "\n",
      "See the caveats in the documentation: https://pandas.pydata.org/pandas-docs/stable/user_guide/indexing.html#returning-a-view-versus-a-copy\n",
      "  \n"
     ]
    }
   ],
   "source": [
    "# Calculate counts per million (CPM)\n",
    "obs[\"cpm\"] = np.array(obs[\"count\"]) * np.array(1e6/total_count.loc[obs.lib])"
   ]
  },
  {
   "cell_type": "markdown",
   "metadata": {
    "Collapsed": "false"
   },
   "source": [
    "# Plot accuracy (barcode abundance in supernatant and cells)"
   ]
  },
  {
   "cell_type": "code",
   "execution_count": 8,
   "metadata": {
    "Collapsed": "false"
   },
   "outputs": [],
   "source": [
    "\"\"\" Aggregate data. Get barcodes detected in each library and compile counts for barcodes in matched pairs of libraries. \"\"\"\n",
    "\n",
    "# Define pairs of libraries. Each tuple is one pair.\n",
    "pairs = [(\"sFH12-9\", \"sFH11-6\"),\n",
    "         (\"sFH12-10\", \"sFH11-7\"),\n",
    "         (\"sFH12-10\", \"sFH11-6\"),\n",
    "         (\"sFH12-9\", \"sFH11-7\"),\n",
    "         (\"sFH12-11\", \"sFH11-13\"),\n",
    "         (\"sFH12-12\", \"sFH11-14\"),\n",
    "         (\"sFH12-12\", \"sFH11-13\"),\n",
    "         (\"sFH12-11\", \"sFH11-14\"),\n",
    "         (\"sFH12-13\", \"sFH11-20\"),\n",
    "         (\"sFH12-14\", \"sFH11-21\"),\n",
    "         (\"sFH12-14\", \"sFH11-20\"),\n",
    "         (\"sFH12-13\", \"sFH11-21\")]\n",
    "\n",
    "X = pd.Series(dtype=np.float64)\n",
    "Y = pd.Series(dtype=np.float64)\n",
    "\n",
    "X_union = pd.Series(dtype=np.float64)\n",
    "Y_union = pd.Series(dtype=np.float64)\n",
    "\n",
    "columns = [\"lib1\", \"lib2\", \"total1\", \"total2\", \"overlap\", \"only1\", \"only2\"]\n",
    "overlap_counts = pd.DataFrame(columns=columns)\n",
    "\n",
    "for i, (a, b) in enumerate(pairs):\n",
    "\n",
    "    selector = (obs[\"lib\"] == a)\n",
    "    data1 = obs.loc[selector]\n",
    "\n",
    "    selector = (obs[\"lib\"] == b)\n",
    "    data2 = obs.loc[selector]\n",
    "\n",
    "    # Find overlapping barcodes (detected in both)\n",
    "    overlap = set(data1[\"clone_barcode_consensus\"]).intersection(set(data2[\"clone_barcode_consensus\"]))\n",
    "    only1 = set(data1[\"clone_barcode_consensus\"]) - set(data2[\"clone_barcode_consensus\"])\n",
    "    only2 = set(data2[\"clone_barcode_consensus\"]) - set(data1[\"clone_barcode_consensus\"])\n",
    "    \n",
    "    # Count barcodes found in both libraries and unique to each\n",
    "    n_overlap = len(overlap)\n",
    "    n_only1 = len(only1)\n",
    "    n_only2 = len(only2)\n",
    "    frac_overlap_over_total1 = n_overlap / (n_overlap + n_only1)\n",
    "    \n",
    "    # Add counts of sets to dataframe\n",
    "    overlap_counts.loc[i, \"lib1\"] = a\n",
    "    overlap_counts.loc[i, \"lib2\"] = b\n",
    "    overlap_counts.loc[i, \"total1\"] = n_overlap + n_only1\n",
    "    overlap_counts.loc[i, \"total2\"] = n_overlap + n_only2\n",
    "    overlap_counts.loc[i, \"overlap\"] = n_overlap\n",
    "    overlap_counts.loc[i, \"only1\"] = n_only1\n",
    "    overlap_counts.loc[i, \"only2\"] = n_only2\n",
    "    \n",
    "    # Get counts of barcodes\n",
    "    \n",
    "    # counts of barcodes in intersection\n",
    "    x = data1.set_index(\"clone_barcode_consensus\").loc[overlap][\"cpm\"]\n",
    "    y = data2.set_index(\"clone_barcode_consensus\").loc[overlap][\"cpm\"]\n",
    "    X = pd.concat([X, x])\n",
    "    Y = pd.concat([Y, y])\n",
    "    \n",
    "    # counts of barcodes only in library 1\n",
    "    x_only1 = data1.set_index(\"clone_barcode_consensus\").loc[only1][\"cpm\"]\n",
    "    y_only1 = pd.DataFrame(np.zeros((len(x_only1))))\n",
    "    \n",
    "    # counts of barcodes only in library 2\n",
    "    y_only2 = data2.set_index(\"clone_barcode_consensus\").loc[only2][\"cpm\"]\n",
    "    x_only2 = pd.DataFrame(np.zeros((len(y_only2))))\n",
    "\n",
    "    # concatenate counts for this pair\n",
    "    x_union = pd.concat([x, x_only1, x_only2])[0]\n",
    "    y_union = pd.concat([y, y_only1, y_only2])[0]\n",
    "    \n",
    "    # concatenate counts to all pairs\n",
    "    X_union = pd.concat([X_union, x_union])\n",
    "    Y_union = pd.concat([Y_union, y_union])"
   ]
  },
  {
   "cell_type": "code",
   "execution_count": 9,
   "metadata": {
    "Collapsed": "false"
   },
   "outputs": [
    {
     "data": {
      "text/html": [
       "<div>\n",
       "<style scoped>\n",
       "    .dataframe tbody tr th:only-of-type {\n",
       "        vertical-align: middle;\n",
       "    }\n",
       "\n",
       "    .dataframe tbody tr th {\n",
       "        vertical-align: top;\n",
       "    }\n",
       "\n",
       "    .dataframe thead th {\n",
       "        text-align: right;\n",
       "    }\n",
       "</style>\n",
       "<table border=\"1\" class=\"dataframe\">\n",
       "  <thead>\n",
       "    <tr style=\"text-align: right;\">\n",
       "      <th></th>\n",
       "      <th>lib1</th>\n",
       "      <th>lib2</th>\n",
       "      <th>total1</th>\n",
       "      <th>total2</th>\n",
       "      <th>overlap</th>\n",
       "      <th>only1</th>\n",
       "      <th>only2</th>\n",
       "    </tr>\n",
       "  </thead>\n",
       "  <tbody>\n",
       "    <tr>\n",
       "      <th>0</th>\n",
       "      <td>sFH12-9</td>\n",
       "      <td>sFH11-6</td>\n",
       "      <td>2988</td>\n",
       "      <td>1591</td>\n",
       "      <td>1591</td>\n",
       "      <td>1397</td>\n",
       "      <td>0</td>\n",
       "    </tr>\n",
       "    <tr>\n",
       "      <th>1</th>\n",
       "      <td>sFH12-10</td>\n",
       "      <td>sFH11-7</td>\n",
       "      <td>2981</td>\n",
       "      <td>1643</td>\n",
       "      <td>1643</td>\n",
       "      <td>1338</td>\n",
       "      <td>0</td>\n",
       "    </tr>\n",
       "    <tr>\n",
       "      <th>2</th>\n",
       "      <td>sFH12-10</td>\n",
       "      <td>sFH11-6</td>\n",
       "      <td>2981</td>\n",
       "      <td>1591</td>\n",
       "      <td>1591</td>\n",
       "      <td>1390</td>\n",
       "      <td>0</td>\n",
       "    </tr>\n",
       "    <tr>\n",
       "      <th>3</th>\n",
       "      <td>sFH12-9</td>\n",
       "      <td>sFH11-7</td>\n",
       "      <td>2988</td>\n",
       "      <td>1643</td>\n",
       "      <td>1643</td>\n",
       "      <td>1345</td>\n",
       "      <td>0</td>\n",
       "    </tr>\n",
       "    <tr>\n",
       "      <th>4</th>\n",
       "      <td>sFH12-11</td>\n",
       "      <td>sFH11-13</td>\n",
       "      <td>2641</td>\n",
       "      <td>1785</td>\n",
       "      <td>1785</td>\n",
       "      <td>856</td>\n",
       "      <td>0</td>\n",
       "    </tr>\n",
       "    <tr>\n",
       "      <th>5</th>\n",
       "      <td>sFH12-12</td>\n",
       "      <td>sFH11-14</td>\n",
       "      <td>2633</td>\n",
       "      <td>1920</td>\n",
       "      <td>1920</td>\n",
       "      <td>713</td>\n",
       "      <td>0</td>\n",
       "    </tr>\n",
       "    <tr>\n",
       "      <th>6</th>\n",
       "      <td>sFH12-12</td>\n",
       "      <td>sFH11-13</td>\n",
       "      <td>2633</td>\n",
       "      <td>1785</td>\n",
       "      <td>1785</td>\n",
       "      <td>848</td>\n",
       "      <td>0</td>\n",
       "    </tr>\n",
       "    <tr>\n",
       "      <th>7</th>\n",
       "      <td>sFH12-11</td>\n",
       "      <td>sFH11-14</td>\n",
       "      <td>2641</td>\n",
       "      <td>1920</td>\n",
       "      <td>1920</td>\n",
       "      <td>721</td>\n",
       "      <td>0</td>\n",
       "    </tr>\n",
       "    <tr>\n",
       "      <th>8</th>\n",
       "      <td>sFH12-13</td>\n",
       "      <td>sFH11-20</td>\n",
       "      <td>5911</td>\n",
       "      <td>3829</td>\n",
       "      <td>3828</td>\n",
       "      <td>2083</td>\n",
       "      <td>1</td>\n",
       "    </tr>\n",
       "    <tr>\n",
       "      <th>9</th>\n",
       "      <td>sFH12-14</td>\n",
       "      <td>sFH11-21</td>\n",
       "      <td>5913</td>\n",
       "      <td>3890</td>\n",
       "      <td>3890</td>\n",
       "      <td>2023</td>\n",
       "      <td>0</td>\n",
       "    </tr>\n",
       "    <tr>\n",
       "      <th>10</th>\n",
       "      <td>sFH12-14</td>\n",
       "      <td>sFH11-20</td>\n",
       "      <td>5913</td>\n",
       "      <td>3829</td>\n",
       "      <td>3829</td>\n",
       "      <td>2084</td>\n",
       "      <td>0</td>\n",
       "    </tr>\n",
       "    <tr>\n",
       "      <th>11</th>\n",
       "      <td>sFH12-13</td>\n",
       "      <td>sFH11-21</td>\n",
       "      <td>5911</td>\n",
       "      <td>3890</td>\n",
       "      <td>3889</td>\n",
       "      <td>2022</td>\n",
       "      <td>1</td>\n",
       "    </tr>\n",
       "  </tbody>\n",
       "</table>\n",
       "</div>"
      ],
      "text/plain": [
       "        lib1      lib2 total1 total2 overlap only1 only2\n",
       "0    sFH12-9   sFH11-6   2988   1591    1591  1397     0\n",
       "1   sFH12-10   sFH11-7   2981   1643    1643  1338     0\n",
       "2   sFH12-10   sFH11-6   2981   1591    1591  1390     0\n",
       "3    sFH12-9   sFH11-7   2988   1643    1643  1345     0\n",
       "4   sFH12-11  sFH11-13   2641   1785    1785   856     0\n",
       "5   sFH12-12  sFH11-14   2633   1920    1920   713     0\n",
       "6   sFH12-12  sFH11-13   2633   1785    1785   848     0\n",
       "7   sFH12-11  sFH11-14   2641   1920    1920   721     0\n",
       "8   sFH12-13  sFH11-20   5911   3829    3828  2083     1\n",
       "9   sFH12-14  sFH11-21   5913   3890    3890  2023     0\n",
       "10  sFH12-14  sFH11-20   5913   3829    3829  2084     0\n",
       "11  sFH12-13  sFH11-21   5911   3890    3889  2022     1"
      ]
     },
     "execution_count": 9,
     "metadata": {},
     "output_type": "execute_result"
    }
   ],
   "source": [
    "# Count of barcodes in intersection or exclusive to each library\n",
    "\n",
    "overlap_counts\n",
    "\n",
    "# Most barcodes are detected in both supernatant and cells.\n",
    "# Some barcodes are detected only in cells (\"only1\").\n",
    "# Extremely few barcodes are detected in only supernatant (\"only2\")."
   ]
  },
  {
   "cell_type": "code",
   "execution_count": 10,
   "metadata": {
    "Collapsed": "false"
   },
   "outputs": [
    {
     "name": "stdout",
     "output_type": "stream",
     "text": [
      "Overall detection rate in exported RNA (%): 63.54098929206226\n"
     ]
    }
   ],
   "source": [
    "# Calculate overall detection rate in exported RNA (averaged across samples)\n",
    "\n",
    "summary = overlap_counts.sum(axis=0)\n",
    "\n",
    "print(\"Overall detection rate in exported RNA (%):\", 100 * summary[\"overlap\"] / summary[\"total1\"])"
   ]
  },
  {
   "cell_type": "code",
   "execution_count": 11,
   "metadata": {
    "Collapsed": "false"
   },
   "outputs": [
    {
     "name": "stdout",
     "output_type": "stream",
     "text": [
      "(0.525335360268439, 0.0)\n"
     ]
    }
   ],
   "source": [
    "# Report correlation of barcode abundances between exported RNA and cellular RNA\n",
    "\n",
    "print(scipy.stats.pearsonr(X_union, Y_union))"
   ]
  },
  {
   "cell_type": "code",
   "execution_count": 12,
   "metadata": {
    "Collapsed": "false"
   },
   "outputs": [
    {
     "name": "stdout",
     "output_type": "stream",
     "text": [
      "Max value of density (used to set vmax for color scale normalization): 224.0\n"
     ]
    },
    {
     "name": "stderr",
     "output_type": "stream",
     "text": [
      "findfont: Font family ['cursive'] not found. Falling back to DejaVu Sans.\n"
     ]
    },
    {
     "data": {
      "image/png": "[encoded data removed]",
      "text/plain": [
       "<Figure size 450x450 with 1 Axes>"
      ]
     },
     "metadata": {},
     "output_type": "display_data"
    }
   ],
   "source": [
    "# Plot counts in supernatants versus cells as a density plot\n",
    "\n",
    "fig, ax = plt.subplots(1, 1, figsize=(1.5, 1.5))\n",
    "\n",
    "bins = np.logspace(0, 5, 50)\n",
    "h, _, _, _ = ax.hist2d(x=list(X),\n",
    "                      y=list(Y),\n",
    "                      bins=bins,\n",
    "                      cmap=\"viridis\",\n",
    "                      cmin=1,\n",
    "                      norm=mpl.colors.Normalize(vmin=0, vmax=224))\n",
    "\n",
    "ax.set_xscale(\"log\")\n",
    "ax.set_yscale(\"log\")\n",
    "\n",
    "ax.set_xlim(1, 1e5)\n",
    "ax.set_ylim(1, 1e5)\n",
    "\n",
    "ax.set_xlabel(\"Barcode abundance in cells (CPM)\")\n",
    "ax.set_ylabel(\"Barcode abundance in\\nexported RNA (CPM)\", labelpad=4)\n",
    "\n",
    "xticks = [1, 10, 1e2, 1e3, 1e4, 1e5]\n",
    "ax.set_xticks(xticks)\n",
    "ax.set_xticklabels([1, 10, r\"$10^2$\", \"$10^3$\", \"$10^4$\", \"$10^5$\"], va=\"bottom\")\n",
    "\n",
    "yticks = [1, 10, 1e2, 1e3, 1e4, 1e5]\n",
    "ax.set_yticks(yticks)\n",
    "ax.set_yticklabels([1, 10, r\"$10^2$\", \"$10^3$\", \"$10^4$\", \"$10^5$\"], ha=\"right\")\n",
    "\n",
    "ax.tick_params(axis='x', which='major', pad=15)\n",
    "\n",
    "print(\"Max value of density (used to set vmax for color scale normalization):\", np.nanmax(h))\n",
    "\n",
    "save_figure(fig, \"density_sup_cells\", savefig_args=savefig_args)"
   ]
  },
  {
   "cell_type": "code",
   "execution_count": 13,
   "metadata": {
    "Collapsed": "false"
   },
   "outputs": [
    {
     "data": {
      "image/png": "[encoded data removed]",
      "text/plain": [
       "<Figure size 225x75 with 2 Axes>"
      ]
     },
     "metadata": {},
     "output_type": "display_data"
    }
   ],
   "source": [
    "# Plot colorbar\n",
    "\n",
    "ticks = [1, 100, 224]\n",
    "\n",
    "fig, ax = plt.subplots(1, 1, figsize=(0.75,0.25))\n",
    "\n",
    "dummy = np.array([[1,100]])  # dummy data\n",
    "img = plt.imshow(dummy, norm=mpl.colors.Normalize(vmin=1, vmax=224), cmap=\"viridis\")\n",
    "plt.gca().set_visible(False)  # hide plot\n",
    "cax = plt.axes([0.1, 0.2, 0.8, 0.6])\n",
    "cbar = plt.colorbar(orientation=\"horizontal\", cax=cax, label=\"Clones\", pad=0.1, ticks=ticks)\n",
    "cbar.ax.xaxis.set_label_position(\"top\")\n",
    "cbar.ax.set_xticklabels(ticks)\n",
    "\n",
    "save_figure(fig, \"density_sup_cells_colorbar\")"
   ]
  },
  {
   "cell_type": "markdown",
   "metadata": {
    "Collapsed": "false"
   },
   "source": [
    "# Plot reproducibility (barcode abundance in replicate supernatant samples)"
   ]
  },
  {
   "cell_type": "code",
   "execution_count": 14,
   "metadata": {
    "Collapsed": "false"
   },
   "outputs": [],
   "source": [
    "\"\"\" Aggregate data. Get barcodes detected in each library and compile counts for barcodes in matched pairs of libraries. \"\"\"\n",
    "\n",
    "# Define pairs of libraries. Each tuple is one pair.\n",
    "pairs = [(\"sFH11-6\", \"sFH11-7\"),\n",
    "         (\"sFH11-13\", \"sFH11-14\"),\n",
    "         (\"sFH11-20\", \"sFH11-21\")]\n",
    "\n",
    "X = pd.Series(dtype=np.float64)\n",
    "Y = pd.Series(dtype=np.float64)\n",
    "\n",
    "X_union = pd.Series(dtype=np.float64)\n",
    "Y_union = pd.Series(dtype=np.float64)\n",
    "\n",
    "columns = [\"lib1\", \"lib2\", \"total1\", \"total2\", \"overlap\", \"only1\", \"only2\"]\n",
    "overlap_counts = pd.DataFrame(columns=columns)\n",
    "\n",
    "for i, (a, b) in enumerate(pairs):\n",
    "\n",
    "    selector = (obs[\"lib\"] == a)\n",
    "    data1 = obs.loc[selector]\n",
    "\n",
    "    selector = (obs[\"lib\"] == b)\n",
    "    data2 = obs.loc[selector]\n",
    "\n",
    "    # Find overlapping barcodes (detected in both)\n",
    "    overlap = set(data1[\"clone_barcode_consensus\"]).intersection(set(data2[\"clone_barcode_consensus\"]))\n",
    "    only1 = set(data1[\"clone_barcode_consensus\"]) - set(data2[\"clone_barcode_consensus\"])\n",
    "    only2 = set(data2[\"clone_barcode_consensus\"]) - set(data1[\"clone_barcode_consensus\"])\n",
    "    \n",
    "    # Count barcodes found in both libraries and unique to each\n",
    "    n_overlap = len(overlap)\n",
    "    n_only1 = len(only1)\n",
    "    n_only2 = len(only2)\n",
    "    frac_overlap_over_total1 = n_overlap / (n_overlap + n_only1)\n",
    "    \n",
    "    # Add counts of sets to dataframe\n",
    "    overlap_counts.loc[i, \"lib1\"] = a\n",
    "    overlap_counts.loc[i, \"lib2\"] = b\n",
    "    overlap_counts.loc[i, \"total1\"] = n_overlap + n_only1\n",
    "    overlap_counts.loc[i, \"total2\"] = n_overlap + n_only2\n",
    "    overlap_counts.loc[i, \"overlap\"] = n_overlap\n",
    "    overlap_counts.loc[i, \"only1\"] = n_only1\n",
    "    overlap_counts.loc[i, \"only2\"] = n_only2\n",
    "    \n",
    "    # Get counts of barcodes\n",
    "    \n",
    "    # counts of barcodes in intersection\n",
    "    x = data1.set_index(\"clone_barcode_consensus\").loc[overlap][\"cpm\"]\n",
    "    y = data2.set_index(\"clone_barcode_consensus\").loc[overlap][\"cpm\"]\n",
    "    X = pd.concat([X, x])\n",
    "    Y = pd.concat([Y, y])\n",
    "    \n",
    "    # counts of barcodes only in library 1\n",
    "    x_only1 = data1.set_index(\"clone_barcode_consensus\").loc[only1][\"cpm\"]\n",
    "    y_only1 = pd.DataFrame(np.zeros((len(x_only1))))\n",
    "    \n",
    "    # counts of barcodes only in library 2\n",
    "    y_only2 = data2.set_index(\"clone_barcode_consensus\").loc[only2][\"cpm\"]\n",
    "    x_only2 = pd.DataFrame(np.zeros((len(y_only2))))\n",
    "\n",
    "    # concatenate counts for this pair\n",
    "    x_union = pd.concat([x, x_only1, x_only2])[0]\n",
    "    y_union = pd.concat([y, y_only1, y_only2])[0]\n",
    "    \n",
    "    # concatenate counts to all pairs\n",
    "    X_union = pd.concat([X_union, x_union])\n",
    "    Y_union = pd.concat([Y_union, y_union])"
   ]
  },
  {
   "cell_type": "code",
   "execution_count": 15,
   "metadata": {
    "Collapsed": "false"
   },
   "outputs": [
    {
     "data": {
      "text/html": [
       "<div>\n",
       "<style scoped>\n",
       "    .dataframe tbody tr th:only-of-type {\n",
       "        vertical-align: middle;\n",
       "    }\n",
       "\n",
       "    .dataframe tbody tr th {\n",
       "        vertical-align: top;\n",
       "    }\n",
       "\n",
       "    .dataframe thead th {\n",
       "        text-align: right;\n",
       "    }\n",
       "</style>\n",
       "<table border=\"1\" class=\"dataframe\">\n",
       "  <thead>\n",
       "    <tr style=\"text-align: right;\">\n",
       "      <th></th>\n",
       "      <th>lib1</th>\n",
       "      <th>lib2</th>\n",
       "      <th>total1</th>\n",
       "      <th>total2</th>\n",
       "      <th>overlap</th>\n",
       "      <th>only1</th>\n",
       "      <th>only2</th>\n",
       "    </tr>\n",
       "  </thead>\n",
       "  <tbody>\n",
       "    <tr>\n",
       "      <th>0</th>\n",
       "      <td>sFH11-6</td>\n",
       "      <td>sFH11-7</td>\n",
       "      <td>1591</td>\n",
       "      <td>1643</td>\n",
       "      <td>1238</td>\n",
       "      <td>353</td>\n",
       "      <td>405</td>\n",
       "    </tr>\n",
       "    <tr>\n",
       "      <th>1</th>\n",
       "      <td>sFH11-13</td>\n",
       "      <td>sFH11-14</td>\n",
       "      <td>1785</td>\n",
       "      <td>1920</td>\n",
       "      <td>1603</td>\n",
       "      <td>182</td>\n",
       "      <td>317</td>\n",
       "    </tr>\n",
       "    <tr>\n",
       "      <th>2</th>\n",
       "      <td>sFH11-20</td>\n",
       "      <td>sFH11-21</td>\n",
       "      <td>3829</td>\n",
       "      <td>3890</td>\n",
       "      <td>3256</td>\n",
       "      <td>573</td>\n",
       "      <td>634</td>\n",
       "    </tr>\n",
       "  </tbody>\n",
       "</table>\n",
       "</div>"
      ],
      "text/plain": [
       "       lib1      lib2 total1 total2 overlap only1 only2\n",
       "0   sFH11-6   sFH11-7   1591   1643    1238   353   405\n",
       "1  sFH11-13  sFH11-14   1785   1920    1603   182   317\n",
       "2  sFH11-20  sFH11-21   3829   3890    3256   573   634"
      ]
     },
     "execution_count": 15,
     "metadata": {},
     "output_type": "execute_result"
    }
   ],
   "source": [
    "# Count of barcodes in intersection or exclusive to each library\n",
    "\n",
    "overlap_counts"
   ]
  },
  {
   "cell_type": "code",
   "execution_count": 16,
   "metadata": {
    "Collapsed": "false"
   },
   "outputs": [
    {
     "name": "stdout",
     "output_type": "stream",
     "text": [
      "Detection rate in exported RNA (%): 84.62179042331714\n"
     ]
    }
   ],
   "source": [
    "# Calculate overall overlap between replicates\n",
    "\n",
    "summary = overlap_counts.sum(axis=0)\n",
    "\n",
    "print(\"Detection rate in exported RNA (%):\", 100 * summary[\"overlap\"] / summary[\"total1\"])"
   ]
  },
  {
   "cell_type": "code",
   "execution_count": 17,
   "metadata": {
    "Collapsed": "false"
   },
   "outputs": [
    {
     "name": "stdout",
     "output_type": "stream",
     "text": [
      "(0.8486167201775159, 0.0)\n"
     ]
    }
   ],
   "source": [
    "# Report correlation of abundances between replicates\n",
    "\n",
    "print(scipy.stats.pearsonr(X_union, Y_union))"
   ]
  },
  {
   "cell_type": "code",
   "execution_count": 18,
   "metadata": {
    "Collapsed": "false"
   },
   "outputs": [
    {
     "name": "stdout",
     "output_type": "stream",
     "text": [
      "Max value of density (used to set vmax for color scale normalization): 60.0\n"
     ]
    },
    {
     "data": {
      "image/png": "[encoded data removed]",
      "text/plain": [
       "<Figure size 450x450 with 1 Axes>"
      ]
     },
     "metadata": {},
     "output_type": "display_data"
    }
   ],
   "source": [
    "# Plot counts in replicate supernatant samples as a density plot\n",
    "\n",
    "fig, ax = plt.subplots(1, 1, figsize=(1.5, 1.5))\n",
    "\n",
    "bins = np.logspace(0, 5, 50)\n",
    "h, _, _, _ = ax.hist2d(x=list(X),\n",
    "                      y=list(Y),\n",
    "                      bins=bins,\n",
    "                      cmap=\"viridis\",\n",
    "                      cmin=1,\n",
    "                      norm=mpl.colors.Normalize(vmin=0, vmax=60))\n",
    "\n",
    "ax.set_xscale(\"log\")\n",
    "ax.set_yscale(\"log\")\n",
    "\n",
    "ax.set_xlim(1, 1e5)\n",
    "ax.set_ylim(1, 1e5)\n",
    "\n",
    "ax.set_xlabel(\"Barcode abundance\\nin replicate 1 (CPM)\")\n",
    "ax.set_ylabel(\"Barcode abundance\\nin replicate 2 (CPM)\", labelpad=4)\n",
    "\n",
    "xticks = [1, 10, 1e2, 1e3, 1e4, 1e5]\n",
    "ax.set_xticks(xticks)\n",
    "ax.set_xticklabels([1, 10, r\"$10^2$\", \"$10^3$\", \"$10^4$\", \"$10^5$\"], va=\"bottom\")\n",
    "\n",
    "yticks = [1, 10, 1e2, 1e3, 1e4, 1e5]\n",
    "ax.set_yticks(yticks)\n",
    "ax.set_yticklabels([1, 10, r\"$10^2$\", \"$10^3$\", \"$10^4$\", \"$10^5$\"], ha=\"right\")\n",
    "\n",
    "ax.tick_params(axis='x', which='major', pad=15)\n",
    "\n",
    "print(\"Max value of density (used to set vmax for color scale normalization):\", np.nanmax(h))\n",
    "\n",
    "save_figure(fig, \"density_sup_replicates\", savefig_args=savefig_args)"
   ]
  },
  {
   "cell_type": "code",
   "execution_count": 19,
   "metadata": {
    "Collapsed": "false"
   },
   "outputs": [
    {
     "data": {
      "image/png": "[encoded data removed]",
      "text/plain": [
       "<Figure size 225x75 with 2 Axes>"
      ]
     },
     "metadata": {},
     "output_type": "display_data"
    }
   ],
   "source": [
    "# Plot colorbar\n",
    "\n",
    "ticks = [1, 30, 60]\n",
    "\n",
    "fig, ax = plt.subplots(1, 1, figsize=(0.75,0.25))\n",
    "\n",
    "dummy = np.array([[1,100]])  # dummy data\n",
    "img = plt.imshow(dummy, norm=mpl.colors.Normalize(vmin=0, vmax=60), cmap=\"viridis\")\n",
    "plt.gca().set_visible(False)  # hide plot\n",
    "cax = plt.axes([0.1, 0.2, 0.8, 0.6])\n",
    "cbar = plt.colorbar(orientation=\"horizontal\", cax=cax, label=\"Clones\", pad=0.1, ticks=ticks)\n",
    "cbar.ax.xaxis.set_label_position(\"top\")\n",
    "cbar.ax.set_xticklabels(ticks)\n",
    "\n",
    "save_figure(fig, \"density_sup_replicates_colorbar\")"
   ]
  },
  {
   "cell_type": "code",
   "execution_count": null,
   "metadata": {
    "Collapsed": "false"
   },
   "outputs": [],
   "source": []
  }
 ],
 "metadata": {
  "kernelspec": {
   "display_name": "RNA_export_magic",
   "language": "python",
   "name": "rna_export_magic"
  },
  "language_info": {
   "codemirror_mode": {
    "name": "ipython",
    "version": 3
   },
   "file_extension": ".py",
   "mimetype": "text/x-python",
   "name": "python",
   "nbconvert_exporter": "python",
   "pygments_lexer": "ipython3",
   "version": "3.7.7"
  }
 },
 "nbformat": 4,
 "nbformat_minor": 4
}
