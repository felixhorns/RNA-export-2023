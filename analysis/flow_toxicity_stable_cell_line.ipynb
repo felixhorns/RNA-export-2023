{
 "cells": [
  {
   "cell_type": "markdown",
   "metadata": {
    "Collapsed": "false"
   },
   "source": [
    "# Flow cytometry analysis of toxicity of RNA exporter expression from stable genomically integrated transgenes"
   ]
  },
  {
   "cell_type": "markdown",
   "metadata": {
    "Collapsed": "false",
    "toc-hr-collapsed": false
   },
   "source": [
    "# Introduction"
   ]
  },
  {
   "cell_type": "markdown",
   "metadata": {
    "Collapsed": "false"
   },
   "source": [
    "## Imports"
   ]
  },
  {
   "cell_type": "code",
   "execution_count": 1,
   "metadata": {
    "Collapsed": "false"
   },
   "outputs": [],
   "source": [
    "import sys\n",
    "import os\n",
    "import time\n",
    "\n",
    "import numpy as np\n",
    "import scipy\n",
    "import pandas as pd\n",
    "\n",
    "%matplotlib inline\n",
    "from matplotlib import pyplot as plt\n",
    "import matplotlib as mpl\n",
    "import seaborn as sns"
   ]
  },
  {
   "cell_type": "markdown",
   "metadata": {
    "Collapsed": "false"
   },
   "source": [
    "## Set output parameters"
   ]
  },
  {
   "cell_type": "code",
   "execution_count": 2,
   "metadata": {
    "Collapsed": "false"
   },
   "outputs": [],
   "source": [
    "# Set pandas display options\n",
    "pd.set_option('display.max_rows', 30)\n",
    "pd.set_option('display.max_columns', 100)\n",
    "pd.set_option('display.width', 1000)\n",
    "\n",
    "# Set plot display options\n",
    "FONTSIZE = 8  # universal fontsize\n",
    "params = {\n",
    "    'font.size': FONTSIZE,\n",
    "    'axes.titlesize': FONTSIZE,\n",
    "    'axes.labelsize': FONTSIZE,\n",
    "    'legend.fontsize': FONTSIZE,\n",
    "    'xtick.labelsize': FONTSIZE,\n",
    "    'ytick.labelsize': FONTSIZE,\n",
    "    'font.family': \"Helvetica\",\n",
    "    'mathtext.fontset': 'custom',\n",
    "    'pdf.fonttype': 42,\n",
    "    'ps.fonttype': 42,\n",
    "    'figure.dpi': 300\n",
    "   }\n",
    "mpl.rcParams.update(params)\n",
    "sns.set_style(\"ticks\", {'axes.grid' : False})\n",
    "\n",
    "# Set plot output options\n",
    "output_dir = \"outs/flow_toxicity_stable_cell_line\"\n",
    "output_suffix = \"\"\n",
    "output_formats = [\".png\", \".pdf\"]\n",
    "\n",
    "mpl.rc('savefig', dpi=300)\n",
    "\n",
    "# Define convenience function for saving figures\n",
    "\n",
    "savefig = True\n",
    "savefig_args = {\"dpi\": 300, \"bbox_inches\": \"tight\", \"pad_inches\": 0.1}\n",
    "\n",
    "def save_figure(fig, name, output_dir=output_dir, output_suffix=output_suffix, output_formats=output_formats, savefig_args=savefig_args):\n",
    "    if savefig:\n",
    "        for output_format in output_formats:\n",
    "            fig.savefig(output_dir + \"/\" + name + output_suffix + output_format, **savefig_args)\n",
    "    return None"
   ]
  },
  {
   "cell_type": "code",
   "execution_count": 3,
   "metadata": {
    "Collapsed": "false"
   },
   "outputs": [
    {
     "data": {
      "text/plain": [
       "{'font.size': 8.0,\n",
       " 'axes.labelsize': 8.0,\n",
       " 'axes.titlesize': 8.0,\n",
       " 'xtick.labelsize': 8.0,\n",
       " 'ytick.labelsize': 8.0,\n",
       " 'legend.fontsize': 8.0,\n",
       " 'legend.title_fontsize': None,\n",
       " 'axes.linewidth': 0.8,\n",
       " 'grid.linewidth': 0.8,\n",
       " 'lines.linewidth': 1.5,\n",
       " 'lines.markersize': 6.0,\n",
       " 'patch.linewidth': 1.0,\n",
       " 'xtick.major.width': 0.8,\n",
       " 'ytick.major.width': 0.8,\n",
       " 'xtick.minor.width': 0.6,\n",
       " 'ytick.minor.width': 0.6,\n",
       " 'xtick.major.size': 3.5,\n",
       " 'ytick.major.size': 3.5,\n",
       " 'xtick.minor.size': 2.0,\n",
       " 'ytick.minor.size': 2.0}"
      ]
     },
     "execution_count": 3,
     "metadata": {},
     "output_type": "execute_result"
    }
   ],
   "source": [
    "# Report plot parameters\n",
    "sns.plotting_context()"
   ]
  },
  {
   "cell_type": "markdown",
   "metadata": {
    "Collapsed": "false"
   },
   "source": [
    "# Load data"
   ]
  },
  {
   "cell_type": "code",
   "execution_count": 4,
   "metadata": {
    "Collapsed": "false"
   },
   "outputs": [
    {
     "name": "stdout",
     "output_type": "stream",
     "text": [
      "(9, 6)\n"
     ]
    },
    {
     "data": {
      "text/html": [
       "<div>\n",
       "<style scoped>\n",
       "    .dataframe tbody tr th:only-of-type {\n",
       "        vertical-align: middle;\n",
       "    }\n",
       "\n",
       "    .dataframe tbody tr th {\n",
       "        vertical-align: top;\n",
       "    }\n",
       "\n",
       "    .dataframe thead th {\n",
       "        text-align: right;\n",
       "    }\n",
       "</style>\n",
       "<table border=\"1\" class=\"dataframe\">\n",
       "  <thead>\n",
       "    <tr style=\"text-align: right;\">\n",
       "      <th></th>\n",
       "      <th>well</th>\n",
       "      <th>condition</th>\n",
       "      <th>cell_line</th>\n",
       "      <th>replicate</th>\n",
       "      <th>n_events</th>\n",
       "      <th>n_dead+</th>\n",
       "    </tr>\n",
       "    <tr>\n",
       "      <th>id</th>\n",
       "      <th></th>\n",
       "      <th></th>\n",
       "      <th></th>\n",
       "      <th></th>\n",
       "      <th></th>\n",
       "      <th></th>\n",
       "    </tr>\n",
       "  </thead>\n",
       "  <tbody>\n",
       "    <tr>\n",
       "      <th>1</th>\n",
       "      <td>C1</td>\n",
       "      <td>Exporter and Cargo</td>\n",
       "      <td>cFH38</td>\n",
       "      <td>1</td>\n",
       "      <td>10000</td>\n",
       "      <td>246</td>\n",
       "    </tr>\n",
       "    <tr>\n",
       "      <th>2</th>\n",
       "      <td>D1</td>\n",
       "      <td>Exporter and Cargo</td>\n",
       "      <td>cFH38</td>\n",
       "      <td>2</td>\n",
       "      <td>10000</td>\n",
       "      <td>218</td>\n",
       "    </tr>\n",
       "    <tr>\n",
       "      <th>3</th>\n",
       "      <td>E1</td>\n",
       "      <td>Exporter and Cargo</td>\n",
       "      <td>cFH38</td>\n",
       "      <td>3</td>\n",
       "      <td>10000</td>\n",
       "      <td>253</td>\n",
       "    </tr>\n",
       "    <tr>\n",
       "      <th>4</th>\n",
       "      <td>C3</td>\n",
       "      <td>Cargo</td>\n",
       "      <td>cFH16</td>\n",
       "      <td>1</td>\n",
       "      <td>10000</td>\n",
       "      <td>262</td>\n",
       "    </tr>\n",
       "    <tr>\n",
       "      <th>5</th>\n",
       "      <td>D3</td>\n",
       "      <td>Cargo</td>\n",
       "      <td>cFH16</td>\n",
       "      <td>2</td>\n",
       "      <td>10000</td>\n",
       "      <td>263</td>\n",
       "    </tr>\n",
       "    <tr>\n",
       "      <th>6</th>\n",
       "      <td>E3</td>\n",
       "      <td>Cargo</td>\n",
       "      <td>cFH16</td>\n",
       "      <td>3</td>\n",
       "      <td>10000</td>\n",
       "      <td>273</td>\n",
       "    </tr>\n",
       "    <tr>\n",
       "      <th>7</th>\n",
       "      <td>C5</td>\n",
       "      <td>Wild-type</td>\n",
       "      <td>HEK293T</td>\n",
       "      <td>1</td>\n",
       "      <td>10000</td>\n",
       "      <td>356</td>\n",
       "    </tr>\n",
       "    <tr>\n",
       "      <th>8</th>\n",
       "      <td>D5</td>\n",
       "      <td>Wild-type</td>\n",
       "      <td>HEK293T</td>\n",
       "      <td>2</td>\n",
       "      <td>10000</td>\n",
       "      <td>373</td>\n",
       "    </tr>\n",
       "    <tr>\n",
       "      <th>9</th>\n",
       "      <td>E5</td>\n",
       "      <td>Wild-type</td>\n",
       "      <td>HEK293T</td>\n",
       "      <td>3</td>\n",
       "      <td>10000</td>\n",
       "      <td>382</td>\n",
       "    </tr>\n",
       "  </tbody>\n",
       "</table>\n",
       "</div>"
      ],
      "text/plain": [
       "   well           condition cell_line  replicate  n_events  n_dead+\n",
       "id                                                                 \n",
       "1    C1  Exporter and Cargo     cFH38          1     10000      246\n",
       "2    D1  Exporter and Cargo     cFH38          2     10000      218\n",
       "3    E1  Exporter and Cargo     cFH38          3     10000      253\n",
       "4    C3               Cargo     cFH16          1     10000      262\n",
       "5    D3               Cargo     cFH16          2     10000      263\n",
       "6    E3               Cargo     cFH16          3     10000      273\n",
       "7    C5           Wild-type   HEK293T          1     10000      356\n",
       "8    D5           Wild-type   HEK293T          2     10000      373\n",
       "9    E5           Wild-type   HEK293T          3     10000      382"
      ]
     },
     "execution_count": 4,
     "metadata": {},
     "output_type": "execute_result"
    }
   ],
   "source": [
    "infile = \"../preprocessed_data/flow_data/flow_toxicity_stable_cell_line_summary.csv\"\n",
    "df_raw = pd.read_csv(infile, index_col=0)\n",
    "# df_raw = df_raw.set_index(\"cell_line\")\n",
    "print(df_raw.shape)\n",
    "df_raw"
   ]
  },
  {
   "cell_type": "markdown",
   "metadata": {
    "Collapsed": "false"
   },
   "source": [
    "# Preprocess data"
   ]
  },
  {
   "cell_type": "code",
   "execution_count": 5,
   "metadata": {
    "Collapsed": "false"
   },
   "outputs": [],
   "source": [
    "# Calculate fraction dead+\n",
    "df_raw[\"frac_dead+\"] = df_raw[\"n_dead+\"] / df_raw[\"n_events\"]\n",
    "\n",
    "# Convert to percentage\n",
    "df_raw[\"percent_dead+\"] = df_raw[\"frac_dead+\"] * 100"
   ]
  },
  {
   "cell_type": "code",
   "execution_count": 6,
   "metadata": {
    "Collapsed": "false"
   },
   "outputs": [],
   "source": [
    "df = df_raw.reset_index()"
   ]
  },
  {
   "cell_type": "code",
   "execution_count": 7,
   "metadata": {
    "Collapsed": "false"
   },
   "outputs": [
    {
     "data": {
      "text/html": [
       "<div>\n",
       "<style scoped>\n",
       "    .dataframe tbody tr th:only-of-type {\n",
       "        vertical-align: middle;\n",
       "    }\n",
       "\n",
       "    .dataframe tbody tr th {\n",
       "        vertical-align: top;\n",
       "    }\n",
       "\n",
       "    .dataframe thead th {\n",
       "        text-align: right;\n",
       "    }\n",
       "</style>\n",
       "<table border=\"1\" class=\"dataframe\">\n",
       "  <thead>\n",
       "    <tr style=\"text-align: right;\">\n",
       "      <th></th>\n",
       "      <th>id</th>\n",
       "      <th>well</th>\n",
       "      <th>condition</th>\n",
       "      <th>cell_line</th>\n",
       "      <th>replicate</th>\n",
       "      <th>n_events</th>\n",
       "      <th>n_dead+</th>\n",
       "      <th>frac_dead+</th>\n",
       "      <th>percent_dead+</th>\n",
       "    </tr>\n",
       "  </thead>\n",
       "  <tbody>\n",
       "    <tr>\n",
       "      <th>0</th>\n",
       "      <td>1</td>\n",
       "      <td>C1</td>\n",
       "      <td>Exporter and Cargo</td>\n",
       "      <td>cFH38</td>\n",
       "      <td>1</td>\n",
       "      <td>10000</td>\n",
       "      <td>246</td>\n",
       "      <td>0.0246</td>\n",
       "      <td>2.46</td>\n",
       "    </tr>\n",
       "    <tr>\n",
       "      <th>1</th>\n",
       "      <td>2</td>\n",
       "      <td>D1</td>\n",
       "      <td>Exporter and Cargo</td>\n",
       "      <td>cFH38</td>\n",
       "      <td>2</td>\n",
       "      <td>10000</td>\n",
       "      <td>218</td>\n",
       "      <td>0.0218</td>\n",
       "      <td>2.18</td>\n",
       "    </tr>\n",
       "    <tr>\n",
       "      <th>2</th>\n",
       "      <td>3</td>\n",
       "      <td>E1</td>\n",
       "      <td>Exporter and Cargo</td>\n",
       "      <td>cFH38</td>\n",
       "      <td>3</td>\n",
       "      <td>10000</td>\n",
       "      <td>253</td>\n",
       "      <td>0.0253</td>\n",
       "      <td>2.53</td>\n",
       "    </tr>\n",
       "    <tr>\n",
       "      <th>3</th>\n",
       "      <td>4</td>\n",
       "      <td>C3</td>\n",
       "      <td>Cargo</td>\n",
       "      <td>cFH16</td>\n",
       "      <td>1</td>\n",
       "      <td>10000</td>\n",
       "      <td>262</td>\n",
       "      <td>0.0262</td>\n",
       "      <td>2.62</td>\n",
       "    </tr>\n",
       "    <tr>\n",
       "      <th>4</th>\n",
       "      <td>5</td>\n",
       "      <td>D3</td>\n",
       "      <td>Cargo</td>\n",
       "      <td>cFH16</td>\n",
       "      <td>2</td>\n",
       "      <td>10000</td>\n",
       "      <td>263</td>\n",
       "      <td>0.0263</td>\n",
       "      <td>2.63</td>\n",
       "    </tr>\n",
       "    <tr>\n",
       "      <th>5</th>\n",
       "      <td>6</td>\n",
       "      <td>E3</td>\n",
       "      <td>Cargo</td>\n",
       "      <td>cFH16</td>\n",
       "      <td>3</td>\n",
       "      <td>10000</td>\n",
       "      <td>273</td>\n",
       "      <td>0.0273</td>\n",
       "      <td>2.73</td>\n",
       "    </tr>\n",
       "    <tr>\n",
       "      <th>6</th>\n",
       "      <td>7</td>\n",
       "      <td>C5</td>\n",
       "      <td>Wild-type</td>\n",
       "      <td>HEK293T</td>\n",
       "      <td>1</td>\n",
       "      <td>10000</td>\n",
       "      <td>356</td>\n",
       "      <td>0.0356</td>\n",
       "      <td>3.56</td>\n",
       "    </tr>\n",
       "    <tr>\n",
       "      <th>7</th>\n",
       "      <td>8</td>\n",
       "      <td>D5</td>\n",
       "      <td>Wild-type</td>\n",
       "      <td>HEK293T</td>\n",
       "      <td>2</td>\n",
       "      <td>10000</td>\n",
       "      <td>373</td>\n",
       "      <td>0.0373</td>\n",
       "      <td>3.73</td>\n",
       "    </tr>\n",
       "    <tr>\n",
       "      <th>8</th>\n",
       "      <td>9</td>\n",
       "      <td>E5</td>\n",
       "      <td>Wild-type</td>\n",
       "      <td>HEK293T</td>\n",
       "      <td>3</td>\n",
       "      <td>10000</td>\n",
       "      <td>382</td>\n",
       "      <td>0.0382</td>\n",
       "      <td>3.82</td>\n",
       "    </tr>\n",
       "  </tbody>\n",
       "</table>\n",
       "</div>"
      ],
      "text/plain": [
       "   id well           condition cell_line  replicate  n_events  n_dead+  frac_dead+  percent_dead+\n",
       "0   1   C1  Exporter and Cargo     cFH38          1     10000      246      0.0246           2.46\n",
       "1   2   D1  Exporter and Cargo     cFH38          2     10000      218      0.0218           2.18\n",
       "2   3   E1  Exporter and Cargo     cFH38          3     10000      253      0.0253           2.53\n",
       "3   4   C3               Cargo     cFH16          1     10000      262      0.0262           2.62\n",
       "4   5   D3               Cargo     cFH16          2     10000      263      0.0263           2.63\n",
       "5   6   E3               Cargo     cFH16          3     10000      273      0.0273           2.73\n",
       "6   7   C5           Wild-type   HEK293T          1     10000      356      0.0356           3.56\n",
       "7   8   D5           Wild-type   HEK293T          2     10000      373      0.0373           3.73\n",
       "8   9   E5           Wild-type   HEK293T          3     10000      382      0.0382           3.82"
      ]
     },
     "execution_count": 7,
     "metadata": {},
     "output_type": "execute_result"
    }
   ],
   "source": [
    "df"
   ]
  },
  {
   "cell_type": "markdown",
   "metadata": {
    "Collapsed": "false"
   },
   "source": [
    "# Plot abundance of dead+ events"
   ]
  },
  {
   "cell_type": "code",
   "execution_count": 8,
   "metadata": {
    "Collapsed": "false"
   },
   "outputs": [],
   "source": [
    "# Set colors\n",
    "\n",
    "color_exporter = \"#b7ade3\"\n",
    "color_no_exporter = \"#83888a\"\n",
    "color_heat_killed = \"#f5b577\"\n",
    "\n",
    "color_edge = \"#010101\""
   ]
  },
  {
   "cell_type": "code",
   "execution_count": 9,
   "metadata": {
    "Collapsed": "false"
   },
   "outputs": [
    {
     "data": {
      "text/html": [
       "<div>\n",
       "<style scoped>\n",
       "    .dataframe tbody tr th:only-of-type {\n",
       "        vertical-align: middle;\n",
       "    }\n",
       "\n",
       "    .dataframe tbody tr th {\n",
       "        vertical-align: top;\n",
       "    }\n",
       "\n",
       "    .dataframe thead th {\n",
       "        text-align: right;\n",
       "    }\n",
       "</style>\n",
       "<table border=\"1\" class=\"dataframe\">\n",
       "  <thead>\n",
       "    <tr style=\"text-align: right;\">\n",
       "      <th></th>\n",
       "      <th>id</th>\n",
       "      <th>well</th>\n",
       "      <th>condition</th>\n",
       "      <th>cell_line</th>\n",
       "      <th>replicate</th>\n",
       "      <th>n_events</th>\n",
       "      <th>n_dead+</th>\n",
       "      <th>frac_dead+</th>\n",
       "      <th>percent_dead+</th>\n",
       "    </tr>\n",
       "  </thead>\n",
       "  <tbody>\n",
       "    <tr>\n",
       "      <th>0</th>\n",
       "      <td>1</td>\n",
       "      <td>C1</td>\n",
       "      <td>Exporter and Cargo</td>\n",
       "      <td>cFH38</td>\n",
       "      <td>1</td>\n",
       "      <td>10000</td>\n",
       "      <td>246</td>\n",
       "      <td>0.0246</td>\n",
       "      <td>2.46</td>\n",
       "    </tr>\n",
       "    <tr>\n",
       "      <th>1</th>\n",
       "      <td>2</td>\n",
       "      <td>D1</td>\n",
       "      <td>Exporter and Cargo</td>\n",
       "      <td>cFH38</td>\n",
       "      <td>2</td>\n",
       "      <td>10000</td>\n",
       "      <td>218</td>\n",
       "      <td>0.0218</td>\n",
       "      <td>2.18</td>\n",
       "    </tr>\n",
       "    <tr>\n",
       "      <th>2</th>\n",
       "      <td>3</td>\n",
       "      <td>E1</td>\n",
       "      <td>Exporter and Cargo</td>\n",
       "      <td>cFH38</td>\n",
       "      <td>3</td>\n",
       "      <td>10000</td>\n",
       "      <td>253</td>\n",
       "      <td>0.0253</td>\n",
       "      <td>2.53</td>\n",
       "    </tr>\n",
       "    <tr>\n",
       "      <th>3</th>\n",
       "      <td>4</td>\n",
       "      <td>C3</td>\n",
       "      <td>Cargo</td>\n",
       "      <td>cFH16</td>\n",
       "      <td>1</td>\n",
       "      <td>10000</td>\n",
       "      <td>262</td>\n",
       "      <td>0.0262</td>\n",
       "      <td>2.62</td>\n",
       "    </tr>\n",
       "    <tr>\n",
       "      <th>4</th>\n",
       "      <td>5</td>\n",
       "      <td>D3</td>\n",
       "      <td>Cargo</td>\n",
       "      <td>cFH16</td>\n",
       "      <td>2</td>\n",
       "      <td>10000</td>\n",
       "      <td>263</td>\n",
       "      <td>0.0263</td>\n",
       "      <td>2.63</td>\n",
       "    </tr>\n",
       "  </tbody>\n",
       "</table>\n",
       "</div>"
      ],
      "text/plain": [
       "   id well           condition cell_line  replicate  n_events  n_dead+  frac_dead+  percent_dead+\n",
       "0   1   C1  Exporter and Cargo     cFH38          1     10000      246      0.0246           2.46\n",
       "1   2   D1  Exporter and Cargo     cFH38          2     10000      218      0.0218           2.18\n",
       "2   3   E1  Exporter and Cargo     cFH38          3     10000      253      0.0253           2.53\n",
       "3   4   C3               Cargo     cFH16          1     10000      262      0.0262           2.62\n",
       "4   5   D3               Cargo     cFH16          2     10000      263      0.0263           2.63"
      ]
     },
     "execution_count": 9,
     "metadata": {},
     "output_type": "execute_result"
    }
   ],
   "source": [
    "# Set order of samples\n",
    "cell_lines_ordered = [\"cFH38\", \"cFH16\", \"HEK293T\"]\n",
    "\n",
    "df[\"cell_line\"] = pd.Categorical(df[\"cell_line\"], categories=cell_lines_ordered, ordered=True)  # convert to categorical with order\n",
    "\n",
    "df = df.sort_values(by=[\"cell_line\", \"replicate\"], ascending=True)  # sort values by sample\n",
    "\n",
    "df.head()"
   ]
  },
  {
   "cell_type": "code",
   "execution_count": 10,
   "metadata": {
    "Collapsed": "false"
   },
   "outputs": [
    {
     "data": {
      "image/png": "[encoded data removed]",
      "text/plain": [
       "<Figure size 450x180 with 1 Axes>"
      ]
     },
     "metadata": {},
     "output_type": "display_data"
    }
   ],
   "source": [
    "# Pretty plot of all samples (not scaled optimally)\n",
    "\n",
    "palette = [color_exporter] + [color_no_exporter]*2\n",
    "# palette = palette[::-1]\n",
    "\n",
    "fig, ax = plt.subplots(1, 1, figsize=(1.5,0.6))\n",
    "\n",
    "sns.barplot(ax=ax, data=df,\n",
    "            y=\"cell_line\",\n",
    "            x=\"percent_dead+\",\n",
    "            label=\"sample\",\n",
    "            palette=palette,\n",
    "            edgecolor=color_edge,\n",
    "            linewidth=0.2,\n",
    "            errorbar=None,\n",
    "            orient=\"h\")\n",
    "\n",
    "sns.swarmplot(ax=ax, data=df,\n",
    "            y=\"cell_line\",\n",
    "            x=\"percent_dead+\",\n",
    "            color=\"#474a4b\",\n",
    "            size=3,\n",
    "            edgecolor=\"#010101\",\n",
    "            linewidth=0.2,\n",
    "            orient=\"h\")\n",
    "\n",
    "ax.set_xlim(0, 10)\n",
    "ax.set_xticks([0, 2, 4, 6, 8, 10])\n",
    "\n",
    "ax.set_xlabel(\"Dead+ of all events (%)\")\n",
    "ax.set_ylabel(\"\")\n",
    "\n",
    "ax.set_yticklabels([\"Exporter and reporter\",\n",
    "                    \"Reporter alone\",\n",
    "                    \"Parental HEK293T cells\"])\n",
    "\n",
    "ax.xaxis.tick_top()\n",
    "ax.xaxis.set_label_position('top')\n",
    "\n",
    "ax.get_legend().remove()\n",
    "\n",
    "save_figure(fig, \"swarmplot_dead\")"
   ]
  },
  {
   "cell_type": "code",
   "execution_count": null,
   "metadata": {
    "Collapsed": "false"
   },
   "outputs": [],
   "source": []
  }
 ],
 "metadata": {
  "kernelspec": {
   "display_name": "RNA_export_magic",
   "language": "python",
   "name": "rna_export_magic"
  },
  "language_info": {
   "codemirror_mode": {
    "name": "ipython",
    "version": 3
   },
   "file_extension": ".py",
   "mimetype": "text/x-python",
   "name": "python",
   "nbconvert_exporter": "python",
   "pygments_lexer": "ipython3",
   "version": "3.7.7"
  }
 },
 "nbformat": 4,
 "nbformat_minor": 4
}
