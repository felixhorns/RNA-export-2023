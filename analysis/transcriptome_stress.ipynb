{
 "cells": [
  {
   "cell_type": "markdown",
   "metadata": {
    "Collapsed": "false"
   },
   "source": [
    "# Characterizing perturbation of cellular transcriptomes due to RNA exporter expression"
   ]
  },
  {
   "cell_type": "markdown",
   "metadata": {
    "Collapsed": "false",
    "toc-hr-collapsed": false
   },
   "source": [
    "# Introduction"
   ]
  },
  {
   "cell_type": "markdown",
   "metadata": {
    "Collapsed": "false"
   },
   "source": [
    "## Imports"
   ]
  },
  {
   "cell_type": "code",
   "execution_count": 1,
   "metadata": {
    "Collapsed": "false"
   },
   "outputs": [],
   "source": [
    "import sys\n",
    "import os\n",
    "import time\n",
    "\n",
    "import numpy as np\n",
    "import scipy\n",
    "import pandas as pd\n",
    "\n",
    "%matplotlib inline\n",
    "from matplotlib import pyplot as plt\n",
    "import matplotlib as mpl\n",
    "import seaborn as sns"
   ]
  },
  {
   "cell_type": "markdown",
   "metadata": {
    "Collapsed": "false"
   },
   "source": [
    "## Set output parameters"
   ]
  },
  {
   "cell_type": "code",
   "execution_count": 2,
   "metadata": {
    "Collapsed": "false"
   },
   "outputs": [],
   "source": [
    "# Set pandas display options\n",
    "pd.set_option('display.max_rows', 30)\n",
    "pd.set_option('display.max_columns', 100)\n",
    "pd.set_option('display.width', 1000)\n",
    "\n",
    "# Set plot display options\n",
    "FONTSIZE = 8  # universal fontsize\n",
    "params = {\n",
    "    'font.size': FONTSIZE,\n",
    "    'axes.titlesize': FONTSIZE,\n",
    "    'axes.labelsize': FONTSIZE,\n",
    "    'legend.fontsize': FONTSIZE,\n",
    "    'xtick.labelsize': FONTSIZE,\n",
    "    'ytick.labelsize': FONTSIZE,\n",
    "    'font.family': \"Helvetica\",\n",
    "    'mathtext.fontset': 'custom',\n",
    "    'pdf.fonttype': 42,\n",
    "    'ps.fonttype': 42,\n",
    "    'figure.dpi': 300\n",
    "   }\n",
    "mpl.rcParams.update(params)\n",
    "sns.set_style(\"ticks\", {'axes.grid' : False})\n",
    "\n",
    "# Set plot output options\n",
    "output_dir = \"outs/transcriptome_stress\"\n",
    "output_suffix = \"\"\n",
    "output_formats = [\".png\", \".pdf\"]\n",
    "\n",
    "mpl.rc('savefig', dpi=300)\n",
    "\n",
    "# Define convenience function for saving figures\n",
    "\n",
    "savefig = True\n",
    "savefig_args = {\"dpi\": 300, \"bbox_inches\": \"tight\", \"pad_inches\": 0.1}\n",
    "\n",
    "def save_figure(fig, name, output_dir=output_dir, output_suffix=output_suffix, output_formats=output_formats, savefig_args=savefig_args):\n",
    "    if savefig:\n",
    "        for output_format in output_formats:\n",
    "            fig.savefig(output_dir + \"/\" + name + output_suffix + output_format, **savefig_args)\n",
    "    return None"
   ]
  },
  {
   "cell_type": "code",
   "execution_count": 3,
   "metadata": {
    "Collapsed": "false"
   },
   "outputs": [
    {
     "data": {
      "text/plain": [
       "{'font.size': 8.0,\n",
       " 'axes.labelsize': 8.0,\n",
       " 'axes.titlesize': 8.0,\n",
       " 'xtick.labelsize': 8.0,\n",
       " 'ytick.labelsize': 8.0,\n",
       " 'legend.fontsize': 8.0,\n",
       " 'legend.title_fontsize': None,\n",
       " 'axes.linewidth': 0.8,\n",
       " 'grid.linewidth': 0.8,\n",
       " 'lines.linewidth': 1.5,\n",
       " 'lines.markersize': 6.0,\n",
       " 'patch.linewidth': 1.0,\n",
       " 'xtick.major.width': 0.8,\n",
       " 'ytick.major.width': 0.8,\n",
       " 'xtick.minor.width': 0.6,\n",
       " 'ytick.minor.width': 0.6,\n",
       " 'xtick.major.size': 3.5,\n",
       " 'ytick.major.size': 3.5,\n",
       " 'xtick.minor.size': 2.0,\n",
       " 'ytick.minor.size': 2.0}"
      ]
     },
     "execution_count": 3,
     "metadata": {},
     "output_type": "execute_result"
    }
   ],
   "source": [
    "# Report plot parameters\n",
    "sns.plotting_context()"
   ]
  },
  {
   "cell_type": "markdown",
   "metadata": {
    "Collapsed": "false",
    "toc-hr-collapsed": false
   },
   "source": [
    "# Load data"
   ]
  },
  {
   "cell_type": "markdown",
   "metadata": {
    "Collapsed": "false"
   },
   "source": [
    "## Load read counts"
   ]
  },
  {
   "cell_type": "code",
   "execution_count": 4,
   "metadata": {
    "Collapsed": "false"
   },
   "outputs": [
    {
     "name": "stdout",
     "output_type": "stream",
     "text": [
      "(60766, 8)\n"
     ]
    },
    {
     "data": {
      "text/html": [
       "<div>\n",
       "<style scoped>\n",
       "    .dataframe tbody tr th:only-of-type {\n",
       "        vertical-align: middle;\n",
       "    }\n",
       "\n",
       "    .dataframe tbody tr th {\n",
       "        vertical-align: top;\n",
       "    }\n",
       "\n",
       "    .dataframe thead th {\n",
       "        text-align: right;\n",
       "    }\n",
       "</style>\n",
       "<table border=\"1\" class=\"dataframe\">\n",
       "  <thead>\n",
       "    <tr style=\"text-align: right;\">\n",
       "      <th></th>\n",
       "      <th>L220420_1</th>\n",
       "      <th>L220420_2</th>\n",
       "      <th>L220420_3</th>\n",
       "      <th>L220420_4</th>\n",
       "      <th>L220420_5</th>\n",
       "      <th>L220420_6</th>\n",
       "      <th>L220420_7</th>\n",
       "      <th>L220420_8</th>\n",
       "    </tr>\n",
       "    <tr>\n",
       "      <th>symbol</th>\n",
       "      <th></th>\n",
       "      <th></th>\n",
       "      <th></th>\n",
       "      <th></th>\n",
       "      <th></th>\n",
       "      <th></th>\n",
       "      <th></th>\n",
       "      <th></th>\n",
       "    </tr>\n",
       "  </thead>\n",
       "  <tbody>\n",
       "    <tr>\n",
       "      <th>EGFP</th>\n",
       "      <td>198592</td>\n",
       "      <td>98788</td>\n",
       "      <td>93438</td>\n",
       "      <td>62364</td>\n",
       "      <td>0</td>\n",
       "      <td>0</td>\n",
       "      <td>0</td>\n",
       "      <td>0</td>\n",
       "    </tr>\n",
       "    <tr>\n",
       "      <th>ENSG00000000003</th>\n",
       "      <td>2691</td>\n",
       "      <td>2615</td>\n",
       "      <td>2802</td>\n",
       "      <td>2800</td>\n",
       "      <td>2464</td>\n",
       "      <td>3358</td>\n",
       "      <td>3184</td>\n",
       "      <td>2991</td>\n",
       "    </tr>\n",
       "    <tr>\n",
       "      <th>ENSG00000000005</th>\n",
       "      <td>7</td>\n",
       "      <td>2</td>\n",
       "      <td>8</td>\n",
       "      <td>7</td>\n",
       "      <td>5</td>\n",
       "      <td>8</td>\n",
       "      <td>10</td>\n",
       "      <td>11</td>\n",
       "    </tr>\n",
       "    <tr>\n",
       "      <th>ENSG00000000419</th>\n",
       "      <td>1514</td>\n",
       "      <td>1543</td>\n",
       "      <td>1533</td>\n",
       "      <td>1536</td>\n",
       "      <td>1263</td>\n",
       "      <td>1936</td>\n",
       "      <td>1291</td>\n",
       "      <td>1139</td>\n",
       "    </tr>\n",
       "    <tr>\n",
       "      <th>ENSG00000000457</th>\n",
       "      <td>535</td>\n",
       "      <td>614</td>\n",
       "      <td>653</td>\n",
       "      <td>625</td>\n",
       "      <td>522</td>\n",
       "      <td>686</td>\n",
       "      <td>614</td>\n",
       "      <td>557</td>\n",
       "    </tr>\n",
       "  </tbody>\n",
       "</table>\n",
       "</div>"
      ],
      "text/plain": [
       "                 L220420_1  L220420_2  L220420_3  L220420_4  L220420_5  L220420_6  L220420_7  L220420_8\n",
       "symbol                                                                                                 \n",
       "EGFP                198592      98788      93438      62364          0          0          0          0\n",
       "ENSG00000000003       2691       2615       2802       2800       2464       3358       3184       2991\n",
       "ENSG00000000005          7          2          8          7          5          8         10         11\n",
       "ENSG00000000419       1514       1543       1533       1536       1263       1936       1291       1139\n",
       "ENSG00000000457        535        614        653        625        522        686        614        557"
      ]
     },
     "execution_count": 4,
     "metadata": {},
     "output_type": "execute_result"
    }
   ],
   "source": [
    "# Load read counts\n",
    "\n",
    "infile = \"../preprocessed_data/transcriptome_data/transcriptomics_cell/htseq.tab\"\n",
    "\n",
    "counts_raw = pd.read_csv(infile, sep=\"\\t\", header=0, index_col=0)\n",
    "\n",
    "print(counts_raw.shape)\n",
    "counts_raw.head()"
   ]
  },
  {
   "cell_type": "code",
   "execution_count": 5,
   "metadata": {
    "Collapsed": "false"
   },
   "outputs": [
    {
     "name": "stdout",
     "output_type": "stream",
     "text": [
      "(8, 6)\n"
     ]
    },
    {
     "data": {
      "text/html": [
       "<div>\n",
       "<style scoped>\n",
       "    .dataframe tbody tr th:only-of-type {\n",
       "        vertical-align: middle;\n",
       "    }\n",
       "\n",
       "    .dataframe tbody tr th {\n",
       "        vertical-align: top;\n",
       "    }\n",
       "\n",
       "    .dataframe thead th {\n",
       "        text-align: right;\n",
       "    }\n",
       "</style>\n",
       "<table border=\"1\" class=\"dataframe\">\n",
       "  <thead>\n",
       "    <tr style=\"text-align: right;\">\n",
       "      <th></th>\n",
       "      <th>input</th>\n",
       "      <th>uniquely_mapped</th>\n",
       "      <th>multiple_loci</th>\n",
       "      <th>too_many_loci</th>\n",
       "      <th>percent_unmapped_too_many_mismatches</th>\n",
       "      <th>percent_unmapped_too_short</th>\n",
       "    </tr>\n",
       "    <tr>\n",
       "      <th>name</th>\n",
       "      <th></th>\n",
       "      <th></th>\n",
       "      <th></th>\n",
       "      <th></th>\n",
       "      <th></th>\n",
       "      <th></th>\n",
       "    </tr>\n",
       "  </thead>\n",
       "  <tbody>\n",
       "    <tr>\n",
       "      <th>L220420_1</th>\n",
       "      <td>29963299</td>\n",
       "      <td>27685662</td>\n",
       "      <td>779784</td>\n",
       "      <td>1709</td>\n",
       "      <td>0.00%</td>\n",
       "      <td>4.89%</td>\n",
       "    </tr>\n",
       "    <tr>\n",
       "      <th>L220420_2</th>\n",
       "      <td>30128511</td>\n",
       "      <td>28122430</td>\n",
       "      <td>753757</td>\n",
       "      <td>1678</td>\n",
       "      <td>0.00%</td>\n",
       "      <td>4.05%</td>\n",
       "    </tr>\n",
       "    <tr>\n",
       "      <th>L220420_3</th>\n",
       "      <td>32130108</td>\n",
       "      <td>29744539</td>\n",
       "      <td>838508</td>\n",
       "      <td>1889</td>\n",
       "      <td>0.00%</td>\n",
       "      <td>4.71%</td>\n",
       "    </tr>\n",
       "    <tr>\n",
       "      <th>L220420_4</th>\n",
       "      <td>30889272</td>\n",
       "      <td>29110999</td>\n",
       "      <td>764261</td>\n",
       "      <td>1526</td>\n",
       "      <td>0.00%</td>\n",
       "      <td>3.18%</td>\n",
       "    </tr>\n",
       "    <tr>\n",
       "      <th>L220420_5</th>\n",
       "      <td>24751627</td>\n",
       "      <td>23159223</td>\n",
       "      <td>625418</td>\n",
       "      <td>1401</td>\n",
       "      <td>0.00%</td>\n",
       "      <td>3.80%</td>\n",
       "    </tr>\n",
       "  </tbody>\n",
       "</table>\n",
       "</div>"
      ],
      "text/plain": [
       "              input  uniquely_mapped  multiple_loci  too_many_loci percent_unmapped_too_many_mismatches percent_unmapped_too_short\n",
       "name                                                                                                                              \n",
       "L220420_1  29963299         27685662         779784           1709                                0.00%                      4.89%\n",
       "L220420_2  30128511         28122430         753757           1678                                0.00%                      4.05%\n",
       "L220420_3  32130108         29744539         838508           1889                                0.00%                      4.71%\n",
       "L220420_4  30889272         29110999         764261           1526                                0.00%                      3.18%\n",
       "L220420_5  24751627         23159223         625418           1401                                0.00%                      3.80%"
      ]
     },
     "execution_count": 5,
     "metadata": {},
     "output_type": "execute_result"
    }
   ],
   "source": [
    "# Load mapping statistics\n",
    "\n",
    "infile = \"../preprocessed_data/transcriptome_data/transcriptomics_cell/STAR.tab\"\n",
    "\n",
    "star_raw = pd.read_csv(infile, sep=\"\\t\", header=0, index_col=0)\n",
    "\n",
    "print(star_raw.shape)\n",
    "star_raw.head()"
   ]
  },
  {
   "cell_type": "markdown",
   "metadata": {
    "Collapsed": "false"
   },
   "source": [
    "## Load additional resources"
   ]
  },
  {
   "cell_type": "code",
   "execution_count": 6,
   "metadata": {
    "Collapsed": "false"
   },
   "outputs": [
    {
     "name": "stdout",
     "output_type": "stream",
     "text": [
      "Loaded 92 gene names\n"
     ]
    }
   ],
   "source": [
    "# Load ERCC gene names\n",
    "\n",
    "infile = \"../resources/names_ERCC92.txt\"\n",
    "\n",
    "names_ERCC = []\n",
    "with open(infile) as f:\n",
    "    for line in f:\n",
    "        names_ERCC.append(line.rstrip())\n",
    "print(\"Loaded\", len(names_ERCC), \"gene names\")"
   ]
  },
  {
   "cell_type": "markdown",
   "metadata": {
    "Collapsed": "false"
   },
   "source": [
    "## Specify sample information (names, colors)"
   ]
  },
  {
   "cell_type": "code",
   "execution_count": 7,
   "metadata": {
    "Collapsed": "false"
   },
   "outputs": [],
   "source": [
    "# Set transgene names\n",
    "names_transgenes = [\"EGFP\", \"mCherry\", \"mTagBFP2\"]"
   ]
  },
  {
   "cell_type": "code",
   "execution_count": 8,
   "metadata": {
    "Collapsed": "false"
   },
   "outputs": [],
   "source": [
    "# Set gene colors\n",
    "gene_to_color = {\"mCherry\": \"#dc2a24\", \"EGFP\": \"#6f69a0\", \"mTagBFP2\": \"#9b9d9f\"}\n",
    "\n",
    "# Set gene markers\n",
    "gene_to_marker = {\"mCherry\": \"*\", \"EGFP\": \"s\", \"mTagBFP2\": \"o\"}"
   ]
  },
  {
   "cell_type": "code",
   "execution_count": 9,
   "metadata": {
    "Collapsed": "false"
   },
   "outputs": [],
   "source": [
    "# Set sample labels (more descriptive names)\n",
    "col_to_sample = {\"L220420_1\": \"MMLV_Gag\",\n",
    "                 \"L220420_2\": \"Gag-MCP\",\n",
    "                 \"L220420_3\": \"GagZip-MCP\",\n",
    "                 \"L220420_4\": \"EPN24-MCP\",\n",
    "                 \"L220420_5\": \"No_Exporter_Psi\", \n",
    "                 \"L220420_6\": \"No_Exporter_MS2x8\",\n",
    "                 \"L220420_7\": \"No_DNA\",\n",
    "                 \"L220420_8\": \"No_Transfection\"}\n",
    "\n",
    "# Set sample colors\n",
    "col_to_color = {\"L220420_1\": \"#3c955b\",\n",
    "                 \"L220420_2\": \"#a29fc2\",\n",
    "                 \"L220420_3\": \"#7b74aa\",\n",
    "                 \"L220420_4\": \"#563583\",\n",
    "                 \"L220420_5\": \"#fcd0a2\", \n",
    "                 \"L220420_6\": \"#f68c3f\",\n",
    "                 \"L220420_7\": \"#8a8c8f\",\n",
    "                 \"L220420_8\": \"#c5c6c8\"}\n",
    "\n",
    "# Convert to map from sample label to color\n",
    "sample_to_color = {v: col_to_color[k] for k, v in col_to_sample.items()}\n"
   ]
  },
  {
   "cell_type": "markdown",
   "metadata": {
    "Collapsed": "false",
    "toc-hr-collapsed": false
   },
   "source": [
    "# Preprocess data"
   ]
  },
  {
   "cell_type": "markdown",
   "metadata": {
    "Collapsed": "false"
   },
   "source": [
    "## Rename samples with more informative names"
   ]
  },
  {
   "cell_type": "code",
   "execution_count": 10,
   "metadata": {
    "Collapsed": "false"
   },
   "outputs": [],
   "source": [
    "counts_raw = counts_raw.rename(mapper=col_to_sample, axis=1)\n",
    "star_raw = star_raw.rename(mapper=col_to_sample, axis=0)"
   ]
  },
  {
   "cell_type": "markdown",
   "metadata": {
    "Collapsed": "false"
   },
   "source": [
    "## Convert gene names from Ensembl to symbol"
   ]
  },
  {
   "cell_type": "code",
   "execution_count": 11,
   "metadata": {
    "Collapsed": "false"
   },
   "outputs": [],
   "source": [
    "# Convert gene names from Ensembl to symbols (actually symbol underscore Ensembl ID)\n",
    "df_ensembleToSymbol = pd.read_csv(\"../resources/Ensembl_to_symbol.csv\", header=0, index_col=0, sep=\",\")\n",
    "counts_raw[\"symbol_ensembl\"] = df_ensembleToSymbol.loc[counts_raw.index][\"symbol_ensembl\"]\n",
    "counts_raw.set_index(\"symbol_ensembl\", inplace=True)"
   ]
  },
  {
   "cell_type": "markdown",
   "metadata": {
    "Collapsed": "false"
   },
   "source": [
    "## Drop genes that are never observed"
   ]
  },
  {
   "cell_type": "code",
   "execution_count": 12,
   "metadata": {
    "Collapsed": "false"
   },
   "outputs": [
    {
     "name": "stdout",
     "output_type": "stream",
     "text": [
      "29978 genes are never observed (count = 0 for all samples)\n",
      "49.33350887009183 % of genes are never observed (count = 0 for all samples)\n"
     ]
    }
   ],
   "source": [
    "print(np.sum(counts_raw.sum(axis=1) == 0), \"genes are never observed (count = 0 for all samples)\")\n",
    "print(np.mean(counts_raw.sum(axis=1) == 0)*100, \"% of genes are never observed (count = 0 for all samples)\")"
   ]
  },
  {
   "cell_type": "code",
   "execution_count": 13,
   "metadata": {
    "Collapsed": "false"
   },
   "outputs": [
    {
     "name": "stdout",
     "output_type": "stream",
     "text": [
      "(30882, 8)\n"
     ]
    },
    {
     "data": {
      "text/html": [
       "<div>\n",
       "<style scoped>\n",
       "    .dataframe tbody tr th:only-of-type {\n",
       "        vertical-align: middle;\n",
       "    }\n",
       "\n",
       "    .dataframe tbody tr th {\n",
       "        vertical-align: top;\n",
       "    }\n",
       "\n",
       "    .dataframe thead th {\n",
       "        text-align: right;\n",
       "    }\n",
       "</style>\n",
       "<table border=\"1\" class=\"dataframe\">\n",
       "  <thead>\n",
       "    <tr style=\"text-align: right;\">\n",
       "      <th></th>\n",
       "      <th>MMLV_Gag</th>\n",
       "      <th>Gag-MCP</th>\n",
       "      <th>GagZip-MCP</th>\n",
       "      <th>EPN24-MCP</th>\n",
       "      <th>No_Exporter_Psi</th>\n",
       "      <th>No_Exporter_MS2x8</th>\n",
       "      <th>No_DNA</th>\n",
       "      <th>No_Transfection</th>\n",
       "    </tr>\n",
       "    <tr>\n",
       "      <th>symbol_ensembl</th>\n",
       "      <th></th>\n",
       "      <th></th>\n",
       "      <th></th>\n",
       "      <th></th>\n",
       "      <th></th>\n",
       "      <th></th>\n",
       "      <th></th>\n",
       "      <th></th>\n",
       "    </tr>\n",
       "  </thead>\n",
       "  <tbody>\n",
       "    <tr>\n",
       "      <th>EGFP</th>\n",
       "      <td>198592</td>\n",
       "      <td>98788</td>\n",
       "      <td>93438</td>\n",
       "      <td>62364</td>\n",
       "      <td>0</td>\n",
       "      <td>0</td>\n",
       "      <td>0</td>\n",
       "      <td>0</td>\n",
       "    </tr>\n",
       "    <tr>\n",
       "      <th>TSPAN6_ENSG00000000003</th>\n",
       "      <td>2691</td>\n",
       "      <td>2615</td>\n",
       "      <td>2802</td>\n",
       "      <td>2800</td>\n",
       "      <td>2464</td>\n",
       "      <td>3358</td>\n",
       "      <td>3184</td>\n",
       "      <td>2991</td>\n",
       "    </tr>\n",
       "    <tr>\n",
       "      <th>TNMD_ENSG00000000005</th>\n",
       "      <td>7</td>\n",
       "      <td>2</td>\n",
       "      <td>8</td>\n",
       "      <td>7</td>\n",
       "      <td>5</td>\n",
       "      <td>8</td>\n",
       "      <td>10</td>\n",
       "      <td>11</td>\n",
       "    </tr>\n",
       "    <tr>\n",
       "      <th>DPM1_ENSG00000000419</th>\n",
       "      <td>1514</td>\n",
       "      <td>1543</td>\n",
       "      <td>1533</td>\n",
       "      <td>1536</td>\n",
       "      <td>1263</td>\n",
       "      <td>1936</td>\n",
       "      <td>1291</td>\n",
       "      <td>1139</td>\n",
       "    </tr>\n",
       "    <tr>\n",
       "      <th>SCYL3_ENSG00000000457</th>\n",
       "      <td>535</td>\n",
       "      <td>614</td>\n",
       "      <td>653</td>\n",
       "      <td>625</td>\n",
       "      <td>522</td>\n",
       "      <td>686</td>\n",
       "      <td>614</td>\n",
       "      <td>557</td>\n",
       "    </tr>\n",
       "  </tbody>\n",
       "</table>\n",
       "</div>"
      ],
      "text/plain": [
       "                        MMLV_Gag  Gag-MCP  GagZip-MCP  EPN24-MCP  No_Exporter_Psi  No_Exporter_MS2x8  No_DNA  No_Transfection\n",
       "symbol_ensembl                                                                                                               \n",
       "EGFP                      198592    98788       93438      62364                0                  0       0                0\n",
       "TSPAN6_ENSG00000000003      2691     2615        2802       2800             2464               3358    3184             2991\n",
       "TNMD_ENSG00000000005           7        2           8          7                5                  8      10               11\n",
       "DPM1_ENSG00000000419        1514     1543        1533       1536             1263               1936    1291             1139\n",
       "SCYL3_ENSG00000000457        535      614         653        625              522                686     614              557"
      ]
     },
     "execution_count": 13,
     "metadata": {},
     "output_type": "execute_result"
    }
   ],
   "source": [
    "names_unmapped = ['__no_feature', '__ambiguous', '__too_low_aQual', '__not_aligned', '__alignment_not_unique']\n",
    "\n",
    "names_not_observed = counts_raw.loc[counts_raw.sum(axis=1) == 0].index  # names of genes that were never observed\n",
    "names_not_observed_clean = list(set(names_not_observed) - set(names_unmapped + names_ERCC + names_transgenes))  # remove names of special genes that we want to keep\n",
    "\n",
    "counts_raw = counts_raw.drop(names_not_observed_clean)  # drop genes\n",
    "\n",
    "print(counts_raw.shape)\n",
    "counts_raw.head()"
   ]
  },
  {
   "cell_type": "markdown",
   "metadata": {
    "Collapsed": "false"
   },
   "source": [
    "## Calculate more useful mapping statistics"
   ]
  },
  {
   "cell_type": "code",
   "execution_count": 14,
   "metadata": {
    "Collapsed": "false"
   },
   "outputs": [],
   "source": [
    "# Calculate additional useful metrics from STAR output\n",
    "star_raw[\"frac_uniquely_mapped\"] = star_raw[\"uniquely_mapped\"] / star_raw[\"input\"]\n",
    "star_raw[\"percent_uniquely_mapped\"] = 100 * star_raw[\"frac_uniquely_mapped\"]"
   ]
  },
  {
   "cell_type": "markdown",
   "metadata": {
    "Collapsed": "false"
   },
   "source": [
    "## Normalize by read depth (calculate CPM)"
   ]
  },
  {
   "cell_type": "code",
   "execution_count": 15,
   "metadata": {
    "Collapsed": "false"
   },
   "outputs": [],
   "source": [
    "counts_cpm = counts_raw.copy()  # work with a copy of the counts, so we don't touch the raw counts\n",
    "\n",
    "# Drop symbols for mapping reporting\n",
    "counts_cpm = counts_cpm.drop(names_unmapped, axis=0)\n",
    "\n",
    "# Normalize by total read number\n",
    "counts_cpm = counts_cpm / counts_cpm.sum(axis=0)\n",
    "\n",
    "# Multiply by 1e6 to get counts per million\n",
    "counts_cpm = 1e6 * counts_cpm"
   ]
  },
  {
   "cell_type": "markdown",
   "metadata": {
    "Collapsed": "false"
   },
   "source": [
    "## Log transform (calculate log2(CPM+1))"
   ]
  },
  {
   "cell_type": "code",
   "execution_count": 16,
   "metadata": {
    "Collapsed": "false"
   },
   "outputs": [],
   "source": [
    "# Add pseudocounts and log transform\n",
    "counts = np.log2(counts_cpm + 1)"
   ]
  },
  {
   "cell_type": "markdown",
   "metadata": {
    "Collapsed": "false"
   },
   "source": [
    "# Plot mapping statistics"
   ]
  },
  {
   "cell_type": "code",
   "execution_count": 17,
   "metadata": {
    "Collapsed": "false"
   },
   "outputs": [
    {
     "data": {
      "image/png": "[encoded data removed]",
      "text/plain": [
       "<Figure size 3000x900 with 3 Axes>"
      ]
     },
     "metadata": {},
     "output_type": "display_data"
    }
   ],
   "source": [
    "fig, axes = plt.subplots(1, 3, figsize=(10,3), sharey=True)\n",
    "\n",
    "ax = axes[0]\n",
    "star_raw.input.plot(ax=ax, kind=\"barh\", log=True)\n",
    "ax.invert_yaxis()\n",
    "ax.set_xscale(\"log\")\n",
    "ax.set_xlim(1e6, 1e8)\n",
    "ax.xaxis.tick_top()\n",
    "ax.set_xlabel(\"Reads\", labelpad=10)\n",
    "ax.xaxis.set_label_position('top')\n",
    "ax.set_ylabel(\"\")\n",
    "\n",
    "ax = axes[1]\n",
    "star_raw.uniquely_mapped.plot(ax=ax, kind=\"barh\")\n",
    "ax.invert_yaxis()\n",
    "ax.set_xscale(\"log\")\n",
    "ax.set_xlim(1e6, 1e8)\n",
    "ax.xaxis.tick_top()\n",
    "ax.set_xlabel(\"Uniquely mapped reads\", labelpad=10)\n",
    "ax.xaxis.set_label_position('top') \n",
    "\n",
    "ax = axes[2]\n",
    "star_raw.percent_uniquely_mapped.plot(ax=ax, kind=\"barh\")\n",
    "ax.invert_yaxis()\n",
    "ax.set_xlim(0, 100)\n",
    "ax.xaxis.tick_top()\n",
    "ax.set_xlabel(\"Uniquely mapped reads (%)\", labelpad=14)\n",
    "ax.xaxis.set_label_position('top')"
   ]
  },
  {
   "cell_type": "markdown",
   "metadata": {
    "Collapsed": "false",
    "toc-hr-collapsed": false
   },
   "source": [
    "# Differential expression analysis"
   ]
  },
  {
   "cell_type": "markdown",
   "metadata": {
    "Collapsed": "false"
   },
   "source": [
    "To analyze differential expression, we use DESeq2 in R. To achieve this, we export the data to temporary files. In an auxilliary notebook running in R, we import the data, run DESeq2, then export the results. Finally, we import the results and analyze and visualize them here."
   ]
  },
  {
   "cell_type": "markdown",
   "metadata": {
    "Collapsed": "false"
   },
   "source": [
    "## Export data to temporary files"
   ]
  },
  {
   "cell_type": "code",
   "execution_count": 18,
   "metadata": {
    "Collapsed": "false"
   },
   "outputs": [
    {
     "data": {
      "text/html": [
       "<div>\n",
       "<style scoped>\n",
       "    .dataframe tbody tr th:only-of-type {\n",
       "        vertical-align: middle;\n",
       "    }\n",
       "\n",
       "    .dataframe tbody tr th {\n",
       "        vertical-align: top;\n",
       "    }\n",
       "\n",
       "    .dataframe thead th {\n",
       "        text-align: right;\n",
       "    }\n",
       "</style>\n",
       "<table border=\"1\" class=\"dataframe\">\n",
       "  <thead>\n",
       "    <tr style=\"text-align: right;\">\n",
       "      <th></th>\n",
       "      <th>color</th>\n",
       "      <th>label</th>\n",
       "    </tr>\n",
       "  </thead>\n",
       "  <tbody>\n",
       "    <tr>\n",
       "      <th>MMLV_Gag</th>\n",
       "      <td>#3c955b</td>\n",
       "      <td>MMLV_Gag</td>\n",
       "    </tr>\n",
       "    <tr>\n",
       "      <th>Gag-MCP</th>\n",
       "      <td>#a29fc2</td>\n",
       "      <td>Gag-MCP</td>\n",
       "    </tr>\n",
       "    <tr>\n",
       "      <th>GagZip-MCP</th>\n",
       "      <td>#7b74aa</td>\n",
       "      <td>GagZip-MCP</td>\n",
       "    </tr>\n",
       "    <tr>\n",
       "      <th>EPN24-MCP</th>\n",
       "      <td>#563583</td>\n",
       "      <td>EPN24-MCP</td>\n",
       "    </tr>\n",
       "    <tr>\n",
       "      <th>No_Exporter_Psi</th>\n",
       "      <td>#fcd0a2</td>\n",
       "      <td>No_Exporter_Psi</td>\n",
       "    </tr>\n",
       "    <tr>\n",
       "      <th>No_Exporter_MS2x8</th>\n",
       "      <td>#f68c3f</td>\n",
       "      <td>No_Exporter_MS2x8</td>\n",
       "    </tr>\n",
       "    <tr>\n",
       "      <th>No_DNA</th>\n",
       "      <td>#8a8c8f</td>\n",
       "      <td>No_DNA</td>\n",
       "    </tr>\n",
       "    <tr>\n",
       "      <th>No_Transfection</th>\n",
       "      <td>#c5c6c8</td>\n",
       "      <td>No_Transfection</td>\n",
       "    </tr>\n",
       "  </tbody>\n",
       "</table>\n",
       "</div>"
      ],
      "text/plain": [
       "                     color              label\n",
       "MMLV_Gag           #3c955b           MMLV_Gag\n",
       "Gag-MCP            #a29fc2            Gag-MCP\n",
       "GagZip-MCP         #7b74aa         GagZip-MCP\n",
       "EPN24-MCP          #563583          EPN24-MCP\n",
       "No_Exporter_Psi    #fcd0a2    No_Exporter_Psi\n",
       "No_Exporter_MS2x8  #f68c3f  No_Exporter_MS2x8\n",
       "No_DNA             #8a8c8f             No_DNA\n",
       "No_Transfection    #c5c6c8    No_Transfection"
      ]
     },
     "execution_count": 18,
     "metadata": {},
     "output_type": "execute_result"
    }
   ],
   "source": [
    "# Define metadata\n",
    "\n",
    "metadata = pd.DataFrame(index=counts.columns)\n",
    "\n",
    "metadata[\"color\"] = [sample_to_color[x] for x in metadata.index]\n",
    "metadata[\"color\"] = pd.Categorical(metadata[\"color\"])  # convert to categorical\n",
    "\n",
    "metadata[\"label\"] = metadata.index\n",
    "metadata[\"label\"] = pd.Categorical(metadata[\"label\"])  # convert to categorical\n",
    "\n",
    "metadata"
   ]
  },
  {
   "cell_type": "code",
   "execution_count": 19,
   "metadata": {
    "Collapsed": "false"
   },
   "outputs": [
    {
     "name": "stdout",
     "output_type": "stream",
     "text": [
      "(30877, 8)\n"
     ]
    },
    {
     "data": {
      "text/html": [
       "<div>\n",
       "<style scoped>\n",
       "    .dataframe tbody tr th:only-of-type {\n",
       "        vertical-align: middle;\n",
       "    }\n",
       "\n",
       "    .dataframe tbody tr th {\n",
       "        vertical-align: top;\n",
       "    }\n",
       "\n",
       "    .dataframe thead th {\n",
       "        text-align: right;\n",
       "    }\n",
       "</style>\n",
       "<table border=\"1\" class=\"dataframe\">\n",
       "  <thead>\n",
       "    <tr style=\"text-align: right;\">\n",
       "      <th></th>\n",
       "      <th>Gag</th>\n",
       "      <th>GagMCP</th>\n",
       "      <th>GagZipMCP</th>\n",
       "      <th>EPN24MCP</th>\n",
       "      <th>No_Exporter_Psi</th>\n",
       "      <th>No_Exporter_MS2x8</th>\n",
       "      <th>NoDNA</th>\n",
       "      <th>Wildtype</th>\n",
       "    </tr>\n",
       "    <tr>\n",
       "      <th>symbol_ensembl</th>\n",
       "      <th></th>\n",
       "      <th></th>\n",
       "      <th></th>\n",
       "      <th></th>\n",
       "      <th></th>\n",
       "      <th></th>\n",
       "      <th></th>\n",
       "      <th></th>\n",
       "    </tr>\n",
       "  </thead>\n",
       "  <tbody>\n",
       "    <tr>\n",
       "      <th>EGFP</th>\n",
       "      <td>198592</td>\n",
       "      <td>98788</td>\n",
       "      <td>93438</td>\n",
       "      <td>62364</td>\n",
       "      <td>0</td>\n",
       "      <td>0</td>\n",
       "      <td>0</td>\n",
       "      <td>0</td>\n",
       "    </tr>\n",
       "    <tr>\n",
       "      <th>TSPAN6_ENSG00000000003</th>\n",
       "      <td>2691</td>\n",
       "      <td>2615</td>\n",
       "      <td>2802</td>\n",
       "      <td>2800</td>\n",
       "      <td>2464</td>\n",
       "      <td>3358</td>\n",
       "      <td>3184</td>\n",
       "      <td>2991</td>\n",
       "    </tr>\n",
       "    <tr>\n",
       "      <th>TNMD_ENSG00000000005</th>\n",
       "      <td>7</td>\n",
       "      <td>2</td>\n",
       "      <td>8</td>\n",
       "      <td>7</td>\n",
       "      <td>5</td>\n",
       "      <td>8</td>\n",
       "      <td>10</td>\n",
       "      <td>11</td>\n",
       "    </tr>\n",
       "    <tr>\n",
       "      <th>DPM1_ENSG00000000419</th>\n",
       "      <td>1514</td>\n",
       "      <td>1543</td>\n",
       "      <td>1533</td>\n",
       "      <td>1536</td>\n",
       "      <td>1263</td>\n",
       "      <td>1936</td>\n",
       "      <td>1291</td>\n",
       "      <td>1139</td>\n",
       "    </tr>\n",
       "    <tr>\n",
       "      <th>SCYL3_ENSG00000000457</th>\n",
       "      <td>535</td>\n",
       "      <td>614</td>\n",
       "      <td>653</td>\n",
       "      <td>625</td>\n",
       "      <td>522</td>\n",
       "      <td>686</td>\n",
       "      <td>614</td>\n",
       "      <td>557</td>\n",
       "    </tr>\n",
       "  </tbody>\n",
       "</table>\n",
       "</div>"
      ],
      "text/plain": [
       "                           Gag  GagMCP  GagZipMCP  EPN24MCP  No_Exporter_Psi  No_Exporter_MS2x8  NoDNA  Wildtype\n",
       "symbol_ensembl                                                                                                  \n",
       "EGFP                    198592   98788      93438     62364                0                  0      0         0\n",
       "TSPAN6_ENSG00000000003    2691    2615       2802      2800             2464               3358   3184      2991\n",
       "TNMD_ENSG00000000005         7       2          8         7                5                  8     10        11\n",
       "DPM1_ENSG00000000419      1514    1543       1533      1536             1263               1936   1291      1139\n",
       "SCYL3_ENSG00000000457      535     614        653       625              522                686    614       557"
      ]
     },
     "execution_count": 19,
     "metadata": {},
     "output_type": "execute_result"
    }
   ],
   "source": [
    "# Clean data\n",
    "\n",
    "counts_clean_for_diffexpr = counts_raw.copy()  # copy the raw counts (not normalized for read count, not transformed)\n",
    "counts_clean_for_diffexpr = counts_clean_for_diffexpr.drop(names_unmapped)  # drop symbols related to mapping\n",
    "\n",
    "# Clean column names\n",
    "col_to_clean_col = {\"MMLV_Gag\": \"Gag\",\n",
    "                    \"Gag-MCP\": \"GagMCP\",\n",
    "                    \"GagZip-MCP\": \"GagZipMCP\",\n",
    "                    \"EPN24-MCP\": \"EPN24MCP\",\n",
    "                    \"No_Exporter_Psi\": \"No_Exporter_Psi\",\n",
    "                    \"No_Exporter_MS2x8\": \"No_Exporter_MS2x8\",\n",
    "                    \"No_DNA\": \"NoDNA\",\n",
    "                    \"No_Transfection\": \"Wildtype\"}\n",
    "counts_clean_for_diffexpr = counts_clean_for_diffexpr.rename(mapper=col_to_clean_col, axis=1)\n",
    "\n",
    "print(counts_clean_for_diffexpr.shape)\n",
    "counts_clean_for_diffexpr.head()"
   ]
  },
  {
   "cell_type": "code",
   "execution_count": 20,
   "metadata": {
    "Collapsed": "false"
   },
   "outputs": [
    {
     "name": "stdout",
     "output_type": "stream",
     "text": [
      "(8, 7)\n"
     ]
    },
    {
     "data": {
      "text/html": [
       "<div>\n",
       "<style scoped>\n",
       "    .dataframe tbody tr th:only-of-type {\n",
       "        vertical-align: middle;\n",
       "    }\n",
       "\n",
       "    .dataframe tbody tr th {\n",
       "        vertical-align: top;\n",
       "    }\n",
       "\n",
       "    .dataframe thead th {\n",
       "        text-align: right;\n",
       "    }\n",
       "</style>\n",
       "<table border=\"1\" class=\"dataframe\">\n",
       "  <thead>\n",
       "    <tr style=\"text-align: right;\">\n",
       "      <th></th>\n",
       "      <th>label</th>\n",
       "      <th>condition_transfected</th>\n",
       "      <th>condition_exporter_indiv_no_exporter_pool</th>\n",
       "      <th>condition_exporter_indiv_no_exporter_indiv</th>\n",
       "      <th>condition_null</th>\n",
       "      <th>condition_exporter</th>\n",
       "      <th>label_clean</th>\n",
       "    </tr>\n",
       "  </thead>\n",
       "  <tbody>\n",
       "    <tr>\n",
       "      <th>Gag</th>\n",
       "      <td>MMLV_Gag</td>\n",
       "      <td>transfected</td>\n",
       "      <td>exporter_Gag</td>\n",
       "      <td>exporter_Gag</td>\n",
       "      <td>exporter_Gag</td>\n",
       "      <td>exporter</td>\n",
       "      <td>Gag</td>\n",
       "    </tr>\n",
       "    <tr>\n",
       "      <th>GagMCP</th>\n",
       "      <td>Gag-MCP</td>\n",
       "      <td>transfected</td>\n",
       "      <td>exporter_GagMCP</td>\n",
       "      <td>exporter_GagMCP</td>\n",
       "      <td>exporter_GagMCP</td>\n",
       "      <td>exporter</td>\n",
       "      <td>GagMCP</td>\n",
       "    </tr>\n",
       "    <tr>\n",
       "      <th>GagZipMCP</th>\n",
       "      <td>GagZip-MCP</td>\n",
       "      <td>transfected</td>\n",
       "      <td>exporter_GagZipMCP</td>\n",
       "      <td>exporter_GagZipMCP</td>\n",
       "      <td>exporter_GagZipMCP</td>\n",
       "      <td>exporter</td>\n",
       "      <td>GagZipMCP</td>\n",
       "    </tr>\n",
       "    <tr>\n",
       "      <th>EPN24MCP</th>\n",
       "      <td>EPN24-MCP</td>\n",
       "      <td>transfected</td>\n",
       "      <td>exporter_EPN24MCP</td>\n",
       "      <td>exporter_EPN24MCP</td>\n",
       "      <td>exporter_EPN24MCP</td>\n",
       "      <td>exporter</td>\n",
       "      <td>EPN24MCP</td>\n",
       "    </tr>\n",
       "    <tr>\n",
       "      <th>No_Exporter_Psi</th>\n",
       "      <td>No_Exporter_Psi</td>\n",
       "      <td>transfected</td>\n",
       "      <td>no_exporter</td>\n",
       "      <td>no_exporter_Psi</td>\n",
       "      <td>no_exporter_Psi</td>\n",
       "      <td>no_exporter</td>\n",
       "      <td>No_Exporter_Psi</td>\n",
       "    </tr>\n",
       "    <tr>\n",
       "      <th>No_Exporter_MS2x8</th>\n",
       "      <td>No_Exporter_MS2x8</td>\n",
       "      <td>transfected</td>\n",
       "      <td>no_exporter</td>\n",
       "      <td>no_exporter_MS2</td>\n",
       "      <td>no_exporter_MS2</td>\n",
       "      <td>no_exporter</td>\n",
       "      <td>No_Exporter_MS2x8</td>\n",
       "    </tr>\n",
       "    <tr>\n",
       "      <th>NoDNA</th>\n",
       "      <td>No_DNA</td>\n",
       "      <td>untransfected</td>\n",
       "      <td>untransfected</td>\n",
       "      <td>untransfected</td>\n",
       "      <td>no_DNA</td>\n",
       "      <td>no_exporter</td>\n",
       "      <td>NoDNA</td>\n",
       "    </tr>\n",
       "    <tr>\n",
       "      <th>Wildtype</th>\n",
       "      <td>No_Transfection</td>\n",
       "      <td>untransfected</td>\n",
       "      <td>untransfected</td>\n",
       "      <td>untransfected</td>\n",
       "      <td>no_transfection</td>\n",
       "      <td>no_exporter</td>\n",
       "      <td>Wildtype</td>\n",
       "    </tr>\n",
       "  </tbody>\n",
       "</table>\n",
       "</div>"
      ],
      "text/plain": [
       "                               label condition_transfected condition_exporter_indiv_no_exporter_pool condition_exporter_indiv_no_exporter_indiv      condition_null condition_exporter        label_clean\n",
       "Gag                         MMLV_Gag           transfected                              exporter_Gag                               exporter_Gag        exporter_Gag           exporter                Gag\n",
       "GagMCP                       Gag-MCP           transfected                           exporter_GagMCP                            exporter_GagMCP     exporter_GagMCP           exporter             GagMCP\n",
       "GagZipMCP                 GagZip-MCP           transfected                        exporter_GagZipMCP                         exporter_GagZipMCP  exporter_GagZipMCP           exporter          GagZipMCP\n",
       "EPN24MCP                   EPN24-MCP           transfected                         exporter_EPN24MCP                          exporter_EPN24MCP   exporter_EPN24MCP           exporter           EPN24MCP\n",
       "No_Exporter_Psi      No_Exporter_Psi           transfected                               no_exporter                            no_exporter_Psi     no_exporter_Psi        no_exporter    No_Exporter_Psi\n",
       "No_Exporter_MS2x8  No_Exporter_MS2x8           transfected                               no_exporter                            no_exporter_MS2     no_exporter_MS2        no_exporter  No_Exporter_MS2x8\n",
       "NoDNA                         No_DNA         untransfected                             untransfected                              untransfected              no_DNA        no_exporter              NoDNA\n",
       "Wildtype             No_Transfection         untransfected                             untransfected                              untransfected     no_transfection        no_exporter           Wildtype"
      ]
     },
     "execution_count": 20,
     "metadata": {},
     "output_type": "execute_result"
    }
   ],
   "source": [
    "# Create clean metadata\n",
    "\n",
    "metadata_clean_for_diffexpr = metadata.copy()  # copy metadata\n",
    "metadata_clean_for_diffexpr = metadata_clean_for_diffexpr.drop([\"color\"], axis=1)\n",
    "\n",
    "# Set conditions\n",
    "metadata_clean_for_diffexpr[\"condition_transfected\"] = [\"transfected\", \"transfected\", \"transfected\", \"transfected\",\n",
    "                                                        \"transfected\", \"transfected\", \"untransfected\", \"untransfected\"]\n",
    "metadata_clean_for_diffexpr[\"condition_exporter_indiv_no_exporter_pool\"] = [\"exporter_Gag\", \"exporter_GagMCP\", \"exporter_GagZipMCP\", \"exporter_EPN24MCP\",\n",
    "                                                                            \"no_exporter\", \"no_exporter\", \"untransfected\", \"untransfected\"]\n",
    "metadata_clean_for_diffexpr[\"condition_exporter_indiv_no_exporter_indiv\"] = [\"exporter_Gag\", \"exporter_GagMCP\", \"exporter_GagZipMCP\", \"exporter_EPN24MCP\",\n",
    "                                                                             \"no_exporter_Psi\", \"no_exporter_MS2\", \"untransfected\", \"untransfected\"]\n",
    "metadata_clean_for_diffexpr[\"condition_null\"] = [\"exporter_Gag\", \"exporter_GagMCP\", \"exporter_GagZipMCP\", \"exporter_EPN24MCP\",\n",
    "                                                 \"no_exporter_Psi\", \"no_exporter_MS2\", \"no_DNA\", \"no_transfection\"]\n",
    "metadata_clean_for_diffexpr[\"condition_exporter\"] = [\"exporter\", \"exporter\", \"exporter\", \"exporter\",\n",
    "                                                     \"no_exporter\", \"no_exporter\", \"no_exporter\", \"no_exporter\"]\n",
    "\n",
    "# Clean row names\n",
    "metadata_clean_for_diffexpr = metadata_clean_for_diffexpr.rename(mapper=col_to_clean_col, axis=0)\n",
    "\n",
    "# Set additional condition of clean labels (because R is dumb)\n",
    "metadata_clean_for_diffexpr[\"label_clean\"] = metadata_clean_for_diffexpr.index\n",
    "\n",
    "print(metadata_clean_for_diffexpr.shape)\n",
    "metadata_clean_for_diffexpr"
   ]
  },
  {
   "cell_type": "code",
   "execution_count": 21,
   "metadata": {
    "Collapsed": "false"
   },
   "outputs": [
    {
     "name": "stdout",
     "output_type": "stream",
     "text": [
      "CPU times: user 65.7 ms, sys: 3.04 ms, total: 68.7 ms\n",
      "Wall time: 67.7 ms\n"
     ]
    }
   ],
   "source": [
    "%%time\n",
    "\n",
    "# Export counts and metadata\n",
    "\n",
    "outfile = output_dir + \"/counts_clean_for_differential_expression.tsv\"\n",
    "counts_clean_for_diffexpr.to_csv(outfile, sep=\"\\t\")\n",
    "\n",
    "outfile = output_dir + \"/metadata_clean_for_differential_expression.tsv\"\n",
    "metadata_clean_for_diffexpr.to_csv(outfile, sep=\"\\t\")"
   ]
  },
  {
   "cell_type": "markdown",
   "metadata": {
    "Collapsed": "false"
   },
   "source": [
    "## Run differential expression analysis in helper notebook"
   ]
  },
  {
   "cell_type": "markdown",
   "metadata": {
    "Collapsed": "false"
   },
   "source": [
    "Helper notebook name is `transcriptome_stress_helper.ipynb`."
   ]
  },
  {
   "cell_type": "markdown",
   "metadata": {
    "Collapsed": "false"
   },
   "source": [
    "## Import results"
   ]
  },
  {
   "cell_type": "code",
   "execution_count": 22,
   "metadata": {
    "Collapsed": "false"
   },
   "outputs": [],
   "source": [
    "# Set names and files\n",
    "\n",
    "infiles_de = {\"Gag_vs_no_exporter\": \"differential_expression_result_Gag_vs_no_exporter.csv\",\n",
    "              \"GagMCP_vs_no_exporter\": \"differential_expression_result_GagMCP_vs_no_exporter.csv\",\n",
    "              \"GagZipMCP_vs_no_exporter\": \"differential_expression_result_GagZipMCP_vs_no_exporter.csv\",\n",
    "              \"EPN24MCP_vs_no_exporter\": \"differential_expression_result_EPN24MCP_vs_no_exporter.csv\"}"
   ]
  },
  {
   "cell_type": "code",
   "execution_count": 23,
   "metadata": {
    "Collapsed": "false"
   },
   "outputs": [],
   "source": [
    "# Load results\n",
    "\n",
    "de = {}\n",
    "\n",
    "for col, infile_basename in infiles_de.items():\n",
    "    infile = output_dir + \"/\" + infile_basename\n",
    "    df_temp = pd.read_csv(infile, index_col=0)\n",
    "    de[col] = df_temp"
   ]
  },
  {
   "cell_type": "markdown",
   "metadata": {
    "Collapsed": "false"
   },
   "source": [
    "# Plot differential expression analysis"
   ]
  },
  {
   "cell_type": "code",
   "execution_count": 24,
   "metadata": {
    "Collapsed": "false"
   },
   "outputs": [],
   "source": [
    "# Define function to make volcano plot\n",
    "\n",
    "def plot_volcano(x, y, figsize=(1.5,1.5), fig=None, ax=None):\n",
    "    \n",
    "    marker_size = 40\n",
    "\n",
    "    if ax is None:\n",
    "        fig, ax = plt.subplots(1, 1, figsize=figsize)\n",
    "\n",
    "    ax.scatter(x, y, marker=\".\", alpha=0.1, color=\"#666666\")\n",
    "    \n",
    "    # Show transgenes\n",
    "\n",
    "    symbol = \"mCherry\"\n",
    "    ax.scatter(x.loc[symbol], y.loc[symbol], marker=gene_to_marker[symbol], color=gene_to_color[symbol], s=marker_size, zorder=20)\n",
    "\n",
    "    symbol = \"mTagBFP2\"\n",
    "    ax.scatter(x.loc[symbol], y.loc[symbol], marker=gene_to_marker[symbol], color=gene_to_color[symbol], s=marker_size, zorder=10)\n",
    "\n",
    "    symbol = \"EGFP\"\n",
    "    ax.scatter(x.loc[symbol], y.loc[symbol], marker=gene_to_marker[symbol], color=gene_to_color[symbol], s=marker_size, zorder=30)\n",
    "    \n",
    "    ax.set_xlabel(\"$log_2$ fold change\")\n",
    "    ax.set_ylabel(\"Significance ($-log_{10}P_{adj}$)\")\n",
    "\n",
    "    return fig, ax"
   ]
  },
  {
   "cell_type": "code",
   "execution_count": 25,
   "metadata": {
    "Collapsed": "false"
   },
   "outputs": [
    {
     "data": {
      "image/png": "[encoded data removed]",
      "text/plain": [
       "<Figure size 2100x450 with 4 Axes>"
      ]
     },
     "metadata": {},
     "output_type": "display_data"
    }
   ],
   "source": [
    "fig, axes = plt.subplots(1, 4, figsize=(7,1.5), sharey=True)\n",
    "\n",
    "# Gag\n",
    "\n",
    "ax = axes[0]\n",
    "\n",
    "label = \"Gag_vs_no_exporter\"\n",
    "title = \"MMLV Gag\"\n",
    "\n",
    "df = de[label]\n",
    "\n",
    "x = df[\"log2FoldChange\"]\n",
    "y = -np.log10(df[\"padj\"])\n",
    "plot_volcano(x, y, fig=fig, ax=ax)\n",
    "ax.set_title(title, pad=10)\n",
    "\n",
    "# Gag-MCP\n",
    "\n",
    "ax = axes[1]\n",
    "\n",
    "label = \"GagMCP_vs_no_exporter\"\n",
    "title = \"Gag-MCP\"\n",
    "\n",
    "df = de[label]\n",
    "\n",
    "x = df[\"log2FoldChange\"]\n",
    "y = -np.log10(df[\"padj\"])\n",
    "plot_volcano(x, y, fig=fig, ax=ax)\n",
    "ax.set_title(title, pad=10)\n",
    "\n",
    "# GagZip-MCP\n",
    "\n",
    "ax = axes[2]\n",
    "\n",
    "label = \"GagZipMCP_vs_no_exporter\"\n",
    "title = \"GagZip-MCP\"\n",
    "\n",
    "df = de[label]\n",
    "\n",
    "x = df[\"log2FoldChange\"]\n",
    "y = -np.log10(df[\"padj\"])\n",
    "plot_volcano(x, y, fig=fig, ax=ax)\n",
    "ax.set_title(title, pad=10)\n",
    "\n",
    "# EPN24-MCP\n",
    "\n",
    "ax = axes[3]\n",
    "\n",
    "label = \"EPN24MCP_vs_no_exporter\"\n",
    "title = \"EPN24-MCP\"\n",
    "\n",
    "df = de[label]\n",
    "\n",
    "x = df[\"log2FoldChange\"]\n",
    "y = -np.log10(df[\"padj\"])\n",
    "plot_volcano(x, y, fig=fig, ax=ax)\n",
    "ax.set_title(title, pad=10)\n",
    "\n",
    "for ax in axes:\n",
    "    ax.set_xlabel(\"\")\n",
    "    ax.set_ylabel(\"\")\n",
    "    ax.set_xticks([-10, 0, 10, 20])\n",
    "    ax.set_yticks([0, 5, 10, 15, 20])\n",
    "    ax.set_xlim(right=22)\n",
    "    \n",
    "xlabel = \"$log_2$ fold change\"\n",
    "fig.text(0.5, -0.1, xlabel, ha=\"center\")\n",
    "axes[0].set_ylabel(\"Significance ($-log_{10}P_{adj}$)\")\n",
    "\n",
    "save_figure(fig, \"volcano_differential_expression\")"
   ]
  },
  {
   "cell_type": "code",
   "execution_count": 26,
   "metadata": {
    "Collapsed": "false"
   },
   "outputs": [
    {
     "data": {
      "image/png": "[encoded data removed]",
      "text/plain": [
       "<Figure size 600x300 with 1 Axes>"
      ]
     },
     "metadata": {},
     "output_type": "display_data"
    }
   ],
   "source": [
    "# Plot legend\n",
    "\n",
    "fig, ax = plt.subplots(1, 1, figsize=(2,1))\n",
    "\n",
    "symbol = \"EGFP\"\n",
    "label = \"Exporter\"\n",
    "ax.scatter(0, 0, marker=gene_to_marker[symbol], color=gene_to_color[symbol], label=label)\n",
    "\n",
    "symbol = \"mCherry\"\n",
    "label = \"mCherry (with export tag)\"\n",
    "ax.scatter(0, 0, marker=gene_to_marker[symbol], color=gene_to_color[symbol], label=label)\n",
    "\n",
    "symbol = \"mTagBFP2\"\n",
    "label = \"BFP (without export tag)\"\n",
    "ax.scatter(0, 0, marker=gene_to_marker[symbol], color=gene_to_color[symbol], label=label)\n",
    "\n",
    "label = \"Endogenous gene\"\n",
    "ax.scatter(0, 0, marker=\".\", alpha=0.1, color=\"#666666\", label=label)\n",
    "\n",
    "fig.legend(loc=\"center\", ncol=4)\n",
    "\n",
    "ax.set_xlim(1,2) \n",
    "plt.axis('off')\n",
    "\n",
    "save_figure(fig, \"volcano_differential_expression_legend\")"
   ]
  },
  {
   "cell_type": "markdown",
   "metadata": {
    "Collapsed": "false"
   },
   "source": [
    "## Examine number of differentially expressed genes"
   ]
  },
  {
   "cell_type": "code",
   "execution_count": 27,
   "metadata": {
    "Collapsed": "false"
   },
   "outputs": [
    {
     "name": "stdout",
     "output_type": "stream",
     "text": [
      "Gag_vs_no_exporter \t 2\n",
      "GagMCP_vs_no_exporter \t 1\n",
      "GagZipMCP_vs_no_exporter \t 2\n",
      "EPN24MCP_vs_no_exporter \t 1\n"
     ]
    }
   ],
   "source": [
    "# Show number of differentially expressed genes at P < 0.05\n",
    "\n",
    "padj_cutoff = 0.05\n",
    "\n",
    "for label, df in de.items():\n",
    "    n_genes = np.sum(de[label][\"padj\"] < padj_cutoff)\n",
    "    print(label, \"\\t\", n_genes)"
   ]
  },
  {
   "cell_type": "code",
   "execution_count": 28,
   "metadata": {
    "Collapsed": "false"
   },
   "outputs": [
    {
     "name": "stdout",
     "output_type": "stream",
     "text": [
      "Gag_vs_no_exporter \t 1\n",
      "GagMCP_vs_no_exporter \t 1\n",
      "GagZipMCP_vs_no_exporter \t 2\n",
      "EPN24MCP_vs_no_exporter \t 1\n"
     ]
    }
   ],
   "source": [
    "# Show number of differentially expressed genes at P < 1e-5\n",
    "\n",
    "padj_cutoff = 1e-5\n",
    "\n",
    "for label, df in de.items():\n",
    "    n_genes = np.sum(de[label][\"padj\"] < padj_cutoff)\n",
    "    print(label, \"\\t\", n_genes)"
   ]
  },
  {
   "cell_type": "markdown",
   "metadata": {
    "Collapsed": "false"
   },
   "source": [
    "Note that exporter is included in the counts of differentially expressed genes. This accounts for one gene in each case."
   ]
  },
  {
   "cell_type": "code",
   "execution_count": null,
   "metadata": {
    "Collapsed": "false"
   },
   "outputs": [],
   "source": []
  }
 ],
 "metadata": {
  "kernelspec": {
   "display_name": "RNA_export_magic",
   "language": "python",
   "name": "rna_export_magic"
  },
  "language_info": {
   "codemirror_mode": {
    "name": "ipython",
    "version": 3
   },
   "file_extension": ".py",
   "mimetype": "text/x-python",
   "name": "python",
   "nbconvert_exporter": "python",
   "pygments_lexer": "ipython3",
   "version": "3.7.7"
  },
  "toc-autonumbering": false,
  "toc-showcode": false,
  "toc-showmarkdowntxt": false,
  "toc-showtags": false
 },
 "nbformat": 4,
 "nbformat_minor": 4
}
