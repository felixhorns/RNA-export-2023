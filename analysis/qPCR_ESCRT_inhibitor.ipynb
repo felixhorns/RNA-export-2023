{
 "cells": [
  {
   "cell_type": "markdown",
   "metadata": {
    "Collapsed": "false"
   },
   "source": [
    "# Plot qPCR to analyze RNA loss due to filtering and clarifying supernatant"
   ]
  },
  {
   "cell_type": "markdown",
   "metadata": {
    "Collapsed": "false",
    "toc-hr-collapsed": false
   },
   "source": [
    "# Introduction"
   ]
  },
  {
   "cell_type": "markdown",
   "metadata": {
    "Collapsed": "false"
   },
   "source": [
    "## Imports"
   ]
  },
  {
   "cell_type": "code",
   "execution_count": 1,
   "metadata": {
    "Collapsed": "false"
   },
   "outputs": [],
   "source": [
    "import sys\n",
    "import os\n",
    "import time\n",
    "\n",
    "import numpy as np\n",
    "import scipy\n",
    "import pandas as pd\n",
    "\n",
    "%matplotlib inline\n",
    "from matplotlib import pyplot as plt\n",
    "import matplotlib as mpl\n",
    "import seaborn as sns"
   ]
  },
  {
   "cell_type": "markdown",
   "metadata": {
    "Collapsed": "false"
   },
   "source": [
    "## Set output parameters"
   ]
  },
  {
   "cell_type": "code",
   "execution_count": 2,
   "metadata": {
    "Collapsed": "false"
   },
   "outputs": [],
   "source": [
    "# Set pandas display options\n",
    "pd.set_option('display.max_rows', 30)\n",
    "pd.set_option('display.max_columns', 100)\n",
    "pd.set_option('display.width', 1000)\n",
    "\n",
    "# Set plot display options\n",
    "FONTSIZE = 8  # universal fontsize\n",
    "params = {\n",
    "    'font.size': FONTSIZE,\n",
    "    'axes.titlesize': FONTSIZE,\n",
    "    'axes.labelsize': FONTSIZE,\n",
    "    'legend.fontsize': FONTSIZE,\n",
    "    'xtick.labelsize': FONTSIZE,\n",
    "    'ytick.labelsize': FONTSIZE,\n",
    "    'font.family': \"Helvetica\",\n",
    "    'mathtext.fontset': 'custom',\n",
    "    'pdf.fonttype': 42,\n",
    "    'ps.fonttype': 42,\n",
    "    'figure.dpi': 300\n",
    "   }\n",
    "mpl.rcParams.update(params)\n",
    "sns.set_style(\"ticks\", {'axes.grid' : False})\n",
    "\n",
    "# Set plot output options\n",
    "output_dir = \"outs/qPCR_ESCRT_inhibitor\"\n",
    "output_suffix = \"\"\n",
    "output_formats = [\".png\", \".pdf\"]\n",
    "\n",
    "mpl.rc('savefig', dpi=300)\n",
    "\n",
    "# Define convenience function for saving figures\n",
    "\n",
    "savefig = True\n",
    "savefig_args = {\"dpi\": 300, \"bbox_inches\": \"tight\", \"pad_inches\": 0.1}\n",
    "\n",
    "def save_figure(fig, name, output_dir=output_dir, output_suffix=output_suffix, output_formats=output_formats, savefig_args=savefig_args):\n",
    "    if savefig:\n",
    "        for output_format in output_formats:\n",
    "            fig.savefig(output_dir + \"/\" + name + output_suffix + output_format, **savefig_args)\n",
    "    return None"
   ]
  },
  {
   "cell_type": "code",
   "execution_count": 3,
   "metadata": {
    "Collapsed": "false"
   },
   "outputs": [
    {
     "data": {
      "text/plain": [
       "{'font.size': 8.0,\n",
       " 'axes.labelsize': 8.0,\n",
       " 'axes.titlesize': 8.0,\n",
       " 'xtick.labelsize': 8.0,\n",
       " 'ytick.labelsize': 8.0,\n",
       " 'legend.fontsize': 8.0,\n",
       " 'legend.title_fontsize': None,\n",
       " 'axes.linewidth': 0.8,\n",
       " 'grid.linewidth': 0.8,\n",
       " 'lines.linewidth': 1.5,\n",
       " 'lines.markersize': 6.0,\n",
       " 'patch.linewidth': 1.0,\n",
       " 'xtick.major.width': 0.8,\n",
       " 'ytick.major.width': 0.8,\n",
       " 'xtick.minor.width': 0.6,\n",
       " 'ytick.minor.width': 0.6,\n",
       " 'xtick.major.size': 3.5,\n",
       " 'ytick.major.size': 3.5,\n",
       " 'xtick.minor.size': 2.0,\n",
       " 'ytick.minor.size': 2.0}"
      ]
     },
     "execution_count": 3,
     "metadata": {},
     "output_type": "execute_result"
    }
   ],
   "source": [
    "# Report plot parameters\n",
    "sns.plotting_context()"
   ]
  },
  {
   "cell_type": "markdown",
   "metadata": {
    "Collapsed": "false"
   },
   "source": [
    "# Load data"
   ]
  },
  {
   "cell_type": "markdown",
   "metadata": {
    "Collapsed": "false"
   },
   "source": [
    "## Load qPCR data"
   ]
  },
  {
   "cell_type": "code",
   "execution_count": 4,
   "metadata": {
    "Collapsed": "false"
   },
   "outputs": [
    {
     "name": "stdout",
     "output_type": "stream",
     "text": [
      "(12, 13)\n"
     ]
    },
    {
     "data": {
      "text/html": [
       "<div>\n",
       "<style scoped>\n",
       "    .dataframe tbody tr th:only-of-type {\n",
       "        vertical-align: middle;\n",
       "    }\n",
       "\n",
       "    .dataframe tbody tr th {\n",
       "        vertical-align: top;\n",
       "    }\n",
       "\n",
       "    .dataframe thead th {\n",
       "        text-align: right;\n",
       "    }\n",
       "</style>\n",
       "<table border=\"1\" class=\"dataframe\">\n",
       "  <thead>\n",
       "    <tr style=\"text-align: right;\">\n",
       "      <th></th>\n",
       "      <th>Well</th>\n",
       "      <th>Fluor</th>\n",
       "      <th>Target</th>\n",
       "      <th>Content</th>\n",
       "      <th>Sample</th>\n",
       "      <th>Biological Set Name</th>\n",
       "      <th>Cq</th>\n",
       "      <th>Cq Mean</th>\n",
       "      <th>Cq Std. Dev</th>\n",
       "      <th>Starting Quantity (SQ)</th>\n",
       "      <th>Log Starting Quantity</th>\n",
       "      <th>SQ Mean</th>\n",
       "      <th>SQ Std. Dev</th>\n",
       "    </tr>\n",
       "  </thead>\n",
       "  <tbody>\n",
       "    <tr>\n",
       "      <th>0</th>\n",
       "      <td>A01</td>\n",
       "      <td>SYBR</td>\n",
       "      <td>mCherry</td>\n",
       "      <td>Unkn-01</td>\n",
       "      <td>38-1</td>\n",
       "      <td>NaN</td>\n",
       "      <td>28.538764</td>\n",
       "      <td>28.300608</td>\n",
       "      <td>0.209501</td>\n",
       "      <td>27.843487</td>\n",
       "      <td>1.444724</td>\n",
       "      <td>33.541876</td>\n",
       "      <td>5.035458</td>\n",
       "    </tr>\n",
       "    <tr>\n",
       "      <th>1</th>\n",
       "      <td>A03</td>\n",
       "      <td>SYBR</td>\n",
       "      <td>mCherry</td>\n",
       "      <td>Unkn-03</td>\n",
       "      <td>38-3</td>\n",
       "      <td>NaN</td>\n",
       "      <td>20.412622</td>\n",
       "      <td>20.471170</td>\n",
       "      <td>0.128109</td>\n",
       "      <td>12185.596956</td>\n",
       "      <td>4.085847</td>\n",
       "      <td>11698.345408</td>\n",
       "      <td>1090.854972</td>\n",
       "    </tr>\n",
       "    <tr>\n",
       "      <th>2</th>\n",
       "      <td>A11</td>\n",
       "      <td>SYBR</td>\n",
       "      <td>mCherry</td>\n",
       "      <td>Unkn-11</td>\n",
       "      <td>38-11</td>\n",
       "      <td>NaN</td>\n",
       "      <td>29.510194</td>\n",
       "      <td>28.989742</td>\n",
       "      <td>0.457205</td>\n",
       "      <td>13.458404</td>\n",
       "      <td>1.128994</td>\n",
       "      <td>20.605586</td>\n",
       "      <td>6.343001</td>\n",
       "    </tr>\n",
       "    <tr>\n",
       "      <th>3</th>\n",
       "      <td>B01</td>\n",
       "      <td>SYBR</td>\n",
       "      <td>mCherry</td>\n",
       "      <td>Unkn-01</td>\n",
       "      <td>38-1</td>\n",
       "      <td>NaN</td>\n",
       "      <td>28.218296</td>\n",
       "      <td>28.300608</td>\n",
       "      <td>0.209501</td>\n",
       "      <td>35.390018</td>\n",
       "      <td>1.548881</td>\n",
       "      <td>33.541876</td>\n",
       "      <td>5.035458</td>\n",
       "    </tr>\n",
       "    <tr>\n",
       "      <th>4</th>\n",
       "      <td>B03</td>\n",
       "      <td>SYBR</td>\n",
       "      <td>mCherry</td>\n",
       "      <td>Unkn-03</td>\n",
       "      <td>38-3</td>\n",
       "      <td>NaN</td>\n",
       "      <td>20.382795</td>\n",
       "      <td>20.471170</td>\n",
       "      <td>0.128109</td>\n",
       "      <td>12460.654034</td>\n",
       "      <td>4.095541</td>\n",
       "      <td>11698.345408</td>\n",
       "      <td>1090.854972</td>\n",
       "    </tr>\n",
       "  </tbody>\n",
       "</table>\n",
       "</div>"
      ],
      "text/plain": [
       "  Well Fluor   Target  Content Sample  Biological Set Name         Cq    Cq Mean  Cq Std. Dev  Starting Quantity (SQ)  Log Starting Quantity       SQ Mean  SQ Std. Dev\n",
       "0  A01  SYBR  mCherry  Unkn-01   38-1                  NaN  28.538764  28.300608     0.209501               27.843487               1.444724     33.541876     5.035458\n",
       "1  A03  SYBR  mCherry  Unkn-03   38-3                  NaN  20.412622  20.471170     0.128109            12185.596956               4.085847  11698.345408  1090.854972\n",
       "2  A11  SYBR  mCherry  Unkn-11  38-11                  NaN  29.510194  28.989742     0.457205               13.458404               1.128994     20.605586     6.343001\n",
       "3  B01  SYBR  mCherry  Unkn-01   38-1                  NaN  28.218296  28.300608     0.209501               35.390018               1.548881     33.541876     5.035458\n",
       "4  B03  SYBR  mCherry  Unkn-03   38-3                  NaN  20.382795  20.471170     0.128109            12460.654034               4.095541  11698.345408  1090.854972"
      ]
     },
     "execution_count": 4,
     "metadata": {},
     "output_type": "execute_result"
    }
   ],
   "source": [
    "infile = \"../preprocessed_data/qPCR_data/qPCR_ESCRT_inhibitor_Cq.csv\"\n",
    "\n",
    "cq_raw = pd.read_csv(infile, header=0)\n",
    "\n",
    "columns_to_drop = [\"Unnamed: 0\", \"Well Note\", \"Set Point\"]\n",
    "cq_raw.drop(columns_to_drop, axis=1, inplace=True)\n",
    "\n",
    "print(cq_raw.shape)\n",
    "cq_raw.head()"
   ]
  },
  {
   "cell_type": "markdown",
   "metadata": {
    "Collapsed": "false"
   },
   "source": [
    "# Preprocess data"
   ]
  },
  {
   "cell_type": "markdown",
   "metadata": {
    "Collapsed": "false"
   },
   "source": [
    "## Calculate total starting molecules"
   ]
  },
  {
   "cell_type": "code",
   "execution_count": 5,
   "metadata": {
    "Collapsed": "false"
   },
   "outputs": [],
   "source": [
    "# Calculate normalization for input volume\n",
    "DILUTION_FACTORS = (400/140) * (42/20) * (61/10) * (20/1)"
   ]
  },
  {
   "cell_type": "code",
   "execution_count": 6,
   "metadata": {
    "Collapsed": "false"
   },
   "outputs": [],
   "source": [
    "# Back-calculate input RNA molecules, given <100% efficiency of extraction, DNase, RT, as measured based on RNA standard\n",
    "\n",
    "PROTOCOL_EFFICIENCY = 0.005957820738  # Efficiency of extraction, DNase, RT"
   ]
  },
  {
   "cell_type": "code",
   "execution_count": 7,
   "metadata": {
    "Collapsed": "false"
   },
   "outputs": [],
   "source": [
    "# Calculate total RNA molecules in supernatant\n",
    "cq_raw[\"RNA molecules\"] = cq_raw[\"Starting Quantity (SQ)\"] * DILUTION_FACTORS * (1/PROTOCOL_EFFICIENCY)\n",
    "cq_raw[\"RNA molecules Mean\"] = cq_raw[\"SQ Mean\"] * DILUTION_FACTORS * (1/PROTOCOL_EFFICIENCY)\n",
    "cq_raw[\"RNA molecules STD\"] = cq_raw[\"SQ Std. Dev\"] * DILUTION_FACTORS * (1/PROTOCOL_EFFICIENCY)"
   ]
  },
  {
   "cell_type": "markdown",
   "metadata": {
    "Collapsed": "false"
   },
   "source": [
    "## Summarize replicates"
   ]
  },
  {
   "cell_type": "code",
   "execution_count": 8,
   "metadata": {
    "Collapsed": "false"
   },
   "outputs": [
    {
     "data": {
      "text/html": [
       "<div>\n",
       "<style scoped>\n",
       "    .dataframe tbody tr th:only-of-type {\n",
       "        vertical-align: middle;\n",
       "    }\n",
       "\n",
       "    .dataframe tbody tr th {\n",
       "        vertical-align: top;\n",
       "    }\n",
       "\n",
       "    .dataframe thead th {\n",
       "        text-align: right;\n",
       "    }\n",
       "</style>\n",
       "<table border=\"1\" class=\"dataframe\">\n",
       "  <thead>\n",
       "    <tr style=\"text-align: right;\">\n",
       "      <th></th>\n",
       "      <th>mean SQ</th>\n",
       "      <th>std SQ</th>\n",
       "      <th>RNA molecules</th>\n",
       "      <th>RNA molecules STD</th>\n",
       "    </tr>\n",
       "    <tr>\n",
       "      <th>Sample</th>\n",
       "      <th></th>\n",
       "      <th></th>\n",
       "      <th></th>\n",
       "      <th></th>\n",
       "    </tr>\n",
       "  </thead>\n",
       "  <tbody>\n",
       "    <tr>\n",
       "      <th>38-1</th>\n",
       "      <td>33.541876</td>\n",
       "      <td>5.035458</td>\n",
       "      <td>4.121080e+06</td>\n",
       "      <td>6.186751e+05</td>\n",
       "    </tr>\n",
       "    <tr>\n",
       "      <th>38-11</th>\n",
       "      <td>20.605586</td>\n",
       "      <td>6.343001</td>\n",
       "      <td>2.531679e+06</td>\n",
       "      <td>7.793247e+05</td>\n",
       "    </tr>\n",
       "    <tr>\n",
       "      <th>38-15</th>\n",
       "      <td>5.340679</td>\n",
       "      <td>3.906489</td>\n",
       "      <td>6.561757e+05</td>\n",
       "      <td>4.799657e+05</td>\n",
       "    </tr>\n",
       "    <tr>\n",
       "      <th>38-3</th>\n",
       "      <td>11698.345408</td>\n",
       "      <td>1090.854972</td>\n",
       "      <td>1.437302e+09</td>\n",
       "      <td>1.340265e+08</td>\n",
       "    </tr>\n",
       "  </tbody>\n",
       "</table>\n",
       "</div>"
      ],
      "text/plain": [
       "             mean SQ       std SQ  RNA molecules  RNA molecules STD\n",
       "Sample                                                             \n",
       "38-1       33.541876     5.035458   4.121080e+06       6.186751e+05\n",
       "38-11      20.605586     6.343001   2.531679e+06       7.793247e+05\n",
       "38-15       5.340679     3.906489   6.561757e+05       4.799657e+05\n",
       "38-3    11698.345408  1090.854972   1.437302e+09       1.340265e+08"
      ]
     },
     "execution_count": 8,
     "metadata": {},
     "output_type": "execute_result"
    }
   ],
   "source": [
    "groups = cq_raw.groupby([\"Sample\"])  # group samples by origin\n",
    "\n",
    "summary = pd.DataFrame()\n",
    "\n",
    "summary[\"mean SQ\"] = groups[\"Starting Quantity (SQ)\"].mean()  # Calculate mean over replicates\n",
    "summary[\"std SQ\"] = groups[\"Starting Quantity (SQ)\"].std()  # Calculate mean over replicates\n",
    "\n",
    "summary[\"RNA molecules\"] = groups[\"RNA molecules\"].mean()\n",
    "summary[\"RNA molecules STD\"] = groups[\"RNA molecules STD\"].mean()\n",
    "\n",
    "summary"
   ]
  },
  {
   "cell_type": "markdown",
   "metadata": {
    "Collapsed": "false"
   },
   "source": [
    "## Censor by lower limit of quantification"
   ]
  },
  {
   "cell_type": "code",
   "execution_count": 9,
   "metadata": {
    "Collapsed": "false"
   },
   "outputs": [
    {
     "name": "stdout",
     "output_type": "stream",
     "text": [
      "Lower limit of quantification: 1206056.4696794944\n"
     ]
    }
   ],
   "source": [
    "# Lower limit of quantification is set based on maximum signal from no template control (NTC) wells.\n",
    "\n",
    "LOD = cq_raw.set_index(\"Sample\").loc[\"38-15\", \"RNA molecules\"].max()\n",
    "\n",
    "print(\"Lower limit of quantification:\", LOD)"
   ]
  },
  {
   "cell_type": "code",
   "execution_count": 10,
   "metadata": {
    "Collapsed": "false"
   },
   "outputs": [],
   "source": [
    "# Substitute LOD for values below LOD\n",
    "\n",
    "cq_raw[\"RNA molecules censored\"] = cq_raw[\"RNA molecules\"]\n",
    "cq_raw.loc[cq_raw[\"RNA molecules\"] < LOD, \"RNA molecules censored\"] = LOD\n",
    "\n",
    "summary[\"RNA molecules censored\"] = summary[\"RNA molecules\"]\n",
    "summary.loc[summary[\"RNA molecules\"] < LOD, \"RNA molecules censored\"] = LOD"
   ]
  },
  {
   "cell_type": "markdown",
   "metadata": {
    "Collapsed": "false"
   },
   "source": [
    "# Visualize RNA abundance with ESCRT inhibitor"
   ]
  },
  {
   "cell_type": "code",
   "execution_count": 11,
   "metadata": {
    "Collapsed": "false"
   },
   "outputs": [],
   "source": [
    "# Choose samples\n",
    "index_ordered = [\"38-3\", \"38-1\", \"38-11\"]"
   ]
  },
  {
   "cell_type": "code",
   "execution_count": 12,
   "metadata": {
    "Collapsed": "false"
   },
   "outputs": [
    {
     "name": "stdout",
     "output_type": "stream",
     "text": [
      "(3, 5)\n"
     ]
    },
    {
     "data": {
      "text/html": [
       "<div>\n",
       "<style scoped>\n",
       "    .dataframe tbody tr th:only-of-type {\n",
       "        vertical-align: middle;\n",
       "    }\n",
       "\n",
       "    .dataframe tbody tr th {\n",
       "        vertical-align: top;\n",
       "    }\n",
       "\n",
       "    .dataframe thead th {\n",
       "        text-align: right;\n",
       "    }\n",
       "</style>\n",
       "<table border=\"1\" class=\"dataframe\">\n",
       "  <thead>\n",
       "    <tr style=\"text-align: right;\">\n",
       "      <th></th>\n",
       "      <th>mean SQ</th>\n",
       "      <th>std SQ</th>\n",
       "      <th>RNA molecules</th>\n",
       "      <th>RNA molecules STD</th>\n",
       "      <th>RNA molecules censored</th>\n",
       "    </tr>\n",
       "    <tr>\n",
       "      <th>Sample</th>\n",
       "      <th></th>\n",
       "      <th></th>\n",
       "      <th></th>\n",
       "      <th></th>\n",
       "      <th></th>\n",
       "    </tr>\n",
       "  </thead>\n",
       "  <tbody>\n",
       "    <tr>\n",
       "      <th>38-3</th>\n",
       "      <td>11698.345408</td>\n",
       "      <td>1090.854972</td>\n",
       "      <td>1.437302e+09</td>\n",
       "      <td>1.340265e+08</td>\n",
       "      <td>1.437302e+09</td>\n",
       "    </tr>\n",
       "    <tr>\n",
       "      <th>38-1</th>\n",
       "      <td>33.541876</td>\n",
       "      <td>5.035458</td>\n",
       "      <td>4.121080e+06</td>\n",
       "      <td>6.186751e+05</td>\n",
       "      <td>4.121080e+06</td>\n",
       "    </tr>\n",
       "    <tr>\n",
       "      <th>38-11</th>\n",
       "      <td>20.605586</td>\n",
       "      <td>6.343001</td>\n",
       "      <td>2.531679e+06</td>\n",
       "      <td>7.793247e+05</td>\n",
       "      <td>2.531679e+06</td>\n",
       "    </tr>\n",
       "  </tbody>\n",
       "</table>\n",
       "</div>"
      ],
      "text/plain": [
       "             mean SQ       std SQ  RNA molecules  RNA molecules STD  RNA molecules censored\n",
       "Sample                                                                                     \n",
       "38-3    11698.345408  1090.854972   1.437302e+09       1.340265e+08            1.437302e+09\n",
       "38-1       33.541876     5.035458   4.121080e+06       6.186751e+05            4.121080e+06\n",
       "38-11      20.605586     6.343001   2.531679e+06       7.793247e+05            2.531679e+06"
      ]
     },
     "execution_count": 12,
     "metadata": {},
     "output_type": "execute_result"
    }
   ],
   "source": [
    "# Get data of summary across replicates of selected wells\n",
    "summary_subset = summary.loc[index_ordered]\n",
    "\n",
    "# Set label\n",
    "# summary_subset[\"label\"] = [column_to_label[col] for col in columns_ordered]\n",
    "\n",
    "print(summary_subset.shape)\n",
    "summary_subset"
   ]
  },
  {
   "cell_type": "code",
   "execution_count": 13,
   "metadata": {
    "Collapsed": "false"
   },
   "outputs": [
    {
     "name": "stdout",
     "output_type": "stream",
     "text": [
      "(9, 17)\n"
     ]
    },
    {
     "data": {
      "text/html": [
       "<div>\n",
       "<style scoped>\n",
       "    .dataframe tbody tr th:only-of-type {\n",
       "        vertical-align: middle;\n",
       "    }\n",
       "\n",
       "    .dataframe tbody tr th {\n",
       "        vertical-align: top;\n",
       "    }\n",
       "\n",
       "    .dataframe thead th {\n",
       "        text-align: right;\n",
       "    }\n",
       "</style>\n",
       "<table border=\"1\" class=\"dataframe\">\n",
       "  <thead>\n",
       "    <tr style=\"text-align: right;\">\n",
       "      <th></th>\n",
       "      <th>Well</th>\n",
       "      <th>Fluor</th>\n",
       "      <th>Target</th>\n",
       "      <th>Content</th>\n",
       "      <th>Sample</th>\n",
       "      <th>Biological Set Name</th>\n",
       "      <th>Cq</th>\n",
       "      <th>Cq Mean</th>\n",
       "      <th>Cq Std. Dev</th>\n",
       "      <th>Starting Quantity (SQ)</th>\n",
       "      <th>Log Starting Quantity</th>\n",
       "      <th>SQ Mean</th>\n",
       "      <th>SQ Std. Dev</th>\n",
       "      <th>RNA molecules</th>\n",
       "      <th>RNA molecules Mean</th>\n",
       "      <th>RNA molecules STD</th>\n",
       "      <th>RNA molecules censored</th>\n",
       "    </tr>\n",
       "  </thead>\n",
       "  <tbody>\n",
       "    <tr>\n",
       "      <th>0</th>\n",
       "      <td>A01</td>\n",
       "      <td>SYBR</td>\n",
       "      <td>mCherry</td>\n",
       "      <td>Unkn-01</td>\n",
       "      <td>38-1</td>\n",
       "      <td>NaN</td>\n",
       "      <td>28.538764</td>\n",
       "      <td>28.300608</td>\n",
       "      <td>0.209501</td>\n",
       "      <td>27.843487</td>\n",
       "      <td>1.444724</td>\n",
       "      <td>33.541876</td>\n",
       "      <td>5.035458</td>\n",
       "      <td>3.420954e+06</td>\n",
       "      <td>4.121080e+06</td>\n",
       "      <td>6.186751e+05</td>\n",
       "      <td>3.420954e+06</td>\n",
       "    </tr>\n",
       "    <tr>\n",
       "      <th>1</th>\n",
       "      <td>A03</td>\n",
       "      <td>SYBR</td>\n",
       "      <td>mCherry</td>\n",
       "      <td>Unkn-03</td>\n",
       "      <td>38-3</td>\n",
       "      <td>NaN</td>\n",
       "      <td>20.412622</td>\n",
       "      <td>20.471170</td>\n",
       "      <td>0.128109</td>\n",
       "      <td>12185.596956</td>\n",
       "      <td>4.085847</td>\n",
       "      <td>11698.345408</td>\n",
       "      <td>1090.854972</td>\n",
       "      <td>1.497168e+09</td>\n",
       "      <td>1.437302e+09</td>\n",
       "      <td>1.340265e+08</td>\n",
       "      <td>1.497168e+09</td>\n",
       "    </tr>\n",
       "    <tr>\n",
       "      <th>2</th>\n",
       "      <td>A11</td>\n",
       "      <td>SYBR</td>\n",
       "      <td>mCherry</td>\n",
       "      <td>Unkn-11</td>\n",
       "      <td>38-11</td>\n",
       "      <td>NaN</td>\n",
       "      <td>29.510194</td>\n",
       "      <td>28.989742</td>\n",
       "      <td>0.457205</td>\n",
       "      <td>13.458404</td>\n",
       "      <td>1.128994</td>\n",
       "      <td>20.605586</td>\n",
       "      <td>6.343001</td>\n",
       "      <td>1.653549e+06</td>\n",
       "      <td>2.531679e+06</td>\n",
       "      <td>7.793247e+05</td>\n",
       "      <td>1.653549e+06</td>\n",
       "    </tr>\n",
       "    <tr>\n",
       "      <th>3</th>\n",
       "      <td>B01</td>\n",
       "      <td>SYBR</td>\n",
       "      <td>mCherry</td>\n",
       "      <td>Unkn-01</td>\n",
       "      <td>38-1</td>\n",
       "      <td>NaN</td>\n",
       "      <td>28.218296</td>\n",
       "      <td>28.300608</td>\n",
       "      <td>0.209501</td>\n",
       "      <td>35.390018</td>\n",
       "      <td>1.548881</td>\n",
       "      <td>33.541876</td>\n",
       "      <td>5.035458</td>\n",
       "      <td>4.348149e+06</td>\n",
       "      <td>4.121080e+06</td>\n",
       "      <td>6.186751e+05</td>\n",
       "      <td>4.348149e+06</td>\n",
       "    </tr>\n",
       "    <tr>\n",
       "      <th>4</th>\n",
       "      <td>B03</td>\n",
       "      <td>SYBR</td>\n",
       "      <td>mCherry</td>\n",
       "      <td>Unkn-03</td>\n",
       "      <td>38-3</td>\n",
       "      <td>NaN</td>\n",
       "      <td>20.382795</td>\n",
       "      <td>20.471170</td>\n",
       "      <td>0.128109</td>\n",
       "      <td>12460.654034</td>\n",
       "      <td>4.095541</td>\n",
       "      <td>11698.345408</td>\n",
       "      <td>1090.854972</td>\n",
       "      <td>1.530962e+09</td>\n",
       "      <td>1.437302e+09</td>\n",
       "      <td>1.340265e+08</td>\n",
       "      <td>1.530962e+09</td>\n",
       "    </tr>\n",
       "  </tbody>\n",
       "</table>\n",
       "</div>"
      ],
      "text/plain": [
       "  Well Fluor   Target  Content Sample  Biological Set Name         Cq    Cq Mean  Cq Std. Dev  Starting Quantity (SQ)  Log Starting Quantity       SQ Mean  SQ Std. Dev  RNA molecules  RNA molecules Mean  RNA molecules STD  RNA molecules censored\n",
       "0  A01  SYBR  mCherry  Unkn-01   38-1                  NaN  28.538764  28.300608     0.209501               27.843487               1.444724     33.541876     5.035458   3.420954e+06        4.121080e+06       6.186751e+05            3.420954e+06\n",
       "1  A03  SYBR  mCherry  Unkn-03   38-3                  NaN  20.412622  20.471170     0.128109            12185.596956               4.085847  11698.345408  1090.854972   1.497168e+09        1.437302e+09       1.340265e+08            1.497168e+09\n",
       "2  A11  SYBR  mCherry  Unkn-11  38-11                  NaN  29.510194  28.989742     0.457205               13.458404               1.128994     20.605586     6.343001   1.653549e+06        2.531679e+06       7.793247e+05            1.653549e+06\n",
       "3  B01  SYBR  mCherry  Unkn-01   38-1                  NaN  28.218296  28.300608     0.209501               35.390018               1.548881     33.541876     5.035458   4.348149e+06        4.121080e+06       6.186751e+05            4.348149e+06\n",
       "4  B03  SYBR  mCherry  Unkn-03   38-3                  NaN  20.382795  20.471170     0.128109            12460.654034               4.095541  11698.345408  1090.854972   1.530962e+09        1.437302e+09       1.340265e+08            1.530962e+09"
      ]
     },
     "execution_count": 13,
     "metadata": {},
     "output_type": "execute_result"
    }
   ],
   "source": [
    "# Get data of replicates of selected wells\n",
    "selector = cq_raw[\"Sample\"].isin(index_ordered)\n",
    "data = cq_raw.loc[selector]\n",
    "\n",
    "print(data.shape)\n",
    "data.head()"
   ]
  },
  {
   "cell_type": "code",
   "execution_count": 14,
   "metadata": {
    "Collapsed": "false"
   },
   "outputs": [
    {
     "name": "stderr",
     "output_type": "stream",
     "text": [
      "/scratch/resources/anaconda3/envs/RNA_export_magic/lib/python3.7/site-packages/ipykernel_launcher.py:22: SettingWithCopyWarning: \n",
      "A value is trying to be set on a copy of a slice from a DataFrame.\n",
      "Try using .loc[row_indexer,col_indexer] = value instead\n",
      "\n",
      "See the caveats in the documentation: https://pandas.pydata.org/pandas-docs/stable/user_guide/indexing.html#returning-a-view-versus-a-copy\n",
      "findfont: Font family ['cursive'] not found. Falling back to DejaVu Sans.\n"
     ]
    },
    {
     "data": {
      "image/png": "[encoded data removed]",
      "text/plain": [
       "<Figure size 450x180 with 1 Axes>"
      ]
     },
     "metadata": {},
     "output_type": "display_data"
    }
   ],
   "source": [
    "# Make simple swarm plot\n",
    "\n",
    "field = \"RNA molecules censored\"\n",
    "\n",
    "fig, ax = plt.subplots(1, 1, figsize=(1.5,0.6))\n",
    "\n",
    "# Set axis scaling - must be done first so swarm plot dots do not overlap\n",
    "ax.set_xscale(\"log\")\n",
    "ax.set_xlim(1e6, 1e10)\n",
    "\n",
    "# Plot summary\n",
    "\n",
    "x = summary_subset[field]\n",
    "y = np.arange(len(x))\n",
    "color = [\"#43adbf\", \"#83888a\", \"#f5b577\"]\n",
    "\n",
    "ax.barh(width=x, y=y, color=color, edgecolor=\"#010101\", lw=0.2)\n",
    "\n",
    "# # Plot individual points as swarm (sort columns appropriately)\n",
    "\n",
    "sample_to_rank = dict(zip(index_ordered, range(len(index_ordered))))\n",
    "data[\"rank\"] = [sample_to_rank[s] for s in data[\"Sample\"]]\n",
    "data = data.sort_values(by=\"rank\")\n",
    "\n",
    "x_swarm = data[field]\n",
    "y_swarm = np.array([y[rank] for rank in data[\"rank\"]])\n",
    "\n",
    "y_offset = np.array([-0.25, 0, 0.25])  # jitter offsets to avoid operlaps\n",
    "y_swarm_offset = y_swarm + np.tile(y_offset, int(len(y_swarm)/len(y_offset)))\n",
    "\n",
    "ax.scatter(x_swarm, y_swarm_offset, color=\"#252525\", s=2, zorder=10)\n",
    "\n",
    "# Set axis aesthetics\n",
    "ax.set_ylim(y[0]-0.65, y[-1]+0.65)\n",
    "ax.invert_yaxis()\n",
    "ax.xaxis.tick_top()\n",
    "ax.xaxis.set_label_position('top') \n",
    "ax.set_xlabel(\"Reporter RNA molecules in supernatant\", labelpad=4)\n",
    "ax.set_ylabel(\"\")\n",
    "ax.set_yticks(y)\n",
    "ax.grid(True)\n",
    "\n",
    "# Set xaxis tick spacing\n",
    "locmaj = mpl.ticker.LogLocator(base=10,numticks=12) \n",
    "ax.xaxis.set_major_locator(locmaj)\n",
    "\n",
    "locmin = mpl.ticker.LogLocator(base=10.0,subs=(0.2,0.4,0.6,0.8),numticks=12)\n",
    "ax.xaxis.set_minor_locator(locmin)\n",
    "ax.xaxis.set_minor_formatter(mpl.ticker.NullFormatter())\n",
    "\n",
    "# Set tick labels\n",
    "ax.set_yticks([0, 1, 2])\n",
    "yticklabels = [\"Exporter\", \"No exporter\", \"Exporter and inhibitor\"]\n",
    "ax.set_yticklabels(yticklabels)\n",
    "\n",
    "# Show limit of detection\n",
    "ax.axvline(LOD, ls=\"--\", color=\"k\", lw=0.5, zorder=10)\n",
    "\n",
    "save_figure(fig, \"barplot_inhibitor\")"
   ]
  },
  {
   "cell_type": "code",
   "execution_count": null,
   "metadata": {
    "Collapsed": "false"
   },
   "outputs": [],
   "source": []
  }
 ],
 "metadata": {
  "kernelspec": {
   "display_name": "RNA_export_magic",
   "language": "python",
   "name": "rna_export_magic"
  },
  "language_info": {
   "codemirror_mode": {
    "name": "ipython",
    "version": 3
   },
   "file_extension": ".py",
   "mimetype": "text/x-python",
   "name": "python",
   "nbconvert_exporter": "python",
   "pygments_lexer": "ipython3",
   "version": "3.7.7"
  }
 },
 "nbformat": 4,
 "nbformat_minor": 4
}
