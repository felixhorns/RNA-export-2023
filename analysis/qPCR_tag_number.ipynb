{
 "cells": [
  {
   "cell_type": "markdown",
   "metadata": {
    "Collapsed": "false"
   },
   "source": [
    "# Plot qPCR of RNA export with varying export tag copy number"
   ]
  },
  {
   "cell_type": "markdown",
   "metadata": {
    "Collapsed": "false",
    "toc-hr-collapsed": false
   },
   "source": [
    "# Introduction"
   ]
  },
  {
   "cell_type": "markdown",
   "metadata": {
    "Collapsed": "false"
   },
   "source": [
    "## Imports"
   ]
  },
  {
   "cell_type": "code",
   "execution_count": 1,
   "metadata": {
    "Collapsed": "false"
   },
   "outputs": [],
   "source": [
    "import sys\n",
    "import os\n",
    "import time\n",
    "\n",
    "import numpy as np\n",
    "import scipy\n",
    "import pandas as pd\n",
    "\n",
    "%matplotlib inline\n",
    "from matplotlib import pyplot as plt\n",
    "import matplotlib as mpl\n",
    "import seaborn as sns"
   ]
  },
  {
   "cell_type": "markdown",
   "metadata": {
    "Collapsed": "false"
   },
   "source": [
    "## Set output parameters"
   ]
  },
  {
   "cell_type": "code",
   "execution_count": 2,
   "metadata": {
    "Collapsed": "false"
   },
   "outputs": [],
   "source": [
    "# Set pandas display options\n",
    "pd.set_option('display.max_rows', 30)\n",
    "pd.set_option('display.max_columns', 100)\n",
    "pd.set_option('display.width', 1000)\n",
    "\n",
    "# Set plot display options\n",
    "FONTSIZE = 8  # universal fontsize\n",
    "params = {\n",
    "    'font.size': FONTSIZE,\n",
    "    'axes.titlesize': FONTSIZE,\n",
    "    'axes.labelsize': FONTSIZE,\n",
    "    'legend.fontsize': FONTSIZE,\n",
    "    'xtick.labelsize': FONTSIZE,\n",
    "    'ytick.labelsize': FONTSIZE,\n",
    "    'font.family': \"Helvetica\",\n",
    "    'mathtext.fontset': 'custom',\n",
    "    'pdf.fonttype': 42,\n",
    "    'ps.fonttype': 42,\n",
    "    'figure.dpi': 300\n",
    "   }\n",
    "mpl.rcParams.update(params)\n",
    "sns.set_style(\"ticks\", {'axes.grid' : False})\n",
    "\n",
    "# Set plot output options\n",
    "output_dir = \"outs/qPCR_tag_number\"\n",
    "output_suffix = \"\"\n",
    "output_formats = [\".png\", \".pdf\"]\n",
    "\n",
    "mpl.rc('savefig', dpi=300)\n",
    "\n",
    "# Define convenience function for saving figures\n",
    "\n",
    "savefig = True\n",
    "savefig_args = {\"dpi\": 300, \"bbox_inches\": \"tight\", \"pad_inches\": 0.1}\n",
    "\n",
    "def save_figure(fig, name, output_dir=output_dir, output_suffix=output_suffix, output_formats=output_formats, savefig_args=savefig_args):\n",
    "    if savefig:\n",
    "        for output_format in output_formats:\n",
    "            fig.savefig(output_dir + \"/\" + name + output_suffix + output_format, **savefig_args)\n",
    "    return None"
   ]
  },
  {
   "cell_type": "code",
   "execution_count": 3,
   "metadata": {
    "Collapsed": "false"
   },
   "outputs": [
    {
     "data": {
      "text/plain": [
       "{'font.size': 8.0,\n",
       " 'axes.labelsize': 8.0,\n",
       " 'axes.titlesize': 8.0,\n",
       " 'xtick.labelsize': 8.0,\n",
       " 'ytick.labelsize': 8.0,\n",
       " 'legend.fontsize': 8.0,\n",
       " 'legend.title_fontsize': None,\n",
       " 'axes.linewidth': 0.8,\n",
       " 'grid.linewidth': 0.8,\n",
       " 'lines.linewidth': 1.5,\n",
       " 'lines.markersize': 6.0,\n",
       " 'patch.linewidth': 1.0,\n",
       " 'xtick.major.width': 0.8,\n",
       " 'ytick.major.width': 0.8,\n",
       " 'xtick.minor.width': 0.6,\n",
       " 'ytick.minor.width': 0.6,\n",
       " 'xtick.major.size': 3.5,\n",
       " 'ytick.major.size': 3.5,\n",
       " 'xtick.minor.size': 2.0,\n",
       " 'ytick.minor.size': 2.0}"
      ]
     },
     "execution_count": 3,
     "metadata": {},
     "output_type": "execute_result"
    }
   ],
   "source": [
    "# Report plot parameters\n",
    "sns.plotting_context()"
   ]
  },
  {
   "cell_type": "markdown",
   "metadata": {
    "Collapsed": "false"
   },
   "source": [
    "# Load data"
   ]
  },
  {
   "cell_type": "markdown",
   "metadata": {
    "Collapsed": "false"
   },
   "source": [
    "## Load qPCR data"
   ]
  },
  {
   "cell_type": "code",
   "execution_count": 4,
   "metadata": {
    "Collapsed": "false"
   },
   "outputs": [
    {
     "name": "stdout",
     "output_type": "stream",
     "text": [
      "(38, 13)\n"
     ]
    },
    {
     "data": {
      "text/html": [
       "<div>\n",
       "<style scoped>\n",
       "    .dataframe tbody tr th:only-of-type {\n",
       "        vertical-align: middle;\n",
       "    }\n",
       "\n",
       "    .dataframe tbody tr th {\n",
       "        vertical-align: top;\n",
       "    }\n",
       "\n",
       "    .dataframe thead th {\n",
       "        text-align: right;\n",
       "    }\n",
       "</style>\n",
       "<table border=\"1\" class=\"dataframe\">\n",
       "  <thead>\n",
       "    <tr style=\"text-align: right;\">\n",
       "      <th></th>\n",
       "      <th>Well</th>\n",
       "      <th>Fluor</th>\n",
       "      <th>Target</th>\n",
       "      <th>Content</th>\n",
       "      <th>Sample</th>\n",
       "      <th>Biological Set Name</th>\n",
       "      <th>Cq</th>\n",
       "      <th>Cq Mean</th>\n",
       "      <th>Cq Std. Dev</th>\n",
       "      <th>Starting Quantity (SQ)</th>\n",
       "      <th>Log Starting Quantity</th>\n",
       "      <th>SQ Mean</th>\n",
       "      <th>SQ Std. Dev</th>\n",
       "    </tr>\n",
       "  </thead>\n",
       "  <tbody>\n",
       "    <tr>\n",
       "      <th>0</th>\n",
       "      <td>A01</td>\n",
       "      <td>SYBR</td>\n",
       "      <td>mCherry</td>\n",
       "      <td>Unkn-01</td>\n",
       "      <td>Well1</td>\n",
       "      <td>Supernatant</td>\n",
       "      <td>34.516878</td>\n",
       "      <td>33.855151</td>\n",
       "      <td>0.584875</td>\n",
       "      <td>15.347779</td>\n",
       "      <td>1.186046</td>\n",
       "      <td>24.117839</td>\n",
       "      <td>7.870989</td>\n",
       "    </tr>\n",
       "    <tr>\n",
       "      <th>1</th>\n",
       "      <td>A02</td>\n",
       "      <td>SYBR</td>\n",
       "      <td>mCherry</td>\n",
       "      <td>Unkn-03</td>\n",
       "      <td>Well2</td>\n",
       "      <td>Supernatant</td>\n",
       "      <td>25.510410</td>\n",
       "      <td>25.334450</td>\n",
       "      <td>0.214983</td>\n",
       "      <td>4121.649385</td>\n",
       "      <td>3.615071</td>\n",
       "      <td>4625.404802</td>\n",
       "      <td>632.491254</td>\n",
       "    </tr>\n",
       "    <tr>\n",
       "      <th>2</th>\n",
       "      <td>A03</td>\n",
       "      <td>SYBR</td>\n",
       "      <td>mCherry</td>\n",
       "      <td>Unkn-05</td>\n",
       "      <td>Well3</td>\n",
       "      <td>Supernatant</td>\n",
       "      <td>23.347337</td>\n",
       "      <td>23.100214</td>\n",
       "      <td>0.257669</td>\n",
       "      <td>15792.372998</td>\n",
       "      <td>4.198447</td>\n",
       "      <td>18570.229188</td>\n",
       "      <td>2988.988325</td>\n",
       "    </tr>\n",
       "    <tr>\n",
       "      <th>3</th>\n",
       "      <td>A04</td>\n",
       "      <td>SYBR</td>\n",
       "      <td>mCherry</td>\n",
       "      <td>Unkn-07</td>\n",
       "      <td>Well4</td>\n",
       "      <td>Supernatant</td>\n",
       "      <td>22.523269</td>\n",
       "      <td>22.424550</td>\n",
       "      <td>0.244022</td>\n",
       "      <td>26344.904307</td>\n",
       "      <td>4.420697</td>\n",
       "      <td>28230.837761</td>\n",
       "      <td>4425.562083</td>\n",
       "    </tr>\n",
       "    <tr>\n",
       "      <th>4</th>\n",
       "      <td>A05</td>\n",
       "      <td>SYBR</td>\n",
       "      <td>mCherry</td>\n",
       "      <td>Unkn-09</td>\n",
       "      <td>Well5</td>\n",
       "      <td>Supernatant</td>\n",
       "      <td>22.080745</td>\n",
       "      <td>21.668722</td>\n",
       "      <td>0.363187</td>\n",
       "      <td>34677.234324</td>\n",
       "      <td>4.540044</td>\n",
       "      <td>45523.140247</td>\n",
       "      <td>9633.591828</td>\n",
       "    </tr>\n",
       "  </tbody>\n",
       "</table>\n",
       "</div>"
      ],
      "text/plain": [
       "  Well Fluor   Target  Content Sample Biological Set Name         Cq    Cq Mean  Cq Std. Dev  Starting Quantity (SQ)  Log Starting Quantity       SQ Mean  SQ Std. Dev\n",
       "0  A01  SYBR  mCherry  Unkn-01  Well1         Supernatant  34.516878  33.855151     0.584875               15.347779               1.186046     24.117839     7.870989\n",
       "1  A02  SYBR  mCherry  Unkn-03  Well2         Supernatant  25.510410  25.334450     0.214983             4121.649385               3.615071   4625.404802   632.491254\n",
       "2  A03  SYBR  mCherry  Unkn-05  Well3         Supernatant  23.347337  23.100214     0.257669            15792.372998               4.198447  18570.229188  2988.988325\n",
       "3  A04  SYBR  mCherry  Unkn-07  Well4         Supernatant  22.523269  22.424550     0.244022            26344.904307               4.420697  28230.837761  4425.562083\n",
       "4  A05  SYBR  mCherry  Unkn-09  Well5         Supernatant  22.080745  21.668722     0.363187            34677.234324               4.540044  45523.140247  9633.591828"
      ]
     },
     "execution_count": 4,
     "metadata": {},
     "output_type": "execute_result"
    }
   ],
   "source": [
    "infile = \"../preprocessed_data/qPCR_data/qPCR_tag_number_Cq.csv\"\n",
    "\n",
    "\n",
    "cq_raw = pd.read_csv(infile, header=0)\n",
    "\n",
    "columns_to_drop = [\"Unnamed: 0\", \"Well Note\", \"Set Point\"]\n",
    "cq_raw.drop(columns_to_drop, axis=1, inplace=True)\n",
    "\n",
    "print(cq_raw.shape)\n",
    "cq_raw.head()"
   ]
  },
  {
   "cell_type": "code",
   "execution_count": 5,
   "metadata": {
    "Collapsed": "false"
   },
   "outputs": [
    {
     "name": "stdout",
     "output_type": "stream",
     "text": [
      "(6, 6)\n"
     ]
    },
    {
     "data": {
      "text/html": [
       "<div>\n",
       "<style scoped>\n",
       "    .dataframe tbody tr th:only-of-type {\n",
       "        vertical-align: middle;\n",
       "    }\n",
       "\n",
       "    .dataframe tbody tr th {\n",
       "        vertical-align: top;\n",
       "    }\n",
       "\n",
       "    .dataframe thead th {\n",
       "        text-align: right;\n",
       "    }\n",
       "</style>\n",
       "<table border=\"1\" class=\"dataframe\">\n",
       "  <thead>\n",
       "    <tr style=\"text-align: right;\">\n",
       "      <th></th>\n",
       "      <th>Sample</th>\n",
       "      <th>Condition</th>\n",
       "      <th>Exporter</th>\n",
       "      <th>Reporter</th>\n",
       "      <th>Exporter pID</th>\n",
       "      <th>Reporter pID</th>\n",
       "    </tr>\n",
       "  </thead>\n",
       "  <tbody>\n",
       "    <tr>\n",
       "      <th>0</th>\n",
       "      <td>Well1</td>\n",
       "      <td>mCherry</td>\n",
       "      <td>Gag-MCP</td>\n",
       "      <td>mCherry</td>\n",
       "      <td>2.1</td>\n",
       "      <td>2.10</td>\n",
       "    </tr>\n",
       "    <tr>\n",
       "      <th>1</th>\n",
       "      <td>Well2</td>\n",
       "      <td>mCherry-MS2x2</td>\n",
       "      <td>Gag-MCP</td>\n",
       "      <td>mCherry-MS2x2</td>\n",
       "      <td>2.1</td>\n",
       "      <td>2.19</td>\n",
       "    </tr>\n",
       "    <tr>\n",
       "      <th>2</th>\n",
       "      <td>Well3</td>\n",
       "      <td>mCherry-MS2x4</td>\n",
       "      <td>Gag-MCP</td>\n",
       "      <td>mCherry-MS2x4</td>\n",
       "      <td>2.1</td>\n",
       "      <td>2.20</td>\n",
       "    </tr>\n",
       "    <tr>\n",
       "      <th>3</th>\n",
       "      <td>Well4</td>\n",
       "      <td>mCherry-MS2x6</td>\n",
       "      <td>Gag-MCP</td>\n",
       "      <td>mCherry-MS2x6</td>\n",
       "      <td>2.1</td>\n",
       "      <td>2.21</td>\n",
       "    </tr>\n",
       "    <tr>\n",
       "      <th>4</th>\n",
       "      <td>Well5</td>\n",
       "      <td>mCherry-MS2x8</td>\n",
       "      <td>Gag-MCP</td>\n",
       "      <td>mCherry-MS2x8</td>\n",
       "      <td>2.1</td>\n",
       "      <td>2.22</td>\n",
       "    </tr>\n",
       "  </tbody>\n",
       "</table>\n",
       "</div>"
      ],
      "text/plain": [
       "  Sample      Condition Exporter       Reporter  Exporter pID  Reporter pID\n",
       "0  Well1        mCherry  Gag-MCP        mCherry           2.1          2.10\n",
       "1  Well2  mCherry-MS2x2  Gag-MCP  mCherry-MS2x2           2.1          2.19\n",
       "2  Well3  mCherry-MS2x4  Gag-MCP  mCherry-MS2x4           2.1          2.20\n",
       "3  Well4  mCherry-MS2x6  Gag-MCP  mCherry-MS2x6           2.1          2.21\n",
       "4  Well5  mCherry-MS2x8  Gag-MCP  mCherry-MS2x8           2.1          2.22"
      ]
     },
     "execution_count": 5,
     "metadata": {},
     "output_type": "execute_result"
    }
   ],
   "source": [
    "# Load metadata (includes sample names)\n",
    "infile = \"../preprocessed_data/qPCR_data/qPCR_tag_number_metadata.csv\"\n",
    "metadata = pd.read_csv(infile, index_col=0, header=0)\n",
    "metadata = metadata.reset_index()\n",
    "print(metadata.shape)\n",
    "metadata.head()"
   ]
  },
  {
   "cell_type": "markdown",
   "metadata": {
    "Collapsed": "false"
   },
   "source": [
    "# Preprocess data"
   ]
  },
  {
   "cell_type": "markdown",
   "metadata": {
    "Collapsed": "false"
   },
   "source": [
    "## Calculate total starting molecules"
   ]
  },
  {
   "cell_type": "code",
   "execution_count": 6,
   "metadata": {
    "Collapsed": "false"
   },
   "outputs": [],
   "source": [
    "# Calculate normalization for input volume\n",
    "DILUTION_FACTORS = (400/140) * (42/20) * (61/10) * (20/1)"
   ]
  },
  {
   "cell_type": "code",
   "execution_count": 7,
   "metadata": {
    "Collapsed": "false"
   },
   "outputs": [],
   "source": [
    "# Back-calculate input RNA molecules, given <100% efficiency of extraction, DNase, RT, as measured based on RNA standard\n",
    "\n",
    "PROTOCOL_EFFICIENCY = 0.005957820738  # Efficiency of extraction, DNase, RT"
   ]
  },
  {
   "cell_type": "code",
   "execution_count": 8,
   "metadata": {
    "Collapsed": "false"
   },
   "outputs": [],
   "source": [
    "# Calculate total RNA molecules in supernatant\n",
    "cq_raw[\"RNA molecules\"] = cq_raw[\"Starting Quantity (SQ)\"] * DILUTION_FACTORS * (1/PROTOCOL_EFFICIENCY)\n",
    "cq_raw[\"RNA molecules Mean\"] = cq_raw[\"SQ Mean\"] * DILUTION_FACTORS * (1/PROTOCOL_EFFICIENCY)\n",
    "cq_raw[\"RNA molecules STD\"] = cq_raw[\"SQ Std. Dev\"] * DILUTION_FACTORS * (1/PROTOCOL_EFFICIENCY)"
   ]
  },
  {
   "cell_type": "markdown",
   "metadata": {
    "Collapsed": "false"
   },
   "source": [
    "## Summarize replicates"
   ]
  },
  {
   "cell_type": "code",
   "execution_count": 9,
   "metadata": {
    "Collapsed": "false"
   },
   "outputs": [
    {
     "data": {
      "text/html": [
       "<div>\n",
       "<style scoped>\n",
       "    .dataframe tbody tr th:only-of-type {\n",
       "        vertical-align: middle;\n",
       "    }\n",
       "\n",
       "    .dataframe tbody tr th {\n",
       "        vertical-align: top;\n",
       "    }\n",
       "\n",
       "    .dataframe thead th {\n",
       "        text-align: right;\n",
       "    }\n",
       "</style>\n",
       "<table border=\"1\" class=\"dataframe\">\n",
       "  <thead>\n",
       "    <tr style=\"text-align: right;\">\n",
       "      <th></th>\n",
       "      <th>mean SQ</th>\n",
       "      <th>std SQ</th>\n",
       "      <th>RNA molecules</th>\n",
       "      <th>RNA molecules STD</th>\n",
       "    </tr>\n",
       "    <tr>\n",
       "      <th>Sample</th>\n",
       "      <th></th>\n",
       "      <th></th>\n",
       "      <th></th>\n",
       "      <th></th>\n",
       "    </tr>\n",
       "  </thead>\n",
       "  <tbody>\n",
       "    <tr>\n",
       "      <th>Well1</th>\n",
       "      <td>24.117839</td>\n",
       "      <td>7.870989</td>\n",
       "      <td>2.963207e+06</td>\n",
       "      <td>9.670589e+05</td>\n",
       "    </tr>\n",
       "    <tr>\n",
       "      <th>Well2</th>\n",
       "      <td>4625.404802</td>\n",
       "      <td>632.491254</td>\n",
       "      <td>5.682944e+08</td>\n",
       "      <td>7.771023e+07</td>\n",
       "    </tr>\n",
       "    <tr>\n",
       "      <th>Well3</th>\n",
       "      <td>18570.229188</td>\n",
       "      <td>2988.988325</td>\n",
       "      <td>2.281607e+09</td>\n",
       "      <td>3.672382e+08</td>\n",
       "    </tr>\n",
       "    <tr>\n",
       "      <th>Well4</th>\n",
       "      <td>28230.837761</td>\n",
       "      <td>4425.562083</td>\n",
       "      <td>3.468546e+09</td>\n",
       "      <td>5.437410e+08</td>\n",
       "    </tr>\n",
       "    <tr>\n",
       "      <th>Well5</th>\n",
       "      <td>45523.140247</td>\n",
       "      <td>9633.591828</td>\n",
       "      <td>5.593142e+09</td>\n",
       "      <td>1.183619e+09</td>\n",
       "    </tr>\n",
       "    <tr>\n",
       "      <th>Well6</th>\n",
       "      <td>43614.806572</td>\n",
       "      <td>3220.923448</td>\n",
       "      <td>5.358677e+09</td>\n",
       "      <td>3.957346e+08</td>\n",
       "    </tr>\n",
       "  </tbody>\n",
       "</table>\n",
       "</div>"
      ],
      "text/plain": [
       "             mean SQ       std SQ  RNA molecules  RNA molecules STD\n",
       "Sample                                                             \n",
       "Well1      24.117839     7.870989   2.963207e+06       9.670589e+05\n",
       "Well2    4625.404802   632.491254   5.682944e+08       7.771023e+07\n",
       "Well3   18570.229188  2988.988325   2.281607e+09       3.672382e+08\n",
       "Well4   28230.837761  4425.562083   3.468546e+09       5.437410e+08\n",
       "Well5   45523.140247  9633.591828   5.593142e+09       1.183619e+09\n",
       "Well6   43614.806572  3220.923448   5.358677e+09       3.957346e+08"
      ]
     },
     "execution_count": 9,
     "metadata": {},
     "output_type": "execute_result"
    }
   ],
   "source": [
    "groups = cq_raw.groupby([\"Sample\"])  # group samples by origin\n",
    "\n",
    "summary = pd.DataFrame()\n",
    "\n",
    "summary[\"mean SQ\"] = groups[\"Starting Quantity (SQ)\"].mean()  # Calculate mean over replicates\n",
    "summary[\"std SQ\"] = groups[\"Starting Quantity (SQ)\"].std()  # Calculate mean over replicates\n",
    "\n",
    "summary[\"RNA molecules\"] = groups[\"RNA molecules\"].mean()\n",
    "summary[\"RNA molecules STD\"] = groups[\"RNA molecules STD\"].mean()\n",
    "\n",
    "summary"
   ]
  },
  {
   "cell_type": "markdown",
   "metadata": {
    "Collapsed": "false"
   },
   "source": [
    "## Censor by lower limit of quantification"
   ]
  },
  {
   "cell_type": "code",
   "execution_count": 10,
   "metadata": {
    "Collapsed": "false"
   },
   "outputs": [
    {
     "name": "stdout",
     "output_type": "stream",
     "text": [
      "Lower limit of quantification: 122863.71681698623\n"
     ]
    }
   ],
   "source": [
    "# Because no signal was detected in any of the no template control (NTC) wells, we calculate the\n",
    "# lower limit of quantification based on the detection limit of a single molecule present\n",
    "# as input to the qPCR reaction.\n",
    "\n",
    "LOD = DILUTION_FACTORS * (1/PROTOCOL_EFFICIENCY)\n",
    "\n",
    "print(\"Lower limit of quantification:\", LOD)"
   ]
  },
  {
   "cell_type": "code",
   "execution_count": 11,
   "metadata": {
    "Collapsed": "false"
   },
   "outputs": [],
   "source": [
    "# Substitute LOD for values below LOD\n",
    "\n",
    "cq_raw[\"RNA molecules censored\"] = cq_raw[\"RNA molecules\"]\n",
    "cq_raw.loc[cq_raw[\"RNA molecules\"] < LOD, \"RNA molecules censored\"] = LOD\n",
    "\n",
    "summary[\"RNA molecules censored\"] = summary[\"RNA molecules\"]\n",
    "summary.loc[summary[\"RNA molecules\"] < LOD, \"RNA molecules censored\"] = LOD"
   ]
  },
  {
   "cell_type": "markdown",
   "metadata": {
    "Collapsed": "false"
   },
   "source": [
    "# Visualize RNA export with varying numbers of export tags"
   ]
  },
  {
   "cell_type": "code",
   "execution_count": 12,
   "metadata": {
    "Collapsed": "false"
   },
   "outputs": [],
   "source": [
    "# Choose samples\n",
    "index_ordered = [\"Well1\", \"Well2\", \"Well3\", \"Well4\", \"Well5\", \"Well6\"]"
   ]
  },
  {
   "cell_type": "code",
   "execution_count": 13,
   "metadata": {
    "Collapsed": "false"
   },
   "outputs": [
    {
     "name": "stdout",
     "output_type": "stream",
     "text": [
      "(6, 5)\n"
     ]
    },
    {
     "data": {
      "text/html": [
       "<div>\n",
       "<style scoped>\n",
       "    .dataframe tbody tr th:only-of-type {\n",
       "        vertical-align: middle;\n",
       "    }\n",
       "\n",
       "    .dataframe tbody tr th {\n",
       "        vertical-align: top;\n",
       "    }\n",
       "\n",
       "    .dataframe thead th {\n",
       "        text-align: right;\n",
       "    }\n",
       "</style>\n",
       "<table border=\"1\" class=\"dataframe\">\n",
       "  <thead>\n",
       "    <tr style=\"text-align: right;\">\n",
       "      <th></th>\n",
       "      <th>mean SQ</th>\n",
       "      <th>std SQ</th>\n",
       "      <th>RNA molecules</th>\n",
       "      <th>RNA molecules STD</th>\n",
       "      <th>RNA molecules censored</th>\n",
       "    </tr>\n",
       "    <tr>\n",
       "      <th>Sample</th>\n",
       "      <th></th>\n",
       "      <th></th>\n",
       "      <th></th>\n",
       "      <th></th>\n",
       "      <th></th>\n",
       "    </tr>\n",
       "  </thead>\n",
       "  <tbody>\n",
       "    <tr>\n",
       "      <th>Well1</th>\n",
       "      <td>24.117839</td>\n",
       "      <td>7.870989</td>\n",
       "      <td>2.963207e+06</td>\n",
       "      <td>9.670589e+05</td>\n",
       "      <td>2.963207e+06</td>\n",
       "    </tr>\n",
       "    <tr>\n",
       "      <th>Well2</th>\n",
       "      <td>4625.404802</td>\n",
       "      <td>632.491254</td>\n",
       "      <td>5.682944e+08</td>\n",
       "      <td>7.771023e+07</td>\n",
       "      <td>5.682944e+08</td>\n",
       "    </tr>\n",
       "    <tr>\n",
       "      <th>Well3</th>\n",
       "      <td>18570.229188</td>\n",
       "      <td>2988.988325</td>\n",
       "      <td>2.281607e+09</td>\n",
       "      <td>3.672382e+08</td>\n",
       "      <td>2.281607e+09</td>\n",
       "    </tr>\n",
       "    <tr>\n",
       "      <th>Well4</th>\n",
       "      <td>28230.837761</td>\n",
       "      <td>4425.562083</td>\n",
       "      <td>3.468546e+09</td>\n",
       "      <td>5.437410e+08</td>\n",
       "      <td>3.468546e+09</td>\n",
       "    </tr>\n",
       "    <tr>\n",
       "      <th>Well5</th>\n",
       "      <td>45523.140247</td>\n",
       "      <td>9633.591828</td>\n",
       "      <td>5.593142e+09</td>\n",
       "      <td>1.183619e+09</td>\n",
       "      <td>5.593142e+09</td>\n",
       "    </tr>\n",
       "    <tr>\n",
       "      <th>Well6</th>\n",
       "      <td>43614.806572</td>\n",
       "      <td>3220.923448</td>\n",
       "      <td>5.358677e+09</td>\n",
       "      <td>3.957346e+08</td>\n",
       "      <td>5.358677e+09</td>\n",
       "    </tr>\n",
       "  </tbody>\n",
       "</table>\n",
       "</div>"
      ],
      "text/plain": [
       "             mean SQ       std SQ  RNA molecules  RNA molecules STD  RNA molecules censored\n",
       "Sample                                                                                     \n",
       "Well1      24.117839     7.870989   2.963207e+06       9.670589e+05            2.963207e+06\n",
       "Well2    4625.404802   632.491254   5.682944e+08       7.771023e+07            5.682944e+08\n",
       "Well3   18570.229188  2988.988325   2.281607e+09       3.672382e+08            2.281607e+09\n",
       "Well4   28230.837761  4425.562083   3.468546e+09       5.437410e+08            3.468546e+09\n",
       "Well5   45523.140247  9633.591828   5.593142e+09       1.183619e+09            5.593142e+09\n",
       "Well6   43614.806572  3220.923448   5.358677e+09       3.957346e+08            5.358677e+09"
      ]
     },
     "execution_count": 13,
     "metadata": {},
     "output_type": "execute_result"
    }
   ],
   "source": [
    "# Get data of summary across replicates of selected wells\n",
    "summary_subset = summary.loc[index_ordered]\n",
    "\n",
    "# Set label\n",
    "# summary_subset[\"label\"] = [column_to_label[col] for col in columns_ordered]\n",
    "\n",
    "print(summary_subset.shape)\n",
    "summary_subset"
   ]
  },
  {
   "cell_type": "code",
   "execution_count": 14,
   "metadata": {
    "Collapsed": "false"
   },
   "outputs": [
    {
     "name": "stdout",
     "output_type": "stream",
     "text": [
      "(18, 17)\n"
     ]
    },
    {
     "data": {
      "text/html": [
       "<div>\n",
       "<style scoped>\n",
       "    .dataframe tbody tr th:only-of-type {\n",
       "        vertical-align: middle;\n",
       "    }\n",
       "\n",
       "    .dataframe tbody tr th {\n",
       "        vertical-align: top;\n",
       "    }\n",
       "\n",
       "    .dataframe thead th {\n",
       "        text-align: right;\n",
       "    }\n",
       "</style>\n",
       "<table border=\"1\" class=\"dataframe\">\n",
       "  <thead>\n",
       "    <tr style=\"text-align: right;\">\n",
       "      <th></th>\n",
       "      <th>Well</th>\n",
       "      <th>Fluor</th>\n",
       "      <th>Target</th>\n",
       "      <th>Content</th>\n",
       "      <th>Sample</th>\n",
       "      <th>Biological Set Name</th>\n",
       "      <th>Cq</th>\n",
       "      <th>Cq Mean</th>\n",
       "      <th>Cq Std. Dev</th>\n",
       "      <th>Starting Quantity (SQ)</th>\n",
       "      <th>Log Starting Quantity</th>\n",
       "      <th>SQ Mean</th>\n",
       "      <th>SQ Std. Dev</th>\n",
       "      <th>RNA molecules</th>\n",
       "      <th>RNA molecules Mean</th>\n",
       "      <th>RNA molecules STD</th>\n",
       "      <th>RNA molecules censored</th>\n",
       "    </tr>\n",
       "  </thead>\n",
       "  <tbody>\n",
       "    <tr>\n",
       "      <th>0</th>\n",
       "      <td>A01</td>\n",
       "      <td>SYBR</td>\n",
       "      <td>mCherry</td>\n",
       "      <td>Unkn-01</td>\n",
       "      <td>Well1</td>\n",
       "      <td>Supernatant</td>\n",
       "      <td>34.516878</td>\n",
       "      <td>33.855151</td>\n",
       "      <td>0.584875</td>\n",
       "      <td>15.347779</td>\n",
       "      <td>1.186046</td>\n",
       "      <td>24.117839</td>\n",
       "      <td>7.870989</td>\n",
       "      <td>1.885685e+06</td>\n",
       "      <td>2.963207e+06</td>\n",
       "      <td>9.670589e+05</td>\n",
       "      <td>1.885685e+06</td>\n",
       "    </tr>\n",
       "    <tr>\n",
       "      <th>1</th>\n",
       "      <td>A02</td>\n",
       "      <td>SYBR</td>\n",
       "      <td>mCherry</td>\n",
       "      <td>Unkn-03</td>\n",
       "      <td>Well2</td>\n",
       "      <td>Supernatant</td>\n",
       "      <td>25.510410</td>\n",
       "      <td>25.334450</td>\n",
       "      <td>0.214983</td>\n",
       "      <td>4121.649385</td>\n",
       "      <td>3.615071</td>\n",
       "      <td>4625.404802</td>\n",
       "      <td>632.491254</td>\n",
       "      <td>5.064012e+08</td>\n",
       "      <td>5.682944e+08</td>\n",
       "      <td>7.771023e+07</td>\n",
       "      <td>5.064012e+08</td>\n",
       "    </tr>\n",
       "    <tr>\n",
       "      <th>2</th>\n",
       "      <td>A03</td>\n",
       "      <td>SYBR</td>\n",
       "      <td>mCherry</td>\n",
       "      <td>Unkn-05</td>\n",
       "      <td>Well3</td>\n",
       "      <td>Supernatant</td>\n",
       "      <td>23.347337</td>\n",
       "      <td>23.100214</td>\n",
       "      <td>0.257669</td>\n",
       "      <td>15792.372998</td>\n",
       "      <td>4.198447</td>\n",
       "      <td>18570.229188</td>\n",
       "      <td>2988.988325</td>\n",
       "      <td>1.940310e+09</td>\n",
       "      <td>2.281607e+09</td>\n",
       "      <td>3.672382e+08</td>\n",
       "      <td>1.940310e+09</td>\n",
       "    </tr>\n",
       "    <tr>\n",
       "      <th>3</th>\n",
       "      <td>A04</td>\n",
       "      <td>SYBR</td>\n",
       "      <td>mCherry</td>\n",
       "      <td>Unkn-07</td>\n",
       "      <td>Well4</td>\n",
       "      <td>Supernatant</td>\n",
       "      <td>22.523269</td>\n",
       "      <td>22.424550</td>\n",
       "      <td>0.244022</td>\n",
       "      <td>26344.904307</td>\n",
       "      <td>4.420697</td>\n",
       "      <td>28230.837761</td>\n",
       "      <td>4425.562083</td>\n",
       "      <td>3.236833e+09</td>\n",
       "      <td>3.468546e+09</td>\n",
       "      <td>5.437410e+08</td>\n",
       "      <td>3.236833e+09</td>\n",
       "    </tr>\n",
       "    <tr>\n",
       "      <th>4</th>\n",
       "      <td>A05</td>\n",
       "      <td>SYBR</td>\n",
       "      <td>mCherry</td>\n",
       "      <td>Unkn-09</td>\n",
       "      <td>Well5</td>\n",
       "      <td>Supernatant</td>\n",
       "      <td>22.080745</td>\n",
       "      <td>21.668722</td>\n",
       "      <td>0.363187</td>\n",
       "      <td>34677.234324</td>\n",
       "      <td>4.540044</td>\n",
       "      <td>45523.140247</td>\n",
       "      <td>9633.591828</td>\n",
       "      <td>4.260574e+09</td>\n",
       "      <td>5.593142e+09</td>\n",
       "      <td>1.183619e+09</td>\n",
       "      <td>4.260574e+09</td>\n",
       "    </tr>\n",
       "  </tbody>\n",
       "</table>\n",
       "</div>"
      ],
      "text/plain": [
       "  Well Fluor   Target  Content Sample Biological Set Name         Cq    Cq Mean  Cq Std. Dev  Starting Quantity (SQ)  Log Starting Quantity       SQ Mean  SQ Std. Dev  RNA molecules  RNA molecules Mean  RNA molecules STD  RNA molecules censored\n",
       "0  A01  SYBR  mCherry  Unkn-01  Well1         Supernatant  34.516878  33.855151     0.584875               15.347779               1.186046     24.117839     7.870989   1.885685e+06        2.963207e+06       9.670589e+05            1.885685e+06\n",
       "1  A02  SYBR  mCherry  Unkn-03  Well2         Supernatant  25.510410  25.334450     0.214983             4121.649385               3.615071   4625.404802   632.491254   5.064012e+08        5.682944e+08       7.771023e+07            5.064012e+08\n",
       "2  A03  SYBR  mCherry  Unkn-05  Well3         Supernatant  23.347337  23.100214     0.257669            15792.372998               4.198447  18570.229188  2988.988325   1.940310e+09        2.281607e+09       3.672382e+08            1.940310e+09\n",
       "3  A04  SYBR  mCherry  Unkn-07  Well4         Supernatant  22.523269  22.424550     0.244022            26344.904307               4.420697  28230.837761  4425.562083   3.236833e+09        3.468546e+09       5.437410e+08            3.236833e+09\n",
       "4  A05  SYBR  mCherry  Unkn-09  Well5         Supernatant  22.080745  21.668722     0.363187            34677.234324               4.540044  45523.140247  9633.591828   4.260574e+09        5.593142e+09       1.183619e+09            4.260574e+09"
      ]
     },
     "execution_count": 14,
     "metadata": {},
     "output_type": "execute_result"
    }
   ],
   "source": [
    "# Get data of replicates of selected wells\n",
    "selector = cq_raw[\"Sample\"].isin(index_ordered)\n",
    "data = cq_raw.loc[selector]\n",
    "\n",
    "print(data.shape)\n",
    "data.head()"
   ]
  },
  {
   "cell_type": "code",
   "execution_count": 15,
   "metadata": {
    "Collapsed": "false"
   },
   "outputs": [
    {
     "name": "stderr",
     "output_type": "stream",
     "text": [
      "/scratch/resources/anaconda3/envs/RNA_export_magic/lib/python3.7/site-packages/ipykernel_launcher.py:21: SettingWithCopyWarning: \n",
      "A value is trying to be set on a copy of a slice from a DataFrame.\n",
      "Try using .loc[row_indexer,col_indexer] = value instead\n",
      "\n",
      "See the caveats in the documentation: https://pandas.pydata.org/pandas-docs/stable/user_guide/indexing.html#returning-a-view-versus-a-copy\n",
      "findfont: Font family ['cursive'] not found. Falling back to DejaVu Sans.\n"
     ]
    },
    {
     "data": {
      "image/png": "[encoded data removed]",
      "text/plain": [
       "<Figure size 600x225 with 1 Axes>"
      ]
     },
     "metadata": {},
     "output_type": "display_data"
    }
   ],
   "source": [
    "# Make simple swarm plot\n",
    "\n",
    "field = \"RNA molecules censored\"\n",
    "\n",
    "fig, ax = plt.subplots(1, 1, figsize=(2,0.75))\n",
    "\n",
    "# Set axis scaling - must be done first so swarm plot dots do not overlap\n",
    "ax.set_yscale(\"log\")\n",
    "ax.set_ylim(1e6, 1e10)\n",
    "\n",
    "# Plot summary\n",
    "\n",
    "y = summary_subset[field]\n",
    "x = np.arange(len(y))\n",
    "\n",
    "sns.scatterplot(ax=ax, x=x, y=y, marker=\"_\", s=150, color=\"r\")\n",
    "\n",
    "# Plot individual points as swarm (sort columns appropriately)\n",
    "\n",
    "sample_to_rank = dict(zip(index_ordered, range(len(index_ordered))))\n",
    "data[\"rank\"] = [sample_to_rank[s] for s in data[\"Sample\"]]\n",
    "data = data.sort_values(by=\"rank\")\n",
    "\n",
    "y_swarm = data[field]\n",
    "x_swarm = np.array([x[rank] for rank in data[\"rank\"]])\n",
    "\n",
    "x_offset = np.array([-0.15, 0, 0.15])  # jitter offsets to avoid operlaps\n",
    "x_swarm_offset = x_swarm + np.tile(x_offset, int(len(x_swarm)/len(x_offset)))\n",
    "\n",
    "ax.scatter(x_swarm_offset, y_swarm, color=\"#252525\", s=2, zorder=10)\n",
    "\n",
    "ax.set_xlim(min(x)-0.5, max(x)+0.5)\n",
    "\n",
    "ax.set_ylabel(\"Reporter RNA\\nmolecules in\\nsupernatant\", labelpad=2)\n",
    "\n",
    "locmaj = mpl.ticker.LogLocator(base=10,numticks=12) \n",
    "ax.yaxis.set_major_locator(locmaj)\n",
    "\n",
    "locmin = mpl.ticker.LogLocator(base=10.0,subs=(0.2,0.4,0.6,0.8),numticks=12)\n",
    "ax.yaxis.set_minor_locator(locmin)\n",
    "ax.yaxis.set_minor_formatter(mpl.ticker.NullFormatter())\n",
    "\n",
    "ax.set_xticks([0, 1, 2, 3, 4, 5])\n",
    "xticklabels = [\"No tag\", 2, 4, 6, 8, 12]\n",
    "ax.set_xticklabels(xticklabels)\n",
    "\n",
    "ax.set_xlabel(\"Export tag copy number\\n(Tandem repeats of MS2 aptamer)\")\n",
    "\n",
    "# Draw line indicating limit of detection\n",
    "ax.axhline(LOD, ls=\"--\", color=\"k\", lw=1)\n",
    "\n",
    "sns.despine()\n",
    "\n",
    "save_figure(fig, \"line_swarm_MS2_copy_number\")"
   ]
  },
  {
   "cell_type": "markdown",
   "metadata": {
    "Collapsed": "false"
   },
   "source": [
    "# Report values"
   ]
  },
  {
   "cell_type": "code",
   "execution_count": 16,
   "metadata": {
    "Collapsed": "false"
   },
   "outputs": [
    {
     "name": "stdout",
     "output_type": "stream",
     "text": [
      "Sample\n",
      "Well1    2.963207e+06\n",
      "Well2    5.682944e+08\n",
      "Well3    2.281607e+09\n",
      "Well4    3.468546e+09\n",
      "Well5    5.593142e+09\n",
      "Well6    5.358677e+09\n",
      "Name: RNA molecules, dtype: float64\n"
     ]
    }
   ],
   "source": [
    "# Absolute number of molecules\n",
    "print(summary_subset[\"RNA molecules\"])"
   ]
  },
  {
   "cell_type": "code",
   "execution_count": 17,
   "metadata": {
    "Collapsed": "false"
   },
   "outputs": [
    {
     "name": "stdout",
     "output_type": "stream",
     "text": [
      "Sample\n",
      "Well1    0.000530\n",
      "Well2    0.101606\n",
      "Well3    0.407929\n",
      "Well4    0.620143\n",
      "Well5    1.000000\n",
      "Well6    0.958080\n",
      "Name: RNA molecules, dtype: float64\n"
     ]
    }
   ],
   "source": [
    "# Report relative rates\n",
    "print(summary_subset[\"RNA molecules\"]/summary_subset[\"RNA molecules\"].loc[\"Well5\"])"
   ]
  },
  {
   "cell_type": "code",
   "execution_count": null,
   "metadata": {
    "Collapsed": "false"
   },
   "outputs": [],
   "source": []
  }
 ],
 "metadata": {
  "kernelspec": {
   "display_name": "RNA_export_magic",
   "language": "python",
   "name": "rna_export_magic"
  },
  "language_info": {
   "codemirror_mode": {
    "name": "ipython",
    "version": 3
   },
   "file_extension": ".py",
   "mimetype": "text/x-python",
   "name": "python",
   "nbconvert_exporter": "python",
   "pygments_lexer": "ipython3",
   "version": "3.7.7"
  }
 },
 "nbformat": 4,
 "nbformat_minor": 4
}
