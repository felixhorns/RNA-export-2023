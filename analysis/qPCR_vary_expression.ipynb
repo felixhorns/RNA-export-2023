{
 "cells": [
  {
   "cell_type": "markdown",
   "metadata": {
    "Collapsed": "false"
   },
   "source": [
    "# Plot qPCR of RNA export with varying expression levels of exporter and supernatant"
   ]
  },
  {
   "cell_type": "markdown",
   "metadata": {
    "Collapsed": "false",
    "toc-hr-collapsed": false
   },
   "source": [
    "# Introduction"
   ]
  },
  {
   "cell_type": "markdown",
   "metadata": {
    "Collapsed": "false"
   },
   "source": [
    "## Imports"
   ]
  },
  {
   "cell_type": "code",
   "execution_count": 1,
   "metadata": {
    "Collapsed": "false"
   },
   "outputs": [],
   "source": [
    "import sys\n",
    "import os\n",
    "import time\n",
    "\n",
    "import numpy as np\n",
    "import scipy\n",
    "import pandas as pd\n",
    "\n",
    "%matplotlib inline\n",
    "from matplotlib import pyplot as plt\n",
    "import matplotlib as mpl\n",
    "import seaborn as sns"
   ]
  },
  {
   "cell_type": "markdown",
   "metadata": {
    "Collapsed": "false"
   },
   "source": [
    "## Set output parameters"
   ]
  },
  {
   "cell_type": "code",
   "execution_count": 2,
   "metadata": {
    "Collapsed": "false"
   },
   "outputs": [],
   "source": [
    "# Set pandas display options\n",
    "pd.set_option('display.max_rows', 30)\n",
    "pd.set_option('display.max_columns', 100)\n",
    "pd.set_option('display.width', 1000)\n",
    "\n",
    "# Set plot display options\n",
    "FONTSIZE = 8  # universal fontsize\n",
    "params = {\n",
    "    'font.size': FONTSIZE,\n",
    "    'axes.titlesize': FONTSIZE,\n",
    "    'axes.labelsize': FONTSIZE,\n",
    "    'legend.fontsize': FONTSIZE,\n",
    "    'xtick.labelsize': FONTSIZE,\n",
    "    'ytick.labelsize': FONTSIZE,\n",
    "    'font.family': \"Helvetica\",\n",
    "    'mathtext.fontset': 'custom',\n",
    "    'pdf.fonttype': 42,\n",
    "    'ps.fonttype': 42,\n",
    "    'figure.dpi': 300\n",
    "   }\n",
    "mpl.rcParams.update(params)\n",
    "sns.set_style(\"ticks\", {'axes.grid' : False})\n",
    "\n",
    "# Set plot output options\n",
    "output_dir = \"outs/qPCR_vary_expression\"\n",
    "output_suffix = \"\"\n",
    "output_formats = [\".png\", \".pdf\"]\n",
    "\n",
    "mpl.rc('savefig', dpi=300)\n",
    "\n",
    "# Define convenience function for saving figures\n",
    "\n",
    "savefig = True\n",
    "savefig_args = {\"dpi\": 300, \"bbox_inches\": \"tight\", \"pad_inches\": 0.1}\n",
    "\n",
    "def save_figure(fig, name, output_dir=output_dir, output_suffix=output_suffix, output_formats=output_formats, savefig_args=savefig_args):\n",
    "    if savefig:\n",
    "        for output_format in output_formats:\n",
    "            fig.savefig(output_dir + \"/\" + name + output_suffix + output_format, **savefig_args)\n",
    "    return None"
   ]
  },
  {
   "cell_type": "code",
   "execution_count": 3,
   "metadata": {
    "Collapsed": "false"
   },
   "outputs": [
    {
     "data": {
      "text/plain": [
       "{'font.size': 8.0,\n",
       " 'axes.labelsize': 8.0,\n",
       " 'axes.titlesize': 8.0,\n",
       " 'xtick.labelsize': 8.0,\n",
       " 'ytick.labelsize': 8.0,\n",
       " 'legend.fontsize': 8.0,\n",
       " 'legend.title_fontsize': None,\n",
       " 'axes.linewidth': 0.8,\n",
       " 'grid.linewidth': 0.8,\n",
       " 'lines.linewidth': 1.5,\n",
       " 'lines.markersize': 6.0,\n",
       " 'patch.linewidth': 1.0,\n",
       " 'xtick.major.width': 0.8,\n",
       " 'ytick.major.width': 0.8,\n",
       " 'xtick.minor.width': 0.6,\n",
       " 'ytick.minor.width': 0.6,\n",
       " 'xtick.major.size': 3.5,\n",
       " 'ytick.major.size': 3.5,\n",
       " 'xtick.minor.size': 2.0,\n",
       " 'ytick.minor.size': 2.0}"
      ]
     },
     "execution_count": 3,
     "metadata": {},
     "output_type": "execute_result"
    }
   ],
   "source": [
    "# Report plot parameters\n",
    "sns.plotting_context()"
   ]
  },
  {
   "cell_type": "markdown",
   "metadata": {
    "Collapsed": "false"
   },
   "source": [
    "# Load data"
   ]
  },
  {
   "cell_type": "markdown",
   "metadata": {
    "Collapsed": "false"
   },
   "source": [
    "## Load qPCR data"
   ]
  },
  {
   "cell_type": "code",
   "execution_count": 4,
   "metadata": {
    "Collapsed": "false"
   },
   "outputs": [
    {
     "name": "stdout",
     "output_type": "stream",
     "text": [
      "(26, 13)\n"
     ]
    },
    {
     "data": {
      "text/html": [
       "<div>\n",
       "<style scoped>\n",
       "    .dataframe tbody tr th:only-of-type {\n",
       "        vertical-align: middle;\n",
       "    }\n",
       "\n",
       "    .dataframe tbody tr th {\n",
       "        vertical-align: top;\n",
       "    }\n",
       "\n",
       "    .dataframe thead th {\n",
       "        text-align: right;\n",
       "    }\n",
       "</style>\n",
       "<table border=\"1\" class=\"dataframe\">\n",
       "  <thead>\n",
       "    <tr style=\"text-align: right;\">\n",
       "      <th></th>\n",
       "      <th>Well</th>\n",
       "      <th>Fluor</th>\n",
       "      <th>Target</th>\n",
       "      <th>Content</th>\n",
       "      <th>Sample</th>\n",
       "      <th>Biological Set Name</th>\n",
       "      <th>Cq</th>\n",
       "      <th>Cq Mean</th>\n",
       "      <th>Cq Std. Dev</th>\n",
       "      <th>Starting Quantity (SQ)</th>\n",
       "      <th>Log Starting Quantity</th>\n",
       "      <th>SQ Mean</th>\n",
       "      <th>SQ Std. Dev</th>\n",
       "    </tr>\n",
       "  </thead>\n",
       "  <tbody>\n",
       "    <tr>\n",
       "      <th>0</th>\n",
       "      <td>A09</td>\n",
       "      <td>SYBR</td>\n",
       "      <td>mCherry</td>\n",
       "      <td>Unkn-09</td>\n",
       "      <td>95C-1</td>\n",
       "      <td>NaN</td>\n",
       "      <td>21.400850</td>\n",
       "      <td>21.342406</td>\n",
       "      <td>0.057945</td>\n",
       "      <td>32298.666750</td>\n",
       "      <td>4.509185</td>\n",
       "      <td>33606.843670</td>\n",
       "      <td>1305.257102</td>\n",
       "    </tr>\n",
       "    <tr>\n",
       "      <th>1</th>\n",
       "      <td>A10</td>\n",
       "      <td>SYBR</td>\n",
       "      <td>mCherry</td>\n",
       "      <td>Unkn-10</td>\n",
       "      <td>95C-2</td>\n",
       "      <td>NaN</td>\n",
       "      <td>22.691929</td>\n",
       "      <td>22.897025</td>\n",
       "      <td>0.307961</td>\n",
       "      <td>13586.189060</td>\n",
       "      <td>4.133098</td>\n",
       "      <td>12002.582860</td>\n",
       "      <td>2322.214063</td>\n",
       "    </tr>\n",
       "    <tr>\n",
       "      <th>2</th>\n",
       "      <td>A11</td>\n",
       "      <td>SYBR</td>\n",
       "      <td>mCherry</td>\n",
       "      <td>Unkn-11</td>\n",
       "      <td>95C-3</td>\n",
       "      <td>NaN</td>\n",
       "      <td>23.383437</td>\n",
       "      <td>23.301107</td>\n",
       "      <td>0.079323</td>\n",
       "      <td>8544.043556</td>\n",
       "      <td>3.931663</td>\n",
       "      <td>9037.633991</td>\n",
       "      <td>479.138173</td>\n",
       "    </tr>\n",
       "    <tr>\n",
       "      <th>3</th>\n",
       "      <td>A12</td>\n",
       "      <td>SYBR</td>\n",
       "      <td>mCherry</td>\n",
       "      <td>Unkn-12</td>\n",
       "      <td>95C-4</td>\n",
       "      <td>NaN</td>\n",
       "      <td>22.536347</td>\n",
       "      <td>22.265443</td>\n",
       "      <td>0.291305</td>\n",
       "      <td>15080.585320</td>\n",
       "      <td>4.178418</td>\n",
       "      <td>18319.265510</td>\n",
       "      <td>3626.598129</td>\n",
       "    </tr>\n",
       "    <tr>\n",
       "      <th>4</th>\n",
       "      <td>B09</td>\n",
       "      <td>SYBR</td>\n",
       "      <td>mCherry</td>\n",
       "      <td>Unkn-09</td>\n",
       "      <td>95C-1</td>\n",
       "      <td>NaN</td>\n",
       "      <td>21.284973</td>\n",
       "      <td>21.342406</td>\n",
       "      <td>0.057945</td>\n",
       "      <td>34909.161230</td>\n",
       "      <td>4.542939</td>\n",
       "      <td>33606.843670</td>\n",
       "      <td>1305.257102</td>\n",
       "    </tr>\n",
       "  </tbody>\n",
       "</table>\n",
       "</div>"
      ],
      "text/plain": [
       "  Well Fluor   Target  Content Sample  Biological Set Name         Cq    Cq Mean  Cq Std. Dev  Starting Quantity (SQ)  Log Starting Quantity       SQ Mean  SQ Std. Dev\n",
       "0  A09  SYBR  mCherry  Unkn-09  95C-1                  NaN  21.400850  21.342406     0.057945            32298.666750               4.509185  33606.843670  1305.257102\n",
       "1  A10  SYBR  mCherry  Unkn-10  95C-2                  NaN  22.691929  22.897025     0.307961            13586.189060               4.133098  12002.582860  2322.214063\n",
       "2  A11  SYBR  mCherry  Unkn-11  95C-3                  NaN  23.383437  23.301107     0.079323             8544.043556               3.931663   9037.633991   479.138173\n",
       "3  A12  SYBR  mCherry  Unkn-12  95C-4                  NaN  22.536347  22.265443     0.291305            15080.585320               4.178418  18319.265510  3626.598129\n",
       "4  B09  SYBR  mCherry  Unkn-09  95C-1                  NaN  21.284973  21.342406     0.057945            34909.161230               4.542939  33606.843670  1305.257102"
      ]
     },
     "execution_count": 4,
     "metadata": {},
     "output_type": "execute_result"
    }
   ],
   "source": [
    "infile = \"../preprocessed_data/qPCR_data/qPCR_vary_expression_Cq.csv\"\n",
    "\n",
    "cq_raw = pd.read_csv(infile, header=0)\n",
    "\n",
    "columns_to_drop = [\"Well Note\", \"Set Point\"]\n",
    "cq_raw.drop(columns_to_drop, axis=1, inplace=True)\n",
    "\n",
    "print(cq_raw.shape)\n",
    "cq_raw.head()"
   ]
  },
  {
   "cell_type": "markdown",
   "metadata": {
    "Collapsed": "false"
   },
   "source": [
    "# Preprocess data"
   ]
  },
  {
   "cell_type": "markdown",
   "metadata": {
    "Collapsed": "false"
   },
   "source": [
    "## Calculate total starting molecules"
   ]
  },
  {
   "cell_type": "code",
   "execution_count": 5,
   "metadata": {
    "Collapsed": "false"
   },
   "outputs": [],
   "source": [
    "# Calculate normalization for input volume\n",
    "DILUTION_FACTORS = (300/140) * (42/20) * (61/10) * (20/1)"
   ]
  },
  {
   "cell_type": "code",
   "execution_count": 6,
   "metadata": {
    "Collapsed": "false"
   },
   "outputs": [],
   "source": [
    "# Back-calculate input RNA molecules, given <100% efficiency of extraction, DNase, RT, as measured based on RNA standard\n",
    "\n",
    "PROTOCOL_EFFICIENCY = 0.005957820738  # Efficiency of extraction, DNase, RT"
   ]
  },
  {
   "cell_type": "code",
   "execution_count": 7,
   "metadata": {
    "Collapsed": "false"
   },
   "outputs": [],
   "source": [
    "# Calculate total RNA molecules in supernatant\n",
    "cq_raw[\"RNA molecules\"] = cq_raw[\"Starting Quantity (SQ)\"] * DILUTION_FACTORS * (1/PROTOCOL_EFFICIENCY)\n",
    "cq_raw[\"RNA molecules Mean\"] = cq_raw[\"SQ Mean\"] * DILUTION_FACTORS * (1/PROTOCOL_EFFICIENCY)\n",
    "cq_raw[\"RNA molecules STD\"] = cq_raw[\"SQ Std. Dev\"] * DILUTION_FACTORS * (1/PROTOCOL_EFFICIENCY)"
   ]
  },
  {
   "cell_type": "markdown",
   "metadata": {
    "Collapsed": "false"
   },
   "source": [
    "## Summarize replicates"
   ]
  },
  {
   "cell_type": "code",
   "execution_count": 8,
   "metadata": {
    "Collapsed": "false"
   },
   "outputs": [
    {
     "data": {
      "text/html": [
       "<div>\n",
       "<style scoped>\n",
       "    .dataframe tbody tr th:only-of-type {\n",
       "        vertical-align: middle;\n",
       "    }\n",
       "\n",
       "    .dataframe tbody tr th {\n",
       "        vertical-align: top;\n",
       "    }\n",
       "\n",
       "    .dataframe thead th {\n",
       "        text-align: right;\n",
       "    }\n",
       "</style>\n",
       "<table border=\"1\" class=\"dataframe\">\n",
       "  <thead>\n",
       "    <tr style=\"text-align: right;\">\n",
       "      <th></th>\n",
       "      <th>mean SQ</th>\n",
       "      <th>std SQ</th>\n",
       "      <th>RNA molecules</th>\n",
       "      <th>RNA molecules STD</th>\n",
       "    </tr>\n",
       "    <tr>\n",
       "      <th>Sample</th>\n",
       "      <th></th>\n",
       "      <th></th>\n",
       "      <th></th>\n",
       "      <th></th>\n",
       "    </tr>\n",
       "  </thead>\n",
       "  <tbody>\n",
       "    <tr>\n",
       "      <th>95C-1</th>\n",
       "      <td>33606.843667</td>\n",
       "      <td>1305.257104</td>\n",
       "      <td>3.096796e+09</td>\n",
       "      <td>1.202766e+08</td>\n",
       "    </tr>\n",
       "    <tr>\n",
       "      <th>95C-11a</th>\n",
       "      <td>77.704080</td>\n",
       "      <td>41.305559</td>\n",
       "      <td>7.160259e+06</td>\n",
       "      <td>3.806216e+06</td>\n",
       "    </tr>\n",
       "    <tr>\n",
       "      <th>95C-2</th>\n",
       "      <td>12002.582858</td>\n",
       "      <td>2322.214063</td>\n",
       "      <td>1.106011e+09</td>\n",
       "      <td>2.139869e+08</td>\n",
       "    </tr>\n",
       "    <tr>\n",
       "      <th>95C-3</th>\n",
       "      <td>9037.633991</td>\n",
       "      <td>479.138173</td>\n",
       "      <td>8.327980e+08</td>\n",
       "      <td>4.415152e+07</td>\n",
       "    </tr>\n",
       "    <tr>\n",
       "      <th>95C-4</th>\n",
       "      <td>18319.265517</td>\n",
       "      <td>3626.598127</td>\n",
       "      <td>1.688080e+09</td>\n",
       "      <td>3.341830e+08</td>\n",
       "    </tr>\n",
       "    <tr>\n",
       "      <th>95C-5</th>\n",
       "      <td>10996.634560</td>\n",
       "      <td>1387.879242</td>\n",
       "      <td>1.013316e+09</td>\n",
       "      <td>1.278900e+08</td>\n",
       "    </tr>\n",
       "    <tr>\n",
       "      <th>NTC</th>\n",
       "      <td>14.870735</td>\n",
       "      <td>12.949680</td>\n",
       "      <td>1.370305e+06</td>\n",
       "      <td>1.044124e+06</td>\n",
       "    </tr>\n",
       "  </tbody>\n",
       "</table>\n",
       "</div>"
      ],
      "text/plain": [
       "              mean SQ       std SQ  RNA molecules  RNA molecules STD\n",
       "Sample                                                              \n",
       "95C-1    33606.843667  1305.257104   3.096796e+09       1.202766e+08\n",
       "95C-11a     77.704080    41.305559   7.160259e+06       3.806216e+06\n",
       "95C-2    12002.582858  2322.214063   1.106011e+09       2.139869e+08\n",
       "95C-3     9037.633991   479.138173   8.327980e+08       4.415152e+07\n",
       "95C-4    18319.265517  3626.598127   1.688080e+09       3.341830e+08\n",
       "95C-5    10996.634560  1387.879242   1.013316e+09       1.278900e+08\n",
       "NTC         14.870735    12.949680   1.370305e+06       1.044124e+06"
      ]
     },
     "execution_count": 8,
     "metadata": {},
     "output_type": "execute_result"
    }
   ],
   "source": [
    "groups = cq_raw.groupby([\"Sample\"])  # group samples by origin\n",
    "\n",
    "summary = pd.DataFrame()\n",
    "\n",
    "summary[\"mean SQ\"] = groups[\"Starting Quantity (SQ)\"].mean()  # Calculate mean over replicates\n",
    "summary[\"std SQ\"] = groups[\"Starting Quantity (SQ)\"].std()  # Calculate mean over replicates\n",
    "\n",
    "summary[\"RNA molecules\"] = groups[\"RNA molecules\"].mean()\n",
    "summary[\"RNA molecules STD\"] = groups[\"RNA molecules STD\"].mean()\n",
    "\n",
    "summary"
   ]
  },
  {
   "cell_type": "markdown",
   "metadata": {
    "Collapsed": "false"
   },
   "source": [
    "## Censor by lower limit of quantification"
   ]
  },
  {
   "cell_type": "code",
   "execution_count": 9,
   "metadata": {
    "Collapsed": "false"
   },
   "outputs": [
    {
     "name": "stdout",
     "output_type": "stream",
     "text": [
      "Lower limit of quantification: 2938391.452931963\n"
     ]
    }
   ],
   "source": [
    "# Lower limit of quantification is set based on maximum signal from no template control (NTC) wells.\n",
    "\n",
    "LOD = cq_raw.set_index(\"Sample\").loc[\"NTC\", \"RNA molecules\"].max()\n",
    "\n",
    "print(\"Lower limit of quantification:\", LOD)"
   ]
  },
  {
   "cell_type": "code",
   "execution_count": 10,
   "metadata": {
    "Collapsed": "false"
   },
   "outputs": [],
   "source": [
    "# Substitute LOD for values below LOD\n",
    "\n",
    "cq_raw[\"RNA molecules censored\"] = cq_raw[\"RNA molecules\"]\n",
    "cq_raw.loc[cq_raw[\"RNA molecules\"] < LOD, \"RNA molecules censored\"] = LOD\n",
    "\n",
    "summary[\"RNA molecules censored\"] = summary[\"RNA molecules\"]\n",
    "summary.loc[summary[\"RNA molecules\"] < LOD, \"RNA molecules censored\"] = LOD"
   ]
  },
  {
   "cell_type": "markdown",
   "metadata": {
    "Collapsed": "false"
   },
   "source": [
    "## Calculate relative abundance (compared with appropriate references)"
   ]
  },
  {
   "cell_type": "code",
   "execution_count": 11,
   "metadata": {
    "Collapsed": "false"
   },
   "outputs": [],
   "source": [
    "# Initialize columns\n",
    "\n",
    "summary[\"RNA molecules censored relative to reference\"] = np.nan\n",
    "\n",
    "cq_raw[\"RNA molecules censored relative to reference\"] = np.nan"
   ]
  },
  {
   "cell_type": "code",
   "execution_count": 12,
   "metadata": {
    "Collapsed": "false"
   },
   "outputs": [],
   "source": [
    "# Calculate RNA molecules relative to reference\n",
    "\n",
    "ref = summary.loc[\"95C-1\", \"RNA molecules censored\"]  # set reference value\n",
    "samples = [\"95C-1\", \"95C-2\", \"95C-3\", \"95C-4\", \"95C-5\", \"95C-11a\"]  # samples that use this reference value\n",
    "\n",
    "summary.loc[samples, \"RNA molecules censored relative to reference\"] = summary.loc[samples, \"RNA molecules censored\"] / ref"
   ]
  },
  {
   "cell_type": "code",
   "execution_count": 13,
   "metadata": {
    "Collapsed": "false"
   },
   "outputs": [],
   "source": [
    "# Repeat for raw Cq values\n",
    "\n",
    "cq_raw = cq_raw.set_index(\"Sample\")\n",
    "\n",
    "ref = summary.loc[\"95C-1\", \"RNA molecules censored\"]  # set reference value\n",
    "samples = [\"95C-1\", \"95C-2\", \"95C-3\", \"95C-4\", \"95C-5\", \"95C-11a\"]  # samples that use this reference value\n",
    "\n",
    "cq_raw.loc[samples, \"RNA molecules censored relative to reference\"] = cq_raw.loc[samples, \"RNA molecules censored\"] / ref\n",
    "\n",
    "cq_raw = cq_raw.reset_index()"
   ]
  },
  {
   "cell_type": "code",
   "execution_count": 14,
   "metadata": {
    "Collapsed": "false"
   },
   "outputs": [],
   "source": [
    "# Convert to percentage\n",
    "\n",
    "summary[\"RNA molecules censored relative to reference %\"] = summary[\"RNA molecules censored relative to reference\"] * 100\n",
    "cq_raw[\"RNA molecules censored relative to reference %\"] = cq_raw[\"RNA molecules censored relative to reference\"] * 100"
   ]
  },
  {
   "cell_type": "markdown",
   "metadata": {
    "Collapsed": "false"
   },
   "source": [
    "# Visualize RNA export with varying expression of exporter Gag-MCP"
   ]
  },
  {
   "cell_type": "code",
   "execution_count": 15,
   "metadata": {
    "Collapsed": "false"
   },
   "outputs": [],
   "source": [
    "# Choose samples\n",
    "index_ordered = [\"95C-1\", \"95C-2\", \"95C-3\", \"95C-11a\"]"
   ]
  },
  {
   "cell_type": "code",
   "execution_count": 16,
   "metadata": {
    "Collapsed": "false"
   },
   "outputs": [
    {
     "name": "stdout",
     "output_type": "stream",
     "text": [
      "(4, 7)\n"
     ]
    },
    {
     "data": {
      "text/html": [
       "<div>\n",
       "<style scoped>\n",
       "    .dataframe tbody tr th:only-of-type {\n",
       "        vertical-align: middle;\n",
       "    }\n",
       "\n",
       "    .dataframe tbody tr th {\n",
       "        vertical-align: top;\n",
       "    }\n",
       "\n",
       "    .dataframe thead th {\n",
       "        text-align: right;\n",
       "    }\n",
       "</style>\n",
       "<table border=\"1\" class=\"dataframe\">\n",
       "  <thead>\n",
       "    <tr style=\"text-align: right;\">\n",
       "      <th></th>\n",
       "      <th>mean SQ</th>\n",
       "      <th>std SQ</th>\n",
       "      <th>RNA molecules</th>\n",
       "      <th>RNA molecules STD</th>\n",
       "      <th>RNA molecules censored</th>\n",
       "      <th>RNA molecules censored relative to reference</th>\n",
       "      <th>RNA molecules censored relative to reference %</th>\n",
       "    </tr>\n",
       "    <tr>\n",
       "      <th>Sample</th>\n",
       "      <th></th>\n",
       "      <th></th>\n",
       "      <th></th>\n",
       "      <th></th>\n",
       "      <th></th>\n",
       "      <th></th>\n",
       "      <th></th>\n",
       "    </tr>\n",
       "  </thead>\n",
       "  <tbody>\n",
       "    <tr>\n",
       "      <th>95C-1</th>\n",
       "      <td>33606.843667</td>\n",
       "      <td>1305.257104</td>\n",
       "      <td>3.096796e+09</td>\n",
       "      <td>1.202766e+08</td>\n",
       "      <td>3.096796e+09</td>\n",
       "      <td>1.000000</td>\n",
       "      <td>100.000000</td>\n",
       "    </tr>\n",
       "    <tr>\n",
       "      <th>95C-2</th>\n",
       "      <td>12002.582858</td>\n",
       "      <td>2322.214063</td>\n",
       "      <td>1.106011e+09</td>\n",
       "      <td>2.139869e+08</td>\n",
       "      <td>1.106011e+09</td>\n",
       "      <td>0.357147</td>\n",
       "      <td>35.714698</td>\n",
       "    </tr>\n",
       "    <tr>\n",
       "      <th>95C-3</th>\n",
       "      <td>9037.633991</td>\n",
       "      <td>479.138173</td>\n",
       "      <td>8.327980e+08</td>\n",
       "      <td>4.415152e+07</td>\n",
       "      <td>8.327980e+08</td>\n",
       "      <td>0.268922</td>\n",
       "      <td>26.892243</td>\n",
       "    </tr>\n",
       "    <tr>\n",
       "      <th>95C-11a</th>\n",
       "      <td>77.704080</td>\n",
       "      <td>41.305559</td>\n",
       "      <td>7.160259e+06</td>\n",
       "      <td>3.806216e+06</td>\n",
       "      <td>7.160259e+06</td>\n",
       "      <td>0.002312</td>\n",
       "      <td>0.231215</td>\n",
       "    </tr>\n",
       "  </tbody>\n",
       "</table>\n",
       "</div>"
      ],
      "text/plain": [
       "              mean SQ       std SQ  RNA molecules  RNA molecules STD  RNA molecules censored  RNA molecules censored relative to reference  RNA molecules censored relative to reference %\n",
       "Sample                                                                                                                                                                                    \n",
       "95C-1    33606.843667  1305.257104   3.096796e+09       1.202766e+08            3.096796e+09                                      1.000000                                      100.000000\n",
       "95C-2    12002.582858  2322.214063   1.106011e+09       2.139869e+08            1.106011e+09                                      0.357147                                       35.714698\n",
       "95C-3     9037.633991   479.138173   8.327980e+08       4.415152e+07            8.327980e+08                                      0.268922                                       26.892243\n",
       "95C-11a     77.704080    41.305559   7.160259e+06       3.806216e+06            7.160259e+06                                      0.002312                                        0.231215"
      ]
     },
     "execution_count": 16,
     "metadata": {},
     "output_type": "execute_result"
    }
   ],
   "source": [
    "# Get data of summary across replicates of selected wells\n",
    "summary_subset = summary.loc[index_ordered]\n",
    "\n",
    "print(summary_subset.shape)\n",
    "summary_subset"
   ]
  },
  {
   "cell_type": "code",
   "execution_count": 17,
   "metadata": {
    "Collapsed": "false"
   },
   "outputs": [
    {
     "name": "stdout",
     "output_type": "stream",
     "text": [
      "(12, 19)\n"
     ]
    },
    {
     "data": {
      "text/html": [
       "<div>\n",
       "<style scoped>\n",
       "    .dataframe tbody tr th:only-of-type {\n",
       "        vertical-align: middle;\n",
       "    }\n",
       "\n",
       "    .dataframe tbody tr th {\n",
       "        vertical-align: top;\n",
       "    }\n",
       "\n",
       "    .dataframe thead th {\n",
       "        text-align: right;\n",
       "    }\n",
       "</style>\n",
       "<table border=\"1\" class=\"dataframe\">\n",
       "  <thead>\n",
       "    <tr style=\"text-align: right;\">\n",
       "      <th></th>\n",
       "      <th>Sample</th>\n",
       "      <th>Well</th>\n",
       "      <th>Fluor</th>\n",
       "      <th>Target</th>\n",
       "      <th>Content</th>\n",
       "      <th>Biological Set Name</th>\n",
       "      <th>Cq</th>\n",
       "      <th>Cq Mean</th>\n",
       "      <th>Cq Std. Dev</th>\n",
       "      <th>Starting Quantity (SQ)</th>\n",
       "      <th>Log Starting Quantity</th>\n",
       "      <th>SQ Mean</th>\n",
       "      <th>SQ Std. Dev</th>\n",
       "      <th>RNA molecules</th>\n",
       "      <th>RNA molecules Mean</th>\n",
       "      <th>RNA molecules STD</th>\n",
       "      <th>RNA molecules censored</th>\n",
       "      <th>RNA molecules censored relative to reference</th>\n",
       "      <th>RNA molecules censored relative to reference %</th>\n",
       "    </tr>\n",
       "  </thead>\n",
       "  <tbody>\n",
       "    <tr>\n",
       "      <th>0</th>\n",
       "      <td>95C-1</td>\n",
       "      <td>A09</td>\n",
       "      <td>SYBR</td>\n",
       "      <td>mCherry</td>\n",
       "      <td>Unkn-09</td>\n",
       "      <td>NaN</td>\n",
       "      <td>21.400850</td>\n",
       "      <td>21.342406</td>\n",
       "      <td>0.057945</td>\n",
       "      <td>32298.666750</td>\n",
       "      <td>4.509185</td>\n",
       "      <td>33606.843670</td>\n",
       "      <td>1305.257102</td>\n",
       "      <td>2.976251e+09</td>\n",
       "      <td>3.096796e+09</td>\n",
       "      <td>1.202766e+08</td>\n",
       "      <td>2.976251e+09</td>\n",
       "      <td>0.961074</td>\n",
       "      <td>96.107409</td>\n",
       "    </tr>\n",
       "    <tr>\n",
       "      <th>1</th>\n",
       "      <td>95C-2</td>\n",
       "      <td>A10</td>\n",
       "      <td>SYBR</td>\n",
       "      <td>mCherry</td>\n",
       "      <td>Unkn-10</td>\n",
       "      <td>NaN</td>\n",
       "      <td>22.691929</td>\n",
       "      <td>22.897025</td>\n",
       "      <td>0.307961</td>\n",
       "      <td>13586.189060</td>\n",
       "      <td>4.133098</td>\n",
       "      <td>12002.582860</td>\n",
       "      <td>2322.214063</td>\n",
       "      <td>1.251937e+09</td>\n",
       "      <td>1.106011e+09</td>\n",
       "      <td>2.139869e+08</td>\n",
       "      <td>1.251937e+09</td>\n",
       "      <td>0.404269</td>\n",
       "      <td>40.426852</td>\n",
       "    </tr>\n",
       "    <tr>\n",
       "      <th>2</th>\n",
       "      <td>95C-3</td>\n",
       "      <td>A11</td>\n",
       "      <td>SYBR</td>\n",
       "      <td>mCherry</td>\n",
       "      <td>Unkn-11</td>\n",
       "      <td>NaN</td>\n",
       "      <td>23.383437</td>\n",
       "      <td>23.301107</td>\n",
       "      <td>0.079323</td>\n",
       "      <td>8544.043556</td>\n",
       "      <td>3.931663</td>\n",
       "      <td>9037.633991</td>\n",
       "      <td>479.138173</td>\n",
       "      <td>7.873147e+08</td>\n",
       "      <td>8.327980e+08</td>\n",
       "      <td>4.415152e+07</td>\n",
       "      <td>7.873147e+08</td>\n",
       "      <td>0.254235</td>\n",
       "      <td>25.423523</td>\n",
       "    </tr>\n",
       "    <tr>\n",
       "      <th>4</th>\n",
       "      <td>95C-1</td>\n",
       "      <td>B09</td>\n",
       "      <td>SYBR</td>\n",
       "      <td>mCherry</td>\n",
       "      <td>Unkn-09</td>\n",
       "      <td>NaN</td>\n",
       "      <td>21.284973</td>\n",
       "      <td>21.342406</td>\n",
       "      <td>0.057945</td>\n",
       "      <td>34909.161230</td>\n",
       "      <td>4.542939</td>\n",
       "      <td>33606.843670</td>\n",
       "      <td>1305.257102</td>\n",
       "      <td>3.216802e+09</td>\n",
       "      <td>3.096796e+09</td>\n",
       "      <td>1.202766e+08</td>\n",
       "      <td>3.216802e+09</td>\n",
       "      <td>1.038752</td>\n",
       "      <td>103.875156</td>\n",
       "    </tr>\n",
       "    <tr>\n",
       "      <th>5</th>\n",
       "      <td>95C-2</td>\n",
       "      <td>B10</td>\n",
       "      <td>SYBR</td>\n",
       "      <td>mCherry</td>\n",
       "      <td>Unkn-10</td>\n",
       "      <td>NaN</td>\n",
       "      <td>23.251152</td>\n",
       "      <td>22.897025</td>\n",
       "      <td>0.307961</td>\n",
       "      <td>9336.794244</td>\n",
       "      <td>3.970198</td>\n",
       "      <td>12002.582860</td>\n",
       "      <td>2322.214063</td>\n",
       "      <td>8.603649e+08</td>\n",
       "      <td>1.106011e+09</td>\n",
       "      <td>2.139869e+08</td>\n",
       "      <td>8.603649e+08</td>\n",
       "      <td>0.277824</td>\n",
       "      <td>27.782419</td>\n",
       "    </tr>\n",
       "  </tbody>\n",
       "</table>\n",
       "</div>"
      ],
      "text/plain": [
       "  Sample Well Fluor   Target  Content  Biological Set Name         Cq    Cq Mean  Cq Std. Dev  Starting Quantity (SQ)  Log Starting Quantity       SQ Mean  SQ Std. Dev  RNA molecules  RNA molecules Mean  RNA molecules STD  RNA molecules censored  RNA molecules censored relative to reference  RNA molecules censored relative to reference %\n",
       "0  95C-1  A09  SYBR  mCherry  Unkn-09                  NaN  21.400850  21.342406     0.057945            32298.666750               4.509185  33606.843670  1305.257102   2.976251e+09        3.096796e+09       1.202766e+08            2.976251e+09                                      0.961074                                       96.107409\n",
       "1  95C-2  A10  SYBR  mCherry  Unkn-10                  NaN  22.691929  22.897025     0.307961            13586.189060               4.133098  12002.582860  2322.214063   1.251937e+09        1.106011e+09       2.139869e+08            1.251937e+09                                      0.404269                                       40.426852\n",
       "2  95C-3  A11  SYBR  mCherry  Unkn-11                  NaN  23.383437  23.301107     0.079323             8544.043556               3.931663   9037.633991   479.138173   7.873147e+08        8.327980e+08       4.415152e+07            7.873147e+08                                      0.254235                                       25.423523\n",
       "4  95C-1  B09  SYBR  mCherry  Unkn-09                  NaN  21.284973  21.342406     0.057945            34909.161230               4.542939  33606.843670  1305.257102   3.216802e+09        3.096796e+09       1.202766e+08            3.216802e+09                                      1.038752                                      103.875156\n",
       "5  95C-2  B10  SYBR  mCherry  Unkn-10                  NaN  23.251152  22.897025     0.307961             9336.794244               3.970198  12002.582860  2322.214063   8.603649e+08        1.106011e+09       2.139869e+08            8.603649e+08                                      0.277824                                       27.782419"
      ]
     },
     "execution_count": 17,
     "metadata": {},
     "output_type": "execute_result"
    }
   ],
   "source": [
    "# Get data of replicates of selected wells\n",
    "selector = cq_raw[\"Sample\"].isin(index_ordered)\n",
    "data = cq_raw.loc[selector]\n",
    "\n",
    "print(data.shape)\n",
    "data.head()"
   ]
  },
  {
   "cell_type": "code",
   "execution_count": 18,
   "metadata": {
    "Collapsed": "false"
   },
   "outputs": [
    {
     "name": "stderr",
     "output_type": "stream",
     "text": [
      "/scratch/resources/anaconda3/envs/RNA_export_magic/lib/python3.7/site-packages/ipykernel_launcher.py:20: SettingWithCopyWarning: \n",
      "A value is trying to be set on a copy of a slice from a DataFrame.\n",
      "Try using .loc[row_indexer,col_indexer] = value instead\n",
      "\n",
      "See the caveats in the documentation: https://pandas.pydata.org/pandas-docs/stable/user_guide/indexing.html#returning-a-view-versus-a-copy\n"
     ]
    },
    {
     "data": {
      "image/png": "[encoded data removed]",
      "text/plain": [
       "<Figure size 420x225 with 1 Axes>"
      ]
     },
     "metadata": {},
     "output_type": "display_data"
    }
   ],
   "source": [
    "# Make simple swarm plot\n",
    "\n",
    "field = \"RNA molecules censored relative to reference %\"\n",
    "\n",
    "fig, ax = plt.subplots(1, 1, figsize=(1.4,0.75))\n",
    "\n",
    "# Set axis scaling - must be done first so swarm plot dots do not overlap\n",
    "ax.set_ylim(0, 110)\n",
    "\n",
    "# Plot summary\n",
    "\n",
    "y = summary_subset[field]\n",
    "x = np.arange(len(y))\n",
    "\n",
    "sns.scatterplot(ax=ax, x=x, y=y, marker=\"_\", s=150, color=\"#e082b5\")\n",
    "\n",
    "# Plot individual points as swarm (sort columns appropriately)\n",
    "\n",
    "sample_to_rank = dict(zip(index_ordered, range(len(index_ordered))))\n",
    "data[\"rank\"] = [sample_to_rank[s] for s in data[\"Sample\"]]\n",
    "data = data.sort_values(by=\"rank\")\n",
    "\n",
    "y_swarm = data[field]\n",
    "x_swarm = np.array([x[rank] for rank in data[\"rank\"]])\n",
    "\n",
    "x_offset = np.array([-0.15, 0, 0.15])  # jitter offsets to avoid operlaps\n",
    "x_swarm_offset = x_swarm + np.tile(x_offset, int(len(x_swarm)/len(x_offset)))\n",
    "\n",
    "ax.scatter(x_swarm_offset, y_swarm, color=\"#252525\", s=2, zorder=10)\n",
    "\n",
    "ax.set_xlim(min(x)-0.5, max(x)+0.5)\n",
    "\n",
    "ax.set_ylabel(\"Reporter RNA\\ndetected (%)\", labelpad=2)\n",
    "\n",
    "ax.set_yticks([0, 50, 100])\n",
    "\n",
    "ax.set_xticks([0, 1, 2, 3])\n",
    "xticklabels = [\"1X\", \"0.3X\", \"0.1X\", \"-\"]\n",
    "ax.set_xticklabels(xticklabels)\n",
    "\n",
    "ax.text(-0.75, -22, \"Exporter\", ha=\"right\", va=\"top\", size=FONTSIZE)\n",
    "\n",
    "LOD = summary_subset.loc[\"95C-11a\", field]\n",
    "ax.axhline(LOD, lw=0.5, ls=\"--\", color=\"k\", zorder=-1)\n",
    "\n",
    "ax.set_xlabel(\"\")\n",
    "\n",
    "sns.despine()\n",
    "\n",
    "save_figure(fig, \"vary_exporter_GagMCP\")"
   ]
  },
  {
   "cell_type": "markdown",
   "metadata": {
    "Collapsed": "false"
   },
   "source": [
    "# Visualize RNA export with varying expression of reporter"
   ]
  },
  {
   "cell_type": "code",
   "execution_count": 19,
   "metadata": {
    "Collapsed": "false"
   },
   "outputs": [],
   "source": [
    "# Choose samples\n",
    "index_ordered = [\"95C-1\", \"95C-4\", \"95C-5\", \"95C-11a\"]"
   ]
  },
  {
   "cell_type": "code",
   "execution_count": 20,
   "metadata": {
    "Collapsed": "false"
   },
   "outputs": [
    {
     "name": "stdout",
     "output_type": "stream",
     "text": [
      "(4, 7)\n"
     ]
    },
    {
     "data": {
      "text/html": [
       "<div>\n",
       "<style scoped>\n",
       "    .dataframe tbody tr th:only-of-type {\n",
       "        vertical-align: middle;\n",
       "    }\n",
       "\n",
       "    .dataframe tbody tr th {\n",
       "        vertical-align: top;\n",
       "    }\n",
       "\n",
       "    .dataframe thead th {\n",
       "        text-align: right;\n",
       "    }\n",
       "</style>\n",
       "<table border=\"1\" class=\"dataframe\">\n",
       "  <thead>\n",
       "    <tr style=\"text-align: right;\">\n",
       "      <th></th>\n",
       "      <th>mean SQ</th>\n",
       "      <th>std SQ</th>\n",
       "      <th>RNA molecules</th>\n",
       "      <th>RNA molecules STD</th>\n",
       "      <th>RNA molecules censored</th>\n",
       "      <th>RNA molecules censored relative to reference</th>\n",
       "      <th>RNA molecules censored relative to reference %</th>\n",
       "    </tr>\n",
       "    <tr>\n",
       "      <th>Sample</th>\n",
       "      <th></th>\n",
       "      <th></th>\n",
       "      <th></th>\n",
       "      <th></th>\n",
       "      <th></th>\n",
       "      <th></th>\n",
       "      <th></th>\n",
       "    </tr>\n",
       "  </thead>\n",
       "  <tbody>\n",
       "    <tr>\n",
       "      <th>95C-1</th>\n",
       "      <td>33606.843667</td>\n",
       "      <td>1305.257104</td>\n",
       "      <td>3.096796e+09</td>\n",
       "      <td>1.202766e+08</td>\n",
       "      <td>3.096796e+09</td>\n",
       "      <td>1.000000</td>\n",
       "      <td>100.000000</td>\n",
       "    </tr>\n",
       "    <tr>\n",
       "      <th>95C-4</th>\n",
       "      <td>18319.265517</td>\n",
       "      <td>3626.598127</td>\n",
       "      <td>1.688080e+09</td>\n",
       "      <td>3.341830e+08</td>\n",
       "      <td>1.688080e+09</td>\n",
       "      <td>0.545105</td>\n",
       "      <td>54.510521</td>\n",
       "    </tr>\n",
       "    <tr>\n",
       "      <th>95C-5</th>\n",
       "      <td>10996.634560</td>\n",
       "      <td>1387.879242</td>\n",
       "      <td>1.013316e+09</td>\n",
       "      <td>1.278900e+08</td>\n",
       "      <td>1.013316e+09</td>\n",
       "      <td>0.327214</td>\n",
       "      <td>32.721414</td>\n",
       "    </tr>\n",
       "    <tr>\n",
       "      <th>95C-11a</th>\n",
       "      <td>77.704080</td>\n",
       "      <td>41.305559</td>\n",
       "      <td>7.160259e+06</td>\n",
       "      <td>3.806216e+06</td>\n",
       "      <td>7.160259e+06</td>\n",
       "      <td>0.002312</td>\n",
       "      <td>0.231215</td>\n",
       "    </tr>\n",
       "  </tbody>\n",
       "</table>\n",
       "</div>"
      ],
      "text/plain": [
       "              mean SQ       std SQ  RNA molecules  RNA molecules STD  RNA molecules censored  RNA molecules censored relative to reference  RNA molecules censored relative to reference %\n",
       "Sample                                                                                                                                                                                    \n",
       "95C-1    33606.843667  1305.257104   3.096796e+09       1.202766e+08            3.096796e+09                                      1.000000                                      100.000000\n",
       "95C-4    18319.265517  3626.598127   1.688080e+09       3.341830e+08            1.688080e+09                                      0.545105                                       54.510521\n",
       "95C-5    10996.634560  1387.879242   1.013316e+09       1.278900e+08            1.013316e+09                                      0.327214                                       32.721414\n",
       "95C-11a     77.704080    41.305559   7.160259e+06       3.806216e+06            7.160259e+06                                      0.002312                                        0.231215"
      ]
     },
     "execution_count": 20,
     "metadata": {},
     "output_type": "execute_result"
    }
   ],
   "source": [
    "# Get data of summary across replicates of selected wells\n",
    "summary_subset = summary.loc[index_ordered]\n",
    "\n",
    "print(summary_subset.shape)\n",
    "summary_subset"
   ]
  },
  {
   "cell_type": "code",
   "execution_count": 21,
   "metadata": {
    "Collapsed": "false"
   },
   "outputs": [
    {
     "name": "stdout",
     "output_type": "stream",
     "text": [
      "(12, 19)\n"
     ]
    },
    {
     "data": {
      "text/html": [
       "<div>\n",
       "<style scoped>\n",
       "    .dataframe tbody tr th:only-of-type {\n",
       "        vertical-align: middle;\n",
       "    }\n",
       "\n",
       "    .dataframe tbody tr th {\n",
       "        vertical-align: top;\n",
       "    }\n",
       "\n",
       "    .dataframe thead th {\n",
       "        text-align: right;\n",
       "    }\n",
       "</style>\n",
       "<table border=\"1\" class=\"dataframe\">\n",
       "  <thead>\n",
       "    <tr style=\"text-align: right;\">\n",
       "      <th></th>\n",
       "      <th>Sample</th>\n",
       "      <th>Well</th>\n",
       "      <th>Fluor</th>\n",
       "      <th>Target</th>\n",
       "      <th>Content</th>\n",
       "      <th>Biological Set Name</th>\n",
       "      <th>Cq</th>\n",
       "      <th>Cq Mean</th>\n",
       "      <th>Cq Std. Dev</th>\n",
       "      <th>Starting Quantity (SQ)</th>\n",
       "      <th>Log Starting Quantity</th>\n",
       "      <th>SQ Mean</th>\n",
       "      <th>SQ Std. Dev</th>\n",
       "      <th>RNA molecules</th>\n",
       "      <th>RNA molecules Mean</th>\n",
       "      <th>RNA molecules STD</th>\n",
       "      <th>RNA molecules censored</th>\n",
       "      <th>RNA molecules censored relative to reference</th>\n",
       "      <th>RNA molecules censored relative to reference %</th>\n",
       "    </tr>\n",
       "  </thead>\n",
       "  <tbody>\n",
       "    <tr>\n",
       "      <th>0</th>\n",
       "      <td>95C-1</td>\n",
       "      <td>A09</td>\n",
       "      <td>SYBR</td>\n",
       "      <td>mCherry</td>\n",
       "      <td>Unkn-09</td>\n",
       "      <td>NaN</td>\n",
       "      <td>21.400850</td>\n",
       "      <td>21.342406</td>\n",
       "      <td>0.057945</td>\n",
       "      <td>32298.66675</td>\n",
       "      <td>4.509185</td>\n",
       "      <td>33606.84367</td>\n",
       "      <td>1305.257102</td>\n",
       "      <td>2.976251e+09</td>\n",
       "      <td>3.096796e+09</td>\n",
       "      <td>1.202766e+08</td>\n",
       "      <td>2.976251e+09</td>\n",
       "      <td>0.961074</td>\n",
       "      <td>96.107409</td>\n",
       "    </tr>\n",
       "    <tr>\n",
       "      <th>3</th>\n",
       "      <td>95C-4</td>\n",
       "      <td>A12</td>\n",
       "      <td>SYBR</td>\n",
       "      <td>mCherry</td>\n",
       "      <td>Unkn-12</td>\n",
       "      <td>NaN</td>\n",
       "      <td>22.536347</td>\n",
       "      <td>22.265443</td>\n",
       "      <td>0.291305</td>\n",
       "      <td>15080.58532</td>\n",
       "      <td>4.178418</td>\n",
       "      <td>18319.26551</td>\n",
       "      <td>3626.598129</td>\n",
       "      <td>1.389643e+09</td>\n",
       "      <td>1.688080e+09</td>\n",
       "      <td>3.341830e+08</td>\n",
       "      <td>1.389643e+09</td>\n",
       "      <td>0.448736</td>\n",
       "      <td>44.873555</td>\n",
       "    </tr>\n",
       "    <tr>\n",
       "      <th>4</th>\n",
       "      <td>95C-1</td>\n",
       "      <td>B09</td>\n",
       "      <td>SYBR</td>\n",
       "      <td>mCherry</td>\n",
       "      <td>Unkn-09</td>\n",
       "      <td>NaN</td>\n",
       "      <td>21.284973</td>\n",
       "      <td>21.342406</td>\n",
       "      <td>0.057945</td>\n",
       "      <td>34909.16123</td>\n",
       "      <td>4.542939</td>\n",
       "      <td>33606.84367</td>\n",
       "      <td>1305.257102</td>\n",
       "      <td>3.216802e+09</td>\n",
       "      <td>3.096796e+09</td>\n",
       "      <td>1.202766e+08</td>\n",
       "      <td>3.216802e+09</td>\n",
       "      <td>1.038752</td>\n",
       "      <td>103.875156</td>\n",
       "    </tr>\n",
       "    <tr>\n",
       "      <th>7</th>\n",
       "      <td>95C-4</td>\n",
       "      <td>B12</td>\n",
       "      <td>SYBR</td>\n",
       "      <td>mCherry</td>\n",
       "      <td>Unkn-12</td>\n",
       "      <td>NaN</td>\n",
       "      <td>21.957315</td>\n",
       "      <td>22.265443</td>\n",
       "      <td>0.291305</td>\n",
       "      <td>22237.61125</td>\n",
       "      <td>4.347088</td>\n",
       "      <td>18319.26551</td>\n",
       "      <td>3626.598129</td>\n",
       "      <td>2.049147e+09</td>\n",
       "      <td>1.688080e+09</td>\n",
       "      <td>3.341830e+08</td>\n",
       "      <td>2.049147e+09</td>\n",
       "      <td>0.661699</td>\n",
       "      <td>66.169889</td>\n",
       "    </tr>\n",
       "    <tr>\n",
       "      <th>8</th>\n",
       "      <td>95C-1</td>\n",
       "      <td>C09</td>\n",
       "      <td>SYBR</td>\n",
       "      <td>mCherry</td>\n",
       "      <td>Unkn-09</td>\n",
       "      <td>NaN</td>\n",
       "      <td>21.341396</td>\n",
       "      <td>21.342406</td>\n",
       "      <td>0.057945</td>\n",
       "      <td>33612.70302</td>\n",
       "      <td>4.526503</td>\n",
       "      <td>33606.84367</td>\n",
       "      <td>1305.257102</td>\n",
       "      <td>3.097336e+09</td>\n",
       "      <td>3.096796e+09</td>\n",
       "      <td>1.202766e+08</td>\n",
       "      <td>3.097336e+09</td>\n",
       "      <td>1.000174</td>\n",
       "      <td>100.017435</td>\n",
       "    </tr>\n",
       "  </tbody>\n",
       "</table>\n",
       "</div>"
      ],
      "text/plain": [
       "  Sample Well Fluor   Target  Content  Biological Set Name         Cq    Cq Mean  Cq Std. Dev  Starting Quantity (SQ)  Log Starting Quantity      SQ Mean  SQ Std. Dev  RNA molecules  RNA molecules Mean  RNA molecules STD  RNA molecules censored  RNA molecules censored relative to reference  RNA molecules censored relative to reference %\n",
       "0  95C-1  A09  SYBR  mCherry  Unkn-09                  NaN  21.400850  21.342406     0.057945             32298.66675               4.509185  33606.84367  1305.257102   2.976251e+09        3.096796e+09       1.202766e+08            2.976251e+09                                      0.961074                                       96.107409\n",
       "3  95C-4  A12  SYBR  mCherry  Unkn-12                  NaN  22.536347  22.265443     0.291305             15080.58532               4.178418  18319.26551  3626.598129   1.389643e+09        1.688080e+09       3.341830e+08            1.389643e+09                                      0.448736                                       44.873555\n",
       "4  95C-1  B09  SYBR  mCherry  Unkn-09                  NaN  21.284973  21.342406     0.057945             34909.16123               4.542939  33606.84367  1305.257102   3.216802e+09        3.096796e+09       1.202766e+08            3.216802e+09                                      1.038752                                      103.875156\n",
       "7  95C-4  B12  SYBR  mCherry  Unkn-12                  NaN  21.957315  22.265443     0.291305             22237.61125               4.347088  18319.26551  3626.598129   2.049147e+09        1.688080e+09       3.341830e+08            2.049147e+09                                      0.661699                                       66.169889\n",
       "8  95C-1  C09  SYBR  mCherry  Unkn-09                  NaN  21.341396  21.342406     0.057945             33612.70302               4.526503  33606.84367  1305.257102   3.097336e+09        3.096796e+09       1.202766e+08            3.097336e+09                                      1.000174                                      100.017435"
      ]
     },
     "execution_count": 21,
     "metadata": {},
     "output_type": "execute_result"
    }
   ],
   "source": [
    "# Get data of replicates of selected wells\n",
    "selector = cq_raw[\"Sample\"].isin(index_ordered)\n",
    "data = cq_raw.loc[selector]\n",
    "\n",
    "print(data.shape)\n",
    "data.head()"
   ]
  },
  {
   "cell_type": "code",
   "execution_count": 22,
   "metadata": {
    "Collapsed": "false"
   },
   "outputs": [
    {
     "name": "stderr",
     "output_type": "stream",
     "text": [
      "/scratch/resources/anaconda3/envs/RNA_export_magic/lib/python3.7/site-packages/ipykernel_launcher.py:20: SettingWithCopyWarning: \n",
      "A value is trying to be set on a copy of a slice from a DataFrame.\n",
      "Try using .loc[row_indexer,col_indexer] = value instead\n",
      "\n",
      "See the caveats in the documentation: https://pandas.pydata.org/pandas-docs/stable/user_guide/indexing.html#returning-a-view-versus-a-copy\n"
     ]
    },
    {
     "data": {
      "image/png": "[encoded data removed]",
      "text/plain": [
       "<Figure size 420x225 with 1 Axes>"
      ]
     },
     "metadata": {},
     "output_type": "display_data"
    }
   ],
   "source": [
    "# Make simple swarm plot\n",
    "\n",
    "field = \"RNA molecules censored relative to reference %\"\n",
    "\n",
    "fig, ax = plt.subplots(1, 1, figsize=(1.4,0.75))\n",
    "\n",
    "# Set axis scaling - must be done first so swarm plot dots do not overlap\n",
    "ax.set_ylim(0, 110)\n",
    "\n",
    "# Plot summary\n",
    "\n",
    "y = summary_subset[field]\n",
    "x = np.arange(len(y))\n",
    "\n",
    "sns.scatterplot(ax=ax, x=x, y=y, marker=\"_\", s=150, color=\"#e082b5\")\n",
    "\n",
    "# Plot individual points as swarm (sort columns appropriately)\n",
    "\n",
    "sample_to_rank = dict(zip(index_ordered, range(len(index_ordered))))\n",
    "data[\"rank\"] = [sample_to_rank[s] for s in data[\"Sample\"]]\n",
    "data = data.sort_values(by=\"rank\")\n",
    "\n",
    "y_swarm = data[field]\n",
    "x_swarm = np.array([x[rank] for rank in data[\"rank\"]])\n",
    "\n",
    "x_offset = np.array([-0.15, 0, 0.15])  # jitter offsets to avoid operlaps\n",
    "x_swarm_offset = x_swarm + np.tile(x_offset, int(len(x_swarm)/len(x_offset)))\n",
    "\n",
    "ax.scatter(x_swarm_offset, y_swarm, color=\"#252525\", s=2, zorder=10)\n",
    "\n",
    "ax.set_xlim(min(x)-0.5, max(x)+0.5)\n",
    "\n",
    "ax.set_ylabel(\"Reporter RNA\\ndetected (%)\", labelpad=2)\n",
    "\n",
    "ax.set_yticks([0, 50, 100])\n",
    "\n",
    "ax.set_xticks([0, 1, 2, 3])\n",
    "xticklabels = [\"1X\", \"0.3X\", \"0.1X\", \"-\"]\n",
    "ax.set_xticklabels(xticklabels)\n",
    "\n",
    "ax.text(-0.75, -22, \"Reporter\", ha=\"right\", va=\"top\", size=FONTSIZE)\n",
    "\n",
    "LOD = summary_subset.loc[\"95C-11a\", field]\n",
    "ax.axhline(LOD, lw=0.5, ls=\"--\", color=\"k\", zorder=-1)\n",
    "\n",
    "ax.set_xlabel(\"\")\n",
    "\n",
    "sns.despine()\n",
    "\n",
    "save_figure(fig, \"vary_reporter_GagMCP\")"
   ]
  },
  {
   "cell_type": "code",
   "execution_count": null,
   "metadata": {
    "Collapsed": "false"
   },
   "outputs": [],
   "source": []
  }
 ],
 "metadata": {
  "kernelspec": {
   "display_name": "RNA_export_magic",
   "language": "python",
   "name": "rna_export_magic"
  },
  "language_info": {
   "codemirror_mode": {
    "name": "ipython",
    "version": 3
   },
   "file_extension": ".py",
   "mimetype": "text/x-python",
   "name": "python",
   "nbconvert_exporter": "python",
   "pygments_lexer": "ipython3",
   "version": "3.7.7"
  }
 },
 "nbformat": 4,
 "nbformat_minor": 4
}
