{
 "cells": [
  {
   "cell_type": "markdown",
   "metadata": {
    "Collapsed": "false"
   },
   "source": [
    "# Plot flow cytometry of expression dynamics of mCherry after supernatant transfer"
   ]
  },
  {
   "cell_type": "markdown",
   "metadata": {
    "Collapsed": "false",
    "toc-hr-collapsed": false
   },
   "source": [
    "# Introduction"
   ]
  },
  {
   "cell_type": "markdown",
   "metadata": {
    "Collapsed": "false"
   },
   "source": [
    "## Imports"
   ]
  },
  {
   "cell_type": "code",
   "execution_count": 1,
   "metadata": {
    "Collapsed": "false"
   },
   "outputs": [],
   "source": [
    "import sys\n",
    "import os\n",
    "import time\n",
    "\n",
    "import numpy as np\n",
    "import scipy\n",
    "import pandas as pd\n",
    "\n",
    "%matplotlib inline\n",
    "from matplotlib import pyplot as plt\n",
    "import matplotlib as mpl\n",
    "import seaborn as sns"
   ]
  },
  {
   "cell_type": "markdown",
   "metadata": {
    "Collapsed": "false"
   },
   "source": [
    "## Set output parameters"
   ]
  },
  {
   "cell_type": "code",
   "execution_count": 2,
   "metadata": {
    "Collapsed": "false"
   },
   "outputs": [],
   "source": [
    "# Set pandas display options\n",
    "pd.set_option('display.max_rows', 30)\n",
    "pd.set_option('display.max_columns', 100)\n",
    "pd.set_option('display.width', 1000)\n",
    "\n",
    "# Set plot display options\n",
    "FONTSIZE = 8  # universal fontsize\n",
    "params = {\n",
    "    'font.size': FONTSIZE,\n",
    "    'axes.titlesize': FONTSIZE,\n",
    "    'axes.labelsize': FONTSIZE,\n",
    "    'legend.fontsize': FONTSIZE,\n",
    "    'xtick.labelsize': FONTSIZE,\n",
    "    'ytick.labelsize': FONTSIZE,\n",
    "    'font.family': \"Helvetica\",\n",
    "    'mathtext.fontset': 'custom',\n",
    "    'pdf.fonttype': 42,\n",
    "    'ps.fonttype': 42,\n",
    "    'figure.dpi': 300\n",
    "   }\n",
    "mpl.rcParams.update(params)\n",
    "sns.set_style(\"ticks\", {'axes.grid' : False})\n",
    "\n",
    "# Set plot output options\n",
    "output_dir = \"outs/flow_mCherry_dynamics\"\n",
    "output_suffix = \"\"\n",
    "output_formats = [\".png\", \".pdf\"]\n",
    "\n",
    "mpl.rc('savefig', dpi=300)\n",
    "\n",
    "# Define convenience function for saving figures\n",
    "\n",
    "savefig = True\n",
    "savefig_args = {\"dpi\": 300, \"bbox_inches\": \"tight\", \"pad_inches\": 0.1}\n",
    "\n",
    "def save_figure(fig, name, output_dir=output_dir, output_suffix=output_suffix, output_formats=output_formats, savefig_args=savefig_args):\n",
    "    if savefig:\n",
    "        for output_format in output_formats:\n",
    "            fig.savefig(output_dir + \"/\" + name + output_suffix + output_format, **savefig_args)\n",
    "    return None"
   ]
  },
  {
   "cell_type": "code",
   "execution_count": 3,
   "metadata": {
    "Collapsed": "false"
   },
   "outputs": [
    {
     "data": {
      "text/plain": [
       "{'font.size': 8.0,\n",
       " 'axes.labelsize': 8.0,\n",
       " 'axes.titlesize': 8.0,\n",
       " 'xtick.labelsize': 8.0,\n",
       " 'ytick.labelsize': 8.0,\n",
       " 'legend.fontsize': 8.0,\n",
       " 'legend.title_fontsize': None,\n",
       " 'axes.linewidth': 0.8,\n",
       " 'grid.linewidth': 0.8,\n",
       " 'lines.linewidth': 1.5,\n",
       " 'lines.markersize': 6.0,\n",
       " 'patch.linewidth': 1.0,\n",
       " 'xtick.major.width': 0.8,\n",
       " 'ytick.major.width': 0.8,\n",
       " 'xtick.minor.width': 0.6,\n",
       " 'ytick.minor.width': 0.6,\n",
       " 'xtick.major.size': 3.5,\n",
       " 'ytick.major.size': 3.5,\n",
       " 'xtick.minor.size': 2.0,\n",
       " 'ytick.minor.size': 2.0}"
      ]
     },
     "execution_count": 3,
     "metadata": {},
     "output_type": "execute_result"
    }
   ],
   "source": [
    "# Report plot parameters\n",
    "sns.plotting_context()"
   ]
  },
  {
   "cell_type": "markdown",
   "metadata": {
    "Collapsed": "false"
   },
   "source": [
    "# Load data"
   ]
  },
  {
   "cell_type": "markdown",
   "metadata": {
    "Collapsed": "false"
   },
   "source": [
    "## Summary of replicates"
   ]
  },
  {
   "cell_type": "code",
   "execution_count": 4,
   "metadata": {
    "Collapsed": "false"
   },
   "outputs": [
    {
     "name": "stdout",
     "output_type": "stream",
     "text": [
      "(63, 6)\n"
     ]
    },
    {
     "data": {
      "text/html": [
       "<div>\n",
       "<style scoped>\n",
       "    .dataframe tbody tr th:only-of-type {\n",
       "        vertical-align: middle;\n",
       "    }\n",
       "\n",
       "    .dataframe tbody tr th {\n",
       "        vertical-align: top;\n",
       "    }\n",
       "\n",
       "    .dataframe thead th {\n",
       "        text-align: right;\n",
       "    }\n",
       "</style>\n",
       "<table border=\"1\" class=\"dataframe\">\n",
       "  <thead>\n",
       "    <tr style=\"text-align: right;\">\n",
       "      <th></th>\n",
       "      <th>Well</th>\n",
       "      <th>Condition</th>\n",
       "      <th>Replicate</th>\n",
       "      <th>Time</th>\n",
       "      <th>Singlets</th>\n",
       "      <th>mCherry</th>\n",
       "    </tr>\n",
       "    <tr>\n",
       "      <th>id</th>\n",
       "      <th></th>\n",
       "      <th></th>\n",
       "      <th></th>\n",
       "      <th></th>\n",
       "      <th></th>\n",
       "      <th></th>\n",
       "    </tr>\n",
       "  </thead>\n",
       "  <tbody>\n",
       "    <tr>\n",
       "      <th>1</th>\n",
       "      <td>A1</td>\n",
       "      <td>exporter</td>\n",
       "      <td>1</td>\n",
       "      <td>0</td>\n",
       "      <td>10824</td>\n",
       "      <td>2</td>\n",
       "    </tr>\n",
       "    <tr>\n",
       "      <th>2</th>\n",
       "      <td>A2</td>\n",
       "      <td>exporter</td>\n",
       "      <td>2</td>\n",
       "      <td>0</td>\n",
       "      <td>10816</td>\n",
       "      <td>3</td>\n",
       "    </tr>\n",
       "    <tr>\n",
       "      <th>3</th>\n",
       "      <td>A3</td>\n",
       "      <td>exporter</td>\n",
       "      <td>3</td>\n",
       "      <td>0</td>\n",
       "      <td>10446</td>\n",
       "      <td>2</td>\n",
       "    </tr>\n",
       "    <tr>\n",
       "      <th>4</th>\n",
       "      <td>A4</td>\n",
       "      <td>no_exporter</td>\n",
       "      <td>1</td>\n",
       "      <td>0</td>\n",
       "      <td>10814</td>\n",
       "      <td>2</td>\n",
       "    </tr>\n",
       "    <tr>\n",
       "      <th>5</th>\n",
       "      <td>A5</td>\n",
       "      <td>no_exporter</td>\n",
       "      <td>2</td>\n",
       "      <td>0</td>\n",
       "      <td>10427</td>\n",
       "      <td>3</td>\n",
       "    </tr>\n",
       "  </tbody>\n",
       "</table>\n",
       "</div>"
      ],
      "text/plain": [
       "   Well    Condition  Replicate  Time  Singlets  mCherry\n",
       "id                                                      \n",
       "1    A1     exporter          1     0     10824        2\n",
       "2    A2     exporter          2     0     10816        3\n",
       "3    A3     exporter          3     0     10446        2\n",
       "4    A4  no_exporter          1     0     10814        2\n",
       "5    A5  no_exporter          2     0     10427        3"
      ]
     },
     "execution_count": 4,
     "metadata": {},
     "output_type": "execute_result"
    }
   ],
   "source": [
    "infile = \"../preprocessed_data/flow_data/flow_mCherry_dynamics_summary.csv\"\n",
    "\n",
    "summary_raw = pd.read_csv(infile, index_col=\"id\")\n",
    "\n",
    "# Set time as numeric\n",
    "summary_raw[\"Time\"] = pd.to_numeric(summary_raw[\"Time\"])\n",
    "\n",
    "print(summary_raw.shape)\n",
    "summary_raw.head()"
   ]
  },
  {
   "cell_type": "markdown",
   "metadata": {
    "Collapsed": "false"
   },
   "source": [
    "## Full distribution of events from individual replicates"
   ]
  },
  {
   "cell_type": "code",
   "execution_count": 5,
   "metadata": {
    "Collapsed": "false"
   },
   "outputs": [],
   "source": [
    "# Set input files\n",
    "samples_infiles = {\"Exporter_0h\": \"../preprocessed_data/flow_data/flow_mCherry_dynamics_exporter_0h.csv\",\n",
    "                   \"Exporter_3h\": \"../preprocessed_data/flow_data/flow_mCherry_dynamics_exporter_3h.csv\",\n",
    "                   \"Exporter_6h\": \"../preprocessed_data/flow_data/flow_mCherry_dynamics_exporter_6h.csv\",\n",
    "                   \"Exporter_12h\": \"../preprocessed_data/flow_data/flow_mCherry_dynamics_exporter_12h.csv\",\n",
    "                   \"Exporter_24h\": \"../preprocessed_data/flow_data/flow_mCherry_dynamics_exporter_24h.csv\",\n",
    "                   \"Exporter_32h\": \"../preprocessed_data/flow_data/flow_mCherry_dynamics_exporter_32h.csv\",\n",
    "                   \"Exporter_48h\": \"../preprocessed_data/flow_data/flow_mCherry_dynamics_exporter_48h.csv\",}"
   ]
  },
  {
   "cell_type": "code",
   "execution_count": 6,
   "metadata": {
    "Collapsed": "false"
   },
   "outputs": [
    {
     "name": "stdout",
     "output_type": "stream",
     "text": [
      "Sample: Exporter_0h -- Loaded 10824 events\n",
      "Sample: Exporter_3h -- Loaded 11377 events\n",
      "Sample: Exporter_6h -- Loaded 10940 events\n",
      "Sample: Exporter_12h -- Loaded 9806 events\n",
      "Sample: Exporter_24h -- Loaded 10062 events\n",
      "Sample: Exporter_32h -- Loaded 11409 events\n",
      "Sample: Exporter_48h -- Loaded 10027 events\n",
      "(74445, 7)\n"
     ]
    },
    {
     "data": {
      "text/html": [
       "<div>\n",
       "<style scoped>\n",
       "    .dataframe tbody tr th:only-of-type {\n",
       "        vertical-align: middle;\n",
       "    }\n",
       "\n",
       "    .dataframe tbody tr th {\n",
       "        vertical-align: top;\n",
       "    }\n",
       "\n",
       "    .dataframe thead th {\n",
       "        text-align: right;\n",
       "    }\n",
       "</style>\n",
       "<table border=\"1\" class=\"dataframe\">\n",
       "  <thead>\n",
       "    <tr style=\"text-align: right;\">\n",
       "      <th></th>\n",
       "      <th>FSC-A</th>\n",
       "      <th>FSC-H</th>\n",
       "      <th>FSC-Width</th>\n",
       "      <th>SSC-A</th>\n",
       "      <th>SSC-H</th>\n",
       "      <th>mCherry-A</th>\n",
       "      <th>Sample</th>\n",
       "    </tr>\n",
       "  </thead>\n",
       "  <tbody>\n",
       "    <tr>\n",
       "      <th>0</th>\n",
       "      <td>167972</td>\n",
       "      <td>221525</td>\n",
       "      <td>776.469</td>\n",
       "      <td>254550</td>\n",
       "      <td>169722.0</td>\n",
       "      <td>197.534</td>\n",
       "      <td>Exporter_0h</td>\n",
       "    </tr>\n",
       "    <tr>\n",
       "      <th>1</th>\n",
       "      <td>401243</td>\n",
       "      <td>280900</td>\n",
       "      <td>1462.720</td>\n",
       "      <td>341658</td>\n",
       "      <td>202105.0</td>\n",
       "      <td>524.243</td>\n",
       "      <td>Exporter_0h</td>\n",
       "    </tr>\n",
       "    <tr>\n",
       "      <th>2</th>\n",
       "      <td>199384</td>\n",
       "      <td>196776</td>\n",
       "      <td>1037.610</td>\n",
       "      <td>280839</td>\n",
       "      <td>172322.0</td>\n",
       "      <td>434.668</td>\n",
       "      <td>Exporter_0h</td>\n",
       "    </tr>\n",
       "    <tr>\n",
       "      <th>3</th>\n",
       "      <td>335471</td>\n",
       "      <td>249386</td>\n",
       "      <td>1377.480</td>\n",
       "      <td>278132</td>\n",
       "      <td>172454.0</td>\n",
       "      <td>121.847</td>\n",
       "      <td>Exporter_0h</td>\n",
       "    </tr>\n",
       "    <tr>\n",
       "      <th>4</th>\n",
       "      <td>336835</td>\n",
       "      <td>276320</td>\n",
       "      <td>1248.300</td>\n",
       "      <td>272032</td>\n",
       "      <td>172012.0</td>\n",
       "      <td>192.129</td>\n",
       "      <td>Exporter_0h</td>\n",
       "    </tr>\n",
       "  </tbody>\n",
       "</table>\n",
       "</div>"
      ],
      "text/plain": [
       "    FSC-A   FSC-H  FSC-Width   SSC-A     SSC-H  mCherry-A       Sample\n",
       "0  167972  221525    776.469  254550  169722.0    197.534  Exporter_0h\n",
       "1  401243  280900   1462.720  341658  202105.0    524.243  Exporter_0h\n",
       "2  199384  196776   1037.610  280839  172322.0    434.668  Exporter_0h\n",
       "3  335471  249386   1377.480  278132  172454.0    121.847  Exporter_0h\n",
       "4  336835  276320   1248.300  272032  172012.0    192.129  Exporter_0h"
      ]
     },
     "execution_count": 6,
     "metadata": {},
     "output_type": "execute_result"
    }
   ],
   "source": [
    "# Load events and concatenate into one dataframe\n",
    "\n",
    "dfs_temp = []\n",
    "\n",
    "for sample, infile in samples_infiles.items():\n",
    "    \n",
    "    df_temp = pd.read_csv(infile, index_col=None)\n",
    "    df_temp[\"Sample\"] = sample\n",
    "    \n",
    "    print(\"Sample:\", sample, \"-- Loaded\", df_temp.shape[0], \"events\")\n",
    "    \n",
    "    dfs_temp.append(df_temp)\n",
    "\n",
    "df_raw = pd.concat(dfs_temp)\n",
    "\n",
    "print(df_raw.shape)\n",
    "df_raw.head()"
   ]
  },
  {
   "cell_type": "markdown",
   "metadata": {
    "Collapsed": "false"
   },
   "source": [
    "# Preprocess data"
   ]
  },
  {
   "cell_type": "code",
   "execution_count": 7,
   "metadata": {
    "Collapsed": "false"
   },
   "outputs": [],
   "source": [
    "# Calculate percent mCherry+\n",
    "summary_raw[\"% mCherry+\"] = 100 * summary_raw[\"mCherry\"] / summary_raw[\"Singlets\"]"
   ]
  },
  {
   "cell_type": "code",
   "execution_count": 8,
   "metadata": {
    "Collapsed": "false"
   },
   "outputs": [
    {
     "name": "stdout",
     "output_type": "stream",
     "text": [
      "(21, 7)\n"
     ]
    },
    {
     "data": {
      "text/html": [
       "<div>\n",
       "<style scoped>\n",
       "    .dataframe tbody tr th:only-of-type {\n",
       "        vertical-align: middle;\n",
       "    }\n",
       "\n",
       "    .dataframe tbody tr th {\n",
       "        vertical-align: top;\n",
       "    }\n",
       "\n",
       "    .dataframe thead th {\n",
       "        text-align: right;\n",
       "    }\n",
       "</style>\n",
       "<table border=\"1\" class=\"dataframe\">\n",
       "  <thead>\n",
       "    <tr style=\"text-align: right;\">\n",
       "      <th></th>\n",
       "      <th>Condition</th>\n",
       "      <th>Time</th>\n",
       "      <th>Replicate</th>\n",
       "      <th>Singlets</th>\n",
       "      <th>mCherry</th>\n",
       "      <th>% mCherry+</th>\n",
       "      <th>% mCherry+ STD</th>\n",
       "    </tr>\n",
       "  </thead>\n",
       "  <tbody>\n",
       "    <tr>\n",
       "      <th>0</th>\n",
       "      <td>direct_RNA</td>\n",
       "      <td>0</td>\n",
       "      <td>2.0</td>\n",
       "      <td>10382.000000</td>\n",
       "      <td>2.333333</td>\n",
       "      <td>0.022521</td>\n",
       "      <td>0.011225</td>\n",
       "    </tr>\n",
       "    <tr>\n",
       "      <th>1</th>\n",
       "      <td>direct_RNA</td>\n",
       "      <td>3</td>\n",
       "      <td>2.0</td>\n",
       "      <td>10994.666667</td>\n",
       "      <td>887.333333</td>\n",
       "      <td>8.069080</td>\n",
       "      <td>0.131586</td>\n",
       "    </tr>\n",
       "    <tr>\n",
       "      <th>2</th>\n",
       "      <td>direct_RNA</td>\n",
       "      <td>6</td>\n",
       "      <td>2.0</td>\n",
       "      <td>10821.333333</td>\n",
       "      <td>4004.333333</td>\n",
       "      <td>37.008493</td>\n",
       "      <td>2.060987</td>\n",
       "    </tr>\n",
       "    <tr>\n",
       "      <th>3</th>\n",
       "      <td>direct_RNA</td>\n",
       "      <td>12</td>\n",
       "      <td>2.0</td>\n",
       "      <td>10943.666667</td>\n",
       "      <td>7769.000000</td>\n",
       "      <td>70.987153</td>\n",
       "      <td>7.648444</td>\n",
       "    </tr>\n",
       "    <tr>\n",
       "      <th>4</th>\n",
       "      <td>direct_RNA</td>\n",
       "      <td>24</td>\n",
       "      <td>2.0</td>\n",
       "      <td>11212.666667</td>\n",
       "      <td>10769.000000</td>\n",
       "      <td>96.043353</td>\n",
       "      <td>0.226736</td>\n",
       "    </tr>\n",
       "  </tbody>\n",
       "</table>\n",
       "</div>"
      ],
      "text/plain": [
       "    Condition  Time  Replicate      Singlets       mCherry  % mCherry+  % mCherry+ STD\n",
       "0  direct_RNA     0        2.0  10382.000000      2.333333    0.022521        0.011225\n",
       "1  direct_RNA     3        2.0  10994.666667    887.333333    8.069080        0.131586\n",
       "2  direct_RNA     6        2.0  10821.333333   4004.333333   37.008493        2.060987\n",
       "3  direct_RNA    12        2.0  10943.666667   7769.000000   70.987153        7.648444\n",
       "4  direct_RNA    24        2.0  11212.666667  10769.000000   96.043353        0.226736"
      ]
     },
     "execution_count": 8,
     "metadata": {},
     "output_type": "execute_result"
    }
   ],
   "source": [
    "# Summarize biological replicates\n",
    "summary = summary_raw.groupby([\"Condition\", \"Time\"]).mean()\n",
    "summary[\"% mCherry+ STD\"] = summary_raw.groupby([\"Condition\", \"Time\"]).std()[\"% mCherry+\"]\n",
    "\n",
    "summary = summary.reset_index()\n",
    "\n",
    "print(summary.shape)\n",
    "summary.head()"
   ]
  },
  {
   "cell_type": "code",
   "execution_count": 9,
   "metadata": {
    "Collapsed": "false"
   },
   "outputs": [
    {
     "name": "stderr",
     "output_type": "stream",
     "text": [
      "/scratch/resources/anaconda3/envs/RNA_export_magic/lib/python3.7/site-packages/pandas/core/arraylike.py:364: RuntimeWarning: invalid value encountered in log10\n",
      "  result = getattr(ufunc, method)(*inputs, **kwargs)\n"
     ]
    }
   ],
   "source": [
    "# Log transform\n",
    "df_raw[\"log10 mCherry-A\"] = np.log10(df_raw[\"mCherry-A\"])"
   ]
  },
  {
   "cell_type": "markdown",
   "metadata": {
    "Collapsed": "false"
   },
   "source": [
    "# Plot dynamics of mCherry expression as summary of replicates"
   ]
  },
  {
   "cell_type": "code",
   "execution_count": 10,
   "metadata": {
    "Collapsed": "false"
   },
   "outputs": [],
   "source": [
    "palette = [\"#756bb1\", \"#44adbf\", \"#969696\"]"
   ]
  },
  {
   "cell_type": "code",
   "execution_count": 11,
   "metadata": {
    "Collapsed": "false"
   },
   "outputs": [
    {
     "data": {
      "image/png": "[encoded data removed]",
      "text/plain": [
       "<Figure size 525x450 with 1 Axes>"
      ]
     },
     "metadata": {},
     "output_type": "display_data"
    }
   ],
   "source": [
    "# Plot with error bars\n",
    "\n",
    "fig, ax = plt.subplots(1, 1, figsize=(1.75,1.5))\n",
    "\n",
    "data_subset = summary.loc[summary[\"Condition\"] == \"exporter\"]\n",
    "ax.errorbar(data=data_subset,\n",
    "            x=\"Time\",\n",
    "            y=\"% mCherry+\",\n",
    "            yerr=\"% mCherry+ STD\",\n",
    "            color=\"#e082b5\",\n",
    "            marker=\".\",\n",
    "            markersize=3,\n",
    "            capsize=2,\n",
    "            capthick=0.5,\n",
    "            lw=1,\n",
    "            label=\"Full system\")\n",
    "            \n",
    "\n",
    "data_subset = summary.loc[summary[\"Condition\"] == \"no_exporter\"]\n",
    "ax.errorbar(data=data_subset,\n",
    "            x=\"Time\",\n",
    "            y=\"% mCherry+\",\n",
    "            yerr=\"% mCherry+ STD\",\n",
    "            color=palette[2],\n",
    "            marker=\".\",\n",
    "            markersize=3,\n",
    "            capsize=2,\n",
    "            capthick=0.5,\n",
    "            lw=1,\n",
    "            label=\"No exporter\")\n",
    "\n",
    "\n",
    "ax.set_ylim(-5, 100)\n",
    "\n",
    "ax.set_xlabel(\"Time (h)\")\n",
    "ax.set_ylabel(\"Cargo expressed\\n(mCherry+) (% of cells)\")\n",
    "\n",
    "ax.set_xticks([0, 12, 24, 48])\n",
    "\n",
    "fig.legend(loc=\"center left\", bbox_to_anchor=(0.9, 0.5))\n",
    "\n",
    "sns.despine()\n",
    "\n",
    "save_figure(fig, \"lineplot_errorbar_mCh\")"
   ]
  },
  {
   "cell_type": "markdown",
   "metadata": {
    "Collapsed": "false"
   },
   "source": [
    "# Plot dynamics of mCherry expression as full distribution of mCherry intensity across time"
   ]
  },
  {
   "cell_type": "code",
   "execution_count": 12,
   "metadata": {
    "Collapsed": "false"
   },
   "outputs": [
    {
     "name": "stdout",
     "output_type": "stream",
     "text": [
      "#000004\n",
      "#1d1147\n",
      "#51127c\n",
      "#832681\n",
      "#b73779\n",
      "#e75263\n",
      "#fc8961\n",
      "#fec488\n",
      "#fcfdbf\n"
     ]
    }
   ],
   "source": [
    "# Get magma as a hex color map\n",
    "cmap = mpl.cm.get_cmap('magma', 9)    # PiYG\n",
    "\n",
    "for i in range(cmap.N):\n",
    "    rgba = cmap(i)\n",
    "    # rgb2hex accepts rgb or rgba\n",
    "    print(mpl.colors.rgb2hex(rgba))"
   ]
  },
  {
   "cell_type": "code",
   "execution_count": 13,
   "metadata": {
    "Collapsed": "false"
   },
   "outputs": [],
   "source": [
    "samples = ['Exporter_0h',\n",
    "           'Exporter_3h',\n",
    "           'Exporter_6h',\n",
    "           'Exporter_12h',\n",
    "           'Exporter_24h',\n",
    "           'Exporter_32h',\n",
    "           'Exporter_48h']\n",
    "\n",
    "colors = [\"#000004\", \"#1d1147\", \"#51127c\", \"#832681\", \"#b73779\", \"#e75263\", \"#fc8961\", \"#fec488\", \"#fcfdbf\"]"
   ]
  },
  {
   "cell_type": "code",
   "execution_count": 14,
   "metadata": {
    "Collapsed": "false"
   },
   "outputs": [
    {
     "name": "stderr",
     "output_type": "stream",
     "text": [
      "findfont: Font family ['cursive'] not found. Falling back to DejaVu Sans.\n"
     ]
    },
    {
     "data": {
      "image/png": "[encoded data removed]",
      "text/plain": [
       "<Figure size 300x600 with 7 Axes>"
      ]
     },
     "metadata": {},
     "output_type": "display_data"
    }
   ],
   "source": [
    "\n",
    "fig, axes = plt.subplots(7, 1, figsize=(1,2))\n",
    "\n",
    "for ax in axes:\n",
    "    ax.set_xlim(1,5)\n",
    "    ax.set_ylim(0,2)\n",
    "    ax.set_xlabel(\"\")\n",
    "    ax.set_ylabel(\"\")\n",
    "    \n",
    "for ax, sample, color in zip(axes, samples, colors):\n",
    "\n",
    "    data_subset = df_raw.loc[df_raw[\"Sample\"] == sample]\n",
    "    x = data_subset[\"log10 mCherry-A\"]\n",
    "    sns.kdeplot(ax=ax,\n",
    "                data=data_subset,\n",
    "                x=x,\n",
    "                color=color,\n",
    "                fill=True,\n",
    "                lw=1)\n",
    "\n",
    "    \n",
    "for ax in axes:\n",
    "    ax.set_xlabel(\"\")\n",
    "    ax.set_ylabel(\"\")\n",
    "    ax.set_xticks([])\n",
    "    ax.set_yticks([])\n",
    "    ax.axvline(np.log10(2e3), color=\"k\", lw=0.5, ls=\"--\")\n",
    "    # ax.axvline(1, color=\"k\", lw=1)\n",
    "    ax.axhline(0, color=\"k\", lw=0.5)\n",
    "    sns.despine(left=True, bottom=True)\n",
    "\n",
    "axes[-1].set_xticks([1, 2, 3, 4, 5])\n",
    "axes[-1].set_xticklabels([r\"$10^1$\", r\"$10^2$\", r\"$10^3$\", r\"$10^4$\", r\"$10^5$\"])\n",
    "ax.xaxis.set_tick_params(width=0.5)\n",
    "\n",
    "axes[-1].set_xlabel(\"Cargo expression\\n(mCherry intensity, a.u.)\")\n",
    "axes[3].set_ylabel(\"Density of cells\")\n",
    "\n",
    "fig.subplots_adjust(hspace=0)\n",
    "\n",
    "save_figure(fig, \"ridgeplot_mCh\")"
   ]
  },
  {
   "cell_type": "markdown",
   "metadata": {
    "Collapsed": "false"
   },
   "source": [
    "## Report statistics"
   ]
  },
  {
   "cell_type": "code",
   "execution_count": 15,
   "metadata": {
    "Collapsed": "false"
   },
   "outputs": [
    {
     "data": {
      "text/html": [
       "<div>\n",
       "<style scoped>\n",
       "    .dataframe tbody tr th:only-of-type {\n",
       "        vertical-align: middle;\n",
       "    }\n",
       "\n",
       "    .dataframe tbody tr th {\n",
       "        vertical-align: top;\n",
       "    }\n",
       "\n",
       "    .dataframe thead th {\n",
       "        text-align: right;\n",
       "    }\n",
       "</style>\n",
       "<table border=\"1\" class=\"dataframe\">\n",
       "  <thead>\n",
       "    <tr style=\"text-align: right;\">\n",
       "      <th></th>\n",
       "      <th>Condition</th>\n",
       "      <th>Time</th>\n",
       "      <th>Replicate</th>\n",
       "      <th>Singlets</th>\n",
       "      <th>mCherry</th>\n",
       "      <th>% mCherry+</th>\n",
       "      <th>% mCherry+ STD</th>\n",
       "    </tr>\n",
       "  </thead>\n",
       "  <tbody>\n",
       "    <tr>\n",
       "      <th>0</th>\n",
       "      <td>direct_RNA</td>\n",
       "      <td>0</td>\n",
       "      <td>2.0</td>\n",
       "      <td>10382.000000</td>\n",
       "      <td>2.333333</td>\n",
       "      <td>0.022521</td>\n",
       "      <td>0.011225</td>\n",
       "    </tr>\n",
       "    <tr>\n",
       "      <th>1</th>\n",
       "      <td>direct_RNA</td>\n",
       "      <td>3</td>\n",
       "      <td>2.0</td>\n",
       "      <td>10994.666667</td>\n",
       "      <td>887.333333</td>\n",
       "      <td>8.069080</td>\n",
       "      <td>0.131586</td>\n",
       "    </tr>\n",
       "    <tr>\n",
       "      <th>2</th>\n",
       "      <td>direct_RNA</td>\n",
       "      <td>6</td>\n",
       "      <td>2.0</td>\n",
       "      <td>10821.333333</td>\n",
       "      <td>4004.333333</td>\n",
       "      <td>37.008493</td>\n",
       "      <td>2.060987</td>\n",
       "    </tr>\n",
       "    <tr>\n",
       "      <th>3</th>\n",
       "      <td>direct_RNA</td>\n",
       "      <td>12</td>\n",
       "      <td>2.0</td>\n",
       "      <td>10943.666667</td>\n",
       "      <td>7769.000000</td>\n",
       "      <td>70.987153</td>\n",
       "      <td>7.648444</td>\n",
       "    </tr>\n",
       "    <tr>\n",
       "      <th>4</th>\n",
       "      <td>direct_RNA</td>\n",
       "      <td>24</td>\n",
       "      <td>2.0</td>\n",
       "      <td>11212.666667</td>\n",
       "      <td>10769.000000</td>\n",
       "      <td>96.043353</td>\n",
       "      <td>0.226736</td>\n",
       "    </tr>\n",
       "    <tr>\n",
       "      <th>5</th>\n",
       "      <td>direct_RNA</td>\n",
       "      <td>32</td>\n",
       "      <td>2.0</td>\n",
       "      <td>11596.666667</td>\n",
       "      <td>11314.666667</td>\n",
       "      <td>97.566500</td>\n",
       "      <td>0.383711</td>\n",
       "    </tr>\n",
       "    <tr>\n",
       "      <th>6</th>\n",
       "      <td>direct_RNA</td>\n",
       "      <td>48</td>\n",
       "      <td>2.0</td>\n",
       "      <td>10922.333333</td>\n",
       "      <td>10749.000000</td>\n",
       "      <td>98.413039</td>\n",
       "      <td>0.214672</td>\n",
       "    </tr>\n",
       "    <tr>\n",
       "      <th>7</th>\n",
       "      <td>exporter</td>\n",
       "      <td>0</td>\n",
       "      <td>2.0</td>\n",
       "      <td>10695.333333</td>\n",
       "      <td>2.333333</td>\n",
       "      <td>0.021787</td>\n",
       "      <td>0.005164</td>\n",
       "    </tr>\n",
       "    <tr>\n",
       "      <th>8</th>\n",
       "      <td>exporter</td>\n",
       "      <td>3</td>\n",
       "      <td>2.0</td>\n",
       "      <td>11453.000000</td>\n",
       "      <td>85.666667</td>\n",
       "      <td>0.747785</td>\n",
       "      <td>0.062009</td>\n",
       "    </tr>\n",
       "    <tr>\n",
       "      <th>9</th>\n",
       "      <td>exporter</td>\n",
       "      <td>6</td>\n",
       "      <td>2.0</td>\n",
       "      <td>10980.333333</td>\n",
       "      <td>1919.333333</td>\n",
       "      <td>17.478499</td>\n",
       "      <td>0.385861</td>\n",
       "    </tr>\n",
       "    <tr>\n",
       "      <th>10</th>\n",
       "      <td>exporter</td>\n",
       "      <td>12</td>\n",
       "      <td>2.0</td>\n",
       "      <td>10276.666667</td>\n",
       "      <td>6655.666667</td>\n",
       "      <td>64.751995</td>\n",
       "      <td>0.970410</td>\n",
       "    </tr>\n",
       "    <tr>\n",
       "      <th>11</th>\n",
       "      <td>exporter</td>\n",
       "      <td>24</td>\n",
       "      <td>2.0</td>\n",
       "      <td>10682.666667</td>\n",
       "      <td>9114.000000</td>\n",
       "      <td>85.317285</td>\n",
       "      <td>0.938114</td>\n",
       "    </tr>\n",
       "    <tr>\n",
       "      <th>12</th>\n",
       "      <td>exporter</td>\n",
       "      <td>32</td>\n",
       "      <td>2.0</td>\n",
       "      <td>11010.666667</td>\n",
       "      <td>9966.333333</td>\n",
       "      <td>90.511120</td>\n",
       "      <td>0.509073</td>\n",
       "    </tr>\n",
       "    <tr>\n",
       "      <th>13</th>\n",
       "      <td>exporter</td>\n",
       "      <td>48</td>\n",
       "      <td>2.0</td>\n",
       "      <td>10111.666667</td>\n",
       "      <td>9419.000000</td>\n",
       "      <td>93.143749</td>\n",
       "      <td>1.105668</td>\n",
       "    </tr>\n",
       "    <tr>\n",
       "      <th>14</th>\n",
       "      <td>no_exporter</td>\n",
       "      <td>0</td>\n",
       "      <td>2.0</td>\n",
       "      <td>10547.000000</td>\n",
       "      <td>1.666667</td>\n",
       "      <td>0.015755</td>\n",
       "      <td>0.014580</td>\n",
       "    </tr>\n",
       "    <tr>\n",
       "      <th>15</th>\n",
       "      <td>no_exporter</td>\n",
       "      <td>3</td>\n",
       "      <td>2.0</td>\n",
       "      <td>11354.333333</td>\n",
       "      <td>3.000000</td>\n",
       "      <td>0.026563</td>\n",
       "      <td>0.015496</td>\n",
       "    </tr>\n",
       "    <tr>\n",
       "      <th>16</th>\n",
       "      <td>no_exporter</td>\n",
       "      <td>6</td>\n",
       "      <td>2.0</td>\n",
       "      <td>11126.333333</td>\n",
       "      <td>5.000000</td>\n",
       "      <td>0.044749</td>\n",
       "      <td>0.014520</td>\n",
       "    </tr>\n",
       "    <tr>\n",
       "      <th>17</th>\n",
       "      <td>no_exporter</td>\n",
       "      <td>12</td>\n",
       "      <td>2.0</td>\n",
       "      <td>11002.666667</td>\n",
       "      <td>9.000000</td>\n",
       "      <td>0.081558</td>\n",
       "      <td>0.025609</td>\n",
       "    </tr>\n",
       "    <tr>\n",
       "      <th>18</th>\n",
       "      <td>no_exporter</td>\n",
       "      <td>24</td>\n",
       "      <td>2.0</td>\n",
       "      <td>11179.333333</td>\n",
       "      <td>14.666667</td>\n",
       "      <td>0.131166</td>\n",
       "      <td>0.013257</td>\n",
       "    </tr>\n",
       "    <tr>\n",
       "      <th>19</th>\n",
       "      <td>no_exporter</td>\n",
       "      <td>32</td>\n",
       "      <td>2.0</td>\n",
       "      <td>10609.333333</td>\n",
       "      <td>24.000000</td>\n",
       "      <td>0.225961</td>\n",
       "      <td>0.031212</td>\n",
       "    </tr>\n",
       "    <tr>\n",
       "      <th>20</th>\n",
       "      <td>no_exporter</td>\n",
       "      <td>48</td>\n",
       "      <td>2.0</td>\n",
       "      <td>10056.000000</td>\n",
       "      <td>42.333333</td>\n",
       "      <td>0.420748</td>\n",
       "      <td>0.024581</td>\n",
       "    </tr>\n",
       "  </tbody>\n",
       "</table>\n",
       "</div>"
      ],
      "text/plain": [
       "      Condition  Time  Replicate      Singlets       mCherry  % mCherry+  % mCherry+ STD\n",
       "0    direct_RNA     0        2.0  10382.000000      2.333333    0.022521        0.011225\n",
       "1    direct_RNA     3        2.0  10994.666667    887.333333    8.069080        0.131586\n",
       "2    direct_RNA     6        2.0  10821.333333   4004.333333   37.008493        2.060987\n",
       "3    direct_RNA    12        2.0  10943.666667   7769.000000   70.987153        7.648444\n",
       "4    direct_RNA    24        2.0  11212.666667  10769.000000   96.043353        0.226736\n",
       "5    direct_RNA    32        2.0  11596.666667  11314.666667   97.566500        0.383711\n",
       "6    direct_RNA    48        2.0  10922.333333  10749.000000   98.413039        0.214672\n",
       "7      exporter     0        2.0  10695.333333      2.333333    0.021787        0.005164\n",
       "8      exporter     3        2.0  11453.000000     85.666667    0.747785        0.062009\n",
       "9      exporter     6        2.0  10980.333333   1919.333333   17.478499        0.385861\n",
       "10     exporter    12        2.0  10276.666667   6655.666667   64.751995        0.970410\n",
       "11     exporter    24        2.0  10682.666667   9114.000000   85.317285        0.938114\n",
       "12     exporter    32        2.0  11010.666667   9966.333333   90.511120        0.509073\n",
       "13     exporter    48        2.0  10111.666667   9419.000000   93.143749        1.105668\n",
       "14  no_exporter     0        2.0  10547.000000      1.666667    0.015755        0.014580\n",
       "15  no_exporter     3        2.0  11354.333333      3.000000    0.026563        0.015496\n",
       "16  no_exporter     6        2.0  11126.333333      5.000000    0.044749        0.014520\n",
       "17  no_exporter    12        2.0  11002.666667      9.000000    0.081558        0.025609\n",
       "18  no_exporter    24        2.0  11179.333333     14.666667    0.131166        0.013257\n",
       "19  no_exporter    32        2.0  10609.333333     24.000000    0.225961        0.031212\n",
       "20  no_exporter    48        2.0  10056.000000     42.333333    0.420748        0.024581"
      ]
     },
     "execution_count": 15,
     "metadata": {},
     "output_type": "execute_result"
    }
   ],
   "source": [
    "summary"
   ]
  },
  {
   "cell_type": "code",
   "execution_count": null,
   "metadata": {
    "Collapsed": "false"
   },
   "outputs": [],
   "source": []
  }
 ],
 "metadata": {
  "kernelspec": {
   "display_name": "RNA_export_magic",
   "language": "python",
   "name": "rna_export_magic"
  },
  "language_info": {
   "codemirror_mode": {
    "name": "ipython",
    "version": 3
   },
   "file_extension": ".py",
   "mimetype": "text/x-python",
   "name": "python",
   "nbconvert_exporter": "python",
   "pygments_lexer": "ipython3",
   "version": "3.7.7"
  }
 },
 "nbformat": 4,
 "nbformat_minor": 4
}
