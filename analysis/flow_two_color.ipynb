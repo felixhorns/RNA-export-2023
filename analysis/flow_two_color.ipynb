{
 "cells": [
  {
   "cell_type": "markdown",
   "metadata": {
    "Collapsed": "false"
   },
   "source": [
    "# Plot flow cytometry of delivery of two fluorescent protein mRNAs (mCherry and BFP)"
   ]
  },
  {
   "cell_type": "markdown",
   "metadata": {
    "Collapsed": "false",
    "toc-hr-collapsed": false
   },
   "source": [
    "# Introduction"
   ]
  },
  {
   "cell_type": "markdown",
   "metadata": {
    "Collapsed": "false"
   },
   "source": [
    "## Imports"
   ]
  },
  {
   "cell_type": "code",
   "execution_count": 1,
   "metadata": {
    "Collapsed": "false"
   },
   "outputs": [],
   "source": [
    "import sys\n",
    "import os\n",
    "import time\n",
    "\n",
    "import numpy as np\n",
    "import scipy\n",
    "import pandas as pd\n",
    "\n",
    "%matplotlib inline\n",
    "from matplotlib import pyplot as plt\n",
    "import matplotlib as mpl\n",
    "import seaborn as sns"
   ]
  },
  {
   "cell_type": "markdown",
   "metadata": {
    "Collapsed": "false"
   },
   "source": [
    "## Set output parameters"
   ]
  },
  {
   "cell_type": "code",
   "execution_count": 2,
   "metadata": {
    "Collapsed": "false"
   },
   "outputs": [],
   "source": [
    "# Set pandas display options\n",
    "pd.set_option('display.max_rows', 30)\n",
    "pd.set_option('display.max_columns', 100)\n",
    "pd.set_option('display.width', 1000)\n",
    "\n",
    "# Set plot display options\n",
    "FONTSIZE = 8  # universal fontsize\n",
    "params = {\n",
    "    'font.size': FONTSIZE,\n",
    "    'axes.titlesize': FONTSIZE,\n",
    "    'axes.labelsize': FONTSIZE,\n",
    "    'legend.fontsize': FONTSIZE,\n",
    "    'xtick.labelsize': FONTSIZE,\n",
    "    'ytick.labelsize': FONTSIZE,\n",
    "    'font.family': \"Helvetica\",\n",
    "    'mathtext.fontset': 'custom',\n",
    "    'pdf.fonttype': 42,\n",
    "    'ps.fonttype': 42,\n",
    "    'figure.dpi': 300\n",
    "   }\n",
    "mpl.rcParams.update(params)\n",
    "sns.set_style(\"ticks\", {'axes.grid' : False})\n",
    "\n",
    "# Set plot output options\n",
    "output_dir = \"outs/flow_two_color\"\n",
    "output_suffix = \"\"\n",
    "output_formats = [\".png\", \".pdf\"]\n",
    "\n",
    "mpl.rc('savefig', dpi=300)\n",
    "\n",
    "# Define convenience function for saving figures\n",
    "\n",
    "savefig = True\n",
    "savefig_args = {\"dpi\": 300, \"bbox_inches\": \"tight\", \"pad_inches\": 0.1}\n",
    "\n",
    "def save_figure(fig, name, output_dir=output_dir, output_suffix=output_suffix, output_formats=output_formats, savefig_args=savefig_args):\n",
    "    if savefig:\n",
    "        for output_format in output_formats:\n",
    "            fig.savefig(output_dir + \"/\" + name + output_suffix + output_format, **savefig_args)\n",
    "    return None"
   ]
  },
  {
   "cell_type": "code",
   "execution_count": 3,
   "metadata": {
    "Collapsed": "false"
   },
   "outputs": [
    {
     "data": {
      "text/plain": [
       "{'font.size': 8.0,\n",
       " 'axes.labelsize': 8.0,\n",
       " 'axes.titlesize': 8.0,\n",
       " 'xtick.labelsize': 8.0,\n",
       " 'ytick.labelsize': 8.0,\n",
       " 'legend.fontsize': 8.0,\n",
       " 'legend.title_fontsize': None,\n",
       " 'axes.linewidth': 0.8,\n",
       " 'grid.linewidth': 0.8,\n",
       " 'lines.linewidth': 1.5,\n",
       " 'lines.markersize': 6.0,\n",
       " 'patch.linewidth': 1.0,\n",
       " 'xtick.major.width': 0.8,\n",
       " 'ytick.major.width': 0.8,\n",
       " 'xtick.minor.width': 0.6,\n",
       " 'ytick.minor.width': 0.6,\n",
       " 'xtick.major.size': 3.5,\n",
       " 'ytick.major.size': 3.5,\n",
       " 'xtick.minor.size': 2.0,\n",
       " 'ytick.minor.size': 2.0}"
      ]
     },
     "execution_count": 3,
     "metadata": {},
     "output_type": "execute_result"
    }
   ],
   "source": [
    "# Report plot parameters\n",
    "sns.plotting_context()"
   ]
  },
  {
   "cell_type": "markdown",
   "metadata": {
    "Collapsed": "false"
   },
   "source": [
    "# Load data"
   ]
  },
  {
   "cell_type": "code",
   "execution_count": 4,
   "metadata": {
    "Collapsed": "false"
   },
   "outputs": [],
   "source": [
    "# Set input files\n",
    "samples_infiles = {\"mCh_alone\": \"../preprocessed_data/flow_data/flow_two_color_mCh_alone.csv\",\n",
    "                   \"BFP_alone\": \"../preprocessed_data/flow_data/flow_two_color_BFP_alone.csv\",\n",
    "                   \"mCh_BFP\": \"../preprocessed_data/flow_data/flow_two_color_mCh_BFP.csv\",\n",
    "                   \"No_DNA\": \"../preprocessed_data/flow_data/flow_two_color_no_DNA.csv\"}"
   ]
  },
  {
   "cell_type": "code",
   "execution_count": 5,
   "metadata": {
    "Collapsed": "false"
   },
   "outputs": [
    {
     "name": "stdout",
     "output_type": "stream",
     "text": [
      "Sample: mCh_alone -- Loaded 12806 events\n",
      "Sample: BFP_alone -- Loaded 18359 events\n",
      "Sample: mCh_BFP -- Loaded 19270 events\n",
      "Sample: No_DNA -- Loaded 19612 events\n",
      "(70047, 33)\n"
     ]
    },
    {
     "data": {
      "text/html": [
       "<div>\n",
       "<style scoped>\n",
       "    .dataframe tbody tr th:only-of-type {\n",
       "        vertical-align: middle;\n",
       "    }\n",
       "\n",
       "    .dataframe tbody tr th {\n",
       "        vertical-align: top;\n",
       "    }\n",
       "\n",
       "    .dataframe thead th {\n",
       "        text-align: right;\n",
       "    }\n",
       "</style>\n",
       "<table border=\"1\" class=\"dataframe\">\n",
       "  <thead>\n",
       "    <tr style=\"text-align: right;\">\n",
       "      <th></th>\n",
       "      <th>FSC-A</th>\n",
       "      <th>FSC-H</th>\n",
       "      <th>FSC-Width</th>\n",
       "      <th>SSC-A</th>\n",
       "      <th>SSC-H</th>\n",
       "      <th>GFP-A</th>\n",
       "      <th>GFP-H</th>\n",
       "      <th>PE-A</th>\n",
       "      <th>PE-H</th>\n",
       "      <th>mCherry-A</th>\n",
       "      <th>mCherry-H</th>\n",
       "      <th>PC5.5-A</th>\n",
       "      <th>PC5.5-H</th>\n",
       "      <th>PC7-A</th>\n",
       "      <th>PC7-H</th>\n",
       "      <th>PerCP-A</th>\n",
       "      <th>PerCP-H</th>\n",
       "      <th>APC-A</th>\n",
       "      <th>APC-H</th>\n",
       "      <th>APC-A700-A</th>\n",
       "      <th>APC-A700-H</th>\n",
       "      <th>APC-A750-A</th>\n",
       "      <th>APC-A750-H</th>\n",
       "      <th>PB450-A</th>\n",
       "      <th>PB450-H</th>\n",
       "      <th>KO525-A</th>\n",
       "      <th>KO525-H</th>\n",
       "      <th>Violet610-A</th>\n",
       "      <th>Violet610-H</th>\n",
       "      <th>Violet660-A</th>\n",
       "      <th>Violet660-H</th>\n",
       "      <th>Time</th>\n",
       "      <th>Sample</th>\n",
       "    </tr>\n",
       "  </thead>\n",
       "  <tbody>\n",
       "    <tr>\n",
       "      <th>0</th>\n",
       "      <td>270231.0</td>\n",
       "      <td>199057</td>\n",
       "      <td>1390.14</td>\n",
       "      <td>181506.0</td>\n",
       "      <td>125575</td>\n",
       "      <td>858.1</td>\n",
       "      <td>917.4</td>\n",
       "      <td>451.1</td>\n",
       "      <td>897.4</td>\n",
       "      <td>7787.4</td>\n",
       "      <td>4880.9</td>\n",
       "      <td>15400.0</td>\n",
       "      <td>9788.8</td>\n",
       "      <td>2965.5</td>\n",
       "      <td>2016.2</td>\n",
       "      <td>3265.9</td>\n",
       "      <td>2680.3</td>\n",
       "      <td>7.5</td>\n",
       "      <td>388.6</td>\n",
       "      <td>180.4</td>\n",
       "      <td>327.1</td>\n",
       "      <td>280.8</td>\n",
       "      <td>356.0</td>\n",
       "      <td>594.6</td>\n",
       "      <td>526.8</td>\n",
       "      <td>1740.1</td>\n",
       "      <td>1406.6</td>\n",
       "      <td>2533.7</td>\n",
       "      <td>1894.6</td>\n",
       "      <td>556.3</td>\n",
       "      <td>495.4</td>\n",
       "      <td>0.211027</td>\n",
       "      <td>mCh_alone</td>\n",
       "    </tr>\n",
       "    <tr>\n",
       "      <th>1</th>\n",
       "      <td>306505.0</td>\n",
       "      <td>240972</td>\n",
       "      <td>1302.50</td>\n",
       "      <td>259855.0</td>\n",
       "      <td>153377</td>\n",
       "      <td>886.8</td>\n",
       "      <td>1016.4</td>\n",
       "      <td>-81.1</td>\n",
       "      <td>775.3</td>\n",
       "      <td>15004.5</td>\n",
       "      <td>8586.6</td>\n",
       "      <td>29579.2</td>\n",
       "      <td>16358.6</td>\n",
       "      <td>5472.1</td>\n",
       "      <td>3501.1</td>\n",
       "      <td>9793.0</td>\n",
       "      <td>5386.4</td>\n",
       "      <td>1092.0</td>\n",
       "      <td>772.8</td>\n",
       "      <td>879.3</td>\n",
       "      <td>683.3</td>\n",
       "      <td>735.5</td>\n",
       "      <td>492.8</td>\n",
       "      <td>515.7</td>\n",
       "      <td>683.7</td>\n",
       "      <td>3335.5</td>\n",
       "      <td>2035.4</td>\n",
       "      <td>4495.8</td>\n",
       "      <td>2691.1</td>\n",
       "      <td>921.8</td>\n",
       "      <td>824.0</td>\n",
       "      <td>0.219109</td>\n",
       "      <td>mCh_alone</td>\n",
       "    </tr>\n",
       "    <tr>\n",
       "      <th>2</th>\n",
       "      <td>345752.0</td>\n",
       "      <td>245112</td>\n",
       "      <td>1444.44</td>\n",
       "      <td>192390.0</td>\n",
       "      <td>133518</td>\n",
       "      <td>540.4</td>\n",
       "      <td>1096.8</td>\n",
       "      <td>803.1</td>\n",
       "      <td>1135.1</td>\n",
       "      <td>13748.3</td>\n",
       "      <td>8619.8</td>\n",
       "      <td>26551.6</td>\n",
       "      <td>16818.7</td>\n",
       "      <td>4861.4</td>\n",
       "      <td>3137.3</td>\n",
       "      <td>7517.3</td>\n",
       "      <td>5258.9</td>\n",
       "      <td>706.8</td>\n",
       "      <td>540.4</td>\n",
       "      <td>425.1</td>\n",
       "      <td>664.9</td>\n",
       "      <td>447.7</td>\n",
       "      <td>488.4</td>\n",
       "      <td>563.8</td>\n",
       "      <td>696.5</td>\n",
       "      <td>2800.5</td>\n",
       "      <td>2230.4</td>\n",
       "      <td>3779.7</td>\n",
       "      <td>2715.2</td>\n",
       "      <td>988.4</td>\n",
       "      <td>858.9</td>\n",
       "      <td>0.228127</td>\n",
       "      <td>mCh_alone</td>\n",
       "    </tr>\n",
       "    <tr>\n",
       "      <th>3</th>\n",
       "      <td>367634.0</td>\n",
       "      <td>289916</td>\n",
       "      <td>1298.52</td>\n",
       "      <td>433096.0</td>\n",
       "      <td>278395</td>\n",
       "      <td>1530.1</td>\n",
       "      <td>1628.4</td>\n",
       "      <td>1464.9</td>\n",
       "      <td>1133.0</td>\n",
       "      <td>35384.9</td>\n",
       "      <td>22425.4</td>\n",
       "      <td>68474.3</td>\n",
       "      <td>42213.8</td>\n",
       "      <td>13192.2</td>\n",
       "      <td>7763.4</td>\n",
       "      <td>19446.2</td>\n",
       "      <td>12114.8</td>\n",
       "      <td>852.9</td>\n",
       "      <td>870.2</td>\n",
       "      <td>640.2</td>\n",
       "      <td>738.2</td>\n",
       "      <td>563.5</td>\n",
       "      <td>658.6</td>\n",
       "      <td>536.6</td>\n",
       "      <td>515.8</td>\n",
       "      <td>3877.4</td>\n",
       "      <td>2973.5</td>\n",
       "      <td>8039.2</td>\n",
       "      <td>4844.1</td>\n",
       "      <td>1964.5</td>\n",
       "      <td>1537.4</td>\n",
       "      <td>0.245008</td>\n",
       "      <td>mCh_alone</td>\n",
       "    </tr>\n",
       "    <tr>\n",
       "      <th>4</th>\n",
       "      <td>272214.0</td>\n",
       "      <td>269056</td>\n",
       "      <td>1036.02</td>\n",
       "      <td>587060.0</td>\n",
       "      <td>277261</td>\n",
       "      <td>4474.0</td>\n",
       "      <td>2419.0</td>\n",
       "      <td>1678.9</td>\n",
       "      <td>2020.5</td>\n",
       "      <td>47542.9</td>\n",
       "      <td>22124.9</td>\n",
       "      <td>89959.9</td>\n",
       "      <td>42444.4</td>\n",
       "      <td>17787.9</td>\n",
       "      <td>7954.5</td>\n",
       "      <td>30335.1</td>\n",
       "      <td>14814.8</td>\n",
       "      <td>1491.3</td>\n",
       "      <td>791.9</td>\n",
       "      <td>1500.6</td>\n",
       "      <td>775.7</td>\n",
       "      <td>1055.3</td>\n",
       "      <td>875.6</td>\n",
       "      <td>470.4</td>\n",
       "      <td>536.3</td>\n",
       "      <td>6680.5</td>\n",
       "      <td>3526.8</td>\n",
       "      <td>13679.0</td>\n",
       "      <td>6546.0</td>\n",
       "      <td>2993.9</td>\n",
       "      <td>1838.6</td>\n",
       "      <td>0.256621</td>\n",
       "      <td>mCh_alone</td>\n",
       "    </tr>\n",
       "  </tbody>\n",
       "</table>\n",
       "</div>"
      ],
      "text/plain": [
       "      FSC-A   FSC-H  FSC-Width     SSC-A   SSC-H   GFP-A   GFP-H    PE-A    PE-H  mCherry-A  mCherry-H  PC5.5-A  PC5.5-H    PC7-A   PC7-H  PerCP-A  PerCP-H   APC-A  APC-H  APC-A700-A  APC-A700-H  APC-A750-A  APC-A750-H  PB450-A  PB450-H  KO525-A  KO525-H  Violet610-A  Violet610-H  Violet660-A  Violet660-H      Time     Sample\n",
       "0  270231.0  199057    1390.14  181506.0  125575   858.1   917.4   451.1   897.4     7787.4     4880.9  15400.0   9788.8   2965.5  2016.2   3265.9   2680.3     7.5  388.6       180.4       327.1       280.8       356.0    594.6    526.8   1740.1   1406.6       2533.7       1894.6        556.3        495.4  0.211027  mCh_alone\n",
       "1  306505.0  240972    1302.50  259855.0  153377   886.8  1016.4   -81.1   775.3    15004.5     8586.6  29579.2  16358.6   5472.1  3501.1   9793.0   5386.4  1092.0  772.8       879.3       683.3       735.5       492.8    515.7    683.7   3335.5   2035.4       4495.8       2691.1        921.8        824.0  0.219109  mCh_alone\n",
       "2  345752.0  245112    1444.44  192390.0  133518   540.4  1096.8   803.1  1135.1    13748.3     8619.8  26551.6  16818.7   4861.4  3137.3   7517.3   5258.9   706.8  540.4       425.1       664.9       447.7       488.4    563.8    696.5   2800.5   2230.4       3779.7       2715.2        988.4        858.9  0.228127  mCh_alone\n",
       "3  367634.0  289916    1298.52  433096.0  278395  1530.1  1628.4  1464.9  1133.0    35384.9    22425.4  68474.3  42213.8  13192.2  7763.4  19446.2  12114.8   852.9  870.2       640.2       738.2       563.5       658.6    536.6    515.8   3877.4   2973.5       8039.2       4844.1       1964.5       1537.4  0.245008  mCh_alone\n",
       "4  272214.0  269056    1036.02  587060.0  277261  4474.0  2419.0  1678.9  2020.5    47542.9    22124.9  89959.9  42444.4  17787.9  7954.5  30335.1  14814.8  1491.3  791.9      1500.6       775.7      1055.3       875.6    470.4    536.3   6680.5   3526.8      13679.0       6546.0       2993.9       1838.6  0.256621  mCh_alone"
      ]
     },
     "execution_count": 5,
     "metadata": {},
     "output_type": "execute_result"
    }
   ],
   "source": [
    "# Load events and concatenate into one dataframe\n",
    "\n",
    "dfs_temp = []\n",
    "\n",
    "for sample, infile in samples_infiles.items():\n",
    "    \n",
    "    df_temp = pd.read_csv(infile, index_col=None)\n",
    "    df_temp[\"Sample\"] = sample\n",
    "    \n",
    "    print(\"Sample:\", sample, \"-- Loaded\", df_temp.shape[0], \"events\")\n",
    "    \n",
    "    dfs_temp.append(df_temp)\n",
    "\n",
    "df_raw = pd.concat(dfs_temp)\n",
    "\n",
    "print(df_raw.shape)\n",
    "df_raw.head()"
   ]
  },
  {
   "cell_type": "markdown",
   "metadata": {
    "Collapsed": "false"
   },
   "source": [
    "# Preprocess data"
   ]
  },
  {
   "cell_type": "code",
   "execution_count": 6,
   "metadata": {
    "Collapsed": "false"
   },
   "outputs": [
    {
     "name": "stderr",
     "output_type": "stream",
     "text": [
      "/scratch/resources/anaconda3/envs/RNA_export_magic/lib/python3.7/site-packages/pandas/core/arraylike.py:364: RuntimeWarning: divide by zero encountered in log10\n",
      "  result = getattr(ufunc, method)(*inputs, **kwargs)\n",
      "/scratch/resources/anaconda3/envs/RNA_export_magic/lib/python3.7/site-packages/pandas/core/arraylike.py:364: RuntimeWarning: invalid value encountered in log10\n",
      "  result = getattr(ufunc, method)(*inputs, **kwargs)\n"
     ]
    }
   ],
   "source": [
    "# Log transform\n",
    "df_raw[\"log10 mCherry-A\"] = np.log10(df_raw[\"mCherry-A\"])\n",
    "df_raw[\"log10 PB450-A\"] = np.log10(df_raw[\"PB450-A\"])"
   ]
  },
  {
   "cell_type": "markdown",
   "metadata": {
    "Collapsed": "false"
   },
   "source": [
    "# Plot delivery and expression of two fluorescent protein mRNAs"
   ]
  },
  {
   "cell_type": "code",
   "execution_count": 7,
   "metadata": {
    "Collapsed": "false"
   },
   "outputs": [],
   "source": [
    "# Define plot function\n",
    "\n",
    "def plot_scatter(ax=None, data=None):\n",
    "\n",
    "    if ax is None:\n",
    "        fig, ax = plt.subplots(1, 1, figsize=(1.25, 1.25))\n",
    "    else:\n",
    "        fig = None\n",
    "        \n",
    "    sns.histplot(ax=ax, data=data,\n",
    "                 x=\"log10 mCherry-A\",\n",
    "                 y=\"log10 PB450-A\",\n",
    "                 bins=(np.linspace(0,7,100), np.linspace(0,7,100)),\n",
    "                 stat=\"probability\",\n",
    "                 cmap=\"viridis\",\n",
    "                 cbar=False,\n",
    "                 vmin=0, vmax=0.02)\n",
    "\n",
    "    ax.set_xlim(2,5)\n",
    "    ax.set_ylim(2,5)\n",
    "\n",
    "    ax.set_xticks([2, 3, 4, 5])\n",
    "    xticklabels = [r\"$10^2$\", r\"$10^3$\", r\"$10^4$\", r\"$10^5$\"]\n",
    "    ax.set_xticklabels(xticklabels)\n",
    "\n",
    "    ax.set_yticks([2, 3, 4, 5])\n",
    "    yticklabels = [r\"$10^2$\", r\"$10^3$\", r\"$10^4$\", r\"$10^5$\"]\n",
    "    ax.set_yticklabels(yticklabels)\n",
    "\n",
    "    ax.set_xlabel(\"Cargo 1 expression\\n(mCherry) (a.u.)\")\n",
    "    ax.set_ylabel(\"Cargo 2 expression\\n(BFP) (a.u.)\")\n",
    "    \n",
    "    ax.add_patch(mpl.patches.Rectangle((np.log10(1500), np.log10(1000)), 5, 5, fill=None, edgecolor=\"k\", lw=0.5))\n",
    "    \n",
    "    return fig, ax"
   ]
  },
  {
   "cell_type": "code",
   "execution_count": 8,
   "metadata": {
    "Collapsed": "false"
   },
   "outputs": [
    {
     "name": "stderr",
     "output_type": "stream",
     "text": [
      "findfont: Font family ['cursive'] not found. Falling back to DejaVu Sans.\n"
     ]
    },
    {
     "data": {
      "image/png": "[encoded data removed]",
      "text/plain": [
       "<Figure size 937.5x937.5 with 4 Axes>"
      ]
     },
     "metadata": {},
     "output_type": "display_data"
    }
   ],
   "source": [
    "fig, axes = plt.subplots(2,2, figsize=(1.25*2.5, 1.25*2.5), sharex=True, sharey=True)\n",
    "\n",
    "\n",
    "ax = axes[0,1]\n",
    "selector = df_raw[\"Sample\"] == \"mCh_BFP\"\n",
    "data = df_raw.loc[selector]\n",
    "plot_scatter(ax=ax, data=data)\n",
    "ax.set_title(\"Cargo: mCherry and BFP\")\n",
    "\n",
    "\n",
    "ax = axes[0,0]\n",
    "selector = df_raw[\"Sample\"] == \"mCh_alone\"\n",
    "data = df_raw.loc[selector]\n",
    "plot_scatter(ax=ax, data=data)\n",
    "ax.set_title(\"Cargo: mCherry\")\n",
    "\n",
    "\n",
    "ax = axes[1,1]\n",
    "selector = df_raw[\"Sample\"] == \"BFP_alone\"\n",
    "data = df_raw.loc[selector]\n",
    "plot_scatter(ax=ax, data=data)\n",
    "ax.set_title(\"Cargo: BFP\")\n",
    "\n",
    "\n",
    "ax = axes[1,0]\n",
    "selector = df_raw[\"Sample\"] == \"No_DNA\"\n",
    "data = df_raw.loc[selector]\n",
    "plot_scatter(ax=ax, data=data)\n",
    "ax.set_title(\"Cargo: None\")\n",
    "\n",
    "\n",
    "for ax in axes.flatten():\n",
    "    ax.set_xlabel(\"\")\n",
    "    ax.set_ylabel(\"\")\n",
    "    \n",
    "fig.text(0., 0.5, \"Cargo 2 expression (BFP) (a.u.)\", ha=\"center\", va=\"center\", rotation=90)\n",
    "fig.text(0.5, -0.015, \"Cargo 1 expression (mCherry) (a.u.)\", ha=\"center\", va=\"center\")\n",
    "\n",
    "plt.subplots_adjust(wspace=0.3, hspace=0.35)\n",
    "\n",
    "save_figure(fig, \"hist2d_mCh_BFP_subplots2x2\")"
   ]
  },
  {
   "cell_type": "code",
   "execution_count": 9,
   "metadata": {
    "Collapsed": "false"
   },
   "outputs": [
    {
     "data": {
      "image/png": "[encoded data removed]",
      "text/plain": [
       "<Figure size 45x225 with 2 Axes>"
      ]
     },
     "metadata": {},
     "output_type": "display_data"
    }
   ],
   "source": [
    "# Plot colorbar\n",
    "\n",
    "a = np.array([[0,1]])\n",
    "\n",
    "fig = plt.figure(figsize=(0.15,0.75))\n",
    "\n",
    "img = plt.imshow(a, cmap=\"viridis\", vmin=0, vmax=0.02)\n",
    "plt.gca().set_visible(False)\n",
    "\n",
    "cax = plt.axes([0.1, 0.2, 0.8, 0.6])\n",
    "cbar = plt.colorbar(orientation=\"vertical\", cax=cax)\n",
    "\n",
    "cbar.set_ticks([0, 0.01, 0.02])\n",
    "cbar.set_ticklabels([0, 1, 2])\n",
    "\n",
    "cax.set_title(\"% of cells\")\n",
    "\n",
    "save_figure(fig, \"cbar_density\")"
   ]
  },
  {
   "cell_type": "markdown",
   "metadata": {
    "Collapsed": "false"
   },
   "source": [
    "# Report statistics"
   ]
  },
  {
   "cell_type": "code",
   "execution_count": 10,
   "metadata": {
    "Collapsed": "false"
   },
   "outputs": [],
   "source": [
    "def print_report(df, sample):\n",
    "\n",
    "    print(sample)\n",
    "\n",
    "    selector = df_raw[\"Sample\"] == sample\n",
    "    data = df_raw.loc[selector]\n",
    "    print(data.shape)\n",
    "\n",
    "    selector2 = (data[\"mCherry-A\"] > 1500) & (data[\"PB450-A\"] > 1000)\n",
    "    data_mChPos_BFPPos = data.loc[selector2]\n",
    "    print(data_mChPos_BFPPos.shape)\n",
    "\n",
    "    frac_mChPos_BFPPos = data_mChPos_BFPPos.shape[0] / data.shape[0]\n",
    "\n",
    "    print()\n",
    "    print(\"n =\", data.shape[0], \"cells\")\n",
    "    print(\"mCh+ BFP+:\", frac_mChPos_BFPPos*100, \"%\")\n",
    "    print(\"\")\n"
   ]
  },
  {
   "cell_type": "code",
   "execution_count": 11,
   "metadata": {
    "Collapsed": "false"
   },
   "outputs": [
    {
     "name": "stdout",
     "output_type": "stream",
     "text": [
      "mCh_BFP\n",
      "(19270, 35)\n",
      "(11544, 35)\n",
      "\n",
      "n = 19270 cells\n",
      "mCh+ BFP+: 59.90659055526726 %\n",
      "\n"
     ]
    }
   ],
   "source": [
    "sample = \"mCh_BFP\"\n",
    "print_report(df_raw, sample)"
   ]
  },
  {
   "cell_type": "code",
   "execution_count": 12,
   "metadata": {
    "Collapsed": "false"
   },
   "outputs": [
    {
     "name": "stdout",
     "output_type": "stream",
     "text": [
      "mCh_alone\n",
      "(12806, 35)\n",
      "(425, 35)\n",
      "\n",
      "n = 12806 cells\n",
      "mCh+ BFP+: 3.3187568327346555 %\n",
      "\n"
     ]
    }
   ],
   "source": [
    "sample = \"mCh_alone\"\n",
    "print_report(df_raw, sample)"
   ]
  },
  {
   "cell_type": "code",
   "execution_count": 13,
   "metadata": {
    "Collapsed": "false"
   },
   "outputs": [
    {
     "name": "stdout",
     "output_type": "stream",
     "text": [
      "BFP_alone\n",
      "(18359, 35)\n",
      "(22, 35)\n",
      "\n",
      "n = 18359 cells\n",
      "mCh+ BFP+: 0.11983223487118035 %\n",
      "\n"
     ]
    }
   ],
   "source": [
    "sample = \"BFP_alone\"\n",
    "print_report(df_raw, sample)"
   ]
  },
  {
   "cell_type": "code",
   "execution_count": 14,
   "metadata": {
    "Collapsed": "false"
   },
   "outputs": [
    {
     "name": "stdout",
     "output_type": "stream",
     "text": [
      "No_DNA\n",
      "(19612, 35)\n",
      "(27, 35)\n",
      "\n",
      "n = 19612 cells\n",
      "mCh+ BFP+: 0.13767081378747706 %\n",
      "\n"
     ]
    }
   ],
   "source": [
    "sample = \"No_DNA\"\n",
    "print_report(df_raw, sample)"
   ]
  },
  {
   "cell_type": "code",
   "execution_count": null,
   "metadata": {
    "Collapsed": "false"
   },
   "outputs": [],
   "source": []
  }
 ],
 "metadata": {
  "kernelspec": {
   "display_name": "RNA_export_magic",
   "language": "python",
   "name": "rna_export_magic"
  },
  "language_info": {
   "codemirror_mode": {
    "name": "ipython",
    "version": 3
   },
   "file_extension": ".py",
   "mimetype": "text/x-python",
   "name": "python",
   "nbconvert_exporter": "python",
   "pygments_lexer": "ipython3",
   "version": "3.7.7"
  }
 },
 "nbformat": 4,
 "nbformat_minor": 4
}
