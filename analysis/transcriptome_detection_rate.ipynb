{
 "cells": [
  {
   "cell_type": "markdown",
   "metadata": {
    "Collapsed": "false"
   },
   "source": [
    "# Genome-scale characterization of RNA export"
   ]
  },
  {
   "cell_type": "markdown",
   "metadata": {
    "Collapsed": "false",
    "toc-hr-collapsed": true
   },
   "source": [
    "# Introduction"
   ]
  },
  {
   "cell_type": "markdown",
   "metadata": {
    "Collapsed": "false"
   },
   "source": [
    "## Imports"
   ]
  },
  {
   "cell_type": "code",
   "execution_count": 1,
   "metadata": {
    "Collapsed": "false"
   },
   "outputs": [],
   "source": [
    "import sys\n",
    "import os\n",
    "import time\n",
    "\n",
    "import numpy as np\n",
    "import scipy\n",
    "import pandas as pd\n",
    "\n",
    "%matplotlib inline\n",
    "from matplotlib import pyplot as plt\n",
    "import matplotlib as mpl\n",
    "import seaborn as sns"
   ]
  },
  {
   "cell_type": "markdown",
   "metadata": {
    "Collapsed": "false"
   },
   "source": [
    "## Set output parameters"
   ]
  },
  {
   "cell_type": "code",
   "execution_count": 2,
   "metadata": {
    "Collapsed": "false"
   },
   "outputs": [],
   "source": [
    "# Set pandas display options\n",
    "pd.set_option('display.max_rows', 30)\n",
    "pd.set_option('display.max_columns', 100)\n",
    "pd.set_option('display.width', 1000)\n",
    "\n",
    "# Set plot display options\n",
    "FONTSIZE = 8  # universal fontsize\n",
    "params = {\n",
    "    'font.size': FONTSIZE,\n",
    "    'axes.titlesize': FONTSIZE,\n",
    "    'axes.labelsize': FONTSIZE,\n",
    "    'legend.fontsize': FONTSIZE,\n",
    "    'xtick.labelsize': FONTSIZE,\n",
    "    'ytick.labelsize': FONTSIZE,\n",
    "    'font.family': \"Helvetica\",\n",
    "    'mathtext.fontset': 'custom',\n",
    "    'pdf.fonttype': 42,\n",
    "    'ps.fonttype': 42,\n",
    "    'figure.dpi': 300\n",
    "   }\n",
    "mpl.rcParams.update(params)\n",
    "sns.set_style(\"ticks\", {'axes.grid' : False})\n",
    "\n",
    "# Set plot output options\n",
    "output_dir = \"outs/transcriptome_detection_rate\"\n",
    "output_suffix = \"\"\n",
    "output_formats = [\".png\", \".pdf\"]\n",
    "\n",
    "mpl.rc('savefig', dpi=300)\n",
    "\n",
    "# Define convenience function for saving figures\n",
    "\n",
    "savefig = True\n",
    "savefig_args = {\"dpi\": 300, \"bbox_inches\": \"tight\", \"pad_inches\": 0.1}\n",
    "\n",
    "def save_figure(fig, name, output_dir=output_dir, output_suffix=output_suffix, output_formats=output_formats, savefig_args=savefig_args):\n",
    "    if savefig:\n",
    "        for output_format in output_formats:\n",
    "            fig.savefig(output_dir + \"/\" + name + output_suffix + output_format, **savefig_args)\n",
    "    return None"
   ]
  },
  {
   "cell_type": "code",
   "execution_count": 3,
   "metadata": {
    "Collapsed": "false"
   },
   "outputs": [
    {
     "data": {
      "text/plain": [
       "{'font.size': 8.0,\n",
       " 'axes.labelsize': 8.0,\n",
       " 'axes.titlesize': 8.0,\n",
       " 'xtick.labelsize': 8.0,\n",
       " 'ytick.labelsize': 8.0,\n",
       " 'legend.fontsize': 8.0,\n",
       " 'legend.title_fontsize': None,\n",
       " 'axes.linewidth': 0.8,\n",
       " 'grid.linewidth': 0.8,\n",
       " 'lines.linewidth': 1.5,\n",
       " 'lines.markersize': 6.0,\n",
       " 'patch.linewidth': 1.0,\n",
       " 'xtick.major.width': 0.8,\n",
       " 'ytick.major.width': 0.8,\n",
       " 'xtick.minor.width': 0.6,\n",
       " 'ytick.minor.width': 0.6,\n",
       " 'xtick.major.size': 3.5,\n",
       " 'ytick.major.size': 3.5,\n",
       " 'xtick.minor.size': 2.0,\n",
       " 'ytick.minor.size': 2.0}"
      ]
     },
     "execution_count": 3,
     "metadata": {},
     "output_type": "execute_result"
    }
   ],
   "source": [
    "# Report plot parameters\n",
    "sns.plotting_context()"
   ]
  },
  {
   "cell_type": "markdown",
   "metadata": {
    "Collapsed": "false",
    "toc-hr-collapsed": false
   },
   "source": [
    "# Load and preprocess data for supernatant RNA"
   ]
  },
  {
   "cell_type": "markdown",
   "metadata": {
    "Collapsed": "false"
   },
   "source": [
    "## Load read counts"
   ]
  },
  {
   "cell_type": "code",
   "execution_count": 4,
   "metadata": {
    "Collapsed": "false"
   },
   "outputs": [
    {
     "name": "stdout",
     "output_type": "stream",
     "text": [
      "(60766, 8)\n"
     ]
    },
    {
     "data": {
      "text/html": [
       "<div>\n",
       "<style scoped>\n",
       "    .dataframe tbody tr th:only-of-type {\n",
       "        vertical-align: middle;\n",
       "    }\n",
       "\n",
       "    .dataframe tbody tr th {\n",
       "        vertical-align: top;\n",
       "    }\n",
       "\n",
       "    .dataframe thead th {\n",
       "        text-align: right;\n",
       "    }\n",
       "</style>\n",
       "<table border=\"1\" class=\"dataframe\">\n",
       "  <thead>\n",
       "    <tr style=\"text-align: right;\">\n",
       "      <th></th>\n",
       "      <th>sFH14_1</th>\n",
       "      <th>sFH14_2</th>\n",
       "      <th>sFH14_3</th>\n",
       "      <th>sFH14_4</th>\n",
       "      <th>sFH14_5</th>\n",
       "      <th>sFH14_6</th>\n",
       "      <th>sFH14_7</th>\n",
       "      <th>sFH14_8</th>\n",
       "    </tr>\n",
       "    <tr>\n",
       "      <th>symbol</th>\n",
       "      <th></th>\n",
       "      <th></th>\n",
       "      <th></th>\n",
       "      <th></th>\n",
       "      <th></th>\n",
       "      <th></th>\n",
       "      <th></th>\n",
       "      <th></th>\n",
       "    </tr>\n",
       "  </thead>\n",
       "  <tbody>\n",
       "    <tr>\n",
       "      <th>EGFP</th>\n",
       "      <td>60400</td>\n",
       "      <td>821</td>\n",
       "      <td>1067</td>\n",
       "      <td>12295</td>\n",
       "      <td>0</td>\n",
       "      <td>0</td>\n",
       "      <td>0</td>\n",
       "      <td>0</td>\n",
       "    </tr>\n",
       "    <tr>\n",
       "      <th>ENSG00000000003</th>\n",
       "      <td>6759</td>\n",
       "      <td>3981</td>\n",
       "      <td>52</td>\n",
       "      <td>83</td>\n",
       "      <td>26</td>\n",
       "      <td>41</td>\n",
       "      <td>23</td>\n",
       "      <td>14</td>\n",
       "    </tr>\n",
       "    <tr>\n",
       "      <th>ENSG00000000005</th>\n",
       "      <td>7</td>\n",
       "      <td>0</td>\n",
       "      <td>0</td>\n",
       "      <td>0</td>\n",
       "      <td>0</td>\n",
       "      <td>0</td>\n",
       "      <td>0</td>\n",
       "      <td>0</td>\n",
       "    </tr>\n",
       "    <tr>\n",
       "      <th>ENSG00000000419</th>\n",
       "      <td>819</td>\n",
       "      <td>296</td>\n",
       "      <td>0</td>\n",
       "      <td>74</td>\n",
       "      <td>14</td>\n",
       "      <td>15</td>\n",
       "      <td>13</td>\n",
       "      <td>21</td>\n",
       "    </tr>\n",
       "    <tr>\n",
       "      <th>ENSG00000000457</th>\n",
       "      <td>96</td>\n",
       "      <td>0</td>\n",
       "      <td>21</td>\n",
       "      <td>10</td>\n",
       "      <td>5</td>\n",
       "      <td>0</td>\n",
       "      <td>0</td>\n",
       "      <td>23</td>\n",
       "    </tr>\n",
       "  </tbody>\n",
       "</table>\n",
       "</div>"
      ],
      "text/plain": [
       "                 sFH14_1  sFH14_2  sFH14_3  sFH14_4  sFH14_5  sFH14_6  sFH14_7  sFH14_8\n",
       "symbol                                                                                 \n",
       "EGFP               60400      821     1067    12295        0        0        0        0\n",
       "ENSG00000000003     6759     3981       52       83       26       41       23       14\n",
       "ENSG00000000005        7        0        0        0        0        0        0        0\n",
       "ENSG00000000419      819      296        0       74       14       15       13       21\n",
       "ENSG00000000457       96        0       21       10        5        0        0       23"
      ]
     },
     "execution_count": 4,
     "metadata": {},
     "output_type": "execute_result"
    }
   ],
   "source": [
    "# Load read counts\n",
    "\n",
    "infile = \"../preprocessed_data/transcriptome_data/transcriptomics_supernatant/htseq.tab\"\n",
    "\n",
    "counts_raw = pd.read_csv(infile, sep=\"\\t\", header=0, index_col=0)\n",
    "\n",
    "print(counts_raw.shape)\n",
    "counts_raw.head()"
   ]
  },
  {
   "cell_type": "markdown",
   "metadata": {
    "Collapsed": "false"
   },
   "source": [
    "## Load additional resources"
   ]
  },
  {
   "cell_type": "code",
   "execution_count": 5,
   "metadata": {
    "Collapsed": "false"
   },
   "outputs": [
    {
     "name": "stdout",
     "output_type": "stream",
     "text": [
      "Loaded 92 gene names\n"
     ]
    }
   ],
   "source": [
    "# Load ERCC gene names\n",
    "\n",
    "infile = \"../resources/names_ERCC92.txt\"\n",
    "\n",
    "names_ERCC = []\n",
    "with open(infile) as f:\n",
    "    for line in f:\n",
    "        names_ERCC.append(line.rstrip())\n",
    "print(\"Loaded\", len(names_ERCC), \"gene names\")"
   ]
  },
  {
   "cell_type": "code",
   "execution_count": 6,
   "metadata": {
    "Collapsed": "false"
   },
   "outputs": [],
   "source": [
    "# Set transgene names\n",
    "names_transgenes = [\"EGFP\", \"mCherry\", \"mTagBFP2\"]"
   ]
  },
  {
   "cell_type": "markdown",
   "metadata": {
    "Collapsed": "false"
   },
   "source": [
    "## Specify sample information (exporter)"
   ]
  },
  {
   "cell_type": "code",
   "execution_count": 7,
   "metadata": {
    "Collapsed": "false"
   },
   "outputs": [],
   "source": [
    "# Set exporter labels\n",
    "sample_to_exporter = {\"sFH14_1\": \"MMLV Gag\",\n",
    "                   \"sFH14_2\": \"Gag-MCP\",\n",
    "                   \"sFH14_3\": \"GagZip-MCP\",\n",
    "                   \"sFH14_4\": \"EPN24-MCP\",\n",
    "                   \"sFH14_5\": \"No exporter (mCh-Psi)\",\n",
    "                   \"sFH14_6\": \"No exporter (mCh-MS2x8)\",\n",
    "                   \"sFH14_7\": \"No DNA\",\n",
    "                   \"sFH14_8\": \"WT\"}"
   ]
  },
  {
   "cell_type": "markdown",
   "metadata": {
    "Collapsed": "false",
    "toc-hr-collapsed": false
   },
   "source": [
    "# Preprocess data for supernatant RNA"
   ]
  },
  {
   "cell_type": "markdown",
   "metadata": {
    "Collapsed": "false"
   },
   "source": [
    "## Convert gene names from Ensembl to symbol"
   ]
  },
  {
   "cell_type": "code",
   "execution_count": 8,
   "metadata": {
    "Collapsed": "false"
   },
   "outputs": [],
   "source": [
    "# Convert gene names from Ensembl to symbols (actually symbol underscore Ensembl ID)\n",
    "df_ensembleToSymbol = pd.read_csv(\"../resources/Ensembl_to_symbol.csv\", header=0, index_col=0, sep=\",\")\n",
    "counts_raw[\"symbol_ensembl\"] = df_ensembleToSymbol.loc[counts_raw.index][\"symbol_ensembl\"]\n",
    "counts_raw.set_index(\"symbol_ensembl\", inplace=True)"
   ]
  },
  {
   "cell_type": "markdown",
   "metadata": {
    "Collapsed": "false"
   },
   "source": [
    "## Drop genes that are never observed"
   ]
  },
  {
   "cell_type": "code",
   "execution_count": 9,
   "metadata": {
    "Collapsed": "false"
   },
   "outputs": [
    {
     "name": "stdout",
     "output_type": "stream",
     "text": [
      "39519 genes are never observed (count = 0 for all samples)\n",
      "65.03472336503965 % of genes are never observed (count = 0 for all samples)\n"
     ]
    }
   ],
   "source": [
    "print(np.sum(counts_raw.sum(axis=1) == 0), \"genes are never observed (count = 0 for all samples)\")\n",
    "print(np.mean(counts_raw.sum(axis=1) == 0)*100, \"% of genes are never observed (count = 0 for all samples)\")"
   ]
  },
  {
   "cell_type": "code",
   "execution_count": 10,
   "metadata": {
    "Collapsed": "false"
   },
   "outputs": [
    {
     "name": "stdout",
     "output_type": "stream",
     "text": [
      "(21249, 8)\n"
     ]
    },
    {
     "data": {
      "text/html": [
       "<div>\n",
       "<style scoped>\n",
       "    .dataframe tbody tr th:only-of-type {\n",
       "        vertical-align: middle;\n",
       "    }\n",
       "\n",
       "    .dataframe tbody tr th {\n",
       "        vertical-align: top;\n",
       "    }\n",
       "\n",
       "    .dataframe thead th {\n",
       "        text-align: right;\n",
       "    }\n",
       "</style>\n",
       "<table border=\"1\" class=\"dataframe\">\n",
       "  <thead>\n",
       "    <tr style=\"text-align: right;\">\n",
       "      <th></th>\n",
       "      <th>sFH14_1</th>\n",
       "      <th>sFH14_2</th>\n",
       "      <th>sFH14_3</th>\n",
       "      <th>sFH14_4</th>\n",
       "      <th>sFH14_5</th>\n",
       "      <th>sFH14_6</th>\n",
       "      <th>sFH14_7</th>\n",
       "      <th>sFH14_8</th>\n",
       "    </tr>\n",
       "    <tr>\n",
       "      <th>symbol_ensembl</th>\n",
       "      <th></th>\n",
       "      <th></th>\n",
       "      <th></th>\n",
       "      <th></th>\n",
       "      <th></th>\n",
       "      <th></th>\n",
       "      <th></th>\n",
       "      <th></th>\n",
       "    </tr>\n",
       "  </thead>\n",
       "  <tbody>\n",
       "    <tr>\n",
       "      <th>EGFP</th>\n",
       "      <td>60400</td>\n",
       "      <td>821</td>\n",
       "      <td>1067</td>\n",
       "      <td>12295</td>\n",
       "      <td>0</td>\n",
       "      <td>0</td>\n",
       "      <td>0</td>\n",
       "      <td>0</td>\n",
       "    </tr>\n",
       "    <tr>\n",
       "      <th>TSPAN6_ENSG00000000003</th>\n",
       "      <td>6759</td>\n",
       "      <td>3981</td>\n",
       "      <td>52</td>\n",
       "      <td>83</td>\n",
       "      <td>26</td>\n",
       "      <td>41</td>\n",
       "      <td>23</td>\n",
       "      <td>14</td>\n",
       "    </tr>\n",
       "    <tr>\n",
       "      <th>TNMD_ENSG00000000005</th>\n",
       "      <td>7</td>\n",
       "      <td>0</td>\n",
       "      <td>0</td>\n",
       "      <td>0</td>\n",
       "      <td>0</td>\n",
       "      <td>0</td>\n",
       "      <td>0</td>\n",
       "      <td>0</td>\n",
       "    </tr>\n",
       "    <tr>\n",
       "      <th>DPM1_ENSG00000000419</th>\n",
       "      <td>819</td>\n",
       "      <td>296</td>\n",
       "      <td>0</td>\n",
       "      <td>74</td>\n",
       "      <td>14</td>\n",
       "      <td>15</td>\n",
       "      <td>13</td>\n",
       "      <td>21</td>\n",
       "    </tr>\n",
       "    <tr>\n",
       "      <th>SCYL3_ENSG00000000457</th>\n",
       "      <td>96</td>\n",
       "      <td>0</td>\n",
       "      <td>21</td>\n",
       "      <td>10</td>\n",
       "      <td>5</td>\n",
       "      <td>0</td>\n",
       "      <td>0</td>\n",
       "      <td>23</td>\n",
       "    </tr>\n",
       "  </tbody>\n",
       "</table>\n",
       "</div>"
      ],
      "text/plain": [
       "                        sFH14_1  sFH14_2  sFH14_3  sFH14_4  sFH14_5  sFH14_6  sFH14_7  sFH14_8\n",
       "symbol_ensembl                                                                                \n",
       "EGFP                      60400      821     1067    12295        0        0        0        0\n",
       "TSPAN6_ENSG00000000003     6759     3981       52       83       26       41       23       14\n",
       "TNMD_ENSG00000000005          7        0        0        0        0        0        0        0\n",
       "DPM1_ENSG00000000419        819      296        0       74       14       15       13       21\n",
       "SCYL3_ENSG00000000457        96        0       21       10        5        0        0       23"
      ]
     },
     "execution_count": 10,
     "metadata": {},
     "output_type": "execute_result"
    }
   ],
   "source": [
    "names_unmapped = ['__no_feature', '__ambiguous', '__too_low_aQual', '__not_aligned', '__alignment_not_unique']\n",
    "\n",
    "names_not_observed = counts_raw.loc[counts_raw.sum(axis=1) == 0].index  # names of genes that were never observed\n",
    "names_not_observed_clean = list(set(names_not_observed) - set(names_unmapped + names_ERCC + names_transgenes))  # remove names of special genes that we want to keep\n",
    "\n",
    "counts_raw = counts_raw.drop(names_not_observed_clean)  # drop genes\n",
    "\n",
    "print(counts_raw.shape)\n",
    "counts_raw.head()"
   ]
  },
  {
   "cell_type": "markdown",
   "metadata": {
    "Collapsed": "false"
   },
   "source": [
    "## Drop ERCCs (for calculating relative abundance)"
   ]
  },
  {
   "cell_type": "code",
   "execution_count": 11,
   "metadata": {
    "Collapsed": "false"
   },
   "outputs": [
    {
     "name": "stdout",
     "output_type": "stream",
     "text": [
      "(21152, 8)\n"
     ]
    }
   ],
   "source": [
    "counts_NoERCC = counts_raw.copy()  # work with a copy of the counts, so we don't touch the raw counts\n",
    "\n",
    "# Drop symbols for mapping reporting\n",
    "counts_NoERCC = counts_NoERCC.drop(names_unmapped, axis=0)\n",
    "\n",
    "# Drop symbols for mapping reporting\n",
    "counts_NoERCC = counts_NoERCC.drop(names_ERCC, axis=0)\n",
    "\n",
    "print(counts_NoERCC.shape)"
   ]
  },
  {
   "cell_type": "markdown",
   "metadata": {
    "Collapsed": "false"
   },
   "source": [
    "## Calculate log CPM"
   ]
  },
  {
   "cell_type": "code",
   "execution_count": 12,
   "metadata": {
    "Collapsed": "false"
   },
   "outputs": [
    {
     "name": "stdout",
     "output_type": "stream",
     "text": [
      "(21152, 8)\n"
     ]
    }
   ],
   "source": [
    "counts_cpm = counts_NoERCC.copy()  # work with a copy of the counts, so we don't touch the raw counts\n",
    "\n",
    "# Drop symbols for mapping reporting\n",
    "# counts_cpm = counts_cpm.drop(names_unmapped, axis=0)\n",
    "\n",
    "# Normalize by total read number\n",
    "counts_cpm = counts_cpm / counts_cpm.sum(axis=0)\n",
    "\n",
    "# Multiply by 1e6 to get counts per million\n",
    "counts_cpm = 1e6 * counts_cpm\n",
    "\n",
    "print(counts_cpm.shape)"
   ]
  },
  {
   "cell_type": "code",
   "execution_count": 13,
   "metadata": {
    "Collapsed": "false"
   },
   "outputs": [
    {
     "name": "stdout",
     "output_type": "stream",
     "text": [
      "(21152, 8)\n"
     ]
    }
   ],
   "source": [
    "# Add pseudocounts and log transform\n",
    "counts_cpm_log2 = np.log2(counts_cpm + 1)\n",
    "\n",
    "print(counts_cpm_log2.shape)"
   ]
  },
  {
   "cell_type": "markdown",
   "metadata": {
    "Collapsed": "false"
   },
   "source": [
    "# Load and preprocess data for cellular RNA"
   ]
  },
  {
   "cell_type": "markdown",
   "metadata": {
    "Collapsed": "false"
   },
   "source": [
    "## Load counts"
   ]
  },
  {
   "cell_type": "code",
   "execution_count": 14,
   "metadata": {
    "Collapsed": "false"
   },
   "outputs": [
    {
     "name": "stdout",
     "output_type": "stream",
     "text": [
      "(60766, 8)\n"
     ]
    },
    {
     "data": {
      "text/html": [
       "<div>\n",
       "<style scoped>\n",
       "    .dataframe tbody tr th:only-of-type {\n",
       "        vertical-align: middle;\n",
       "    }\n",
       "\n",
       "    .dataframe tbody tr th {\n",
       "        vertical-align: top;\n",
       "    }\n",
       "\n",
       "    .dataframe thead th {\n",
       "        text-align: right;\n",
       "    }\n",
       "</style>\n",
       "<table border=\"1\" class=\"dataframe\">\n",
       "  <thead>\n",
       "    <tr style=\"text-align: right;\">\n",
       "      <th></th>\n",
       "      <th>L220420_1</th>\n",
       "      <th>L220420_2</th>\n",
       "      <th>L220420_3</th>\n",
       "      <th>L220420_4</th>\n",
       "      <th>L220420_5</th>\n",
       "      <th>L220420_6</th>\n",
       "      <th>L220420_7</th>\n",
       "      <th>L220420_8</th>\n",
       "    </tr>\n",
       "    <tr>\n",
       "      <th>symbol</th>\n",
       "      <th></th>\n",
       "      <th></th>\n",
       "      <th></th>\n",
       "      <th></th>\n",
       "      <th></th>\n",
       "      <th></th>\n",
       "      <th></th>\n",
       "      <th></th>\n",
       "    </tr>\n",
       "  </thead>\n",
       "  <tbody>\n",
       "    <tr>\n",
       "      <th>EGFP</th>\n",
       "      <td>198592</td>\n",
       "      <td>98788</td>\n",
       "      <td>93438</td>\n",
       "      <td>62364</td>\n",
       "      <td>0</td>\n",
       "      <td>0</td>\n",
       "      <td>0</td>\n",
       "      <td>0</td>\n",
       "    </tr>\n",
       "    <tr>\n",
       "      <th>ENSG00000000003</th>\n",
       "      <td>2691</td>\n",
       "      <td>2615</td>\n",
       "      <td>2802</td>\n",
       "      <td>2800</td>\n",
       "      <td>2464</td>\n",
       "      <td>3358</td>\n",
       "      <td>3184</td>\n",
       "      <td>2991</td>\n",
       "    </tr>\n",
       "    <tr>\n",
       "      <th>ENSG00000000005</th>\n",
       "      <td>7</td>\n",
       "      <td>2</td>\n",
       "      <td>8</td>\n",
       "      <td>7</td>\n",
       "      <td>5</td>\n",
       "      <td>8</td>\n",
       "      <td>10</td>\n",
       "      <td>11</td>\n",
       "    </tr>\n",
       "    <tr>\n",
       "      <th>ENSG00000000419</th>\n",
       "      <td>1514</td>\n",
       "      <td>1543</td>\n",
       "      <td>1533</td>\n",
       "      <td>1536</td>\n",
       "      <td>1263</td>\n",
       "      <td>1936</td>\n",
       "      <td>1291</td>\n",
       "      <td>1139</td>\n",
       "    </tr>\n",
       "    <tr>\n",
       "      <th>ENSG00000000457</th>\n",
       "      <td>535</td>\n",
       "      <td>614</td>\n",
       "      <td>653</td>\n",
       "      <td>625</td>\n",
       "      <td>522</td>\n",
       "      <td>686</td>\n",
       "      <td>614</td>\n",
       "      <td>557</td>\n",
       "    </tr>\n",
       "  </tbody>\n",
       "</table>\n",
       "</div>"
      ],
      "text/plain": [
       "                 L220420_1  L220420_2  L220420_3  L220420_4  L220420_5  L220420_6  L220420_7  L220420_8\n",
       "symbol                                                                                                 \n",
       "EGFP                198592      98788      93438      62364          0          0          0          0\n",
       "ENSG00000000003       2691       2615       2802       2800       2464       3358       3184       2991\n",
       "ENSG00000000005          7          2          8          7          5          8         10         11\n",
       "ENSG00000000419       1514       1543       1533       1536       1263       1936       1291       1139\n",
       "ENSG00000000457        535        614        653        625        522        686        614        557"
      ]
     },
     "execution_count": 14,
     "metadata": {},
     "output_type": "execute_result"
    }
   ],
   "source": [
    "# Load read counts\n",
    "\n",
    "infile = \"../preprocessed_data/transcriptome_data/transcriptomics_cell/htseq.tab\"\n",
    "\n",
    "counts_cells_raw = pd.read_csv(infile, sep=\"\\t\", header=0, index_col=0)\n",
    "\n",
    "print(counts_cells_raw.shape)\n",
    "counts_cells_raw.head()"
   ]
  },
  {
   "cell_type": "markdown",
   "metadata": {
    "Collapsed": "false"
   },
   "source": [
    "## Convert sample and gene names to match supernatant RNA"
   ]
  },
  {
   "cell_type": "code",
   "execution_count": 15,
   "metadata": {
    "Collapsed": "false"
   },
   "outputs": [],
   "source": [
    "## Convert sample names to match supernatant RNA\n",
    "\n",
    "columns_cells_to_supernatant = {\"L220420_1\": \"sFH14_1\",\n",
    "                                \"L220420_2\": \"sFH14_2\",\n",
    "                                \"L220420_3\": \"sFH14_3\",\n",
    "                                \"L220420_4\": \"sFH14_4\",\n",
    "                                \"L220420_5\": \"sFH14_5\",\n",
    "                                \"L220420_6\": \"sFH14_6\",\n",
    "                                \"L220420_7\": \"sFH14_7\",\n",
    "                                \"L220420_8\": \"sFH14_8\"}\n",
    "\n",
    "counts_cells_raw = counts_cells_raw.rename(columns_cells_to_supernatant, axis=1)"
   ]
  },
  {
   "cell_type": "code",
   "execution_count": 16,
   "metadata": {
    "Collapsed": "false"
   },
   "outputs": [],
   "source": [
    "# Convert gene names from Ensembl to symbols (actually symbol underscore Ensembl ID)\n",
    "\n",
    "df_ensembleToSymbol = pd.read_csv(\"../resources/Ensembl_to_symbol.csv\", header=0, index_col=0, sep=\",\")\n",
    "counts_cells_raw[\"symbol_ensembl\"] = df_ensembleToSymbol.loc[counts_cells_raw.index][\"symbol_ensembl\"]\n",
    "counts_cells_raw.set_index(\"symbol_ensembl\", inplace=True)"
   ]
  },
  {
   "cell_type": "markdown",
   "metadata": {
    "Collapsed": "false"
   },
   "source": [
    "## Drop genes that are not observed and ERCCs"
   ]
  },
  {
   "cell_type": "code",
   "execution_count": 17,
   "metadata": {
    "Collapsed": "false"
   },
   "outputs": [
    {
     "name": "stdout",
     "output_type": "stream",
     "text": [
      "(30882, 8)\n"
     ]
    },
    {
     "data": {
      "text/html": [
       "<div>\n",
       "<style scoped>\n",
       "    .dataframe tbody tr th:only-of-type {\n",
       "        vertical-align: middle;\n",
       "    }\n",
       "\n",
       "    .dataframe tbody tr th {\n",
       "        vertical-align: top;\n",
       "    }\n",
       "\n",
       "    .dataframe thead th {\n",
       "        text-align: right;\n",
       "    }\n",
       "</style>\n",
       "<table border=\"1\" class=\"dataframe\">\n",
       "  <thead>\n",
       "    <tr style=\"text-align: right;\">\n",
       "      <th></th>\n",
       "      <th>sFH14_1</th>\n",
       "      <th>sFH14_2</th>\n",
       "      <th>sFH14_3</th>\n",
       "      <th>sFH14_4</th>\n",
       "      <th>sFH14_5</th>\n",
       "      <th>sFH14_6</th>\n",
       "      <th>sFH14_7</th>\n",
       "      <th>sFH14_8</th>\n",
       "    </tr>\n",
       "    <tr>\n",
       "      <th>symbol_ensembl</th>\n",
       "      <th></th>\n",
       "      <th></th>\n",
       "      <th></th>\n",
       "      <th></th>\n",
       "      <th></th>\n",
       "      <th></th>\n",
       "      <th></th>\n",
       "      <th></th>\n",
       "    </tr>\n",
       "  </thead>\n",
       "  <tbody>\n",
       "    <tr>\n",
       "      <th>EGFP</th>\n",
       "      <td>198592</td>\n",
       "      <td>98788</td>\n",
       "      <td>93438</td>\n",
       "      <td>62364</td>\n",
       "      <td>0</td>\n",
       "      <td>0</td>\n",
       "      <td>0</td>\n",
       "      <td>0</td>\n",
       "    </tr>\n",
       "    <tr>\n",
       "      <th>TSPAN6_ENSG00000000003</th>\n",
       "      <td>2691</td>\n",
       "      <td>2615</td>\n",
       "      <td>2802</td>\n",
       "      <td>2800</td>\n",
       "      <td>2464</td>\n",
       "      <td>3358</td>\n",
       "      <td>3184</td>\n",
       "      <td>2991</td>\n",
       "    </tr>\n",
       "    <tr>\n",
       "      <th>TNMD_ENSG00000000005</th>\n",
       "      <td>7</td>\n",
       "      <td>2</td>\n",
       "      <td>8</td>\n",
       "      <td>7</td>\n",
       "      <td>5</td>\n",
       "      <td>8</td>\n",
       "      <td>10</td>\n",
       "      <td>11</td>\n",
       "    </tr>\n",
       "    <tr>\n",
       "      <th>DPM1_ENSG00000000419</th>\n",
       "      <td>1514</td>\n",
       "      <td>1543</td>\n",
       "      <td>1533</td>\n",
       "      <td>1536</td>\n",
       "      <td>1263</td>\n",
       "      <td>1936</td>\n",
       "      <td>1291</td>\n",
       "      <td>1139</td>\n",
       "    </tr>\n",
       "    <tr>\n",
       "      <th>SCYL3_ENSG00000000457</th>\n",
       "      <td>535</td>\n",
       "      <td>614</td>\n",
       "      <td>653</td>\n",
       "      <td>625</td>\n",
       "      <td>522</td>\n",
       "      <td>686</td>\n",
       "      <td>614</td>\n",
       "      <td>557</td>\n",
       "    </tr>\n",
       "  </tbody>\n",
       "</table>\n",
       "</div>"
      ],
      "text/plain": [
       "                        sFH14_1  sFH14_2  sFH14_3  sFH14_4  sFH14_5  sFH14_6  sFH14_7  sFH14_8\n",
       "symbol_ensembl                                                                                \n",
       "EGFP                     198592    98788    93438    62364        0        0        0        0\n",
       "TSPAN6_ENSG00000000003     2691     2615     2802     2800     2464     3358     3184     2991\n",
       "TNMD_ENSG00000000005          7        2        8        7        5        8       10       11\n",
       "DPM1_ENSG00000000419       1514     1543     1533     1536     1263     1936     1291     1139\n",
       "SCYL3_ENSG00000000457       535      614      653      625      522      686      614      557"
      ]
     },
     "execution_count": 17,
     "metadata": {},
     "output_type": "execute_result"
    }
   ],
   "source": [
    "# Drop genes that are not observed\n",
    "\n",
    "names_unmapped = ['__no_feature', '__ambiguous', '__too_low_aQual', '__not_aligned', '__alignment_not_unique']\n",
    "\n",
    "# Remove names of special genes that we want to not drop (STAR unmapped reads, ERCCs, transgenes)\n",
    "names_not_observed = counts_cells_raw.loc[counts_cells_raw.sum(axis=1) == 0].index  # names of genes that were never observed\n",
    "names_not_observed_clean = list(set(names_not_observed) - set(names_unmapped + names_ERCC + names_transgenes))  # remove names of special genes that we want to keep\n",
    "\n",
    "counts_cells_raw = counts_cells_raw.drop(names_not_observed_clean)  # drop genes\n",
    "\n",
    "print(counts_cells_raw.shape)\n",
    "counts_cells_raw.head()"
   ]
  },
  {
   "cell_type": "code",
   "execution_count": 18,
   "metadata": {
    "Collapsed": "false"
   },
   "outputs": [
    {
     "name": "stdout",
     "output_type": "stream",
     "text": [
      "(30790, 8)\n"
     ]
    }
   ],
   "source": [
    "# Drop ERCCs\n",
    "counts_cells_raw_NoERCC = counts_cells_raw.drop(names_ERCC)\n",
    "print(counts_cells_raw_NoERCC.shape)"
   ]
  },
  {
   "cell_type": "markdown",
   "metadata": {
    "Collapsed": "false"
   },
   "source": [
    "## Calculate log CPM"
   ]
  },
  {
   "cell_type": "code",
   "execution_count": 19,
   "metadata": {
    "Collapsed": "false"
   },
   "outputs": [
    {
     "name": "stdout",
     "output_type": "stream",
     "text": [
      "(30785, 8)\n"
     ]
    }
   ],
   "source": [
    "counts_cells_cpm = counts_cells_raw_NoERCC.copy()  # work with a copy of the counts, so we don't touch the raw counts\n",
    "\n",
    "# Drop symbols for mapping reporting\n",
    "counts_cells_cpm = counts_cells_cpm.drop(names_unmapped, axis=0)\n",
    "\n",
    "# Normalize by total read number\n",
    "counts_cells_cpm = counts_cells_cpm / counts_cells_cpm.sum(axis=0)\n",
    "\n",
    "# Multiply by 1e6 to get counts per million\n",
    "counts_cells_cpm = 1e6 * counts_cells_cpm\n",
    "\n",
    "print(counts_cells_cpm.shape)"
   ]
  },
  {
   "cell_type": "code",
   "execution_count": 20,
   "metadata": {
    "Collapsed": "false"
   },
   "outputs": [
    {
     "name": "stdout",
     "output_type": "stream",
     "text": [
      "(30785, 8)\n"
     ]
    }
   ],
   "source": [
    "# Add pseudocounts and log transform\n",
    "counts_cells_cpm_log2 = np.log2(counts_cells_cpm + 1)\n",
    "\n",
    "print(counts_cells_cpm_log2.shape)"
   ]
  },
  {
   "cell_type": "markdown",
   "metadata": {
    "Collapsed": "false"
   },
   "source": [
    "# Transform cell and supernatant counts to have matching gene labels"
   ]
  },
  {
   "cell_type": "code",
   "execution_count": 21,
   "metadata": {
    "Collapsed": "false"
   },
   "outputs": [
    {
     "name": "stdout",
     "output_type": "stream",
     "text": [
      "Supernatant (21152, 8)\n",
      "Cells (30785, 8)\n"
     ]
    }
   ],
   "source": [
    "print(\"Supernatant\", counts_cpm_log2.shape)\n",
    "print(\"Cells\", counts_cells_cpm_log2.shape)\n",
    "\n",
    "# Cells have more genes detected than supernatant.\n",
    "\n",
    "# Set index to union of gene sets to ensure that any label is found in both datasets."
   ]
  },
  {
   "cell_type": "code",
   "execution_count": 22,
   "metadata": {
    "Collapsed": "false"
   },
   "outputs": [
    {
     "name": "stdout",
     "output_type": "stream",
     "text": [
      "Intersection 20353\n",
      "Supernatant only 799\n",
      "Cells only 10432\n"
     ]
    }
   ],
   "source": [
    "names_intersection = list(set(counts_cpm_log2.index).intersection(set(counts_cells_cpm_log2.index)))\n",
    "n_intersection = len(names_intersection)\n",
    "\n",
    "print(\"Intersection\", n_intersection)\n",
    "print(\"Supernatant only\", counts_cpm_log2.shape[0] - n_intersection)\n",
    "print(\"Cells only\", counts_cells_cpm_log2.shape[0] - n_intersection)"
   ]
  },
  {
   "cell_type": "code",
   "execution_count": 23,
   "metadata": {
    "Collapsed": "false"
   },
   "outputs": [
    {
     "name": "stdout",
     "output_type": "stream",
     "text": [
      "(31584, 8)\n"
     ]
    }
   ],
   "source": [
    "# Add missing labels to cells\n",
    "\n",
    "names_supernatant_only = list(set(counts_cpm_log2.index) - set(counts_cells_cpm_log2.index))\n",
    "\n",
    "counts_cells_cpm_log2_filled = counts_cells_cpm_log2.append(pd.DataFrame(columns=counts_cells_cpm_log2.columns, index=names_supernatant_only))\n",
    "counts_cells_cpm_log2_filled = counts_cells_cpm_log2_filled.fillna(0)  # fill missing values with zero\n",
    "\n",
    "print(counts_cells_cpm_log2_filled.shape)"
   ]
  },
  {
   "cell_type": "code",
   "execution_count": 24,
   "metadata": {
    "Collapsed": "false"
   },
   "outputs": [
    {
     "name": "stdout",
     "output_type": "stream",
     "text": [
      "(31584, 8)\n"
     ]
    }
   ],
   "source": [
    "# Add missing labels to supernatant\n",
    "\n",
    "names_cells_only = list(set(counts_cells_cpm_log2.index) - set(counts_cpm_log2.index))\n",
    "\n",
    "counts_cpm_log2_filled = counts_cpm_log2.append(pd.DataFrame(columns=counts_cpm_log2.columns, index=names_cells_only))\n",
    "counts_cpm_log2_filled = counts_cpm_log2_filled.fillna(0)  # fill missing values with zero\n",
    "counts_cpm_log2_filled = counts_cpm_log2_filled.loc[counts_cells_cpm_log2_filled.index]  # sort values to be in the same order as cell dataframe\n",
    "\n",
    "print(counts_cpm_log2_filled.shape)"
   ]
  },
  {
   "cell_type": "markdown",
   "metadata": {
    "Collapsed": "false"
   },
   "source": [
    "# Calculate detection rate per expression level bin"
   ]
  },
  {
   "cell_type": "code",
   "execution_count": 25,
   "metadata": {
    "Collapsed": "false"
   },
   "outputs": [],
   "source": [
    "# Create bins of expression levels\n",
    "bins = [-1, 1, 2, 3, 4, 5, 6, 7, 8, 9, 10]  # Pool lowest bin also because of fluctuations due to few genes at 0 detection\n",
    "\n",
    "# Bin genes into expression levels\n",
    "genes_binned = pd.cut(counts_cells_cpm_log2_filled.mean(axis=1), bins=bins, labels=False)\n",
    "\n",
    "# Create dataframe\n",
    "det_rate = pd.DataFrame(columns=[\"lib\", \"bin\", \"n_genes\", \"mean_expr\", \"p\"])\n",
    "\n",
    "# Calculate detection rate in each expression bin\n",
    "for bin_label in sorted(genes_binned.unique())[::-1]:\n",
    "    \n",
    "    genes_binned_subset = genes_binned.loc[genes_binned == bin_label]\n",
    "    mean_expression_within_bin = counts_cells_cpm_log2_filled.loc[genes_binned_subset.index].mean(axis=0).mean()\n",
    "    \n",
    "    p_detection = (counts_cpm_log2_filled.loc[genes_binned_subset.index] > 1).mean(axis=0)\n",
    "    \n",
    "    for lib, p in zip(p_detection.index, p_detection.values):\n",
    "\n",
    "        data = {\"lib\": lib,\n",
    "                \"bin\": bin_label,\n",
    "                \"n_genes\": genes_binned_subset.shape[0],\n",
    "                \"mean_expr\": mean_expression_within_bin,\n",
    "                \"p\": p}\n",
    "\n",
    "        row = pd.Series(data)\n",
    "        det_rate = det_rate.append(row, ignore_index=True)"
   ]
  },
  {
   "cell_type": "code",
   "execution_count": 26,
   "metadata": {
    "Collapsed": "false"
   },
   "outputs": [],
   "source": [
    "# Annotate data\n",
    "\n",
    "det_rate[\"exporter\"] = det_rate[\"lib\"].map(sample_to_exporter)\n",
    "\n",
    "# Annotate with descriptive labels\n",
    "\n",
    "sample_to_exporter_label = {'sFH14_1': 'MMLV Gag',\n",
    "                             'sFH14_2': 'Gag-MCP',\n",
    "                             'sFH14_3': 'GagZip-MCP',\n",
    "                             'sFH14_4': 'EPN24-MCP',\n",
    "                             'sFH14_5': 'No exporter (mCh-Psi)',\n",
    "                             'sFH14_6': 'No exporter (mCh-MS2x8)',\n",
    "                             'sFH14_7': 'No exporter',\n",
    "                             'sFH14_8': 'WT'}\n",
    "\n",
    "det_rate[\"exporter_label\"] = det_rate[\"lib\"].map(sample_to_exporter_label)"
   ]
  },
  {
   "cell_type": "markdown",
   "metadata": {
    "Collapsed": "false"
   },
   "source": [
    "# Plot detection rate"
   ]
  },
  {
   "cell_type": "code",
   "execution_count": 27,
   "metadata": {
    "Collapsed": "false"
   },
   "outputs": [
    {
     "data": {
      "image/png": "[encoded data removed]",
      "text/plain": [
       "<Figure size 525x450 with 1 Axes>"
      ]
     },
     "metadata": {},
     "output_type": "display_data"
    }
   ],
   "source": [
    "# Plot detection rate as a function of expression level\n",
    "\n",
    "# Select subset of data\n",
    "libs_to_select = [\"sFH14_1\", \"sFH14_2\", \"sFH14_3\", \"sFH14_4\", \"sFH14_7\"]\n",
    "selector = det_rate[\"lib\"].isin(libs_to_select)\n",
    "data_subset = det_rate.loc[selector]\n",
    "\n",
    "# Set sample colors\n",
    "palette = [\"#90bd85\", \"#b1accc\", \"#e8ae2c\", \"#44adbf\", \"#83888a\"][::-1]\n",
    "\n",
    "# Reorder to bring exporters to front\n",
    "data_subset = data_subset.sort_values(by=\"lib\", ascending=False)\n",
    "\n",
    "# Plot\n",
    "\n",
    "fig, ax = plt.subplots(1, 1, figsize=(1.75,1.5))\n",
    "\n",
    "sns.lineplot(ax=ax,\n",
    "             data=data_subset,\n",
    "             x=\"mean_expr\",\n",
    "             y=\"p\",\n",
    "             hue=\"exporter_label\",\n",
    "             palette=palette,\n",
    "             marker=\"o\")\n",
    "\n",
    "ax.set_xlim(-0.2, 10)\n",
    "ax.set_ylim(-0.02, 1.05)\n",
    "\n",
    "ax.set_xlabel(\"Mean expression in cells (log2[CPM+1])\")\n",
    "ax.set_ylabel(\"Detection rate\\nin supernatant of genes\\nin expression level bin\")\n",
    "\n",
    "ax.set_yticks([0, 0.25, 0.5, 0.75, 1])\n",
    "ax.set_xticks([0, 2, 4, 6, 8, 10])\n",
    "# ax.set_xticklabels([0, ])\n",
    "\n",
    "ax.legend_.remove()\n",
    "handles, labels = ax.get_legend_handles_labels()\n",
    "fig.legend(handles[::-1], labels[::-1], loc=\"center left\", bbox_to_anchor=(1.35, 0.7), title=\"Exporter\")\n",
    "\n",
    "save_figure(fig, \"gene_detection_rate_by_expression_level_bin\")"
   ]
  },
  {
   "cell_type": "code",
   "execution_count": null,
   "metadata": {
    "Collapsed": "false"
   },
   "outputs": [],
   "source": []
  }
 ],
 "metadata": {
  "kernelspec": {
   "display_name": "RNA_export_magic",
   "language": "python",
   "name": "rna_export_magic"
  },
  "language_info": {
   "codemirror_mode": {
    "name": "ipython",
    "version": 3
   },
   "file_extension": ".py",
   "mimetype": "text/x-python",
   "name": "python",
   "nbconvert_exporter": "python",
   "pygments_lexer": "ipython3",
   "version": "3.7.7"
  }
 },
 "nbformat": 4,
 "nbformat_minor": 4
}
