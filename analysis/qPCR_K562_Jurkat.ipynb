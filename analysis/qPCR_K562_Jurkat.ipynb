{
 "cells": [
  {
   "cell_type": "markdown",
   "metadata": {
    "Collapsed": "false"
   },
   "source": [
    "# Plot qPCR to analyze export from K562 and Jurkat cells"
   ]
  },
  {
   "cell_type": "markdown",
   "metadata": {
    "Collapsed": "false",
    "toc-hr-collapsed": false
   },
   "source": [
    "# Introduction"
   ]
  },
  {
   "cell_type": "markdown",
   "metadata": {
    "Collapsed": "false"
   },
   "source": [
    "## Imports"
   ]
  },
  {
   "cell_type": "code",
   "execution_count": 1,
   "metadata": {
    "Collapsed": "false"
   },
   "outputs": [],
   "source": [
    "import sys\n",
    "import os\n",
    "import time\n",
    "\n",
    "import numpy as np\n",
    "import scipy\n",
    "import pandas as pd\n",
    "\n",
    "%matplotlib inline\n",
    "from matplotlib import pyplot as plt\n",
    "import matplotlib as mpl\n",
    "import seaborn as sns"
   ]
  },
  {
   "cell_type": "markdown",
   "metadata": {
    "Collapsed": "false"
   },
   "source": [
    "## Set output parameters"
   ]
  },
  {
   "cell_type": "code",
   "execution_count": 2,
   "metadata": {
    "Collapsed": "false"
   },
   "outputs": [],
   "source": [
    "# Set pandas display options\n",
    "pd.set_option('display.max_rows', 30)\n",
    "pd.set_option('display.max_columns', 100)\n",
    "pd.set_option('display.width', 1000)\n",
    "\n",
    "# Set plot display options\n",
    "FONTSIZE = 8  # universal fontsize\n",
    "params = {\n",
    "    'font.size': FONTSIZE,\n",
    "    'axes.titlesize': FONTSIZE,\n",
    "    'axes.labelsize': FONTSIZE,\n",
    "    'legend.fontsize': FONTSIZE,\n",
    "    'xtick.labelsize': FONTSIZE,\n",
    "    'ytick.labelsize': FONTSIZE,\n",
    "    'font.family': \"Helvetica\",\n",
    "    'mathtext.fontset': 'custom',\n",
    "    'pdf.fonttype': 42,\n",
    "    'ps.fonttype': 42,\n",
    "    'figure.dpi': 300\n",
    "   }\n",
    "mpl.rcParams.update(params)\n",
    "sns.set_style(\"ticks\", {'axes.grid' : False})\n",
    "\n",
    "# Set plot output options\n",
    "output_dir = \"outs/qPCR_K562_Jurkat\"\n",
    "output_suffix = \"\"\n",
    "output_formats = [\".png\", \".pdf\"]\n",
    "\n",
    "mpl.rc('savefig', dpi=300)\n",
    "\n",
    "# Define convenience function for saving figures\n",
    "\n",
    "savefig = True\n",
    "savefig_args = {\"dpi\": 300, \"bbox_inches\": \"tight\", \"pad_inches\": 0.1}\n",
    "\n",
    "def save_figure(fig, name, output_dir=output_dir, output_suffix=output_suffix, output_formats=output_formats, savefig_args=savefig_args):\n",
    "    if savefig:\n",
    "        for output_format in output_formats:\n",
    "            fig.savefig(output_dir + \"/\" + name + output_suffix + output_format, **savefig_args)\n",
    "    return None"
   ]
  },
  {
   "cell_type": "code",
   "execution_count": 3,
   "metadata": {
    "Collapsed": "false"
   },
   "outputs": [
    {
     "data": {
      "text/plain": [
       "{'font.size': 8.0,\n",
       " 'axes.labelsize': 8.0,\n",
       " 'axes.titlesize': 8.0,\n",
       " 'xtick.labelsize': 8.0,\n",
       " 'ytick.labelsize': 8.0,\n",
       " 'legend.fontsize': 8.0,\n",
       " 'legend.title_fontsize': None,\n",
       " 'axes.linewidth': 0.8,\n",
       " 'grid.linewidth': 0.8,\n",
       " 'lines.linewidth': 1.5,\n",
       " 'lines.markersize': 6.0,\n",
       " 'patch.linewidth': 1.0,\n",
       " 'xtick.major.width': 0.8,\n",
       " 'ytick.major.width': 0.8,\n",
       " 'xtick.minor.width': 0.6,\n",
       " 'ytick.minor.width': 0.6,\n",
       " 'xtick.major.size': 3.5,\n",
       " 'ytick.major.size': 3.5,\n",
       " 'xtick.minor.size': 2.0,\n",
       " 'ytick.minor.size': 2.0}"
      ]
     },
     "execution_count": 3,
     "metadata": {},
     "output_type": "execute_result"
    }
   ],
   "source": [
    "# Report plot parameters\n",
    "sns.plotting_context()"
   ]
  },
  {
   "cell_type": "markdown",
   "metadata": {
    "Collapsed": "false"
   },
   "source": [
    "# Load data"
   ]
  },
  {
   "cell_type": "markdown",
   "metadata": {
    "Collapsed": "false"
   },
   "source": [
    "## Load qPCR data"
   ]
  },
  {
   "cell_type": "code",
   "execution_count": 4,
   "metadata": {
    "Collapsed": "false"
   },
   "outputs": [
    {
     "name": "stdout",
     "output_type": "stream",
     "text": [
      "(37, 12)\n"
     ]
    },
    {
     "data": {
      "text/html": [
       "<div>\n",
       "<style scoped>\n",
       "    .dataframe tbody tr th:only-of-type {\n",
       "        vertical-align: middle;\n",
       "    }\n",
       "\n",
       "    .dataframe tbody tr th {\n",
       "        vertical-align: top;\n",
       "    }\n",
       "\n",
       "    .dataframe thead th {\n",
       "        text-align: right;\n",
       "    }\n",
       "</style>\n",
       "<table border=\"1\" class=\"dataframe\">\n",
       "  <thead>\n",
       "    <tr style=\"text-align: right;\">\n",
       "      <th></th>\n",
       "      <th>Well</th>\n",
       "      <th>Fluor</th>\n",
       "      <th>Target</th>\n",
       "      <th>Content</th>\n",
       "      <th>Biological Set Name</th>\n",
       "      <th>Cq</th>\n",
       "      <th>Cq Mean</th>\n",
       "      <th>Cq Std. Dev</th>\n",
       "      <th>Starting Quantity (SQ)</th>\n",
       "      <th>Log Starting Quantity</th>\n",
       "      <th>SQ Mean</th>\n",
       "      <th>SQ Std. Dev</th>\n",
       "    </tr>\n",
       "    <tr>\n",
       "      <th>Sample</th>\n",
       "      <th></th>\n",
       "      <th></th>\n",
       "      <th></th>\n",
       "      <th></th>\n",
       "      <th></th>\n",
       "      <th></th>\n",
       "      <th></th>\n",
       "      <th></th>\n",
       "      <th></th>\n",
       "      <th></th>\n",
       "      <th></th>\n",
       "      <th></th>\n",
       "    </tr>\n",
       "  </thead>\n",
       "  <tbody>\n",
       "    <tr>\n",
       "      <th>41-1</th>\n",
       "      <td>D01</td>\n",
       "      <td>SYBR</td>\n",
       "      <td>mCherry</td>\n",
       "      <td>Unkn-13</td>\n",
       "      <td>NaN</td>\n",
       "      <td>24.211914</td>\n",
       "      <td>24.302075</td>\n",
       "      <td>0.346141</td>\n",
       "      <td>549.122624</td>\n",
       "      <td>2.739669</td>\n",
       "      <td>523.418717</td>\n",
       "      <td>138.268056</td>\n",
       "    </tr>\n",
       "    <tr>\n",
       "      <th>41-2</th>\n",
       "      <td>D02</td>\n",
       "      <td>SYBR</td>\n",
       "      <td>mCherry</td>\n",
       "      <td>Unkn-14</td>\n",
       "      <td>NaN</td>\n",
       "      <td>24.297426</td>\n",
       "      <td>24.592250</td>\n",
       "      <td>0.336659</td>\n",
       "      <td>512.273209</td>\n",
       "      <td>2.709502</td>\n",
       "      <td>413.004239</td>\n",
       "      <td>107.231477</td>\n",
       "    </tr>\n",
       "    <tr>\n",
       "      <th>41-3</th>\n",
       "      <td>D03</td>\n",
       "      <td>SYBR</td>\n",
       "      <td>mCherry</td>\n",
       "      <td>Unkn-15</td>\n",
       "      <td>NaN</td>\n",
       "      <td>22.397495</td>\n",
       "      <td>22.280381</td>\n",
       "      <td>0.112231</td>\n",
       "      <td>2397.602508</td>\n",
       "      <td>3.379777</td>\n",
       "      <td>2644.180981</td>\n",
       "      <td>239.285952</td>\n",
       "    </tr>\n",
       "    <tr>\n",
       "      <th>41-4</th>\n",
       "      <td>D04</td>\n",
       "      <td>SYBR</td>\n",
       "      <td>mCherry</td>\n",
       "      <td>Unkn-16</td>\n",
       "      <td>NaN</td>\n",
       "      <td>24.648649</td>\n",
       "      <td>24.412790</td>\n",
       "      <td>0.212585</td>\n",
       "      <td>385.118120</td>\n",
       "      <td>2.585594</td>\n",
       "      <td>470.992676</td>\n",
       "      <td>78.324721</td>\n",
       "    </tr>\n",
       "    <tr>\n",
       "      <th>41-5</th>\n",
       "      <td>D05</td>\n",
       "      <td>SYBR</td>\n",
       "      <td>mCherry</td>\n",
       "      <td>Unkn-17</td>\n",
       "      <td>NaN</td>\n",
       "      <td>31.018983</td>\n",
       "      <td>30.767503</td>\n",
       "      <td>0.355647</td>\n",
       "      <td>2.178750</td>\n",
       "      <td>0.338207</td>\n",
       "      <td>2.728516</td>\n",
       "      <td>0.777487</td>\n",
       "    </tr>\n",
       "  </tbody>\n",
       "</table>\n",
       "</div>"
      ],
      "text/plain": [
       "       Well Fluor   Target  Content  Biological Set Name         Cq    Cq Mean  Cq Std. Dev  Starting Quantity (SQ)  Log Starting Quantity      SQ Mean  SQ Std. Dev\n",
       "Sample                                                                                                                                                              \n",
       "41-1    D01  SYBR  mCherry  Unkn-13                  NaN  24.211914  24.302075     0.346141              549.122624               2.739669   523.418717   138.268056\n",
       "41-2    D02  SYBR  mCherry  Unkn-14                  NaN  24.297426  24.592250     0.336659              512.273209               2.709502   413.004239   107.231477\n",
       "41-3    D03  SYBR  mCherry  Unkn-15                  NaN  22.397495  22.280381     0.112231             2397.602508               3.379777  2644.180981   239.285952\n",
       "41-4    D04  SYBR  mCherry  Unkn-16                  NaN  24.648649  24.412790     0.212585              385.118120               2.585594   470.992676    78.324721\n",
       "41-5    D05  SYBR  mCherry  Unkn-17                  NaN  31.018983  30.767503     0.355647                2.178750               0.338207     2.728516     0.777487"
      ]
     },
     "execution_count": 4,
     "metadata": {},
     "output_type": "execute_result"
    }
   ],
   "source": [
    "infile = \"../preprocessed_data/qPCR_data/qPCR_K562_Jurkat_Cq.csv\"\n",
    "\n",
    "cq_raw = pd.read_csv(infile, header=0)\n",
    "\n",
    "columns_to_drop = [\"Unnamed: 0\", \"Well Note\", \"Set Point\"]\n",
    "cq_raw.drop(columns_to_drop, axis=1, inplace=True)\n",
    "\n",
    "cq_raw = cq_raw.set_index(\"Sample\")\n",
    "samples_to_keep = [\"41-\" + str(x) for x in range(1,13)] + [\"NTC\"]\n",
    "cq_raw = cq_raw.drop(list(set(cq_raw.index) - set(samples_to_keep)))\n",
    "\n",
    "print(cq_raw.shape)\n",
    "cq_raw.head()"
   ]
  },
  {
   "cell_type": "markdown",
   "metadata": {
    "Collapsed": "false"
   },
   "source": [
    "# Preprocess data"
   ]
  },
  {
   "cell_type": "markdown",
   "metadata": {
    "Collapsed": "false"
   },
   "source": [
    "## Calculate total starting molecules"
   ]
  },
  {
   "cell_type": "code",
   "execution_count": 5,
   "metadata": {
    "Collapsed": "false"
   },
   "outputs": [],
   "source": [
    "# Calculate normalization for input volume\n",
    "DILUTION_FACTORS = (200/140) * (42/20) * (61/10) * (20/1)"
   ]
  },
  {
   "cell_type": "code",
   "execution_count": 6,
   "metadata": {
    "Collapsed": "false"
   },
   "outputs": [],
   "source": [
    "# Back-calculate input RNA molecules, given <100% efficiency of extraction, DNase, RT, as measured based on RNA standard\n",
    "\n",
    "PROTOCOL_EFFICIENCY = 0.005957820738  # Efficiency of extraction, DNase, RT"
   ]
  },
  {
   "cell_type": "code",
   "execution_count": 7,
   "metadata": {
    "Collapsed": "false"
   },
   "outputs": [],
   "source": [
    "# Calculate total RNA molecules in supernatant\n",
    "cq_raw[\"RNA molecules\"] = cq_raw[\"Starting Quantity (SQ)\"] * DILUTION_FACTORS * (1/PROTOCOL_EFFICIENCY)\n",
    "cq_raw[\"RNA molecules Mean\"] = cq_raw[\"SQ Mean\"] * DILUTION_FACTORS * (1/PROTOCOL_EFFICIENCY)\n",
    "cq_raw[\"RNA molecules STD\"] = cq_raw[\"SQ Std. Dev\"] * DILUTION_FACTORS * (1/PROTOCOL_EFFICIENCY)"
   ]
  },
  {
   "cell_type": "markdown",
   "metadata": {
    "Collapsed": "false"
   },
   "source": [
    "## Censor by lower limit of quantification"
   ]
  },
  {
   "cell_type": "code",
   "execution_count": 8,
   "metadata": {
    "Collapsed": "false"
   },
   "outputs": [],
   "source": [
    "cq_raw[\"RNA molecules censored\"] = cq_raw[\"RNA molecules\"]"
   ]
  },
  {
   "cell_type": "code",
   "execution_count": 9,
   "metadata": {
    "Collapsed": "false"
   },
   "outputs": [
    {
     "name": "stdout",
     "output_type": "stream",
     "text": [
      "Lower limit of quantification: 834852.1227994205\n"
     ]
    }
   ],
   "source": [
    "# Lower limit of quantification is set based on maximum signal from negative control (NTC) wells.\n",
    "\n",
    "LOD = cq_raw.loc[\"NTC\", \"RNA molecules\"].max()\n",
    "\n",
    "print(\"Lower limit of quantification:\", LOD)"
   ]
  },
  {
   "cell_type": "code",
   "execution_count": 10,
   "metadata": {
    "Collapsed": "false"
   },
   "outputs": [],
   "source": [
    "# Censor by setting samples with values less than LOD to LOD\n",
    "samples_subset = [\"41-1\", \"41-2\", \"41-3\", \"41-4\", \"41-5\", \"41-6\"]\n",
    "selector = (cq_raw[\"RNA molecules\"] < LOD) & (cq_raw.index.isin(samples_subset))\n",
    "cq_raw.loc[selector, \"RNA molecules censored\"] = LOD"
   ]
  },
  {
   "cell_type": "code",
   "execution_count": 11,
   "metadata": {
    "Collapsed": "false"
   },
   "outputs": [],
   "source": [
    "# Censor by setting samples with values less than LOD to LOD\n",
    "samples_subset = [\"41-7\", \"41-8\", \"41-9\", \"41-10\", \"41-11\", \"41-12\"]\n",
    "selector = (cq_raw[\"RNA molecules\"] < LOD) & (cq_raw.index.isin(samples_subset))\n",
    "cq_raw.loc[selector, \"RNA molecules censored\"] = LOD"
   ]
  },
  {
   "cell_type": "markdown",
   "metadata": {
    "Collapsed": "false"
   },
   "source": [
    "## Summarize replicates"
   ]
  },
  {
   "cell_type": "code",
   "execution_count": 12,
   "metadata": {
    "Collapsed": "false"
   },
   "outputs": [
    {
     "data": {
      "text/html": [
       "<div>\n",
       "<style scoped>\n",
       "    .dataframe tbody tr th:only-of-type {\n",
       "        vertical-align: middle;\n",
       "    }\n",
       "\n",
       "    .dataframe tbody tr th {\n",
       "        vertical-align: top;\n",
       "    }\n",
       "\n",
       "    .dataframe thead th {\n",
       "        text-align: right;\n",
       "    }\n",
       "</style>\n",
       "<table border=\"1\" class=\"dataframe\">\n",
       "  <thead>\n",
       "    <tr style=\"text-align: right;\">\n",
       "      <th></th>\n",
       "      <th>mean SQ</th>\n",
       "      <th>std SQ</th>\n",
       "      <th>RNA molecules</th>\n",
       "      <th>RNA molecules STD</th>\n",
       "      <th>RNA molecules censored</th>\n",
       "    </tr>\n",
       "    <tr>\n",
       "      <th>Sample</th>\n",
       "      <th></th>\n",
       "      <th></th>\n",
       "      <th></th>\n",
       "      <th></th>\n",
       "      <th></th>\n",
       "    </tr>\n",
       "  </thead>\n",
       "  <tbody>\n",
       "    <tr>\n",
       "      <th>41-1</th>\n",
       "      <td>523.418717</td>\n",
       "      <td>138.268056</td>\n",
       "      <td>3.215458e+07</td>\n",
       "      <td>8.494064e+06</td>\n",
       "      <td>3.215458e+07</td>\n",
       "    </tr>\n",
       "    <tr>\n",
       "      <th>41-10</th>\n",
       "      <td>20.863446</td>\n",
       "      <td>15.365375</td>\n",
       "      <td>1.281680e+06</td>\n",
       "      <td>9.439236e+05</td>\n",
       "      <td>1.391994e+06</td>\n",
       "    </tr>\n",
       "    <tr>\n",
       "      <th>41-11</th>\n",
       "      <td>2.403720</td>\n",
       "      <td>0.503951</td>\n",
       "      <td>1.476650e+05</td>\n",
       "      <td>3.095867e+04</td>\n",
       "      <td>8.348521e+05</td>\n",
       "    </tr>\n",
       "    <tr>\n",
       "      <th>41-12</th>\n",
       "      <td>13.025423</td>\n",
       "      <td>5.909396</td>\n",
       "      <td>8.001759e+05</td>\n",
       "      <td>3.630252e+05</td>\n",
       "      <td>9.506866e+05</td>\n",
       "    </tr>\n",
       "    <tr>\n",
       "      <th>41-2</th>\n",
       "      <td>413.004239</td>\n",
       "      <td>107.231477</td>\n",
       "      <td>2.537162e+07</td>\n",
       "      <td>6.587429e+06</td>\n",
       "      <td>2.537162e+07</td>\n",
       "    </tr>\n",
       "    <tr>\n",
       "      <th>41-3</th>\n",
       "      <td>2644.180981</td>\n",
       "      <td>239.285952</td>\n",
       "      <td>1.624370e+08</td>\n",
       "      <td>1.469978e+07</td>\n",
       "      <td>1.624370e+08</td>\n",
       "    </tr>\n",
       "    <tr>\n",
       "      <th>41-4</th>\n",
       "      <td>470.992676</td>\n",
       "      <td>78.324721</td>\n",
       "      <td>2.893396e+07</td>\n",
       "      <td>4.811633e+06</td>\n",
       "      <td>2.893396e+07</td>\n",
       "    </tr>\n",
       "    <tr>\n",
       "      <th>41-5</th>\n",
       "      <td>2.728516</td>\n",
       "      <td>0.777487</td>\n",
       "      <td>1.676178e+05</td>\n",
       "      <td>4.776249e+04</td>\n",
       "      <td>8.348521e+05</td>\n",
       "    </tr>\n",
       "    <tr>\n",
       "      <th>41-6</th>\n",
       "      <td>26.625962</td>\n",
       "      <td>2.787486</td>\n",
       "      <td>1.635682e+06</td>\n",
       "      <td>1.712404e+05</td>\n",
       "      <td>1.635682e+06</td>\n",
       "    </tr>\n",
       "    <tr>\n",
       "      <th>41-7</th>\n",
       "      <td>190.983280</td>\n",
       "      <td>76.234122</td>\n",
       "      <td>1.173246e+07</td>\n",
       "      <td>4.683204e+06</td>\n",
       "      <td>1.173246e+07</td>\n",
       "    </tr>\n",
       "    <tr>\n",
       "      <th>41-8</th>\n",
       "      <td>20.838672</td>\n",
       "      <td>1.577895</td>\n",
       "      <td>1.280158e+06</td>\n",
       "      <td>9.693302e+04</td>\n",
       "      <td>1.280158e+06</td>\n",
       "    </tr>\n",
       "    <tr>\n",
       "      <th>41-9</th>\n",
       "      <td>17.158003</td>\n",
       "      <td>8.761131</td>\n",
       "      <td>1.054048e+06</td>\n",
       "      <td>5.382126e+05</td>\n",
       "      <td>1.134737e+06</td>\n",
       "    </tr>\n",
       "    <tr>\n",
       "      <th>NTC</th>\n",
       "      <td>3.570313</td>\n",
       "      <td>4.373608</td>\n",
       "      <td>2.193310e+05</td>\n",
       "      <td>2.686788e+05</td>\n",
       "      <td>2.193310e+05</td>\n",
       "    </tr>\n",
       "  </tbody>\n",
       "</table>\n",
       "</div>"
      ],
      "text/plain": [
       "            mean SQ      std SQ  RNA molecules  RNA molecules STD  RNA molecules censored\n",
       "Sample                                                                                   \n",
       "41-1     523.418717  138.268056   3.215458e+07       8.494064e+06            3.215458e+07\n",
       "41-10     20.863446   15.365375   1.281680e+06       9.439236e+05            1.391994e+06\n",
       "41-11      2.403720    0.503951   1.476650e+05       3.095867e+04            8.348521e+05\n",
       "41-12     13.025423    5.909396   8.001759e+05       3.630252e+05            9.506866e+05\n",
       "41-2     413.004239  107.231477   2.537162e+07       6.587429e+06            2.537162e+07\n",
       "41-3    2644.180981  239.285952   1.624370e+08       1.469978e+07            1.624370e+08\n",
       "41-4     470.992676   78.324721   2.893396e+07       4.811633e+06            2.893396e+07\n",
       "41-5       2.728516    0.777487   1.676178e+05       4.776249e+04            8.348521e+05\n",
       "41-6      26.625962    2.787486   1.635682e+06       1.712404e+05            1.635682e+06\n",
       "41-7     190.983280   76.234122   1.173246e+07       4.683204e+06            1.173246e+07\n",
       "41-8      20.838672    1.577895   1.280158e+06       9.693302e+04            1.280158e+06\n",
       "41-9      17.158003    8.761131   1.054048e+06       5.382126e+05            1.134737e+06\n",
       "NTC        3.570313    4.373608   2.193310e+05       2.686788e+05            2.193310e+05"
      ]
     },
     "execution_count": 12,
     "metadata": {},
     "output_type": "execute_result"
    }
   ],
   "source": [
    "groups = cq_raw.groupby([\"Sample\"])  # group samples by origin\n",
    "\n",
    "summary = pd.DataFrame()\n",
    "\n",
    "summary[\"mean SQ\"] = groups[\"Starting Quantity (SQ)\"].mean()  # Calculate mean over replicates\n",
    "summary[\"std SQ\"] = groups[\"Starting Quantity (SQ)\"].std()  # Calculate mean over replicates\n",
    "\n",
    "summary[\"RNA molecules\"] = groups[\"RNA molecules\"].mean()\n",
    "summary[\"RNA molecules STD\"] = groups[\"RNA molecules STD\"].mean()\n",
    "\n",
    "summary[\"RNA molecules censored\"] = groups[\"RNA molecules censored\"].mean()\n",
    "summary[\"RNA molecules STD\"] = groups[\"RNA molecules STD\"].mean()\n",
    "\n",
    "summary"
   ]
  },
  {
   "cell_type": "markdown",
   "metadata": {
    "Collapsed": "false"
   },
   "source": [
    "# Visualize RNA export by K562"
   ]
  },
  {
   "cell_type": "code",
   "execution_count": 13,
   "metadata": {
    "Collapsed": "false"
   },
   "outputs": [],
   "source": [
    "# Choose samples\n",
    "index_ordered = [\"41-1\", \"41-2\", \"41-3\", \"41-5\"]"
   ]
  },
  {
   "cell_type": "code",
   "execution_count": 14,
   "metadata": {
    "Collapsed": "false"
   },
   "outputs": [
    {
     "name": "stdout",
     "output_type": "stream",
     "text": [
      "(4, 5)\n"
     ]
    },
    {
     "data": {
      "text/html": [
       "<div>\n",
       "<style scoped>\n",
       "    .dataframe tbody tr th:only-of-type {\n",
       "        vertical-align: middle;\n",
       "    }\n",
       "\n",
       "    .dataframe tbody tr th {\n",
       "        vertical-align: top;\n",
       "    }\n",
       "\n",
       "    .dataframe thead th {\n",
       "        text-align: right;\n",
       "    }\n",
       "</style>\n",
       "<table border=\"1\" class=\"dataframe\">\n",
       "  <thead>\n",
       "    <tr style=\"text-align: right;\">\n",
       "      <th></th>\n",
       "      <th>mean SQ</th>\n",
       "      <th>std SQ</th>\n",
       "      <th>RNA molecules</th>\n",
       "      <th>RNA molecules STD</th>\n",
       "      <th>RNA molecules censored</th>\n",
       "    </tr>\n",
       "    <tr>\n",
       "      <th>Sample</th>\n",
       "      <th></th>\n",
       "      <th></th>\n",
       "      <th></th>\n",
       "      <th></th>\n",
       "      <th></th>\n",
       "    </tr>\n",
       "  </thead>\n",
       "  <tbody>\n",
       "    <tr>\n",
       "      <th>41-1</th>\n",
       "      <td>523.418717</td>\n",
       "      <td>138.268056</td>\n",
       "      <td>3.215458e+07</td>\n",
       "      <td>8.494064e+06</td>\n",
       "      <td>3.215458e+07</td>\n",
       "    </tr>\n",
       "    <tr>\n",
       "      <th>41-2</th>\n",
       "      <td>413.004239</td>\n",
       "      <td>107.231477</td>\n",
       "      <td>2.537162e+07</td>\n",
       "      <td>6.587429e+06</td>\n",
       "      <td>2.537162e+07</td>\n",
       "    </tr>\n",
       "    <tr>\n",
       "      <th>41-3</th>\n",
       "      <td>2644.180981</td>\n",
       "      <td>239.285952</td>\n",
       "      <td>1.624370e+08</td>\n",
       "      <td>1.469978e+07</td>\n",
       "      <td>1.624370e+08</td>\n",
       "    </tr>\n",
       "    <tr>\n",
       "      <th>41-5</th>\n",
       "      <td>2.728516</td>\n",
       "      <td>0.777487</td>\n",
       "      <td>1.676178e+05</td>\n",
       "      <td>4.776249e+04</td>\n",
       "      <td>8.348521e+05</td>\n",
       "    </tr>\n",
       "  </tbody>\n",
       "</table>\n",
       "</div>"
      ],
      "text/plain": [
       "            mean SQ      std SQ  RNA molecules  RNA molecules STD  RNA molecules censored\n",
       "Sample                                                                                   \n",
       "41-1     523.418717  138.268056   3.215458e+07       8.494064e+06            3.215458e+07\n",
       "41-2     413.004239  107.231477   2.537162e+07       6.587429e+06            2.537162e+07\n",
       "41-3    2644.180981  239.285952   1.624370e+08       1.469978e+07            1.624370e+08\n",
       "41-5       2.728516    0.777487   1.676178e+05       4.776249e+04            8.348521e+05"
      ]
     },
     "execution_count": 14,
     "metadata": {},
     "output_type": "execute_result"
    }
   ],
   "source": [
    "# Get data of summary across replicates of selected wells\n",
    "summary_subset = summary.loc[index_ordered]\n",
    "\n",
    "print(summary_subset.shape)\n",
    "summary_subset"
   ]
  },
  {
   "cell_type": "code",
   "execution_count": 15,
   "metadata": {
    "Collapsed": "false"
   },
   "outputs": [
    {
     "name": "stdout",
     "output_type": "stream",
     "text": [
      "(11, 17)\n"
     ]
    },
    {
     "data": {
      "text/html": [
       "<div>\n",
       "<style scoped>\n",
       "    .dataframe tbody tr th:only-of-type {\n",
       "        vertical-align: middle;\n",
       "    }\n",
       "\n",
       "    .dataframe tbody tr th {\n",
       "        vertical-align: top;\n",
       "    }\n",
       "\n",
       "    .dataframe thead th {\n",
       "        text-align: right;\n",
       "    }\n",
       "</style>\n",
       "<table border=\"1\" class=\"dataframe\">\n",
       "  <thead>\n",
       "    <tr style=\"text-align: right;\">\n",
       "      <th></th>\n",
       "      <th>Sample</th>\n",
       "      <th>Well</th>\n",
       "      <th>Fluor</th>\n",
       "      <th>Target</th>\n",
       "      <th>Content</th>\n",
       "      <th>Biological Set Name</th>\n",
       "      <th>Cq</th>\n",
       "      <th>Cq Mean</th>\n",
       "      <th>Cq Std. Dev</th>\n",
       "      <th>Starting Quantity (SQ)</th>\n",
       "      <th>Log Starting Quantity</th>\n",
       "      <th>SQ Mean</th>\n",
       "      <th>SQ Std. Dev</th>\n",
       "      <th>RNA molecules</th>\n",
       "      <th>RNA molecules Mean</th>\n",
       "      <th>RNA molecules STD</th>\n",
       "      <th>RNA molecules censored</th>\n",
       "    </tr>\n",
       "  </thead>\n",
       "  <tbody>\n",
       "    <tr>\n",
       "      <th>0</th>\n",
       "      <td>41-1</td>\n",
       "      <td>D01</td>\n",
       "      <td>SYBR</td>\n",
       "      <td>mCherry</td>\n",
       "      <td>Unkn-13</td>\n",
       "      <td>NaN</td>\n",
       "      <td>24.211914</td>\n",
       "      <td>24.302075</td>\n",
       "      <td>0.346141</td>\n",
       "      <td>549.122624</td>\n",
       "      <td>2.739669</td>\n",
       "      <td>523.418717</td>\n",
       "      <td>138.268056</td>\n",
       "      <td>3.373362e+07</td>\n",
       "      <td>3.215458e+07</td>\n",
       "      <td>8.494064e+06</td>\n",
       "      <td>3.373362e+07</td>\n",
       "    </tr>\n",
       "    <tr>\n",
       "      <th>1</th>\n",
       "      <td>41-2</td>\n",
       "      <td>D02</td>\n",
       "      <td>SYBR</td>\n",
       "      <td>mCherry</td>\n",
       "      <td>Unkn-14</td>\n",
       "      <td>NaN</td>\n",
       "      <td>24.297426</td>\n",
       "      <td>24.592250</td>\n",
       "      <td>0.336659</td>\n",
       "      <td>512.273209</td>\n",
       "      <td>2.709502</td>\n",
       "      <td>413.004239</td>\n",
       "      <td>107.231477</td>\n",
       "      <td>3.146990e+07</td>\n",
       "      <td>2.537162e+07</td>\n",
       "      <td>6.587429e+06</td>\n",
       "      <td>3.146990e+07</td>\n",
       "    </tr>\n",
       "    <tr>\n",
       "      <th>2</th>\n",
       "      <td>41-3</td>\n",
       "      <td>D03</td>\n",
       "      <td>SYBR</td>\n",
       "      <td>mCherry</td>\n",
       "      <td>Unkn-15</td>\n",
       "      <td>NaN</td>\n",
       "      <td>22.397495</td>\n",
       "      <td>22.280381</td>\n",
       "      <td>0.112231</td>\n",
       "      <td>2397.602508</td>\n",
       "      <td>3.379777</td>\n",
       "      <td>2644.180981</td>\n",
       "      <td>239.285952</td>\n",
       "      <td>1.472892e+08</td>\n",
       "      <td>1.624370e+08</td>\n",
       "      <td>1.469978e+07</td>\n",
       "      <td>1.472892e+08</td>\n",
       "    </tr>\n",
       "    <tr>\n",
       "      <th>3</th>\n",
       "      <td>41-5</td>\n",
       "      <td>D05</td>\n",
       "      <td>SYBR</td>\n",
       "      <td>mCherry</td>\n",
       "      <td>Unkn-17</td>\n",
       "      <td>NaN</td>\n",
       "      <td>31.018983</td>\n",
       "      <td>30.767503</td>\n",
       "      <td>0.355647</td>\n",
       "      <td>2.178750</td>\n",
       "      <td>0.338207</td>\n",
       "      <td>2.728516</td>\n",
       "      <td>0.777487</td>\n",
       "      <td>1.338446e+05</td>\n",
       "      <td>1.676178e+05</td>\n",
       "      <td>4.776249e+04</td>\n",
       "      <td>8.348521e+05</td>\n",
       "    </tr>\n",
       "    <tr>\n",
       "      <th>4</th>\n",
       "      <td>41-1</td>\n",
       "      <td>E01</td>\n",
       "      <td>SYBR</td>\n",
       "      <td>mCherry</td>\n",
       "      <td>Unkn-13</td>\n",
       "      <td>NaN</td>\n",
       "      <td>24.009936</td>\n",
       "      <td>24.302075</td>\n",
       "      <td>0.346141</td>\n",
       "      <td>647.031181</td>\n",
       "      <td>2.810925</td>\n",
       "      <td>523.418717</td>\n",
       "      <td>138.268056</td>\n",
       "      <td>3.974833e+07</td>\n",
       "      <td>3.215458e+07</td>\n",
       "      <td>8.494064e+06</td>\n",
       "      <td>3.974833e+07</td>\n",
       "    </tr>\n",
       "  </tbody>\n",
       "</table>\n",
       "</div>"
      ],
      "text/plain": [
       "  Sample Well Fluor   Target  Content  Biological Set Name         Cq    Cq Mean  Cq Std. Dev  Starting Quantity (SQ)  Log Starting Quantity      SQ Mean  SQ Std. Dev  RNA molecules  RNA molecules Mean  RNA molecules STD  RNA molecules censored\n",
       "0   41-1  D01  SYBR  mCherry  Unkn-13                  NaN  24.211914  24.302075     0.346141              549.122624               2.739669   523.418717   138.268056   3.373362e+07        3.215458e+07       8.494064e+06            3.373362e+07\n",
       "1   41-2  D02  SYBR  mCherry  Unkn-14                  NaN  24.297426  24.592250     0.336659              512.273209               2.709502   413.004239   107.231477   3.146990e+07        2.537162e+07       6.587429e+06            3.146990e+07\n",
       "2   41-3  D03  SYBR  mCherry  Unkn-15                  NaN  22.397495  22.280381     0.112231             2397.602508               3.379777  2644.180981   239.285952   1.472892e+08        1.624370e+08       1.469978e+07            1.472892e+08\n",
       "3   41-5  D05  SYBR  mCherry  Unkn-17                  NaN  31.018983  30.767503     0.355647                2.178750               0.338207     2.728516     0.777487   1.338446e+05        1.676178e+05       4.776249e+04            8.348521e+05\n",
       "4   41-1  E01  SYBR  mCherry  Unkn-13                  NaN  24.009936  24.302075     0.346141              647.031181               2.810925   523.418717   138.268056   3.974833e+07        3.215458e+07       8.494064e+06            3.974833e+07"
      ]
     },
     "execution_count": 15,
     "metadata": {},
     "output_type": "execute_result"
    }
   ],
   "source": [
    "# Get data of replicates of selected wells\n",
    "\n",
    "selector = cq_raw.index.isin(summary_subset.index)\n",
    "data = cq_raw.loc[selector]\n",
    "\n",
    "data = data.reset_index()\n",
    "\n",
    "print(data.shape)\n",
    "data.head()"
   ]
  },
  {
   "cell_type": "code",
   "execution_count": 16,
   "metadata": {
    "Collapsed": "false"
   },
   "outputs": [
    {
     "name": "stderr",
     "output_type": "stream",
     "text": [
      "findfont: Font family ['cursive'] not found. Falling back to DejaVu Sans.\n"
     ]
    },
    {
     "data": {
      "image/png": "[encoded data removed]",
      "text/plain": [
       "<Figure size 300x450 with 1 Axes>"
      ]
     },
     "metadata": {},
     "output_type": "display_data"
    }
   ],
   "source": [
    "# Make simple bar plot, horizontal\n",
    "\n",
    "field = \"RNA molecules censored\"\n",
    "\n",
    "palette = [\"#b1accc\", \"#a3e8f1\", \"#44adbf\", \"#83888a\"]  # set color of bars\n",
    "\n",
    "fig, ax = plt.subplots(1, 1, figsize=(1., 1.5))\n",
    "\n",
    "# Set axis scaling - must be done first so swarm plot dots do not overlap\n",
    "ax.set_yscale(\"log\")\n",
    "ax.set_ylim(1e5, 1e9)\n",
    "\n",
    "# Plot summary\n",
    "\n",
    "y = summary_subset[field]\n",
    "x = np.arange(len(y))\n",
    "\n",
    "sns.barplot(ax=ax, x=x, y=y, palette=palette, lw=0.5, edgecolor=\"#010101\")\n",
    "\n",
    "# Plot individual points as swarm (sort columns appropriately)\n",
    "sample_to_rank = dict(zip(index_ordered, range(len(index_ordered))))\n",
    "data[\"rank\"] = [sample_to_rank[s] for s in data[\"Sample\"]]\n",
    "data = data.sort_values(by=\"rank\")\n",
    "\n",
    "y_swarm = data[field]\n",
    "x_swarm = np.array([x[rank] for rank in data[\"rank\"]])\n",
    "\n",
    "x_offset = np.array([-0.25, 0, 0.25])  # jitter offsets to avoid operlaps\n",
    "x_swarm_offset = x_swarm + np.array(list(np.tile(x_offset, int(len(x_swarm)/len(x_offset)))) + [-0.25, 0])\n",
    "\n",
    "# Color by replicate well\n",
    "ax.scatter(x_swarm_offset, y_swarm, color=\"#474a4b\", edgecolor=\"#010101\", linewidths=0.25, s=10, zorder=10)\n",
    "\n",
    "ax.set_xlim(min(x)-0.5, max(x)+0.5)\n",
    "\n",
    "ax.set_xlabel(\"\")\n",
    "ax.set_ylabel(\"Reporter RNA molecules\\nin supernatant\", labelpad=6)\n",
    "\n",
    "ax.set_xticks([0, 1, 2, 3])\n",
    "xticklabels = [\"Gag-MCP\", \"EPN11-MCP\", \"EPN24-MCP\", \"-\"]\n",
    "ax.set_xticklabels(xticklabels, rotation=90, ha=\"center\", va=\"center\")\n",
    "\n",
    "ax.tick_params(axis='x', which='major', pad=35)\n",
    "ax.tick_params(axis='y', which='major', rotation=90)\n",
    "\n",
    "ax.axhline(LOD, ls=\"--\", color=\"k\", lw=1)\n",
    "\n",
    "save_figure(fig, \"barplot_export_K562_GagMCP_EPN11MCP_EPN24MCP\")"
   ]
  },
  {
   "cell_type": "markdown",
   "metadata": {
    "Collapsed": "false"
   },
   "source": [
    "## Report enrichment"
   ]
  },
  {
   "cell_type": "code",
   "execution_count": 17,
   "metadata": {
    "Collapsed": "false"
   },
   "outputs": [
    {
     "name": "stdout",
     "output_type": "stream",
     "text": [
      "Gag-MCP: 38.515305459363546\n",
      "\n",
      "EPN11-MCP: 30.39055328774631\n",
      "\n",
      "EPN24-MCP: 194.56972941425784\n",
      "\n"
     ]
    }
   ],
   "source": [
    "field = \"RNA molecules censored\"\n",
    "\n",
    "x = summary.loc[\"41-1\", field] / summary.loc[\"41-5\", field]\n",
    "print(\"Gag-MCP:\", x)\n",
    "print()\n",
    "\n",
    "x = summary.loc[\"41-2\", field] / summary.loc[\"41-5\", field]\n",
    "print(\"EPN11-MCP:\", x)\n",
    "print()\n",
    "\n",
    "x = summary.loc[\"41-3\", field] / summary.loc[\"41-5\", field]\n",
    "print(\"EPN24-MCP:\", x)\n",
    "print()"
   ]
  },
  {
   "cell_type": "markdown",
   "metadata": {
    "Collapsed": "false"
   },
   "source": [
    "# Visualize RNA export by Jurkat"
   ]
  },
  {
   "cell_type": "code",
   "execution_count": 18,
   "metadata": {
    "Collapsed": "false"
   },
   "outputs": [],
   "source": [
    "# Choose samples\n",
    "index_ordered = [\"41-7\", \"41-8\", \"41-9\", \"41-11\"]"
   ]
  },
  {
   "cell_type": "code",
   "execution_count": 19,
   "metadata": {
    "Collapsed": "false"
   },
   "outputs": [
    {
     "name": "stdout",
     "output_type": "stream",
     "text": [
      "(4, 5)\n"
     ]
    },
    {
     "data": {
      "text/html": [
       "<div>\n",
       "<style scoped>\n",
       "    .dataframe tbody tr th:only-of-type {\n",
       "        vertical-align: middle;\n",
       "    }\n",
       "\n",
       "    .dataframe tbody tr th {\n",
       "        vertical-align: top;\n",
       "    }\n",
       "\n",
       "    .dataframe thead th {\n",
       "        text-align: right;\n",
       "    }\n",
       "</style>\n",
       "<table border=\"1\" class=\"dataframe\">\n",
       "  <thead>\n",
       "    <tr style=\"text-align: right;\">\n",
       "      <th></th>\n",
       "      <th>mean SQ</th>\n",
       "      <th>std SQ</th>\n",
       "      <th>RNA molecules</th>\n",
       "      <th>RNA molecules STD</th>\n",
       "      <th>RNA molecules censored</th>\n",
       "    </tr>\n",
       "    <tr>\n",
       "      <th>Sample</th>\n",
       "      <th></th>\n",
       "      <th></th>\n",
       "      <th></th>\n",
       "      <th></th>\n",
       "      <th></th>\n",
       "    </tr>\n",
       "  </thead>\n",
       "  <tbody>\n",
       "    <tr>\n",
       "      <th>41-7</th>\n",
       "      <td>190.983280</td>\n",
       "      <td>76.234122</td>\n",
       "      <td>1.173246e+07</td>\n",
       "      <td>4.683204e+06</td>\n",
       "      <td>1.173246e+07</td>\n",
       "    </tr>\n",
       "    <tr>\n",
       "      <th>41-8</th>\n",
       "      <td>20.838672</td>\n",
       "      <td>1.577895</td>\n",
       "      <td>1.280158e+06</td>\n",
       "      <td>9.693302e+04</td>\n",
       "      <td>1.280158e+06</td>\n",
       "    </tr>\n",
       "    <tr>\n",
       "      <th>41-9</th>\n",
       "      <td>17.158003</td>\n",
       "      <td>8.761131</td>\n",
       "      <td>1.054048e+06</td>\n",
       "      <td>5.382126e+05</td>\n",
       "      <td>1.134737e+06</td>\n",
       "    </tr>\n",
       "    <tr>\n",
       "      <th>41-11</th>\n",
       "      <td>2.403720</td>\n",
       "      <td>0.503951</td>\n",
       "      <td>1.476650e+05</td>\n",
       "      <td>3.095867e+04</td>\n",
       "      <td>8.348521e+05</td>\n",
       "    </tr>\n",
       "  </tbody>\n",
       "</table>\n",
       "</div>"
      ],
      "text/plain": [
       "           mean SQ     std SQ  RNA molecules  RNA molecules STD  RNA molecules censored\n",
       "Sample                                                                                 \n",
       "41-7    190.983280  76.234122   1.173246e+07       4.683204e+06            1.173246e+07\n",
       "41-8     20.838672   1.577895   1.280158e+06       9.693302e+04            1.280158e+06\n",
       "41-9     17.158003   8.761131   1.054048e+06       5.382126e+05            1.134737e+06\n",
       "41-11     2.403720   0.503951   1.476650e+05       3.095867e+04            8.348521e+05"
      ]
     },
     "execution_count": 19,
     "metadata": {},
     "output_type": "execute_result"
    }
   ],
   "source": [
    "# Get data of summary across replicates of selected wells\n",
    "summary_subset = summary.loc[index_ordered]\n",
    "\n",
    "print(summary_subset.shape)\n",
    "summary_subset"
   ]
  },
  {
   "cell_type": "code",
   "execution_count": 20,
   "metadata": {
    "Collapsed": "false"
   },
   "outputs": [
    {
     "name": "stdout",
     "output_type": "stream",
     "text": [
      "(8, 17)\n"
     ]
    },
    {
     "data": {
      "text/html": [
       "<div>\n",
       "<style scoped>\n",
       "    .dataframe tbody tr th:only-of-type {\n",
       "        vertical-align: middle;\n",
       "    }\n",
       "\n",
       "    .dataframe tbody tr th {\n",
       "        vertical-align: top;\n",
       "    }\n",
       "\n",
       "    .dataframe thead th {\n",
       "        text-align: right;\n",
       "    }\n",
       "</style>\n",
       "<table border=\"1\" class=\"dataframe\">\n",
       "  <thead>\n",
       "    <tr style=\"text-align: right;\">\n",
       "      <th></th>\n",
       "      <th>Sample</th>\n",
       "      <th>Well</th>\n",
       "      <th>Fluor</th>\n",
       "      <th>Target</th>\n",
       "      <th>Content</th>\n",
       "      <th>Biological Set Name</th>\n",
       "      <th>Cq</th>\n",
       "      <th>Cq Mean</th>\n",
       "      <th>Cq Std. Dev</th>\n",
       "      <th>Starting Quantity (SQ)</th>\n",
       "      <th>Log Starting Quantity</th>\n",
       "      <th>SQ Mean</th>\n",
       "      <th>SQ Std. Dev</th>\n",
       "      <th>RNA molecules</th>\n",
       "      <th>RNA molecules Mean</th>\n",
       "      <th>RNA molecules STD</th>\n",
       "      <th>RNA molecules censored</th>\n",
       "    </tr>\n",
       "  </thead>\n",
       "  <tbody>\n",
       "    <tr>\n",
       "      <th>0</th>\n",
       "      <td>41-8</td>\n",
       "      <td>D08</td>\n",
       "      <td>SYBR</td>\n",
       "      <td>mCherry</td>\n",
       "      <td>Unkn-20</td>\n",
       "      <td>NaN</td>\n",
       "      <td>28.175036</td>\n",
       "      <td>28.241011</td>\n",
       "      <td>0.093302</td>\n",
       "      <td>21.954412</td>\n",
       "      <td>1.341522</td>\n",
       "      <td>20.838672</td>\n",
       "      <td>1.577895</td>\n",
       "      <td>1.348700e+06</td>\n",
       "      <td>1.280158e+06</td>\n",
       "      <td>9.693302e+04</td>\n",
       "      <td>1.348700e+06</td>\n",
       "    </tr>\n",
       "    <tr>\n",
       "      <th>1</th>\n",
       "      <td>41-7</td>\n",
       "      <td>E07</td>\n",
       "      <td>SYBR</td>\n",
       "      <td>mCherry</td>\n",
       "      <td>Unkn-19</td>\n",
       "      <td>NaN</td>\n",
       "      <td>25.205992</td>\n",
       "      <td>25.563149</td>\n",
       "      <td>0.505097</td>\n",
       "      <td>244.888945</td>\n",
       "      <td>2.388969</td>\n",
       "      <td>190.983280</td>\n",
       "      <td>76.234122</td>\n",
       "      <td>1.504398e+07</td>\n",
       "      <td>1.173246e+07</td>\n",
       "      <td>4.683204e+06</td>\n",
       "      <td>1.504398e+07</td>\n",
       "    </tr>\n",
       "    <tr>\n",
       "      <th>2</th>\n",
       "      <td>41-8</td>\n",
       "      <td>E08</td>\n",
       "      <td>SYBR</td>\n",
       "      <td>mCherry</td>\n",
       "      <td>Unkn-20</td>\n",
       "      <td>NaN</td>\n",
       "      <td>28.306986</td>\n",
       "      <td>28.241011</td>\n",
       "      <td>0.093302</td>\n",
       "      <td>19.722931</td>\n",
       "      <td>1.294971</td>\n",
       "      <td>20.838672</td>\n",
       "      <td>1.577895</td>\n",
       "      <td>1.211616e+06</td>\n",
       "      <td>1.280158e+06</td>\n",
       "      <td>9.693302e+04</td>\n",
       "      <td>1.211616e+06</td>\n",
       "    </tr>\n",
       "    <tr>\n",
       "      <th>3</th>\n",
       "      <td>41-9</td>\n",
       "      <td>E09</td>\n",
       "      <td>SYBR</td>\n",
       "      <td>mCherry</td>\n",
       "      <td>Unkn-21</td>\n",
       "      <td>NaN</td>\n",
       "      <td>28.099008</td>\n",
       "      <td>28.564465</td>\n",
       "      <td>0.658255</td>\n",
       "      <td>23.353059</td>\n",
       "      <td>1.368344</td>\n",
       "      <td>17.158003</td>\n",
       "      <td>8.761131</td>\n",
       "      <td>1.434622e+06</td>\n",
       "      <td>1.054048e+06</td>\n",
       "      <td>5.382126e+05</td>\n",
       "      <td>1.434622e+06</td>\n",
       "    </tr>\n",
       "    <tr>\n",
       "      <th>4</th>\n",
       "      <td>41-11</td>\n",
       "      <td>E11</td>\n",
       "      <td>SYBR</td>\n",
       "      <td>mCherry</td>\n",
       "      <td>Unkn-23</td>\n",
       "      <td>NaN</td>\n",
       "      <td>30.727839</td>\n",
       "      <td>30.911692</td>\n",
       "      <td>0.260007</td>\n",
       "      <td>2.760068</td>\n",
       "      <td>0.440920</td>\n",
       "      <td>2.403720</td>\n",
       "      <td>0.503951</td>\n",
       "      <td>1.695561e+05</td>\n",
       "      <td>1.476650e+05</td>\n",
       "      <td>3.095867e+04</td>\n",
       "      <td>8.348521e+05</td>\n",
       "    </tr>\n",
       "  </tbody>\n",
       "</table>\n",
       "</div>"
      ],
      "text/plain": [
       "  Sample Well Fluor   Target  Content  Biological Set Name         Cq    Cq Mean  Cq Std. Dev  Starting Quantity (SQ)  Log Starting Quantity     SQ Mean  SQ Std. Dev  RNA molecules  RNA molecules Mean  RNA molecules STD  RNA molecules censored\n",
       "0   41-8  D08  SYBR  mCherry  Unkn-20                  NaN  28.175036  28.241011     0.093302               21.954412               1.341522   20.838672     1.577895   1.348700e+06        1.280158e+06       9.693302e+04            1.348700e+06\n",
       "1   41-7  E07  SYBR  mCherry  Unkn-19                  NaN  25.205992  25.563149     0.505097              244.888945               2.388969  190.983280    76.234122   1.504398e+07        1.173246e+07       4.683204e+06            1.504398e+07\n",
       "2   41-8  E08  SYBR  mCherry  Unkn-20                  NaN  28.306986  28.241011     0.093302               19.722931               1.294971   20.838672     1.577895   1.211616e+06        1.280158e+06       9.693302e+04            1.211616e+06\n",
       "3   41-9  E09  SYBR  mCherry  Unkn-21                  NaN  28.099008  28.564465     0.658255               23.353059               1.368344   17.158003     8.761131   1.434622e+06        1.054048e+06       5.382126e+05            1.434622e+06\n",
       "4  41-11  E11  SYBR  mCherry  Unkn-23                  NaN  30.727839  30.911692     0.260007                2.760068               0.440920    2.403720     0.503951   1.695561e+05        1.476650e+05       3.095867e+04            8.348521e+05"
      ]
     },
     "execution_count": 20,
     "metadata": {},
     "output_type": "execute_result"
    }
   ],
   "source": [
    "# Get data of replicates of selected wells\n",
    "\n",
    "selector = cq_raw.index.isin(summary_subset.index)\n",
    "data = cq_raw.loc[selector]\n",
    "\n",
    "data = data.reset_index()\n",
    "\n",
    "print(data.shape)\n",
    "data.head()"
   ]
  },
  {
   "cell_type": "code",
   "execution_count": 21,
   "metadata": {
    "Collapsed": "false"
   },
   "outputs": [
    {
     "data": {
      "image/png": "[encoded data removed]",
      "text/plain": [
       "<Figure size 300x450 with 1 Axes>"
      ]
     },
     "metadata": {},
     "output_type": "display_data"
    }
   ],
   "source": [
    "# Make simple bar plot, horizontal\n",
    "\n",
    "field = \"RNA molecules censored\"\n",
    "\n",
    "palette = [\"#b1accc\", \"#a3e8f1\", \"#44adbf\", \"#83888a\"]  # set color of bars\n",
    "\n",
    "fig, ax = plt.subplots(1, 1, figsize=(1., 1.5))\n",
    "\n",
    "# Set axis scaling - must be done first so swarm plot dots do not overlap\n",
    "ax.set_yscale(\"log\")\n",
    "ax.set_ylim(1e5, 1e8)\n",
    "\n",
    "# Plot summary\n",
    "\n",
    "y = summary_subset[field]\n",
    "x = np.arange(len(y))\n",
    "\n",
    "sns.barplot(ax=ax, x=x, y=y, palette=palette, lw=0.5, edgecolor=\"#010101\")\n",
    "\n",
    "# Plot individual points as swarm (sort columns appropriately)\n",
    "sample_to_rank = dict(zip(index_ordered, range(len(index_ordered))))\n",
    "data[\"rank\"] = [sample_to_rank[s] for s in data[\"Sample\"]]\n",
    "data = data.sort_values(by=\"rank\")\n",
    "\n",
    "y_swarm = data[field]\n",
    "x_swarm = np.array([x[rank] for rank in data[\"rank\"]])\n",
    "\n",
    "x_offset = np.array([-0.15, 0.15])  # jitter offsets to avoid overlaps\n",
    "x_swarm_offset = x_swarm + np.array(list(np.tile(x_offset, int(len(x_swarm)/len(x_offset)))))\n",
    "\n",
    "# Color by replicate well\n",
    "ax.scatter(x_swarm_offset, y_swarm, color=\"#474a4b\", edgecolor=\"#010101\", linewidths=0.25, s=10, zorder=10)\n",
    "\n",
    "ax.set_xlim(min(x)-0.5, max(x)+0.5)\n",
    "\n",
    "ax.set_xlabel(\"\")\n",
    "ax.set_ylabel(\"Reporter RNA molecules\\nin supernatant\", labelpad=6)\n",
    "\n",
    "ax.set_xticks([0, 1, 2, 3])\n",
    "xticklabels = [\"Gag-MCP\", \"EPN11-MCP\", \"EPN24-MCP\", \"-\"]\n",
    "ax.set_xticklabels(xticklabels, rotation=90, ha=\"center\", va=\"center\")\n",
    "\n",
    "ax.tick_params(axis='x', which='major', pad=35)\n",
    "ax.tick_params(axis='y', which='major', rotation=90)\n",
    "\n",
    "ax.axhline(LOD, ls=\"--\", color=\"k\", lw=1)\n",
    "\n",
    "save_figure(fig, \"barplot_export_Jurkat_GagMCP_EPN11MCP_EPN24MCP\")"
   ]
  },
  {
   "cell_type": "markdown",
   "metadata": {
    "Collapsed": "false"
   },
   "source": [
    "## Report enrichment"
   ]
  },
  {
   "cell_type": "code",
   "execution_count": 22,
   "metadata": {
    "Collapsed": "false"
   },
   "outputs": [
    {
     "name": "stdout",
     "output_type": "stream",
     "text": [
      "Gag-MCP: 14.053336516069772\n",
      "\n",
      "EPN11-MCP: 1.5333952957204786\n",
      "\n",
      "EPN24-MCP: 1.3592071330973772\n",
      "\n"
     ]
    }
   ],
   "source": [
    "field = \"RNA molecules censored\"\n",
    "\n",
    "x = summary.loc[\"41-7\", field] / summary.loc[\"41-11\", field]\n",
    "print(\"Gag-MCP:\", x)\n",
    "print()\n",
    "\n",
    "x = summary.loc[\"41-8\", field] / summary.loc[\"41-11\", field]\n",
    "print(\"EPN11-MCP:\", x)\n",
    "print()\n",
    "\n",
    "x = summary.loc[\"41-9\", field] / summary.loc[\"41-11\", field]\n",
    "print(\"EPN24-MCP:\", x)\n",
    "print()"
   ]
  },
  {
   "cell_type": "code",
   "execution_count": null,
   "metadata": {
    "Collapsed": "false"
   },
   "outputs": [],
   "source": []
  }
 ],
 "metadata": {
  "kernelspec": {
   "display_name": "RNA_export_magic",
   "language": "python",
   "name": "rna_export_magic"
  },
  "language_info": {
   "codemirror_mode": {
    "name": "ipython",
    "version": 3
   },
   "file_extension": ".py",
   "mimetype": "text/x-python",
   "name": "python",
   "nbconvert_exporter": "python",
   "pygments_lexer": "ipython3",
   "version": "3.7.7"
  }
 },
 "nbformat": 4,
 "nbformat_minor": 4
}
