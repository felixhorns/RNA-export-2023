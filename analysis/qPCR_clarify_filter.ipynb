{
 "cells": [
  {
   "cell_type": "markdown",
   "metadata": {
    "Collapsed": "false"
   },
   "source": [
    "# Plot qPCR of RNA loss due to filtering and clarifying supernatant"
   ]
  },
  {
   "cell_type": "markdown",
   "metadata": {
    "Collapsed": "false",
    "toc-hr-collapsed": false
   },
   "source": [
    "# Introduction"
   ]
  },
  {
   "cell_type": "markdown",
   "metadata": {
    "Collapsed": "false"
   },
   "source": [
    "## Imports"
   ]
  },
  {
   "cell_type": "code",
   "execution_count": 1,
   "metadata": {
    "Collapsed": "false"
   },
   "outputs": [],
   "source": [
    "import sys\n",
    "import os\n",
    "import time\n",
    "\n",
    "import numpy as np\n",
    "import scipy\n",
    "import pandas as pd\n",
    "\n",
    "%matplotlib inline\n",
    "from matplotlib import pyplot as plt\n",
    "import matplotlib as mpl\n",
    "import seaborn as sns"
   ]
  },
  {
   "cell_type": "markdown",
   "metadata": {
    "Collapsed": "false"
   },
   "source": [
    "## Set output parameters"
   ]
  },
  {
   "cell_type": "code",
   "execution_count": 2,
   "metadata": {
    "Collapsed": "false"
   },
   "outputs": [],
   "source": [
    "# Set pandas display options\n",
    "pd.set_option('display.max_rows', 30)\n",
    "pd.set_option('display.max_columns', 100)\n",
    "pd.set_option('display.width', 1000)\n",
    "\n",
    "# Set plot display options\n",
    "FONTSIZE = 8  # universal fontsize\n",
    "params = {\n",
    "    'font.size': FONTSIZE,\n",
    "    'axes.titlesize': FONTSIZE,\n",
    "    'axes.labelsize': FONTSIZE,\n",
    "    'legend.fontsize': FONTSIZE,\n",
    "    'xtick.labelsize': FONTSIZE,\n",
    "    'ytick.labelsize': FONTSIZE,\n",
    "    'font.family': \"Helvetica\",\n",
    "    'mathtext.fontset': 'custom',\n",
    "    'pdf.fonttype': 42,\n",
    "    'ps.fonttype': 42,\n",
    "    'figure.dpi': 300\n",
    "   }\n",
    "mpl.rcParams.update(params)\n",
    "sns.set_style(\"ticks\", {'axes.grid' : False})\n",
    "\n",
    "# Set plot output options\n",
    "output_dir = \"outs/qPCR_clarify_filter\"\n",
    "output_suffix = \"\"\n",
    "output_formats = [\".png\", \".pdf\"]\n",
    "\n",
    "mpl.rc('savefig', dpi=300)\n",
    "\n",
    "# Define convenience function for saving figures\n",
    "\n",
    "savefig = True\n",
    "savefig_args = {\"dpi\": 300, \"bbox_inches\": \"tight\", \"pad_inches\": 0.1}\n",
    "\n",
    "def save_figure(fig, name, output_dir=output_dir, output_suffix=output_suffix, output_formats=output_formats, savefig_args=savefig_args):\n",
    "    if savefig:\n",
    "        for output_format in output_formats:\n",
    "            fig.savefig(output_dir + \"/\" + name + output_suffix + output_format, **savefig_args)\n",
    "    return None"
   ]
  },
  {
   "cell_type": "code",
   "execution_count": 3,
   "metadata": {
    "Collapsed": "false"
   },
   "outputs": [
    {
     "data": {
      "text/plain": [
       "{'font.size': 8.0,\n",
       " 'axes.labelsize': 8.0,\n",
       " 'axes.titlesize': 8.0,\n",
       " 'xtick.labelsize': 8.0,\n",
       " 'ytick.labelsize': 8.0,\n",
       " 'legend.fontsize': 8.0,\n",
       " 'legend.title_fontsize': None,\n",
       " 'axes.linewidth': 0.8,\n",
       " 'grid.linewidth': 0.8,\n",
       " 'lines.linewidth': 1.5,\n",
       " 'lines.markersize': 6.0,\n",
       " 'patch.linewidth': 1.0,\n",
       " 'xtick.major.width': 0.8,\n",
       " 'ytick.major.width': 0.8,\n",
       " 'xtick.minor.width': 0.6,\n",
       " 'ytick.minor.width': 0.6,\n",
       " 'xtick.major.size': 3.5,\n",
       " 'ytick.major.size': 3.5,\n",
       " 'xtick.minor.size': 2.0,\n",
       " 'ytick.minor.size': 2.0}"
      ]
     },
     "execution_count": 3,
     "metadata": {},
     "output_type": "execute_result"
    }
   ],
   "source": [
    "# Report plot parameters\n",
    "sns.plotting_context()"
   ]
  },
  {
   "cell_type": "markdown",
   "metadata": {
    "Collapsed": "false"
   },
   "source": [
    "# Load data"
   ]
  },
  {
   "cell_type": "markdown",
   "metadata": {
    "Collapsed": "false"
   },
   "source": [
    "## Load qPCR data"
   ]
  },
  {
   "cell_type": "code",
   "execution_count": 4,
   "metadata": {
    "Collapsed": "false"
   },
   "outputs": [
    {
     "name": "stdout",
     "output_type": "stream",
     "text": [
      "(20, 12)\n"
     ]
    },
    {
     "data": {
      "text/html": [
       "<div>\n",
       "<style scoped>\n",
       "    .dataframe tbody tr th:only-of-type {\n",
       "        vertical-align: middle;\n",
       "    }\n",
       "\n",
       "    .dataframe tbody tr th {\n",
       "        vertical-align: top;\n",
       "    }\n",
       "\n",
       "    .dataframe thead th {\n",
       "        text-align: right;\n",
       "    }\n",
       "</style>\n",
       "<table border=\"1\" class=\"dataframe\">\n",
       "  <thead>\n",
       "    <tr style=\"text-align: right;\">\n",
       "      <th></th>\n",
       "      <th>Well</th>\n",
       "      <th>Fluor</th>\n",
       "      <th>Target</th>\n",
       "      <th>Content</th>\n",
       "      <th>Sample</th>\n",
       "      <th>Cq</th>\n",
       "      <th>Cq Mean</th>\n",
       "      <th>Cq Std. Dev</th>\n",
       "      <th>Starting Quantity (SQ)</th>\n",
       "      <th>Log Starting Quantity</th>\n",
       "      <th>SQ Mean</th>\n",
       "      <th>SQ Std. Dev</th>\n",
       "    </tr>\n",
       "  </thead>\n",
       "  <tbody>\n",
       "    <tr>\n",
       "      <th>0</th>\n",
       "      <td>A01</td>\n",
       "      <td>SYBR</td>\n",
       "      <td>mCherry</td>\n",
       "      <td>Unkn-01</td>\n",
       "      <td>95A-1</td>\n",
       "      <td>21.536833</td>\n",
       "      <td>21.466090</td>\n",
       "      <td>0.096997</td>\n",
       "      <td>29483.11823</td>\n",
       "      <td>4.469573</td>\n",
       "      <td>30959.91182</td>\n",
       "      <td>2046.388070</td>\n",
       "    </tr>\n",
       "    <tr>\n",
       "      <th>1</th>\n",
       "      <td>A02</td>\n",
       "      <td>SYBR</td>\n",
       "      <td>mCherry</td>\n",
       "      <td>Unkn-02</td>\n",
       "      <td>95A-2</td>\n",
       "      <td>21.188538</td>\n",
       "      <td>21.156946</td>\n",
       "      <td>0.097677</td>\n",
       "      <td>37241.78602</td>\n",
       "      <td>4.571030</td>\n",
       "      <td>38094.30808</td>\n",
       "      <td>2529.622920</td>\n",
       "    </tr>\n",
       "    <tr>\n",
       "      <th>2</th>\n",
       "      <td>A03</td>\n",
       "      <td>SYBR</td>\n",
       "      <td>mCherry</td>\n",
       "      <td>Unkn-03</td>\n",
       "      <td>95A-3</td>\n",
       "      <td>20.596654</td>\n",
       "      <td>20.612899</td>\n",
       "      <td>0.025250</td>\n",
       "      <td>55391.66533</td>\n",
       "      <td>4.743444</td>\n",
       "      <td>54796.61002</td>\n",
       "      <td>923.555799</td>\n",
       "    </tr>\n",
       "    <tr>\n",
       "      <th>3</th>\n",
       "      <td>A04</td>\n",
       "      <td>SYBR</td>\n",
       "      <td>mCherry</td>\n",
       "      <td>Unkn-04</td>\n",
       "      <td>95A-4</td>\n",
       "      <td>19.870191</td>\n",
       "      <td>19.957001</td>\n",
       "      <td>0.079550</td>\n",
       "      <td>90169.71613</td>\n",
       "      <td>4.955061</td>\n",
       "      <td>85150.54434</td>\n",
       "      <td>4579.413284</td>\n",
       "    </tr>\n",
       "    <tr>\n",
       "      <th>4</th>\n",
       "      <td>B01</td>\n",
       "      <td>SYBR</td>\n",
       "      <td>mCherry</td>\n",
       "      <td>Unkn-01</td>\n",
       "      <td>95A-1</td>\n",
       "      <td>21.505920</td>\n",
       "      <td>21.466090</td>\n",
       "      <td>0.096997</td>\n",
       "      <td>30100.80598</td>\n",
       "      <td>4.478578</td>\n",
       "      <td>30959.91182</td>\n",
       "      <td>2046.388070</td>\n",
       "    </tr>\n",
       "  </tbody>\n",
       "</table>\n",
       "</div>"
      ],
      "text/plain": [
       "  Well Fluor   Target  Content Sample         Cq    Cq Mean  Cq Std. Dev  Starting Quantity (SQ)  Log Starting Quantity      SQ Mean  SQ Std. Dev\n",
       "0  A01  SYBR  mCherry  Unkn-01  95A-1  21.536833  21.466090     0.096997             29483.11823               4.469573  30959.91182  2046.388070\n",
       "1  A02  SYBR  mCherry  Unkn-02  95A-2  21.188538  21.156946     0.097677             37241.78602               4.571030  38094.30808  2529.622920\n",
       "2  A03  SYBR  mCherry  Unkn-03  95A-3  20.596654  20.612899     0.025250             55391.66533               4.743444  54796.61002   923.555799\n",
       "3  A04  SYBR  mCherry  Unkn-04  95A-4  19.870191  19.957001     0.079550             90169.71613               4.955061  85150.54434  4579.413284\n",
       "4  B01  SYBR  mCherry  Unkn-01  95A-1  21.505920  21.466090     0.096997             30100.80598               4.478578  30959.91182  2046.388070"
      ]
     },
     "execution_count": 4,
     "metadata": {},
     "output_type": "execute_result"
    }
   ],
   "source": [
    "infile = \"../preprocessed_data/qPCR_data/qPCR_clarify_filter_Cq.csv\"\n",
    "\n",
    "cq_raw = pd.read_csv(infile, header=0)\n",
    "\n",
    "print(cq_raw.shape)\n",
    "cq_raw.head()"
   ]
  },
  {
   "cell_type": "markdown",
   "metadata": {
    "Collapsed": "false"
   },
   "source": [
    "# Preprocess data"
   ]
  },
  {
   "cell_type": "markdown",
   "metadata": {
    "Collapsed": "false"
   },
   "source": [
    "## Calculate total starting molecules"
   ]
  },
  {
   "cell_type": "code",
   "execution_count": 5,
   "metadata": {
    "Collapsed": "false"
   },
   "outputs": [],
   "source": [
    "# Calculate normalization for input volume\n",
    "DILUTION_FACTORS = (300/140) * (42/20) * (61/10) * (20/1)"
   ]
  },
  {
   "cell_type": "code",
   "execution_count": 6,
   "metadata": {
    "Collapsed": "false"
   },
   "outputs": [],
   "source": [
    "# Back-calculate input RNA molecules, given <100% efficiency of extraction, DNase, RT, as measured based on RNA standard\n",
    "\n",
    "PROTOCOL_EFFICIENCY = 0.005957820738  # Efficiency of extraction, DNase, RT"
   ]
  },
  {
   "cell_type": "code",
   "execution_count": 7,
   "metadata": {
    "Collapsed": "false"
   },
   "outputs": [],
   "source": [
    "# Calculate total RNA molecules in supernatant\n",
    "cq_raw[\"RNA molecules\"] = cq_raw[\"Starting Quantity (SQ)\"] * DILUTION_FACTORS * (1/PROTOCOL_EFFICIENCY)\n",
    "cq_raw[\"RNA molecules Mean\"] = cq_raw[\"SQ Mean\"] * DILUTION_FACTORS * (1/PROTOCOL_EFFICIENCY)\n",
    "cq_raw[\"RNA molecules STD\"] = cq_raw[\"SQ Std. Dev\"] * DILUTION_FACTORS * (1/PROTOCOL_EFFICIENCY)"
   ]
  },
  {
   "cell_type": "markdown",
   "metadata": {
    "Collapsed": "false"
   },
   "source": [
    "## Summarize replicates"
   ]
  },
  {
   "cell_type": "code",
   "execution_count": 8,
   "metadata": {
    "Collapsed": "false"
   },
   "outputs": [
    {
     "data": {
      "text/html": [
       "<div>\n",
       "<style scoped>\n",
       "    .dataframe tbody tr th:only-of-type {\n",
       "        vertical-align: middle;\n",
       "    }\n",
       "\n",
       "    .dataframe tbody tr th {\n",
       "        vertical-align: top;\n",
       "    }\n",
       "\n",
       "    .dataframe thead th {\n",
       "        text-align: right;\n",
       "    }\n",
       "</style>\n",
       "<table border=\"1\" class=\"dataframe\">\n",
       "  <thead>\n",
       "    <tr style=\"text-align: right;\">\n",
       "      <th></th>\n",
       "      <th>mean SQ</th>\n",
       "      <th>std SQ</th>\n",
       "      <th>RNA molecules</th>\n",
       "      <th>RNA molecules STD</th>\n",
       "    </tr>\n",
       "    <tr>\n",
       "      <th>Sample</th>\n",
       "      <th></th>\n",
       "      <th></th>\n",
       "      <th></th>\n",
       "      <th></th>\n",
       "    </tr>\n",
       "  </thead>\n",
       "  <tbody>\n",
       "    <tr>\n",
       "      <th>95A-1</th>\n",
       "      <td>30959.911820</td>\n",
       "      <td>2046.388074</td>\n",
       "      <td>2.852887e+09</td>\n",
       "      <td>1.885701e+08</td>\n",
       "    </tr>\n",
       "    <tr>\n",
       "      <th>95A-2</th>\n",
       "      <td>38094.308073</td>\n",
       "      <td>2529.622920</td>\n",
       "      <td>3.510306e+09</td>\n",
       "      <td>2.330992e+08</td>\n",
       "    </tr>\n",
       "    <tr>\n",
       "      <th>95A-3</th>\n",
       "      <td>54796.610023</td>\n",
       "      <td>923.555799</td>\n",
       "      <td>5.049386e+09</td>\n",
       "      <td>8.510362e+07</td>\n",
       "    </tr>\n",
       "    <tr>\n",
       "      <th>95A-4</th>\n",
       "      <td>85150.544337</td>\n",
       "      <td>4579.413282</td>\n",
       "      <td>7.846434e+09</td>\n",
       "      <td>4.219828e+08</td>\n",
       "    </tr>\n",
       "    <tr>\n",
       "      <th>NTC</th>\n",
       "      <td>14.870735</td>\n",
       "      <td>12.949680</td>\n",
       "      <td>1.370305e+06</td>\n",
       "      <td>1.044124e+06</td>\n",
       "    </tr>\n",
       "  </tbody>\n",
       "</table>\n",
       "</div>"
      ],
      "text/plain": [
       "             mean SQ       std SQ  RNA molecules  RNA molecules STD\n",
       "Sample                                                             \n",
       "95A-1   30959.911820  2046.388074   2.852887e+09       1.885701e+08\n",
       "95A-2   38094.308073  2529.622920   3.510306e+09       2.330992e+08\n",
       "95A-3   54796.610023   923.555799   5.049386e+09       8.510362e+07\n",
       "95A-4   85150.544337  4579.413282   7.846434e+09       4.219828e+08\n",
       "NTC        14.870735    12.949680   1.370305e+06       1.044124e+06"
      ]
     },
     "execution_count": 8,
     "metadata": {},
     "output_type": "execute_result"
    }
   ],
   "source": [
    "groups = cq_raw.groupby([\"Sample\"])  # group samples by origin\n",
    "\n",
    "summary = pd.DataFrame()\n",
    "\n",
    "summary[\"mean SQ\"] = groups[\"Starting Quantity (SQ)\"].mean()  # Calculate mean over replicates\n",
    "summary[\"std SQ\"] = groups[\"Starting Quantity (SQ)\"].std()  # Calculate mean over replicates\n",
    "\n",
    "summary[\"RNA molecules\"] = groups[\"RNA molecules\"].mean()\n",
    "summary[\"RNA molecules STD\"] = groups[\"RNA molecules STD\"].mean()\n",
    "\n",
    "summary"
   ]
  },
  {
   "cell_type": "markdown",
   "metadata": {
    "Collapsed": "false"
   },
   "source": [
    "## Calculate relative abundance (compared to reference sample)"
   ]
  },
  {
   "cell_type": "code",
   "execution_count": 9,
   "metadata": {
    "Collapsed": "false"
   },
   "outputs": [],
   "source": [
    "# Initialize columns\n",
    "\n",
    "summary[\"RNA molecules relative to reference\"] = np.nan\n",
    "summary[\"RNA molecules relative to reference STD\"] = np.nan\n",
    "\n",
    "cq_raw[\"RNA molecules relative to reference\"] = np.nan\n",
    "cq_raw[\"RNA molecules relative to reference STD\"] = np.nan"
   ]
  },
  {
   "cell_type": "code",
   "execution_count": 10,
   "metadata": {
    "Collapsed": "false"
   },
   "outputs": [],
   "source": [
    "# Calculate RNA molecules relative to reference\n",
    "\n",
    "# Gag-MCP\n",
    "\n",
    "ref = summary.loc[\"95A-4\", \"RNA molecules\"]  # set reference value\n",
    "samples = [\"95A-1\", \"95A-2\", \"95A-3\", \"95A-4\"]  # samples that use this reference value\n",
    "\n",
    "summary.loc[samples, \"RNA molecules relative to reference\"] = summary.loc[samples, \"RNA molecules\"] / ref\n",
    "summary.loc[samples, \"RNA molecules relative to reference STD\"] = summary.loc[samples, \"RNA molecules STD\"] / ref"
   ]
  },
  {
   "cell_type": "code",
   "execution_count": 11,
   "metadata": {
    "Collapsed": "false"
   },
   "outputs": [],
   "source": [
    "# Repeat for raw Cq values\n",
    "\n",
    "cq_raw = cq_raw.set_index(\"Sample\")\n",
    "\n",
    "# Gag-MCP\n",
    "\n",
    "ref = summary.loc[\"95A-4\", \"RNA molecules\"]  # set reference value\n",
    "samples = [\"95A-1\", \"95A-2\", \"95A-3\", \"95A-4\"]  # samples that use this reference value\n",
    "\n",
    "cq_raw.loc[samples, \"RNA molecules relative to reference\"] = cq_raw.loc[samples, \"RNA molecules\"] / ref\n",
    "cq_raw.loc[samples, \"RNA molecules relative to reference STD\"] = cq_raw.loc[samples, \"RNA molecules STD\"] / ref\n",
    "\n",
    "cq_raw = cq_raw.reset_index()"
   ]
  },
  {
   "cell_type": "code",
   "execution_count": 12,
   "metadata": {
    "Collapsed": "false"
   },
   "outputs": [],
   "source": [
    "# Convert to percentage\n",
    "\n",
    "summary[\"RNA molecules relative to reference %\"] = summary[\"RNA molecules relative to reference\"] * 100\n",
    "summary[\"RNA molecules relative to reference STD %\"] = summary[\"RNA molecules relative to reference STD\"] * 100\n",
    "\n",
    "cq_raw[\"RNA molecules relative to reference %\"] = cq_raw[\"RNA molecules relative to reference\"] * 100\n",
    "cq_raw[\"RNA molecules relative to reference STD %\"] = cq_raw[\"RNA molecules relative to reference STD\"] * 100"
   ]
  },
  {
   "cell_type": "markdown",
   "metadata": {
    "Collapsed": "false"
   },
   "source": [
    "## Censor by lower limit of quantification"
   ]
  },
  {
   "cell_type": "code",
   "execution_count": 13,
   "metadata": {
    "Collapsed": "false"
   },
   "outputs": [
    {
     "name": "stdout",
     "output_type": "stream",
     "text": [
      "Lower limit of quantification: 2938391.452931963\n"
     ]
    }
   ],
   "source": [
    "# Lower limit of quantification is set based on maximum signal from no template control (NTC) wells.\n",
    "\n",
    "LOD = cq_raw.set_index(\"Sample\").loc[\"NTC\", \"RNA molecules\"].max()\n",
    "\n",
    "print(\"Lower limit of quantification:\", LOD)"
   ]
  },
  {
   "cell_type": "code",
   "execution_count": 14,
   "metadata": {
    "Collapsed": "false"
   },
   "outputs": [],
   "source": [
    "# Substitute LOD for values below LOD\n",
    "\n",
    "cq_raw[\"RNA molecules censored\"] = cq_raw[\"RNA molecules\"]\n",
    "cq_raw.loc[cq_raw[\"RNA molecules\"] < LOD, \"RNA molecules censored\"] = LOD\n",
    "\n",
    "summary[\"RNA molecules censored\"] = summary[\"RNA molecules\"]\n",
    "summary.loc[summary[\"RNA molecules\"] < LOD, \"RNA molecules censored\"] = LOD"
   ]
  },
  {
   "cell_type": "markdown",
   "metadata": {
    "Collapsed": "false"
   },
   "source": [
    "# Visualize effect of clarification and filtering on RNA abundance"
   ]
  },
  {
   "cell_type": "code",
   "execution_count": 15,
   "metadata": {
    "Collapsed": "false"
   },
   "outputs": [],
   "source": [
    "# Choose samples\n",
    "index_ordered = [\"95A-4\", \"95A-3\", \"95A-2\", \"95A-1\"]"
   ]
  },
  {
   "cell_type": "code",
   "execution_count": 16,
   "metadata": {
    "Collapsed": "false"
   },
   "outputs": [
    {
     "name": "stdout",
     "output_type": "stream",
     "text": [
      "(4, 9)\n"
     ]
    },
    {
     "data": {
      "text/html": [
       "<div>\n",
       "<style scoped>\n",
       "    .dataframe tbody tr th:only-of-type {\n",
       "        vertical-align: middle;\n",
       "    }\n",
       "\n",
       "    .dataframe tbody tr th {\n",
       "        vertical-align: top;\n",
       "    }\n",
       "\n",
       "    .dataframe thead th {\n",
       "        text-align: right;\n",
       "    }\n",
       "</style>\n",
       "<table border=\"1\" class=\"dataframe\">\n",
       "  <thead>\n",
       "    <tr style=\"text-align: right;\">\n",
       "      <th></th>\n",
       "      <th>mean SQ</th>\n",
       "      <th>std SQ</th>\n",
       "      <th>RNA molecules</th>\n",
       "      <th>RNA molecules STD</th>\n",
       "      <th>RNA molecules relative to reference</th>\n",
       "      <th>RNA molecules relative to reference STD</th>\n",
       "      <th>RNA molecules relative to reference %</th>\n",
       "      <th>RNA molecules relative to reference STD %</th>\n",
       "      <th>RNA molecules censored</th>\n",
       "    </tr>\n",
       "    <tr>\n",
       "      <th>Sample</th>\n",
       "      <th></th>\n",
       "      <th></th>\n",
       "      <th></th>\n",
       "      <th></th>\n",
       "      <th></th>\n",
       "      <th></th>\n",
       "      <th></th>\n",
       "      <th></th>\n",
       "      <th></th>\n",
       "    </tr>\n",
       "  </thead>\n",
       "  <tbody>\n",
       "    <tr>\n",
       "      <th>95A-4</th>\n",
       "      <td>85150.544337</td>\n",
       "      <td>4579.413282</td>\n",
       "      <td>7.846434e+09</td>\n",
       "      <td>4.219828e+08</td>\n",
       "      <td>1.000000</td>\n",
       "      <td>0.053780</td>\n",
       "      <td>100.000000</td>\n",
       "      <td>5.378020</td>\n",
       "      <td>7.846434e+09</td>\n",
       "    </tr>\n",
       "    <tr>\n",
       "      <th>95A-3</th>\n",
       "      <td>54796.610023</td>\n",
       "      <td>923.555799</td>\n",
       "      <td>5.049386e+09</td>\n",
       "      <td>8.510362e+07</td>\n",
       "      <td>0.643526</td>\n",
       "      <td>0.010846</td>\n",
       "      <td>64.352624</td>\n",
       "      <td>1.084615</td>\n",
       "      <td>5.049386e+09</td>\n",
       "    </tr>\n",
       "    <tr>\n",
       "      <th>95A-2</th>\n",
       "      <td>38094.308073</td>\n",
       "      <td>2529.622920</td>\n",
       "      <td>3.510306e+09</td>\n",
       "      <td>2.330992e+08</td>\n",
       "      <td>0.447376</td>\n",
       "      <td>0.029708</td>\n",
       "      <td>44.737598</td>\n",
       "      <td>2.970765</td>\n",
       "      <td>3.510306e+09</td>\n",
       "    </tr>\n",
       "    <tr>\n",
       "      <th>95A-1</th>\n",
       "      <td>30959.911820</td>\n",
       "      <td>2046.388074</td>\n",
       "      <td>2.852887e+09</td>\n",
       "      <td>1.885701e+08</td>\n",
       "      <td>0.363590</td>\n",
       "      <td>0.024033</td>\n",
       "      <td>36.359030</td>\n",
       "      <td>2.403259</td>\n",
       "      <td>2.852887e+09</td>\n",
       "    </tr>\n",
       "  </tbody>\n",
       "</table>\n",
       "</div>"
      ],
      "text/plain": [
       "             mean SQ       std SQ  RNA molecules  RNA molecules STD  RNA molecules relative to reference  RNA molecules relative to reference STD  RNA molecules relative to reference %  RNA molecules relative to reference STD %  RNA molecules censored\n",
       "Sample                                                                                                                                                                                                                                                     \n",
       "95A-4   85150.544337  4579.413282   7.846434e+09       4.219828e+08                             1.000000                                 0.053780                             100.000000                                   5.378020            7.846434e+09\n",
       "95A-3   54796.610023   923.555799   5.049386e+09       8.510362e+07                             0.643526                                 0.010846                              64.352624                                   1.084615            5.049386e+09\n",
       "95A-2   38094.308073  2529.622920   3.510306e+09       2.330992e+08                             0.447376                                 0.029708                              44.737598                                   2.970765            3.510306e+09\n",
       "95A-1   30959.911820  2046.388074   2.852887e+09       1.885701e+08                             0.363590                                 0.024033                              36.359030                                   2.403259            2.852887e+09"
      ]
     },
     "execution_count": 16,
     "metadata": {},
     "output_type": "execute_result"
    }
   ],
   "source": [
    "# Get data of summary across replicates of selected wells\n",
    "summary_subset = summary.loc[index_ordered]\n",
    "\n",
    "# Set label\n",
    "# summary_subset[\"label\"] = [column_to_label[col] for col in columns_ordered]\n",
    "\n",
    "print(summary_subset.shape)\n",
    "summary_subset"
   ]
  },
  {
   "cell_type": "code",
   "execution_count": 17,
   "metadata": {
    "Collapsed": "false"
   },
   "outputs": [
    {
     "name": "stdout",
     "output_type": "stream",
     "text": [
      "(12, 20)\n"
     ]
    },
    {
     "data": {
      "text/html": [
       "<div>\n",
       "<style scoped>\n",
       "    .dataframe tbody tr th:only-of-type {\n",
       "        vertical-align: middle;\n",
       "    }\n",
       "\n",
       "    .dataframe tbody tr th {\n",
       "        vertical-align: top;\n",
       "    }\n",
       "\n",
       "    .dataframe thead th {\n",
       "        text-align: right;\n",
       "    }\n",
       "</style>\n",
       "<table border=\"1\" class=\"dataframe\">\n",
       "  <thead>\n",
       "    <tr style=\"text-align: right;\">\n",
       "      <th></th>\n",
       "      <th>Sample</th>\n",
       "      <th>Well</th>\n",
       "      <th>Fluor</th>\n",
       "      <th>Target</th>\n",
       "      <th>Content</th>\n",
       "      <th>Cq</th>\n",
       "      <th>Cq Mean</th>\n",
       "      <th>Cq Std. Dev</th>\n",
       "      <th>Starting Quantity (SQ)</th>\n",
       "      <th>Log Starting Quantity</th>\n",
       "      <th>SQ Mean</th>\n",
       "      <th>SQ Std. Dev</th>\n",
       "      <th>RNA molecules</th>\n",
       "      <th>RNA molecules Mean</th>\n",
       "      <th>RNA molecules STD</th>\n",
       "      <th>RNA molecules relative to reference</th>\n",
       "      <th>RNA molecules relative to reference STD</th>\n",
       "      <th>RNA molecules relative to reference %</th>\n",
       "      <th>RNA molecules relative to reference STD %</th>\n",
       "      <th>RNA molecules censored</th>\n",
       "    </tr>\n",
       "  </thead>\n",
       "  <tbody>\n",
       "    <tr>\n",
       "      <th>0</th>\n",
       "      <td>95A-1</td>\n",
       "      <td>A01</td>\n",
       "      <td>SYBR</td>\n",
       "      <td>mCherry</td>\n",
       "      <td>Unkn-01</td>\n",
       "      <td>21.536833</td>\n",
       "      <td>21.466090</td>\n",
       "      <td>0.096997</td>\n",
       "      <td>29483.11823</td>\n",
       "      <td>4.469573</td>\n",
       "      <td>30959.91182</td>\n",
       "      <td>2046.388070</td>\n",
       "      <td>2.716804e+09</td>\n",
       "      <td>2.852887e+09</td>\n",
       "      <td>1.885701e+08</td>\n",
       "      <td>0.346247</td>\n",
       "      <td>0.024033</td>\n",
       "      <td>34.624697</td>\n",
       "      <td>2.403259</td>\n",
       "      <td>2.716804e+09</td>\n",
       "    </tr>\n",
       "    <tr>\n",
       "      <th>1</th>\n",
       "      <td>95A-2</td>\n",
       "      <td>A02</td>\n",
       "      <td>SYBR</td>\n",
       "      <td>mCherry</td>\n",
       "      <td>Unkn-02</td>\n",
       "      <td>21.188538</td>\n",
       "      <td>21.156946</td>\n",
       "      <td>0.097677</td>\n",
       "      <td>37241.78602</td>\n",
       "      <td>4.571030</td>\n",
       "      <td>38094.30808</td>\n",
       "      <td>2529.622920</td>\n",
       "      <td>3.431748e+09</td>\n",
       "      <td>3.510306e+09</td>\n",
       "      <td>2.330992e+08</td>\n",
       "      <td>0.437364</td>\n",
       "      <td>0.029708</td>\n",
       "      <td>43.736404</td>\n",
       "      <td>2.970765</td>\n",
       "      <td>3.431748e+09</td>\n",
       "    </tr>\n",
       "    <tr>\n",
       "      <th>2</th>\n",
       "      <td>95A-3</td>\n",
       "      <td>A03</td>\n",
       "      <td>SYBR</td>\n",
       "      <td>mCherry</td>\n",
       "      <td>Unkn-03</td>\n",
       "      <td>20.596654</td>\n",
       "      <td>20.612899</td>\n",
       "      <td>0.025250</td>\n",
       "      <td>55391.66533</td>\n",
       "      <td>4.743444</td>\n",
       "      <td>54796.61002</td>\n",
       "      <td>923.555799</td>\n",
       "      <td>5.104219e+09</td>\n",
       "      <td>5.049386e+09</td>\n",
       "      <td>8.510362e+07</td>\n",
       "      <td>0.650515</td>\n",
       "      <td>0.010846</td>\n",
       "      <td>65.051452</td>\n",
       "      <td>1.084615</td>\n",
       "      <td>5.104219e+09</td>\n",
       "    </tr>\n",
       "    <tr>\n",
       "      <th>3</th>\n",
       "      <td>95A-4</td>\n",
       "      <td>A04</td>\n",
       "      <td>SYBR</td>\n",
       "      <td>mCherry</td>\n",
       "      <td>Unkn-04</td>\n",
       "      <td>19.870191</td>\n",
       "      <td>19.957001</td>\n",
       "      <td>0.079550</td>\n",
       "      <td>90169.71613</td>\n",
       "      <td>4.955061</td>\n",
       "      <td>85150.54434</td>\n",
       "      <td>4579.413284</td>\n",
       "      <td>8.308940e+09</td>\n",
       "      <td>7.846434e+09</td>\n",
       "      <td>4.219828e+08</td>\n",
       "      <td>1.058945</td>\n",
       "      <td>0.053780</td>\n",
       "      <td>105.894468</td>\n",
       "      <td>5.378020</td>\n",
       "      <td>8.308940e+09</td>\n",
       "    </tr>\n",
       "    <tr>\n",
       "      <th>4</th>\n",
       "      <td>95A-1</td>\n",
       "      <td>B01</td>\n",
       "      <td>SYBR</td>\n",
       "      <td>mCherry</td>\n",
       "      <td>Unkn-01</td>\n",
       "      <td>21.505920</td>\n",
       "      <td>21.466090</td>\n",
       "      <td>0.096997</td>\n",
       "      <td>30100.80598</td>\n",
       "      <td>4.478578</td>\n",
       "      <td>30959.91182</td>\n",
       "      <td>2046.388070</td>\n",
       "      <td>2.773723e+09</td>\n",
       "      <td>2.852887e+09</td>\n",
       "      <td>1.885701e+08</td>\n",
       "      <td>0.353501</td>\n",
       "      <td>0.024033</td>\n",
       "      <td>35.350104</td>\n",
       "      <td>2.403259</td>\n",
       "      <td>2.773723e+09</td>\n",
       "    </tr>\n",
       "  </tbody>\n",
       "</table>\n",
       "</div>"
      ],
      "text/plain": [
       "  Sample Well Fluor   Target  Content         Cq    Cq Mean  Cq Std. Dev  Starting Quantity (SQ)  Log Starting Quantity      SQ Mean  SQ Std. Dev  RNA molecules  RNA molecules Mean  RNA molecules STD  RNA molecules relative to reference  RNA molecules relative to reference STD  RNA molecules relative to reference %  RNA molecules relative to reference STD %  RNA molecules censored\n",
       "0  95A-1  A01  SYBR  mCherry  Unkn-01  21.536833  21.466090     0.096997             29483.11823               4.469573  30959.91182  2046.388070   2.716804e+09        2.852887e+09       1.885701e+08                             0.346247                                 0.024033                              34.624697                                   2.403259            2.716804e+09\n",
       "1  95A-2  A02  SYBR  mCherry  Unkn-02  21.188538  21.156946     0.097677             37241.78602               4.571030  38094.30808  2529.622920   3.431748e+09        3.510306e+09       2.330992e+08                             0.437364                                 0.029708                              43.736404                                   2.970765            3.431748e+09\n",
       "2  95A-3  A03  SYBR  mCherry  Unkn-03  20.596654  20.612899     0.025250             55391.66533               4.743444  54796.61002   923.555799   5.104219e+09        5.049386e+09       8.510362e+07                             0.650515                                 0.010846                              65.051452                                   1.084615            5.104219e+09\n",
       "3  95A-4  A04  SYBR  mCherry  Unkn-04  19.870191  19.957001     0.079550             90169.71613               4.955061  85150.54434  4579.413284   8.308940e+09        7.846434e+09       4.219828e+08                             1.058945                                 0.053780                             105.894468                                   5.378020            8.308940e+09\n",
       "4  95A-1  B01  SYBR  mCherry  Unkn-01  21.505920  21.466090     0.096997             30100.80598               4.478578  30959.91182  2046.388070   2.773723e+09        2.852887e+09       1.885701e+08                             0.353501                                 0.024033                              35.350104                                   2.403259            2.773723e+09"
      ]
     },
     "execution_count": 17,
     "metadata": {},
     "output_type": "execute_result"
    }
   ],
   "source": [
    "# Get data of replicates of selected wells\n",
    "selector = cq_raw[\"Sample\"].isin(index_ordered)\n",
    "data = cq_raw.loc[selector]\n",
    "\n",
    "print(data.shape)\n",
    "data.head()"
   ]
  },
  {
   "cell_type": "code",
   "execution_count": 18,
   "metadata": {
    "Collapsed": "false"
   },
   "outputs": [
    {
     "name": "stderr",
     "output_type": "stream",
     "text": [
      "/scratch/resources/anaconda3/envs/RNA_export_magic/lib/python3.7/site-packages/ipykernel_launcher.py:20: SettingWithCopyWarning: \n",
      "A value is trying to be set on a copy of a slice from a DataFrame.\n",
      "Try using .loc[row_indexer,col_indexer] = value instead\n",
      "\n",
      "See the caveats in the documentation: https://pandas.pydata.org/pandas-docs/stable/user_guide/indexing.html#returning-a-view-versus-a-copy\n"
     ]
    },
    {
     "data": {
      "image/png": "[encoded data removed]",
      "text/plain": [
       "<Figure size 375x225 with 1 Axes>"
      ]
     },
     "metadata": {},
     "output_type": "display_data"
    }
   ],
   "source": [
    "# Make simple swarm plot\n",
    "\n",
    "field = \"RNA molecules relative to reference %\"\n",
    "\n",
    "fig, ax = plt.subplots(1, 1, figsize=(1.25,0.75))\n",
    "\n",
    "# Set axis scaling - must be done first so swarm plot dots do not overlap\n",
    "ax.set_ylim(0, 110)\n",
    "\n",
    "# Plot summary\n",
    "\n",
    "y = summary_subset[field]\n",
    "x = np.arange(len(y))\n",
    "\n",
    "sns.scatterplot(ax=ax, x=x, y=y, marker=\"_\", s=150, color=\"#e082b5\")\n",
    "\n",
    "# Plot individual points as swarm (sort columns appropriately)\n",
    "\n",
    "sample_to_rank = dict(zip(index_ordered, range(len(index_ordered))))\n",
    "data[\"rank\"] = [sample_to_rank[s] for s in data[\"Sample\"]]\n",
    "data = data.sort_values(by=\"rank\")\n",
    "\n",
    "y_swarm = data[field]\n",
    "x_swarm = np.array([x[rank] for rank in data[\"rank\"]])\n",
    "\n",
    "x_offset = np.array([-0.15, 0, 0.15])  # jitter offsets to avoid operlaps\n",
    "x_swarm_offset = x_swarm + np.tile(x_offset, int(len(x_swarm)/len(x_offset)))\n",
    "\n",
    "ax.scatter(x_swarm_offset, y_swarm, color=\"#252525\", s=2, zorder=10)\n",
    "\n",
    "ax.set_xlim(min(x)-0.5, max(x)+0.5)\n",
    "\n",
    "ax.set_ylabel(\"Reporter RNA\\ndetected (%)\", labelpad=2)\n",
    "\n",
    "ax.set_yticks([0, 50, 100])\n",
    "\n",
    "ax.set_xticks([0, 1, 2, 3])\n",
    "xticklabels = [\"-\\n-\", \"+\\n-\", \"-\\n+\", \"+\\n+\"]\n",
    "ax.set_xticklabels(xticklabels)\n",
    "\n",
    "ax.text(-0.75, -18, \"Clarify\", ha=\"right\", va=\"top\", size=FONTSIZE)\n",
    "ax.text(-0.75, -42, \"Filter\", ha=\"right\", va=\"top\", size=FONTSIZE)\n",
    "\n",
    "ax.set_xlabel(\"\")\n",
    "\n",
    "sns.despine()\n",
    "\n",
    "save_figure(fig, \"clarify_filter_GagMCP\")"
   ]
  },
  {
   "cell_type": "code",
   "execution_count": null,
   "metadata": {
    "Collapsed": "false"
   },
   "outputs": [],
   "source": []
  }
 ],
 "metadata": {
  "kernelspec": {
   "display_name": "RNA_export_magic",
   "language": "python",
   "name": "rna_export_magic"
  },
  "language_info": {
   "codemirror_mode": {
    "name": "ipython",
    "version": 3
   },
   "file_extension": ".py",
   "mimetype": "text/x-python",
   "name": "python",
   "nbconvert_exporter": "python",
   "pygments_lexer": "ipython3",
   "version": "3.7.7"
  }
 },
 "nbformat": 4,
 "nbformat_minor": 4
}
