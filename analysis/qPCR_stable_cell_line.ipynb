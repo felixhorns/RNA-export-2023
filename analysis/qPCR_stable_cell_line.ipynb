{
 "cells": [
  {
   "cell_type": "markdown",
   "metadata": {
    "Collapsed": "false"
   },
   "source": [
    "# Plot qPCR to analyze export using stable genomically integrated transgenes"
   ]
  },
  {
   "cell_type": "markdown",
   "metadata": {
    "Collapsed": "false",
    "toc-hr-collapsed": false
   },
   "source": [
    "# Introduction"
   ]
  },
  {
   "cell_type": "markdown",
   "metadata": {
    "Collapsed": "false"
   },
   "source": [
    "## Imports"
   ]
  },
  {
   "cell_type": "code",
   "execution_count": 1,
   "metadata": {
    "Collapsed": "false"
   },
   "outputs": [],
   "source": [
    "import sys\n",
    "import os\n",
    "import time\n",
    "\n",
    "import numpy as np\n",
    "import scipy\n",
    "import pandas as pd\n",
    "\n",
    "%matplotlib inline\n",
    "from matplotlib import pyplot as plt\n",
    "import matplotlib as mpl\n",
    "import seaborn as sns"
   ]
  },
  {
   "cell_type": "markdown",
   "metadata": {
    "Collapsed": "false"
   },
   "source": [
    "## Set output parameters"
   ]
  },
  {
   "cell_type": "code",
   "execution_count": 2,
   "metadata": {
    "Collapsed": "false"
   },
   "outputs": [],
   "source": [
    "# Set pandas display options\n",
    "pd.set_option('display.max_rows', 30)\n",
    "pd.set_option('display.max_columns', 100)\n",
    "pd.set_option('display.width', 1000)\n",
    "\n",
    "# Set plot display options\n",
    "FONTSIZE = 8  # universal fontsize\n",
    "params = {\n",
    "    'font.size': FONTSIZE,\n",
    "    'axes.titlesize': FONTSIZE,\n",
    "    'axes.labelsize': FONTSIZE,\n",
    "    'legend.fontsize': FONTSIZE,\n",
    "    'xtick.labelsize': FONTSIZE,\n",
    "    'ytick.labelsize': FONTSIZE,\n",
    "    'font.family': \"Helvetica\",\n",
    "    'mathtext.fontset': 'custom',\n",
    "    'pdf.fonttype': 42,\n",
    "    'ps.fonttype': 42,\n",
    "    'figure.dpi': 300\n",
    "   }\n",
    "mpl.rcParams.update(params)\n",
    "sns.set_style(\"ticks\", {'axes.grid' : False})\n",
    "\n",
    "# Set plot output options\n",
    "output_dir = \"outs/qPCR_stable_cell_line\"\n",
    "output_suffix = \"\"\n",
    "output_formats = [\".png\", \".pdf\"]\n",
    "\n",
    "mpl.rc('savefig', dpi=300)\n",
    "\n",
    "# Define convenience function for saving figures\n",
    "\n",
    "savefig = True\n",
    "savefig_args = {\"dpi\": 300, \"bbox_inches\": \"tight\", \"pad_inches\": 0.1}\n",
    "\n",
    "def save_figure(fig, name, output_dir=output_dir, output_suffix=output_suffix, output_formats=output_formats, savefig_args=savefig_args):\n",
    "    if savefig:\n",
    "        for output_format in output_formats:\n",
    "            fig.savefig(output_dir + \"/\" + name + output_suffix + output_format, **savefig_args)\n",
    "    return None"
   ]
  },
  {
   "cell_type": "code",
   "execution_count": 3,
   "metadata": {
    "Collapsed": "false"
   },
   "outputs": [
    {
     "data": {
      "text/plain": [
       "{'font.size': 8.0,\n",
       " 'axes.labelsize': 8.0,\n",
       " 'axes.titlesize': 8.0,\n",
       " 'xtick.labelsize': 8.0,\n",
       " 'ytick.labelsize': 8.0,\n",
       " 'legend.fontsize': 8.0,\n",
       " 'legend.title_fontsize': None,\n",
       " 'axes.linewidth': 0.8,\n",
       " 'grid.linewidth': 0.8,\n",
       " 'lines.linewidth': 1.5,\n",
       " 'lines.markersize': 6.0,\n",
       " 'patch.linewidth': 1.0,\n",
       " 'xtick.major.width': 0.8,\n",
       " 'ytick.major.width': 0.8,\n",
       " 'xtick.minor.width': 0.6,\n",
       " 'ytick.minor.width': 0.6,\n",
       " 'xtick.major.size': 3.5,\n",
       " 'ytick.major.size': 3.5,\n",
       " 'xtick.minor.size': 2.0,\n",
       " 'ytick.minor.size': 2.0}"
      ]
     },
     "execution_count": 3,
     "metadata": {},
     "output_type": "execute_result"
    }
   ],
   "source": [
    "# Report plot parameters\n",
    "sns.plotting_context()"
   ]
  },
  {
   "cell_type": "markdown",
   "metadata": {
    "Collapsed": "false"
   },
   "source": [
    "# Load data"
   ]
  },
  {
   "cell_type": "markdown",
   "metadata": {
    "Collapsed": "false"
   },
   "source": [
    "## Load qPCR data"
   ]
  },
  {
   "cell_type": "code",
   "execution_count": 4,
   "metadata": {
    "Collapsed": "false"
   },
   "outputs": [
    {
     "name": "stdout",
     "output_type": "stream",
     "text": [
      "(9, 12)\n"
     ]
    },
    {
     "data": {
      "text/html": [
       "<div>\n",
       "<style scoped>\n",
       "    .dataframe tbody tr th:only-of-type {\n",
       "        vertical-align: middle;\n",
       "    }\n",
       "\n",
       "    .dataframe tbody tr th {\n",
       "        vertical-align: top;\n",
       "    }\n",
       "\n",
       "    .dataframe thead th {\n",
       "        text-align: right;\n",
       "    }\n",
       "</style>\n",
       "<table border=\"1\" class=\"dataframe\">\n",
       "  <thead>\n",
       "    <tr style=\"text-align: right;\">\n",
       "      <th></th>\n",
       "      <th>Well</th>\n",
       "      <th>Fluor</th>\n",
       "      <th>Target</th>\n",
       "      <th>Content</th>\n",
       "      <th>Biological Set Name</th>\n",
       "      <th>Cq</th>\n",
       "      <th>Cq Mean</th>\n",
       "      <th>Cq Std. Dev</th>\n",
       "      <th>Starting Quantity (SQ)</th>\n",
       "      <th>Log Starting Quantity</th>\n",
       "      <th>SQ Mean</th>\n",
       "      <th>SQ Std. Dev</th>\n",
       "    </tr>\n",
       "    <tr>\n",
       "      <th>Sample</th>\n",
       "      <th></th>\n",
       "      <th></th>\n",
       "      <th></th>\n",
       "      <th></th>\n",
       "      <th></th>\n",
       "      <th></th>\n",
       "      <th></th>\n",
       "      <th></th>\n",
       "      <th></th>\n",
       "      <th></th>\n",
       "      <th></th>\n",
       "      <th></th>\n",
       "    </tr>\n",
       "  </thead>\n",
       "  <tbody>\n",
       "    <tr>\n",
       "      <th>96-7</th>\n",
       "      <td>A07</td>\n",
       "      <td>SYBR</td>\n",
       "      <td>mCherry</td>\n",
       "      <td>Unkn-07</td>\n",
       "      <td>NaN</td>\n",
       "      <td>30.328827</td>\n",
       "      <td>30.166750</td>\n",
       "      <td>0.189795</td>\n",
       "      <td>148.639053</td>\n",
       "      <td>2.172133</td>\n",
       "      <td>166.236455</td>\n",
       "      <td>21.157494</td>\n",
       "    </tr>\n",
       "    <tr>\n",
       "      <th>96-10</th>\n",
       "      <td>A10</td>\n",
       "      <td>SYBR</td>\n",
       "      <td>mCherry</td>\n",
       "      <td>Unkn-10</td>\n",
       "      <td>NaN</td>\n",
       "      <td>35.873826</td>\n",
       "      <td>35.830884</td>\n",
       "      <td>0.556779</td>\n",
       "      <td>3.871437</td>\n",
       "      <td>0.587872</td>\n",
       "      <td>4.164997</td>\n",
       "      <td>1.530487</td>\n",
       "    </tr>\n",
       "    <tr>\n",
       "      <th>96-11</th>\n",
       "      <td>A11</td>\n",
       "      <td>SYBR</td>\n",
       "      <td>mCherry</td>\n",
       "      <td>Unkn-11</td>\n",
       "      <td>NaN</td>\n",
       "      <td>36.911466</td>\n",
       "      <td>36.523586</td>\n",
       "      <td>0.339203</td>\n",
       "      <td>1.956177</td>\n",
       "      <td>0.291408</td>\n",
       "      <td>2.565245</td>\n",
       "      <td>0.534915</td>\n",
       "    </tr>\n",
       "    <tr>\n",
       "      <th>96-7</th>\n",
       "      <td>B07</td>\n",
       "      <td>SYBR</td>\n",
       "      <td>mCherry</td>\n",
       "      <td>Unkn-07</td>\n",
       "      <td>NaN</td>\n",
       "      <td>30.213463</td>\n",
       "      <td>30.166750</td>\n",
       "      <td>0.189795</td>\n",
       "      <td>160.359048</td>\n",
       "      <td>2.205093</td>\n",
       "      <td>166.236455</td>\n",
       "      <td>21.157494</td>\n",
       "    </tr>\n",
       "    <tr>\n",
       "      <th>96-10</th>\n",
       "      <td>B10</td>\n",
       "      <td>SYBR</td>\n",
       "      <td>mCherry</td>\n",
       "      <td>Unkn-10</td>\n",
       "      <td>NaN</td>\n",
       "      <td>36.364948</td>\n",
       "      <td>35.830884</td>\n",
       "      <td>0.556779</td>\n",
       "      <td>2.802553</td>\n",
       "      <td>0.447554</td>\n",
       "      <td>4.164997</td>\n",
       "      <td>1.530487</td>\n",
       "    </tr>\n",
       "  </tbody>\n",
       "</table>\n",
       "</div>"
      ],
      "text/plain": [
       "       Well Fluor   Target  Content  Biological Set Name         Cq    Cq Mean  Cq Std. Dev  Starting Quantity (SQ)  Log Starting Quantity     SQ Mean  SQ Std. Dev\n",
       "Sample                                                                                                                                                             \n",
       "96-7    A07  SYBR  mCherry  Unkn-07                  NaN  30.328827  30.166750     0.189795              148.639053               2.172133  166.236455    21.157494\n",
       "96-10   A10  SYBR  mCherry  Unkn-10                  NaN  35.873826  35.830884     0.556779                3.871437               0.587872    4.164997     1.530487\n",
       "96-11   A11  SYBR  mCherry  Unkn-11                  NaN  36.911466  36.523586     0.339203                1.956177               0.291408    2.565245     0.534915\n",
       "96-7    B07  SYBR  mCherry  Unkn-07                  NaN  30.213463  30.166750     0.189795              160.359048               2.205093  166.236455    21.157494\n",
       "96-10   B10  SYBR  mCherry  Unkn-10                  NaN  36.364948  35.830884     0.556779                2.802553               0.447554    4.164997     1.530487"
      ]
     },
     "execution_count": 4,
     "metadata": {},
     "output_type": "execute_result"
    }
   ],
   "source": [
    "infile = \"../preprocessed_data/qPCR_data/qPCR_stable_cell_line.csv\"\n",
    "\n",
    "cq_raw = pd.read_csv(infile, header=0)\n",
    "\n",
    "columns_to_drop = [\"Unnamed: 0\", \"Well Note\", \"Set Point\"]\n",
    "cq_raw.drop(columns_to_drop, axis=1, inplace=True)\n",
    "\n",
    "cq_raw = cq_raw.set_index(\"Sample\")\n",
    "\n",
    "print(cq_raw.shape)\n",
    "cq_raw.head()"
   ]
  },
  {
   "cell_type": "markdown",
   "metadata": {
    "Collapsed": "false"
   },
   "source": [
    "# Preprocess data"
   ]
  },
  {
   "cell_type": "markdown",
   "metadata": {
    "Collapsed": "false"
   },
   "source": [
    "## Calculate total starting molecules"
   ]
  },
  {
   "cell_type": "code",
   "execution_count": 5,
   "metadata": {
    "Collapsed": "false"
   },
   "outputs": [],
   "source": [
    "# Calculate normalization for input volume\n",
    "DILUTION_FACTORS = (400/140) * (42/20) * (61/10) * (20/1)"
   ]
  },
  {
   "cell_type": "code",
   "execution_count": 6,
   "metadata": {
    "Collapsed": "false"
   },
   "outputs": [],
   "source": [
    "# Back-calculate input RNA molecules, given <100% efficiency of extraction, DNase, RT, as measured based on RNA standard\n",
    "\n",
    "PROTOCOL_EFFICIENCY = 0.005957820738  # Efficiency of extraction, DNase, RT"
   ]
  },
  {
   "cell_type": "code",
   "execution_count": 7,
   "metadata": {
    "Collapsed": "false"
   },
   "outputs": [],
   "source": [
    "# Calculate total RNA molecules in supernatant\n",
    "cq_raw[\"RNA molecules\"] = cq_raw[\"Starting Quantity (SQ)\"] * DILUTION_FACTORS * (1/PROTOCOL_EFFICIENCY)\n",
    "cq_raw[\"RNA molecules Mean\"] = cq_raw[\"SQ Mean\"] * DILUTION_FACTORS * (1/PROTOCOL_EFFICIENCY)\n",
    "cq_raw[\"RNA molecules STD\"] = cq_raw[\"SQ Std. Dev\"] * DILUTION_FACTORS * (1/PROTOCOL_EFFICIENCY)"
   ]
  },
  {
   "cell_type": "markdown",
   "metadata": {
    "Collapsed": "false"
   },
   "source": [
    "## Summarize replicates"
   ]
  },
  {
   "cell_type": "code",
   "execution_count": 8,
   "metadata": {
    "Collapsed": "false"
   },
   "outputs": [
    {
     "data": {
      "text/html": [
       "<div>\n",
       "<style scoped>\n",
       "    .dataframe tbody tr th:only-of-type {\n",
       "        vertical-align: middle;\n",
       "    }\n",
       "\n",
       "    .dataframe tbody tr th {\n",
       "        vertical-align: top;\n",
       "    }\n",
       "\n",
       "    .dataframe thead th {\n",
       "        text-align: right;\n",
       "    }\n",
       "</style>\n",
       "<table border=\"1\" class=\"dataframe\">\n",
       "  <thead>\n",
       "    <tr style=\"text-align: right;\">\n",
       "      <th></th>\n",
       "      <th>mean SQ</th>\n",
       "      <th>std SQ</th>\n",
       "      <th>RNA molecules</th>\n",
       "      <th>RNA molecules STD</th>\n",
       "    </tr>\n",
       "    <tr>\n",
       "      <th>Sample</th>\n",
       "      <th></th>\n",
       "      <th></th>\n",
       "      <th></th>\n",
       "      <th></th>\n",
       "    </tr>\n",
       "  </thead>\n",
       "  <tbody>\n",
       "    <tr>\n",
       "      <th>96-10</th>\n",
       "      <td>4.164997</td>\n",
       "      <td>1.530487</td>\n",
       "      <td>5.117270e+05</td>\n",
       "      <td>1.880413e+05</td>\n",
       "    </tr>\n",
       "    <tr>\n",
       "      <th>96-11</th>\n",
       "      <td>2.565245</td>\n",
       "      <td>0.534915</td>\n",
       "      <td>3.151756e+05</td>\n",
       "      <td>6.572161e+04</td>\n",
       "    </tr>\n",
       "    <tr>\n",
       "      <th>96-7</th>\n",
       "      <td>166.236455</td>\n",
       "      <td>21.157494</td>\n",
       "      <td>2.042443e+07</td>\n",
       "      <td>2.599488e+06</td>\n",
       "    </tr>\n",
       "  </tbody>\n",
       "</table>\n",
       "</div>"
      ],
      "text/plain": [
       "           mean SQ     std SQ  RNA molecules  RNA molecules STD\n",
       "Sample                                                         \n",
       "96-10     4.164997   1.530487   5.117270e+05       1.880413e+05\n",
       "96-11     2.565245   0.534915   3.151756e+05       6.572161e+04\n",
       "96-7    166.236455  21.157494   2.042443e+07       2.599488e+06"
      ]
     },
     "execution_count": 8,
     "metadata": {},
     "output_type": "execute_result"
    }
   ],
   "source": [
    "groups = cq_raw.groupby([\"Sample\"])  # group samples by origin\n",
    "\n",
    "summary = pd.DataFrame()\n",
    "\n",
    "summary[\"mean SQ\"] = groups[\"Starting Quantity (SQ)\"].mean()  # Calculate mean over replicates\n",
    "summary[\"std SQ\"] = groups[\"Starting Quantity (SQ)\"].std()  # Calculate mean over replicates\n",
    "\n",
    "summary[\"RNA molecules\"] = groups[\"RNA molecules\"].mean()\n",
    "summary[\"RNA molecules STD\"] = groups[\"RNA molecules STD\"].mean()\n",
    "\n",
    "summary"
   ]
  },
  {
   "cell_type": "markdown",
   "metadata": {
    "Collapsed": "false"
   },
   "source": [
    "## Censor by lower limit of quantification"
   ]
  },
  {
   "cell_type": "code",
   "execution_count": 9,
   "metadata": {
    "Collapsed": "false"
   },
   "outputs": [
    {
     "name": "stdout",
     "output_type": "stream",
     "text": [
      "Lower limit of quantification: 363519.53231284645\n"
     ]
    }
   ],
   "source": [
    "# Lower limit of quantification is set based on maximum signal from negative control (HEK293T) wells.\n",
    "\n",
    "LOD = cq_raw.loc[\"96-11\", \"RNA molecules\"].max()\n",
    "\n",
    "print(\"Lower limit of quantification:\", LOD)"
   ]
  },
  {
   "cell_type": "code",
   "execution_count": 10,
   "metadata": {
    "Collapsed": "false"
   },
   "outputs": [],
   "source": [
    "# Substitute LOD for values below LOD\n",
    "\n",
    "cq_raw[\"RNA molecules censored\"] = cq_raw[\"RNA molecules\"]\n",
    "cq_raw.loc[cq_raw[\"RNA molecules\"] < LOD, \"RNA molecules censored\"] = LOD\n",
    "\n",
    "summary[\"RNA molecules censored\"] = summary[\"RNA molecules\"]\n",
    "summary.loc[summary[\"RNA molecules\"] < LOD, \"RNA molecules censored\"] = LOD"
   ]
  },
  {
   "cell_type": "markdown",
   "metadata": {
    "Collapsed": "false"
   },
   "source": [
    "# Visualize RNA export via stable genomic integration of exporter"
   ]
  },
  {
   "cell_type": "code",
   "execution_count": 11,
   "metadata": {
    "Collapsed": "false"
   },
   "outputs": [],
   "source": [
    "# Choose samples\n",
    "index_ordered = [\"96-7\", \"96-10\"]"
   ]
  },
  {
   "cell_type": "code",
   "execution_count": 12,
   "metadata": {
    "Collapsed": "false"
   },
   "outputs": [
    {
     "name": "stdout",
     "output_type": "stream",
     "text": [
      "(2, 5)\n"
     ]
    },
    {
     "data": {
      "text/html": [
       "<div>\n",
       "<style scoped>\n",
       "    .dataframe tbody tr th:only-of-type {\n",
       "        vertical-align: middle;\n",
       "    }\n",
       "\n",
       "    .dataframe tbody tr th {\n",
       "        vertical-align: top;\n",
       "    }\n",
       "\n",
       "    .dataframe thead th {\n",
       "        text-align: right;\n",
       "    }\n",
       "</style>\n",
       "<table border=\"1\" class=\"dataframe\">\n",
       "  <thead>\n",
       "    <tr style=\"text-align: right;\">\n",
       "      <th></th>\n",
       "      <th>mean SQ</th>\n",
       "      <th>std SQ</th>\n",
       "      <th>RNA molecules</th>\n",
       "      <th>RNA molecules STD</th>\n",
       "      <th>RNA molecules censored</th>\n",
       "    </tr>\n",
       "    <tr>\n",
       "      <th>Sample</th>\n",
       "      <th></th>\n",
       "      <th></th>\n",
       "      <th></th>\n",
       "      <th></th>\n",
       "      <th></th>\n",
       "    </tr>\n",
       "  </thead>\n",
       "  <tbody>\n",
       "    <tr>\n",
       "      <th>96-7</th>\n",
       "      <td>166.236455</td>\n",
       "      <td>21.157494</td>\n",
       "      <td>2.042443e+07</td>\n",
       "      <td>2.599488e+06</td>\n",
       "      <td>2.042443e+07</td>\n",
       "    </tr>\n",
       "    <tr>\n",
       "      <th>96-10</th>\n",
       "      <td>4.164997</td>\n",
       "      <td>1.530487</td>\n",
       "      <td>5.117270e+05</td>\n",
       "      <td>1.880413e+05</td>\n",
       "      <td>5.117270e+05</td>\n",
       "    </tr>\n",
       "  </tbody>\n",
       "</table>\n",
       "</div>"
      ],
      "text/plain": [
       "           mean SQ     std SQ  RNA molecules  RNA molecules STD  RNA molecules censored\n",
       "Sample                                                                                 \n",
       "96-7    166.236455  21.157494   2.042443e+07       2.599488e+06            2.042443e+07\n",
       "96-10     4.164997   1.530487   5.117270e+05       1.880413e+05            5.117270e+05"
      ]
     },
     "execution_count": 12,
     "metadata": {},
     "output_type": "execute_result"
    }
   ],
   "source": [
    "# Get data of summary across replicates of selected wells\n",
    "summary_subset = summary.loc[index_ordered]\n",
    "\n",
    "# Set label\n",
    "# summary_subset[\"label\"] = [column_to_label[col] for col in columns_ordered]\n",
    "\n",
    "print(summary_subset.shape)\n",
    "summary_subset"
   ]
  },
  {
   "cell_type": "code",
   "execution_count": 13,
   "metadata": {
    "Collapsed": "false"
   },
   "outputs": [
    {
     "name": "stdout",
     "output_type": "stream",
     "text": [
      "(6, 17)\n"
     ]
    },
    {
     "data": {
      "text/html": [
       "<div>\n",
       "<style scoped>\n",
       "    .dataframe tbody tr th:only-of-type {\n",
       "        vertical-align: middle;\n",
       "    }\n",
       "\n",
       "    .dataframe tbody tr th {\n",
       "        vertical-align: top;\n",
       "    }\n",
       "\n",
       "    .dataframe thead th {\n",
       "        text-align: right;\n",
       "    }\n",
       "</style>\n",
       "<table border=\"1\" class=\"dataframe\">\n",
       "  <thead>\n",
       "    <tr style=\"text-align: right;\">\n",
       "      <th></th>\n",
       "      <th>Sample</th>\n",
       "      <th>Well</th>\n",
       "      <th>Fluor</th>\n",
       "      <th>Target</th>\n",
       "      <th>Content</th>\n",
       "      <th>Biological Set Name</th>\n",
       "      <th>Cq</th>\n",
       "      <th>Cq Mean</th>\n",
       "      <th>Cq Std. Dev</th>\n",
       "      <th>Starting Quantity (SQ)</th>\n",
       "      <th>Log Starting Quantity</th>\n",
       "      <th>SQ Mean</th>\n",
       "      <th>SQ Std. Dev</th>\n",
       "      <th>RNA molecules</th>\n",
       "      <th>RNA molecules Mean</th>\n",
       "      <th>RNA molecules STD</th>\n",
       "      <th>RNA molecules censored</th>\n",
       "    </tr>\n",
       "  </thead>\n",
       "  <tbody>\n",
       "    <tr>\n",
       "      <th>0</th>\n",
       "      <td>96-7</td>\n",
       "      <td>A07</td>\n",
       "      <td>SYBR</td>\n",
       "      <td>mCherry</td>\n",
       "      <td>Unkn-07</td>\n",
       "      <td>NaN</td>\n",
       "      <td>30.328827</td>\n",
       "      <td>30.166750</td>\n",
       "      <td>0.189795</td>\n",
       "      <td>148.639053</td>\n",
       "      <td>2.172133</td>\n",
       "      <td>166.236455</td>\n",
       "      <td>21.157494</td>\n",
       "      <td>1.826235e+07</td>\n",
       "      <td>2.042443e+07</td>\n",
       "      <td>2.599488e+06</td>\n",
       "      <td>1.826235e+07</td>\n",
       "    </tr>\n",
       "    <tr>\n",
       "      <th>1</th>\n",
       "      <td>96-10</td>\n",
       "      <td>A10</td>\n",
       "      <td>SYBR</td>\n",
       "      <td>mCherry</td>\n",
       "      <td>Unkn-10</td>\n",
       "      <td>NaN</td>\n",
       "      <td>35.873826</td>\n",
       "      <td>35.830884</td>\n",
       "      <td>0.556779</td>\n",
       "      <td>3.871437</td>\n",
       "      <td>0.587872</td>\n",
       "      <td>4.164997</td>\n",
       "      <td>1.530487</td>\n",
       "      <td>4.756591e+05</td>\n",
       "      <td>5.117270e+05</td>\n",
       "      <td>1.880413e+05</td>\n",
       "      <td>4.756591e+05</td>\n",
       "    </tr>\n",
       "    <tr>\n",
       "      <th>2</th>\n",
       "      <td>96-7</td>\n",
       "      <td>B07</td>\n",
       "      <td>SYBR</td>\n",
       "      <td>mCherry</td>\n",
       "      <td>Unkn-07</td>\n",
       "      <td>NaN</td>\n",
       "      <td>30.213463</td>\n",
       "      <td>30.166750</td>\n",
       "      <td>0.189795</td>\n",
       "      <td>160.359048</td>\n",
       "      <td>2.205093</td>\n",
       "      <td>166.236455</td>\n",
       "      <td>21.157494</td>\n",
       "      <td>1.970231e+07</td>\n",
       "      <td>2.042443e+07</td>\n",
       "      <td>2.599488e+06</td>\n",
       "      <td>1.970231e+07</td>\n",
       "    </tr>\n",
       "    <tr>\n",
       "      <th>3</th>\n",
       "      <td>96-10</td>\n",
       "      <td>B10</td>\n",
       "      <td>SYBR</td>\n",
       "      <td>mCherry</td>\n",
       "      <td>Unkn-10</td>\n",
       "      <td>NaN</td>\n",
       "      <td>36.364948</td>\n",
       "      <td>35.830884</td>\n",
       "      <td>0.556779</td>\n",
       "      <td>2.802553</td>\n",
       "      <td>0.447554</td>\n",
       "      <td>4.164997</td>\n",
       "      <td>1.530487</td>\n",
       "      <td>3.443320e+05</td>\n",
       "      <td>5.117270e+05</td>\n",
       "      <td>1.880413e+05</td>\n",
       "      <td>3.635195e+05</td>\n",
       "    </tr>\n",
       "    <tr>\n",
       "      <th>4</th>\n",
       "      <td>96-7</td>\n",
       "      <td>C07</td>\n",
       "      <td>SYBR</td>\n",
       "      <td>mCherry</td>\n",
       "      <td>Unkn-07</td>\n",
       "      <td>NaN</td>\n",
       "      <td>29.957960</td>\n",
       "      <td>30.166750</td>\n",
       "      <td>0.189795</td>\n",
       "      <td>189.711264</td>\n",
       "      <td>2.278093</td>\n",
       "      <td>166.236455</td>\n",
       "      <td>21.157494</td>\n",
       "      <td>2.330863e+07</td>\n",
       "      <td>2.042443e+07</td>\n",
       "      <td>2.599488e+06</td>\n",
       "      <td>2.330863e+07</td>\n",
       "    </tr>\n",
       "  </tbody>\n",
       "</table>\n",
       "</div>"
      ],
      "text/plain": [
       "  Sample Well Fluor   Target  Content  Biological Set Name         Cq    Cq Mean  Cq Std. Dev  Starting Quantity (SQ)  Log Starting Quantity     SQ Mean  SQ Std. Dev  RNA molecules  RNA molecules Mean  RNA molecules STD  RNA molecules censored\n",
       "0   96-7  A07  SYBR  mCherry  Unkn-07                  NaN  30.328827  30.166750     0.189795              148.639053               2.172133  166.236455    21.157494   1.826235e+07        2.042443e+07       2.599488e+06            1.826235e+07\n",
       "1  96-10  A10  SYBR  mCherry  Unkn-10                  NaN  35.873826  35.830884     0.556779                3.871437               0.587872    4.164997     1.530487   4.756591e+05        5.117270e+05       1.880413e+05            4.756591e+05\n",
       "2   96-7  B07  SYBR  mCherry  Unkn-07                  NaN  30.213463  30.166750     0.189795              160.359048               2.205093  166.236455    21.157494   1.970231e+07        2.042443e+07       2.599488e+06            1.970231e+07\n",
       "3  96-10  B10  SYBR  mCherry  Unkn-10                  NaN  36.364948  35.830884     0.556779                2.802553               0.447554    4.164997     1.530487   3.443320e+05        5.117270e+05       1.880413e+05            3.635195e+05\n",
       "4   96-7  C07  SYBR  mCherry  Unkn-07                  NaN  29.957960  30.166750     0.189795              189.711264               2.278093  166.236455    21.157494   2.330863e+07        2.042443e+07       2.599488e+06            2.330863e+07"
      ]
     },
     "execution_count": 13,
     "metadata": {},
     "output_type": "execute_result"
    }
   ],
   "source": [
    "# Get data of replicates of selected wells\n",
    "selector = cq_raw.index.isin(index_ordered)\n",
    "data = cq_raw.loc[selector]\n",
    "\n",
    "data = data.reset_index()\n",
    "\n",
    "print(data.shape)\n",
    "data.head()"
   ]
  },
  {
   "cell_type": "code",
   "execution_count": 14,
   "metadata": {
    "Collapsed": "false"
   },
   "outputs": [
    {
     "name": "stderr",
     "output_type": "stream",
     "text": [
      "findfont: Font family ['cursive'] not found. Falling back to DejaVu Sans.\n"
     ]
    },
    {
     "data": {
      "image/png": "[encoded data removed]",
      "text/plain": [
       "<Figure size 150x225 with 1 Axes>"
      ]
     },
     "metadata": {},
     "output_type": "display_data"
    }
   ],
   "source": [
    "# Make simple swarm plot with smaller height\n",
    "\n",
    "field = \"RNA molecules censored\"\n",
    "\n",
    "fig, ax = plt.subplots(1, 1, figsize=(0.5, 0.75))\n",
    "\n",
    "# Set axis scaling - must be done first so swarm plot dots do not overlap\n",
    "ax.set_yscale(\"log\")\n",
    "ax.set_ylim(1e5, 1e8)\n",
    "\n",
    "# Plot summary\n",
    "\n",
    "y = summary_subset[field]\n",
    "x = np.arange(len(y))\n",
    "\n",
    "sns.scatterplot(ax=ax, x=x, y=y, marker=\"_\", s=150, color=\"#e082b5\")\n",
    "\n",
    "# Plot individual points as swarm (sort columns appropriately)\n",
    "\n",
    "sample_to_rank = dict(zip(index_ordered, range(len(index_ordered))))\n",
    "data[\"rank\"] = [sample_to_rank[s] for s in data[\"Sample\"]]\n",
    "data = data.sort_values(by=\"rank\")\n",
    "\n",
    "y_swarm = data[field]\n",
    "x_swarm = np.array([x[rank] for rank in data[\"rank\"]])\n",
    "\n",
    "x_offset = np.array([-0.15, 0, 0.15])  # jitter offsets to avoid operlaps\n",
    "x_swarm_offset = x_swarm + np.tile(x_offset, int(len(x_swarm)/len(x_offset)))\n",
    "\n",
    "ax.scatter(x_swarm_offset, y_swarm, color=\"#252525\", s=2, zorder=10)\n",
    "\n",
    "ax.set_xlim(min(x)-0.5, max(x)+0.5)\n",
    "\n",
    "ax.set_ylabel(\"Reporter RNA\\nmolecules in\\nsupernatant\", labelpad=2)\n",
    "\n",
    "locmaj = mpl.ticker.LogLocator(base=10,numticks=12) \n",
    "ax.yaxis.set_major_locator(locmaj)\n",
    "\n",
    "locmin = mpl.ticker.LogLocator(base=10.0,subs=(0.2,0.4,0.6,0.8),numticks=12)\n",
    "ax.yaxis.set_minor_locator(locmin)\n",
    "ax.yaxis.set_minor_formatter(mpl.ticker.NullFormatter())\n",
    "\n",
    "# ax.set_yticks([1, 10, 100, 1000])\n",
    "# ax.set_yticklabels([1, 10, r\"$10^2$\", r\"$10^3$\"])\n",
    "\n",
    "ax.set_xticks([0, 1])\n",
    "xticklabels = [\"+\", \"-\"]\n",
    "ax.set_xticklabels(xticklabels)\n",
    "\n",
    "ax.text(-0.6, 3e4, \"Exporter\", ha=\"right\", va=\"top\", size=FONTSIZE)\n",
    "\n",
    "ax.set_xlabel(\"\")\n",
    "\n",
    "LOD = cq_raw.loc[\"96-11\", \"RNA molecules censored\"].max()\n",
    "ax.axhline(LOD, ls=\"--\", color=\"k\", lw=0.5, zorder=-1)\n",
    "\n",
    "sns.despine()\n",
    "\n",
    "save_figure(fig, \"export_from_stable_HEK293\")"
   ]
  },
  {
   "cell_type": "code",
   "execution_count": 15,
   "metadata": {
    "Collapsed": "false"
   },
   "outputs": [
    {
     "name": "stdout",
     "output_type": "stream",
     "text": [
      "Fold enrichment: 39.912744454393895\n"
     ]
    }
   ],
   "source": [
    "# Report enrichment\n",
    "print(\"Fold enrichment:\", summary.loc[\"96-7\", \"RNA molecules censored\"] / summary.loc[\"96-10\", \"RNA molecules censored\"])"
   ]
  },
  {
   "cell_type": "code",
   "execution_count": null,
   "metadata": {
    "Collapsed": "false"
   },
   "outputs": [],
   "source": []
  }
 ],
 "metadata": {
  "kernelspec": {
   "display_name": "RNA_export_magic",
   "language": "python",
   "name": "rna_export_magic"
  },
  "language_info": {
   "codemirror_mode": {
    "name": "ipython",
    "version": 3
   },
   "file_extension": ".py",
   "mimetype": "text/x-python",
   "name": "python",
   "nbconvert_exporter": "python",
   "pygments_lexer": "ipython3",
   "version": "3.7.7"
  }
 },
 "nbformat": 4,
 "nbformat_minor": 4
}
