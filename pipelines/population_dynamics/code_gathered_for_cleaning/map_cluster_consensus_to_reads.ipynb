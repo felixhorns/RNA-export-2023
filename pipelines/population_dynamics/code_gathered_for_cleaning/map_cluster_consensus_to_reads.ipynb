{
 "cells": [
  {
   "cell_type": "markdown",
   "metadata": {
    "Collapsed": "false"
   },
   "source": [
    "# Title"
   ]
  },
  {
   "cell_type": "markdown",
   "metadata": {
    "Collapsed": "false",
    "toc-hr-collapsed": false
   },
   "source": [
    "# Introduction"
   ]
  },
  {
   "cell_type": "markdown",
   "metadata": {
    "Collapsed": "false"
   },
   "source": [
    "State notebook purpose here."
   ]
  },
  {
   "cell_type": "markdown",
   "metadata": {
    "Collapsed": "false"
   },
   "source": [
    "## Imports"
   ]
  },
  {
   "cell_type": "code",
   "execution_count": 1,
   "metadata": {
    "Collapsed": "false"
   },
   "outputs": [],
   "source": [
    "import sys\n",
    "import os\n",
    "import time\n",
    "import copy\n",
    "import random\n",
    "import math\n",
    "import itertools\n",
    "\n",
    "import numpy as np\n",
    "import scipy\n",
    "import pandas as pd\n",
    "\n",
    "# Set pandas display options\n",
    "pd.set_option('display.max_rows', 30)\n",
    "pd.set_option('display.max_columns', 100)\n",
    "pd.set_option('display.width', 1000)\n",
    "\n",
    "%matplotlib inline\n",
    "from matplotlib import pyplot as plt\n",
    "import matplotlib as mpl\n",
    "import seaborn as sns\n",
    "\n",
    "# Set plot display options\n",
    "params = {\n",
    "    'font.size': 12,\n",
    "    'axes.titlesize': 12,\n",
    "    'axes.labelsize': 12,\n",
    "    'legend.fontsize': 12,\n",
    "    'xtick.labelsize': 12,\n",
    "    'ytick.labelsize': 12,\n",
    "    'font.family': \"Helvetica\",\n",
    "    'pdf.fonttype': 42,\n",
    "    'ps.fonttype': 42,\n",
    "    'figure.dpi': 300\n",
    "   }\n",
    "mpl.rcParams.update(params)\n",
    "sns.set_style(\"ticks\", {'axes.grid' : False})\n",
    "\n",
    "# Set plot output options\n",
    "output_dir = \"outs/\"\n",
    "output_suffix = \"\"\n",
    "output_formats = [\".png\", \".pdf\"]\n",
    "\n",
    "mpl.rc('savefig', dpi=300)\n",
    "\n",
    "# Define convenience function for saving figures\n",
    "\n",
    "savefig = True\n",
    "savefig_args = {\"dpi\": 300, \"bbox_inches\": \"tight\", \"pad_inches\": 0.1}\n",
    "\n",
    "def save_figure(fig, name, output_dir=output_dir, output_suffix=output_suffix, output_formats=output_formats, savefig_args=savefig_args):\n",
    "    if savefig:\n",
    "        for output_format in output_formats:\n",
    "            fig.savefig(output_dir + \"/\" + name + output_suffix + output_format, **savefig_args)\n",
    "    return None"
   ]
  },
  {
   "cell_type": "code",
   "execution_count": 2,
   "metadata": {
    "Collapsed": "false"
   },
   "outputs": [],
   "source": [
    "# import additional libraries and settings here\n",
    "import glob"
   ]
  },
  {
   "cell_type": "markdown",
   "metadata": {
    "Collapsed": "false"
   },
   "source": [
    "# Load data"
   ]
  },
  {
   "cell_type": "markdown",
   "metadata": {
    "Collapsed": "false"
   },
   "source": [
    "State data here."
   ]
  },
  {
   "cell_type": "code",
   "execution_count": 3,
   "metadata": {
    "Collapsed": "false"
   },
   "outputs": [
    {
     "name": "stdout",
     "output_type": "stream",
     "text": [
      "(5453959, 4)\n",
      "CPU times: user 4.85 s, sys: 518 ms, total: 5.37 s\n",
      "Wall time: 5.37 s\n"
     ]
    },
    {
     "data": {
      "text/html": [
       "<div>\n",
       "<style scoped>\n",
       "    .dataframe tbody tr th:only-of-type {\n",
       "        vertical-align: middle;\n",
       "    }\n",
       "\n",
       "    .dataframe tbody tr th {\n",
       "        vertical-align: top;\n",
       "    }\n",
       "\n",
       "    .dataframe thead th {\n",
       "        text-align: right;\n",
       "    }\n",
       "</style>\n",
       "<table border=\"1\" class=\"dataframe\">\n",
       "  <thead>\n",
       "    <tr style=\"text-align: right;\">\n",
       "      <th></th>\n",
       "      <th>lib</th>\n",
       "      <th>library_barcode_call</th>\n",
       "      <th>clone_barcode</th>\n",
       "      <th>count</th>\n",
       "    </tr>\n",
       "  </thead>\n",
       "  <tbody>\n",
       "    <tr>\n",
       "      <th>0</th>\n",
       "      <td>sFH11-1</td>\n",
       "      <td>LB1</td>\n",
       "      <td>AGACAGTGTGACAGTGTGTGACTCTGA</td>\n",
       "      <td>552</td>\n",
       "    </tr>\n",
       "    <tr>\n",
       "      <th>1</th>\n",
       "      <td>sFH11-1</td>\n",
       "      <td>LB1</td>\n",
       "      <td>TGAGAGTGTCTGACTCAGTCTCTGTGT</td>\n",
       "      <td>510</td>\n",
       "    </tr>\n",
       "    <tr>\n",
       "      <th>2</th>\n",
       "      <td>sFH11-1</td>\n",
       "      <td>LB1</td>\n",
       "      <td>AGAGTCTGACTCACTCAGTGTCTGTCT</td>\n",
       "      <td>465</td>\n",
       "    </tr>\n",
       "    <tr>\n",
       "      <th>3</th>\n",
       "      <td>sFH11-1</td>\n",
       "      <td>LB1</td>\n",
       "      <td>TGTCTGAGTCTGTCTGTGTCACTGTCT</td>\n",
       "      <td>461</td>\n",
       "    </tr>\n",
       "    <tr>\n",
       "      <th>4</th>\n",
       "      <td>sFH11-1</td>\n",
       "      <td>LB1</td>\n",
       "      <td>ACTGTCTGTCAGACACTCTGTCACTCT</td>\n",
       "      <td>440</td>\n",
       "    </tr>\n",
       "  </tbody>\n",
       "</table>\n",
       "</div>"
      ],
      "text/plain": [
       "       lib library_barcode_call                clone_barcode  count\n",
       "0  sFH11-1                  LB1  AGACAGTGTGACAGTGTGTGACTCTGA    552\n",
       "1  sFH11-1                  LB1  TGAGAGTGTCTGACTCAGTCTCTGTGT    510\n",
       "2  sFH11-1                  LB1  AGAGTCTGACTCACTCAGTGTCTGTCT    465\n",
       "3  sFH11-1                  LB1  TGTCTGAGTCTGTCTGTGTCACTGTCT    461\n",
       "4  sFH11-1                  LB1  ACTGTCTGTCAGACACTCTGTCACTCT    440"
      ]
     },
     "execution_count": 3,
     "metadata": {},
     "output_type": "execute_result"
    }
   ],
   "source": [
    "%%time\n",
    "\n",
    "infile = \"/scratch/CellFreeReporter/analysis/Demo6/clones.tsv.gz\"\n",
    "\n",
    "counts_raw = pd.read_csv(infile, sep=\"\\t\", compression=\"gzip\")\n",
    "\n",
    "print(counts_raw.shape)\n",
    "counts_raw.head()"
   ]
  },
  {
   "cell_type": "markdown",
   "metadata": {
    "Collapsed": "false"
   },
   "source": [
    "# Subsample data for rapid iteration during development"
   ]
  },
  {
   "cell_type": "code",
   "execution_count": 4,
   "metadata": {
    "Collapsed": "false"
   },
   "outputs": [],
   "source": [
    "# counts_raw = counts_raw.sample(n=100000, random_state=0)"
   ]
  },
  {
   "cell_type": "markdown",
   "metadata": {
    "Collapsed": "false"
   },
   "source": [
    "# Build map from barcode to error-corrected consensus barcode"
   ]
  },
  {
   "cell_type": "code",
   "execution_count": 5,
   "metadata": {
    "Collapsed": "false"
   },
   "outputs": [
    {
     "name": "stdout",
     "output_type": "stream",
     "text": [
      "54 files\n"
     ]
    }
   ],
   "source": [
    "# Find input files\n",
    "\n",
    "infiles_dir = \"/scratch/CellFreeReporter/pipelines/220520_Demo6_consensus_error_correct_starcode\"\n",
    "\n",
    "infiles = sorted(glob.glob(infiles_dir + \"/*.out\"))\n",
    "\n",
    "print(len(infiles), \"files\")"
   ]
  },
  {
   "cell_type": "code",
   "execution_count": 6,
   "metadata": {
    "Collapsed": "false"
   },
   "outputs": [
    {
     "name": "stdout",
     "output_type": "stream",
     "text": [
      "5434262 items\n",
      "CPU times: user 8.05 s, sys: 712 ms, total: 8.76 s\n",
      "Wall time: 8.76 s\n"
     ]
    }
   ],
   "source": [
    "%%time\n",
    "\n",
    "# Build mapping from (sample, library barcode, clone barcode) to consensus barcode\n",
    "\n",
    "barcode_to_consensus = {}\n",
    "\n",
    "for infile in infiles:\n",
    "\n",
    "    lib = os.path.basename(infile).split(\".\")[1]  # Get library from filename\n",
    "    library_barcode = os.path.basename(infile).split(\".\")[2]  # Get viral library barcode from filename\n",
    "\n",
    "    with open(infile) as f:\n",
    "        for line in f:\n",
    "\n",
    "            fields = line.split(\"\\t\")\n",
    "\n",
    "            consensus = fields[0]  # consensus sequence of cluster\n",
    "            # count = int(fields[1])\n",
    "            members = fields[2].rstrip().split(\",\")  # members of cluster\n",
    "\n",
    "            key = (lib, library_barcode, consensus)\n",
    "            barcode_to_consensus[key] = consensus\n",
    "\n",
    "            for member in members:\n",
    "\n",
    "                key = (lib, library_barcode, member)\n",
    "                barcode_to_consensus[key] = consensus\n",
    "\n",
    "print(len(barcode_to_consensus), \"items\")"
   ]
  },
  {
   "cell_type": "markdown",
   "metadata": {
    "Collapsed": "false"
   },
   "source": [
    "# Map clone barcode to consensus error-corrected barcode"
   ]
  },
  {
   "cell_type": "code",
   "execution_count": 7,
   "metadata": {
    "Collapsed": "false"
   },
   "outputs": [],
   "source": [
    "counts_raw = counts_raw.set_index([\"lib\", \"library_barcode_call\", \"clone_barcode\"])"
   ]
  },
  {
   "cell_type": "code",
   "execution_count": 8,
   "metadata": {
    "Collapsed": "false"
   },
   "outputs": [],
   "source": [
    "keys = counts_raw.index"
   ]
  },
  {
   "cell_type": "code",
   "execution_count": 9,
   "metadata": {
    "Collapsed": "false"
   },
   "outputs": [
    {
     "name": "stdout",
     "output_type": "stream",
     "text": [
      "CPU times: user 7.28 s, sys: 537 ms, total: 7.82 s\n",
      "Wall time: 7.8 s\n"
     ]
    }
   ],
   "source": [
    "%%time\n",
    "\n",
    "# Map each clone barcode to consensus error-corrected clone barcode (actually do the mapping)\n",
    "\n",
    "clone_barcode_consensus = []\n",
    "\n",
    "for key in keys:\n",
    "        \n",
    "    try:\n",
    "        consensus = barcode_to_consensus[key]\n",
    "    except: \n",
    "        # consensus is not found, use barcode itself\n",
    "        consensus = key[2]\n",
    "    \n",
    "    clone_barcode_consensus.append(consensus)"
   ]
  },
  {
   "cell_type": "code",
   "execution_count": 10,
   "metadata": {
    "Collapsed": "false"
   },
   "outputs": [],
   "source": [
    "counts_raw[\"clone_barcode_consensus\"] = clone_barcode_consensus"
   ]
  },
  {
   "cell_type": "code",
   "execution_count": 11,
   "metadata": {
    "Collapsed": "false"
   },
   "outputs": [
    {
     "data": {
      "text/html": [
       "<div>\n",
       "<style scoped>\n",
       "    .dataframe tbody tr th:only-of-type {\n",
       "        vertical-align: middle;\n",
       "    }\n",
       "\n",
       "    .dataframe tbody tr th {\n",
       "        vertical-align: top;\n",
       "    }\n",
       "\n",
       "    .dataframe thead th {\n",
       "        text-align: right;\n",
       "    }\n",
       "</style>\n",
       "<table border=\"1\" class=\"dataframe\">\n",
       "  <thead>\n",
       "    <tr style=\"text-align: right;\">\n",
       "      <th></th>\n",
       "      <th></th>\n",
       "      <th></th>\n",
       "      <th>count</th>\n",
       "      <th>clone_barcode_consensus</th>\n",
       "    </tr>\n",
       "    <tr>\n",
       "      <th>lib</th>\n",
       "      <th>library_barcode_call</th>\n",
       "      <th>clone_barcode</th>\n",
       "      <th></th>\n",
       "      <th></th>\n",
       "    </tr>\n",
       "  </thead>\n",
       "  <tbody>\n",
       "    <tr>\n",
       "      <th rowspan=\"5\" valign=\"top\">sFH11-1</th>\n",
       "      <th rowspan=\"5\" valign=\"top\">LB1</th>\n",
       "      <th>AGACAGTGTGACAGTGTGTGACTCTGA</th>\n",
       "      <td>552</td>\n",
       "      <td>AGACAGTGTGACAGTGTGTGACTCTGA</td>\n",
       "    </tr>\n",
       "    <tr>\n",
       "      <th>TGAGAGTGTCTGACTCAGTCTCTGTGT</th>\n",
       "      <td>510</td>\n",
       "      <td>TGAGAGTGTCTGACTCAGTCTCTGTGT</td>\n",
       "    </tr>\n",
       "    <tr>\n",
       "      <th>AGAGTCTGACTCACTCAGTGTCTGTCT</th>\n",
       "      <td>465</td>\n",
       "      <td>AGAGTCTGACTCACTCAGTGTCTGTCT</td>\n",
       "    </tr>\n",
       "    <tr>\n",
       "      <th>TGTCTGAGTCTGTCTGTGTCACTGTCT</th>\n",
       "      <td>461</td>\n",
       "      <td>TGTCTGAGTCTGTCTGTGTCACTGTCT</td>\n",
       "    </tr>\n",
       "    <tr>\n",
       "      <th>ACTGTCTGTCAGACACTCTGTCACTCT</th>\n",
       "      <td>440</td>\n",
       "      <td>ACTGTCTGTCAGACACTCTGTCACTCT</td>\n",
       "    </tr>\n",
       "    <tr>\n",
       "      <th>...</th>\n",
       "      <th>...</th>\n",
       "      <th>...</th>\n",
       "      <td>...</td>\n",
       "      <td>...</td>\n",
       "    </tr>\n",
       "    <tr>\n",
       "      <th rowspan=\"5\" valign=\"top\">sFH12-9</th>\n",
       "      <th rowspan=\"5\" valign=\"top\">STD</th>\n",
       "      <th>TGTTTGGGAGTGGCAAGAACGGCATCG</th>\n",
       "      <td>1</td>\n",
       "      <td>TGTTTGGGAGTGGCAAGAACGGCATCG</td>\n",
       "    </tr>\n",
       "    <tr>\n",
       "      <th>TGTTTGGGTATTGTAAGACTATCCCTG</th>\n",
       "      <td>1</td>\n",
       "      <td>TGTTTGGGTATTGTAAGACTATCCCTG</td>\n",
       "    </tr>\n",
       "    <tr>\n",
       "      <th>TGTTTGTGCGTGGTCCGGCGGTCGCCT</th>\n",
       "      <td>1</td>\n",
       "      <td>TGTTTGTGCGTGGTCCGGCGGTCGCCT</td>\n",
       "    </tr>\n",
       "    <tr>\n",
       "      <th>TTAGGCGGGACTGTGAGAAAGAGAGGG</th>\n",
       "      <td>1</td>\n",
       "      <td>TTAGGCGGGACTGTGAGAAAGAGAGGG</td>\n",
       "    </tr>\n",
       "    <tr>\n",
       "      <th>TTCCGAGCGCCGTTAAGACGATTACTC</th>\n",
       "      <td>1</td>\n",
       "      <td>TTCCGAGCGCCGTTAAGACGATTACTC</td>\n",
       "    </tr>\n",
       "  </tbody>\n",
       "</table>\n",
       "<p>5453959 rows × 2 columns</p>\n",
       "</div>"
      ],
      "text/plain": [
       "                                                          count      clone_barcode_consensus\n",
       "lib     library_barcode_call clone_barcode                                                  \n",
       "sFH11-1 LB1                  AGACAGTGTGACAGTGTGTGACTCTGA    552  AGACAGTGTGACAGTGTGTGACTCTGA\n",
       "                             TGAGAGTGTCTGACTCAGTCTCTGTGT    510  TGAGAGTGTCTGACTCAGTCTCTGTGT\n",
       "                             AGAGTCTGACTCACTCAGTGTCTGTCT    465  AGAGTCTGACTCACTCAGTGTCTGTCT\n",
       "                             TGTCTGAGTCTGTCTGTGTCACTGTCT    461  TGTCTGAGTCTGTCTGTGTCACTGTCT\n",
       "                             ACTGTCTGTCAGACACTCTGTCACTCT    440  ACTGTCTGTCAGACACTCTGTCACTCT\n",
       "...                                                         ...                          ...\n",
       "sFH12-9 STD                  TGTTTGGGAGTGGCAAGAACGGCATCG      1  TGTTTGGGAGTGGCAAGAACGGCATCG\n",
       "                             TGTTTGGGTATTGTAAGACTATCCCTG      1  TGTTTGGGTATTGTAAGACTATCCCTG\n",
       "                             TGTTTGTGCGTGGTCCGGCGGTCGCCT      1  TGTTTGTGCGTGGTCCGGCGGTCGCCT\n",
       "                             TTAGGCGGGACTGTGAGAAAGAGAGGG      1  TTAGGCGGGACTGTGAGAAAGAGAGGG\n",
       "                             TTCCGAGCGCCGTTAAGACGATTACTC      1  TTCCGAGCGCCGTTAAGACGATTACTC\n",
       "\n",
       "[5453959 rows x 2 columns]"
      ]
     },
     "execution_count": 11,
     "metadata": {},
     "output_type": "execute_result"
    }
   ],
   "source": [
    "counts_raw"
   ]
  },
  {
   "cell_type": "markdown",
   "metadata": {
    "Collapsed": "false"
   },
   "source": [
    "# Sum counts for consensus error-corrected barcodes"
   ]
  },
  {
   "cell_type": "code",
   "execution_count": 12,
   "metadata": {
    "Collapsed": "false"
   },
   "outputs": [],
   "source": [
    "counts = counts_raw.reset_index().groupby([\"lib\", \"library_barcode_call\", \"clone_barcode_consensus\"])[\"count\"].sum()"
   ]
  },
  {
   "cell_type": "code",
   "execution_count": 13,
   "metadata": {
    "Collapsed": "false"
   },
   "outputs": [
    {
     "data": {
      "text/plain": [
       "lib       library_barcode_call  clone_barcode_consensus    \n",
       "sFH11-3   STD                   GACTGAGTCACTGTCAGACTGTCACTG    29569\n",
       "sFH11-2   STD                   GACTGAGTCACTGTCAGACTGTCACTG    24221\n",
       "sFH11-8   STD                   GACTGAGTCACTGTCAGACTGTCACTG    20619\n",
       "sFH11-9   STD                   GACTGAGTCACTGTCAGACTGTCACTG    17361\n",
       "sFH11-14  LB2                   TGTCAGACTGTCAGTGTCTGAGACTCT    17185\n",
       "                                                               ...  \n",
       "sFH11-21  LB2                   TGAGAGTCTCTGTGTGACAGTGAGTGT        1\n",
       "                                TGAGAGTCTCTGTGTGAGTCTCACTGT        1\n",
       "                                TGAGAGTCTCTGTGTGAGTGTCTCTGA        1\n",
       "                                TGAGAGTCTCTGTGTGTGTCAGACAGT        1\n",
       "sFH12-9   STD                   TTCCGAGCGCCGTTAAGACGATTACTC        1\n",
       "Name: count, Length: 4249646, dtype: int64"
      ]
     },
     "execution_count": 13,
     "metadata": {},
     "output_type": "execute_result"
    }
   ],
   "source": [
    "counts.sort_values(ascending=False)"
   ]
  },
  {
   "cell_type": "markdown",
   "metadata": {
    "Collapsed": "false"
   },
   "source": [
    "## Validate result"
   ]
  },
  {
   "cell_type": "markdown",
   "metadata": {
    "Collapsed": "false"
   },
   "source": [
    "Confirm that counts are the sum of cluster member counts."
   ]
  },
  {
   "cell_type": "code",
   "execution_count": 14,
   "metadata": {
    "Collapsed": "false"
   },
   "outputs": [],
   "source": [
    "# Index counts by consensus sequence for easy lookup for checking\n",
    "counts_raw_index_by_consensus = counts_raw.reset_index().set_index([\"lib\", \"library_barcode_call\", \"clone_barcode_consensus\"])"
   ]
  },
  {
   "cell_type": "code",
   "execution_count": 15,
   "metadata": {
    "Collapsed": "false"
   },
   "outputs": [
    {
     "data": {
      "text/plain": [
       "('sFH11-14', 'LB2', 'AGTCTCAGAGAGTGACTGAGACTCTGA')"
      ]
     },
     "execution_count": 15,
     "metadata": {},
     "output_type": "execute_result"
    }
   ],
   "source": [
    "index_query = counts.sort_values(ascending=False).index[6]\n",
    "index_query"
   ]
  },
  {
   "cell_type": "code",
   "execution_count": 16,
   "metadata": {
    "Collapsed": "false"
   },
   "outputs": [
    {
     "data": {
      "text/plain": [
       "16173"
      ]
     },
     "execution_count": 16,
     "metadata": {},
     "output_type": "execute_result"
    }
   ],
   "source": [
    "# Sum of cluster\n",
    "counts.loc[index_query]"
   ]
  },
  {
   "cell_type": "code",
   "execution_count": 17,
   "metadata": {
    "Collapsed": "false"
   },
   "outputs": [
    {
     "data": {
      "text/plain": [
       "count                                            14481\n",
       "clone_barcode_consensus    AGTCTCAGAGAGTGACTGAGACTCTGA\n",
       "Name: (sFH11-14, LB2, AGTCTCAGAGAGTGACTGAGACTCTGA), dtype: object"
      ]
     },
     "execution_count": 17,
     "metadata": {},
     "output_type": "execute_result"
    }
   ],
   "source": [
    "# Canonical sequence of cluster\n",
    "counts_raw.loc[index_query]"
   ]
  },
  {
   "cell_type": "code",
   "execution_count": 18,
   "metadata": {
    "Collapsed": "false"
   },
   "outputs": [
    {
     "name": "stderr",
     "output_type": "stream",
     "text": [
      "/scratch/resources/anaconda3/lib/python3.7/site-packages/ipykernel_launcher.py:2: PerformanceWarning: indexing past lexsort depth may impact performance.\n",
      "  \n"
     ]
    },
    {
     "data": {
      "text/html": [
       "<div>\n",
       "<style scoped>\n",
       "    .dataframe tbody tr th:only-of-type {\n",
       "        vertical-align: middle;\n",
       "    }\n",
       "\n",
       "    .dataframe tbody tr th {\n",
       "        vertical-align: top;\n",
       "    }\n",
       "\n",
       "    .dataframe thead th {\n",
       "        text-align: right;\n",
       "    }\n",
       "</style>\n",
       "<table border=\"1\" class=\"dataframe\">\n",
       "  <thead>\n",
       "    <tr style=\"text-align: right;\">\n",
       "      <th></th>\n",
       "      <th></th>\n",
       "      <th></th>\n",
       "      <th>clone_barcode</th>\n",
       "      <th>count</th>\n",
       "    </tr>\n",
       "    <tr>\n",
       "      <th>lib</th>\n",
       "      <th>library_barcode_call</th>\n",
       "      <th>clone_barcode_consensus</th>\n",
       "      <th></th>\n",
       "      <th></th>\n",
       "    </tr>\n",
       "  </thead>\n",
       "  <tbody>\n",
       "    <tr>\n",
       "      <th rowspan=\"11\" valign=\"top\">sFH11-14</th>\n",
       "      <th rowspan=\"11\" valign=\"top\">LB2</th>\n",
       "      <th>AGTCTCAGAGAGTGACTGAGACTCTGA</th>\n",
       "      <td>AGTCTCAGAGAGTGACTGAGACTCTGA</td>\n",
       "      <td>14481</td>\n",
       "    </tr>\n",
       "    <tr>\n",
       "      <th>AGTCTCAGAGAGTGACTGAGACTCTGA</th>\n",
       "      <td>AATCTCAGAGAGTGACTGAGACTCTGA</td>\n",
       "      <td>116</td>\n",
       "    </tr>\n",
       "    <tr>\n",
       "      <th>AGTCTCAGAGAGTGACTGAGACTCTGA</th>\n",
       "      <td>AGTCTCAGAGAGTGATTGAGACTCTGA</td>\n",
       "      <td>90</td>\n",
       "    </tr>\n",
       "    <tr>\n",
       "      <th>AGTCTCAGAGAGTGACTGAGACTCTGA</th>\n",
       "      <td>AGTCACAGAGAGTGACTGAGACTCTGA</td>\n",
       "      <td>73</td>\n",
       "    </tr>\n",
       "    <tr>\n",
       "      <th>AGTCTCAGAGAGTGACTGAGACTCTGA</th>\n",
       "      <td>AGTCTCAGAGAGTGACTGAGACTGTGA</td>\n",
       "      <td>72</td>\n",
       "    </tr>\n",
       "    <tr>\n",
       "      <th>...</th>\n",
       "      <td>...</td>\n",
       "      <td>...</td>\n",
       "    </tr>\n",
       "    <tr>\n",
       "      <th>AGTCTCAGAGAGTGACTGAGACTCTGA</th>\n",
       "      <td>TGTCTCAGAGAGTGTCTGAGACTGTGA</td>\n",
       "      <td>1</td>\n",
       "    </tr>\n",
       "    <tr>\n",
       "      <th>AGTCTCAGAGAGTGACTGAGACTCTGA</th>\n",
       "      <td>TGTCTCAGAGTGTGACTGAGACTCTGA</td>\n",
       "      <td>1</td>\n",
       "    </tr>\n",
       "    <tr>\n",
       "      <th>AGTCTCAGAGAGTGACTGAGACTCTGA</th>\n",
       "      <td>TGTGACAGAGAGTGACTGAGACTCTGA</td>\n",
       "      <td>1</td>\n",
       "    </tr>\n",
       "    <tr>\n",
       "      <th>AGTCTCAGAGAGTGACTGAGACTCTGA</th>\n",
       "      <td>TGTGTCAGAGAGTGACTGAGACTCTGA</td>\n",
       "      <td>1</td>\n",
       "    </tr>\n",
       "    <tr>\n",
       "      <th>AGTCTCAGAGAGTGACTGAGACTCTGA</th>\n",
       "      <td>TGTGTCAGAGAGTGACTGAGTCTCTGA</td>\n",
       "      <td>1</td>\n",
       "    </tr>\n",
       "  </tbody>\n",
       "</table>\n",
       "<p>387 rows × 2 columns</p>\n",
       "</div>"
      ],
      "text/plain": [
       "                                                                         clone_barcode  count\n",
       "lib      library_barcode_call clone_barcode_consensus                                        \n",
       "sFH11-14 LB2                  AGTCTCAGAGAGTGACTGAGACTCTGA  AGTCTCAGAGAGTGACTGAGACTCTGA  14481\n",
       "                              AGTCTCAGAGAGTGACTGAGACTCTGA  AATCTCAGAGAGTGACTGAGACTCTGA    116\n",
       "                              AGTCTCAGAGAGTGACTGAGACTCTGA  AGTCTCAGAGAGTGATTGAGACTCTGA     90\n",
       "                              AGTCTCAGAGAGTGACTGAGACTCTGA  AGTCACAGAGAGTGACTGAGACTCTGA     73\n",
       "                              AGTCTCAGAGAGTGACTGAGACTCTGA  AGTCTCAGAGAGTGACTGAGACTGTGA     72\n",
       "...                                                                                ...    ...\n",
       "                              AGTCTCAGAGAGTGACTGAGACTCTGA  TGTCTCAGAGAGTGTCTGAGACTGTGA      1\n",
       "                              AGTCTCAGAGAGTGACTGAGACTCTGA  TGTCTCAGAGTGTGACTGAGACTCTGA      1\n",
       "                              AGTCTCAGAGAGTGACTGAGACTCTGA  TGTGACAGAGAGTGACTGAGACTCTGA      1\n",
       "                              AGTCTCAGAGAGTGACTGAGACTCTGA  TGTGTCAGAGAGTGACTGAGACTCTGA      1\n",
       "                              AGTCTCAGAGAGTGACTGAGACTCTGA  TGTGTCAGAGAGTGACTGAGTCTCTGA      1\n",
       "\n",
       "[387 rows x 2 columns]"
      ]
     },
     "execution_count": 18,
     "metadata": {},
     "output_type": "execute_result"
    }
   ],
   "source": [
    "# Cluster members\n",
    "counts_raw_index_by_consensus.loc[index_query]"
   ]
  },
  {
   "cell_type": "code",
   "execution_count": 19,
   "metadata": {
    "Collapsed": "false"
   },
   "outputs": [],
   "source": [
    "# Looks reasonable"
   ]
  },
  {
   "cell_type": "markdown",
   "metadata": {
    "Collapsed": "false"
   },
   "source": [
    "# Reformat counts (sort rows)"
   ]
  },
  {
   "cell_type": "code",
   "execution_count": 20,
   "metadata": {
    "Collapsed": "false"
   },
   "outputs": [],
   "source": [
    "counts = counts.reset_index()"
   ]
  },
  {
   "cell_type": "code",
   "execution_count": 21,
   "metadata": {
    "Collapsed": "false"
   },
   "outputs": [],
   "source": [
    "# Set row order\n",
    "\n",
    "index_ordered = [\"sFH11-1\",\n",
    "                \"sFH11-2\",\n",
    "                \"sFH11-3\",\n",
    "                \"sFH11-4\",\n",
    "                \"sFH11-5\",\n",
    "                \"sFH11-6\",\n",
    "                \"sFH11-7\",\n",
    "                \"sFH11-8\",\n",
    "                \"sFH11-9\",\n",
    "                \"sFH11-10\",\n",
    "                \"sFH11-11\",\n",
    "                \"sFH11-12\",\n",
    "                \"sFH11-13\",\n",
    "                \"sFH11-14\",\n",
    "                \"sFH11-15\",\n",
    "                \"sFH11-16\",\n",
    "                \"sFH11-17\",\n",
    "                \"sFH11-18\",\n",
    "                \"sFH11-19\",\n",
    "                \"sFH11-20\",\n",
    "                \"sFH11-21\",\n",
    "                \"sFH12-9\",\n",
    "                \"sFH12-10\",\n",
    "                \"sFH12-11\",\n",
    "                \"sFH12-12\",\n",
    "                \"sFH12-13\",\n",
    "                \"sFH12-14\"]"
   ]
  },
  {
   "cell_type": "code",
   "execution_count": 22,
   "metadata": {
    "Collapsed": "false"
   },
   "outputs": [],
   "source": [
    "# Convert lib to categorical for sorting\n",
    "counts[\"lib\"] = pd.Categorical(counts[\"lib\"], categories=index_ordered, ordered=True)"
   ]
  },
  {
   "cell_type": "code",
   "execution_count": 26,
   "metadata": {
    "Collapsed": "false"
   },
   "outputs": [],
   "source": [
    "# Sort rows\n",
    "counts = counts.sort_values(by=[\"lib\", \"library_barcode_call\", \"count\"], ascending=[True, True, False])"
   ]
  },
  {
   "cell_type": "markdown",
   "metadata": {
    "Collapsed": "false"
   },
   "source": [
    "# Export to file"
   ]
  },
  {
   "cell_type": "code",
   "execution_count": 27,
   "metadata": {
    "Collapsed": "false"
   },
   "outputs": [
    {
     "name": "stdout",
     "output_type": "stream",
     "text": [
      "CPU times: user 2min 11s, sys: 367 ms, total: 2min 12s\n",
      "Wall time: 2min 12s\n"
     ]
    }
   ],
   "source": [
    "%%time\n",
    "\n",
    "outfile = \"/scratch/CellFreeReporter/analysis/Demo6/clones.error_corrected.tsv.gz\"\n",
    "\n",
    "counts.to_csv(outfile, sep=\"\\t\", header=True, index=False)"
   ]
  },
  {
   "cell_type": "code",
   "execution_count": null,
   "metadata": {
    "Collapsed": "false"
   },
   "outputs": [],
   "source": []
  }
 ],
 "metadata": {
  "kernelspec": {
   "display_name": "Python 3",
   "language": "python",
   "name": "python3"
  },
  "language_info": {
   "codemirror_mode": {
    "name": "ipython",
    "version": 3
   },
   "file_extension": ".py",
   "mimetype": "text/x-python",
   "name": "python",
   "nbconvert_exporter": "python",
   "pygments_lexer": "ipython3",
   "version": "3.7.7"
  }
 },
 "nbformat": 4,
 "nbformat_minor": 4
}
